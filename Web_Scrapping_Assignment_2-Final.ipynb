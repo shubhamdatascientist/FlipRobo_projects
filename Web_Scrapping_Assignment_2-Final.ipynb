{
 "cells": [
  {
   "cell_type": "markdown",
   "metadata": {},
   "source": [
    "# WEB SCRAPING ASSIGNMENT 2 SOLUTIONS"
   ]
  },
  {
   "cell_type": "markdown",
   "metadata": {},
   "source": [
    "## Q1: Write a python program to scrape data for “Data Analyst” Job position in “Bangalore” location. "
   ]
  },
  {
   "cell_type": "code",
   "execution_count": 366,
   "metadata": {},
   "outputs": [],
   "source": [
    "# Importing Libraries\n",
    "import pandas as pd\n",
    "from bs4 import BeautifulSoup\n",
    "import requests \n",
    "import selenium\n",
    "from selenium import webdriver\n",
    "import time"
   ]
  },
  {
   "cell_type": "code",
   "execution_count": 367,
   "metadata": {},
   "outputs": [],
   "source": [
    "#Connect to web driver\n",
    "driver = webdriver.Chrome(r\"C://chromedriver.exe\")"
   ]
  },
  {
   "cell_type": "code",
   "execution_count": 368,
   "metadata": {},
   "outputs": [],
   "source": [
    "#Getting the website to driver\n",
    "driver.get('https://www.naukri.com/')"
   ]
  },
  {
   "cell_type": "code",
   "execution_count": 369,
   "metadata": {},
   "outputs": [],
   "source": [
    "#finding element for job search bar\n",
    "search_job = driver.find_element_by_id('qsb-keyword-sugg')\n",
    "search_job.clear()\n",
    "search_job.send_keys(\"Data Analyst\")\n",
    "search_loc = driver.find_element_by_xpath(\"//input[@id='qsb-location-sugg']\")\n",
    "search_loc.send_keys(\"Bangalore\")\n",
    "search_loc = driver.find_element_by_xpath(\"//div[@class='search-btn']/button\")\n",
    "search_loc.click()"
   ]
  },
  {
   "cell_type": "code",
   "execution_count": 370,
   "metadata": {},
   "outputs": [],
   "source": [
    "#specifying the url of the page to be scrapped\n",
    "url=\"https://www.naukri.com/data-analyst-jobs-in-bangalore?k=data%20analyst&l=bangalore\""
   ]
  },
  {
   "cell_type": "code",
   "execution_count": 371,
   "metadata": {},
   "outputs": [],
   "source": [
    "#lets open the webpage through our webdriver\n",
    "driver.get(url)"
   ]
  },
  {
   "cell_type": "code",
   "execution_count": 372,
   "metadata": {},
   "outputs": [],
   "source": [
    "#creating the empty list\n",
    "job_titles=[]\n",
    "company_names=[]\n",
    "job_location=[]\n",
    "experienced_required=[]"
   ]
  },
  {
   "cell_type": "code",
   "execution_count": 373,
   "metadata": {},
   "outputs": [
    {
     "data": {
      "text/plain": [
       "[<selenium.webdriver.remote.webelement.WebElement (session=\"887fc242ad6a4213559cb21142c7459e\", element=\"b7ce0240-79de-4bda-b358-4320b654f387\")>,\n",
       " <selenium.webdriver.remote.webelement.WebElement (session=\"887fc242ad6a4213559cb21142c7459e\", element=\"eb69672d-e484-469a-b7ce-a6d348de4829\")>,\n",
       " <selenium.webdriver.remote.webelement.WebElement (session=\"887fc242ad6a4213559cb21142c7459e\", element=\"02cabacb-3000-44ca-aed2-7787de299641\")>,\n",
       " <selenium.webdriver.remote.webelement.WebElement (session=\"887fc242ad6a4213559cb21142c7459e\", element=\"15f36643-c0b3-4f53-b622-20e1a35a3666\")>]"
      ]
     },
     "execution_count": 373,
     "metadata": {},
     "output_type": "execute_result"
    }
   ],
   "source": [
    "#extracting all the tags having job titles\n",
    "titles_tags = driver.find_elements_by_xpath(\"//a[@class='title fw500 ellipsis']\")\n",
    "titles_tags[0:4]"
   ]
  },
  {
   "cell_type": "code",
   "execution_count": 374,
   "metadata": {},
   "outputs": [
    {
     "data": {
      "text/plain": [
       "['Azure Data Analyst',\n",
       " 'Data Analyst',\n",
       " 'Data Analyst',\n",
       " 'Data Analyst',\n",
       " 'Data Analyst',\n",
       " 'Data Analyst',\n",
       " 'Data Analyst',\n",
       " 'Data Analyst',\n",
       " 'Data Analyst',\n",
       " 'Data Analyst']"
      ]
     },
     "execution_count": 374,
     "metadata": {},
     "output_type": "execute_result"
    }
   ],
   "source": [
    "#running loop to iterate over the tags extracted above and extract inside them\n",
    "for i in titles_tags:\n",
    "    title=i.text\n",
    "    job_titles.append(title)\n",
    "job_titles[0:10]"
   ]
  },
  {
   "cell_type": "code",
   "execution_count": 375,
   "metadata": {},
   "outputs": [
    {
     "data": {
      "text/plain": [
       "[<selenium.webdriver.remote.webelement.WebElement (session=\"887fc242ad6a4213559cb21142c7459e\", element=\"6807a488-6232-47cd-8cad-4087594986a1\")>,\n",
       " <selenium.webdriver.remote.webelement.WebElement (session=\"887fc242ad6a4213559cb21142c7459e\", element=\"ac5ee4f9-0a5d-4574-8153-2839acde816f\")>,\n",
       " <selenium.webdriver.remote.webelement.WebElement (session=\"887fc242ad6a4213559cb21142c7459e\", element=\"3546c14b-316e-4344-b2b4-53a9eca05d16\")>,\n",
       " <selenium.webdriver.remote.webelement.WebElement (session=\"887fc242ad6a4213559cb21142c7459e\", element=\"670a9d90-4450-4d6b-a03f-da5e4e06797f\")>]"
      ]
     },
     "execution_count": 375,
     "metadata": {},
     "output_type": "execute_result"
    }
   ],
   "source": [
    "#extracting all the tags having the company names\n",
    "companies_tags = driver.find_elements_by_xpath(\"//a[@class='subTitle ellipsis fleft']\")\n",
    "companies_tags[0:4]"
   ]
  },
  {
   "cell_type": "code",
   "execution_count": 376,
   "metadata": {},
   "outputs": [
    {
     "data": {
      "text/plain": [
       "['Capgemini Technology Services India Limited',\n",
       " 'RedLock, Inc',\n",
       " 'Super India Tech Mark',\n",
       " 'tech mahindra ltd',\n",
       " 'CONDUENT BUSINESS SERVICES INDIA LLP',\n",
       " 'GlaxoSmithKline Pharmaceuticals Limited',\n",
       " 'Myntra Designs Pvt. Ltd.',\n",
       " 'Myntra Designs Pvt. Ltd.',\n",
       " 'Myntra Designs Pvt. Ltd.',\n",
       " 'Myntra Designs Pvt. Ltd.']"
      ]
     },
     "execution_count": 376,
     "metadata": {},
     "output_type": "execute_result"
    }
   ],
   "source": [
    "#running loop to iterate over the tags extracted above and extract inside them\n",
    "for i in companies_tags:\n",
    "    company_name=i.text\n",
    "    company_names.append(company_name)\n",
    "company_names[0:10]"
   ]
  },
  {
   "cell_type": "code",
   "execution_count": 377,
   "metadata": {},
   "outputs": [
    {
     "data": {
      "text/plain": [
       "[<selenium.webdriver.remote.webelement.WebElement (session=\"887fc242ad6a4213559cb21142c7459e\", element=\"472487e2-ddfa-41cb-9cee-ff66c6a133b6\")>,\n",
       " <selenium.webdriver.remote.webelement.WebElement (session=\"887fc242ad6a4213559cb21142c7459e\", element=\"5705aec1-86ff-4b1f-9b74-7c5fe3c0bca9\")>,\n",
       " <selenium.webdriver.remote.webelement.WebElement (session=\"887fc242ad6a4213559cb21142c7459e\", element=\"61e6d43e-3bd2-49fb-86c8-13cbb8291213\")>,\n",
       " <selenium.webdriver.remote.webelement.WebElement (session=\"887fc242ad6a4213559cb21142c7459e\", element=\"784718d2-8c87-44e7-883d-25269e55a06e\")>]"
      ]
     },
     "execution_count": 377,
     "metadata": {},
     "output_type": "execute_result"
    }
   ],
   "source": [
    "#extracting all the tags having the job locations\n",
    "location_tags = driver.find_elements_by_xpath(\"//li[@class='fleft grey-text br2 placeHolderLi location']\")\n",
    "location_tags[0:4]"
   ]
  },
  {
   "cell_type": "code",
   "execution_count": 378,
   "metadata": {},
   "outputs": [
    {
     "data": {
      "text/plain": [
       "['Bangalore/Bengaluru',\n",
       " 'Bangalore/Bengaluru',\n",
       " 'Bangalore/Bengaluru(Devalapur)',\n",
       " 'Bangalore/Bengaluru',\n",
       " 'Bangalore/Bengaluru',\n",
       " 'Bangalore/Bengaluru',\n",
       " 'Bangalore/Bengaluru',\n",
       " 'Bangalore/Bengaluru',\n",
       " 'Bangalore/Bengaluru',\n",
       " 'Bangalore/Bengaluru']"
      ]
     },
     "execution_count": 378,
     "metadata": {},
     "output_type": "execute_result"
    }
   ],
   "source": [
    "#running loop to iterate over the tags extracted above and extract inside them\n",
    "for i in location_tags:\n",
    "    location=i.text\n",
    "    job_location.append(location)\n",
    "job_location[0:10]"
   ]
  },
  {
   "cell_type": "code",
   "execution_count": 379,
   "metadata": {},
   "outputs": [
    {
     "data": {
      "text/plain": [
       "[<selenium.webdriver.remote.webelement.WebElement (session=\"887fc242ad6a4213559cb21142c7459e\", element=\"d115812e-f64e-4c18-b947-9c930f664339\")>,\n",
       " <selenium.webdriver.remote.webelement.WebElement (session=\"887fc242ad6a4213559cb21142c7459e\", element=\"bac85b2b-23f8-4fd6-9c33-daeec712ee04\")>,\n",
       " <selenium.webdriver.remote.webelement.WebElement (session=\"887fc242ad6a4213559cb21142c7459e\", element=\"f40e4af2-7fcc-4721-afe6-e52d0328e76d\")>,\n",
       " <selenium.webdriver.remote.webelement.WebElement (session=\"887fc242ad6a4213559cb21142c7459e\", element=\"1677e8b1-3d95-4578-b382-1692e36fcfc2\")>]"
      ]
     },
     "execution_count": 379,
     "metadata": {},
     "output_type": "execute_result"
    }
   ],
   "source": [
    "#extracting all the tags having experince required\n",
    "experience_tags = driver.find_elements_by_xpath(\"//li[@class='fleft grey-text br2 placeHolderLi experience']\")\n",
    "experience_tags[0:4]"
   ]
  },
  {
   "cell_type": "code",
   "execution_count": 380,
   "metadata": {},
   "outputs": [
    {
     "data": {
      "text/plain": [
       "['6-8 Yrs',\n",
       " '0-0 Yrs',\n",
       " '0-2 Yrs',\n",
       " '4-8 Yrs',\n",
       " '1-2 Yrs',\n",
       " '2-7 Yrs',\n",
       " '3-6 Yrs',\n",
       " '4-8 Yrs',\n",
       " '3-8 Yrs',\n",
       " '4-8 Yrs']"
      ]
     },
     "execution_count": 380,
     "metadata": {},
     "output_type": "execute_result"
    }
   ],
   "source": [
    "#running loop to iterate over the tags extracted above and extract inside them\n",
    "for i in experience_tags:\n",
    "    experience=i.text\n",
    "    experienced_required.append(experience)\n",
    "experienced_required[0:10]"
   ]
  },
  {
   "cell_type": "code",
   "execution_count": 381,
   "metadata": {},
   "outputs": [
    {
     "name": "stdout",
     "output_type": "stream",
     "text": [
      "20 20 20 20\n"
     ]
    }
   ],
   "source": [
    "print(len(job_titles),len(company_names),len(job_location),len(experienced_required))"
   ]
  },
  {
   "cell_type": "code",
   "execution_count": 382,
   "metadata": {},
   "outputs": [],
   "source": [
    "#putting in dataframe\n",
    "\n",
    "jobs=pd.DataFrame({})\n",
    "jobs['titles']=job_titles\n",
    "jobs['company']=company_names\n",
    "jobs['experience_required']=experienced_required\n",
    "jobs['location']=job_location"
   ]
  },
  {
   "cell_type": "code",
   "execution_count": 383,
   "metadata": {},
   "outputs": [
    {
     "data": {
      "text/html": [
       "<div>\n",
       "<style scoped>\n",
       "    .dataframe tbody tr th:only-of-type {\n",
       "        vertical-align: middle;\n",
       "    }\n",
       "\n",
       "    .dataframe tbody tr th {\n",
       "        vertical-align: top;\n",
       "    }\n",
       "\n",
       "    .dataframe thead th {\n",
       "        text-align: right;\n",
       "    }\n",
       "</style>\n",
       "<table border=\"1\" class=\"dataframe\">\n",
       "  <thead>\n",
       "    <tr style=\"text-align: right;\">\n",
       "      <th></th>\n",
       "      <th>titles</th>\n",
       "      <th>company</th>\n",
       "      <th>experience_required</th>\n",
       "      <th>location</th>\n",
       "    </tr>\n",
       "  </thead>\n",
       "  <tbody>\n",
       "    <tr>\n",
       "      <th>0</th>\n",
       "      <td>Azure Data Analyst</td>\n",
       "      <td>Capgemini Technology Services India Limited</td>\n",
       "      <td>6-8 Yrs</td>\n",
       "      <td>Bangalore/Bengaluru</td>\n",
       "    </tr>\n",
       "    <tr>\n",
       "      <th>1</th>\n",
       "      <td>Data Analyst</td>\n",
       "      <td>RedLock, Inc</td>\n",
       "      <td>0-0 Yrs</td>\n",
       "      <td>Bangalore/Bengaluru</td>\n",
       "    </tr>\n",
       "    <tr>\n",
       "      <th>2</th>\n",
       "      <td>Data Analyst</td>\n",
       "      <td>Super India Tech Mark</td>\n",
       "      <td>0-2 Yrs</td>\n",
       "      <td>Bangalore/Bengaluru(Devalapur)</td>\n",
       "    </tr>\n",
       "    <tr>\n",
       "      <th>3</th>\n",
       "      <td>Data Analyst</td>\n",
       "      <td>tech mahindra ltd</td>\n",
       "      <td>4-8 Yrs</td>\n",
       "      <td>Bangalore/Bengaluru</td>\n",
       "    </tr>\n",
       "    <tr>\n",
       "      <th>4</th>\n",
       "      <td>Data Analyst</td>\n",
       "      <td>CONDUENT BUSINESS SERVICES INDIA LLP</td>\n",
       "      <td>1-2 Yrs</td>\n",
       "      <td>Bangalore/Bengaluru</td>\n",
       "    </tr>\n",
       "    <tr>\n",
       "      <th>5</th>\n",
       "      <td>Data Analyst</td>\n",
       "      <td>GlaxoSmithKline Pharmaceuticals Limited</td>\n",
       "      <td>2-7 Yrs</td>\n",
       "      <td>Bangalore/Bengaluru</td>\n",
       "    </tr>\n",
       "    <tr>\n",
       "      <th>6</th>\n",
       "      <td>Data Analyst</td>\n",
       "      <td>Myntra Designs Pvt. Ltd.</td>\n",
       "      <td>3-6 Yrs</td>\n",
       "      <td>Bangalore/Bengaluru</td>\n",
       "    </tr>\n",
       "    <tr>\n",
       "      <th>7</th>\n",
       "      <td>Data Analyst</td>\n",
       "      <td>Myntra Designs Pvt. Ltd.</td>\n",
       "      <td>4-8 Yrs</td>\n",
       "      <td>Bangalore/Bengaluru</td>\n",
       "    </tr>\n",
       "    <tr>\n",
       "      <th>8</th>\n",
       "      <td>Data Analyst</td>\n",
       "      <td>Myntra Designs Pvt. Ltd.</td>\n",
       "      <td>3-8 Yrs</td>\n",
       "      <td>Bangalore/Bengaluru</td>\n",
       "    </tr>\n",
       "    <tr>\n",
       "      <th>9</th>\n",
       "      <td>Data Analyst</td>\n",
       "      <td>Myntra Designs Pvt. Ltd.</td>\n",
       "      <td>4-8 Yrs</td>\n",
       "      <td>Bangalore/Bengaluru</td>\n",
       "    </tr>\n",
       "  </tbody>\n",
       "</table>\n",
       "</div>"
      ],
      "text/plain": [
       "               titles                                      company  \\\n",
       "0  Azure Data Analyst  Capgemini Technology Services India Limited   \n",
       "1        Data Analyst                                 RedLock, Inc   \n",
       "2        Data Analyst                        Super India Tech Mark   \n",
       "3        Data Analyst                            tech mahindra ltd   \n",
       "4        Data Analyst         CONDUENT BUSINESS SERVICES INDIA LLP   \n",
       "5        Data Analyst      GlaxoSmithKline Pharmaceuticals Limited   \n",
       "6        Data Analyst                     Myntra Designs Pvt. Ltd.   \n",
       "7        Data Analyst                     Myntra Designs Pvt. Ltd.   \n",
       "8        Data Analyst                     Myntra Designs Pvt. Ltd.   \n",
       "9        Data Analyst                     Myntra Designs Pvt. Ltd.   \n",
       "\n",
       "  experience_required                        location  \n",
       "0             6-8 Yrs             Bangalore/Bengaluru  \n",
       "1             0-0 Yrs             Bangalore/Bengaluru  \n",
       "2             0-2 Yrs  Bangalore/Bengaluru(Devalapur)  \n",
       "3             4-8 Yrs             Bangalore/Bengaluru  \n",
       "4             1-2 Yrs             Bangalore/Bengaluru  \n",
       "5             2-7 Yrs             Bangalore/Bengaluru  \n",
       "6             3-6 Yrs             Bangalore/Bengaluru  \n",
       "7             4-8 Yrs             Bangalore/Bengaluru  \n",
       "8             3-8 Yrs             Bangalore/Bengaluru  \n",
       "9             4-8 Yrs             Bangalore/Bengaluru  "
      ]
     },
     "execution_count": 383,
     "metadata": {},
     "output_type": "execute_result"
    }
   ],
   "source": [
    "jobs[0:10]"
   ]
  },
  {
   "cell_type": "code",
   "execution_count": 384,
   "metadata": {},
   "outputs": [],
   "source": [
    "#Closing the driver\n",
    "driver.close()"
   ]
  },
  {
   "cell_type": "markdown",
   "metadata": {},
   "source": [
    "## Q2: Write a python program to scrape data for “Data Scientist” Job position in “Bangalore” location."
   ]
  },
  {
   "cell_type": "code",
   "execution_count": 41,
   "metadata": {},
   "outputs": [],
   "source": [
    "# Importing Libraries\n",
    "import pandas as pd\n",
    "from bs4 import BeautifulSoup\n",
    "import requests \n",
    "import selenium\n",
    "from selenium import webdriver\n",
    "import time"
   ]
  },
  {
   "cell_type": "code",
   "execution_count": 42,
   "metadata": {},
   "outputs": [],
   "source": [
    "#Connect to web driver\n",
    "driver = webdriver.Chrome(r\"C://chromedriver.exe\")"
   ]
  },
  {
   "cell_type": "code",
   "execution_count": 43,
   "metadata": {},
   "outputs": [],
   "source": [
    "#Getting the website to driver\n",
    "driver.get('https://www.naukri.com/')"
   ]
  },
  {
   "cell_type": "code",
   "execution_count": 44,
   "metadata": {},
   "outputs": [],
   "source": [
    "#finding element for job search bar\n",
    "search_job = driver.find_element_by_id('qsb-keyword-sugg')\n",
    "search_job.clear()\n",
    "search_job.send_keys(\"Data Scientist\")\n",
    "search_loc = driver.find_element_by_xpath(\"//input[@id='qsb-location-sugg']\")\n",
    "search_loc.send_keys(\"Bangalore\")\n",
    "search_loc = driver.find_element_by_xpath(\"//div[@class='search-btn']/button\")\n",
    "search_loc.click()"
   ]
  },
  {
   "cell_type": "code",
   "execution_count": 45,
   "metadata": {},
   "outputs": [],
   "source": [
    "#specifying the url of the page to be scrapped\n",
    "url=\"https://www.naukri.com/data-scientist-jobs-in-bangalore?k=data%20scientist&l=bangalore\""
   ]
  },
  {
   "cell_type": "code",
   "execution_count": 46,
   "metadata": {},
   "outputs": [],
   "source": [
    "#lets open the webpage through our webdriver\n",
    "driver.get(url)"
   ]
  },
  {
   "cell_type": "code",
   "execution_count": 47,
   "metadata": {},
   "outputs": [],
   "source": [
    "#creating the empty list\n",
    "job_titles=[]\n",
    "company_names=[]\n",
    "job_location=[]\n",
    "job_description=[]"
   ]
  },
  {
   "cell_type": "code",
   "execution_count": 48,
   "metadata": {},
   "outputs": [
    {
     "data": {
      "text/plain": [
       "[<selenium.webdriver.remote.webelement.WebElement (session=\"568736158602f08ad2324a120d76da04\", element=\"005108a2-a613-4788-83d7-0a24910f34d8\")>,\n",
       " <selenium.webdriver.remote.webelement.WebElement (session=\"568736158602f08ad2324a120d76da04\", element=\"2f409176-4d40-4882-afe2-6b9948f9a0f4\")>,\n",
       " <selenium.webdriver.remote.webelement.WebElement (session=\"568736158602f08ad2324a120d76da04\", element=\"f0a33d84-49f8-4846-8b89-7d6aacfcdc76\")>,\n",
       " <selenium.webdriver.remote.webelement.WebElement (session=\"568736158602f08ad2324a120d76da04\", element=\"ab5a1ce2-2f28-4b08-8634-9adeb9d58a52\")>,\n",
       " <selenium.webdriver.remote.webelement.WebElement (session=\"568736158602f08ad2324a120d76da04\", element=\"f4100213-0c90-4e6a-be26-375862aa68cc\")>,\n",
       " <selenium.webdriver.remote.webelement.WebElement (session=\"568736158602f08ad2324a120d76da04\", element=\"f93b28ed-88ec-4e55-8640-f9f788b021f7\")>,\n",
       " <selenium.webdriver.remote.webelement.WebElement (session=\"568736158602f08ad2324a120d76da04\", element=\"067bddc9-e7b0-4081-814d-38b64f78e055\")>,\n",
       " <selenium.webdriver.remote.webelement.WebElement (session=\"568736158602f08ad2324a120d76da04\", element=\"0794d820-5de6-4774-8f68-3a2f5d5946ba\")>,\n",
       " <selenium.webdriver.remote.webelement.WebElement (session=\"568736158602f08ad2324a120d76da04\", element=\"45295e2e-74fd-4f76-abf2-3c69e6f45df3\")>,\n",
       " <selenium.webdriver.remote.webelement.WebElement (session=\"568736158602f08ad2324a120d76da04\", element=\"e46ff7aa-8bc6-4011-abc8-3c49412e1628\")>]"
      ]
     },
     "execution_count": 48,
     "metadata": {},
     "output_type": "execute_result"
    }
   ],
   "source": [
    "#extracting all the tags having job titles\n",
    "titles_tags = driver.find_elements_by_xpath(\"//a[@class='title fw500 ellipsis']\")\n",
    "titles_tags[0:10]"
   ]
  },
  {
   "cell_type": "code",
   "execution_count": 49,
   "metadata": {},
   "outputs": [
    {
     "data": {
      "text/plain": [
       "['Data Scientist',\n",
       " 'Opportunity For Data Scientist Internship - Bengaluru',\n",
       " 'Data Scientist - Machine Learning',\n",
       " 'Data Scientist || Data Analyst || Data science',\n",
       " 'Data Scientist - IBM Garage',\n",
       " 'DBCG IND - GAMMA Senior Data Scientist',\n",
       " 'Data Scientist/Senior Data Scientist',\n",
       " 'Senior Data Scientist | CES IT LTD | CMMI Level 5',\n",
       " 'Global Medical Data Scientist',\n",
       " 'Associate Data Scientist - CRM & Loyalty']"
      ]
     },
     "execution_count": 49,
     "metadata": {},
     "output_type": "execute_result"
    }
   ],
   "source": [
    "#running loop to iterate over the tags extracted above and extract inside them\n",
    "for i in titles_tags:\n",
    "    title=i.text\n",
    "    job_titles.append(title)\n",
    "job_titles[0:10]"
   ]
  },
  {
   "cell_type": "code",
   "execution_count": 50,
   "metadata": {},
   "outputs": [
    {
     "data": {
      "text/plain": [
       "[<selenium.webdriver.remote.webelement.WebElement (session=\"568736158602f08ad2324a120d76da04\", element=\"a72e2736-8884-4fc4-8e59-387d9d4fca73\")>,\n",
       " <selenium.webdriver.remote.webelement.WebElement (session=\"568736158602f08ad2324a120d76da04\", element=\"bcd7839a-a326-48e8-9ab7-09180c9adecf\")>,\n",
       " <selenium.webdriver.remote.webelement.WebElement (session=\"568736158602f08ad2324a120d76da04\", element=\"50093d54-02dc-4807-9607-f04ae5d82e3b\")>,\n",
       " <selenium.webdriver.remote.webelement.WebElement (session=\"568736158602f08ad2324a120d76da04\", element=\"8ea5c3ff-3276-472f-bd0c-3f455c944659\")>,\n",
       " <selenium.webdriver.remote.webelement.WebElement (session=\"568736158602f08ad2324a120d76da04\", element=\"13e27bba-eeeb-4986-9948-5a741de2ffe4\")>,\n",
       " <selenium.webdriver.remote.webelement.WebElement (session=\"568736158602f08ad2324a120d76da04\", element=\"89f6c7d1-7c51-4dc9-ab79-2baab23ca1ed\")>,\n",
       " <selenium.webdriver.remote.webelement.WebElement (session=\"568736158602f08ad2324a120d76da04\", element=\"ee577853-d716-44ac-962e-454d11f5ed4a\")>,\n",
       " <selenium.webdriver.remote.webelement.WebElement (session=\"568736158602f08ad2324a120d76da04\", element=\"e57cf886-f6ed-4257-b0b7-2bfb888d81b7\")>,\n",
       " <selenium.webdriver.remote.webelement.WebElement (session=\"568736158602f08ad2324a120d76da04\", element=\"16e94144-a1e1-412a-a4fd-0fd4c9a2b3f7\")>,\n",
       " <selenium.webdriver.remote.webelement.WebElement (session=\"568736158602f08ad2324a120d76da04\", element=\"315e4cec-4103-4a4d-abe3-e50b85e508cc\")>]"
      ]
     },
     "execution_count": 50,
     "metadata": {},
     "output_type": "execute_result"
    }
   ],
   "source": [
    "#extracting all the tags having the company names\n",
    "companies_tags = driver.find_elements_by_xpath(\"//a[@class='subTitle ellipsis fleft']\")\n",
    "companies_tags[0:10]"
   ]
  },
  {
   "cell_type": "code",
   "execution_count": 51,
   "metadata": {},
   "outputs": [
    {
     "data": {
      "text/plain": [
       "['CronJ IT Technologies Private Limited',\n",
       " 'Corner Stone Solutions',\n",
       " 'AugmatrixGo',\n",
       " 'Inspiration Manpower Consultancy Pvt. Ltd.',\n",
       " 'IBM India Pvt. Limited',\n",
       " 'Boston Consulting Group',\n",
       " 'GANIT BUSINESS SOLUTIONS PRIVATE LIMITED',\n",
       " 'CES Ltd.',\n",
       " 'GlaxoSmithKline Pharmaceuticals Limited',\n",
       " 'Shell India Markets Private Limited']"
      ]
     },
     "execution_count": 51,
     "metadata": {},
     "output_type": "execute_result"
    }
   ],
   "source": [
    "#running loop to iterate over the tags extracted above and extract inside them\n",
    "for i in companies_tags:\n",
    "    company_name=i.text\n",
    "    company_names.append(company_name)\n",
    "company_names[0:10]"
   ]
  },
  {
   "cell_type": "code",
   "execution_count": 52,
   "metadata": {},
   "outputs": [
    {
     "data": {
      "text/plain": [
       "[<selenium.webdriver.remote.webelement.WebElement (session=\"568736158602f08ad2324a120d76da04\", element=\"f6391603-46d8-4aa7-a01c-93384a2e3e69\")>,\n",
       " <selenium.webdriver.remote.webelement.WebElement (session=\"568736158602f08ad2324a120d76da04\", element=\"5d1b5be0-9599-48d7-a94a-993876d25f57\")>,\n",
       " <selenium.webdriver.remote.webelement.WebElement (session=\"568736158602f08ad2324a120d76da04\", element=\"7941062e-7aee-414f-bebb-fe5fad25a411\")>,\n",
       " <selenium.webdriver.remote.webelement.WebElement (session=\"568736158602f08ad2324a120d76da04\", element=\"ea2b7280-c054-4348-be1c-ff40b879f9d1\")>]"
      ]
     },
     "execution_count": 52,
     "metadata": {},
     "output_type": "execute_result"
    }
   ],
   "source": [
    "#extracting all the tags having the job locations\n",
    "location_tags = driver.find_elements_by_xpath(\"//li[@class='fleft grey-text br2 placeHolderLi location']\")\n",
    "location_tags[0:4]"
   ]
  },
  {
   "cell_type": "code",
   "execution_count": 53,
   "metadata": {},
   "outputs": [
    {
     "data": {
      "text/plain": [
       "['Bangalore/Bengaluru',\n",
       " 'Bangalore/Bengaluru',\n",
       " 'Bangalore/Bengaluru',\n",
       " 'Navi Mumbai, Bangalore/Bengaluru',\n",
       " 'Noida, Hyderabad/Secunderabad, Bangalore/Bengaluru',\n",
       " 'Mumbai, New Delhi, Chennai, Bangalore/Bengaluru',\n",
       " 'Hyderabad/Secunderabad, Pune, Chennai, Bangalore/Bengaluru, Mumbai (All Areas)',\n",
       " 'Kolkata, Mumbai, Hyderabad/Secunderabad, Pune, Chennai, Bangalore/Bengaluru, Delhi / NCR',\n",
       " 'Bangalore/Bengaluru',\n",
       " 'Bangalore/Bengaluru']"
      ]
     },
     "execution_count": 53,
     "metadata": {},
     "output_type": "execute_result"
    }
   ],
   "source": [
    "#running loop to iterate over the tags extracted above and extract inside them\n",
    "for i in location_tags:\n",
    "    location=i.text\n",
    "    job_location.append(location)\n",
    "job_location[0:10]"
   ]
  },
  {
   "cell_type": "code",
   "execution_count": 54,
   "metadata": {},
   "outputs": [
    {
     "data": {
      "text/plain": [
       "[<selenium.webdriver.remote.webelement.WebElement (session=\"568736158602f08ad2324a120d76da04\", element=\"c0f93112-1bf1-4f08-a26a-36d35ab04b2f\")>,\n",
       " <selenium.webdriver.remote.webelement.WebElement (session=\"568736158602f08ad2324a120d76da04\", element=\"56e9b00a-45fe-41ea-97c1-6cd0bdc88dd4\")>,\n",
       " <selenium.webdriver.remote.webelement.WebElement (session=\"568736158602f08ad2324a120d76da04\", element=\"07b434f7-f481-4ab3-ae08-586091d583d4\")>,\n",
       " <selenium.webdriver.remote.webelement.WebElement (session=\"568736158602f08ad2324a120d76da04\", element=\"dd87f625-2eab-42a0-972f-820c67deeaf1\")>,\n",
       " <selenium.webdriver.remote.webelement.WebElement (session=\"568736158602f08ad2324a120d76da04\", element=\"b81f3c25-8303-4f17-aa88-d89d05c7a83e\")>,\n",
       " <selenium.webdriver.remote.webelement.WebElement (session=\"568736158602f08ad2324a120d76da04\", element=\"498c3077-c658-45a5-a56c-235eabee0697\")>,\n",
       " <selenium.webdriver.remote.webelement.WebElement (session=\"568736158602f08ad2324a120d76da04\", element=\"121fd096-55a6-4304-861f-633dbe9055ec\")>,\n",
       " <selenium.webdriver.remote.webelement.WebElement (session=\"568736158602f08ad2324a120d76da04\", element=\"a580442b-5716-4988-8c21-38d6e7ba9cf4\")>,\n",
       " <selenium.webdriver.remote.webelement.WebElement (session=\"568736158602f08ad2324a120d76da04\", element=\"2b3234f4-9253-42ec-84d4-09095dab84d3\")>,\n",
       " <selenium.webdriver.remote.webelement.WebElement (session=\"568736158602f08ad2324a120d76da04\", element=\"d28f8a2d-90f2-434e-b8f6-35830257d0b3\")>]"
      ]
     },
     "execution_count": 54,
     "metadata": {},
     "output_type": "execute_result"
    }
   ],
   "source": [
    "#extracting all the tags having job description\n",
    "jobdescription_tags = driver.find_elements_by_xpath(\"//div[@class='job-description fs12 grey-text']\")\n",
    "jobdescription_tags[0:10]"
   ]
  },
  {
   "cell_type": "code",
   "execution_count": 55,
   "metadata": {},
   "outputs": [
    {
     "data": {
      "text/plain": [
       "['Flexibility in working independently and do needful research whenever requiredGood Know...',\n",
       " 'Looking for IIT, IIIT IISc, NIT, BIT & Equivalent colleges (Preferred)Flexibility in wo...',\n",
       " 'BTech / MTech degree in from reputed institutes like IIT / NIT / BITSSkills Required : ...',\n",
       " 'Must HaveGood to haveHuman Resources experienceAdditional Accenture HR systems experience',\n",
       " 'Required Technical and Professional ExpertisePreferred Technical and Professional Exper...',\n",
       " 'What Youll Do We re looking for a passionate and talented Senior Data Scientist to join...',\n",
       " 'Bachelors / Masters degree in Engineering / Technology or MBA from Tier-1 B School orMi...',\n",
       " 'Logical and Analytical skills must be really strongShould have experience with atleast ...',\n",
       " 'medical voice of customer feedback, customer listening, feedback from surveys and resea...',\n",
       " 'The RoleGeneral Position DefinitionThis role will drive analytics and insights for the ...']"
      ]
     },
     "execution_count": 55,
     "metadata": {},
     "output_type": "execute_result"
    }
   ],
   "source": [
    "#running loop to iterate over the tags extracted above and extract inside them\n",
    "for i in jobdescription_tags:\n",
    "    jobdescription=i.text\n",
    "    job_description.append(jobdescription)\n",
    "job_description[0:10]"
   ]
  },
  {
   "cell_type": "code",
   "execution_count": 56,
   "metadata": {},
   "outputs": [
    {
     "name": "stdout",
     "output_type": "stream",
     "text": [
      "20 20 20 20\n"
     ]
    }
   ],
   "source": [
    "print(len(job_titles),len(company_names),len(job_location),len(job_description))"
   ]
  },
  {
   "cell_type": "code",
   "execution_count": 57,
   "metadata": {},
   "outputs": [],
   "source": [
    "#putting in dataframe\n",
    "\n",
    "jobs=pd.DataFrame({})\n",
    "jobs['titles']=job_titles\n",
    "jobs['company']=company_names\n",
    "jobs['location']=job_location\n",
    "jobs['job_description']=job_description"
   ]
  },
  {
   "cell_type": "code",
   "execution_count": 58,
   "metadata": {},
   "outputs": [
    {
     "data": {
      "text/html": [
       "<div>\n",
       "<style scoped>\n",
       "    .dataframe tbody tr th:only-of-type {\n",
       "        vertical-align: middle;\n",
       "    }\n",
       "\n",
       "    .dataframe tbody tr th {\n",
       "        vertical-align: top;\n",
       "    }\n",
       "\n",
       "    .dataframe thead th {\n",
       "        text-align: right;\n",
       "    }\n",
       "</style>\n",
       "<table border=\"1\" class=\"dataframe\">\n",
       "  <thead>\n",
       "    <tr style=\"text-align: right;\">\n",
       "      <th></th>\n",
       "      <th>titles</th>\n",
       "      <th>company</th>\n",
       "      <th>location</th>\n",
       "      <th>job_description</th>\n",
       "    </tr>\n",
       "  </thead>\n",
       "  <tbody>\n",
       "    <tr>\n",
       "      <th>0</th>\n",
       "      <td>Data Scientist</td>\n",
       "      <td>CronJ IT Technologies Private Limited</td>\n",
       "      <td>Bangalore/Bengaluru</td>\n",
       "      <td>Flexibility in working independently and do ne...</td>\n",
       "    </tr>\n",
       "    <tr>\n",
       "      <th>1</th>\n",
       "      <td>Opportunity For Data Scientist Internship - Be...</td>\n",
       "      <td>Corner Stone Solutions</td>\n",
       "      <td>Bangalore/Bengaluru</td>\n",
       "      <td>Looking for IIT, IIIT IISc, NIT, BIT &amp; Equival...</td>\n",
       "    </tr>\n",
       "    <tr>\n",
       "      <th>2</th>\n",
       "      <td>Data Scientist - Machine Learning</td>\n",
       "      <td>AugmatrixGo</td>\n",
       "      <td>Bangalore/Bengaluru</td>\n",
       "      <td>BTech / MTech degree in from reputed institute...</td>\n",
       "    </tr>\n",
       "    <tr>\n",
       "      <th>3</th>\n",
       "      <td>Data Scientist || Data Analyst || Data science</td>\n",
       "      <td>Inspiration Manpower Consultancy Pvt. Ltd.</td>\n",
       "      <td>Navi Mumbai, Bangalore/Bengaluru</td>\n",
       "      <td>Must HaveGood to haveHuman Resources experienc...</td>\n",
       "    </tr>\n",
       "    <tr>\n",
       "      <th>4</th>\n",
       "      <td>Data Scientist - IBM Garage</td>\n",
       "      <td>IBM India Pvt. Limited</td>\n",
       "      <td>Noida, Hyderabad/Secunderabad, Bangalore/Benga...</td>\n",
       "      <td>Required Technical and Professional ExpertiseP...</td>\n",
       "    </tr>\n",
       "    <tr>\n",
       "      <th>5</th>\n",
       "      <td>DBCG IND - GAMMA Senior Data Scientist</td>\n",
       "      <td>Boston Consulting Group</td>\n",
       "      <td>Mumbai, New Delhi, Chennai, Bangalore/Bengaluru</td>\n",
       "      <td>What Youll Do We re looking for a passionate a...</td>\n",
       "    </tr>\n",
       "    <tr>\n",
       "      <th>6</th>\n",
       "      <td>Data Scientist/Senior Data Scientist</td>\n",
       "      <td>GANIT BUSINESS SOLUTIONS PRIVATE LIMITED</td>\n",
       "      <td>Hyderabad/Secunderabad, Pune, Chennai, Bangalo...</td>\n",
       "      <td>Bachelors / Masters degree in Engineering / Te...</td>\n",
       "    </tr>\n",
       "    <tr>\n",
       "      <th>7</th>\n",
       "      <td>Senior Data Scientist | CES IT LTD | CMMI Level 5</td>\n",
       "      <td>CES Ltd.</td>\n",
       "      <td>Kolkata, Mumbai, Hyderabad/Secunderabad, Pune,...</td>\n",
       "      <td>Logical and Analytical skills must be really s...</td>\n",
       "    </tr>\n",
       "    <tr>\n",
       "      <th>8</th>\n",
       "      <td>Global Medical Data Scientist</td>\n",
       "      <td>GlaxoSmithKline Pharmaceuticals Limited</td>\n",
       "      <td>Bangalore/Bengaluru</td>\n",
       "      <td>medical voice of customer feedback, customer l...</td>\n",
       "    </tr>\n",
       "    <tr>\n",
       "      <th>9</th>\n",
       "      <td>Associate Data Scientist - CRM &amp; Loyalty</td>\n",
       "      <td>Shell India Markets Private Limited</td>\n",
       "      <td>Bangalore/Bengaluru</td>\n",
       "      <td>The RoleGeneral Position DefinitionThis role w...</td>\n",
       "    </tr>\n",
       "  </tbody>\n",
       "</table>\n",
       "</div>"
      ],
      "text/plain": [
       "                                              titles  \\\n",
       "0                                     Data Scientist   \n",
       "1  Opportunity For Data Scientist Internship - Be...   \n",
       "2                  Data Scientist - Machine Learning   \n",
       "3     Data Scientist || Data Analyst || Data science   \n",
       "4                        Data Scientist - IBM Garage   \n",
       "5             DBCG IND - GAMMA Senior Data Scientist   \n",
       "6               Data Scientist/Senior Data Scientist   \n",
       "7  Senior Data Scientist | CES IT LTD | CMMI Level 5   \n",
       "8                      Global Medical Data Scientist   \n",
       "9           Associate Data Scientist - CRM & Loyalty   \n",
       "\n",
       "                                      company  \\\n",
       "0       CronJ IT Technologies Private Limited   \n",
       "1                      Corner Stone Solutions   \n",
       "2                                 AugmatrixGo   \n",
       "3  Inspiration Manpower Consultancy Pvt. Ltd.   \n",
       "4                      IBM India Pvt. Limited   \n",
       "5                     Boston Consulting Group   \n",
       "6    GANIT BUSINESS SOLUTIONS PRIVATE LIMITED   \n",
       "7                                    CES Ltd.   \n",
       "8     GlaxoSmithKline Pharmaceuticals Limited   \n",
       "9         Shell India Markets Private Limited   \n",
       "\n",
       "                                            location  \\\n",
       "0                                Bangalore/Bengaluru   \n",
       "1                                Bangalore/Bengaluru   \n",
       "2                                Bangalore/Bengaluru   \n",
       "3                   Navi Mumbai, Bangalore/Bengaluru   \n",
       "4  Noida, Hyderabad/Secunderabad, Bangalore/Benga...   \n",
       "5    Mumbai, New Delhi, Chennai, Bangalore/Bengaluru   \n",
       "6  Hyderabad/Secunderabad, Pune, Chennai, Bangalo...   \n",
       "7  Kolkata, Mumbai, Hyderabad/Secunderabad, Pune,...   \n",
       "8                                Bangalore/Bengaluru   \n",
       "9                                Bangalore/Bengaluru   \n",
       "\n",
       "                                     job_description  \n",
       "0  Flexibility in working independently and do ne...  \n",
       "1  Looking for IIT, IIIT IISc, NIT, BIT & Equival...  \n",
       "2  BTech / MTech degree in from reputed institute...  \n",
       "3  Must HaveGood to haveHuman Resources experienc...  \n",
       "4  Required Technical and Professional ExpertiseP...  \n",
       "5  What Youll Do We re looking for a passionate a...  \n",
       "6  Bachelors / Masters degree in Engineering / Te...  \n",
       "7  Logical and Analytical skills must be really s...  \n",
       "8  medical voice of customer feedback, customer l...  \n",
       "9  The RoleGeneral Position DefinitionThis role w...  "
      ]
     },
     "execution_count": 58,
     "metadata": {},
     "output_type": "execute_result"
    }
   ],
   "source": [
    "jobs[0:10]"
   ]
  },
  {
   "cell_type": "code",
   "execution_count": 59,
   "metadata": {},
   "outputs": [],
   "source": [
    "#Closing the driver\n",
    "driver.close()"
   ]
  },
  {
   "cell_type": "markdown",
   "metadata": {},
   "source": [
    "## Q3: In this question you have to scrape data using the filters available on the webpage as shown below:\n",
    "### You have to use the location and salary filter. You have to scrape data for “Data Scientist” designation for first 10 job results."
   ]
  },
  {
   "cell_type": "code",
   "execution_count": 60,
   "metadata": {},
   "outputs": [],
   "source": [
    "# Importing Libraries\n",
    "import pandas as pd\n",
    "from bs4 import BeautifulSoup\n",
    "import requests \n",
    "import selenium\n",
    "from selenium import webdriver\n",
    "import time"
   ]
  },
  {
   "cell_type": "code",
   "execution_count": 61,
   "metadata": {},
   "outputs": [],
   "source": [
    "#Connect to web driver\n",
    "driver = webdriver.Chrome(r\"C://chromedriver.exe\")"
   ]
  },
  {
   "cell_type": "code",
   "execution_count": 62,
   "metadata": {},
   "outputs": [],
   "source": [
    "#Getting the website to driver\n",
    "driver.get('https://www.naukri.com/')"
   ]
  },
  {
   "cell_type": "code",
   "execution_count": 63,
   "metadata": {},
   "outputs": [],
   "source": [
    "#finding element for job search bar\n",
    "search_job = driver.find_element_by_id('qsb-keyword-sugg')\n",
    "search_job.clear()\n",
    "search_job.send_keys(\"Data Scientist\")\n",
    "search_loc = driver.find_element_by_xpath(\"//input[@id='qsb-location-sugg']\")\n",
    "search_loc.send_keys(\"Delhi/NCR\")\n",
    "search_loc = driver.find_element_by_xpath(\"//div[@class='search-btn']/button\")\n",
    "search_loc.click()"
   ]
  },
  {
   "cell_type": "code",
   "execution_count": 64,
   "metadata": {},
   "outputs": [],
   "source": [
    "#specifying the url of the page to be scrapped\n",
    "url=\"https://www.naukri.com/data-scientist-jobs-in-delhi-ncr?k=data%20scientist&l=delhi%2Fncr\""
   ]
  },
  {
   "cell_type": "code",
   "execution_count": 65,
   "metadata": {},
   "outputs": [],
   "source": [
    "#lets open the webpage through our webdriver\n",
    "driver.get(url)"
   ]
  },
  {
   "cell_type": "code",
   "execution_count": 66,
   "metadata": {},
   "outputs": [],
   "source": [
    "#creating the empty list\n",
    "job_titles=[]\n",
    "company_names=[]\n",
    "job_location=[]\n",
    "experienced_required=[]"
   ]
  },
  {
   "cell_type": "code",
   "execution_count": 67,
   "metadata": {},
   "outputs": [
    {
     "data": {
      "text/plain": [
       "[<selenium.webdriver.remote.webelement.WebElement (session=\"02a6838b4928b73199fbc44e2f95ece8\", element=\"4ea6b617-385e-4ed5-86f6-ba35ba861a3d\")>,\n",
       " <selenium.webdriver.remote.webelement.WebElement (session=\"02a6838b4928b73199fbc44e2f95ece8\", element=\"7ec6fc4b-2702-4f02-a33a-fb52bd49b300\")>,\n",
       " <selenium.webdriver.remote.webelement.WebElement (session=\"02a6838b4928b73199fbc44e2f95ece8\", element=\"288987ca-fc0e-4e6d-8177-d3352d8318fb\")>,\n",
       " <selenium.webdriver.remote.webelement.WebElement (session=\"02a6838b4928b73199fbc44e2f95ece8\", element=\"5d6176ee-97ec-4ba7-afa1-e183270a511d\")>]"
      ]
     },
     "execution_count": 67,
     "metadata": {},
     "output_type": "execute_result"
    }
   ],
   "source": [
    "#extracting all the tags having job titles\n",
    "titles_tags = driver.find_elements_by_xpath(\"//a[@class='title fw500 ellipsis']\")\n",
    "titles_tags[0:4]"
   ]
  },
  {
   "cell_type": "code",
   "execution_count": 68,
   "metadata": {},
   "outputs": [
    {
     "data": {
      "text/plain": [
       "['Data Scientist - IBM Garage',\n",
       " 'DBCG IND - GAMMA Senior Data Scientist',\n",
       " 'Senior Data Scientist | CES IT LTD | CMMI Level 5',\n",
       " 'Data Scientist/Data Analyst - Python/Machine Learning',\n",
       " 'Data Scientist / Data Analyst – Mobile Gaming Industry',\n",
       " 'Senior Data Scientist - Machine Learning/Hadoop',\n",
       " 'Founding Member & Principal Data Scientist - Machine Learning/Deep',\n",
       " 'Data Scientist',\n",
       " 'Females Required- Data Scientist- Noida',\n",
       " 'Data Scientist - BFSI']"
      ]
     },
     "execution_count": 68,
     "metadata": {},
     "output_type": "execute_result"
    }
   ],
   "source": [
    "#running loop to iterate over the tags extracted above and extract inside them\n",
    "for i in titles_tags:\n",
    "    title=i.text\n",
    "    job_titles.append(title)\n",
    "job_titles[0:10]"
   ]
  },
  {
   "cell_type": "code",
   "execution_count": 69,
   "metadata": {},
   "outputs": [
    {
     "data": {
      "text/plain": [
       "[<selenium.webdriver.remote.webelement.WebElement (session=\"02a6838b4928b73199fbc44e2f95ece8\", element=\"71f3c317-0deb-4762-8bc6-8ea6fb4c27b9\")>,\n",
       " <selenium.webdriver.remote.webelement.WebElement (session=\"02a6838b4928b73199fbc44e2f95ece8\", element=\"5ed7f57f-e4ef-424e-9f82-c54c8b7da087\")>,\n",
       " <selenium.webdriver.remote.webelement.WebElement (session=\"02a6838b4928b73199fbc44e2f95ece8\", element=\"2a6d3a7f-2837-4d71-bc72-8808b1d3a596\")>,\n",
       " <selenium.webdriver.remote.webelement.WebElement (session=\"02a6838b4928b73199fbc44e2f95ece8\", element=\"a5a134b6-c27f-4817-9f95-0e8d6e9c3b4c\")>]"
      ]
     },
     "execution_count": 69,
     "metadata": {},
     "output_type": "execute_result"
    }
   ],
   "source": [
    "#extracting all the tags having the company names\n",
    "companies_tags = driver.find_elements_by_xpath(\"//a[@class='subTitle ellipsis fleft']\")\n",
    "companies_tags[0:4]"
   ]
  },
  {
   "cell_type": "code",
   "execution_count": 70,
   "metadata": {},
   "outputs": [
    {
     "data": {
      "text/plain": [
       "['IBM India Pvt. Limited',\n",
       " 'Boston Consulting Group',\n",
       " 'CES Ltd.',\n",
       " 'Change leaders',\n",
       " 'WITZEAL TECHNOLOGIES PRIVATE LIMITED',\n",
       " 'Decision Point',\n",
       " 'Benovymed Healthcare',\n",
       " 'TransOrg Analytics',\n",
       " 'Randstad',\n",
       " 'Black Turtle India Pvt Ltd']"
      ]
     },
     "execution_count": 70,
     "metadata": {},
     "output_type": "execute_result"
    }
   ],
   "source": [
    "#running loop to iterate over the tags extracted above and extract inside them\n",
    "for i in companies_tags:\n",
    "    company_name=i.text\n",
    "    company_names.append(company_name)\n",
    "company_names[0:10]"
   ]
  },
  {
   "cell_type": "code",
   "execution_count": 71,
   "metadata": {},
   "outputs": [
    {
     "data": {
      "text/plain": [
       "[<selenium.webdriver.remote.webelement.WebElement (session=\"02a6838b4928b73199fbc44e2f95ece8\", element=\"6844fd7c-bf1e-4d79-9a02-5b3618d93709\")>,\n",
       " <selenium.webdriver.remote.webelement.WebElement (session=\"02a6838b4928b73199fbc44e2f95ece8\", element=\"78fa0afb-790e-44ec-9c3b-dce96d479cb2\")>,\n",
       " <selenium.webdriver.remote.webelement.WebElement (session=\"02a6838b4928b73199fbc44e2f95ece8\", element=\"321697e9-2389-4900-9155-ff19c9bf8d47\")>,\n",
       " <selenium.webdriver.remote.webelement.WebElement (session=\"02a6838b4928b73199fbc44e2f95ece8\", element=\"68defe16-ed4f-4e7d-9f5f-fb3002d5ffc9\")>]"
      ]
     },
     "execution_count": 71,
     "metadata": {},
     "output_type": "execute_result"
    }
   ],
   "source": [
    "#extracting all the tags having the job locations\n",
    "location_tags = driver.find_elements_by_xpath(\"//li[@class='fleft grey-text br2 placeHolderLi location']\")\n",
    "location_tags[0:4]"
   ]
  },
  {
   "cell_type": "code",
   "execution_count": 72,
   "metadata": {},
   "outputs": [
    {
     "data": {
      "text/plain": [
       "['Noida, Hyderabad/Secunderabad, Bangalore/Bengaluru',\n",
       " 'Mumbai, New Delhi, Chennai, Bangalore/Bengaluru',\n",
       " 'Kolkata, Mumbai, Hyderabad/Secunderabad, Pune, Chennai, Bangalore/Bengaluru, Delhi / NCR',\n",
       " 'Mumbai, Ghaziabad',\n",
       " 'Gurgaon/Gurugram',\n",
       " 'Gurgaon/Gurugram',\n",
       " 'Gurgaon/Gurugram',\n",
       " 'Mumbai, Gurgaon/Gurugram',\n",
       " 'Noida, Gurgaon/Gurugram, Delhi / NCR',\n",
       " 'Pune, Chennai, Bangalore/Bengaluru, Delhi / NCR']"
      ]
     },
     "execution_count": 72,
     "metadata": {},
     "output_type": "execute_result"
    }
   ],
   "source": [
    "#running loop to iterate over the tags extracted above and extract inside them\n",
    "for i in location_tags:\n",
    "    location=i.text\n",
    "    job_location.append(location)\n",
    "job_location[0:10]"
   ]
  },
  {
   "cell_type": "code",
   "execution_count": 73,
   "metadata": {},
   "outputs": [
    {
     "data": {
      "text/plain": [
       "[<selenium.webdriver.remote.webelement.WebElement (session=\"02a6838b4928b73199fbc44e2f95ece8\", element=\"e70f2a20-ffb9-4f72-b733-ec6894bfe7be\")>,\n",
       " <selenium.webdriver.remote.webelement.WebElement (session=\"02a6838b4928b73199fbc44e2f95ece8\", element=\"c96fa7b1-cdf9-4580-b965-2b55d6f71ce8\")>,\n",
       " <selenium.webdriver.remote.webelement.WebElement (session=\"02a6838b4928b73199fbc44e2f95ece8\", element=\"e2736075-b4f1-4492-b9d5-f9b3172fa77f\")>,\n",
       " <selenium.webdriver.remote.webelement.WebElement (session=\"02a6838b4928b73199fbc44e2f95ece8\", element=\"1cf8a39c-4181-4192-9ef1-bf87de6fc064\")>]"
      ]
     },
     "execution_count": 73,
     "metadata": {},
     "output_type": "execute_result"
    }
   ],
   "source": [
    "#extracting all the tags having experince required\n",
    "experience_tags = driver.find_elements_by_xpath(\"//li[@class='fleft grey-text br2 placeHolderLi experience']\")\n",
    "experience_tags[0:4]"
   ]
  },
  {
   "cell_type": "code",
   "execution_count": 74,
   "metadata": {},
   "outputs": [
    {
     "data": {
      "text/plain": [
       "['5-8 Yrs',\n",
       " '6-10 Yrs',\n",
       " '2-7 Yrs',\n",
       " '5-10 Yrs',\n",
       " '4-7 Yrs',\n",
       " '2-7 Yrs',\n",
       " '3-7 Yrs',\n",
       " '3-6 Yrs',\n",
       " '3-7 Yrs',\n",
       " '8-13 Yrs']"
      ]
     },
     "execution_count": 74,
     "metadata": {},
     "output_type": "execute_result"
    }
   ],
   "source": [
    "#running loop to iterate over the tags extracted above and extract inside them\n",
    "for i in experience_tags:\n",
    "    experience=i.text\n",
    "    experienced_required.append(experience)\n",
    "experienced_required[0:10]"
   ]
  },
  {
   "cell_type": "code",
   "execution_count": 75,
   "metadata": {},
   "outputs": [
    {
     "name": "stdout",
     "output_type": "stream",
     "text": [
      "20 20 20 20\n"
     ]
    }
   ],
   "source": [
    "print(len(job_titles),len(company_names),len(job_location),len(experienced_required))"
   ]
  },
  {
   "cell_type": "code",
   "execution_count": 76,
   "metadata": {},
   "outputs": [],
   "source": [
    "#putting in dataframe\n",
    "\n",
    "jobs=pd.DataFrame({})\n",
    "jobs['titles']=job_titles\n",
    "jobs['company']=company_names\n",
    "jobs['experience_required']=experienced_required\n",
    "jobs['location']=job_location"
   ]
  },
  {
   "cell_type": "code",
   "execution_count": 77,
   "metadata": {},
   "outputs": [
    {
     "data": {
      "text/html": [
       "<div>\n",
       "<style scoped>\n",
       "    .dataframe tbody tr th:only-of-type {\n",
       "        vertical-align: middle;\n",
       "    }\n",
       "\n",
       "    .dataframe tbody tr th {\n",
       "        vertical-align: top;\n",
       "    }\n",
       "\n",
       "    .dataframe thead th {\n",
       "        text-align: right;\n",
       "    }\n",
       "</style>\n",
       "<table border=\"1\" class=\"dataframe\">\n",
       "  <thead>\n",
       "    <tr style=\"text-align: right;\">\n",
       "      <th></th>\n",
       "      <th>titles</th>\n",
       "      <th>company</th>\n",
       "      <th>experience_required</th>\n",
       "      <th>location</th>\n",
       "    </tr>\n",
       "  </thead>\n",
       "  <tbody>\n",
       "    <tr>\n",
       "      <th>0</th>\n",
       "      <td>Data Scientist - IBM Garage</td>\n",
       "      <td>IBM India Pvt. Limited</td>\n",
       "      <td>5-8 Yrs</td>\n",
       "      <td>Noida, Hyderabad/Secunderabad, Bangalore/Benga...</td>\n",
       "    </tr>\n",
       "    <tr>\n",
       "      <th>1</th>\n",
       "      <td>DBCG IND - GAMMA Senior Data Scientist</td>\n",
       "      <td>Boston Consulting Group</td>\n",
       "      <td>6-10 Yrs</td>\n",
       "      <td>Mumbai, New Delhi, Chennai, Bangalore/Bengaluru</td>\n",
       "    </tr>\n",
       "    <tr>\n",
       "      <th>2</th>\n",
       "      <td>Senior Data Scientist | CES IT LTD | CMMI Level 5</td>\n",
       "      <td>CES Ltd.</td>\n",
       "      <td>2-7 Yrs</td>\n",
       "      <td>Kolkata, Mumbai, Hyderabad/Secunderabad, Pune,...</td>\n",
       "    </tr>\n",
       "    <tr>\n",
       "      <th>3</th>\n",
       "      <td>Data Scientist/Data Analyst - Python/Machine L...</td>\n",
       "      <td>Change leaders</td>\n",
       "      <td>5-10 Yrs</td>\n",
       "      <td>Mumbai, Ghaziabad</td>\n",
       "    </tr>\n",
       "    <tr>\n",
       "      <th>4</th>\n",
       "      <td>Data Scientist / Data Analyst – Mobile Gaming ...</td>\n",
       "      <td>WITZEAL TECHNOLOGIES PRIVATE LIMITED</td>\n",
       "      <td>4-7 Yrs</td>\n",
       "      <td>Gurgaon/Gurugram</td>\n",
       "    </tr>\n",
       "    <tr>\n",
       "      <th>5</th>\n",
       "      <td>Senior Data Scientist - Machine Learning/Hadoop</td>\n",
       "      <td>Decision Point</td>\n",
       "      <td>2-7 Yrs</td>\n",
       "      <td>Gurgaon/Gurugram</td>\n",
       "    </tr>\n",
       "    <tr>\n",
       "      <th>6</th>\n",
       "      <td>Founding Member &amp; Principal Data Scientist - M...</td>\n",
       "      <td>Benovymed Healthcare</td>\n",
       "      <td>3-7 Yrs</td>\n",
       "      <td>Gurgaon/Gurugram</td>\n",
       "    </tr>\n",
       "    <tr>\n",
       "      <th>7</th>\n",
       "      <td>Data Scientist</td>\n",
       "      <td>TransOrg Analytics</td>\n",
       "      <td>3-6 Yrs</td>\n",
       "      <td>Mumbai, Gurgaon/Gurugram</td>\n",
       "    </tr>\n",
       "    <tr>\n",
       "      <th>8</th>\n",
       "      <td>Females Required- Data Scientist- Noida</td>\n",
       "      <td>Randstad</td>\n",
       "      <td>3-7 Yrs</td>\n",
       "      <td>Noida, Gurgaon/Gurugram, Delhi / NCR</td>\n",
       "    </tr>\n",
       "    <tr>\n",
       "      <th>9</th>\n",
       "      <td>Data Scientist - BFSI</td>\n",
       "      <td>Black Turtle India Pvt Ltd</td>\n",
       "      <td>8-13 Yrs</td>\n",
       "      <td>Pune, Chennai, Bangalore/Bengaluru, Delhi / NCR</td>\n",
       "    </tr>\n",
       "  </tbody>\n",
       "</table>\n",
       "</div>"
      ],
      "text/plain": [
       "                                              titles  \\\n",
       "0                        Data Scientist - IBM Garage   \n",
       "1             DBCG IND - GAMMA Senior Data Scientist   \n",
       "2  Senior Data Scientist | CES IT LTD | CMMI Level 5   \n",
       "3  Data Scientist/Data Analyst - Python/Machine L...   \n",
       "4  Data Scientist / Data Analyst – Mobile Gaming ...   \n",
       "5    Senior Data Scientist - Machine Learning/Hadoop   \n",
       "6  Founding Member & Principal Data Scientist - M...   \n",
       "7                                     Data Scientist   \n",
       "8            Females Required- Data Scientist- Noida   \n",
       "9                              Data Scientist - BFSI   \n",
       "\n",
       "                                company experience_required  \\\n",
       "0                IBM India Pvt. Limited             5-8 Yrs   \n",
       "1               Boston Consulting Group            6-10 Yrs   \n",
       "2                              CES Ltd.             2-7 Yrs   \n",
       "3                        Change leaders            5-10 Yrs   \n",
       "4  WITZEAL TECHNOLOGIES PRIVATE LIMITED             4-7 Yrs   \n",
       "5                        Decision Point             2-7 Yrs   \n",
       "6                  Benovymed Healthcare             3-7 Yrs   \n",
       "7                    TransOrg Analytics             3-6 Yrs   \n",
       "8                              Randstad             3-7 Yrs   \n",
       "9            Black Turtle India Pvt Ltd            8-13 Yrs   \n",
       "\n",
       "                                            location  \n",
       "0  Noida, Hyderabad/Secunderabad, Bangalore/Benga...  \n",
       "1    Mumbai, New Delhi, Chennai, Bangalore/Bengaluru  \n",
       "2  Kolkata, Mumbai, Hyderabad/Secunderabad, Pune,...  \n",
       "3                                  Mumbai, Ghaziabad  \n",
       "4                                   Gurgaon/Gurugram  \n",
       "5                                   Gurgaon/Gurugram  \n",
       "6                                   Gurgaon/Gurugram  \n",
       "7                           Mumbai, Gurgaon/Gurugram  \n",
       "8               Noida, Gurgaon/Gurugram, Delhi / NCR  \n",
       "9    Pune, Chennai, Bangalore/Bengaluru, Delhi / NCR  "
      ]
     },
     "execution_count": 77,
     "metadata": {},
     "output_type": "execute_result"
    }
   ],
   "source": [
    "jobs[0:10]"
   ]
  },
  {
   "cell_type": "code",
   "execution_count": 78,
   "metadata": {},
   "outputs": [],
   "source": [
    "#Closing the driver\n",
    "driver.close()"
   ]
  },
  {
   "cell_type": "markdown",
   "metadata": {},
   "source": [
    "## Q4: Write a python program to scrape data for first 10 job results for Data scientist Designation in Noida location. "
   ]
  },
  {
   "cell_type": "code",
   "execution_count": 80,
   "metadata": {},
   "outputs": [],
   "source": [
    "#Importing required libraries\n",
    "import selenium\n",
    "import pandas as pd\n",
    "from selenium import webdriver"
   ]
  },
  {
   "cell_type": "code",
   "execution_count": 81,
   "metadata": {},
   "outputs": [],
   "source": [
    "#Connect to web driver\n",
    "driver = webdriver.Chrome(r\"C://chromedriver.exe\")"
   ]
  },
  {
   "cell_type": "code",
   "execution_count": 82,
   "metadata": {},
   "outputs": [],
   "source": [
    "#Getting the website to driver\n",
    "driver.get('https://www.glassdoor.co.in/index.htm')"
   ]
  },
  {
   "cell_type": "code",
   "execution_count": 83,
   "metadata": {},
   "outputs": [],
   "source": [
    "#Finding the required elements from the search bars of job and location\n",
    "job_search=driver.find_element_by_id('sc.keyword')\n",
    "location_search=driver.find_element_by_id('sc.location')\n",
    "\n",
    "#Sending the inputs to the webpage\n",
    "job_search.send_keys(\"Data Scientist\")\n",
    "location_search.send_keys(\"Noida\")\n",
    "\n",
    "#Searching the inputs by using the search button and clicking it\n",
    "driver.find_element_by_xpath(\"//button[@class='gd-ui-button ml-std col-auto SearchStyles__newSearchButton css-iixdfr']\").click()"
   ]
  },
  {
   "cell_type": "code",
   "execution_count": 84,
   "metadata": {},
   "outputs": [],
   "source": [
    "#Specifying the url of the webpage to be scraped\n",
    "url=\"https://www.glassdoor.co.in/Job/noida-data-scientist-jobs-SRCH_IL.0,5_IC4477468_KO6,20.htm\"\n",
    "driver.get(url)"
   ]
  },
  {
   "cell_type": "code",
   "execution_count": 85,
   "metadata": {},
   "outputs": [
    {
     "data": {
      "text/plain": [
       "[<selenium.webdriver.remote.webelement.WebElement (session=\"f618fbb3fe1c750ee8fea127cc12aee9\", element=\"577c6348-f27c-4d6e-a547-d5ff90389b70\")>,\n",
       " <selenium.webdriver.remote.webelement.WebElement (session=\"f618fbb3fe1c750ee8fea127cc12aee9\", element=\"f509456e-548e-468d-8b93-0ee1223e7af4\")>,\n",
       " <selenium.webdriver.remote.webelement.WebElement (session=\"f618fbb3fe1c750ee8fea127cc12aee9\", element=\"52c0cc3d-663c-4c14-9d0a-1f21b77ad54c\")>,\n",
       " <selenium.webdriver.remote.webelement.WebElement (session=\"f618fbb3fe1c750ee8fea127cc12aee9\", element=\"19b4fd14-ea5d-4c0b-bbc7-a1328a35549d\")>,\n",
       " <selenium.webdriver.remote.webelement.WebElement (session=\"f618fbb3fe1c750ee8fea127cc12aee9\", element=\"66bb14db-4466-4ad3-a602-ec6bfc77c3ae\")>,\n",
       " <selenium.webdriver.remote.webelement.WebElement (session=\"f618fbb3fe1c750ee8fea127cc12aee9\", element=\"94221fc0-7004-4467-9b78-6b1ccf07c34a\")>,\n",
       " <selenium.webdriver.remote.webelement.WebElement (session=\"f618fbb3fe1c750ee8fea127cc12aee9\", element=\"3f7b9562-3407-47da-9ce0-d5862bdbeb45\")>,\n",
       " <selenium.webdriver.remote.webelement.WebElement (session=\"f618fbb3fe1c750ee8fea127cc12aee9\", element=\"0d8aa9c7-8ac9-4f1f-bbe9-246d225045f5\")>,\n",
       " <selenium.webdriver.remote.webelement.WebElement (session=\"f618fbb3fe1c750ee8fea127cc12aee9\", element=\"d7ef6947-4607-4c23-ad6e-757d94d59b98\")>,\n",
       " <selenium.webdriver.remote.webelement.WebElement (session=\"f618fbb3fe1c750ee8fea127cc12aee9\", element=\"6517dcb3-8de0-47f5-a760-a9238e3f1e57\")>,\n",
       " <selenium.webdriver.remote.webelement.WebElement (session=\"f618fbb3fe1c750ee8fea127cc12aee9\", element=\"8f978e02-9a93-450f-bae5-51cce5ed4fe9\")>,\n",
       " <selenium.webdriver.remote.webelement.WebElement (session=\"f618fbb3fe1c750ee8fea127cc12aee9\", element=\"0433cfec-64e8-46ad-8279-2017a7ca9c5d\")>,\n",
       " <selenium.webdriver.remote.webelement.WebElement (session=\"f618fbb3fe1c750ee8fea127cc12aee9\", element=\"c799bb94-d149-44ac-b561-9788bd3a51e3\")>,\n",
       " <selenium.webdriver.remote.webelement.WebElement (session=\"f618fbb3fe1c750ee8fea127cc12aee9\", element=\"c32f1f2e-34de-49a0-a60c-15ba626c6371\")>,\n",
       " <selenium.webdriver.remote.webelement.WebElement (session=\"f618fbb3fe1c750ee8fea127cc12aee9\", element=\"287b9455-200f-41bc-91a1-8a9d2f97052d\")>,\n",
       " <selenium.webdriver.remote.webelement.WebElement (session=\"f618fbb3fe1c750ee8fea127cc12aee9\", element=\"8489fcf8-9a38-4555-a3af-05401b4568ac\")>,\n",
       " <selenium.webdriver.remote.webelement.WebElement (session=\"f618fbb3fe1c750ee8fea127cc12aee9\", element=\"9279f8a9-e40f-4a55-8b0f-9e71823e17ab\")>,\n",
       " <selenium.webdriver.remote.webelement.WebElement (session=\"f618fbb3fe1c750ee8fea127cc12aee9\", element=\"a20fbd59-22d7-4765-99bb-94e7459f6e32\")>,\n",
       " <selenium.webdriver.remote.webelement.WebElement (session=\"f618fbb3fe1c750ee8fea127cc12aee9\", element=\"74cfe982-fd15-4b4f-9b93-08b92426d0be\")>,\n",
       " <selenium.webdriver.remote.webelement.WebElement (session=\"f618fbb3fe1c750ee8fea127cc12aee9\", element=\"66293989-51dc-469a-96ba-3089fc44f9c9\")>,\n",
       " <selenium.webdriver.remote.webelement.WebElement (session=\"f618fbb3fe1c750ee8fea127cc12aee9\", element=\"ae523262-b99e-4b81-ac12-7dead3364529\")>,\n",
       " <selenium.webdriver.remote.webelement.WebElement (session=\"f618fbb3fe1c750ee8fea127cc12aee9\", element=\"ad3b8dcf-5e9f-468e-987c-c0b3ffab60cc\")>,\n",
       " <selenium.webdriver.remote.webelement.WebElement (session=\"f618fbb3fe1c750ee8fea127cc12aee9\", element=\"1820e066-3760-484d-a392-eae002687f54\")>,\n",
       " <selenium.webdriver.remote.webelement.WebElement (session=\"f618fbb3fe1c750ee8fea127cc12aee9\", element=\"c47bb956-1e16-4a06-9b4b-844d620f5f28\")>,\n",
       " <selenium.webdriver.remote.webelement.WebElement (session=\"f618fbb3fe1c750ee8fea127cc12aee9\", element=\"de9564a9-3e2b-4ed8-a203-a77d3259ec0b\")>,\n",
       " <selenium.webdriver.remote.webelement.WebElement (session=\"f618fbb3fe1c750ee8fea127cc12aee9\", element=\"d4296896-ee30-4f06-92b2-38173b90032a\")>,\n",
       " <selenium.webdriver.remote.webelement.WebElement (session=\"f618fbb3fe1c750ee8fea127cc12aee9\", element=\"864205d1-921e-43b1-a379-af154f3c2c4a\")>,\n",
       " <selenium.webdriver.remote.webelement.WebElement (session=\"f618fbb3fe1c750ee8fea127cc12aee9\", element=\"8d03556a-168f-43a7-8123-a0d36c17a169\")>,\n",
       " <selenium.webdriver.remote.webelement.WebElement (session=\"f618fbb3fe1c750ee8fea127cc12aee9\", element=\"9d4f0bb9-988a-4473-a332-841948a4b0c3\")>,\n",
       " <selenium.webdriver.remote.webelement.WebElement (session=\"f618fbb3fe1c750ee8fea127cc12aee9\", element=\"56a2804f-1944-423b-bc7a-46d58712fe13\")>]"
      ]
     },
     "execution_count": 85,
     "metadata": {},
     "output_type": "execute_result"
    }
   ],
   "source": [
    "#Extracting the tags having the company name\n",
    "name=driver.find_elements_by_xpath(\"//div[@class='d-flex justify-content-between align-items-start']/a/span\")\n",
    "name"
   ]
  },
  {
   "cell_type": "code",
   "execution_count": 86,
   "metadata": {},
   "outputs": [
    {
     "data": {
      "text/plain": [
       "['Biz2Credit Inc',\n",
       " 'Techlive',\n",
       " 'Adobe',\n",
       " 'Salasar New Age Technologies',\n",
       " 'Microsoft',\n",
       " 'Salasar New Age Technologies',\n",
       " 'JLL',\n",
       " 'Asquero',\n",
       " 'ESRI, Inc.',\n",
       " 'SearchUrCollege']"
      ]
     },
     "execution_count": 86,
     "metadata": {},
     "output_type": "execute_result"
    }
   ],
   "source": [
    "#Extracting the text from the tags\n",
    "company=[]  #Empty list\n",
    "\n",
    "#As we need to scrap data for the first 10 job results, we are running a for loop for first 10 results only\n",
    "for i in name[:10]:\n",
    "    company.append(i.text)\n",
    "company"
   ]
  },
  {
   "cell_type": "code",
   "execution_count": 87,
   "metadata": {},
   "outputs": [
    {
     "data": {
      "text/plain": [
       "[<selenium.webdriver.remote.webelement.WebElement (session=\"f618fbb3fe1c750ee8fea127cc12aee9\", element=\"09b68103-ea25-492f-83a4-e6024e021504\")>,\n",
       " <selenium.webdriver.remote.webelement.WebElement (session=\"f618fbb3fe1c750ee8fea127cc12aee9\", element=\"6a4d2896-4aaa-4b6a-8ab3-e9e967a8574f\")>,\n",
       " <selenium.webdriver.remote.webelement.WebElement (session=\"f618fbb3fe1c750ee8fea127cc12aee9\", element=\"c1fe0dbe-8568-49bc-81af-33fd594e5a69\")>,\n",
       " <selenium.webdriver.remote.webelement.WebElement (session=\"f618fbb3fe1c750ee8fea127cc12aee9\", element=\"ee32cbc6-6c5f-4fd1-8b5b-bf45bcba202d\")>,\n",
       " <selenium.webdriver.remote.webelement.WebElement (session=\"f618fbb3fe1c750ee8fea127cc12aee9\", element=\"e5aa62cd-cebb-4301-bd37-a8ae426700dc\")>,\n",
       " <selenium.webdriver.remote.webelement.WebElement (session=\"f618fbb3fe1c750ee8fea127cc12aee9\", element=\"781ef8cd-1070-489f-aac5-7a420946fba1\")>,\n",
       " <selenium.webdriver.remote.webelement.WebElement (session=\"f618fbb3fe1c750ee8fea127cc12aee9\", element=\"81545f97-b16f-43e4-9e59-ca469e23c2e9\")>,\n",
       " <selenium.webdriver.remote.webelement.WebElement (session=\"f618fbb3fe1c750ee8fea127cc12aee9\", element=\"81cc7efc-695e-4879-8da3-3388a8788165\")>,\n",
       " <selenium.webdriver.remote.webelement.WebElement (session=\"f618fbb3fe1c750ee8fea127cc12aee9\", element=\"49d85f58-954d-4059-b3e5-b56e1205b01e\")>,\n",
       " <selenium.webdriver.remote.webelement.WebElement (session=\"f618fbb3fe1c750ee8fea127cc12aee9\", element=\"ddf6eb12-9f4b-4f9e-a02c-7771f206bed5\")>,\n",
       " <selenium.webdriver.remote.webelement.WebElement (session=\"f618fbb3fe1c750ee8fea127cc12aee9\", element=\"32a05f85-33e3-414d-96ab-1787893d8eae\")>,\n",
       " <selenium.webdriver.remote.webelement.WebElement (session=\"f618fbb3fe1c750ee8fea127cc12aee9\", element=\"839a7ab1-840c-4959-8f11-300d6d6663ff\")>,\n",
       " <selenium.webdriver.remote.webelement.WebElement (session=\"f618fbb3fe1c750ee8fea127cc12aee9\", element=\"616ba5a3-6054-4dda-a687-1cd2f488eacb\")>,\n",
       " <selenium.webdriver.remote.webelement.WebElement (session=\"f618fbb3fe1c750ee8fea127cc12aee9\", element=\"b1772743-93cc-40d7-8d15-bfb7dcca23d0\")>,\n",
       " <selenium.webdriver.remote.webelement.WebElement (session=\"f618fbb3fe1c750ee8fea127cc12aee9\", element=\"990a2224-2ccc-4f68-a83b-3fe0aa414776\")>,\n",
       " <selenium.webdriver.remote.webelement.WebElement (session=\"f618fbb3fe1c750ee8fea127cc12aee9\", element=\"1c801624-1c26-48c7-9a50-ec8670e8fdf1\")>,\n",
       " <selenium.webdriver.remote.webelement.WebElement (session=\"f618fbb3fe1c750ee8fea127cc12aee9\", element=\"bc16490a-c922-4af7-9021-c7e1855738b7\")>,\n",
       " <selenium.webdriver.remote.webelement.WebElement (session=\"f618fbb3fe1c750ee8fea127cc12aee9\", element=\"cf648595-765e-4f24-a3a8-53340c7e3688\")>,\n",
       " <selenium.webdriver.remote.webelement.WebElement (session=\"f618fbb3fe1c750ee8fea127cc12aee9\", element=\"9ed4f469-6f71-48d0-8458-b6be1e5786df\")>,\n",
       " <selenium.webdriver.remote.webelement.WebElement (session=\"f618fbb3fe1c750ee8fea127cc12aee9\", element=\"d04375ef-5ff4-4cd1-af0f-8c3596632214\")>,\n",
       " <selenium.webdriver.remote.webelement.WebElement (session=\"f618fbb3fe1c750ee8fea127cc12aee9\", element=\"8071e847-3163-4086-b25a-c723181910f2\")>,\n",
       " <selenium.webdriver.remote.webelement.WebElement (session=\"f618fbb3fe1c750ee8fea127cc12aee9\", element=\"df99d35a-cf25-4f10-a631-0bf3ed2e0197\")>,\n",
       " <selenium.webdriver.remote.webelement.WebElement (session=\"f618fbb3fe1c750ee8fea127cc12aee9\", element=\"ada6c7ae-8205-4c98-aca6-e8da2a988d5a\")>,\n",
       " <selenium.webdriver.remote.webelement.WebElement (session=\"f618fbb3fe1c750ee8fea127cc12aee9\", element=\"e8002933-b665-4f04-b514-5197932450e0\")>,\n",
       " <selenium.webdriver.remote.webelement.WebElement (session=\"f618fbb3fe1c750ee8fea127cc12aee9\", element=\"91c62b69-b5ea-464d-895c-e9c763f47370\")>,\n",
       " <selenium.webdriver.remote.webelement.WebElement (session=\"f618fbb3fe1c750ee8fea127cc12aee9\", element=\"ce154171-c409-4c19-a79f-4fcc0b3e1231\")>,\n",
       " <selenium.webdriver.remote.webelement.WebElement (session=\"f618fbb3fe1c750ee8fea127cc12aee9\", element=\"a465ea56-4b45-4c32-8a3b-4e7df5e43b1f\")>,\n",
       " <selenium.webdriver.remote.webelement.WebElement (session=\"f618fbb3fe1c750ee8fea127cc12aee9\", element=\"d69535dc-9a52-4af3-a461-e8c82b2935c2\")>,\n",
       " <selenium.webdriver.remote.webelement.WebElement (session=\"f618fbb3fe1c750ee8fea127cc12aee9\", element=\"b3c6dc36-64f6-47b6-b1fc-a7da8cc36fa9\")>,\n",
       " <selenium.webdriver.remote.webelement.WebElement (session=\"f618fbb3fe1c750ee8fea127cc12aee9\", element=\"29e14cc5-9979-437d-8ca6-52412cde8e0f\")>]"
      ]
     },
     "execution_count": 87,
     "metadata": {},
     "output_type": "execute_result"
    }
   ],
   "source": [
    "#Extracting the tags having the no of days when job was posted\n",
    "days=driver.find_elements_by_xpath(\"//div[@class='d-flex align-items-end pl-std css-mi55ob']\")\n",
    "days"
   ]
  },
  {
   "cell_type": "code",
   "execution_count": 88,
   "metadata": {},
   "outputs": [
    {
     "data": {
      "text/plain": [
       "['30 days ago+',\n",
       " '30 days ago+',\n",
       " '9 days ago',\n",
       " '30 days ago+',\n",
       " '30 days ago+',\n",
       " '30 days ago+',\n",
       " '24h',\n",
       " '10 days ago',\n",
       " '5 days ago',\n",
       " '30 days ago+']"
      ]
     },
     "execution_count": 88,
     "metadata": {},
     "output_type": "execute_result"
    }
   ],
   "source": [
    "#Extracting the text from the tags\n",
    "no_of_days=[]  #Empty list\n",
    "\n",
    "#As we need to scrap data for the first 10 job results, we are running a for loop for first 10 results only\n",
    "for i in days[:10]:\n",
    "    no_of_days.append(i.text.replace('d',' days ago'))\n",
    "no_of_days"
   ]
  },
  {
   "cell_type": "code",
   "execution_count": 89,
   "metadata": {},
   "outputs": [
    {
     "data": {
      "text/plain": [
       "[<selenium.webdriver.remote.webelement.WebElement (session=\"f618fbb3fe1c750ee8fea127cc12aee9\", element=\"5010db6f-1bac-40c6-a1a4-02259a6adf3a\")>,\n",
       " <selenium.webdriver.remote.webelement.WebElement (session=\"f618fbb3fe1c750ee8fea127cc12aee9\", element=\"37dada53-077d-4e9a-8ec8-6043ab040387\")>,\n",
       " <selenium.webdriver.remote.webelement.WebElement (session=\"f618fbb3fe1c750ee8fea127cc12aee9\", element=\"b0c4bfe1-ab7f-4cfa-b795-ccc938521340\")>,\n",
       " <selenium.webdriver.remote.webelement.WebElement (session=\"f618fbb3fe1c750ee8fea127cc12aee9\", element=\"7bba8a8e-d88b-44a9-be16-326502c49b7d\")>,\n",
       " <selenium.webdriver.remote.webelement.WebElement (session=\"f618fbb3fe1c750ee8fea127cc12aee9\", element=\"c847943d-d999-4bba-a2c0-b413e0c9d8d1\")>,\n",
       " <selenium.webdriver.remote.webelement.WebElement (session=\"f618fbb3fe1c750ee8fea127cc12aee9\", element=\"ac87a674-11f5-40ea-b3f9-ce7f4b0d4714\")>,\n",
       " <selenium.webdriver.remote.webelement.WebElement (session=\"f618fbb3fe1c750ee8fea127cc12aee9\", element=\"491682ae-7264-4d5c-bd00-84a98770a16c\")>,\n",
       " <selenium.webdriver.remote.webelement.WebElement (session=\"f618fbb3fe1c750ee8fea127cc12aee9\", element=\"8192c4a5-9ddd-41cb-b1e4-fc327d772703\")>,\n",
       " <selenium.webdriver.remote.webelement.WebElement (session=\"f618fbb3fe1c750ee8fea127cc12aee9\", element=\"cb61d3de-b175-4bb9-a73a-cde00e27949f\")>,\n",
       " <selenium.webdriver.remote.webelement.WebElement (session=\"f618fbb3fe1c750ee8fea127cc12aee9\", element=\"ea6071f7-3bd9-4590-b76d-34025d905562\")>,\n",
       " <selenium.webdriver.remote.webelement.WebElement (session=\"f618fbb3fe1c750ee8fea127cc12aee9\", element=\"7acbfbc2-2aea-4f06-9be8-a5abd082b3ac\")>,\n",
       " <selenium.webdriver.remote.webelement.WebElement (session=\"f618fbb3fe1c750ee8fea127cc12aee9\", element=\"504ea504-6dd2-465a-9bc8-a54a223117b5\")>,\n",
       " <selenium.webdriver.remote.webelement.WebElement (session=\"f618fbb3fe1c750ee8fea127cc12aee9\", element=\"c584c0f1-80a0-4d54-8c11-a0f68366e16c\")>,\n",
       " <selenium.webdriver.remote.webelement.WebElement (session=\"f618fbb3fe1c750ee8fea127cc12aee9\", element=\"eea86161-67cb-4c11-8c4e-970a9267bdff\")>,\n",
       " <selenium.webdriver.remote.webelement.WebElement (session=\"f618fbb3fe1c750ee8fea127cc12aee9\", element=\"00967f7f-ddae-4f2d-8cae-cce4745b90d0\")>,\n",
       " <selenium.webdriver.remote.webelement.WebElement (session=\"f618fbb3fe1c750ee8fea127cc12aee9\", element=\"5876f3fe-ecb9-4dea-9be2-3dd5c2c871a4\")>,\n",
       " <selenium.webdriver.remote.webelement.WebElement (session=\"f618fbb3fe1c750ee8fea127cc12aee9\", element=\"77ea8cd8-9a3c-4f0d-a732-03ff1a242eeb\")>,\n",
       " <selenium.webdriver.remote.webelement.WebElement (session=\"f618fbb3fe1c750ee8fea127cc12aee9\", element=\"4aea5e18-d709-4098-a64b-34569a4e671c\")>,\n",
       " <selenium.webdriver.remote.webelement.WebElement (session=\"f618fbb3fe1c750ee8fea127cc12aee9\", element=\"ecbf22ed-1773-47ef-8175-779186eb56d1\")>,\n",
       " <selenium.webdriver.remote.webelement.WebElement (session=\"f618fbb3fe1c750ee8fea127cc12aee9\", element=\"efd6f759-6bce-411e-908d-67e694d706c1\")>,\n",
       " <selenium.webdriver.remote.webelement.WebElement (session=\"f618fbb3fe1c750ee8fea127cc12aee9\", element=\"8b574c6e-08ef-4cdc-866c-cba5a30494ac\")>,\n",
       " <selenium.webdriver.remote.webelement.WebElement (session=\"f618fbb3fe1c750ee8fea127cc12aee9\", element=\"87ade38c-8638-47f5-8a1d-b3511134495e\")>]"
      ]
     },
     "execution_count": 89,
     "metadata": {},
     "output_type": "execute_result"
    }
   ],
   "source": [
    "#Extracting the tags having the rating of the company\n",
    "rating=driver.find_elements_by_xpath(\"//span[@class='css-19pjha7 e1cjmv6j1']\")\n",
    "rating"
   ]
  },
  {
   "cell_type": "code",
   "execution_count": 90,
   "metadata": {},
   "outputs": [
    {
     "data": {
      "text/plain": [
       "['3.8', '5.0', '4.4', '4.4', '4.0', '5.0', '3.9', '4.2', '3.8', '3.6']"
      ]
     },
     "execution_count": 90,
     "metadata": {},
     "output_type": "execute_result"
    }
   ],
   "source": [
    "#Extracting the text from the tags\n",
    "ratings=[]  #Empty list\n",
    "\n",
    "#As we need to scrap data for the first 10 job results, we are running a for loop for first 10 results only\n",
    "for i in rating[:10]:\n",
    "    ratings.append(i.text)\n",
    "ratings"
   ]
  },
  {
   "cell_type": "code",
   "execution_count": 91,
   "metadata": {},
   "outputs": [
    {
     "name": "stdout",
     "output_type": "stream",
     "text": [
      "10 10 10\n"
     ]
    }
   ],
   "source": [
    "#Checking out the length of the data extracted\n",
    "print(len(company),len(no_of_days),len(ratings))"
   ]
  },
  {
   "cell_type": "code",
   "execution_count": 92,
   "metadata": {},
   "outputs": [
    {
     "data": {
      "text/html": [
       "<div>\n",
       "<style scoped>\n",
       "    .dataframe tbody tr th:only-of-type {\n",
       "        vertical-align: middle;\n",
       "    }\n",
       "\n",
       "    .dataframe tbody tr th {\n",
       "        vertical-align: top;\n",
       "    }\n",
       "\n",
       "    .dataframe thead th {\n",
       "        text-align: right;\n",
       "    }\n",
       "</style>\n",
       "<table border=\"1\" class=\"dataframe\">\n",
       "  <thead>\n",
       "    <tr style=\"text-align: right;\">\n",
       "      <th></th>\n",
       "      <th>Company name</th>\n",
       "      <th>Days posted</th>\n",
       "      <th>Rating of the company</th>\n",
       "    </tr>\n",
       "  </thead>\n",
       "  <tbody>\n",
       "    <tr>\n",
       "      <th>0</th>\n",
       "      <td>Biz2Credit Inc</td>\n",
       "      <td>30 days ago+</td>\n",
       "      <td>3.8</td>\n",
       "    </tr>\n",
       "    <tr>\n",
       "      <th>1</th>\n",
       "      <td>Techlive</td>\n",
       "      <td>30 days ago+</td>\n",
       "      <td>5.0</td>\n",
       "    </tr>\n",
       "    <tr>\n",
       "      <th>2</th>\n",
       "      <td>Adobe</td>\n",
       "      <td>9 days ago</td>\n",
       "      <td>4.4</td>\n",
       "    </tr>\n",
       "    <tr>\n",
       "      <th>3</th>\n",
       "      <td>Salasar New Age Technologies</td>\n",
       "      <td>30 days ago+</td>\n",
       "      <td>4.4</td>\n",
       "    </tr>\n",
       "    <tr>\n",
       "      <th>4</th>\n",
       "      <td>Microsoft</td>\n",
       "      <td>30 days ago+</td>\n",
       "      <td>4.0</td>\n",
       "    </tr>\n",
       "    <tr>\n",
       "      <th>5</th>\n",
       "      <td>Salasar New Age Technologies</td>\n",
       "      <td>30 days ago+</td>\n",
       "      <td>5.0</td>\n",
       "    </tr>\n",
       "    <tr>\n",
       "      <th>6</th>\n",
       "      <td>JLL</td>\n",
       "      <td>24h</td>\n",
       "      <td>3.9</td>\n",
       "    </tr>\n",
       "    <tr>\n",
       "      <th>7</th>\n",
       "      <td>Asquero</td>\n",
       "      <td>10 days ago</td>\n",
       "      <td>4.2</td>\n",
       "    </tr>\n",
       "    <tr>\n",
       "      <th>8</th>\n",
       "      <td>ESRI, Inc.</td>\n",
       "      <td>5 days ago</td>\n",
       "      <td>3.8</td>\n",
       "    </tr>\n",
       "    <tr>\n",
       "      <th>9</th>\n",
       "      <td>SearchUrCollege</td>\n",
       "      <td>30 days ago+</td>\n",
       "      <td>3.6</td>\n",
       "    </tr>\n",
       "  </tbody>\n",
       "</table>\n",
       "</div>"
      ],
      "text/plain": [
       "                   Company name   Days posted Rating of the company\n",
       "0                Biz2Credit Inc  30 days ago+                   3.8\n",
       "1                      Techlive  30 days ago+                   5.0\n",
       "2                         Adobe    9 days ago                   4.4\n",
       "3  Salasar New Age Technologies  30 days ago+                   4.4\n",
       "4                     Microsoft  30 days ago+                   4.0\n",
       "5  Salasar New Age Technologies  30 days ago+                   5.0\n",
       "6                           JLL           24h                   3.9\n",
       "7                       Asquero   10 days ago                   4.2\n",
       "8                    ESRI, Inc.    5 days ago                   3.8\n",
       "9               SearchUrCollege  30 days ago+                   3.6"
      ]
     },
     "execution_count": 92,
     "metadata": {},
     "output_type": "execute_result"
    }
   ],
   "source": [
    "#Creating a new dataframe for saving the data\n",
    "jobs=pd.DataFrame({})\n",
    "jobs['Company name']=company\n",
    "jobs['Days posted']=no_of_days\n",
    "jobs['Rating of the company']=ratings\n",
    "jobs"
   ]
  },
  {
   "cell_type": "code",
   "execution_count": 93,
   "metadata": {},
   "outputs": [],
   "source": [
    "#Closing the driver\n",
    "driver.close()"
   ]
  },
  {
   "cell_type": "markdown",
   "metadata": {},
   "source": [
    "## Q5: Write a python program to scrape the salary data for Data Scientist designation in Noida location."
   ]
  },
  {
   "cell_type": "code",
   "execution_count": 94,
   "metadata": {},
   "outputs": [],
   "source": [
    "#Importing required libraries\n",
    "import selenium\n",
    "import pandas as pd\n",
    "from selenium import webdriver"
   ]
  },
  {
   "cell_type": "code",
   "execution_count": 95,
   "metadata": {},
   "outputs": [],
   "source": [
    "#Connect to web driver\n",
    "driver = webdriver.Chrome(r\"C://chromedriver.exe\")"
   ]
  },
  {
   "cell_type": "code",
   "execution_count": 96,
   "metadata": {},
   "outputs": [],
   "source": [
    "#Getting the website to driver\n",
    "driver.get('https://www.glassdoor.co.in/Salaries/index.htm')"
   ]
  },
  {
   "cell_type": "code",
   "execution_count": 97,
   "metadata": {},
   "outputs": [],
   "source": [
    "#Finding the required elements from the search bars of job and location\n",
    "job_search=driver.find_element_by_id('KeywordSearch')\n",
    "location_search=driver.find_element_by_id('LocationSearch')\n",
    "\n",
    "#Sending the inputs to the webpage\n",
    "job_search.send_keys(\"Data Scientist\")\n",
    "location_search.send_keys(\"Noida\")\n",
    "\n",
    "#Searching the inputs by using the search button and clicking it\n",
    "driver.find_element_by_xpath(\"//button[@class='gd-btn-mkt']\").click()"
   ]
  },
  {
   "cell_type": "code",
   "execution_count": 98,
   "metadata": {},
   "outputs": [],
   "source": [
    "#Specifying the url of the webpage to be scraped\n",
    "url=\"https://www.glassdoor.co.in/Salaries/new-delhi-data-scientist-salary-SRCH_IL.0,9_IM1083_KO10,24.htm?clickSource=searchBtn\"\n",
    "driver.get(url)"
   ]
  },
  {
   "cell_type": "code",
   "execution_count": 99,
   "metadata": {},
   "outputs": [
    {
     "data": {
      "text/plain": [
       "[<selenium.webdriver.remote.webelement.WebElement (session=\"f52c800a04b3944fc1374ad06fda5ff5\", element=\"6b49ccf0-0596-4737-80a6-2915fc81d828\")>,\n",
       " <selenium.webdriver.remote.webelement.WebElement (session=\"f52c800a04b3944fc1374ad06fda5ff5\", element=\"d5963225-b03e-494f-ac84-5669ae90bdba\")>,\n",
       " <selenium.webdriver.remote.webelement.WebElement (session=\"f52c800a04b3944fc1374ad06fda5ff5\", element=\"0f71b0f6-d32c-4ddd-bce9-345518f3f450\")>,\n",
       " <selenium.webdriver.remote.webelement.WebElement (session=\"f52c800a04b3944fc1374ad06fda5ff5\", element=\"5958bc23-80e8-4f27-a0ae-c2cfaaf1c40f\")>,\n",
       " <selenium.webdriver.remote.webelement.WebElement (session=\"f52c800a04b3944fc1374ad06fda5ff5\", element=\"85f0e273-6951-4dd6-899b-9c14e3c4a13a\")>,\n",
       " <selenium.webdriver.remote.webelement.WebElement (session=\"f52c800a04b3944fc1374ad06fda5ff5\", element=\"74af5ba7-3244-4535-8633-f5c2475c85f3\")>,\n",
       " <selenium.webdriver.remote.webelement.WebElement (session=\"f52c800a04b3944fc1374ad06fda5ff5\", element=\"a0ff0236-61ce-4c27-b5d1-4291db62e42c\")>,\n",
       " <selenium.webdriver.remote.webelement.WebElement (session=\"f52c800a04b3944fc1374ad06fda5ff5\", element=\"b93dd677-5a13-44da-b898-53b52ea9223e\")>,\n",
       " <selenium.webdriver.remote.webelement.WebElement (session=\"f52c800a04b3944fc1374ad06fda5ff5\", element=\"82063331-7202-450c-8c75-4ee9092ffd3f\")>,\n",
       " <selenium.webdriver.remote.webelement.WebElement (session=\"f52c800a04b3944fc1374ad06fda5ff5\", element=\"8074b33a-8191-4559-9acb-8c3eb1034eb9\")>,\n",
       " <selenium.webdriver.remote.webelement.WebElement (session=\"f52c800a04b3944fc1374ad06fda5ff5\", element=\"178ec7a2-07b8-4035-bcd1-bc98a7fb3193\")>,\n",
       " <selenium.webdriver.remote.webelement.WebElement (session=\"f52c800a04b3944fc1374ad06fda5ff5\", element=\"d0367080-2daf-44ed-a5ea-350bd016af96\")>,\n",
       " <selenium.webdriver.remote.webelement.WebElement (session=\"f52c800a04b3944fc1374ad06fda5ff5\", element=\"caaad7f7-2684-4b1d-8693-c6601866702f\")>,\n",
       " <selenium.webdriver.remote.webelement.WebElement (session=\"f52c800a04b3944fc1374ad06fda5ff5\", element=\"f0e80292-bb73-4be0-b42d-ba28f2e3ddab\")>,\n",
       " <selenium.webdriver.remote.webelement.WebElement (session=\"f52c800a04b3944fc1374ad06fda5ff5\", element=\"f14454c9-a3c1-48c0-8b60-a3318995c5f8\")>,\n",
       " <selenium.webdriver.remote.webelement.WebElement (session=\"f52c800a04b3944fc1374ad06fda5ff5\", element=\"d2c0bfe1-f13c-4710-be09-8ae00d14319d\")>,\n",
       " <selenium.webdriver.remote.webelement.WebElement (session=\"f52c800a04b3944fc1374ad06fda5ff5\", element=\"8bf9fe0d-672b-4bc7-94a4-33fdd872830b\")>,\n",
       " <selenium.webdriver.remote.webelement.WebElement (session=\"f52c800a04b3944fc1374ad06fda5ff5\", element=\"d32720f8-c4ac-4488-933b-7ce1ff7cd661\")>,\n",
       " <selenium.webdriver.remote.webelement.WebElement (session=\"f52c800a04b3944fc1374ad06fda5ff5\", element=\"b7021dcb-4f18-472d-9a34-a89f22094fcf\")>,\n",
       " <selenium.webdriver.remote.webelement.WebElement (session=\"f52c800a04b3944fc1374ad06fda5ff5\", element=\"3790fe3d-db23-4e5b-9467-86ee95485465\")>]"
      ]
     },
     "execution_count": 99,
     "metadata": {},
     "output_type": "execute_result"
    }
   ],
   "source": [
    "#Extracting the tags having the company name\n",
    "comp_name=driver.find_elements_by_xpath(\"//div[@class='d-flex']/div[2]/p[2]\")\n",
    "comp_name"
   ]
  },
  {
   "cell_type": "code",
   "execution_count": 100,
   "metadata": {},
   "outputs": [
    {
     "data": {
      "text/plain": [
       "['Tata Consultancy Services',\n",
       " 'Accenture',\n",
       " 'Delhivery',\n",
       " 'IBM',\n",
       " 'Ericsson-Worldwide',\n",
       " 'UnitedHealth Group',\n",
       " 'Valiance Solutions',\n",
       " 'Innovaccer',\n",
       " 'ZS Associates',\n",
       " 'EXL Service']"
      ]
     },
     "execution_count": 100,
     "metadata": {},
     "output_type": "execute_result"
    }
   ],
   "source": [
    "#Extracting the text from the tags\n",
    "company=[]  #Empty list\n",
    "\n",
    "#As we need to scrap data for the first 10 job results, we are running a for loop for first 10 results only\n",
    "for i in comp_name[:10]:\n",
    "    company.append(i.text)\n",
    "company"
   ]
  },
  {
   "cell_type": "code",
   "execution_count": 101,
   "metadata": {},
   "outputs": [
    {
     "data": {
      "text/plain": [
       "[<selenium.webdriver.remote.webelement.WebElement (session=\"f52c800a04b3944fc1374ad06fda5ff5\", element=\"471a8951-0e4a-4d6e-b5aa-7913e2d3a632\")>,\n",
       " <selenium.webdriver.remote.webelement.WebElement (session=\"f52c800a04b3944fc1374ad06fda5ff5\", element=\"08503beb-5c4d-41ed-89b6-4719ec7d1caa\")>,\n",
       " <selenium.webdriver.remote.webelement.WebElement (session=\"f52c800a04b3944fc1374ad06fda5ff5\", element=\"8339ff2a-8a3c-4584-9806-d26b469889aa\")>,\n",
       " <selenium.webdriver.remote.webelement.WebElement (session=\"f52c800a04b3944fc1374ad06fda5ff5\", element=\"d7d23d92-9f72-4090-b90c-52d4358bc434\")>,\n",
       " <selenium.webdriver.remote.webelement.WebElement (session=\"f52c800a04b3944fc1374ad06fda5ff5\", element=\"1552a81c-1cd7-4ec3-8c0d-5f54225ef646\")>,\n",
       " <selenium.webdriver.remote.webelement.WebElement (session=\"f52c800a04b3944fc1374ad06fda5ff5\", element=\"5026d1cb-e177-4b36-81e3-2b688ccc49a7\")>,\n",
       " <selenium.webdriver.remote.webelement.WebElement (session=\"f52c800a04b3944fc1374ad06fda5ff5\", element=\"a8aae8d5-2235-4f84-a9c2-aa4e81548843\")>,\n",
       " <selenium.webdriver.remote.webelement.WebElement (session=\"f52c800a04b3944fc1374ad06fda5ff5\", element=\"41839f36-5d79-4966-9f8c-bcab41c746cc\")>,\n",
       " <selenium.webdriver.remote.webelement.WebElement (session=\"f52c800a04b3944fc1374ad06fda5ff5\", element=\"15e931eb-f2d9-4b3e-80ee-eff1c734bbbe\")>,\n",
       " <selenium.webdriver.remote.webelement.WebElement (session=\"f52c800a04b3944fc1374ad06fda5ff5\", element=\"ad8ed675-7a01-46e3-9e3d-bb2c4cc51716\")>,\n",
       " <selenium.webdriver.remote.webelement.WebElement (session=\"f52c800a04b3944fc1374ad06fda5ff5\", element=\"a4ada19b-6473-4386-89ef-5ac03870768d\")>,\n",
       " <selenium.webdriver.remote.webelement.WebElement (session=\"f52c800a04b3944fc1374ad06fda5ff5\", element=\"8f19b4f8-482a-44fd-810d-4558781d6b8b\")>,\n",
       " <selenium.webdriver.remote.webelement.WebElement (session=\"f52c800a04b3944fc1374ad06fda5ff5\", element=\"633004a2-6000-4af2-9c94-ea8792dea989\")>,\n",
       " <selenium.webdriver.remote.webelement.WebElement (session=\"f52c800a04b3944fc1374ad06fda5ff5\", element=\"1517f54b-6f84-46bb-9710-b0ec22d06cb7\")>,\n",
       " <selenium.webdriver.remote.webelement.WebElement (session=\"f52c800a04b3944fc1374ad06fda5ff5\", element=\"17e8a7eb-c207-411e-8543-8b573a0423cb\")>,\n",
       " <selenium.webdriver.remote.webelement.WebElement (session=\"f52c800a04b3944fc1374ad06fda5ff5\", element=\"e99ed72a-27fd-48f5-8ead-4561b218a047\")>,\n",
       " <selenium.webdriver.remote.webelement.WebElement (session=\"f52c800a04b3944fc1374ad06fda5ff5\", element=\"e477c600-bc0f-4bce-aacf-b048d334c3f4\")>,\n",
       " <selenium.webdriver.remote.webelement.WebElement (session=\"f52c800a04b3944fc1374ad06fda5ff5\", element=\"94e85529-85a0-4efe-ac72-5441ffea3db7\")>,\n",
       " <selenium.webdriver.remote.webelement.WebElement (session=\"f52c800a04b3944fc1374ad06fda5ff5\", element=\"09323533-48c3-428d-8e3e-7afc7a2f33a3\")>,\n",
       " <selenium.webdriver.remote.webelement.WebElement (session=\"f52c800a04b3944fc1374ad06fda5ff5\", element=\"31d28779-87df-446b-8830-6c9609097e83\")>]"
      ]
     },
     "execution_count": 101,
     "metadata": {},
     "output_type": "execute_result"
    }
   ],
   "source": [
    "#Extracting the tags having the number of salaries\n",
    "no_salaries=driver.find_elements_by_xpath(\"//div[@class='d-flex']/div[2]/p[5]\")\n",
    "no_salaries"
   ]
  },
  {
   "cell_type": "code",
   "execution_count": 102,
   "metadata": {},
   "outputs": [
    {
     "data": {
      "text/plain": [
       "['14 salaries',\n",
       " '14 salaries',\n",
       " '14 salaries',\n",
       " '13 salaries',\n",
       " '12 salaries',\n",
       " '10 salaries',\n",
       " '9 salaries',\n",
       " '8 salaries',\n",
       " '7 salaries',\n",
       " '7 salaries']"
      ]
     },
     "execution_count": 102,
     "metadata": {},
     "output_type": "execute_result"
    }
   ],
   "source": [
    "#Extracting the text from the tags\n",
    "no_of_salaries=[]  #Empty list\n",
    "\n",
    "#As we need to scrap data for the first 10 job results, we are running a for loop for first 10 results only\n",
    "for i in no_salaries[:10]:\n",
    "    no_of_salaries.append(i.text)\n",
    "no_of_salaries"
   ]
  },
  {
   "cell_type": "code",
   "execution_count": 103,
   "metadata": {},
   "outputs": [
    {
     "data": {
      "text/plain": [
       "[<selenium.webdriver.remote.webelement.WebElement (session=\"f52c800a04b3944fc1374ad06fda5ff5\", element=\"18150ac4-3670-4c26-835c-bc72d3f32130\")>,\n",
       " <selenium.webdriver.remote.webelement.WebElement (session=\"f52c800a04b3944fc1374ad06fda5ff5\", element=\"638192f2-0f7a-4405-b22d-44e488f6c558\")>,\n",
       " <selenium.webdriver.remote.webelement.WebElement (session=\"f52c800a04b3944fc1374ad06fda5ff5\", element=\"f8cc661b-550f-411a-bf02-c5984945ed12\")>,\n",
       " <selenium.webdriver.remote.webelement.WebElement (session=\"f52c800a04b3944fc1374ad06fda5ff5\", element=\"28fe0f57-7ee6-43cf-b062-f8acc356697a\")>,\n",
       " <selenium.webdriver.remote.webelement.WebElement (session=\"f52c800a04b3944fc1374ad06fda5ff5\", element=\"78de2d4a-d37e-4188-9b04-3cb86c5daad5\")>,\n",
       " <selenium.webdriver.remote.webelement.WebElement (session=\"f52c800a04b3944fc1374ad06fda5ff5\", element=\"0f6fd988-5a92-4973-9d28-14eab3626979\")>,\n",
       " <selenium.webdriver.remote.webelement.WebElement (session=\"f52c800a04b3944fc1374ad06fda5ff5\", element=\"e9ec1286-84c4-4577-88dd-3556259826d0\")>,\n",
       " <selenium.webdriver.remote.webelement.WebElement (session=\"f52c800a04b3944fc1374ad06fda5ff5\", element=\"570d2d60-fd08-4aec-9245-34a481c3ddbd\")>,\n",
       " <selenium.webdriver.remote.webelement.WebElement (session=\"f52c800a04b3944fc1374ad06fda5ff5\", element=\"5bc7fbc1-21af-4a92-b09a-074f37394468\")>,\n",
       " <selenium.webdriver.remote.webelement.WebElement (session=\"f52c800a04b3944fc1374ad06fda5ff5\", element=\"cf03f13a-4cc6-4dc9-a8f2-89a1eb089347\")>,\n",
       " <selenium.webdriver.remote.webelement.WebElement (session=\"f52c800a04b3944fc1374ad06fda5ff5\", element=\"76006312-d7e2-4fee-8d80-4028c56eda51\")>,\n",
       " <selenium.webdriver.remote.webelement.WebElement (session=\"f52c800a04b3944fc1374ad06fda5ff5\", element=\"5467f23f-8fc8-4e3d-b48e-ac9f187ee791\")>,\n",
       " <selenium.webdriver.remote.webelement.WebElement (session=\"f52c800a04b3944fc1374ad06fda5ff5\", element=\"cf96247a-ff69-481a-9dd8-19629f914c70\")>,\n",
       " <selenium.webdriver.remote.webelement.WebElement (session=\"f52c800a04b3944fc1374ad06fda5ff5\", element=\"6f9d24a2-363b-422a-8b1e-8bb8444e71d9\")>,\n",
       " <selenium.webdriver.remote.webelement.WebElement (session=\"f52c800a04b3944fc1374ad06fda5ff5\", element=\"e83b183a-94e2-42b0-86c3-d3b799ae289d\")>,\n",
       " <selenium.webdriver.remote.webelement.WebElement (session=\"f52c800a04b3944fc1374ad06fda5ff5\", element=\"7d118f88-779a-4d68-8aa1-31c003e15f7f\")>,\n",
       " <selenium.webdriver.remote.webelement.WebElement (session=\"f52c800a04b3944fc1374ad06fda5ff5\", element=\"0f4c7889-9ca3-467a-aa24-7fed453eed84\")>,\n",
       " <selenium.webdriver.remote.webelement.WebElement (session=\"f52c800a04b3944fc1374ad06fda5ff5\", element=\"1885f877-db88-41da-920a-309f8838f59f\")>,\n",
       " <selenium.webdriver.remote.webelement.WebElement (session=\"f52c800a04b3944fc1374ad06fda5ff5\", element=\"f49be39b-3fca-488d-b2ba-dc1de00e0a75\")>,\n",
       " <selenium.webdriver.remote.webelement.WebElement (session=\"f52c800a04b3944fc1374ad06fda5ff5\", element=\"c81c5ae5-eb3e-4bee-bbd3-5dc1fd92781e\")>]"
      ]
     },
     "execution_count": 103,
     "metadata": {},
     "output_type": "execute_result"
    }
   ],
   "source": [
    "#Extracting the tags having average salary\n",
    "avg_sal=driver.find_elements_by_xpath(\"//div[@class='col-2 d-none d-md-flex flex-row justify-content-end']\")\n",
    "avg_sal"
   ]
  },
  {
   "cell_type": "code",
   "execution_count": 104,
   "metadata": {},
   "outputs": [
    {
     "data": {
      "text/plain": [
       "['₹ 6,01,000/yr',\n",
       " '₹ 11,51,207/yr',\n",
       " '₹ 12,34,207/yr',\n",
       " '₹ 7,63,825/yr',\n",
       " '₹ 7,32,209/yr',\n",
       " '₹ 13,88,910/yr',\n",
       " '₹ 8,18,515/yr',\n",
       " '₹ 12,01,403/yr',\n",
       " '₹ 10,00,000/yr',\n",
       " '₹ 11,90,000/yr']"
      ]
     },
     "execution_count": 104,
     "metadata": {},
     "output_type": "execute_result"
    }
   ],
   "source": [
    "#Extracting the text from the tags\n",
    "avg_salary=[]  #Empty list\n",
    "\n",
    "#As we need to scrap data for the first 10 job results, we are running a for loop for first 10 results only\n",
    "for i in avg_sal[:10]:\n",
    "    avg_salary.append(i.text.replace('\\n',''))\n",
    "avg_salary"
   ]
  },
  {
   "cell_type": "code",
   "execution_count": 105,
   "metadata": {},
   "outputs": [
    {
     "data": {
      "text/plain": [
       "[<selenium.webdriver.remote.webelement.WebElement (session=\"f52c800a04b3944fc1374ad06fda5ff5\", element=\"d14571a5-64b1-458c-89f3-1a16413eedc7\")>,\n",
       " <selenium.webdriver.remote.webelement.WebElement (session=\"f52c800a04b3944fc1374ad06fda5ff5\", element=\"9ce1ff03-60e9-452e-ba4f-c95f458c167f\")>,\n",
       " <selenium.webdriver.remote.webelement.WebElement (session=\"f52c800a04b3944fc1374ad06fda5ff5\", element=\"56603a78-5872-4570-8276-0b68e13c2f8a\")>,\n",
       " <selenium.webdriver.remote.webelement.WebElement (session=\"f52c800a04b3944fc1374ad06fda5ff5\", element=\"9c6938c3-fcc2-42ff-ae24-88ce3d9e555c\")>,\n",
       " <selenium.webdriver.remote.webelement.WebElement (session=\"f52c800a04b3944fc1374ad06fda5ff5\", element=\"e4806828-9ac1-492c-bae4-87b37d75935c\")>,\n",
       " <selenium.webdriver.remote.webelement.WebElement (session=\"f52c800a04b3944fc1374ad06fda5ff5\", element=\"6b49b503-8808-46f6-9e52-0f7245be19ba\")>,\n",
       " <selenium.webdriver.remote.webelement.WebElement (session=\"f52c800a04b3944fc1374ad06fda5ff5\", element=\"6fe317bd-4b75-4687-baba-97a2f164bb78\")>,\n",
       " <selenium.webdriver.remote.webelement.WebElement (session=\"f52c800a04b3944fc1374ad06fda5ff5\", element=\"0f63939f-1a17-4ccd-8cfb-fca96e288be6\")>,\n",
       " <selenium.webdriver.remote.webelement.WebElement (session=\"f52c800a04b3944fc1374ad06fda5ff5\", element=\"374013c8-38ff-402d-9a6a-0d8b7b262858\")>,\n",
       " <selenium.webdriver.remote.webelement.WebElement (session=\"f52c800a04b3944fc1374ad06fda5ff5\", element=\"0ba8c467-1391-4c8f-b1d0-2bb883e935cf\")>,\n",
       " <selenium.webdriver.remote.webelement.WebElement (session=\"f52c800a04b3944fc1374ad06fda5ff5\", element=\"e007a2d1-dd7d-458c-a513-4f50d03fe35b\")>,\n",
       " <selenium.webdriver.remote.webelement.WebElement (session=\"f52c800a04b3944fc1374ad06fda5ff5\", element=\"3961de0e-bf95-4491-b02a-61f318cf0931\")>,\n",
       " <selenium.webdriver.remote.webelement.WebElement (session=\"f52c800a04b3944fc1374ad06fda5ff5\", element=\"ae270764-d345-426c-9514-53b1204dacf2\")>,\n",
       " <selenium.webdriver.remote.webelement.WebElement (session=\"f52c800a04b3944fc1374ad06fda5ff5\", element=\"b762aeb9-2e3f-4085-903e-665ad4587b40\")>,\n",
       " <selenium.webdriver.remote.webelement.WebElement (session=\"f52c800a04b3944fc1374ad06fda5ff5\", element=\"23329349-851f-4886-b1dd-4b62bd0135b8\")>,\n",
       " <selenium.webdriver.remote.webelement.WebElement (session=\"f52c800a04b3944fc1374ad06fda5ff5\", element=\"05b12258-8065-4a2a-85df-5239e08667e1\")>,\n",
       " <selenium.webdriver.remote.webelement.WebElement (session=\"f52c800a04b3944fc1374ad06fda5ff5\", element=\"c0c40589-2750-4e61-95ba-739f04bae470\")>,\n",
       " <selenium.webdriver.remote.webelement.WebElement (session=\"f52c800a04b3944fc1374ad06fda5ff5\", element=\"048e8d5e-d18e-4266-a211-601a17033daf\")>,\n",
       " <selenium.webdriver.remote.webelement.WebElement (session=\"f52c800a04b3944fc1374ad06fda5ff5\", element=\"3893518e-d83a-456c-9f2b-e997a5bef0bc\")>,\n",
       " <selenium.webdriver.remote.webelement.WebElement (session=\"f52c800a04b3944fc1374ad06fda5ff5\", element=\"486b4412-1e7c-4dbe-ba7d-63b434e9ccb7\")>]"
      ]
     },
     "execution_count": 105,
     "metadata": {},
     "output_type": "execute_result"
    }
   ],
   "source": [
    "#Extracting the tags having minimum salary\n",
    "min_sal=driver.find_elements_by_xpath(\"//div[@class='col-3 offset-1 d-none d-md-block']/div/div[2]/span[1]\")\n",
    "min_sal"
   ]
  },
  {
   "cell_type": "code",
   "execution_count": 106,
   "metadata": {},
   "outputs": [
    {
     "data": {
      "text/plain": [
       "['₹336K',\n",
       " '₹579K',\n",
       " '₹452K',\n",
       " '₹589K',\n",
       " '₹350K',\n",
       " '₹1,050K',\n",
       " '₹504K',\n",
       " '₹623K',\n",
       " '₹203K',\n",
       " '₹578K']"
      ]
     },
     "execution_count": 106,
     "metadata": {},
     "output_type": "execute_result"
    }
   ],
   "source": [
    "#Extracting the text from the tags\n",
    "min_salary=[]  #Empty list\n",
    "\n",
    "#As we need to scrap data for the first 10 job results, we are running a for loop for first 10 results only\n",
    "for i in min_sal[:10]:\n",
    "    min_salary.append(i.text)\n",
    "min_salary"
   ]
  },
  {
   "cell_type": "code",
   "execution_count": 107,
   "metadata": {},
   "outputs": [
    {
     "data": {
      "text/plain": [
       "[<selenium.webdriver.remote.webelement.WebElement (session=\"f52c800a04b3944fc1374ad06fda5ff5\", element=\"376d7f18-1a57-41d9-b884-98cb9ecf3fcc\")>,\n",
       " <selenium.webdriver.remote.webelement.WebElement (session=\"f52c800a04b3944fc1374ad06fda5ff5\", element=\"e64c8cc9-d9cb-4d33-a2ec-174e6e926a2c\")>,\n",
       " <selenium.webdriver.remote.webelement.WebElement (session=\"f52c800a04b3944fc1374ad06fda5ff5\", element=\"5ae3418c-7c7f-4726-8da1-f083d19bf0ea\")>,\n",
       " <selenium.webdriver.remote.webelement.WebElement (session=\"f52c800a04b3944fc1374ad06fda5ff5\", element=\"fd5efaa8-d425-497b-b3b8-efadabcfd062\")>,\n",
       " <selenium.webdriver.remote.webelement.WebElement (session=\"f52c800a04b3944fc1374ad06fda5ff5\", element=\"8abbc66a-429d-4c54-b8a8-3040ab9efaea\")>,\n",
       " <selenium.webdriver.remote.webelement.WebElement (session=\"f52c800a04b3944fc1374ad06fda5ff5\", element=\"83cf2742-e0a3-4c20-baaa-8126e275000d\")>,\n",
       " <selenium.webdriver.remote.webelement.WebElement (session=\"f52c800a04b3944fc1374ad06fda5ff5\", element=\"79fa7a02-7a59-488e-97ce-6cfd5f1bc2ec\")>,\n",
       " <selenium.webdriver.remote.webelement.WebElement (session=\"f52c800a04b3944fc1374ad06fda5ff5\", element=\"4941f556-67b6-4bc1-8eba-3ff1f4fefd57\")>,\n",
       " <selenium.webdriver.remote.webelement.WebElement (session=\"f52c800a04b3944fc1374ad06fda5ff5\", element=\"eb5bf38a-7acb-4bee-8198-a241d827375b\")>,\n",
       " <selenium.webdriver.remote.webelement.WebElement (session=\"f52c800a04b3944fc1374ad06fda5ff5\", element=\"5c66535c-af0e-47bf-bd9a-c07052876da4\")>,\n",
       " <selenium.webdriver.remote.webelement.WebElement (session=\"f52c800a04b3944fc1374ad06fda5ff5\", element=\"8360da0a-29d3-405c-a410-a0bdf0123595\")>,\n",
       " <selenium.webdriver.remote.webelement.WebElement (session=\"f52c800a04b3944fc1374ad06fda5ff5\", element=\"b9ed01e2-9768-42ab-bbb7-4be21b5fe4c7\")>,\n",
       " <selenium.webdriver.remote.webelement.WebElement (session=\"f52c800a04b3944fc1374ad06fda5ff5\", element=\"ba1290c4-d8f1-4194-9cc3-bad2bc485fb6\")>,\n",
       " <selenium.webdriver.remote.webelement.WebElement (session=\"f52c800a04b3944fc1374ad06fda5ff5\", element=\"edaf3923-203f-4116-ab7d-8cc536160bed\")>,\n",
       " <selenium.webdriver.remote.webelement.WebElement (session=\"f52c800a04b3944fc1374ad06fda5ff5\", element=\"abeb7eb5-c182-47f4-b074-95c3446f1df4\")>,\n",
       " <selenium.webdriver.remote.webelement.WebElement (session=\"f52c800a04b3944fc1374ad06fda5ff5\", element=\"4562c6d1-de5a-4512-8122-2efff779bbb6\")>,\n",
       " <selenium.webdriver.remote.webelement.WebElement (session=\"f52c800a04b3944fc1374ad06fda5ff5\", element=\"a8bafce1-b525-4654-9527-6bfc41c5b626\")>,\n",
       " <selenium.webdriver.remote.webelement.WebElement (session=\"f52c800a04b3944fc1374ad06fda5ff5\", element=\"fe749753-9ed7-43c3-a7f8-93d3727c80b5\")>,\n",
       " <selenium.webdriver.remote.webelement.WebElement (session=\"f52c800a04b3944fc1374ad06fda5ff5\", element=\"f680ec84-77bc-43b6-8776-483ffbdfa420\")>,\n",
       " <selenium.webdriver.remote.webelement.WebElement (session=\"f52c800a04b3944fc1374ad06fda5ff5\", element=\"4aee2b30-80d0-402b-bf92-e9ebb1f388d8\")>]"
      ]
     },
     "execution_count": 107,
     "metadata": {},
     "output_type": "execute_result"
    }
   ],
   "source": [
    "#Extracting the tags having the maximum salary\n",
    "max_sal=driver.find_elements_by_xpath(\"//div[@class='col-3 offset-1 d-none d-md-block']/div/div[2]/span[2]\")\n",
    "max_sal"
   ]
  },
  {
   "cell_type": "code",
   "execution_count": 108,
   "metadata": {},
   "outputs": [
    {
     "data": {
      "text/plain": [
       "['₹1,080K',\n",
       " '₹2,222K',\n",
       " '₹11,669K',\n",
       " '₹2,741K',\n",
       " '₹1,619K',\n",
       " '₹1,500K',\n",
       " '₹1,471K',\n",
       " '₹1,702K',\n",
       " '₹1,817K',\n",
       " '₹1,500K']"
      ]
     },
     "execution_count": 108,
     "metadata": {},
     "output_type": "execute_result"
    }
   ],
   "source": [
    "#Extracting the text from the tags\n",
    "max_salary=[]  #Empty list\n",
    "\n",
    "#As we need to scrap data for the first 10 job results, we are running a for loop for first 10 results only\n",
    "for i in max_sal[:10]:\n",
    "    max_salary.append(i.text)\n",
    "max_salary"
   ]
  },
  {
   "cell_type": "code",
   "execution_count": 109,
   "metadata": {},
   "outputs": [
    {
     "name": "stdout",
     "output_type": "stream",
     "text": [
      "10 10 10 10 10\n"
     ]
    }
   ],
   "source": [
    "#Checking out the length of the data extracted\n",
    "print(len(company),len(no_of_salaries),len(avg_salary),len(min_salary),len(max_salary))"
   ]
  },
  {
   "cell_type": "code",
   "execution_count": 110,
   "metadata": {},
   "outputs": [
    {
     "data": {
      "text/html": [
       "<div>\n",
       "<style scoped>\n",
       "    .dataframe tbody tr th:only-of-type {\n",
       "        vertical-align: middle;\n",
       "    }\n",
       "\n",
       "    .dataframe tbody tr th {\n",
       "        vertical-align: top;\n",
       "    }\n",
       "\n",
       "    .dataframe thead th {\n",
       "        text-align: right;\n",
       "    }\n",
       "</style>\n",
       "<table border=\"1\" class=\"dataframe\">\n",
       "  <thead>\n",
       "    <tr style=\"text-align: right;\">\n",
       "      <th></th>\n",
       "      <th>Company Name</th>\n",
       "      <th>Number of salaries</th>\n",
       "      <th>Average salary</th>\n",
       "      <th>Minimum salary</th>\n",
       "      <th>Maximum salary</th>\n",
       "    </tr>\n",
       "  </thead>\n",
       "  <tbody>\n",
       "    <tr>\n",
       "      <th>0</th>\n",
       "      <td>Tata Consultancy Services</td>\n",
       "      <td>14 salaries</td>\n",
       "      <td>₹ 6,01,000/yr</td>\n",
       "      <td>₹336K</td>\n",
       "      <td>₹1,080K</td>\n",
       "    </tr>\n",
       "    <tr>\n",
       "      <th>1</th>\n",
       "      <td>Accenture</td>\n",
       "      <td>14 salaries</td>\n",
       "      <td>₹ 11,51,207/yr</td>\n",
       "      <td>₹579K</td>\n",
       "      <td>₹2,222K</td>\n",
       "    </tr>\n",
       "    <tr>\n",
       "      <th>2</th>\n",
       "      <td>Delhivery</td>\n",
       "      <td>14 salaries</td>\n",
       "      <td>₹ 12,34,207/yr</td>\n",
       "      <td>₹452K</td>\n",
       "      <td>₹11,669K</td>\n",
       "    </tr>\n",
       "    <tr>\n",
       "      <th>3</th>\n",
       "      <td>IBM</td>\n",
       "      <td>13 salaries</td>\n",
       "      <td>₹ 7,63,825/yr</td>\n",
       "      <td>₹589K</td>\n",
       "      <td>₹2,741K</td>\n",
       "    </tr>\n",
       "    <tr>\n",
       "      <th>4</th>\n",
       "      <td>Ericsson-Worldwide</td>\n",
       "      <td>12 salaries</td>\n",
       "      <td>₹ 7,32,209/yr</td>\n",
       "      <td>₹350K</td>\n",
       "      <td>₹1,619K</td>\n",
       "    </tr>\n",
       "    <tr>\n",
       "      <th>5</th>\n",
       "      <td>UnitedHealth Group</td>\n",
       "      <td>10 salaries</td>\n",
       "      <td>₹ 13,88,910/yr</td>\n",
       "      <td>₹1,050K</td>\n",
       "      <td>₹1,500K</td>\n",
       "    </tr>\n",
       "    <tr>\n",
       "      <th>6</th>\n",
       "      <td>Valiance Solutions</td>\n",
       "      <td>9 salaries</td>\n",
       "      <td>₹ 8,18,515/yr</td>\n",
       "      <td>₹504K</td>\n",
       "      <td>₹1,471K</td>\n",
       "    </tr>\n",
       "    <tr>\n",
       "      <th>7</th>\n",
       "      <td>Innovaccer</td>\n",
       "      <td>8 salaries</td>\n",
       "      <td>₹ 12,01,403/yr</td>\n",
       "      <td>₹623K</td>\n",
       "      <td>₹1,702K</td>\n",
       "    </tr>\n",
       "    <tr>\n",
       "      <th>8</th>\n",
       "      <td>ZS Associates</td>\n",
       "      <td>7 salaries</td>\n",
       "      <td>₹ 10,00,000/yr</td>\n",
       "      <td>₹203K</td>\n",
       "      <td>₹1,817K</td>\n",
       "    </tr>\n",
       "    <tr>\n",
       "      <th>9</th>\n",
       "      <td>EXL Service</td>\n",
       "      <td>7 salaries</td>\n",
       "      <td>₹ 11,90,000/yr</td>\n",
       "      <td>₹578K</td>\n",
       "      <td>₹1,500K</td>\n",
       "    </tr>\n",
       "  </tbody>\n",
       "</table>\n",
       "</div>"
      ],
      "text/plain": [
       "                Company Name Number of salaries  Average salary  \\\n",
       "0  Tata Consultancy Services        14 salaries   ₹ 6,01,000/yr   \n",
       "1                  Accenture        14 salaries  ₹ 11,51,207/yr   \n",
       "2                  Delhivery        14 salaries  ₹ 12,34,207/yr   \n",
       "3                        IBM        13 salaries   ₹ 7,63,825/yr   \n",
       "4         Ericsson-Worldwide        12 salaries   ₹ 7,32,209/yr   \n",
       "5         UnitedHealth Group        10 salaries  ₹ 13,88,910/yr   \n",
       "6         Valiance Solutions         9 salaries   ₹ 8,18,515/yr   \n",
       "7                 Innovaccer         8 salaries  ₹ 12,01,403/yr   \n",
       "8              ZS Associates         7 salaries  ₹ 10,00,000/yr   \n",
       "9                EXL Service         7 salaries  ₹ 11,90,000/yr   \n",
       "\n",
       "  Minimum salary Maximum salary  \n",
       "0          ₹336K        ₹1,080K  \n",
       "1          ₹579K        ₹2,222K  \n",
       "2          ₹452K       ₹11,669K  \n",
       "3          ₹589K        ₹2,741K  \n",
       "4          ₹350K        ₹1,619K  \n",
       "5        ₹1,050K        ₹1,500K  \n",
       "6          ₹504K        ₹1,471K  \n",
       "7          ₹623K        ₹1,702K  \n",
       "8          ₹203K        ₹1,817K  \n",
       "9          ₹578K        ₹1,500K  "
      ]
     },
     "execution_count": 110,
     "metadata": {},
     "output_type": "execute_result"
    }
   ],
   "source": [
    "#Creating a new dataframe for saving the data\n",
    "jobs=pd.DataFrame({})\n",
    "jobs['Company Name']=company\n",
    "jobs['Number of salaries']=no_of_salaries\n",
    "jobs['Average salary']=avg_salary\n",
    "jobs['Minimum salary']=min_salary\n",
    "jobs['Maximum salary']=max_salary\n",
    "jobs"
   ]
  },
  {
   "cell_type": "code",
   "execution_count": 111,
   "metadata": {},
   "outputs": [],
   "source": [
    "#Closing the driver\n",
    "driver.close()"
   ]
  },
  {
   "cell_type": "markdown",
   "metadata": {},
   "source": [
    "## Q6 : Scrape data of first 100 sunglasses listings on flipkart.com. You have to scrape four attributes:"
   ]
  },
  {
   "cell_type": "code",
   "execution_count": 148,
   "metadata": {},
   "outputs": [],
   "source": [
    "# Importing Libraries\n",
    "import pandas as pd\n",
    "from bs4 import BeautifulSoup\n",
    "import requests \n",
    "import selenium\n",
    "from selenium import webdriver\n",
    "import time\n",
    "from selenium.common.exceptions import StaleElementReferenceException, NoSuchElementException,ElementNotInteractableException,InvalidArgumentException,InvalidCookieDomainException"
   ]
  },
  {
   "cell_type": "code",
   "execution_count": 149,
   "metadata": {},
   "outputs": [],
   "source": [
    "#connecting to the webdriver\n",
    "driver = webdriver.Chrome(r\"C://chromedriver.exe\")"
   ]
  },
  {
   "cell_type": "code",
   "execution_count": 150,
   "metadata": {},
   "outputs": [],
   "source": [
    "#Getting the website to driver\n",
    "driver.get('https://www.flipkart.com/search?q=sunglasses&otracker=search&otracker1=search&marketplace=FLIPKART&as-show=on&as=off')"
   ]
  },
  {
   "cell_type": "code",
   "execution_count": 151,
   "metadata": {},
   "outputs": [],
   "source": [
    "#specifying the url of the webpage to be scraped\n",
    "url=\"https://www.flipkart.com/search?q=sunglasses&otracker=search&otracker1=search&marketplace=FLIPKART&as-show=on&as=off\""
   ]
  },
  {
   "cell_type": "code",
   "execution_count": 152,
   "metadata": {},
   "outputs": [],
   "source": [
    "#opening the webpage through our driver\n",
    "driver.get(url)"
   ]
  },
  {
   "cell_type": "code",
   "execution_count": 153,
   "metadata": {},
   "outputs": [],
   "source": [
    "#creating the empty lists\n",
    "Brand=[]\n",
    "Product_Description=[]\n",
    "Price=[]\n",
    "Discount=[]"
   ]
  },
  {
   "cell_type": "code",
   "execution_count": 154,
   "metadata": {},
   "outputs": [],
   "source": [
    "#getting the list of url of first 100 sunglasses\n",
    "URL=[]\n",
    "for i in range(0,3):\n",
    "    sunglasses=driver.find_elements_by_xpath(\"//a[@class='_2UzuFa']\")[0:100]\n",
    "    for i in sunglasses:\n",
    "        URL.append(i.get_attribute('href'))\n",
    "    driver.find_element_by_xpath('//*[@id=\"container\"]/div/div[3]/div[1]/div[2]/div[12]/div/div/nav/a[11]').click()\n",
    "    time.sleep(3)"
   ]
  },
  {
   "cell_type": "code",
   "execution_count": 155,
   "metadata": {},
   "outputs": [
    {
     "data": {
      "text/plain": [
       "['https://www.flipkart.com/silver-kartz-aviator-sunglasses/p/itmf7g4z46kyvvex?pid=SGLF7G35FTKPBPNB&lid=LSTSGLF7G35FTKPBPNBKCRBRJ&marketplace=FLIPKART&q=sunglasses&store=26x&srno=s_1_1&otracker=search&otracker1=search&fm=organic&iid=en_fB1t%2F0RaKtmw8qUBlmrsWIeS2%2Bw40xCPxdvGqRhFbWMvbd7aOjMjQOfM9%2B8VFQN1JGi5JL5lQOMFsdsDuXXgDw%3D%3D&ssid=xyolr5flw00000001617777601776&qH=2cc465e3eef5bff0',\n",
       " 'https://www.flipkart.com/royal-son-retro-square-sunglasses/p/itm212388ef7fc65?pid=SGLFNFU4MMKYSCFH&lid=LSTSGLFNFU4MMKYSCFHCNIBKD&marketplace=FLIPKART&q=sunglasses&store=26x&srno=s_1_2&otracker=search&otracker1=search&fm=organic&iid=en_fB1t%2F0RaKtmw8qUBlmrsWIeS2%2Bw40xCPxdvGqRhFbWOFNsKPOYqx34YY%2BbCclyckJrVpEpXxbtzoNBG3DgmLNw%3D%3D&ssid=xyolr5flw00000001617777601776&qH=2cc465e3eef5bff0',\n",
       " 'https://www.flipkart.com/fastrack-wayfarer-sunglasses/p/itmf79dqjqucq9f3?pid=SGLF79DQR8NQAT2W&lid=LSTSGLF79DQR8NQAT2W0MLSHN&marketplace=FLIPKART&q=sunglasses&store=26x&srno=s_1_3&otracker=search&otracker1=search&fm=organic&iid=f8f8acb3-07b0-4b81-b1e8-38c104f54439.SGLF79DQR8NQAT2W.SEARCH&ssid=xyolr5flw00000001617777601776&qH=2cc465e3eef5bff0',\n",
       " 'https://www.flipkart.com/piraso-aviator-sunglasses/p/itm70504d13b7992?pid=SGLFV8YYCEA8RWAC&lid=LSTSGLFV8YYCEA8RWACIACICJ&marketplace=FLIPKART&q=sunglasses&store=26x&srno=s_1_4&otracker=search&otracker1=search&fm=organic&iid=f8f8acb3-07b0-4b81-b1e8-38c104f54439.SGLFV8YYCEA8RWAC.SEARCH&ssid=xyolr5flw00000001617777601776&qH=2cc465e3eef5bff0',\n",
       " 'https://www.flipkart.com/fastrack-rectangular-sunglasses/p/itmf3yhd8wephwxh?pid=SGLES2WMF6CH5GYF&lid=LSTSGLES2WMF6CH5GYFXRVSZN&marketplace=FLIPKART&q=sunglasses&store=26x&srno=s_1_5&otracker=search&otracker1=search&fm=organic&iid=f8f8acb3-07b0-4b81-b1e8-38c104f54439.SGLES2WMF6CH5GYF.SEARCH&ssid=xyolr5flw00000001617777601776&qH=2cc465e3eef5bff0',\n",
       " 'https://www.flipkart.com/piraso-aviator-sunglasses/p/itme10cb1c3329df?pid=SGLFZGE6GMSXZGRP&lid=LSTSGLFZGE6GMSXZGRPN2FYWJ&marketplace=FLIPKART&q=sunglasses&store=26x&spotlightTagId=BestsellerId_26x&srno=s_1_6&otracker=search&otracker1=search&fm=organic&iid=f8f8acb3-07b0-4b81-b1e8-38c104f54439.SGLFZGE6GMSXZGRP.SEARCH&ssid=xyolr5flw00000001617777601776&qH=2cc465e3eef5bff0',\n",
       " 'https://www.flipkart.com/fastrack-wayfarer-sunglasses/p/itma9864babc060c?pid=SGLFG94CV3EVXTZE&lid=LSTSGLFG94CV3EVXTZEPQ88ZR&marketplace=FLIPKART&q=sunglasses&store=26x&srno=s_1_7&otracker=search&otracker1=search&fm=organic&iid=f8f8acb3-07b0-4b81-b1e8-38c104f54439.SGLFG94CV3EVXTZE.SEARCH&ssid=xyolr5flw00000001617777601776&qH=2cc465e3eef5bff0',\n",
       " 'https://www.flipkart.com/rozzetta-craft-retro-square-sunglasses/p/itmf248ba5b3a895?pid=SGLFZFZNAQNZHYB7&lid=LSTSGLFZFZNAQNZHYB7GZ3YO5&marketplace=FLIPKART&q=sunglasses&store=26x&srno=s_1_8&otracker=search&otracker1=search&fm=organic&iid=f8f8acb3-07b0-4b81-b1e8-38c104f54439.SGLFZFZNAQNZHYB7.SEARCH&ssid=xyolr5flw00000001617777601776&qH=2cc465e3eef5bff0',\n",
       " 'https://www.flipkart.com/fastrack-wayfarer-sunglasses/p/itmf79dqccyjbdez?pid=SGLF79DQNHPY9N6U&lid=LSTSGLF79DQNHPY9N6UHBMJVE&marketplace=FLIPKART&q=sunglasses&store=26x&srno=s_1_9&otracker=search&otracker1=search&fm=organic&iid=f8f8acb3-07b0-4b81-b1e8-38c104f54439.SGLF79DQNHPY9N6U.SEARCH&ssid=xyolr5flw00000001617777601776&qH=2cc465e3eef5bff0',\n",
       " 'https://www.flipkart.com/phenomenal-retro-square-sunglasses/p/itm1ead9ddbbb3d8?pid=SGLFUBFWNBFEAVD3&lid=LSTSGLFUBFWNBFEAVD31E0HIC&marketplace=FLIPKART&q=sunglasses&store=26x&srno=s_1_10&otracker=search&otracker1=search&fm=organic&iid=f8f8acb3-07b0-4b81-b1e8-38c104f54439.SGLFUBFWNBFEAVD3.SEARCH&ssid=xyolr5flw00000001617777601776&qH=2cc465e3eef5bff0',\n",
       " 'https://www.flipkart.com/singco-india-aviator-sunglasses/p/itmf5b6c6e88f44a?pid=SGLFF9BTZUQZGZ3H&lid=LSTSGLFF9BTZUQZGZ3HMQDMDM&marketplace=FLIPKART&q=sunglasses&store=26x&srno=s_1_11&otracker=search&otracker1=search&fm=organic&iid=f8f8acb3-07b0-4b81-b1e8-38c104f54439.SGLFF9BTZUQZGZ3H.SEARCH&ssid=xyolr5flw00000001617777601776&qH=2cc465e3eef5bff0',\n",
       " 'https://www.flipkart.com/fastrack-wayfarer-sunglasses/p/itm04d9621b98c78?pid=SGLFG94C8PAHZ3SH&lid=LSTSGLFG94C8PAHZ3SHAFCJXO&marketplace=FLIPKART&q=sunglasses&store=26x&srno=s_1_12&otracker=search&otracker1=search&fm=organic&iid=f8f8acb3-07b0-4b81-b1e8-38c104f54439.SGLFG94C8PAHZ3SH.SEARCH&ssid=xyolr5flw00000001617777601776&qH=2cc465e3eef5bff0',\n",
       " 'https://www.flipkart.com/piraso-aviator-sunglasses/p/itm4210bb67b2728?pid=SGLFPFD7WRNASWSV&lid=LSTSGLFPFD7WRNASWSVJLGDDX&marketplace=FLIPKART&q=sunglasses&store=26x&srno=s_1_13&otracker=search&otracker1=search&fm=organic&iid=f8f8acb3-07b0-4b81-b1e8-38c104f54439.SGLFPFD7WRNASWSV.SEARCH&ssid=xyolr5flw00000001617777601776&qH=2cc465e3eef5bff0',\n",
       " 'https://www.flipkart.com/rozzetta-craft-round-sunglasses/p/itm3ac5f4ba8da5f?pid=SGLFPY9BVM2AYFS5&lid=LSTSGLFPY9BVM2AYFS559TJVM&marketplace=FLIPKART&q=sunglasses&store=26x&srno=s_1_14&otracker=search&otracker1=search&fm=organic&iid=en_fB1t%2F0RaKtmw8qUBlmrsWIeS2%2Bw40xCPxdvGqRhFbWPZhi%2BJ3XZsDYkz4OKXnEYc3NLMJ%2Fh2JhRHkgjw%2FQyaQw%3D%3D&ssid=xyolr5flw00000001617777601776&qH=2cc465e3eef5bff0',\n",
       " 'https://www.flipkart.com/silver-kartz-wayfarer-sunglasses/p/itmf3ykz37jypbdd?pid=SGLEXSP4CY6G2ZTY&lid=LSTSGLEXSP4CY6G2ZTYGHVAAN&marketplace=FLIPKART&q=sunglasses&store=26x&srno=s_1_15&otracker=search&otracker1=search&fm=organic&iid=f8f8acb3-07b0-4b81-b1e8-38c104f54439.SGLEXSP4CY6G2ZTY.SEARCH&ssid=xyolr5flw00000001617777601776&qH=2cc465e3eef5bff0',\n",
       " 'https://www.flipkart.com/singco-india-round-sunglasses/p/itm459cf9b987961?pid=SGLFHJXPKEJAZGFM&lid=LSTSGLFHJXPKEJAZGFMJGBJ5M&marketplace=FLIPKART&q=sunglasses&store=26x&spotlightTagId=TrendingId_26x&srno=s_1_16&otracker=search&otracker1=search&fm=organic&iid=f8f8acb3-07b0-4b81-b1e8-38c104f54439.SGLFHJXPKEJAZGFM.SEARCH&ssid=xyolr5flw00000001617777601776&qH=2cc465e3eef5bff0',\n",
       " 'https://www.flipkart.com/rozzetta-craft-rectangular-sunglasses/p/itmc07cb7e8aec50?pid=SGLFSZV6PXGZGZGX&lid=LSTSGLFSZV6PXGZGZGXNWELSX&marketplace=FLIPKART&q=sunglasses&store=26x&srno=s_1_17&otracker=search&otracker1=search&fm=organic&iid=f8f8acb3-07b0-4b81-b1e8-38c104f54439.SGLFSZV6PXGZGZGX.SEARCH&ssid=xyolr5flw00000001617777601776&qH=2cc465e3eef5bff0',\n",
       " 'https://www.flipkart.com/fastrack-wayfarer-sunglasses/p/itm21c980ee51600?pid=SGLFG94CXYTBH8XR&lid=LSTSGLFG94CXYTBH8XR0WNU9P&marketplace=FLIPKART&q=sunglasses&store=26x&srno=s_1_18&otracker=search&otracker1=search&fm=organic&iid=f8f8acb3-07b0-4b81-b1e8-38c104f54439.SGLFG94CXYTBH8XR.SEARCH&ssid=xyolr5flw00000001617777601776&qH=2cc465e3eef5bff0',\n",
       " 'https://www.flipkart.com/singco-india-aviator-sunglasses/p/itm2bc818fcd5d29?pid=SGLFH5ZGZGPZJ5DP&lid=LSTSGLFH5ZGZGPZJ5DPAYBD27&marketplace=FLIPKART&q=sunglasses&store=26x&srno=s_1_19&otracker=search&otracker1=search&fm=organic&iid=f8f8acb3-07b0-4b81-b1e8-38c104f54439.SGLFH5ZGZGPZJ5DP.SEARCH&ssid=xyolr5flw00000001617777601776&qH=2cc465e3eef5bff0',\n",
       " 'https://www.flipkart.com/royal-son-retro-square-sunglasses/p/itmbe79f1da8ad67?pid=SGLFH3QZHHC7UYYF&lid=LSTSGLFH3QZHHC7UYYF9LDNRC&marketplace=FLIPKART&q=sunglasses&store=26x&srno=s_1_20&otracker=search&otracker1=search&fm=organic&iid=en_fB1t%2F0RaKtmw8qUBlmrsWIeS2%2Bw40xCPxdvGqRhFbWOLNS8prxH%2FTOPfzQNFiNRbIYmOHhnJaq9IvDzzgrZjdA%3D%3D&ssid=xyolr5flw00000001617777601776&qH=2cc465e3eef5bff0',\n",
       " 'https://www.flipkart.com/piraso-wayfarer-sunglasses/p/itm8b4f0ab184f40?pid=SGLFGAD4R4HZGEKD&lid=LSTSGLFGAD4R4HZGEKDWW1HBB&marketplace=FLIPKART&q=sunglasses&store=26x&srno=s_1_21&otracker=search&otracker1=search&fm=organic&iid=f8f8acb3-07b0-4b81-b1e8-38c104f54439.SGLFGAD4R4HZGEKD.SEARCH&ssid=xyolr5flw00000001617777601776&qH=2cc465e3eef5bff0',\n",
       " 'https://www.flipkart.com/fastrack-wayfarer-sunglasses/p/itmf17a9804236b9?pid=SGLFJATRZAUJGZGQ&lid=LSTSGLFJATRZAUJGZGQVHIHKU&marketplace=FLIPKART&q=sunglasses&store=26x&srno=s_1_22&otracker=search&otracker1=search&fm=organic&iid=f8f8acb3-07b0-4b81-b1e8-38c104f54439.SGLFJATRZAUJGZGQ.SEARCH&ssid=xyolr5flw00000001617777601776&qH=2cc465e3eef5bff0',\n",
       " 'https://www.flipkart.com/hippon-wayfarer-sunglasses/p/itm05550ccebbf7b?pid=SGLFHPMMVHHGWKNG&lid=LSTSGLFHPMMVHHGWKNG1S9QVG&marketplace=FLIPKART&q=sunglasses&store=26x&srno=s_1_23&otracker=search&otracker1=search&fm=organic&iid=f8f8acb3-07b0-4b81-b1e8-38c104f54439.SGLFHPMMVHHGWKNG.SEARCH&ssid=xyolr5flw00000001617777601776&qH=2cc465e3eef5bff0',\n",
       " 'https://www.flipkart.com/rozzetta-craft-round-sunglasses/p/itm3ca5f665ffe8a?pid=SGLFZY7UJHZZ4ZZC&lid=LSTSGLFZY7UJHZZ4ZZCI8PNGA&marketplace=FLIPKART&q=sunglasses&store=26x&srno=s_1_24&otracker=search&otracker1=search&fm=organic&iid=en_fB1t%2F0RaKtmw8qUBlmrsWIeS2%2Bw40xCPxdvGqRhFbWPFKrqPFKtvmfuWFkm8HzfQ3YO5QR4g8asNdrFOgWDbkA%3D%3D&ssid=xyolr5flw00000001617777601776&qH=2cc465e3eef5bff0',\n",
       " 'https://www.flipkart.com/fastrack-aviator-sunglasses/p/itm3d6674f888d98?pid=SGLFKYGHKP4BXEMH&lid=LSTSGLFKYGHKP4BXEMHAL1IED&marketplace=FLIPKART&q=sunglasses&store=26x&srno=s_1_25&otracker=search&otracker1=search&fm=organic&iid=f8f8acb3-07b0-4b81-b1e8-38c104f54439.SGLFKYGHKP4BXEMH.SEARCH&ssid=xyolr5flw00000001617777601776&qH=2cc465e3eef5bff0',\n",
       " 'https://www.flipkart.com/fastrack-wayfarer-sunglasses/p/itmf79dqhfca7q8t?pid=SGLF79DQWCWEFUNR&lid=LSTSGLF79DQWCWEFUNRB9EV8J&marketplace=FLIPKART&q=sunglasses&store=26x&srno=s_1_26&otracker=search&otracker1=search&fm=organic&iid=f8f8acb3-07b0-4b81-b1e8-38c104f54439.SGLF79DQWCWEFUNR.SEARCH&ssid=xyolr5flw00000001617777601776&qH=2cc465e3eef5bff0',\n",
       " 'https://www.flipkart.com/fastrack-wayfarer-sunglasses/p/itmf3ykr6vywh5tp?pid=SGLES2WMQBQ2GFHT&lid=LSTSGLES2WMQBQ2GFHTQTYINP&marketplace=FLIPKART&q=sunglasses&store=26x&srno=s_1_27&otracker=search&otracker1=search&fm=organic&iid=f8f8acb3-07b0-4b81-b1e8-38c104f54439.SGLES2WMQBQ2GFHT.SEARCH&ssid=xyolr5flw00000001617777601776&qH=2cc465e3eef5bff0',\n",
       " 'https://www.flipkart.com/royal-son-aviator-sunglasses/p/itme479614d796cc?pid=SGLED3YH6AQQFTJT&lid=LSTSGLED3YH6AQQFTJTD9JARU&marketplace=FLIPKART&q=sunglasses&store=26x&srno=s_1_28&otracker=search&otracker1=search&fm=organic&iid=f8f8acb3-07b0-4b81-b1e8-38c104f54439.SGLED3YH6AQQFTJT.SEARCH&ssid=xyolr5flw00000001617777601776&qH=2cc465e3eef5bff0',\n",
       " 'https://www.flipkart.com/fastrack-wayfarer-sunglasses/p/itmf79dqxyft72kh?pid=SGLF79DQWYPMFYVY&lid=LSTSGLF79DQWYPMFYVYGNZHDZ&marketplace=FLIPKART&q=sunglasses&store=26x&srno=s_1_29&otracker=search&otracker1=search&fm=organic&iid=f8f8acb3-07b0-4b81-b1e8-38c104f54439.SGLF79DQWYPMFYVY.SEARCH&ssid=xyolr5flw00000001617777601776&qH=2cc465e3eef5bff0',\n",
       " 'https://www.flipkart.com/rozzetta-craft-over-sized-sunglasses/p/itmae9a466c48bb1?pid=SGLFPY94A2VTFDMB&lid=LSTSGLFPY94A2VTFDMB2579SU&marketplace=FLIPKART&q=sunglasses&store=26x&srno=s_1_30&otracker=search&otracker1=search&fm=organic&iid=en_fB1t%2F0RaKtmw8qUBlmrsWIeS2%2Bw40xCPxdvGqRhFbWP1v5Q4EVbF1HB7DcdWUYyd1jbbZtZjKqxO7aX7ms%2Fx9w%3D%3D&ssid=xyolr5flw00000001617777601776&qH=2cc465e3eef5bff0',\n",
       " 'https://www.flipkart.com/deixels-round-sunglasses/p/itmdd33fa786bc09?pid=SGLFJ7F7F2F94QZK&lid=LSTSGLFJ7F7F2F94QZKQH7WX5&marketplace=FLIPKART&q=sunglasses&store=26x&srno=s_1_31&otracker=search&otracker1=search&fm=organic&iid=f8f8acb3-07b0-4b81-b1e8-38c104f54439.SGLFJ7F7F2F94QZK.SEARCH&ssid=xyolr5flw00000001617777601776&qH=2cc465e3eef5bff0',\n",
       " 'https://www.flipkart.com/fastrack-aviator-sunglasses/p/itmf79dqewt9sf6d?pid=SGLF79DQGP7E4G2P&lid=LSTSGLF79DQGP7E4G2PYP2PGG&marketplace=FLIPKART&q=sunglasses&store=26x&srno=s_1_32&otracker=search&otracker1=search&fm=organic&iid=f8f8acb3-07b0-4b81-b1e8-38c104f54439.SGLF79DQGP7E4G2P.SEARCH&ssid=xyolr5flw00000001617777601776&qH=2cc465e3eef5bff0',\n",
       " 'https://www.flipkart.com/gansta-wayfarer-sunglasses/p/itmf4uwfunghyyyq?pid=SGLF4UU97H3GGGTE&lid=LSTSGLF4UU97H3GGGTE2PA56S&marketplace=FLIPKART&q=sunglasses&store=26x&srno=s_1_33&otracker=search&otracker1=search&fm=organic&iid=f8f8acb3-07b0-4b81-b1e8-38c104f54439.SGLF4UU97H3GGGTE.SEARCH&ssid=xyolr5flw00000001617777601776&qH=2cc465e3eef5bff0',\n",
       " 'https://www.flipkart.com/voyage-oval-sunglasses/p/itm89d8e3c777181?pid=SGLFZ8QNJSUPB2AT&lid=LSTSGLFZ8QNJSUPB2ATWRMIVX&marketplace=FLIPKART&q=sunglasses&store=26x&srno=s_1_34&otracker=search&otracker1=search&fm=organic&iid=en_fB1t%2F0RaKtmw8qUBlmrsWIeS2%2Bw40xCPxdvGqRhFbWMYQij3MCAcMBJ1jQrIzFGeWK3xUab%2BXK4TXHdmyf%2FF%2Bg%3D%3D&ssid=xyolr5flw00000001617777601776&qH=2cc465e3eef5bff0',\n",
       " 'https://www.flipkart.com/deixels-aviator-wayfarer-sunglasses/p/itmf3yke7n2axuym?pid=SGLF2YZXCDM6QACV&lid=LSTSGLF2YZXCDM6QACV8HRV24&marketplace=FLIPKART&q=sunglasses&store=26x&srno=s_1_35&otracker=search&otracker1=search&fm=organic&iid=f8f8acb3-07b0-4b81-b1e8-38c104f54439.SGLF2YZXCDM6QACV.SEARCH&ssid=xyolr5flw00000001617777601776&qH=2cc465e3eef5bff0',\n",
       " 'https://www.flipkart.com/rozzetta-craft-retro-square-sunglasses/p/itmfd05447fa5361?pid=SGLFZ2YCQ7UQ3XBQ&lid=LSTSGLFZ2YCQ7UQ3XBQRG02II&marketplace=FLIPKART&q=sunglasses&store=26x&srno=s_1_36&otracker=search&otracker1=search&fm=organic&iid=f8f8acb3-07b0-4b81-b1e8-38c104f54439.SGLFZ2YCQ7UQ3XBQ.SEARCH&ssid=xyolr5flw00000001617777601776&qH=2cc465e3eef5bff0',\n",
       " 'https://www.flipkart.com/fastrack-shield-sunglasses/p/itmf79dqdqcf4s4c?pid=SGLF79DPUDKZG4WB&lid=LSTSGLF79DPUDKZG4WBV7D6KR&marketplace=FLIPKART&q=sunglasses&store=26x&srno=s_1_37&otracker=search&otracker1=search&fm=organic&iid=f8f8acb3-07b0-4b81-b1e8-38c104f54439.SGLF79DPUDKZG4WB.SEARCH&ssid=xyolr5flw00000001617777601776&qH=2cc465e3eef5bff0',\n",
       " 'https://www.flipkart.com/nuvew-aviator-sunglasses/p/itm1e7d6811259ea?pid=SGLFKJVTXGSXFHRT&lid=LSTSGLFKJVTXGSXFHRTVJPKYD&marketplace=FLIPKART&q=sunglasses&store=26x&srno=s_1_38&otracker=search&otracker1=search&fm=organic&iid=f8f8acb3-07b0-4b81-b1e8-38c104f54439.SGLFKJVTXGSXFHRT.SEARCH&ssid=xyolr5flw00000001617777601776&qH=2cc465e3eef5bff0',\n",
       " 'https://www.flipkart.com/fastrack-aviator-sunglasses/p/itm707512fc942bc?pid=SGLFKYGHGZU6HVNG&lid=LSTSGLFKYGHGZU6HVNGQJCIFD&marketplace=FLIPKART&q=sunglasses&store=26x&srno=s_1_39&otracker=search&otracker1=search&fm=organic&iid=f8f8acb3-07b0-4b81-b1e8-38c104f54439.SGLFKYGHGZU6HVNG.SEARCH&ssid=xyolr5flw00000001617777601776&qH=2cc465e3eef5bff0',\n",
       " 'https://www.flipkart.com/silver-kartz-aviator-sunglasses/p/itmf557vd9wzgjhd?pid=SGLF54XGVQYGEYZN&lid=LSTSGLF54XGVQYGEYZNTWKBT1&marketplace=FLIPKART&q=sunglasses&store=26x&srno=s_1_40&otracker=search&otracker1=search&fm=organic&iid=en_fB1t%2F0RaKtmw8qUBlmrsWIeS2%2Bw40xCPxdvGqRhFbWPNTskYCuy2mV28i1lfrHifRxLL6uskPJfvpRxjSlJQEA%3D%3D&ssid=xyolr5flw00000001617777601776&qH=2cc465e3eef5bff0',\n",
       " 'https://www.flipkart.com/fastrack-wayfarer-sunglasses/p/itma1587f016bbea?pid=SGLFG94CQWYWDVUF&lid=LSTSGLFG94CQWYWDVUFIFROQS&marketplace=FLIPKART&q=sunglasses&store=26x&srno=s_2_41&otracker=search&otracker1=search&fm=organic&iid=085c8d51-30c5-43b3-b3d2-fc7351bfa425.SGLFG94CQWYWDVUF.SEARCH&ppt=sp&ppn=sp&ssid=tsc89wgacw0000001617777603896&qH=2cc465e3eef5bff0',\n",
       " 'https://www.flipkart.com/rozzetta-craft-round-sunglasses/p/itm50b1a774b7e0d?pid=SGLFMFKYUQNWGHWT&lid=LSTSGLFMFKYUQNWGHWTZ6YYV4&marketplace=FLIPKART&q=sunglasses&store=26x&spotlightTagId=TrendingId_26x&srno=s_2_42&otracker=search&otracker1=search&fm=organic&iid=085c8d51-30c5-43b3-b3d2-fc7351bfa425.SGLFMFKYUQNWGHWT.SEARCH&ppt=sp&ppn=sp&ssid=tsc89wgacw0000001617777603896&qH=2cc465e3eef5bff0',\n",
       " 'https://www.flipkart.com/fastrack-shield-sunglasses/p/itmf79dqyugkgjt3?pid=SGLF79DPQHKPREWV&lid=LSTSGLF79DPQHKPREWVC9ACB3&marketplace=FLIPKART&q=sunglasses&store=26x&srno=s_2_43&otracker=search&otracker1=search&fm=organic&iid=085c8d51-30c5-43b3-b3d2-fc7351bfa425.SGLF79DPQHKPREWV.SEARCH&ppt=sp&ppn=sp&ssid=tsc89wgacw0000001617777603896&qH=2cc465e3eef5bff0',\n",
       " 'https://www.flipkart.com/billion-aviator-sunglasses/p/itmf73faa7ab37ee?pid=SGLFJKNUXEEAJDXH&lid=LSTSGLFJKNUXEEAJDXHDEJU5D&marketplace=FLIPKART&q=sunglasses&store=26x&srno=s_2_44&otracker=search&otracker1=search&fm=organic&iid=en_7HovRYQVueO4LWGw%2FeI8%2F6wL2mwvAe9aj%2BDQBfGW8PR6Ct24rjjeW4tlbU348AvzTfyoNUAiFE2IjoUeEGrfMg%3D%3D&ppt=sp&ppn=sp&ssid=tsc89wgacw0000001617777603896&qH=2cc465e3eef5bff0',\n",
       " 'https://www.flipkart.com/silver-kartz-oval-sunglasses/p/itmf0519a6d0669a?pid=SGLFJV3GWTUZSANC&lid=LSTSGLFJV3GWTUZSANCNBLT6O&marketplace=FLIPKART&q=sunglasses&store=26x&srno=s_2_45&otracker=search&otracker1=search&fm=organic&iid=085c8d51-30c5-43b3-b3d2-fc7351bfa425.SGLFJV3GWTUZSANC.SEARCH&ppt=sp&ppn=sp&ssid=tsc89wgacw0000001617777603896&qH=2cc465e3eef5bff0',\n",
       " 'https://www.flipkart.com/deixels-wayfarer-sunglasses/p/itmf3ykbztf42eff?pid=SGLEWQ7E55ZRP8J2&lid=LSTSGLEWQ7E55ZRP8J2RTHLCT&marketplace=FLIPKART&q=sunglasses&store=26x&srno=s_2_46&otracker=search&otracker1=search&fm=organic&iid=085c8d51-30c5-43b3-b3d2-fc7351bfa425.SGLEWQ7E55ZRP8J2.SEARCH&ppt=sp&ppn=sp&ssid=tsc89wgacw0000001617777603896&qH=2cc465e3eef5bff0',\n",
       " 'https://www.flipkart.com/rozzetta-craft-rectangular-sunglasses/p/itmbcdad02770603?pid=SGLFSSFAYTD858TY&lid=LSTSGLFSSFAYTD858TYZROTZL&marketplace=FLIPKART&q=sunglasses&store=26x&srno=s_2_47&otracker=search&otracker1=search&fm=organic&iid=085c8d51-30c5-43b3-b3d2-fc7351bfa425.SGLFSSFAYTD858TY.SEARCH&ppt=sp&ppn=sp&ssid=tsc89wgacw0000001617777603896&qH=2cc465e3eef5bff0',\n",
       " 'https://www.flipkart.com/nuvew-aviator-sunglasses/p/itm1b5c5bd8eee84?pid=SGLFKJW39ZRP8MYU&lid=LSTSGLFKJW39ZRP8MYUANUM4Q&marketplace=FLIPKART&q=sunglasses&store=26x&srno=s_2_48&otracker=search&otracker1=search&fm=organic&iid=085c8d51-30c5-43b3-b3d2-fc7351bfa425.SGLFKJW39ZRP8MYU.SEARCH&ppt=sp&ppn=sp&ssid=tsc89wgacw0000001617777603896&qH=2cc465e3eef5bff0',\n",
       " 'https://www.flipkart.com/fastrack-wayfarer-sunglasses/p/itmf79dqptqb2tax?pid=SGLF79DQN6YGVYCQ&lid=LSTSGLF79DQN6YGVYCQMJPSGY&marketplace=FLIPKART&q=sunglasses&store=26x&srno=s_2_49&otracker=search&otracker1=search&fm=organic&iid=085c8d51-30c5-43b3-b3d2-fc7351bfa425.SGLF79DQN6YGVYCQ.SEARCH&ppt=sp&ppn=sp&ssid=tsc89wgacw0000001617777603896&qH=2cc465e3eef5bff0',\n",
       " 'https://www.flipkart.com/rozzetta-craft-round-sunglasses/p/itm5d1752789cc22?pid=SGLFMGVZP22SPRTQ&lid=LSTSGLFMGVZP22SPRTQCVS7RR&marketplace=FLIPKART&q=sunglasses&store=26x&srno=s_2_50&otracker=search&otracker1=search&fm=organic&iid=en_7HovRYQVueO4LWGw%2FeI8%2F6wL2mwvAe9aj%2BDQBfGW8PQLR08GKyDEhdTbsWL3Pi2H1RMQEJSxL%2BiYvR9tU1MEzw%3D%3D&ppt=sp&ppn=sp&ssid=tsc89wgacw0000001617777603896&qH=2cc465e3eef5bff0',\n",
       " 'https://www.flipkart.com/srpm-round-sunglasses/p/itm727ea7daa262f?pid=SGLFJEB9FNZQBKFR&lid=LSTSGLFJEB9FNZQBKFRZ28YKF&marketplace=FLIPKART&q=sunglasses&store=26x&srno=s_2_51&otracker=search&otracker1=search&fm=organic&iid=085c8d51-30c5-43b3-b3d2-fc7351bfa425.SGLFJEB9FNZQBKFR.SEARCH&ppt=sp&ppn=sp&ssid=tsc89wgacw0000001617777603896&qH=2cc465e3eef5bff0',\n",
       " 'https://www.flipkart.com/piraso-aviator-sunglasses/p/itma9ed6fe9b3b86?pid=SGLFZJQUNAHYUCAS&lid=LSTSGLFZJQUNAHYUCASKDXKTE&marketplace=FLIPKART&q=sunglasses&store=26x&srno=s_2_52&otracker=search&otracker1=search&fm=organic&iid=085c8d51-30c5-43b3-b3d2-fc7351bfa425.SGLFZJQUNAHYUCAS.SEARCH&ppt=sp&ppn=sp&ssid=tsc89wgacw0000001617777603896&qH=2cc465e3eef5bff0',\n",
       " 'https://www.flipkart.com/singco-aviator-sunglasses/p/itm68a3225074b1f?pid=SGLFQEWXNHU5URPQ&lid=LSTSGLFQEWXNHU5URPQNYJECW&marketplace=FLIPKART&q=sunglasses&store=26x&srno=s_2_53&otracker=search&otracker1=search&fm=organic&iid=085c8d51-30c5-43b3-b3d2-fc7351bfa425.SGLFQEWXNHU5URPQ.SEARCH&ppt=sp&ppn=sp&ssid=tsc89wgacw0000001617777603896&qH=2cc465e3eef5bff0',\n",
       " 'https://www.flipkart.com/rozzetta-craft-retro-square-sunglasses/p/itmc991b52348b3f?pid=SGLFM5BHYZHQ6VYK&lid=LSTSGLFM5BHYZHQ6VYKTNPBFA&marketplace=FLIPKART&q=sunglasses&store=26x&srno=s_2_54&otracker=search&otracker1=search&fm=organic&iid=en_7HovRYQVueO4LWGw%2FeI8%2F6wL2mwvAe9aj%2BDQBfGW8PSclFNhCOT5%2FSP8eM9gQo52Sl%2FfUsWhtaWsVj9dMO9Z1A%3D%3D&ppt=sp&ppn=sp&ssid=tsc89wgacw0000001617777603896&qH=2cc465e3eef5bff0',\n",
       " 'https://www.flipkart.com/fastrack-rectangular-sunglasses/p/itm681bed66db239?pid=SGLFG94CAT9VHUWH&lid=LSTSGLFG94CAT9VHUWHJOYJFQ&marketplace=FLIPKART&q=sunglasses&store=26x&srno=s_2_55&otracker=search&otracker1=search&fm=organic&iid=085c8d51-30c5-43b3-b3d2-fc7351bfa425.SGLFG94CAT9VHUWH.SEARCH&ppt=sp&ppn=sp&ssid=tsc89wgacw0000001617777603896&qH=2cc465e3eef5bff0',\n",
       " 'https://www.flipkart.com/singco-india-sports-sunglasses/p/itmb6d550eb0932b?pid=SGLFVYKGREY28QVK&lid=LSTSGLFVYKGREY28QVKRAX3RH&marketplace=FLIPKART&q=sunglasses&store=26x&srno=s_2_56&otracker=search&otracker1=search&fm=organic&iid=085c8d51-30c5-43b3-b3d2-fc7351bfa425.SGLFVYKGREY28QVK.SEARCH&ppt=sp&ppn=sp&ssid=tsc89wgacw0000001617777603896&qH=2cc465e3eef5bff0',\n",
       " 'https://www.flipkart.com/nuvew-sports-sunglasses/p/itmffb386355485b?pid=SGLFKGGWHH74XFZ8&lid=LSTSGLFKGGWHH74XFZ8PIOFCD&marketplace=FLIPKART&q=sunglasses&store=26x&srno=s_2_57&otracker=search&otracker1=search&fm=organic&iid=085c8d51-30c5-43b3-b3d2-fc7351bfa425.SGLFKGGWHH74XFZ8.SEARCH&ppt=sp&ppn=sp&ssid=tsc89wgacw0000001617777603896&qH=2cc465e3eef5bff0',\n",
       " 'https://www.flipkart.com/fastrack-aviator-sunglasses/p/itm71bfd7c0bb72a?pid=SGLFKYGHRDPNJGGG&lid=LSTSGLFKYGHRDPNJGGGVIF0IZ&marketplace=FLIPKART&q=sunglasses&store=26x&srno=s_2_58&otracker=search&otracker1=search&fm=organic&iid=085c8d51-30c5-43b3-b3d2-fc7351bfa425.SGLFKYGHRDPNJGGG.SEARCH&ppt=sp&ppn=sp&ssid=tsc89wgacw0000001617777603896&qH=2cc465e3eef5bff0',\n",
       " 'https://www.flipkart.com/rozzetta-craft-rectangular-sunglasses/p/itm7e717fb4e4af0?pid=SGLFX84MT48ZH7RZ&lid=LSTSGLFX84MT48ZH7RZPN64SZ&marketplace=FLIPKART&q=sunglasses&store=26x&srno=s_2_59&otracker=search&otracker1=search&fm=organic&iid=085c8d51-30c5-43b3-b3d2-fc7351bfa425.SGLFX84MT48ZH7RZ.SEARCH&ppt=sp&ppn=sp&ssid=tsc89wgacw0000001617777603896&qH=2cc465e3eef5bff0',\n",
       " 'https://www.flipkart.com/rozzetta-craft-round-sunglasses/p/itm992d1d1202834?pid=SGLFMG6DHUPTH2VB&lid=LSTSGLFMG6DHUPTH2VBWQRQLV&marketplace=FLIPKART&q=sunglasses&store=26x&srno=s_2_60&otracker=search&otracker1=search&fm=organic&iid=en_7HovRYQVueO4LWGw%2FeI8%2F6wL2mwvAe9aj%2BDQBfGW8PTp%2BXRxM47HxnB1fjE2S0hg7aH1SxbwZLBrgCxk2Td%2FWQ%3D%3D&ppt=sp&ppn=sp&ssid=tsc89wgacw0000001617777603896&qH=2cc465e3eef5bff0',\n",
       " 'https://www.flipkart.com/aislin-wayfarer-rectangular-sunglasses/p/itm0608b22e3074d?pid=SGLFRFUZXGXRPGZZ&lid=LSTSGLFRFUZXGXRPGZZHYLC74&marketplace=FLIPKART&q=sunglasses&store=26x&srno=s_2_61&otracker=search&otracker1=search&fm=organic&iid=085c8d51-30c5-43b3-b3d2-fc7351bfa425.SGLFRFUZXGXRPGZZ.SEARCH&ppt=sp&ppn=sp&ssid=tsc89wgacw0000001617777603896&qH=2cc465e3eef5bff0',\n",
       " 'https://www.flipkart.com/fastrack-wayfarer-sunglasses/p/itmb27e122319437?pid=SGLFJATQYNC8ASFJ&lid=LSTSGLFJATQYNC8ASFJEM0L5Q&marketplace=FLIPKART&q=sunglasses&store=26x&srno=s_2_62&otracker=search&otracker1=search&fm=organic&iid=085c8d51-30c5-43b3-b3d2-fc7351bfa425.SGLFJATQYNC8ASFJ.SEARCH&ppt=sp&ppn=sp&ssid=tsc89wgacw0000001617777603896&qH=2cc465e3eef5bff0',\n",
       " 'https://www.flipkart.com/fastrack-aviator-sunglasses/p/itmfcynnapsxpzxv?pid=SGLES2WMN7PCAERZ&lid=LSTSGLES2WMN7PCAERZZTPY54&marketplace=FLIPKART&q=sunglasses&store=26x&srno=s_2_63&otracker=search&otracker1=search&fm=organic&iid=085c8d51-30c5-43b3-b3d2-fc7351bfa425.SGLES2WMN7PCAERZ.SEARCH&ppt=sp&ppn=sp&ssid=tsc89wgacw0000001617777603896&qH=2cc465e3eef5bff0',\n",
       " 'https://www.flipkart.com/jack-ryan-aviator-sunglasses/p/itm1a5abcc9c7f1d?pid=SGLGY6JGQHGPNXAY&lid=LSTSGLGY6JGQHGPNXAYAUZ75V&marketplace=FLIPKART&q=sunglasses&store=26x&srno=s_2_64&otracker=search&otracker1=search&fm=organic&iid=en_7HovRYQVueO4LWGw%2FeI8%2F6wL2mwvAe9aj%2BDQBfGW8PTCB%2FZM5TBrBj9cjj1bOxq7CvJb72LHvydX7Xrel0VOgQ%3D%3D&ppt=sp&ppn=sp&ssid=tsc89wgacw0000001617777603896&qH=2cc465e3eef5bff0',\n",
       " 'https://www.flipkart.com/fastrack-wrap-around-sunglasses/p/itmf4udgnehmhsbt?pid=SGLF4TZP5JZGCHGH&lid=LSTSGLF4TZP5JZGCHGHZOWNZ3&marketplace=FLIPKART&q=sunglasses&store=26x&srno=s_2_65&otracker=search&otracker1=search&fm=organic&iid=085c8d51-30c5-43b3-b3d2-fc7351bfa425.SGLF4TZP5JZGCHGH.SEARCH&ppt=sp&ppn=sp&ssid=tsc89wgacw0000001617777603896&qH=2cc465e3eef5bff0',\n",
       " 'https://www.flipkart.com/gansta-wayfarer-sunglasses/p/itmdc38b2a734a69?pid=SGLFV93BGGJUCHMY&lid=LSTSGLFV93BGGJUCHMY3JBAIL&marketplace=FLIPKART&q=sunglasses&store=26x&srno=s_2_66&otracker=search&otracker1=search&fm=organic&iid=085c8d51-30c5-43b3-b3d2-fc7351bfa425.SGLFV93BGGJUCHMY.SEARCH&ppt=sp&ppn=sp&ssid=tsc89wgacw0000001617777603896&qH=2cc465e3eef5bff0',\n",
       " 'https://www.flipkart.com/royal-son-aviator-sunglasses/p/itmf3ykjxj6yncgy?pid=SGLED3YHZDMUUYJY&lid=LSTSGLED3YHZDMUUYJYLHV233&marketplace=FLIPKART&q=sunglasses&store=26x&srno=s_2_67&otracker=search&otracker1=search&fm=organic&iid=085c8d51-30c5-43b3-b3d2-fc7351bfa425.SGLED3YHZDMUUYJY.SEARCH&ppt=sp&ppn=sp&ssid=tsc89wgacw0000001617777603896&qH=2cc465e3eef5bff0',\n",
       " 'https://www.flipkart.com/bkge-rectangular-sunglasses/p/itm8c3cef5cfb5a0?pid=SGLFYTWXXFXBFBVV&lid=LSTSGLFYTWXXFXBFBVVKZBYYQ&marketplace=FLIPKART&q=sunglasses&store=26x&srno=s_2_68&otracker=search&otracker1=search&fm=organic&iid=085c8d51-30c5-43b3-b3d2-fc7351bfa425.SGLFYTWXXFXBFBVV.SEARCH&ppt=sp&ppn=sp&ssid=tsc89wgacw0000001617777603896&qH=2cc465e3eef5bff0',\n",
       " 'https://www.flipkart.com/fastrack-rectangular-sunglasses/p/itm5e003331c9584?pid=SGLFKYGHF2AMZZQE&lid=LSTSGLFKYGHF2AMZZQEBH2ZEX&marketplace=FLIPKART&q=sunglasses&store=26x&srno=s_2_69&otracker=search&otracker1=search&fm=organic&iid=085c8d51-30c5-43b3-b3d2-fc7351bfa425.SGLFKYGHF2AMZZQE.SEARCH&ppt=sp&ppn=sp&ssid=tsc89wgacw0000001617777603896&qH=2cc465e3eef5bff0',\n",
       " 'https://www.flipkart.com/silver-kartz-oval-sunglasses/p/itmc94e3930bd8cc?pid=SGLFJV3YYK6SA2AF&lid=LSTSGLFJV3YYK6SA2AFMOZ78N&marketplace=FLIPKART&q=sunglasses&store=26x&srno=s_2_70&otracker=search&otracker1=search&fm=organic&iid=en_7HovRYQVueO4LWGw%2FeI8%2F6wL2mwvAe9aj%2BDQBfGW8PRuLjCw1o88kcrWylUyMvq6vbgLU165c6Pqpa94MEdr0Q%3D%3D&ppt=sp&ppn=sp&ssid=tsc89wgacw0000001617777603896&qH=2cc465e3eef5bff0',\n",
       " 'https://www.flipkart.com/fastrack-wayfarer-sunglasses/p/itma3f884efb246c?pid=SGLFG94CJAP7TYFY&lid=LSTSGLFG94CJAP7TYFYMAF3H2&marketplace=FLIPKART&q=sunglasses&store=26x&srno=s_2_71&otracker=search&otracker1=search&fm=organic&iid=085c8d51-30c5-43b3-b3d2-fc7351bfa425.SGLFG94CJAP7TYFY.SEARCH&ppt=sp&ppn=sp&ssid=tsc89wgacw0000001617777603896&qH=2cc465e3eef5bff0',\n",
       " 'https://www.flipkart.com/aislin-round-sunglasses/p/itm898fa73942c29?pid=SGLFRGSVFSYZAKKZ&lid=LSTSGLFRGSVFSYZAKKZSIY7RG&marketplace=FLIPKART&q=sunglasses&store=26x&srno=s_2_72&otracker=search&otracker1=search&fm=organic&iid=085c8d51-30c5-43b3-b3d2-fc7351bfa425.SGLFRGSVFSYZAKKZ.SEARCH&ppt=sp&ppn=sp&ssid=tsc89wgacw0000001617777603896&qH=2cc465e3eef5bff0',\n",
       " 'https://www.flipkart.com/gansta-aviator-sunglasses/p/itmf7hmfp5r8hcdb?pid=SGLF7HGZKHHSTQ8H&lid=LSTSGLF7HGZKHHSTQ8H5VK4WX&marketplace=FLIPKART&q=sunglasses&store=26x&srno=s_2_73&otracker=search&otracker1=search&fm=organic&iid=085c8d51-30c5-43b3-b3d2-fc7351bfa425.SGLF7HGZKHHSTQ8H.SEARCH&ppt=sp&ppn=sp&ssid=tsc89wgacw0000001617777603896&qH=2cc465e3eef5bff0',\n",
       " 'https://www.flipkart.com/tom-martin-round-sunglasses/p/itmf3yh7jwbysdbh?pid=SGLEWAWC8RJY5VES&lid=LSTSGLEWAWC8RJY5VESIHICOS&marketplace=FLIPKART&q=sunglasses&store=26x&srno=s_2_74&otracker=search&otracker1=search&fm=organic&iid=en_7HovRYQVueO4LWGw%2FeI8%2F6wL2mwvAe9aj%2BDQBfGW8PR1omAu1vHVnBMfnmWFBpHPCT7AsfwzOerBLidxCNq%2BKw%3D%3D&ppt=sp&ppn=sp&ssid=tsc89wgacw0000001617777603896&qH=2cc465e3eef5bff0',\n",
       " 'https://www.flipkart.com/phenomenal-retro-square-sunglasses/p/itmd2e48206db032?pid=SGLFU7DSZHYHHN3G&lid=LSTSGLFU7DSZHYHHN3GJENRM7&marketplace=FLIPKART&q=sunglasses&store=26x&srno=s_2_75&otracker=search&otracker1=search&fm=organic&iid=085c8d51-30c5-43b3-b3d2-fc7351bfa425.SGLFU7DSZHYHHN3G.SEARCH&ppt=sp&ppn=sp&ssid=tsc89wgacw0000001617777603896&qH=2cc465e3eef5bff0',\n",
       " 'https://www.flipkart.com/aislin-rectangular-cat-eye-sunglasses/p/itmfdr42vrzadg4f?pid=SGLFDQYUKYD3Q7YD&lid=LSTSGLFDQYUKYD3Q7YDQBXV1H&marketplace=FLIPKART&q=sunglasses&store=26x&srno=s_2_76&otracker=search&otracker1=search&fm=organic&iid=085c8d51-30c5-43b3-b3d2-fc7351bfa425.SGLFDQYUKYD3Q7YD.SEARCH&ppt=sp&ppn=sp&ssid=tsc89wgacw0000001617777603896&qH=2cc465e3eef5bff0',\n",
       " 'https://www.flipkart.com/fastrack-aviator-sunglasses/p/itm5be5426291917?pid=SGLFJATRXSD2VYDB&lid=LSTSGLFJATRXSD2VYDBYVGVI7&marketplace=FLIPKART&q=sunglasses&store=26x&srno=s_2_77&otracker=search&otracker1=search&fm=organic&iid=085c8d51-30c5-43b3-b3d2-fc7351bfa425.SGLFJATRXSD2VYDB.SEARCH&ppt=sp&ppn=sp&ssid=tsc89wgacw0000001617777603896&qH=2cc465e3eef5bff0',\n",
       " 'https://www.flipkart.com/silver-kartz-aviator-sunglasses/p/itmf7g4z46kyvvex?pid=SGLF7G35FTKPBPNB&lid=LSTSGLF7G35FTKPBPNBKCRBRJ&marketplace=FLIPKART&q=sunglasses&store=26x&srno=s_2_78&otracker=search&otracker1=search&fm=organic&iid=085c8d51-30c5-43b3-b3d2-fc7351bfa425.SGLF7G35FTKPBPNB.SEARCH&ppt=sp&ppn=sp&ssid=tsc89wgacw0000001617777603896&qH=2cc465e3eef5bff0',\n",
       " 'https://www.flipkart.com/hipe-round-sunglasses/p/itm07851ef59e30e?pid=SGLFG76YVZEVAK6B&lid=LSTSGLFG76YVZEVAK6BZJTEXM&marketplace=FLIPKART&q=sunglasses&store=26x&srno=s_2_79&otracker=search&otracker1=search&fm=organic&iid=085c8d51-30c5-43b3-b3d2-fc7351bfa425.SGLFG76YVZEVAK6B.SEARCH&ppt=sp&ppn=sp&ssid=tsc89wgacw0000001617777603896&qH=2cc465e3eef5bff0',\n",
       " 'https://www.flipkart.com/billion-aviator-sunglasses/p/itm9086e96e9bd1e?pid=SGLFJKZBA7MGZGXZ&lid=LSTSGLFJKZBA7MGZGXZOQK0QL&marketplace=FLIPKART&q=sunglasses&store=26x&srno=s_2_80&otracker=search&otracker1=search&fm=organic&iid=en_7HovRYQVueO4LWGw%2FeI8%2F6wL2mwvAe9aj%2BDQBfGW8PQ8P%2FVJwyvpoiYcMusG%2F93yf4Dt2D%2BG3HDTvG6YH773kg%3D%3D&ppt=sp&ppn=sp&ssid=tsc89wgacw0000001617777603896&qH=2cc465e3eef5bff0',\n",
       " 'https://www.flipkart.com/aislin-wayfarer-sunglasses/p/itmcad31a53a961a?pid=SGLFKGQPMJ9BPFJM&lid=LSTSGLFKGQPMJ9BPFJMOMOBSU&marketplace=FLIPKART&q=sunglasses&store=26x&srno=s_10_361&otracker=search&otracker1=search&fm=organic&iid=307b225d-7e8e-475a-8084-d91e9d364367.SGLFKGQPMJ9BPFJM.SEARCH&ppt=sp&ppn=sp&ssid=tsc89wgacw0000001617777603896&qH=2cc465e3eef5bff0',\n",
       " 'https://www.flipkart.com/ray-ban-wayfarer-sunglasses/p/itmfbssagyshcfe9?pid=SGLFBSSAFXYRVFYF&lid=LSTSGLFBSSAFXYRVFYFKVCKOL&marketplace=FLIPKART&q=sunglasses&store=26x&srno=s_10_362&otracker=search&otracker1=search&fm=organic&iid=307b225d-7e8e-475a-8084-d91e9d364367.SGLFBSSAFXYRVFYF.SEARCH&ppt=sp&ppn=sp&ssid=tsc89wgacw0000001617777603896&qH=2cc465e3eef5bff0',\n",
       " 'https://www.flipkart.com/ray-ban-aviator-sunglasses/p/itmf3yhyzhpqc3zz?pid=SGLE8E2CBZUTFGK8&lid=LSTSGLE8E2CBZUTFGK8OHAE0E&marketplace=FLIPKART&q=sunglasses&store=26x&srno=s_10_363&otracker=search&otracker1=search&fm=organic&iid=307b225d-7e8e-475a-8084-d91e9d364367.SGLE8E2CBZUTFGK8.SEARCH&ppt=sp&ppn=sp&ssid=tsc89wgacw0000001617777603896&qH=2cc465e3eef5bff0',\n",
       " 'https://www.flipkart.com/irayz-over-sized-sunglasses/p/itmf3yh9zjg4tybm?pid=SGLF28EZDDAN6HKG&lid=LSTSGLF28EZDDAN6HKG6JMTVX&marketplace=FLIPKART&q=sunglasses&store=26x&srno=s_10_364&otracker=search&otracker1=search&fm=organic&iid=en_UBaOyKvT5hhPm1O%2F%2BCFpzhCmCvzu1HrCcfmU6gIU6dKhvTaNlC%2Bgsjni2jg0PwBCEdokfpXF75fVNPrAKofetw%3D%3D&ppt=sp&ppn=sp&ssid=tsc89wgacw0000001617777603896&qH=2cc465e3eef5bff0',\n",
       " 'https://www.flipkart.com/johaena-sports-sunglasses/p/itm33c3b2a55172a?pid=SGLFG8AUHFGQCZHB&lid=LSTSGLFG8AUHFGQCZHBBBMPHU&marketplace=FLIPKART&q=sunglasses&store=26x&srno=s_10_365&otracker=search&otracker1=search&fm=organic&iid=307b225d-7e8e-475a-8084-d91e9d364367.SGLFG8AUHFGQCZHB.SEARCH&ppt=sp&ppn=sp&ssid=tsc89wgacw0000001617777603896&qH=2cc465e3eef5bff0',\n",
       " 'https://www.flipkart.com/aislin-aviator-sunglasses/p/itmf3yhegnednz6z?pid=SGLEZ7ZNYSYS34NG&lid=LSTSGLEZ7ZNYSYS34NGQZPIUR&marketplace=FLIPKART&q=sunglasses&store=26x&srno=s_10_366&otracker=search&otracker1=search&fm=organic&iid=307b225d-7e8e-475a-8084-d91e9d364367.SGLEZ7ZNYSYS34NG.SEARCH&ppt=sp&ppn=sp&ssid=tsc89wgacw0000001617777603896&qH=2cc465e3eef5bff0',\n",
       " 'https://www.flipkart.com/fastrack-round-sunglasses/p/itmf3ykzczqpkewm?pid=SGLFHHGYPSE3U4HX&lid=LSTSGLFHHGYPSE3U4HXP0WKOU&marketplace=FLIPKART&q=sunglasses&store=26x&srno=s_10_367&otracker=search&otracker1=search&fm=organic&iid=307b225d-7e8e-475a-8084-d91e9d364367.SGLFHHGYPSE3U4HX.SEARCH&ppt=sp&ppn=sp&ssid=tsc89wgacw0000001617777603896&qH=2cc465e3eef5bff0',\n",
       " 'https://www.flipkart.com/flying-machine-wayfarer-sunglasses/p/itm54a376528ef38?pid=SGLFJFWZ9C2SVSVH&lid=LSTSGLFJFWZ9C2SVSVHXPGMJD&marketplace=FLIPKART&q=sunglasses&store=26x&srno=s_10_368&otracker=search&otracker1=search&fm=organic&iid=307b225d-7e8e-475a-8084-d91e9d364367.SGLFJFWZ9C2SVSVH.SEARCH&ppt=sp&ppn=sp&ssid=tsc89wgacw0000001617777603896&qH=2cc465e3eef5bff0',\n",
       " 'https://www.flipkart.com/piraso-aviator-sunglasses/p/itmfhw9tphk7egst?pid=SGLFHUUT47CZVNMV&lid=LSTSGLFHUUT47CZVNMVRB6ER8&marketplace=FLIPKART&q=sunglasses&store=26x&srno=s_10_369&otracker=search&otracker1=search&fm=organic&iid=307b225d-7e8e-475a-8084-d91e9d364367.SGLFHUUT47CZVNMV.SEARCH&ppt=sp&ppn=sp&ssid=tsc89wgacw0000001617777603896&qH=2cc465e3eef5bff0',\n",
       " 'https://www.flipkart.com/silver-kartz-wayfarer-aviator-sunglasses/p/itmf7g4pezzem77y?pid=SGLF7G35GZPDJRHE&lid=LSTSGLF7G35GZPDJRHE8XJDYA&marketplace=FLIPKART&q=sunglasses&store=26x&srno=s_10_370&otracker=search&otracker1=search&fm=organic&iid=en_UBaOyKvT5hhPm1O%2F%2BCFpzhCmCvzu1HrCcfmU6gIU6dI8aCwLSZ1TQPfdpo91bC7rSAvmEWnT7CwZ5PQZ9xBIzw%3D%3D&ppt=sp&ppn=sp&ssid=tsc89wgacw0000001617777603896&qH=2cc465e3eef5bff0',\n",
       " 'https://www.flipkart.com/united-colors-benetton-retro-square-sunglasses/p/itm5c520d9c6bd4c?pid=SGLFUQZ8NBEAU6WP&lid=LSTSGLFUQZ8NBEAU6WPDFNGQ1&marketplace=FLIPKART&q=sunglasses&store=26x&srno=s_10_371&otracker=search&otracker1=search&fm=organic&iid=307b225d-7e8e-475a-8084-d91e9d364367.SGLFUQZ8NBEAU6WP.SEARCH&ppt=sp&ppn=sp&ssid=tsc89wgacw0000001617777603896&qH=2cc465e3eef5bff0',\n",
       " 'https://www.flipkart.com/ray-ban-aviator-sunglasses/p/itmf3yh44jvg9nbg?pid=SGLFYCQ69UDPDG5H&lid=LSTSGLFYCQ69UDPDG5HKTPOLW&marketplace=FLIPKART&q=sunglasses&store=26x&srno=s_10_372&otracker=search&otracker1=search&fm=organic&iid=307b225d-7e8e-475a-8084-d91e9d364367.SGLFYCQ69UDPDG5H.SEARCH&ppt=sp&ppn=sp&ssid=tsc89wgacw0000001617777603896&qH=2cc465e3eef5bff0',\n",
       " 'https://www.flipkart.com/hamiw-collection-wayfarer-sports-shield-rectangular-retro-square-sunglasses/p/itme15648f3a4842?pid=SGLFX9FFSBSGV9DB&lid=LSTSGLFX9FFSBSGV9DBITLBWZ&marketplace=FLIPKART&q=sunglasses&store=26x&srno=s_10_373&otracker=search&otracker1=search&fm=organic&iid=307b225d-7e8e-475a-8084-d91e9d364367.SGLFX9FFSBSGV9DB.SEARCH&ppt=sp&ppn=sp&ssid=tsc89wgacw0000001617777603896&qH=2cc465e3eef5bff0',\n",
       " 'https://www.flipkart.com/gansta-wayfarer-sunglasses/p/itmf7h54ekzfpfqn?pid=SGLF7KSVHFSZNZH9&lid=LSTSGLF7KSVHFSZNZH9JMLWO2&marketplace=FLIPKART&q=sunglasses&store=26x&srno=s_10_374&otracker=search&otracker1=search&fm=organic&iid=en_UBaOyKvT5hhPm1O%2F%2BCFpzhCmCvzu1HrCcfmU6gIU6dInWQgaVZlmWyYfAxJulIMiNJlDRtgRy0yx1JQP07R%2Fpg%3D%3D&ppt=sp&ppn=sp&ssid=tsc89wgacw0000001617777603896&qH=2cc465e3eef5bff0',\n",
       " 'https://www.flipkart.com/peter-india-spectacle-sunglasses/p/itmf3yhaypqbqhrj?pid=SGLF2FHGZDTGHGHV&lid=LSTSGLF2FHGZDTGHGHVWROPYQ&marketplace=FLIPKART&q=sunglasses&store=26x&srno=s_10_375&otracker=search&otracker1=search&fm=organic&iid=307b225d-7e8e-475a-8084-d91e9d364367.SGLF2FHGZDTGHGHV.SEARCH&ppt=sp&ppn=sp&ssid=tsc89wgacw0000001617777603896&qH=2cc465e3eef5bff0',\n",
       " 'https://www.flipkart.com/nuvew-wayfarer-retro-square-sunglasses/p/itm774e6ff7c2427?pid=SGLFPZ9YYNM8JEHH&lid=LSTSGLFPZ9YYNM8JEHHSNUV9B&marketplace=FLIPKART&q=sunglasses&store=26x&srno=s_10_376&otracker=search&otracker1=search&fm=organic&iid=307b225d-7e8e-475a-8084-d91e9d364367.SGLFPZ9YYNM8JEHH.SEARCH&ppt=sp&ppn=sp&ssid=tsc89wgacw0000001617777603896&qH=2cc465e3eef5bff0',\n",
       " 'https://www.flipkart.com/idee-aviator-sunglasses/p/itmfen4anhsgtczz?pid=SGLFEN4APWJMX5YZ&lid=LSTSGLFEN4APWJMX5YZNOPQYK&marketplace=FLIPKART&q=sunglasses&store=26x&srno=s_10_377&otracker=search&otracker1=search&fm=organic&iid=307b225d-7e8e-475a-8084-d91e9d364367.SGLFEN4APWJMX5YZ.SEARCH&ppt=sp&ppn=sp&ssid=tsc89wgacw0000001617777603896&qH=2cc465e3eef5bff0',\n",
       " 'https://www.flipkart.com/ray-ban-aviator-sunglasses/p/itmf3ykzxzyktvsn?pid=SGLEWHYHY3ZWTEZF&lid=LSTSGLEWHYHY3ZWTEZFL1MGHN&marketplace=FLIPKART&q=sunglasses&store=26x&srno=s_10_378&otracker=search&otracker1=search&fm=organic&iid=307b225d-7e8e-475a-8084-d91e9d364367.SGLEWHYHY3ZWTEZF.SEARCH&ppt=sp&ppn=sp&ssid=tsc89wgacw0000001617777603896&qH=2cc465e3eef5bff0',\n",
       " 'https://www.flipkart.com/scaglia-round-sunglasses/p/itmfccnzsrfzcxjs?pid=SGLFCAJDDPHMYNCF&lid=LSTSGLFCAJDDPHMYNCFHZGLPA&marketplace=FLIPKART&q=sunglasses&store=26x&srno=s_10_379&otracker=search&otracker1=search&fm=organic&iid=307b225d-7e8e-475a-8084-d91e9d364367.SGLFCAJDDPHMYNCF.SEARCH&ppt=sp&ppn=sp&ssid=tsc89wgacw0000001617777603896&qH=2cc465e3eef5bff0',\n",
       " 'https://www.flipkart.com/silver-kartz-aviator-sunglasses/p/itmehmtuuphwyrwp?pid=SGLEHMTUEJKUS8MN&lid=LSTSGLEHMTUEJKUS8MNFTXFRA&marketplace=FLIPKART&q=sunglasses&store=26x&srno=s_10_380&otracker=search&otracker1=search&fm=organic&iid=en_UBaOyKvT5hhPm1O%2F%2BCFpzhCmCvzu1HrCcfmU6gIU6dKDYBacdIhbelZ%2FX3IdOq45EVyWeKeSLym2DUd3PIJqzQ%3D%3D&ppt=sp&ppn=sp&ssid=tsc89wgacw0000001617777603896&qH=2cc465e3eef5bff0',\n",
       " 'https://www.flipkart.com/nuvew-wayfarer-rectangular-sunglasses/p/itm333dd8f3ec0e1?pid=SGLFKGABPAGH2N2G&lid=LSTSGLFKGABPAGH2N2GXKXBN9&marketplace=FLIPKART&q=sunglasses&store=26x&srno=s_10_381&otracker=search&otracker1=search&fm=organic&iid=307b225d-7e8e-475a-8084-d91e9d364367.SGLFKGABPAGH2N2G.SEARCH&ppt=sp&ppn=sp&ssid=tsc89wgacw0000001617777603896&qH=2cc465e3eef5bff0',\n",
       " 'https://www.flipkart.com/peter-jones-oval-sunglasses/p/itmefgnzr7z6e48h?pid=SGLEFGNZFV57D3VH&lid=LSTSGLEFGNZFV57D3VHWLX1TC&marketplace=FLIPKART&q=sunglasses&store=26x&srno=s_10_382&otracker=search&otracker1=search&fm=organic&iid=307b225d-7e8e-475a-8084-d91e9d364367.SGLEFGNZFV57D3VH.SEARCH&ppt=sp&ppn=sp&ssid=tsc89wgacw0000001617777603896&qH=2cc465e3eef5bff0',\n",
       " 'https://www.flipkart.com/ray-ban-aviator-sunglasses/p/itmf3yh7dqf3hwup?pid=SGLEWHYH9ZPXGF7Z&lid=LSTSGLEWHYH9ZPXGF7ZODJK5Y&marketplace=FLIPKART&q=sunglasses&store=26x&srno=s_10_383&otracker=search&otracker1=search&fm=organic&iid=307b225d-7e8e-475a-8084-d91e9d364367.SGLEWHYH9ZPXGF7Z.SEARCH&ppt=sp&ppn=sp&ssid=tsc89wgacw0000001617777603896&qH=2cc465e3eef5bff0',\n",
       " 'https://www.flipkart.com/billion-aviator-sunglasses/p/itm49d84fca18399?pid=SGLFJKPVMWMGHDPZ&lid=LSTSGLFJKPVMWMGHDPZS7M4TV&marketplace=FLIPKART&q=sunglasses&store=26x&srno=s_10_384&otracker=search&otracker1=search&fm=organic&iid=en_UBaOyKvT5hhPm1O%2F%2BCFpzhCmCvzu1HrCcfmU6gIU6dJu0ELCVlPGfaSL21PJz6iHJ%2BVfhEn4R7tl3TU%2B7584ww%3D%3D&ppt=sp&ppn=sp&ssid=tsc89wgacw0000001617777603896&qH=2cc465e3eef5bff0',\n",
       " 'https://www.flipkart.com/ray-ban-rectangular-sunglasses/p/itmfdd471bc0e10c?pid=SGLFUUHHJNT2CHFJ&lid=LSTSGLFUUHHJNT2CHFJXNIPEY&marketplace=FLIPKART&q=sunglasses&store=26x&srno=s_10_385&otracker=search&otracker1=search&fm=organic&iid=307b225d-7e8e-475a-8084-d91e9d364367.SGLFUUHHJNT2CHFJ.SEARCH&ppt=sp&ppn=sp&ssid=tsc89wgacw0000001617777603896&qH=2cc465e3eef5bff0',\n",
       " 'https://www.flipkart.com/wrogn-aviator-sunglasses/p/itm6f7cc59d0030b?pid=SGLFVHMBZ9JGAFNY&lid=LSTSGLFVHMBZ9JGAFNYZXIRA2&marketplace=FLIPKART&q=sunglasses&store=26x&srno=s_10_386&otracker=search&otracker1=search&fm=organic&iid=307b225d-7e8e-475a-8084-d91e9d364367.SGLFVHMBZ9JGAFNY.SEARCH&ppt=sp&ppn=sp&ssid=tsc89wgacw0000001617777603896&qH=2cc465e3eef5bff0',\n",
       " 'https://www.flipkart.com/aislin-aviator-sunglasses/p/itmf3yhfs66vg37b?pid=SGLEYQUHZDDN5GMD&lid=LSTSGLEYQUHZDDN5GMDNROAI2&marketplace=FLIPKART&q=sunglasses&store=26x&srno=s_10_387&otracker=search&otracker1=search&fm=organic&iid=307b225d-7e8e-475a-8084-d91e9d364367.SGLEYQUHZDDN5GMD.SEARCH&ppt=sp&ppn=sp&ssid=tsc89wgacw0000001617777603896&qH=2cc465e3eef5bff0',\n",
       " 'https://www.flipkart.com/david-martin-aviator-sunglasses/p/itmfavtywvuqpahd?pid=SGLFAVKTG2WPUTFR&lid=LSTSGLFAVKTG2WPUTFRIB9MWW&marketplace=FLIPKART&q=sunglasses&store=26x&srno=s_10_388&otracker=search&otracker1=search&fm=organic&iid=307b225d-7e8e-475a-8084-d91e9d364367.SGLFAVKTG2WPUTFR.SEARCH&ppt=sp&ppn=sp&ssid=tsc89wgacw0000001617777603896&qH=2cc465e3eef5bff0',\n",
       " 'https://www.flipkart.com/ray-ban-retro-square-sunglasses/p/itmf3yh2a6wfvjfk?pid=SGLFYCQG8R3TMSF6&lid=LSTSGLFYCQG8R3TMSF6UTHSZ6&marketplace=FLIPKART&q=sunglasses&store=26x&srno=s_10_389&otracker=search&otracker1=search&fm=organic&iid=307b225d-7e8e-475a-8084-d91e9d364367.SGLFYCQG8R3TMSF6.SEARCH&ppt=sp&ppn=sp&ssid=tsc89wgacw0000001617777603896&qH=2cc465e3eef5bff0',\n",
       " 'https://www.flipkart.com/vast-sports-wrap-around-sunglasses/p/itm867253d10787a?pid=SGLFGHYGXKWA2PT3&lid=LSTSGLFGHYGXKWA2PT3YZW7ZU&marketplace=FLIPKART&q=sunglasses&store=26x&srno=s_10_390&otracker=search&otracker1=search&fm=organic&iid=en_UBaOyKvT5hhPm1O%2F%2BCFpzhCmCvzu1HrCcfmU6gIU6dJ3szY3HvyeHI99KcNYs4YR754Nv7AcNP0eWL1sTi6X1A%3D%3D&ppt=sp&ppn=sp&ssid=tsc89wgacw0000001617777603896&qH=2cc465e3eef5bff0',\n",
       " 'https://www.flipkart.com/nuvew-wayfarer-rectangular-sunglasses/p/itm7b8778f39220b?pid=SGLFPZBFSFCUZGZH&lid=LSTSGLFPZBFSFCUZGZHG82LJD&marketplace=FLIPKART&q=sunglasses&store=26x&srno=s_10_391&otracker=search&otracker1=search&fm=organic&iid=307b225d-7e8e-475a-8084-d91e9d364367.SGLFPZBFSFCUZGZH.SEARCH&ppt=sp&ppn=sp&ssid=tsc89wgacw0000001617777603896&qH=2cc465e3eef5bff0',\n",
       " 'https://www.flipkart.com/aislin-cat-eye-sunglasses/p/itmfds9echupehsh?pid=SGLFDS25KYWMGDAQ&lid=LSTSGLFDS25KYWMGDAQTF4UPX&marketplace=FLIPKART&q=sunglasses&store=26x&srno=s_10_392&otracker=search&otracker1=search&fm=organic&iid=307b225d-7e8e-475a-8084-d91e9d364367.SGLFDS25KYWMGDAQ.SEARCH&ppt=sp&ppn=sp&ssid=tsc89wgacw0000001617777603896&qH=2cc465e3eef5bff0',\n",
       " 'https://www.flipkart.com/royal-son-aviator-sunglasses/p/itm0f4170ed848ca?pid=SGLFZKGYYVJ5ZZYZ&lid=LSTSGLFZKGYYVJ5ZZYZPDRLE7&marketplace=FLIPKART&q=sunglasses&store=26x&srno=s_10_393&otracker=search&otracker1=search&fm=organic&iid=307b225d-7e8e-475a-8084-d91e9d364367.SGLFZKGYYVJ5ZZYZ.SEARCH&ppt=sp&ppn=sp&ssid=tsc89wgacw0000001617777603896&qH=2cc465e3eef5bff0',\n",
       " 'https://www.flipkart.com/rozzetta-craft-shield-sunglasses/p/itmc5444d5058e09?pid=SGLFPZ65YQPYKUQP&lid=LSTSGLFPZ65YQPYKUQP4W0V5O&marketplace=FLIPKART&q=sunglasses&store=26x&srno=s_10_394&otracker=search&otracker1=search&fm=organic&iid=en_UBaOyKvT5hhPm1O%2F%2BCFpzhCmCvzu1HrCcfmU6gIU6dIHSCkDYM%2F5SpCgwNIwPP9hiKUaeWUMBlOs8yhNNc3JWg%3D%3D&ppt=sp&ppn=sp&ssid=tsc89wgacw0000001617777603896&qH=2cc465e3eef5bff0',\n",
       " 'https://www.flipkart.com/ray-ban-wayfarer-sunglasses/p/itmf3yh5qzqtwzfz?pid=SGLDTXYWJFH2UCCX&lid=LSTSGLDTXYWJFH2UCCXZNVGE4&marketplace=FLIPKART&q=sunglasses&store=26x&srno=s_10_395&otracker=search&otracker1=search&fm=organic&iid=307b225d-7e8e-475a-8084-d91e9d364367.SGLDTXYWJFH2UCCX.SEARCH&ppt=sp&ppn=sp&ssid=tsc89wgacw0000001617777603896&qH=2cc465e3eef5bff0',\n",
       " 'https://www.flipkart.com/royal-son-aviator-sunglasses/p/itmf3yknzj72gdmm?pid=SGLE9CNY6NEXUEYD&lid=LSTSGLE9CNY6NEXUEYDL4G5US&marketplace=FLIPKART&q=sunglasses&store=26x&srno=s_10_396&otracker=search&otracker1=search&fm=organic&iid=307b225d-7e8e-475a-8084-d91e9d364367.SGLE9CNY6NEXUEYD.SEARCH&ppt=sp&ppn=sp&ssid=tsc89wgacw0000001617777603896&qH=2cc465e3eef5bff0',\n",
       " 'https://www.flipkart.com/ray-ban-aviator-sunglasses/p/itmf3yh5nh34kted?pid=SGLFYCQ6HN2ZQGM4&lid=LSTSGLFYCQ6HN2ZQGM4J69D7T&marketplace=FLIPKART&q=sunglasses&store=26x&srno=s_10_397&otracker=search&otracker1=search&fm=organic&iid=307b225d-7e8e-475a-8084-d91e9d364367.SGLFYCQ6HN2ZQGM4.SEARCH&ppt=sp&ppn=sp&ssid=tsc89wgacw0000001617777603896&qH=2cc465e3eef5bff0',\n",
       " 'https://www.flipkart.com/aislin-wayfarer-round-sunglasses/p/itmd424c458c0a74?pid=SGLFRHGSDZVZGMMW&lid=LSTSGLFRHGSDZVZGMMWABBJQY&marketplace=FLIPKART&q=sunglasses&store=26x&srno=s_10_398&otracker=search&otracker1=search&fm=organic&iid=307b225d-7e8e-475a-8084-d91e9d364367.SGLFRHGSDZVZGMMW.SEARCH&ppt=sp&ppn=sp&ssid=tsc89wgacw0000001617777603896&qH=2cc465e3eef5bff0',\n",
       " 'https://www.flipkart.com/peter-jones-cat-eye-sunglasses/p/itmbd1dc2cbd7566?pid=SGLFNQZKYFKEAKYP&lid=LSTSGLFNQZKYFKEAKYPNTH7TU&marketplace=FLIPKART&q=sunglasses&store=26x&srno=s_10_399&otracker=search&otracker1=search&fm=organic&iid=307b225d-7e8e-475a-8084-d91e9d364367.SGLFNQZKYFKEAKYP.SEARCH&ppt=sp&ppn=sp&ssid=tsc89wgacw0000001617777603896&qH=2cc465e3eef5bff0',\n",
       " 'https://www.flipkart.com/tom-martin-aviator-sunglasses/p/itmf3yh3p4zfgjbh?pid=SGLEUJTJQ8TMM5QZ&lid=LSTSGLEUJTJQ8TMM5QZPNXEOM&marketplace=FLIPKART&q=sunglasses&store=26x&srno=s_10_400&otracker=search&otracker1=search&fm=organic&iid=en_UBaOyKvT5hhPm1O%2F%2BCFpzhCmCvzu1HrCcfmU6gIU6dIeD6%2BKIADqlBm216Xoyj%2FwyWG68J19x2DBfBWscDdJ3Q%3D%3D&ppt=sp&ppn=sp&ssid=tsc89wgacw0000001617777603896&qH=2cc465e3eef5bff0']"
      ]
     },
     "execution_count": 155,
     "metadata": {},
     "output_type": "execute_result"
    }
   ],
   "source": [
    "URL"
   ]
  },
  {
   "cell_type": "code",
   "execution_count": 156,
   "metadata": {},
   "outputs": [],
   "source": [
    "list_of_url=URL[0:100]"
   ]
  },
  {
   "cell_type": "code",
   "execution_count": 157,
   "metadata": {},
   "outputs": [
    {
     "data": {
      "text/plain": [
       "100"
      ]
     },
     "execution_count": 157,
     "metadata": {},
     "output_type": "execute_result"
    }
   ],
   "source": [
    "len(list_of_url)"
   ]
  },
  {
   "cell_type": "code",
   "execution_count": 158,
   "metadata": {},
   "outputs": [],
   "source": [
    "#going to the url of first sunglasses through our driver\n",
    "driver.get(list_of_url[0])"
   ]
  },
  {
   "cell_type": "code",
   "execution_count": 159,
   "metadata": {},
   "outputs": [
    {
     "name": "stderr",
     "output_type": "stream",
     "text": [
      "100%|████████████████████████████████████████████████████████████████████████████████| 100/100 [05:18<00:00,  3.19s/it]\n"
     ]
    }
   ],
   "source": [
    "#running a loop to extract all the required information from the list_of_url\n",
    "from tqdm import tqdm\n",
    "for i in tqdm(list_of_url):\n",
    "    driver.get(i)\n",
    "    try:\n",
    "        brand=driver.find_element_by_xpath(\"//span[@class='G6XhRU']\").text\n",
    "        Brand.append(brand)\n",
    "        description=driver.find_element_by_xpath(\"//span[@class='B_NuCI']\").text\n",
    "        Product_Description.append(description)\n",
    "        price=driver.find_element_by_xpath(\"//div[@class='_30jeq3 _16Jk6d']\").text\n",
    "        Price.append(price)\n",
    "        discount=driver.find_element_by_xpath(\"//div[@class='_3Ay6Sb _31Dcoz pZkvcx']/span\").text\n",
    "        Discount.append(discount)\n",
    "    except NoSuchElementException:\n",
    "        Brand.append(\"Null\")\n",
    "        Product_Description.append(\"Null\")\n",
    "        Price.append(\"Null\")\n",
    "        Discount.append('Null')"
   ]
  },
  {
   "cell_type": "code",
   "execution_count": 160,
   "metadata": {},
   "outputs": [
    {
     "data": {
      "text/plain": [
       "['Silver Kartz ',\n",
       " 'ROYAL SON ',\n",
       " 'Fastrack ',\n",
       " 'PIRASO ',\n",
       " 'Fastrack ',\n",
       " 'PIRASO ',\n",
       " 'Fastrack ',\n",
       " 'ROZZETTA CRAFT ',\n",
       " 'Fastrack ',\n",
       " 'phenomenal ',\n",
       " 'Singco India ',\n",
       " 'Fastrack ',\n",
       " 'PIRASO ',\n",
       " 'ROZZETTA CRAFT ',\n",
       " 'Silver Kartz ',\n",
       " 'Singco India ',\n",
       " 'ROZZETTA CRAFT ',\n",
       " 'Fastrack ',\n",
       " 'Singco India ',\n",
       " 'ROYAL SON ',\n",
       " 'PIRASO ',\n",
       " 'Fastrack ',\n",
       " 'HIPPON ',\n",
       " 'ROZZETTA CRAFT ',\n",
       " 'Fastrack ',\n",
       " 'Fastrack ',\n",
       " 'Fastrack ',\n",
       " 'ROYAL SON ',\n",
       " 'Fastrack ',\n",
       " 'ROZZETTA CRAFT ',\n",
       " 'DEIXELS ',\n",
       " 'Fastrack ',\n",
       " 'GANSTA ',\n",
       " 'VOYAGE ',\n",
       " 'DEIXELS ',\n",
       " 'ROZZETTA CRAFT ',\n",
       " 'Fastrack ',\n",
       " 'NuVew ',\n",
       " 'Fastrack ',\n",
       " 'Silver Kartz ',\n",
       " 'Fastrack ',\n",
       " 'ROZZETTA CRAFT ',\n",
       " 'Fastrack ',\n",
       " 'Billion ',\n",
       " 'Silver Kartz ',\n",
       " 'DEIXELS ',\n",
       " 'ROZZETTA CRAFT ',\n",
       " 'NuVew ',\n",
       " 'Fastrack ',\n",
       " 'ROZZETTA CRAFT ',\n",
       " 'SRPM ',\n",
       " 'PIRASO ',\n",
       " 'Singco ',\n",
       " 'ROZZETTA CRAFT ',\n",
       " 'Fastrack ',\n",
       " 'Singco India ',\n",
       " 'NuVew ',\n",
       " 'Fastrack ',\n",
       " 'ROZZETTA CRAFT ',\n",
       " 'ROZZETTA CRAFT ',\n",
       " 'Aislin ',\n",
       " 'Fastrack ',\n",
       " 'Fastrack ',\n",
       " 'Jack Ryan ',\n",
       " 'Fastrack ',\n",
       " 'GANSTA ',\n",
       " 'ROYAL SON ',\n",
       " 'BKGE ',\n",
       " 'Fastrack ',\n",
       " 'Silver Kartz ',\n",
       " 'Fastrack ',\n",
       " 'Aislin ',\n",
       " 'GANSTA ',\n",
       " 'Tom Martin ',\n",
       " 'phenomenal ',\n",
       " 'Aislin ',\n",
       " 'Fastrack ',\n",
       " 'Silver Kartz ',\n",
       " 'hipe ',\n",
       " 'Billion ',\n",
       " 'Aislin ',\n",
       " 'Ray-Ban ',\n",
       " 'Ray-Ban ',\n",
       " 'Irayz ',\n",
       " 'Johaena ',\n",
       " 'Aislin ',\n",
       " 'Fastrack ',\n",
       " 'FLYING MACHINE ',\n",
       " 'PIRASO ',\n",
       " 'Silver Kartz ',\n",
       " 'United Colors of Benetton. ',\n",
       " 'Ray-Ban ',\n",
       " 'HAMIW COLLECTION ',\n",
       " 'GANSTA ',\n",
       " 'peter india ',\n",
       " 'NuVew ',\n",
       " 'IDEE ',\n",
       " 'Ray-Ban ',\n",
       " 'Scaglia ',\n",
       " 'Silver Kartz ']"
      ]
     },
     "execution_count": 160,
     "metadata": {},
     "output_type": "execute_result"
    }
   ],
   "source": [
    "Brand"
   ]
  },
  {
   "cell_type": "code",
   "execution_count": 161,
   "metadata": {},
   "outputs": [
    {
     "data": {
      "text/plain": [
       "['UV Protection Aviator Sunglasses (88)  (Black, Green)',\n",
       " 'UV Protection Retro Square Sunglasses (88)  (Blue)',\n",
       " 'UV Protection Wayfarer Sunglasses (Free Size)  (Green)',\n",
       " 'UV Protection Aviator Sunglasses (54)  (Black)',\n",
       " 'UV Protection Rectangular Sunglasses (Free Size)  (Grey)',\n",
       " 'UV Protection Aviator Sunglasses (Free Size)  (Golden, Black)',\n",
       " 'Mirrored, UV Protection Wayfarer Sunglasses (Free Size)  (Blue, Green)',\n",
       " 'UV Protection Retro Square Sunglasses (Free Size)  (Blue)',\n",
       " 'UV Protection Wayfarer Sunglasses (Free Size)  (Grey)',\n",
       " 'UV Protection, Mirrored Retro Square Sunglasses (53)  (Red, Black)',\n",
       " 'UV Protection, Polarized Aviator Sunglasses (Free Size)  (Black, Black)',\n",
       " 'Gradient, UV Protection Wayfarer Sunglasses (Free Size)  (Green)',\n",
       " 'UV Protection Aviator Sunglasses (54)  (Green)',\n",
       " 'UV Protection, Gradient Round Sunglasses (Free Size)  (Brown)',\n",
       " 'UV Protection Wayfarer Sunglasses (Free Size)  (Black)',\n",
       " 'UV Protection Round Sunglasses (Free Size)  (Red, Blue)',\n",
       " 'UV Protection, Gradient Rectangular Sunglasses (Free Size)  (Blue)',\n",
       " 'Gradient, UV Protection Wayfarer Sunglasses (Free Size)  (Black)',\n",
       " 'UV Protection Aviator Sunglasses (Free Size)  (Black, Blue, Brown)',\n",
       " 'UV Protection Retro Square Sunglasses (49)  (Silver)',\n",
       " 'UV Protection Wayfarer Sunglasses (32)  (Black)',\n",
       " 'UV Protection Wayfarer Sunglasses (56)  (Green)',\n",
       " 'UV Protection Wayfarer Sunglasses (55)  (Violet)',\n",
       " 'UV Protection, Gradient Round Sunglasses (Free Size)  (Black)',\n",
       " 'UV Protection Aviator Sunglasses (58)  (Green)',\n",
       " 'UV Protection Wayfarer Sunglasses (Free Size)  (Grey)',\n",
       " 'UV Protection Wayfarer Sunglasses (Free Size)  (Grey)',\n",
       " 'Mirrored Aviator Sunglasses (55)  (Black, Brown)',\n",
       " 'UV Protection Wayfarer Sunglasses (Free Size)  (Blue)',\n",
       " 'Polarized, Gradient, UV Protection Over-sized Sunglasses (Free Size)  (Golden, Black)',\n",
       " 'UV Protection Round Sunglasses (Free Size)  (Blue, Clear)',\n",
       " 'UV Protection Aviator Sunglasses (Free Size)  (Green)',\n",
       " 'UV Protection, Gradient Wayfarer Sunglasses (53)  (Black, Brown)',\n",
       " 'Gradient Oval Sunglasses (53)  (Brown)',\n",
       " 'UV Protection Aviator, Wayfarer Sunglasses (Free Size)  (Black)',\n",
       " 'UV Protection Retro Square Sunglasses (Free Size)  (Brown)',\n",
       " 'UV Protection Shield Sunglasses (Free Size)  (Green)',\n",
       " 'UV Protection Aviator Sunglasses (57)  (Black, Blue)',\n",
       " 'UV Protection Aviator Sunglasses (58)  (Brown)',\n",
       " 'UV Protection Aviator Sunglasses (62)  (Black)',\n",
       " 'Gradient, UV Protection Wayfarer Sunglasses (Free Size)  (Blue)',\n",
       " 'Gradient, UV Protection Round Sunglasses (Free Size)  (Grey)',\n",
       " 'UV Protection Shield Sunglasses (Free Size)  (Grey)',\n",
       " 'Polarized, UV Protection Aviator Sunglasses (57)  (Black)',\n",
       " 'UV Protection Oval Sunglasses (56)  (Green)',\n",
       " 'UV Protection Wayfarer Sunglasses (Free Size)  (Blue)',\n",
       " 'UV Protection Rectangular Sunglasses (Free Size)  (Red, Blue)',\n",
       " 'UV Protection Aviator Sunglasses (58)  (Black, Grey, Violet)',\n",
       " 'UV Protection Wayfarer Sunglasses (Free Size)  (Brown)',\n",
       " 'Mirrored, UV Protection Round Sunglasses (Free Size)  (Blue)',\n",
       " 'UV Protection Round Sunglasses (53)  (Pink)',\n",
       " 'UV Protection Aviator Sunglasses (54)  (Black, Golden)',\n",
       " 'UV Protection, Others Aviator Sunglasses (32)  (Red, Blue, Pink, Yellow)',\n",
       " 'UV Protection Retro Square Sunglasses (Free Size)  (Black)',\n",
       " 'UV Protection Rectangular Sunglasses (56)  (Grey)',\n",
       " 'Mirrored, Riding Glasses, Others Sports Sunglasses (50)  (Black, Blue, Silver)',\n",
       " 'UV Protection, Night Vision, Riding Glasses Sports Sunglasses (65)  (Yellow)',\n",
       " 'UV Protection Aviator Sunglasses (58)  (Grey)',\n",
       " 'UV Protection, Riding Glasses Rectangular Sunglasses (Free Size)  (Clear)',\n",
       " 'UV Protection, Gradient Round Sunglasses (Free Size)  (Black)',\n",
       " 'UV Protection, Others Wayfarer, Rectangular Sunglasses (64)  (Green)',\n",
       " 'UV Protection, Polarized Wayfarer Sunglasses (56)  (Brown)',\n",
       " 'UV Protection Aviator Sunglasses (Free Size)  (Green)',\n",
       " 'Gradient Aviator Sunglasses (57)  (Brown)',\n",
       " 'UV Protection Wrap-around Sunglasses (Free Size)  (Green)',\n",
       " 'Night Vision, Riding Glasses Wayfarer Sunglasses (53)  (Yellow, Red)',\n",
       " 'Mirrored Aviator Sunglasses (58)  (Black)',\n",
       " 'UV Protection, Polarized Rectangular Sunglasses (53)  (Red, Blue)',\n",
       " 'UV Protection Rectangular Sunglasses (59)  (Brown)',\n",
       " 'UV Protection Oval Sunglasses (56)  (Black)',\n",
       " 'UV Protection Wayfarer Sunglasses (57)  (Grey)',\n",
       " 'UV Protection Round Sunglasses (55)  (Black)',\n",
       " 'UV Protection Aviator Sunglasses (57)  (Black, Blue)',\n",
       " 'Polarized, UV Protection Round Sunglasses (Free Size)  (Black)',\n",
       " 'UV Protection, Mirrored Retro Square Sunglasses (53)  (Blue, Pink)',\n",
       " 'UV Protection Rectangular, Cat-eye Sunglasses (58)  (Brown)',\n",
       " 'UV Protection Aviator Sunglasses (61)  (Blue)',\n",
       " 'UV Protection Aviator Sunglasses (88)  (Black, Green)',\n",
       " 'UV Protection Round Sunglasses (Free Size)  (For Boys & Girls)',\n",
       " 'Polarized, Gradient, UV Protection Aviator Sunglasses (57)  (Black, Black)',\n",
       " 'UV Protection Wayfarer Sunglasses (55)  (Grey)',\n",
       " 'UV Protection Wayfarer Sunglasses (55)  (Green)',\n",
       " 'UV Protection Aviator Sunglasses (58)  (Green)',\n",
       " 'UV Protection Over-sized Sunglasses (Free Size)  (Brown)',\n",
       " 'UV Protection Sports Sunglasses (Free Size)  (Black)',\n",
       " 'UV Protection, Mirrored Aviator Sunglasses (60)  (Violet, Blue)',\n",
       " 'UV Protection Round Sunglasses (Free Size)  (Brown)',\n",
       " 'UV Protection Wayfarer Sunglasses (Free Size)  (Brown)',\n",
       " 'UV Protection, Polarized Aviator Sunglasses (32)  (Black)',\n",
       " 'UV Protection Wayfarer, Aviator Sunglasses (88)  (Black, Green)',\n",
       " 'Gradient, UV Protection Retro Square Sunglasses (57)  (Blue)',\n",
       " 'UV Protection Aviator Sunglasses (63)  (Green)',\n",
       " 'UV Protection Wayfarer, Sports, Shield, Rectangular, Retro Square Sunglasses (Free Size)  (For Boys & Girls)',\n",
       " 'UV Protection, Gradient Wayfarer Sunglasses (53)  (Black, Grey)',\n",
       " 'UV Protection Spectacle Sunglasses (Free Size)  (Clear)',\n",
       " 'UV Protection, Mirrored Wayfarer, Retro Square Sunglasses (57)  (Grey, Black)',\n",
       " 'Gradient Aviator Sunglasses (58)  (Grey)',\n",
       " 'Gradient, UV Protection Aviator Sunglasses (58)  (Brown)',\n",
       " 'UV Protection Round Sunglasses (58)  (Clear)',\n",
       " 'UV Protection Aviator Sunglasses (Free Size)  (Blue)']"
      ]
     },
     "execution_count": 161,
     "metadata": {},
     "output_type": "execute_result"
    }
   ],
   "source": [
    "Product_Description"
   ]
  },
  {
   "cell_type": "code",
   "execution_count": 162,
   "metadata": {},
   "outputs": [
    {
     "data": {
      "text/plain": [
       "['₹255',\n",
       " '₹599',\n",
       " '₹758',\n",
       " '₹250',\n",
       " '₹666',\n",
       " '₹349',\n",
       " '₹499',\n",
       " '₹499',\n",
       " '₹733',\n",
       " '₹399',\n",
       " '₹202',\n",
       " '₹674',\n",
       " '₹250',\n",
       " '₹449',\n",
       " '₹246',\n",
       " '₹195',\n",
       " '₹404',\n",
       " '₹674',\n",
       " '₹329',\n",
       " '₹664',\n",
       " '₹250',\n",
       " '₹759',\n",
       " '₹251',\n",
       " '₹449',\n",
       " '₹1,091',\n",
       " '₹837',\n",
       " '₹627',\n",
       " '₹379',\n",
       " '₹647',\n",
       " '₹426',\n",
       " '₹189',\n",
       " '₹674',\n",
       " '₹349',\n",
       " '₹565',\n",
       " '₹202',\n",
       " '₹499',\n",
       " '₹770',\n",
       " '₹195',\n",
       " '₹1,115',\n",
       " '₹255',\n",
       " '₹843',\n",
       " '₹449',\n",
       " '₹759',\n",
       " '₹296',\n",
       " '₹299',\n",
       " '₹200',\n",
       " '₹398',\n",
       " '₹215',\n",
       " '₹759',\n",
       " '₹399',\n",
       " '₹189',\n",
       " '₹250',\n",
       " '₹345',\n",
       " '₹401',\n",
       " '₹679',\n",
       " '₹249',\n",
       " '₹198',\n",
       " '₹1,085',\n",
       " '₹449',\n",
       " '₹399',\n",
       " '₹945',\n",
       " '₹759',\n",
       " '₹751',\n",
       " '₹499',\n",
       " '₹865',\n",
       " '₹209',\n",
       " '₹399',\n",
       " '₹389',\n",
       " '₹1,097',\n",
       " '₹299',\n",
       " '₹559',\n",
       " '₹648',\n",
       " '₹284',\n",
       " '₹934',\n",
       " '₹399',\n",
       " '₹628',\n",
       " '₹763',\n",
       " '₹255',\n",
       " '₹179',\n",
       " '₹296',\n",
       " '₹427',\n",
       " '₹8,001',\n",
       " '₹7,620',\n",
       " '₹249',\n",
       " '₹179',\n",
       " '₹734',\n",
       " '₹850',\n",
       " '₹661',\n",
       " '₹179',\n",
       " '₹265',\n",
       " '₹1,499',\n",
       " '₹4,594',\n",
       " '₹199',\n",
       " '₹255',\n",
       " '₹199',\n",
       " '₹317',\n",
       " '₹1,182',\n",
       " '₹6,792',\n",
       " '₹165',\n",
       " '₹198']"
      ]
     },
     "execution_count": 162,
     "metadata": {},
     "output_type": "execute_result"
    }
   ],
   "source": [
    "Price"
   ]
  },
  {
   "cell_type": "code",
   "execution_count": 163,
   "metadata": {},
   "outputs": [
    {
     "data": {
      "text/plain": [
       "['78% off',\n",
       " '70% off',\n",
       " '15% off',\n",
       " '84% off',\n",
       " '16% off',\n",
       " '78% off',\n",
       " '50% off',\n",
       " '77% off',\n",
       " '18% off',\n",
       " '80% off',\n",
       " '71% off',\n",
       " '15% off',\n",
       " '84% off',\n",
       " '87% off',\n",
       " '83% off',\n",
       " '80% off',\n",
       " '79% off',\n",
       " '15% off',\n",
       " '72% off',\n",
       " '66% off',\n",
       " '84% off',\n",
       " '15% off',\n",
       " '79% off',\n",
       " '77% off',\n",
       " '16% off',\n",
       " '6% off',\n",
       " '21% off',\n",
       " '74% off',\n",
       " '28% off',\n",
       " '88% off',\n",
       " '76% off',\n",
       " '25% off',\n",
       " '82% off',\n",
       " '68% off',\n",
       " '83% off',\n",
       " '77% off',\n",
       " '14% off',\n",
       " '75% off',\n",
       " '14% off',\n",
       " '78% off',\n",
       " '15% off',\n",
       " '77% off',\n",
       " '15% off',\n",
       " '80% off',\n",
       " '75% off',\n",
       " '59% off',\n",
       " '73% off',\n",
       " '72% off',\n",
       " '15% off',\n",
       " '72% off',\n",
       " '62% off',\n",
       " '84% off',\n",
       " '82% off',\n",
       " '75% off',\n",
       " '15% off',\n",
       " '83% off',\n",
       " '79% off',\n",
       " '16% off',\n",
       " '79% off',\n",
       " '80% off',\n",
       " '74% off',\n",
       " '15% off',\n",
       " '6% off',\n",
       " '66% off',\n",
       " '3% off',\n",
       " '88% off',\n",
       " '73% off',\n",
       " '80% off',\n",
       " '15% off',\n",
       " '75% off',\n",
       " '30% off',\n",
       " '69% off',\n",
       " '85% off',\n",
       " '61% off',\n",
       " '80% off',\n",
       " '74% off',\n",
       " '15% off',\n",
       " '78% off',\n",
       " '86% off',\n",
       " '80% off',\n",
       " '80% off',\n",
       " '16% off',\n",
       " '14% off',\n",
       " '75% off',\n",
       " '83% off',\n",
       " '77% off',\n",
       " '14% off',\n",
       " '52% off',\n",
       " '88% off',\n",
       " '77% off',\n",
       " '61% off',\n",
       " '17% off',\n",
       " '86% off',\n",
       " '87% off',\n",
       " '84% off',\n",
       " '74% off',\n",
       " '58% off',\n",
       " '9% off',\n",
       " '79% off',\n",
       " '88% off']"
      ]
     },
     "execution_count": 163,
     "metadata": {},
     "output_type": "execute_result"
    }
   ],
   "source": [
    "Discount"
   ]
  },
  {
   "cell_type": "code",
   "execution_count": 164,
   "metadata": {},
   "outputs": [
    {
     "name": "stdout",
     "output_type": "stream",
     "text": [
      "100 100 100 100\n"
     ]
    }
   ],
   "source": [
    "#printing length\n",
    "print(len(Brand),len(Product_Description),len(Price),len(Discount))"
   ]
  },
  {
   "cell_type": "code",
   "execution_count": 165,
   "metadata": {},
   "outputs": [],
   "source": [
    "#creating a dataframe\n",
    "\n",
    "Sunglasses=pd.DataFrame({})\n",
    "Sunglasses['Brand']=Brand\n",
    "Sunglasses['Product_Description']=Product_Description\n",
    "Sunglasses['Price']=Price\n",
    "Sunglasses['Discount']=Discount"
   ]
  },
  {
   "cell_type": "code",
   "execution_count": 166,
   "metadata": {},
   "outputs": [
    {
     "data": {
      "text/html": [
       "<div>\n",
       "<style scoped>\n",
       "    .dataframe tbody tr th:only-of-type {\n",
       "        vertical-align: middle;\n",
       "    }\n",
       "\n",
       "    .dataframe tbody tr th {\n",
       "        vertical-align: top;\n",
       "    }\n",
       "\n",
       "    .dataframe thead th {\n",
       "        text-align: right;\n",
       "    }\n",
       "</style>\n",
       "<table border=\"1\" class=\"dataframe\">\n",
       "  <thead>\n",
       "    <tr style=\"text-align: right;\">\n",
       "      <th></th>\n",
       "      <th>Brand</th>\n",
       "      <th>Product_Description</th>\n",
       "      <th>Price</th>\n",
       "      <th>Discount</th>\n",
       "    </tr>\n",
       "  </thead>\n",
       "  <tbody>\n",
       "    <tr>\n",
       "      <th>0</th>\n",
       "      <td>Silver Kartz</td>\n",
       "      <td>UV Protection Aviator Sunglasses (88)  (Black,...</td>\n",
       "      <td>₹255</td>\n",
       "      <td>78% off</td>\n",
       "    </tr>\n",
       "    <tr>\n",
       "      <th>1</th>\n",
       "      <td>ROYAL SON</td>\n",
       "      <td>UV Protection Retro Square Sunglasses (88)  (B...</td>\n",
       "      <td>₹599</td>\n",
       "      <td>70% off</td>\n",
       "    </tr>\n",
       "    <tr>\n",
       "      <th>2</th>\n",
       "      <td>Fastrack</td>\n",
       "      <td>UV Protection Wayfarer Sunglasses (Free Size) ...</td>\n",
       "      <td>₹758</td>\n",
       "      <td>15% off</td>\n",
       "    </tr>\n",
       "    <tr>\n",
       "      <th>3</th>\n",
       "      <td>PIRASO</td>\n",
       "      <td>UV Protection Aviator Sunglasses (54)  (Black)</td>\n",
       "      <td>₹250</td>\n",
       "      <td>84% off</td>\n",
       "    </tr>\n",
       "    <tr>\n",
       "      <th>4</th>\n",
       "      <td>Fastrack</td>\n",
       "      <td>UV Protection Rectangular Sunglasses (Free Siz...</td>\n",
       "      <td>₹666</td>\n",
       "      <td>16% off</td>\n",
       "    </tr>\n",
       "    <tr>\n",
       "      <th>...</th>\n",
       "      <td>...</td>\n",
       "      <td>...</td>\n",
       "      <td>...</td>\n",
       "      <td>...</td>\n",
       "    </tr>\n",
       "    <tr>\n",
       "      <th>95</th>\n",
       "      <td>NuVew</td>\n",
       "      <td>UV Protection, Mirrored Wayfarer, Retro Square...</td>\n",
       "      <td>₹317</td>\n",
       "      <td>74% off</td>\n",
       "    </tr>\n",
       "    <tr>\n",
       "      <th>96</th>\n",
       "      <td>IDEE</td>\n",
       "      <td>Gradient Aviator Sunglasses (58)  (Grey)</td>\n",
       "      <td>₹1,182</td>\n",
       "      <td>58% off</td>\n",
       "    </tr>\n",
       "    <tr>\n",
       "      <th>97</th>\n",
       "      <td>Ray-Ban</td>\n",
       "      <td>Gradient, UV Protection Aviator Sunglasses (58...</td>\n",
       "      <td>₹6,792</td>\n",
       "      <td>9% off</td>\n",
       "    </tr>\n",
       "    <tr>\n",
       "      <th>98</th>\n",
       "      <td>Scaglia</td>\n",
       "      <td>UV Protection Round Sunglasses (58)  (Clear)</td>\n",
       "      <td>₹165</td>\n",
       "      <td>79% off</td>\n",
       "    </tr>\n",
       "    <tr>\n",
       "      <th>99</th>\n",
       "      <td>Silver Kartz</td>\n",
       "      <td>UV Protection Aviator Sunglasses (Free Size)  ...</td>\n",
       "      <td>₹198</td>\n",
       "      <td>88% off</td>\n",
       "    </tr>\n",
       "  </tbody>\n",
       "</table>\n",
       "<p>100 rows × 4 columns</p>\n",
       "</div>"
      ],
      "text/plain": [
       "            Brand                                Product_Description   Price  \\\n",
       "0   Silver Kartz   UV Protection Aviator Sunglasses (88)  (Black,...    ₹255   \n",
       "1      ROYAL SON   UV Protection Retro Square Sunglasses (88)  (B...    ₹599   \n",
       "2       Fastrack   UV Protection Wayfarer Sunglasses (Free Size) ...    ₹758   \n",
       "3         PIRASO      UV Protection Aviator Sunglasses (54)  (Black)    ₹250   \n",
       "4       Fastrack   UV Protection Rectangular Sunglasses (Free Siz...    ₹666   \n",
       "..            ...                                                ...     ...   \n",
       "95         NuVew   UV Protection, Mirrored Wayfarer, Retro Square...    ₹317   \n",
       "96          IDEE            Gradient Aviator Sunglasses (58)  (Grey)  ₹1,182   \n",
       "97       Ray-Ban   Gradient, UV Protection Aviator Sunglasses (58...  ₹6,792   \n",
       "98       Scaglia        UV Protection Round Sunglasses (58)  (Clear)    ₹165   \n",
       "99  Silver Kartz   UV Protection Aviator Sunglasses (Free Size)  ...    ₹198   \n",
       "\n",
       "   Discount  \n",
       "0   78% off  \n",
       "1   70% off  \n",
       "2   15% off  \n",
       "3   84% off  \n",
       "4   16% off  \n",
       "..      ...  \n",
       "95  74% off  \n",
       "96  58% off  \n",
       "97   9% off  \n",
       "98  79% off  \n",
       "99  88% off  \n",
       "\n",
       "[100 rows x 4 columns]"
      ]
     },
     "execution_count": 166,
     "metadata": {},
     "output_type": "execute_result"
    }
   ],
   "source": [
    "Sunglasses"
   ]
  },
  {
   "cell_type": "code",
   "execution_count": 167,
   "metadata": {},
   "outputs": [],
   "source": [
    "#Closing the driver\n",
    "driver.close()"
   ]
  },
  {
   "cell_type": "markdown",
   "metadata": {},
   "source": [
    "## Q7: Scrape 100 reviews data from flipkart.com for iphone11 phone"
   ]
  },
  {
   "cell_type": "code",
   "execution_count": 261,
   "metadata": {},
   "outputs": [],
   "source": [
    "# Importing Libraries\n",
    "import pandas as pd\n",
    "from bs4 import BeautifulSoup\n",
    "import requests \n",
    "import selenium\n",
    "from selenium import webdriver\n",
    "import time\n",
    "from selenium.common.exceptions import StaleElementReferenceException, NoSuchElementException,ElementNotInteractableException,InvalidArgumentException,InvalidCookieDomainException"
   ]
  },
  {
   "cell_type": "code",
   "execution_count": 263,
   "metadata": {},
   "outputs": [],
   "source": [
    "#first connecting to the webdriver\n",
    "driver = webdriver.Chrome(\"C://chromedriver.exe\")\n",
    "url=('https://www.flipkart.com/apple-iphone-11-black-64-gb-includesearpods-poweradapter/p/itm0f37c2240b217?pid=MOBFKCTSVZAXUHGR&lid=LSTMOBFKCTSVZAXUHGREPBFGI&marketplace')\n",
    "driver.get(url)"
   ]
  },
  {
   "cell_type": "code",
   "execution_count": 264,
   "metadata": {},
   "outputs": [],
   "source": [
    "#creating empty lists\n",
    "Rating=[]\n",
    "Review_Summary=[]\n",
    "Full_Review=[]"
   ]
  },
  {
   "cell_type": "code",
   "execution_count": 265,
   "metadata": {},
   "outputs": [],
   "source": [
    "#navigating to the ratings and review page\n",
    "btn=driver.find_element_by_xpath(\"//div[@class='_3UAT2v _16PBlm']/span\")\n",
    "btn.click()"
   ]
  },
  {
   "cell_type": "code",
   "execution_count": 266,
   "metadata": {},
   "outputs": [],
   "source": [
    "#extracting the ratings of the product\n",
    "rating=driver.find_elements_by_xpath(\"//div[@class='_3LWZlK _1BLPMq']\")\n",
    "#extracting text from these tags\n",
    "for i in rating:\n",
    "    Rating.append(i.text)\n",
    "    \n",
    "#extracting review summary of the product\n",
    "rev_summ=driver.find_elements_by_xpath(\"//p[@class='_2-N8zT']\")\n",
    "#extracting text from these tags\n",
    "for i in rev_summ:\n",
    "    Review_Summary.append(i.text)\n",
    "    \n",
    "#extracting full review of the  product\n",
    "full_rev=driver.find_elements_by_xpath(\"//div[@class='t-ZTKy']/div/div\")\n",
    "#exracting text from these tags\n",
    "for i in full_rev:\n",
    "    Full_Review.append(i.text)\n",
    "    \n",
    "#navigating to next page\n",
    "next_page=driver.find_element_by_xpath(\"//nav[@class='yFHi8N']/a[11]\")\n",
    "next_page.click()"
   ]
  },
  {
   "cell_type": "code",
   "execution_count": null,
   "metadata": {},
   "outputs": [],
   "source": [
    "#extracting the ratings of the product\n",
    "rating=driver.find_elements_by_xpath(\"//div[@class='row']/div[@class='_3LWZlK _1BLPMq']\")\n",
    "#extracting text from these tags\n",
    "for i in rating:\n",
    "    Rating.append(i.text)\n",
    "\n",
    "#extracting review summary of the product\n",
    "rev_summ=driver.find_elements_by_xpath(\"//p[@class='_2-N8zT']\")\n",
    "#extracting text from these tags\n",
    "for i in rev_summ:\n",
    "    Review_Summary.append(i.text)\n",
    "\n",
    "#extracting full review of the  product\n",
    "full_rev=driver.find_elements_by_xpath(\"//div[@class='t-ZTKy']/div/div\")\n",
    "#exracting text from these tags\n",
    "for i in full_rev:\n",
    "    Full_Review.append(i.text)\n",
    "\n",
    "#navigating to next page\n",
    "next_page=driver.find_element_by_xpath(\"//nav[@class='yFHi8N']/a[12]\")\n",
    "next_page.click()"
   ]
  },
  {
   "cell_type": "code",
   "execution_count": null,
   "metadata": {},
   "outputs": [],
   "source": [
    "#extracting the ratings of the product\n",
    "rating=driver.find_elements_by_xpath(\"//div[@class='_3LWZlK _1BLPMq' or @class='_3LWZlK _1rdVr6 _1BLPMq']\")\n",
    "#extracting text from these tags\n",
    "for i in rating:\n",
    "    Rating.append(i.text)\n",
    "\n",
    "#extracting review summary of the product\n",
    "rev_summ=driver.find_elements_by_xpath(\"//p[@class='_2-N8zT']\")\n",
    "#extracting text from these tags\n",
    "for i in rev_summ:\n",
    "    Review_Summary.append(i.text)\n",
    "\n",
    "#extracting full review of the  product\n",
    "full_rev=driver.find_elements_by_xpath(\"//div[@class='t-ZTKy']/div/div\")\n",
    "#exracting text from these tags\n",
    "for i in full_rev:\n",
    "    Full_Review.append(i.text)\n",
    "\n",
    "#navigating to next page\n",
    "next_page=driver.find_element_by_xpath(\"//nav[@class='yFHi8N']/a[12]\")\n",
    "next_page.click()"
   ]
  },
  {
   "cell_type": "code",
   "execution_count": null,
   "metadata": {},
   "outputs": [],
   "source": [
    "#extracting the ratings of the product\n",
    "rating=driver.find_elements_by_xpath(\"//div[@class='_3LWZlK _1BLPMq']\")\n",
    "#extracting text from these tags\n",
    "for i in rating:\n",
    "    Rating.append(i.text)\n",
    "\n",
    "#extracting review summary of the product\n",
    "rev_summ=driver.find_elements_by_xpath(\"//p[@class='_2-N8zT']\")\n",
    "#extracting text from these tags\n",
    "for i in rev_summ:\n",
    "    Review_Summary.append(i.text)\n",
    "\n",
    "#extracting full review of the  product\n",
    "full_rev=driver.find_elements_by_xpath(\"//div[@class='t-ZTKy']/div/div\")\n",
    "#exracting text from these tags\n",
    "for i in full_rev:\n",
    "    Full_Review.append(i.text)\n",
    "\n",
    "#navigating to next page\n",
    "next_page=driver.find_element_by_xpath(\"//nav[@class='yFHi8N']/a[12]\")\n",
    "next_page.click()"
   ]
  },
  {
   "cell_type": "code",
   "execution_count": null,
   "metadata": {},
   "outputs": [],
   "source": [
    "#extracting the ratings of the product\n",
    "rating=driver.find_elements_by_xpath(\"//div[@class='_3LWZlK _1BLPMq']\")\n",
    "#extracting text from these tags\n",
    "for i in rating:\n",
    "    Rating.append(i.text)\n",
    "\n",
    "#extracting review summary of the product\n",
    "rev_summ=driver.find_elements_by_xpath(\"//p[@class='_2-N8zT']\")\n",
    "#extracting text from these tags\n",
    "for i in rev_summ:\n",
    "    Review_Summary.append(i.text)\n",
    "\n",
    "#extracting full review of the  product\n",
    "full_rev=driver.find_elements_by_xpath(\"//div[@class='t-ZTKy']/div/div\")\n",
    "#exracting text from these tags\n",
    "for i in full_rev:\n",
    "    Full_Review.append(i.text)\n",
    "\n",
    "#navigating to next page\n",
    "next_page=driver.find_element_by_xpath(\"//nav[@class='yFHi8N']/a[12]\")\n",
    "next_page.click()"
   ]
  },
  {
   "cell_type": "code",
   "execution_count": null,
   "metadata": {},
   "outputs": [],
   "source": [
    "#extracting the ratings of the product\n",
    "rating=driver.find_elements_by_xpath(\"//div[@class='_3LWZlK _1BLPMq']\")\n",
    "#extracting text from these tags\n",
    "for i in rating:\n",
    "    Rating.append(i.text)\n",
    "\n",
    "#extracting review summary of the product\n",
    "rev_summ=driver.find_elements_by_xpath(\"//p[@class='_2-N8zT']\")\n",
    "#extracting text from these tags\n",
    "for i in rev_summ:\n",
    "    Review_Summary.append(i.text)\n",
    "\n",
    "#extracting full review of the  product\n",
    "full_rev=driver.find_elements_by_xpath(\"//div[@class='t-ZTKy']/div/div\")\n",
    "#exracting text from these tags\n",
    "for i in full_rev:\n",
    "    Full_Review.append(i.text)\n",
    "\n",
    "#navigating to next page\n",
    "next_page=driver.find_element_by_xpath(\"//nav[@class='yFHi8N']/a[12]\")\n",
    "next_page.click()"
   ]
  },
  {
   "cell_type": "code",
   "execution_count": null,
   "metadata": {},
   "outputs": [],
   "source": [
    "#extracting the ratings of the product\n",
    "rating=driver.find_elements_by_xpath(\"//div[@class='_3LWZlK _1BLPMq']\")\n",
    "#extracting text from these tags\n",
    "for i in rating:\n",
    "    Rating.append(i.text)\n",
    "\n",
    "#extracting review summary of the product\n",
    "rev_summ=driver.find_elements_by_xpath(\"//p[@class='_2-N8zT']\")\n",
    "#extracting text from these tags\n",
    "for i in rev_summ:\n",
    "    Review_Summary.append(i.text)\n",
    "\n",
    "#extracting full review of the  product\n",
    "full_rev=driver.find_elements_by_xpath(\"//div[@class='t-ZTKy']/div/div\")\n",
    "#exracting text from these tags\n",
    "for i in full_rev:\n",
    "    Full_Review.append(i.text)\n",
    "\n",
    "#navigating to next page\n",
    "next_page=driver.find_element_by_xpath(\"//nav[@class='yFHi8N']/a[12]\")\n",
    "next_page.click()"
   ]
  },
  {
   "cell_type": "code",
   "execution_count": null,
   "metadata": {},
   "outputs": [],
   "source": [
    "#extracting the ratings of the product\n",
    "rating=driver.find_elements_by_xpath(\"//div[@class='_3LWZlK _1BLPMq']\")\n",
    "#extracting text from these tags\n",
    "for i in rating:\n",
    "    Rating.append(i.text)\n",
    "\n",
    "#extracting review summary of the product\n",
    "rev_summ=driver.find_elements_by_xpath(\"//p[@class='_2-N8zT']\")\n",
    "#extracting text from these tags\n",
    "for i in rev_summ:\n",
    "    Review_Summary.append(i.text)\n",
    "\n",
    "#extracting full review of the  product\n",
    "full_rev=driver.find_elements_by_xpath(\"//div[@class='t-ZTKy']/div/div\")\n",
    "#exracting text from these tags\n",
    "for i in full_rev:\n",
    "    Full_Review.append(i.text)\n",
    "\n",
    "#navigating to next page\n",
    "next_page=driver.find_element_by_xpath(\"//nav[@class='yFHi8N']/a[12]\")\n",
    "next_page.click()"
   ]
  },
  {
   "cell_type": "code",
   "execution_count": null,
   "metadata": {},
   "outputs": [],
   "source": [
    "#extracting the ratings of the product\n",
    "rating=driver.find_elements_by_xpath(\"//div[@class='_3LWZlK _1BLPMq']\")\n",
    "#extracting text from these tags\n",
    "for i in rating:\n",
    "    Rating.append(i.text)\n",
    "\n",
    "#extracting review summary of the product\n",
    "rev_summ=driver.find_elements_by_xpath(\"//p[@class='_2-N8zT']\")\n",
    "#extracting text from these tags\n",
    "for i in rev_summ:\n",
    "    Review_Summary.append(i.text)\n",
    "\n",
    "#extracting full review of the  product\n",
    "full_rev=driver.find_elements_by_xpath(\"//div[@class='t-ZTKy']/div/div\")\n",
    "#exracting text from these tags\n",
    "for i in full_rev:\n",
    "    Full_Review.append(i.text)\n",
    "\n",
    "#navigating to next page\n",
    "next_page=driver.find_element_by_xpath(\"//nav[@class='yFHi8N']/a[12]\")\n",
    "next_page.click()"
   ]
  },
  {
   "cell_type": "code",
   "execution_count": null,
   "metadata": {},
   "outputs": [],
   "source": [
    "#extracting the ratings of the product\n",
    "rating=driver.find_elements_by_xpath(\"//div[@class='_3LWZlK _1BLPMq']\")\n",
    "#extracting text from these tags\n",
    "for i in rating:\n",
    "    Rating.append(i.text)\n",
    "\n",
    "#extracting review summary of the product\n",
    "rev_summ=driver.find_elements_by_xpath(\"//p[@class='_2-N8zT']\")\n",
    "#extracting text from these tags\n",
    "for i in rev_summ:\n",
    "    Review_Summary.append(i.text)\n",
    "\n",
    "#extracting full review of the  product\n",
    "full_rev=driver.find_elements_by_xpath(\"//div[@class='t-ZTKy']/div/div\")\n",
    "#exracting text from these tags\n",
    "for i in full_rev:\n",
    "    Full_Review.append(i.text)\n",
    "\n",
    "#navigating to next page\n",
    "next_page=driver.find_element_by_xpath(\"//nav[@class='yFHi8N']/a[12]\")\n",
    "next_page.click()"
   ]
  },
  {
   "cell_type": "code",
   "execution_count": 271,
   "metadata": {},
   "outputs": [
    {
     "name": "stdout",
     "output_type": "stream",
     "text": [
      "50 50 50\n"
     ]
    }
   ],
   "source": [
    "print(len(Rating),len(Review_Summary),len(Full_Review))"
   ]
  },
  {
   "cell_type": "code",
   "execution_count": 272,
   "metadata": {},
   "outputs": [
    {
     "data": {
      "text/html": [
       "<div>\n",
       "<style scoped>\n",
       "    .dataframe tbody tr th:only-of-type {\n",
       "        vertical-align: middle;\n",
       "    }\n",
       "\n",
       "    .dataframe tbody tr th {\n",
       "        vertical-align: top;\n",
       "    }\n",
       "\n",
       "    .dataframe thead th {\n",
       "        text-align: right;\n",
       "    }\n",
       "</style>\n",
       "<table border=\"1\" class=\"dataframe\">\n",
       "  <thead>\n",
       "    <tr style=\"text-align: right;\">\n",
       "      <th></th>\n",
       "      <th>Rating</th>\n",
       "      <th>Review_Summary</th>\n",
       "      <th>Full_Review</th>\n",
       "    </tr>\n",
       "  </thead>\n",
       "  <tbody>\n",
       "    <tr>\n",
       "      <th>0</th>\n",
       "      <td>5</td>\n",
       "      <td>Brilliant</td>\n",
       "      <td>The Best Phone for the Money\\n\\nThe iPhone 11 ...</td>\n",
       "    </tr>\n",
       "    <tr>\n",
       "      <th>1</th>\n",
       "      <td>5</td>\n",
       "      <td>Perfect product!</td>\n",
       "      <td>Amazing phone with great cameras and better ba...</td>\n",
       "    </tr>\n",
       "    <tr>\n",
       "      <th>2</th>\n",
       "      <td>5</td>\n",
       "      <td>Worth every penny</td>\n",
       "      <td>Previously I was using one plus 3t it was a gr...</td>\n",
       "    </tr>\n",
       "    <tr>\n",
       "      <th>3</th>\n",
       "      <td>5</td>\n",
       "      <td>Great product</td>\n",
       "      <td>Amazing Powerful and Durable Gadget.\\n\\nI’m am...</td>\n",
       "    </tr>\n",
       "    <tr>\n",
       "      <th>4</th>\n",
       "      <td>5</td>\n",
       "      <td>Highly recommended</td>\n",
       "      <td>iphone 11 is a very good phone to buy only if ...</td>\n",
       "    </tr>\n",
       "    <tr>\n",
       "      <th>5</th>\n",
       "      <td>5</td>\n",
       "      <td>Perfect product!</td>\n",
       "      <td>It’s a must buy who is looking for an upgrade ...</td>\n",
       "    </tr>\n",
       "    <tr>\n",
       "      <th>6</th>\n",
       "      <td>5</td>\n",
       "      <td>Perfect product!</td>\n",
       "      <td>Value for money❤️❤️\\nIts awesome mobile phone ...</td>\n",
       "    </tr>\n",
       "    <tr>\n",
       "      <th>7</th>\n",
       "      <td>5</td>\n",
       "      <td>Fabulous!</td>\n",
       "      <td>This is my first iOS phone. I am very happy wi...</td>\n",
       "    </tr>\n",
       "    <tr>\n",
       "      <th>8</th>\n",
       "      <td>5</td>\n",
       "      <td>Wonderful</td>\n",
       "      <td>*Review after 10 months of usage*\\nDoesn't see...</td>\n",
       "    </tr>\n",
       "    <tr>\n",
       "      <th>9</th>\n",
       "      <td>5</td>\n",
       "      <td>Worth every penny</td>\n",
       "      <td>Best budget Iphone till date ❤️ go for it guys...</td>\n",
       "    </tr>\n",
       "    <tr>\n",
       "      <th>10</th>\n",
       "      <td>5</td>\n",
       "      <td>Brilliant</td>\n",
       "      <td>The Best Phone for the Money\\n\\nThe iPhone 11 ...</td>\n",
       "    </tr>\n",
       "    <tr>\n",
       "      <th>11</th>\n",
       "      <td>5</td>\n",
       "      <td>Perfect product!</td>\n",
       "      <td>Amazing phone with great cameras and better ba...</td>\n",
       "    </tr>\n",
       "    <tr>\n",
       "      <th>12</th>\n",
       "      <td>5</td>\n",
       "      <td>Worth every penny</td>\n",
       "      <td>Previously I was using one plus 3t it was a gr...</td>\n",
       "    </tr>\n",
       "    <tr>\n",
       "      <th>13</th>\n",
       "      <td>5</td>\n",
       "      <td>Great product</td>\n",
       "      <td>Amazing Powerful and Durable Gadget.\\n\\nI’m am...</td>\n",
       "    </tr>\n",
       "    <tr>\n",
       "      <th>14</th>\n",
       "      <td>5</td>\n",
       "      <td>Highly recommended</td>\n",
       "      <td>iphone 11 is a very good phone to buy only if ...</td>\n",
       "    </tr>\n",
       "    <tr>\n",
       "      <th>15</th>\n",
       "      <td>5</td>\n",
       "      <td>Perfect product!</td>\n",
       "      <td>It’s a must buy who is looking for an upgrade ...</td>\n",
       "    </tr>\n",
       "    <tr>\n",
       "      <th>16</th>\n",
       "      <td>5</td>\n",
       "      <td>Perfect product!</td>\n",
       "      <td>Value for money❤️❤️\\nIts awesome mobile phone ...</td>\n",
       "    </tr>\n",
       "    <tr>\n",
       "      <th>17</th>\n",
       "      <td>5</td>\n",
       "      <td>Fabulous!</td>\n",
       "      <td>This is my first iOS phone. I am very happy wi...</td>\n",
       "    </tr>\n",
       "    <tr>\n",
       "      <th>18</th>\n",
       "      <td>5</td>\n",
       "      <td>Wonderful</td>\n",
       "      <td>*Review after 10 months of usage*\\nDoesn't see...</td>\n",
       "    </tr>\n",
       "    <tr>\n",
       "      <th>19</th>\n",
       "      <td>5</td>\n",
       "      <td>Worth every penny</td>\n",
       "      <td>Best budget Iphone till date ❤️ go for it guys...</td>\n",
       "    </tr>\n",
       "    <tr>\n",
       "      <th>20</th>\n",
       "      <td>5</td>\n",
       "      <td>Brilliant</td>\n",
       "      <td>The Best Phone for the Money\\n\\nThe iPhone 11 ...</td>\n",
       "    </tr>\n",
       "    <tr>\n",
       "      <th>21</th>\n",
       "      <td>5</td>\n",
       "      <td>Perfect product!</td>\n",
       "      <td>Amazing phone with great cameras and better ba...</td>\n",
       "    </tr>\n",
       "    <tr>\n",
       "      <th>22</th>\n",
       "      <td>5</td>\n",
       "      <td>Worth every penny</td>\n",
       "      <td>Previously I was using one plus 3t it was a gr...</td>\n",
       "    </tr>\n",
       "    <tr>\n",
       "      <th>23</th>\n",
       "      <td>5</td>\n",
       "      <td>Great product</td>\n",
       "      <td>Amazing Powerful and Durable Gadget.\\n\\nI’m am...</td>\n",
       "    </tr>\n",
       "    <tr>\n",
       "      <th>24</th>\n",
       "      <td>5</td>\n",
       "      <td>Highly recommended</td>\n",
       "      <td>iphone 11 is a very good phone to buy only if ...</td>\n",
       "    </tr>\n",
       "    <tr>\n",
       "      <th>25</th>\n",
       "      <td>5</td>\n",
       "      <td>Perfect product!</td>\n",
       "      <td>It’s a must buy who is looking for an upgrade ...</td>\n",
       "    </tr>\n",
       "    <tr>\n",
       "      <th>26</th>\n",
       "      <td>5</td>\n",
       "      <td>Perfect product!</td>\n",
       "      <td>Value for money❤️❤️\\nIts awesome mobile phone ...</td>\n",
       "    </tr>\n",
       "    <tr>\n",
       "      <th>27</th>\n",
       "      <td>5</td>\n",
       "      <td>Fabulous!</td>\n",
       "      <td>This is my first iOS phone. I am very happy wi...</td>\n",
       "    </tr>\n",
       "    <tr>\n",
       "      <th>28</th>\n",
       "      <td>5</td>\n",
       "      <td>Wonderful</td>\n",
       "      <td>*Review after 10 months of usage*\\nDoesn't see...</td>\n",
       "    </tr>\n",
       "    <tr>\n",
       "      <th>29</th>\n",
       "      <td>5</td>\n",
       "      <td>Worth every penny</td>\n",
       "      <td>Best budget Iphone till date ❤️ go for it guys...</td>\n",
       "    </tr>\n",
       "    <tr>\n",
       "      <th>30</th>\n",
       "      <td>5</td>\n",
       "      <td>Brilliant</td>\n",
       "      <td>The Best Phone for the Money\\n\\nThe iPhone 11 ...</td>\n",
       "    </tr>\n",
       "    <tr>\n",
       "      <th>31</th>\n",
       "      <td>5</td>\n",
       "      <td>Perfect product!</td>\n",
       "      <td>Amazing phone with great cameras and better ba...</td>\n",
       "    </tr>\n",
       "    <tr>\n",
       "      <th>32</th>\n",
       "      <td>5</td>\n",
       "      <td>Worth every penny</td>\n",
       "      <td>Previously I was using one plus 3t it was a gr...</td>\n",
       "    </tr>\n",
       "    <tr>\n",
       "      <th>33</th>\n",
       "      <td>5</td>\n",
       "      <td>Great product</td>\n",
       "      <td>Amazing Powerful and Durable Gadget.\\n\\nI’m am...</td>\n",
       "    </tr>\n",
       "    <tr>\n",
       "      <th>34</th>\n",
       "      <td>5</td>\n",
       "      <td>Highly recommended</td>\n",
       "      <td>iphone 11 is a very good phone to buy only if ...</td>\n",
       "    </tr>\n",
       "    <tr>\n",
       "      <th>35</th>\n",
       "      <td>5</td>\n",
       "      <td>Perfect product!</td>\n",
       "      <td>It’s a must buy who is looking for an upgrade ...</td>\n",
       "    </tr>\n",
       "    <tr>\n",
       "      <th>36</th>\n",
       "      <td>5</td>\n",
       "      <td>Perfect product!</td>\n",
       "      <td>Value for money❤️❤️\\nIts awesome mobile phone ...</td>\n",
       "    </tr>\n",
       "    <tr>\n",
       "      <th>37</th>\n",
       "      <td>5</td>\n",
       "      <td>Fabulous!</td>\n",
       "      <td>This is my first iOS phone. I am very happy wi...</td>\n",
       "    </tr>\n",
       "    <tr>\n",
       "      <th>38</th>\n",
       "      <td>5</td>\n",
       "      <td>Wonderful</td>\n",
       "      <td>*Review after 10 months of usage*\\nDoesn't see...</td>\n",
       "    </tr>\n",
       "    <tr>\n",
       "      <th>39</th>\n",
       "      <td>5</td>\n",
       "      <td>Worth every penny</td>\n",
       "      <td>Best budget Iphone till date ❤️ go for it guys...</td>\n",
       "    </tr>\n",
       "    <tr>\n",
       "      <th>40</th>\n",
       "      <td>5</td>\n",
       "      <td>Brilliant</td>\n",
       "      <td>The Best Phone for the Money\\n\\nThe iPhone 11 ...</td>\n",
       "    </tr>\n",
       "    <tr>\n",
       "      <th>41</th>\n",
       "      <td>5</td>\n",
       "      <td>Perfect product!</td>\n",
       "      <td>Amazing phone with great cameras and better ba...</td>\n",
       "    </tr>\n",
       "    <tr>\n",
       "      <th>42</th>\n",
       "      <td>5</td>\n",
       "      <td>Worth every penny</td>\n",
       "      <td>Previously I was using one plus 3t it was a gr...</td>\n",
       "    </tr>\n",
       "    <tr>\n",
       "      <th>43</th>\n",
       "      <td>5</td>\n",
       "      <td>Great product</td>\n",
       "      <td>Amazing Powerful and Durable Gadget.\\n\\nI’m am...</td>\n",
       "    </tr>\n",
       "    <tr>\n",
       "      <th>44</th>\n",
       "      <td>5</td>\n",
       "      <td>Highly recommended</td>\n",
       "      <td>iphone 11 is a very good phone to buy only if ...</td>\n",
       "    </tr>\n",
       "    <tr>\n",
       "      <th>45</th>\n",
       "      <td>5</td>\n",
       "      <td>Perfect product!</td>\n",
       "      <td>It’s a must buy who is looking for an upgrade ...</td>\n",
       "    </tr>\n",
       "    <tr>\n",
       "      <th>46</th>\n",
       "      <td>5</td>\n",
       "      <td>Perfect product!</td>\n",
       "      <td>Value for money❤️❤️\\nIts awesome mobile phone ...</td>\n",
       "    </tr>\n",
       "    <tr>\n",
       "      <th>47</th>\n",
       "      <td>5</td>\n",
       "      <td>Fabulous!</td>\n",
       "      <td>This is my first iOS phone. I am very happy wi...</td>\n",
       "    </tr>\n",
       "    <tr>\n",
       "      <th>48</th>\n",
       "      <td>5</td>\n",
       "      <td>Wonderful</td>\n",
       "      <td>*Review after 10 months of usage*\\nDoesn't see...</td>\n",
       "    </tr>\n",
       "    <tr>\n",
       "      <th>49</th>\n",
       "      <td>5</td>\n",
       "      <td>Worth every penny</td>\n",
       "      <td>Best budget Iphone till date ❤️ go for it guys...</td>\n",
       "    </tr>\n",
       "  </tbody>\n",
       "</table>\n",
       "</div>"
      ],
      "text/plain": [
       "   Rating      Review_Summary  \\\n",
       "0       5           Brilliant   \n",
       "1       5    Perfect product!   \n",
       "2       5   Worth every penny   \n",
       "3       5       Great product   \n",
       "4       5  Highly recommended   \n",
       "5       5    Perfect product!   \n",
       "6       5    Perfect product!   \n",
       "7       5           Fabulous!   \n",
       "8       5           Wonderful   \n",
       "9       5   Worth every penny   \n",
       "10      5           Brilliant   \n",
       "11      5    Perfect product!   \n",
       "12      5   Worth every penny   \n",
       "13      5       Great product   \n",
       "14      5  Highly recommended   \n",
       "15      5    Perfect product!   \n",
       "16      5    Perfect product!   \n",
       "17      5           Fabulous!   \n",
       "18      5           Wonderful   \n",
       "19      5   Worth every penny   \n",
       "20      5           Brilliant   \n",
       "21      5    Perfect product!   \n",
       "22      5   Worth every penny   \n",
       "23      5       Great product   \n",
       "24      5  Highly recommended   \n",
       "25      5    Perfect product!   \n",
       "26      5    Perfect product!   \n",
       "27      5           Fabulous!   \n",
       "28      5           Wonderful   \n",
       "29      5   Worth every penny   \n",
       "30      5           Brilliant   \n",
       "31      5    Perfect product!   \n",
       "32      5   Worth every penny   \n",
       "33      5       Great product   \n",
       "34      5  Highly recommended   \n",
       "35      5    Perfect product!   \n",
       "36      5    Perfect product!   \n",
       "37      5           Fabulous!   \n",
       "38      5           Wonderful   \n",
       "39      5   Worth every penny   \n",
       "40      5           Brilliant   \n",
       "41      5    Perfect product!   \n",
       "42      5   Worth every penny   \n",
       "43      5       Great product   \n",
       "44      5  Highly recommended   \n",
       "45      5    Perfect product!   \n",
       "46      5    Perfect product!   \n",
       "47      5           Fabulous!   \n",
       "48      5           Wonderful   \n",
       "49      5   Worth every penny   \n",
       "\n",
       "                                          Full_Review  \n",
       "0   The Best Phone for the Money\\n\\nThe iPhone 11 ...  \n",
       "1   Amazing phone with great cameras and better ba...  \n",
       "2   Previously I was using one plus 3t it was a gr...  \n",
       "3   Amazing Powerful and Durable Gadget.\\n\\nI’m am...  \n",
       "4   iphone 11 is a very good phone to buy only if ...  \n",
       "5   It’s a must buy who is looking for an upgrade ...  \n",
       "6   Value for money❤️❤️\\nIts awesome mobile phone ...  \n",
       "7   This is my first iOS phone. I am very happy wi...  \n",
       "8   *Review after 10 months of usage*\\nDoesn't see...  \n",
       "9   Best budget Iphone till date ❤️ go for it guys...  \n",
       "10  The Best Phone for the Money\\n\\nThe iPhone 11 ...  \n",
       "11  Amazing phone with great cameras and better ba...  \n",
       "12  Previously I was using one plus 3t it was a gr...  \n",
       "13  Amazing Powerful and Durable Gadget.\\n\\nI’m am...  \n",
       "14  iphone 11 is a very good phone to buy only if ...  \n",
       "15  It’s a must buy who is looking for an upgrade ...  \n",
       "16  Value for money❤️❤️\\nIts awesome mobile phone ...  \n",
       "17  This is my first iOS phone. I am very happy wi...  \n",
       "18  *Review after 10 months of usage*\\nDoesn't see...  \n",
       "19  Best budget Iphone till date ❤️ go for it guys...  \n",
       "20  The Best Phone for the Money\\n\\nThe iPhone 11 ...  \n",
       "21  Amazing phone with great cameras and better ba...  \n",
       "22  Previously I was using one plus 3t it was a gr...  \n",
       "23  Amazing Powerful and Durable Gadget.\\n\\nI’m am...  \n",
       "24  iphone 11 is a very good phone to buy only if ...  \n",
       "25  It’s a must buy who is looking for an upgrade ...  \n",
       "26  Value for money❤️❤️\\nIts awesome mobile phone ...  \n",
       "27  This is my first iOS phone. I am very happy wi...  \n",
       "28  *Review after 10 months of usage*\\nDoesn't see...  \n",
       "29  Best budget Iphone till date ❤️ go for it guys...  \n",
       "30  The Best Phone for the Money\\n\\nThe iPhone 11 ...  \n",
       "31  Amazing phone with great cameras and better ba...  \n",
       "32  Previously I was using one plus 3t it was a gr...  \n",
       "33  Amazing Powerful and Durable Gadget.\\n\\nI’m am...  \n",
       "34  iphone 11 is a very good phone to buy only if ...  \n",
       "35  It’s a must buy who is looking for an upgrade ...  \n",
       "36  Value for money❤️❤️\\nIts awesome mobile phone ...  \n",
       "37  This is my first iOS phone. I am very happy wi...  \n",
       "38  *Review after 10 months of usage*\\nDoesn't see...  \n",
       "39  Best budget Iphone till date ❤️ go for it guys...  \n",
       "40  The Best Phone for the Money\\n\\nThe iPhone 11 ...  \n",
       "41  Amazing phone with great cameras and better ba...  \n",
       "42  Previously I was using one plus 3t it was a gr...  \n",
       "43  Amazing Powerful and Durable Gadget.\\n\\nI’m am...  \n",
       "44  iphone 11 is a very good phone to buy only if ...  \n",
       "45  It’s a must buy who is looking for an upgrade ...  \n",
       "46  Value for money❤️❤️\\nIts awesome mobile phone ...  \n",
       "47  This is my first iOS phone. I am very happy wi...  \n",
       "48  *Review after 10 months of usage*\\nDoesn't see...  \n",
       "49  Best budget Iphone till date ❤️ go for it guys...  "
      ]
     },
     "execution_count": 272,
     "metadata": {},
     "output_type": "execute_result"
    }
   ],
   "source": [
    "#Now creating a dataframe\n",
    "iphone11_review=pd.DataFrame({})\n",
    "iphone11_review['Rating']=Rating\n",
    "iphone11_review['Review_Summary']=Review_Summary\n",
    "iphone11_review['Full_Review']=Full_Review\n",
    "iphone11_review"
   ]
  },
  {
   "cell_type": "code",
   "execution_count": 273,
   "metadata": {},
   "outputs": [],
   "source": [
    "#Closing the driver\n",
    "driver.close()"
   ]
  },
  {
   "cell_type": "markdown",
   "metadata": {},
   "source": [
    "## Q8: Scrape data for first 100 sneakers you find when you visit flipkart.com and search for “sneakers” in the search field."
   ]
  },
  {
   "cell_type": "code",
   "execution_count": 292,
   "metadata": {},
   "outputs": [],
   "source": [
    "import selenium\n",
    "import pandas as pd\n",
    "from selenium import webdriver"
   ]
  },
  {
   "cell_type": "code",
   "execution_count": 293,
   "metadata": {},
   "outputs": [],
   "source": [
    "#first connecting to the webdriver\n",
    "driver = webdriver.Chrome(r\"C://chromedriver.exe\")"
   ]
  },
  {
   "cell_type": "code",
   "execution_count": 294,
   "metadata": {},
   "outputs": [],
   "source": [
    "\n",
    "url='https://www.flipkart.com/search?q=sneakers+for+men&sid=osp%2Ccil%2Ce1f&as=on&as-show=on&otracker=AS_QueryStore_OrganicAutoSuggest_2_8_na_na_na&otracker1=AS_QueryStore_OrganicAutoSuggest_2_8_na_na_na&as-pos=2&as-type=RECENT&suggestionId=sneakers+for+men%7C'"
   ]
  },
  {
   "cell_type": "code",
   "execution_count": 295,
   "metadata": {},
   "outputs": [],
   "source": [
    "#opening the webpage through our driver\n",
    "driver.get(url)"
   ]
  },
  {
   "cell_type": "code",
   "execution_count": 296,
   "metadata": {},
   "outputs": [],
   "source": [
    "#creating the empty lists\n",
    "product_brand=[]\n",
    "product_description=[]\n",
    "product_price=[]\n",
    "product_discount=[]"
   ]
  },
  {
   "cell_type": "code",
   "execution_count": 297,
   "metadata": {},
   "outputs": [
    {
     "data": {
      "text/plain": [
       "[<selenium.webdriver.remote.webelement.WebElement (session=\"7d883d63bc9e099beaa0eb6533669c82\", element=\"9d9d5c47-994f-4cbf-94e8-9c5a997f514d\")>,\n",
       " <selenium.webdriver.remote.webelement.WebElement (session=\"7d883d63bc9e099beaa0eb6533669c82\", element=\"045bf528-6a51-4a2f-8cc0-1afdd9bbbb26\")>,\n",
       " <selenium.webdriver.remote.webelement.WebElement (session=\"7d883d63bc9e099beaa0eb6533669c82\", element=\"3aaa7d0a-4038-4464-85cc-39ceebd34360\")>,\n",
       " <selenium.webdriver.remote.webelement.WebElement (session=\"7d883d63bc9e099beaa0eb6533669c82\", element=\"0f768579-7268-40ff-8c7c-967838fef9f9\")>,\n",
       " <selenium.webdriver.remote.webelement.WebElement (session=\"7d883d63bc9e099beaa0eb6533669c82\", element=\"b14c1b1c-b965-4f49-b2fd-365210cf0a1b\")>,\n",
       " <selenium.webdriver.remote.webelement.WebElement (session=\"7d883d63bc9e099beaa0eb6533669c82\", element=\"b85fd94a-5f6a-4aa0-97ae-c38c1646b170\")>,\n",
       " <selenium.webdriver.remote.webelement.WebElement (session=\"7d883d63bc9e099beaa0eb6533669c82\", element=\"20c52461-36e8-47a3-ab3d-c8b11211abed\")>,\n",
       " <selenium.webdriver.remote.webelement.WebElement (session=\"7d883d63bc9e099beaa0eb6533669c82\", element=\"4a6930ca-49f6-44f6-8eaa-e8a798e28eda\")>,\n",
       " <selenium.webdriver.remote.webelement.WebElement (session=\"7d883d63bc9e099beaa0eb6533669c82\", element=\"ac2d138b-a5a2-408e-8c0e-354ccff8cbf2\")>,\n",
       " <selenium.webdriver.remote.webelement.WebElement (session=\"7d883d63bc9e099beaa0eb6533669c82\", element=\"f6a316be-07cc-4f7c-8703-72d8c2fef00a\")>,\n",
       " <selenium.webdriver.remote.webelement.WebElement (session=\"7d883d63bc9e099beaa0eb6533669c82\", element=\"f13f492c-2f56-48c7-96c3-bc832c829db5\")>,\n",
       " <selenium.webdriver.remote.webelement.WebElement (session=\"7d883d63bc9e099beaa0eb6533669c82\", element=\"82de5774-ddde-4e95-8896-d4e659744653\")>,\n",
       " <selenium.webdriver.remote.webelement.WebElement (session=\"7d883d63bc9e099beaa0eb6533669c82\", element=\"32cf5f19-4c92-4f62-84b0-59bfb9717db3\")>,\n",
       " <selenium.webdriver.remote.webelement.WebElement (session=\"7d883d63bc9e099beaa0eb6533669c82\", element=\"205420ae-6146-4bf4-a0ba-6272c058ded6\")>,\n",
       " <selenium.webdriver.remote.webelement.WebElement (session=\"7d883d63bc9e099beaa0eb6533669c82\", element=\"4b41d12d-26d3-443b-a5a3-d8eb7d63c363\")>,\n",
       " <selenium.webdriver.remote.webelement.WebElement (session=\"7d883d63bc9e099beaa0eb6533669c82\", element=\"4560b42a-f5a1-40fe-851f-42f413a74c11\")>,\n",
       " <selenium.webdriver.remote.webelement.WebElement (session=\"7d883d63bc9e099beaa0eb6533669c82\", element=\"7d9d80fc-1ea4-4d7b-8db0-86ba7df1f66c\")>,\n",
       " <selenium.webdriver.remote.webelement.WebElement (session=\"7d883d63bc9e099beaa0eb6533669c82\", element=\"138b46b4-5dac-4b01-8cac-e550568fec9c\")>,\n",
       " <selenium.webdriver.remote.webelement.WebElement (session=\"7d883d63bc9e099beaa0eb6533669c82\", element=\"c68ae953-f6af-425b-b8ce-6daca5a3891c\")>,\n",
       " <selenium.webdriver.remote.webelement.WebElement (session=\"7d883d63bc9e099beaa0eb6533669c82\", element=\"a00d1ba2-a363-4576-9020-e20b802ca9b0\")>,\n",
       " <selenium.webdriver.remote.webelement.WebElement (session=\"7d883d63bc9e099beaa0eb6533669c82\", element=\"22cd555d-4880-4a01-9527-9f215ae08fdf\")>,\n",
       " <selenium.webdriver.remote.webelement.WebElement (session=\"7d883d63bc9e099beaa0eb6533669c82\", element=\"616cf13b-0fbc-4450-aee9-1a33767baf64\")>,\n",
       " <selenium.webdriver.remote.webelement.WebElement (session=\"7d883d63bc9e099beaa0eb6533669c82\", element=\"876a14b5-3fdb-4662-9404-8125f6d2321c\")>,\n",
       " <selenium.webdriver.remote.webelement.WebElement (session=\"7d883d63bc9e099beaa0eb6533669c82\", element=\"b881fae2-2478-4f31-a74c-91ebec13d563\")>,\n",
       " <selenium.webdriver.remote.webelement.WebElement (session=\"7d883d63bc9e099beaa0eb6533669c82\", element=\"511ddc3a-6cec-4af6-b365-37e58da50c2c\")>,\n",
       " <selenium.webdriver.remote.webelement.WebElement (session=\"7d883d63bc9e099beaa0eb6533669c82\", element=\"13b99428-82db-45bc-b6f4-deb0a1fc8323\")>,\n",
       " <selenium.webdriver.remote.webelement.WebElement (session=\"7d883d63bc9e099beaa0eb6533669c82\", element=\"76963c91-d176-4170-b945-a7cb89c409db\")>,\n",
       " <selenium.webdriver.remote.webelement.WebElement (session=\"7d883d63bc9e099beaa0eb6533669c82\", element=\"8abc365c-bb80-4e36-90ec-fd82f1e1f797\")>,\n",
       " <selenium.webdriver.remote.webelement.WebElement (session=\"7d883d63bc9e099beaa0eb6533669c82\", element=\"044659ff-b33d-411d-991f-27acac79ce6b\")>,\n",
       " <selenium.webdriver.remote.webelement.WebElement (session=\"7d883d63bc9e099beaa0eb6533669c82\", element=\"b6b177cc-32d7-44d4-bb0e-5082c4f05da7\")>,\n",
       " <selenium.webdriver.remote.webelement.WebElement (session=\"7d883d63bc9e099beaa0eb6533669c82\", element=\"519c70a3-12fe-4237-aab4-f2388f60b0c5\")>,\n",
       " <selenium.webdriver.remote.webelement.WebElement (session=\"7d883d63bc9e099beaa0eb6533669c82\", element=\"4dd983f6-491d-42aa-98ae-42cc176b09e9\")>,\n",
       " <selenium.webdriver.remote.webelement.WebElement (session=\"7d883d63bc9e099beaa0eb6533669c82\", element=\"40799ea8-6f50-40fc-829f-01823653b508\")>,\n",
       " <selenium.webdriver.remote.webelement.WebElement (session=\"7d883d63bc9e099beaa0eb6533669c82\", element=\"3c6265f1-f0dc-4587-b3f5-8e3fb422a876\")>,\n",
       " <selenium.webdriver.remote.webelement.WebElement (session=\"7d883d63bc9e099beaa0eb6533669c82\", element=\"dd2df9e9-f13a-4e84-8ba8-0bad6cf10f20\")>,\n",
       " <selenium.webdriver.remote.webelement.WebElement (session=\"7d883d63bc9e099beaa0eb6533669c82\", element=\"212918d2-88d1-438e-9ce5-cda033608a03\")>,\n",
       " <selenium.webdriver.remote.webelement.WebElement (session=\"7d883d63bc9e099beaa0eb6533669c82\", element=\"76c39ab7-bbfc-45f9-a48b-291bdc042934\")>,\n",
       " <selenium.webdriver.remote.webelement.WebElement (session=\"7d883d63bc9e099beaa0eb6533669c82\", element=\"6ddf1619-32bc-4cd0-bb1c-c53a4c66e7ff\")>,\n",
       " <selenium.webdriver.remote.webelement.WebElement (session=\"7d883d63bc9e099beaa0eb6533669c82\", element=\"0a403d60-637e-44d4-8728-533ce9398538\")>,\n",
       " <selenium.webdriver.remote.webelement.WebElement (session=\"7d883d63bc9e099beaa0eb6533669c82\", element=\"ca5c8060-83e1-4cc9-bc81-d9410806a891\")>]"
      ]
     },
     "execution_count": 297,
     "metadata": {},
     "output_type": "execute_result"
    }
   ],
   "source": [
    "#interacting with the webpage\n",
    "brand_tag=driver.find_elements_by_xpath(\"//div[@class='_2WkVRV']\")\n",
    "brand_tag[0:100]"
   ]
  },
  {
   "cell_type": "code",
   "execution_count": 298,
   "metadata": {},
   "outputs": [
    {
     "data": {
      "text/plain": [
       "['Fzzirok',\n",
       " 'Fzzirok',\n",
       " 'Chevit',\n",
       " 'Robbie jones',\n",
       " 'Chevit',\n",
       " 'ORICUM',\n",
       " 'aadi',\n",
       " 'Robbie jones',\n",
       " 'Chevit',\n",
       " 'Red Rose',\n",
       " 'Shoes Bank',\n",
       " 'Chevit',\n",
       " 'Chevit',\n",
       " 'richerson',\n",
       " 'ROCKFIELD',\n",
       " 'RED CHIEF',\n",
       " '\"trend\"',\n",
       " 'ROCKFIELD',\n",
       " 'Chevit',\n",
       " 'ELISEO',\n",
       " 'Stefano Rads',\n",
       " 'Birde',\n",
       " 'HOTSTYLE',\n",
       " 'Chevit',\n",
       " 'Echor',\n",
       " 'Chevit',\n",
       " 'Magnolia',\n",
       " 'believe',\n",
       " 'SCATCHITE',\n",
       " 'Encanto',\n",
       " 'TR',\n",
       " 'PUMA',\n",
       " 'Robbie jones',\n",
       " 'BLACK BOTTOM',\n",
       " 'Ktiz',\n",
       " 'Zsyto',\n",
       " 'Raftar',\n",
       " 'Echor',\n",
       " 'Chevit',\n",
       " 'Robbie jones']"
      ]
     },
     "execution_count": 298,
     "metadata": {},
     "output_type": "execute_result"
    }
   ],
   "source": [
    "for i in brand_tag:\n",
    "    brand=i.text\n",
    "    product_brand.append(brand)\n",
    "product_brand[0:100]"
   ]
  },
  {
   "cell_type": "code",
   "execution_count": 299,
   "metadata": {},
   "outputs": [
    {
     "data": {
      "text/plain": [
       "[<selenium.webdriver.remote.webelement.WebElement (session=\"7d883d63bc9e099beaa0eb6533669c82\", element=\"9d9d5c47-994f-4cbf-94e8-9c5a997f514d\")>,\n",
       " <selenium.webdriver.remote.webelement.WebElement (session=\"7d883d63bc9e099beaa0eb6533669c82\", element=\"045bf528-6a51-4a2f-8cc0-1afdd9bbbb26\")>,\n",
       " <selenium.webdriver.remote.webelement.WebElement (session=\"7d883d63bc9e099beaa0eb6533669c82\", element=\"3aaa7d0a-4038-4464-85cc-39ceebd34360\")>,\n",
       " <selenium.webdriver.remote.webelement.WebElement (session=\"7d883d63bc9e099beaa0eb6533669c82\", element=\"0f768579-7268-40ff-8c7c-967838fef9f9\")>,\n",
       " <selenium.webdriver.remote.webelement.WebElement (session=\"7d883d63bc9e099beaa0eb6533669c82\", element=\"b14c1b1c-b965-4f49-b2fd-365210cf0a1b\")>,\n",
       " <selenium.webdriver.remote.webelement.WebElement (session=\"7d883d63bc9e099beaa0eb6533669c82\", element=\"b85fd94a-5f6a-4aa0-97ae-c38c1646b170\")>,\n",
       " <selenium.webdriver.remote.webelement.WebElement (session=\"7d883d63bc9e099beaa0eb6533669c82\", element=\"20c52461-36e8-47a3-ab3d-c8b11211abed\")>,\n",
       " <selenium.webdriver.remote.webelement.WebElement (session=\"7d883d63bc9e099beaa0eb6533669c82\", element=\"4a6930ca-49f6-44f6-8eaa-e8a798e28eda\")>,\n",
       " <selenium.webdriver.remote.webelement.WebElement (session=\"7d883d63bc9e099beaa0eb6533669c82\", element=\"ac2d138b-a5a2-408e-8c0e-354ccff8cbf2\")>,\n",
       " <selenium.webdriver.remote.webelement.WebElement (session=\"7d883d63bc9e099beaa0eb6533669c82\", element=\"f6a316be-07cc-4f7c-8703-72d8c2fef00a\")>,\n",
       " <selenium.webdriver.remote.webelement.WebElement (session=\"7d883d63bc9e099beaa0eb6533669c82\", element=\"f13f492c-2f56-48c7-96c3-bc832c829db5\")>,\n",
       " <selenium.webdriver.remote.webelement.WebElement (session=\"7d883d63bc9e099beaa0eb6533669c82\", element=\"82de5774-ddde-4e95-8896-d4e659744653\")>,\n",
       " <selenium.webdriver.remote.webelement.WebElement (session=\"7d883d63bc9e099beaa0eb6533669c82\", element=\"32cf5f19-4c92-4f62-84b0-59bfb9717db3\")>,\n",
       " <selenium.webdriver.remote.webelement.WebElement (session=\"7d883d63bc9e099beaa0eb6533669c82\", element=\"205420ae-6146-4bf4-a0ba-6272c058ded6\")>,\n",
       " <selenium.webdriver.remote.webelement.WebElement (session=\"7d883d63bc9e099beaa0eb6533669c82\", element=\"4b41d12d-26d3-443b-a5a3-d8eb7d63c363\")>,\n",
       " <selenium.webdriver.remote.webelement.WebElement (session=\"7d883d63bc9e099beaa0eb6533669c82\", element=\"4560b42a-f5a1-40fe-851f-42f413a74c11\")>,\n",
       " <selenium.webdriver.remote.webelement.WebElement (session=\"7d883d63bc9e099beaa0eb6533669c82\", element=\"7d9d80fc-1ea4-4d7b-8db0-86ba7df1f66c\")>,\n",
       " <selenium.webdriver.remote.webelement.WebElement (session=\"7d883d63bc9e099beaa0eb6533669c82\", element=\"138b46b4-5dac-4b01-8cac-e550568fec9c\")>,\n",
       " <selenium.webdriver.remote.webelement.WebElement (session=\"7d883d63bc9e099beaa0eb6533669c82\", element=\"c68ae953-f6af-425b-b8ce-6daca5a3891c\")>,\n",
       " <selenium.webdriver.remote.webelement.WebElement (session=\"7d883d63bc9e099beaa0eb6533669c82\", element=\"a00d1ba2-a363-4576-9020-e20b802ca9b0\")>,\n",
       " <selenium.webdriver.remote.webelement.WebElement (session=\"7d883d63bc9e099beaa0eb6533669c82\", element=\"22cd555d-4880-4a01-9527-9f215ae08fdf\")>,\n",
       " <selenium.webdriver.remote.webelement.WebElement (session=\"7d883d63bc9e099beaa0eb6533669c82\", element=\"616cf13b-0fbc-4450-aee9-1a33767baf64\")>,\n",
       " <selenium.webdriver.remote.webelement.WebElement (session=\"7d883d63bc9e099beaa0eb6533669c82\", element=\"876a14b5-3fdb-4662-9404-8125f6d2321c\")>,\n",
       " <selenium.webdriver.remote.webelement.WebElement (session=\"7d883d63bc9e099beaa0eb6533669c82\", element=\"b881fae2-2478-4f31-a74c-91ebec13d563\")>,\n",
       " <selenium.webdriver.remote.webelement.WebElement (session=\"7d883d63bc9e099beaa0eb6533669c82\", element=\"511ddc3a-6cec-4af6-b365-37e58da50c2c\")>,\n",
       " <selenium.webdriver.remote.webelement.WebElement (session=\"7d883d63bc9e099beaa0eb6533669c82\", element=\"13b99428-82db-45bc-b6f4-deb0a1fc8323\")>,\n",
       " <selenium.webdriver.remote.webelement.WebElement (session=\"7d883d63bc9e099beaa0eb6533669c82\", element=\"76963c91-d176-4170-b945-a7cb89c409db\")>,\n",
       " <selenium.webdriver.remote.webelement.WebElement (session=\"7d883d63bc9e099beaa0eb6533669c82\", element=\"8abc365c-bb80-4e36-90ec-fd82f1e1f797\")>,\n",
       " <selenium.webdriver.remote.webelement.WebElement (session=\"7d883d63bc9e099beaa0eb6533669c82\", element=\"044659ff-b33d-411d-991f-27acac79ce6b\")>,\n",
       " <selenium.webdriver.remote.webelement.WebElement (session=\"7d883d63bc9e099beaa0eb6533669c82\", element=\"b6b177cc-32d7-44d4-bb0e-5082c4f05da7\")>,\n",
       " <selenium.webdriver.remote.webelement.WebElement (session=\"7d883d63bc9e099beaa0eb6533669c82\", element=\"519c70a3-12fe-4237-aab4-f2388f60b0c5\")>,\n",
       " <selenium.webdriver.remote.webelement.WebElement (session=\"7d883d63bc9e099beaa0eb6533669c82\", element=\"4dd983f6-491d-42aa-98ae-42cc176b09e9\")>,\n",
       " <selenium.webdriver.remote.webelement.WebElement (session=\"7d883d63bc9e099beaa0eb6533669c82\", element=\"40799ea8-6f50-40fc-829f-01823653b508\")>,\n",
       " <selenium.webdriver.remote.webelement.WebElement (session=\"7d883d63bc9e099beaa0eb6533669c82\", element=\"3c6265f1-f0dc-4587-b3f5-8e3fb422a876\")>,\n",
       " <selenium.webdriver.remote.webelement.WebElement (session=\"7d883d63bc9e099beaa0eb6533669c82\", element=\"dd2df9e9-f13a-4e84-8ba8-0bad6cf10f20\")>,\n",
       " <selenium.webdriver.remote.webelement.WebElement (session=\"7d883d63bc9e099beaa0eb6533669c82\", element=\"212918d2-88d1-438e-9ce5-cda033608a03\")>,\n",
       " <selenium.webdriver.remote.webelement.WebElement (session=\"7d883d63bc9e099beaa0eb6533669c82\", element=\"76c39ab7-bbfc-45f9-a48b-291bdc042934\")>,\n",
       " <selenium.webdriver.remote.webelement.WebElement (session=\"7d883d63bc9e099beaa0eb6533669c82\", element=\"6ddf1619-32bc-4cd0-bb1c-c53a4c66e7ff\")>,\n",
       " <selenium.webdriver.remote.webelement.WebElement (session=\"7d883d63bc9e099beaa0eb6533669c82\", element=\"0a403d60-637e-44d4-8728-533ce9398538\")>,\n",
       " <selenium.webdriver.remote.webelement.WebElement (session=\"7d883d63bc9e099beaa0eb6533669c82\", element=\"ca5c8060-83e1-4cc9-bc81-d9410806a891\")>]"
      ]
     },
     "execution_count": 299,
     "metadata": {},
     "output_type": "execute_result"
    }
   ],
   "source": [
    "des_tag=driver.find_elements_by_xpath(\"//div[@class='_2WkVRV']\")\n",
    "des_tag[0:100]"
   ]
  },
  {
   "cell_type": "code",
   "execution_count": 300,
   "metadata": {},
   "outputs": [
    {
     "data": {
      "text/plain": [
       "['Fzzirok',\n",
       " 'Fzzirok',\n",
       " 'Chevit',\n",
       " 'Robbie jones',\n",
       " 'Chevit',\n",
       " 'ORICUM',\n",
       " 'aadi',\n",
       " 'Robbie jones',\n",
       " 'Chevit',\n",
       " 'Red Rose',\n",
       " 'Shoes Bank',\n",
       " 'Chevit',\n",
       " 'Chevit',\n",
       " 'richerson',\n",
       " 'ROCKFIELD',\n",
       " 'RED CHIEF',\n",
       " '\"trend\"',\n",
       " 'ROCKFIELD',\n",
       " 'Chevit',\n",
       " 'ELISEO',\n",
       " 'Stefano Rads',\n",
       " 'Birde',\n",
       " 'HOTSTYLE',\n",
       " 'Chevit',\n",
       " 'Echor',\n",
       " 'Chevit',\n",
       " 'Magnolia',\n",
       " 'believe',\n",
       " 'SCATCHITE',\n",
       " 'Encanto',\n",
       " 'TR',\n",
       " 'PUMA',\n",
       " 'Robbie jones',\n",
       " 'BLACK BOTTOM',\n",
       " 'Ktiz',\n",
       " 'Zsyto',\n",
       " 'Raftar',\n",
       " 'Echor',\n",
       " 'Chevit',\n",
       " 'Robbie jones']"
      ]
     },
     "execution_count": 300,
     "metadata": {},
     "output_type": "execute_result"
    }
   ],
   "source": [
    "for i in des_tag:\n",
    "    des=i.text\n",
    "    product_description.append(des)\n",
    "product_description[0:100]"
   ]
  },
  {
   "cell_type": "code",
   "execution_count": 301,
   "metadata": {},
   "outputs": [
    {
     "data": {
      "text/plain": [
       "[<selenium.webdriver.remote.webelement.WebElement (session=\"7d883d63bc9e099beaa0eb6533669c82\", element=\"9b7765ec-d0b2-418b-9fb0-d812d8217d93\")>,\n",
       " <selenium.webdriver.remote.webelement.WebElement (session=\"7d883d63bc9e099beaa0eb6533669c82\", element=\"b2dcaceb-004a-4f89-b967-3ec2ae9d44c5\")>,\n",
       " <selenium.webdriver.remote.webelement.WebElement (session=\"7d883d63bc9e099beaa0eb6533669c82\", element=\"89ca9a99-1ecd-4d29-ae4f-59e26ca4a042\")>,\n",
       " <selenium.webdriver.remote.webelement.WebElement (session=\"7d883d63bc9e099beaa0eb6533669c82\", element=\"f91f73f4-cb93-48dd-b389-2027f0925b21\")>,\n",
       " <selenium.webdriver.remote.webelement.WebElement (session=\"7d883d63bc9e099beaa0eb6533669c82\", element=\"11690efa-4af6-461e-85f9-d45b4ccdf89c\")>,\n",
       " <selenium.webdriver.remote.webelement.WebElement (session=\"7d883d63bc9e099beaa0eb6533669c82\", element=\"9ccf3967-4e78-4ab4-977d-80d3d588025c\")>,\n",
       " <selenium.webdriver.remote.webelement.WebElement (session=\"7d883d63bc9e099beaa0eb6533669c82\", element=\"bf44ad80-d732-41a8-9983-180241d53e59\")>,\n",
       " <selenium.webdriver.remote.webelement.WebElement (session=\"7d883d63bc9e099beaa0eb6533669c82\", element=\"1cb62780-275f-4d40-99c1-5c5af9e9da31\")>,\n",
       " <selenium.webdriver.remote.webelement.WebElement (session=\"7d883d63bc9e099beaa0eb6533669c82\", element=\"11faccbd-b1a5-4259-b8fe-750e63fbbae0\")>,\n",
       " <selenium.webdriver.remote.webelement.WebElement (session=\"7d883d63bc9e099beaa0eb6533669c82\", element=\"da3618ae-dcf0-4492-8262-1c1fb318f82f\")>,\n",
       " <selenium.webdriver.remote.webelement.WebElement (session=\"7d883d63bc9e099beaa0eb6533669c82\", element=\"c26c1780-b9f3-4c3d-be87-56fdbceb550e\")>,\n",
       " <selenium.webdriver.remote.webelement.WebElement (session=\"7d883d63bc9e099beaa0eb6533669c82\", element=\"f740fbdd-f52a-46d1-8b79-ce69adb0f7dd\")>,\n",
       " <selenium.webdriver.remote.webelement.WebElement (session=\"7d883d63bc9e099beaa0eb6533669c82\", element=\"54791e50-0f56-43fc-9fdd-0ddb9cb8b889\")>,\n",
       " <selenium.webdriver.remote.webelement.WebElement (session=\"7d883d63bc9e099beaa0eb6533669c82\", element=\"50f87b28-be03-43e1-8e99-3390413038bf\")>,\n",
       " <selenium.webdriver.remote.webelement.WebElement (session=\"7d883d63bc9e099beaa0eb6533669c82\", element=\"5f672347-2cb6-4d01-b55a-f9734d940ea8\")>,\n",
       " <selenium.webdriver.remote.webelement.WebElement (session=\"7d883d63bc9e099beaa0eb6533669c82\", element=\"2dc16551-4771-4e4f-ba97-13be989204ad\")>,\n",
       " <selenium.webdriver.remote.webelement.WebElement (session=\"7d883d63bc9e099beaa0eb6533669c82\", element=\"5fba61a4-f9c5-4040-ab6b-02795e6bd2fa\")>,\n",
       " <selenium.webdriver.remote.webelement.WebElement (session=\"7d883d63bc9e099beaa0eb6533669c82\", element=\"0339dece-af26-44d1-94a2-57f7cfbc7cad\")>,\n",
       " <selenium.webdriver.remote.webelement.WebElement (session=\"7d883d63bc9e099beaa0eb6533669c82\", element=\"23c815ee-56d7-4e0f-be7d-07bff674867e\")>,\n",
       " <selenium.webdriver.remote.webelement.WebElement (session=\"7d883d63bc9e099beaa0eb6533669c82\", element=\"a5c8317d-276b-40a3-b5f4-a7860c21ad6f\")>,\n",
       " <selenium.webdriver.remote.webelement.WebElement (session=\"7d883d63bc9e099beaa0eb6533669c82\", element=\"2256fae9-7c9b-4bf1-8d1e-aec0e42dcf51\")>,\n",
       " <selenium.webdriver.remote.webelement.WebElement (session=\"7d883d63bc9e099beaa0eb6533669c82\", element=\"ac3b17ad-831f-468e-a56c-6741cda9d7de\")>,\n",
       " <selenium.webdriver.remote.webelement.WebElement (session=\"7d883d63bc9e099beaa0eb6533669c82\", element=\"45df90cd-ab19-4c0f-8e22-d6b284091d8c\")>,\n",
       " <selenium.webdriver.remote.webelement.WebElement (session=\"7d883d63bc9e099beaa0eb6533669c82\", element=\"f7806c8e-9154-4af3-acc4-d5e11a7eba6c\")>,\n",
       " <selenium.webdriver.remote.webelement.WebElement (session=\"7d883d63bc9e099beaa0eb6533669c82\", element=\"9d9db285-3edb-48d9-b3e3-3525eae01a84\")>,\n",
       " <selenium.webdriver.remote.webelement.WebElement (session=\"7d883d63bc9e099beaa0eb6533669c82\", element=\"1f0edfe8-1ba7-48f3-aeed-ff42229270a6\")>,\n",
       " <selenium.webdriver.remote.webelement.WebElement (session=\"7d883d63bc9e099beaa0eb6533669c82\", element=\"2a83069c-b8bb-4de6-a19f-8736b66a517c\")>,\n",
       " <selenium.webdriver.remote.webelement.WebElement (session=\"7d883d63bc9e099beaa0eb6533669c82\", element=\"4a954a29-bcaa-45be-9a83-a6992e32c449\")>,\n",
       " <selenium.webdriver.remote.webelement.WebElement (session=\"7d883d63bc9e099beaa0eb6533669c82\", element=\"f2e90778-8932-4035-9cf7-b750d830bdb5\")>,\n",
       " <selenium.webdriver.remote.webelement.WebElement (session=\"7d883d63bc9e099beaa0eb6533669c82\", element=\"4833686c-4f3f-420a-87d3-476ece993d7d\")>,\n",
       " <selenium.webdriver.remote.webelement.WebElement (session=\"7d883d63bc9e099beaa0eb6533669c82\", element=\"062ba145-f4ef-42f9-b91a-0eb69820bca0\")>,\n",
       " <selenium.webdriver.remote.webelement.WebElement (session=\"7d883d63bc9e099beaa0eb6533669c82\", element=\"7ce22ac7-2805-4152-b079-afea4b539f99\")>,\n",
       " <selenium.webdriver.remote.webelement.WebElement (session=\"7d883d63bc9e099beaa0eb6533669c82\", element=\"6fc4ee9c-db41-4164-b6b4-6aac0fb0e4ba\")>,\n",
       " <selenium.webdriver.remote.webelement.WebElement (session=\"7d883d63bc9e099beaa0eb6533669c82\", element=\"18f3cbfc-56c9-43e5-b961-317a421d6638\")>,\n",
       " <selenium.webdriver.remote.webelement.WebElement (session=\"7d883d63bc9e099beaa0eb6533669c82\", element=\"78318bd1-6f1c-4fc6-b305-cfcb10cd60ee\")>,\n",
       " <selenium.webdriver.remote.webelement.WebElement (session=\"7d883d63bc9e099beaa0eb6533669c82\", element=\"f799d6f3-7474-4306-a398-30aeea78a8d1\")>,\n",
       " <selenium.webdriver.remote.webelement.WebElement (session=\"7d883d63bc9e099beaa0eb6533669c82\", element=\"761b02d5-8a3a-4686-81e8-c9d284934b8d\")>,\n",
       " <selenium.webdriver.remote.webelement.WebElement (session=\"7d883d63bc9e099beaa0eb6533669c82\", element=\"90f29010-355e-4618-b24e-85acca9862e7\")>,\n",
       " <selenium.webdriver.remote.webelement.WebElement (session=\"7d883d63bc9e099beaa0eb6533669c82\", element=\"af010acd-5490-44f4-b839-9f59af825eb0\")>,\n",
       " <selenium.webdriver.remote.webelement.WebElement (session=\"7d883d63bc9e099beaa0eb6533669c82\", element=\"fe909b3b-a732-4af4-a1ef-885fa52144bb\")>]"
      ]
     },
     "execution_count": 301,
     "metadata": {},
     "output_type": "execute_result"
    }
   ],
   "source": [
    "price_tag=driver.find_elements_by_xpath(\"//div[@class='_30jeq3']\")\n",
    "price_tag[0:100]"
   ]
  },
  {
   "cell_type": "code",
   "execution_count": 302,
   "metadata": {},
   "outputs": [
    {
     "data": {
      "text/plain": [
       "['₹420',\n",
       " '₹499',\n",
       " '₹499',\n",
       " '₹399',\n",
       " '₹474',\n",
       " '₹398',\n",
       " '₹298',\n",
       " '₹499',\n",
       " '₹420',\n",
       " '₹379',\n",
       " '₹349',\n",
       " '₹420',\n",
       " '₹254',\n",
       " '₹479',\n",
       " '₹379',\n",
       " '₹1,754',\n",
       " '₹479',\n",
       " '₹396',\n",
       " '₹322',\n",
       " '₹569',\n",
       " '₹242',\n",
       " '₹299',\n",
       " '₹199',\n",
       " '₹299',\n",
       " '₹570',\n",
       " '₹211',\n",
       " '₹323',\n",
       " '₹446',\n",
       " '₹398',\n",
       " '₹402',\n",
       " '₹599',\n",
       " '₹2,799',\n",
       " '₹499',\n",
       " '₹449',\n",
       " '₹418',\n",
       " '₹398',\n",
       " '₹311',\n",
       " '₹570',\n",
       " '₹594',\n",
       " '₹499']"
      ]
     },
     "execution_count": 302,
     "metadata": {},
     "output_type": "execute_result"
    }
   ],
   "source": [
    "for i in price_tag:\n",
    "    price=i.text\n",
    "    product_price.append(price)\n",
    "product_price[0:100]"
   ]
  },
  {
   "cell_type": "code",
   "execution_count": 303,
   "metadata": {},
   "outputs": [
    {
     "data": {
      "text/plain": [
       "[<selenium.webdriver.remote.webelement.WebElement (session=\"7d883d63bc9e099beaa0eb6533669c82\", element=\"597eb54d-a99c-4def-8065-5057bc1f8259\")>,\n",
       " <selenium.webdriver.remote.webelement.WebElement (session=\"7d883d63bc9e099beaa0eb6533669c82\", element=\"b65ae5b4-49e7-4ed7-b5a5-43e6020131f2\")>,\n",
       " <selenium.webdriver.remote.webelement.WebElement (session=\"7d883d63bc9e099beaa0eb6533669c82\", element=\"154e0a6f-1a9d-451d-9250-6d8421ee5fea\")>,\n",
       " <selenium.webdriver.remote.webelement.WebElement (session=\"7d883d63bc9e099beaa0eb6533669c82\", element=\"72666005-9129-4baf-bd7b-ddbefee57a93\")>,\n",
       " <selenium.webdriver.remote.webelement.WebElement (session=\"7d883d63bc9e099beaa0eb6533669c82\", element=\"d923d491-4b90-4a99-8d2d-212a6ca58929\")>,\n",
       " <selenium.webdriver.remote.webelement.WebElement (session=\"7d883d63bc9e099beaa0eb6533669c82\", element=\"b66028c7-5c29-4288-a111-88e31a71c509\")>,\n",
       " <selenium.webdriver.remote.webelement.WebElement (session=\"7d883d63bc9e099beaa0eb6533669c82\", element=\"a1ca7f14-856c-4e5e-b88e-6813d9165611\")>,\n",
       " <selenium.webdriver.remote.webelement.WebElement (session=\"7d883d63bc9e099beaa0eb6533669c82\", element=\"280f7ed9-2fee-4c83-9719-4ce77f7b34f6\")>,\n",
       " <selenium.webdriver.remote.webelement.WebElement (session=\"7d883d63bc9e099beaa0eb6533669c82\", element=\"4b4d831c-1f5c-4e90-826c-aa56a019a57f\")>,\n",
       " <selenium.webdriver.remote.webelement.WebElement (session=\"7d883d63bc9e099beaa0eb6533669c82\", element=\"40e7ffbc-4879-433f-a47a-88c87d69e5fd\")>,\n",
       " <selenium.webdriver.remote.webelement.WebElement (session=\"7d883d63bc9e099beaa0eb6533669c82\", element=\"5acbdd91-5c80-4a13-be33-697e7acc9168\")>,\n",
       " <selenium.webdriver.remote.webelement.WebElement (session=\"7d883d63bc9e099beaa0eb6533669c82\", element=\"5efede50-baaa-49d1-a6f1-79173f38e145\")>,\n",
       " <selenium.webdriver.remote.webelement.WebElement (session=\"7d883d63bc9e099beaa0eb6533669c82\", element=\"2be18389-2867-474a-a93e-ee9b36d160a3\")>,\n",
       " <selenium.webdriver.remote.webelement.WebElement (session=\"7d883d63bc9e099beaa0eb6533669c82\", element=\"d5a74fbb-38af-47fd-84c2-3ebdaa376487\")>,\n",
       " <selenium.webdriver.remote.webelement.WebElement (session=\"7d883d63bc9e099beaa0eb6533669c82\", element=\"2d7cabc0-d99f-46c1-8603-f5f8a30b825f\")>,\n",
       " <selenium.webdriver.remote.webelement.WebElement (session=\"7d883d63bc9e099beaa0eb6533669c82\", element=\"bb8326af-697f-43f5-aed4-30d12f8cb018\")>,\n",
       " <selenium.webdriver.remote.webelement.WebElement (session=\"7d883d63bc9e099beaa0eb6533669c82\", element=\"5dd6f4cb-ec29-4794-be3a-b8efa412059e\")>,\n",
       " <selenium.webdriver.remote.webelement.WebElement (session=\"7d883d63bc9e099beaa0eb6533669c82\", element=\"011e9385-76af-477d-be39-7b56eab4fd81\")>,\n",
       " <selenium.webdriver.remote.webelement.WebElement (session=\"7d883d63bc9e099beaa0eb6533669c82\", element=\"e32c9c63-fe2c-48a1-8f0f-c5f4e7975b93\")>,\n",
       " <selenium.webdriver.remote.webelement.WebElement (session=\"7d883d63bc9e099beaa0eb6533669c82\", element=\"d89b5a4d-30d3-49b4-b86c-a57505c9e5a6\")>,\n",
       " <selenium.webdriver.remote.webelement.WebElement (session=\"7d883d63bc9e099beaa0eb6533669c82\", element=\"34017c86-f416-4007-8be2-d7d12dd40127\")>,\n",
       " <selenium.webdriver.remote.webelement.WebElement (session=\"7d883d63bc9e099beaa0eb6533669c82\", element=\"38b28c5b-b30d-4759-880c-dac2d8455aa5\")>,\n",
       " <selenium.webdriver.remote.webelement.WebElement (session=\"7d883d63bc9e099beaa0eb6533669c82\", element=\"307b0a22-a165-4514-a76a-90ff20123834\")>,\n",
       " <selenium.webdriver.remote.webelement.WebElement (session=\"7d883d63bc9e099beaa0eb6533669c82\", element=\"bea82819-cca0-4aa1-85da-e2806afcbebe\")>,\n",
       " <selenium.webdriver.remote.webelement.WebElement (session=\"7d883d63bc9e099beaa0eb6533669c82\", element=\"0f5afcc9-6a3d-40f0-9ee1-b271eb2ef454\")>,\n",
       " <selenium.webdriver.remote.webelement.WebElement (session=\"7d883d63bc9e099beaa0eb6533669c82\", element=\"93db09e2-bb76-4038-8800-4ba7354721ff\")>,\n",
       " <selenium.webdriver.remote.webelement.WebElement (session=\"7d883d63bc9e099beaa0eb6533669c82\", element=\"b32e2c7e-1acb-481d-b7fe-33d23e27a5b4\")>,\n",
       " <selenium.webdriver.remote.webelement.WebElement (session=\"7d883d63bc9e099beaa0eb6533669c82\", element=\"e518b09f-1f20-4c37-be18-a2e4e79bb832\")>,\n",
       " <selenium.webdriver.remote.webelement.WebElement (session=\"7d883d63bc9e099beaa0eb6533669c82\", element=\"22ca1be8-4541-41ca-bf07-aa27c1f9d634\")>,\n",
       " <selenium.webdriver.remote.webelement.WebElement (session=\"7d883d63bc9e099beaa0eb6533669c82\", element=\"f5e4efdd-a328-40ca-af66-641e57561ded\")>,\n",
       " <selenium.webdriver.remote.webelement.WebElement (session=\"7d883d63bc9e099beaa0eb6533669c82\", element=\"7fede68f-a274-4947-ad6a-cd956d7bd697\")>,\n",
       " <selenium.webdriver.remote.webelement.WebElement (session=\"7d883d63bc9e099beaa0eb6533669c82\", element=\"0ef4e892-8a83-4664-8efe-6122c0a2ab4c\")>,\n",
       " <selenium.webdriver.remote.webelement.WebElement (session=\"7d883d63bc9e099beaa0eb6533669c82\", element=\"0d66c4e9-55f4-478b-9036-1d8da2036a0d\")>,\n",
       " <selenium.webdriver.remote.webelement.WebElement (session=\"7d883d63bc9e099beaa0eb6533669c82\", element=\"5a3a49cd-b516-4a5e-bda0-6e56e66d7746\")>,\n",
       " <selenium.webdriver.remote.webelement.WebElement (session=\"7d883d63bc9e099beaa0eb6533669c82\", element=\"09fb085e-c881-466c-9936-9ce0363ccfd0\")>,\n",
       " <selenium.webdriver.remote.webelement.WebElement (session=\"7d883d63bc9e099beaa0eb6533669c82\", element=\"636c8659-4ddc-4703-a0d2-ca508298b870\")>,\n",
       " <selenium.webdriver.remote.webelement.WebElement (session=\"7d883d63bc9e099beaa0eb6533669c82\", element=\"a66af116-8b80-4d30-9a33-e082e3d812a1\")>,\n",
       " <selenium.webdriver.remote.webelement.WebElement (session=\"7d883d63bc9e099beaa0eb6533669c82\", element=\"9fe48edd-7541-4e3f-afe2-89af1c820f25\")>,\n",
       " <selenium.webdriver.remote.webelement.WebElement (session=\"7d883d63bc9e099beaa0eb6533669c82\", element=\"66f2c563-008b-4026-92c4-5b0e4b434776\")>,\n",
       " <selenium.webdriver.remote.webelement.WebElement (session=\"7d883d63bc9e099beaa0eb6533669c82\", element=\"b5224081-411d-480d-88be-4caf9c06437c\")>]"
      ]
     },
     "execution_count": 303,
     "metadata": {},
     "output_type": "execute_result"
    }
   ],
   "source": [
    "discount_tag=driver.find_elements_by_xpath(\"//div[@class='_3Ay6Sb']/span[1]\")\n",
    "\n",
    "discount_tag[0:100]"
   ]
  },
  {
   "cell_type": "code",
   "execution_count": 304,
   "metadata": {},
   "outputs": [
    {
     "data": {
      "text/plain": [
       "['57% off',\n",
       " '50% off',\n",
       " '72% off',\n",
       " '60% off',\n",
       " '76% off',\n",
       " '60% off',\n",
       " '70% off',\n",
       " '50% off',\n",
       " '57% off',\n",
       " '62% off',\n",
       " '65% off',\n",
       " '78% off',\n",
       " '74% off',\n",
       " '52% off',\n",
       " '62% off',\n",
       " '55% off',\n",
       " '88% off',\n",
       " '60% off',\n",
       " '67% off',\n",
       " '43% off',\n",
       " '65% off',\n",
       " '40% off',\n",
       " '60% off',\n",
       " '62% off',\n",
       " '42% off',\n",
       " '57% off',\n",
       " '67% off',\n",
       " '55% off',\n",
       " '60% off',\n",
       " '73% off',\n",
       " '70% off',\n",
       " '53% off',\n",
       " '50% off',\n",
       " '55% off',\n",
       " '67% off',\n",
       " '69% off',\n",
       " '68% off',\n",
       " '42% off',\n",
       " '74% off',\n",
       " '50% off']"
      ]
     },
     "execution_count": 304,
     "metadata": {},
     "output_type": "execute_result"
    }
   ],
   "source": [
    "for i in discount_tag:\n",
    "    discount=i.text\n",
    "    product_discount.append(discount)\n",
    "product_discount[0:100]"
   ]
  },
  {
   "cell_type": "code",
   "execution_count": 305,
   "metadata": {},
   "outputs": [
    {
     "name": "stdout",
     "output_type": "stream",
     "text": [
      "40 40 40 40\n"
     ]
    }
   ],
   "source": [
    "print(len(product_brand),len(product_description),len(product_price),len(product_discount))"
   ]
  },
  {
   "cell_type": "code",
   "execution_count": 306,
   "metadata": {},
   "outputs": [],
   "source": [
    "import pandas as pd\n",
    "sneakers=pd.DataFrame({})\n",
    "sneakers['brand']=product_brand\n",
    "sneakers['des']=product_description\n",
    "sneakers['price']=product_price\n",
    "sneakers['discount']=product_discount"
   ]
  },
  {
   "cell_type": "code",
   "execution_count": 307,
   "metadata": {},
   "outputs": [
    {
     "data": {
      "text/html": [
       "<div>\n",
       "<style scoped>\n",
       "    .dataframe tbody tr th:only-of-type {\n",
       "        vertical-align: middle;\n",
       "    }\n",
       "\n",
       "    .dataframe tbody tr th {\n",
       "        vertical-align: top;\n",
       "    }\n",
       "\n",
       "    .dataframe thead th {\n",
       "        text-align: right;\n",
       "    }\n",
       "</style>\n",
       "<table border=\"1\" class=\"dataframe\">\n",
       "  <thead>\n",
       "    <tr style=\"text-align: right;\">\n",
       "      <th></th>\n",
       "      <th>brand</th>\n",
       "      <th>des</th>\n",
       "      <th>price</th>\n",
       "      <th>discount</th>\n",
       "    </tr>\n",
       "  </thead>\n",
       "  <tbody>\n",
       "    <tr>\n",
       "      <th>0</th>\n",
       "      <td>Fzzirok</td>\n",
       "      <td>Fzzirok</td>\n",
       "      <td>₹420</td>\n",
       "      <td>57% off</td>\n",
       "    </tr>\n",
       "    <tr>\n",
       "      <th>1</th>\n",
       "      <td>Fzzirok</td>\n",
       "      <td>Fzzirok</td>\n",
       "      <td>₹499</td>\n",
       "      <td>50% off</td>\n",
       "    </tr>\n",
       "    <tr>\n",
       "      <th>2</th>\n",
       "      <td>Chevit</td>\n",
       "      <td>Chevit</td>\n",
       "      <td>₹499</td>\n",
       "      <td>72% off</td>\n",
       "    </tr>\n",
       "    <tr>\n",
       "      <th>3</th>\n",
       "      <td>Robbie jones</td>\n",
       "      <td>Robbie jones</td>\n",
       "      <td>₹399</td>\n",
       "      <td>60% off</td>\n",
       "    </tr>\n",
       "    <tr>\n",
       "      <th>4</th>\n",
       "      <td>Chevit</td>\n",
       "      <td>Chevit</td>\n",
       "      <td>₹474</td>\n",
       "      <td>76% off</td>\n",
       "    </tr>\n",
       "    <tr>\n",
       "      <th>5</th>\n",
       "      <td>ORICUM</td>\n",
       "      <td>ORICUM</td>\n",
       "      <td>₹398</td>\n",
       "      <td>60% off</td>\n",
       "    </tr>\n",
       "    <tr>\n",
       "      <th>6</th>\n",
       "      <td>aadi</td>\n",
       "      <td>aadi</td>\n",
       "      <td>₹298</td>\n",
       "      <td>70% off</td>\n",
       "    </tr>\n",
       "    <tr>\n",
       "      <th>7</th>\n",
       "      <td>Robbie jones</td>\n",
       "      <td>Robbie jones</td>\n",
       "      <td>₹499</td>\n",
       "      <td>50% off</td>\n",
       "    </tr>\n",
       "    <tr>\n",
       "      <th>8</th>\n",
       "      <td>Chevit</td>\n",
       "      <td>Chevit</td>\n",
       "      <td>₹420</td>\n",
       "      <td>57% off</td>\n",
       "    </tr>\n",
       "    <tr>\n",
       "      <th>9</th>\n",
       "      <td>Red Rose</td>\n",
       "      <td>Red Rose</td>\n",
       "      <td>₹379</td>\n",
       "      <td>62% off</td>\n",
       "    </tr>\n",
       "    <tr>\n",
       "      <th>10</th>\n",
       "      <td>Shoes Bank</td>\n",
       "      <td>Shoes Bank</td>\n",
       "      <td>₹349</td>\n",
       "      <td>65% off</td>\n",
       "    </tr>\n",
       "    <tr>\n",
       "      <th>11</th>\n",
       "      <td>Chevit</td>\n",
       "      <td>Chevit</td>\n",
       "      <td>₹420</td>\n",
       "      <td>78% off</td>\n",
       "    </tr>\n",
       "    <tr>\n",
       "      <th>12</th>\n",
       "      <td>Chevit</td>\n",
       "      <td>Chevit</td>\n",
       "      <td>₹254</td>\n",
       "      <td>74% off</td>\n",
       "    </tr>\n",
       "    <tr>\n",
       "      <th>13</th>\n",
       "      <td>richerson</td>\n",
       "      <td>richerson</td>\n",
       "      <td>₹479</td>\n",
       "      <td>52% off</td>\n",
       "    </tr>\n",
       "    <tr>\n",
       "      <th>14</th>\n",
       "      <td>ROCKFIELD</td>\n",
       "      <td>ROCKFIELD</td>\n",
       "      <td>₹379</td>\n",
       "      <td>62% off</td>\n",
       "    </tr>\n",
       "    <tr>\n",
       "      <th>15</th>\n",
       "      <td>RED CHIEF</td>\n",
       "      <td>RED CHIEF</td>\n",
       "      <td>₹1,754</td>\n",
       "      <td>55% off</td>\n",
       "    </tr>\n",
       "    <tr>\n",
       "      <th>16</th>\n",
       "      <td>\"trend\"</td>\n",
       "      <td>\"trend\"</td>\n",
       "      <td>₹479</td>\n",
       "      <td>88% off</td>\n",
       "    </tr>\n",
       "    <tr>\n",
       "      <th>17</th>\n",
       "      <td>ROCKFIELD</td>\n",
       "      <td>ROCKFIELD</td>\n",
       "      <td>₹396</td>\n",
       "      <td>60% off</td>\n",
       "    </tr>\n",
       "    <tr>\n",
       "      <th>18</th>\n",
       "      <td>Chevit</td>\n",
       "      <td>Chevit</td>\n",
       "      <td>₹322</td>\n",
       "      <td>67% off</td>\n",
       "    </tr>\n",
       "    <tr>\n",
       "      <th>19</th>\n",
       "      <td>ELISEO</td>\n",
       "      <td>ELISEO</td>\n",
       "      <td>₹569</td>\n",
       "      <td>43% off</td>\n",
       "    </tr>\n",
       "    <tr>\n",
       "      <th>20</th>\n",
       "      <td>Stefano Rads</td>\n",
       "      <td>Stefano Rads</td>\n",
       "      <td>₹242</td>\n",
       "      <td>65% off</td>\n",
       "    </tr>\n",
       "    <tr>\n",
       "      <th>21</th>\n",
       "      <td>Birde</td>\n",
       "      <td>Birde</td>\n",
       "      <td>₹299</td>\n",
       "      <td>40% off</td>\n",
       "    </tr>\n",
       "    <tr>\n",
       "      <th>22</th>\n",
       "      <td>HOTSTYLE</td>\n",
       "      <td>HOTSTYLE</td>\n",
       "      <td>₹199</td>\n",
       "      <td>60% off</td>\n",
       "    </tr>\n",
       "    <tr>\n",
       "      <th>23</th>\n",
       "      <td>Chevit</td>\n",
       "      <td>Chevit</td>\n",
       "      <td>₹299</td>\n",
       "      <td>62% off</td>\n",
       "    </tr>\n",
       "    <tr>\n",
       "      <th>24</th>\n",
       "      <td>Echor</td>\n",
       "      <td>Echor</td>\n",
       "      <td>₹570</td>\n",
       "      <td>42% off</td>\n",
       "    </tr>\n",
       "    <tr>\n",
       "      <th>25</th>\n",
       "      <td>Chevit</td>\n",
       "      <td>Chevit</td>\n",
       "      <td>₹211</td>\n",
       "      <td>57% off</td>\n",
       "    </tr>\n",
       "    <tr>\n",
       "      <th>26</th>\n",
       "      <td>Magnolia</td>\n",
       "      <td>Magnolia</td>\n",
       "      <td>₹323</td>\n",
       "      <td>67% off</td>\n",
       "    </tr>\n",
       "    <tr>\n",
       "      <th>27</th>\n",
       "      <td>believe</td>\n",
       "      <td>believe</td>\n",
       "      <td>₹446</td>\n",
       "      <td>55% off</td>\n",
       "    </tr>\n",
       "    <tr>\n",
       "      <th>28</th>\n",
       "      <td>SCATCHITE</td>\n",
       "      <td>SCATCHITE</td>\n",
       "      <td>₹398</td>\n",
       "      <td>60% off</td>\n",
       "    </tr>\n",
       "    <tr>\n",
       "      <th>29</th>\n",
       "      <td>Encanto</td>\n",
       "      <td>Encanto</td>\n",
       "      <td>₹402</td>\n",
       "      <td>73% off</td>\n",
       "    </tr>\n",
       "    <tr>\n",
       "      <th>30</th>\n",
       "      <td>TR</td>\n",
       "      <td>TR</td>\n",
       "      <td>₹599</td>\n",
       "      <td>70% off</td>\n",
       "    </tr>\n",
       "    <tr>\n",
       "      <th>31</th>\n",
       "      <td>PUMA</td>\n",
       "      <td>PUMA</td>\n",
       "      <td>₹2,799</td>\n",
       "      <td>53% off</td>\n",
       "    </tr>\n",
       "    <tr>\n",
       "      <th>32</th>\n",
       "      <td>Robbie jones</td>\n",
       "      <td>Robbie jones</td>\n",
       "      <td>₹499</td>\n",
       "      <td>50% off</td>\n",
       "    </tr>\n",
       "    <tr>\n",
       "      <th>33</th>\n",
       "      <td>BLACK BOTTOM</td>\n",
       "      <td>BLACK BOTTOM</td>\n",
       "      <td>₹449</td>\n",
       "      <td>55% off</td>\n",
       "    </tr>\n",
       "    <tr>\n",
       "      <th>34</th>\n",
       "      <td>Ktiz</td>\n",
       "      <td>Ktiz</td>\n",
       "      <td>₹418</td>\n",
       "      <td>67% off</td>\n",
       "    </tr>\n",
       "    <tr>\n",
       "      <th>35</th>\n",
       "      <td>Zsyto</td>\n",
       "      <td>Zsyto</td>\n",
       "      <td>₹398</td>\n",
       "      <td>69% off</td>\n",
       "    </tr>\n",
       "    <tr>\n",
       "      <th>36</th>\n",
       "      <td>Raftar</td>\n",
       "      <td>Raftar</td>\n",
       "      <td>₹311</td>\n",
       "      <td>68% off</td>\n",
       "    </tr>\n",
       "    <tr>\n",
       "      <th>37</th>\n",
       "      <td>Echor</td>\n",
       "      <td>Echor</td>\n",
       "      <td>₹570</td>\n",
       "      <td>42% off</td>\n",
       "    </tr>\n",
       "    <tr>\n",
       "      <th>38</th>\n",
       "      <td>Chevit</td>\n",
       "      <td>Chevit</td>\n",
       "      <td>₹594</td>\n",
       "      <td>74% off</td>\n",
       "    </tr>\n",
       "    <tr>\n",
       "      <th>39</th>\n",
       "      <td>Robbie jones</td>\n",
       "      <td>Robbie jones</td>\n",
       "      <td>₹499</td>\n",
       "      <td>50% off</td>\n",
       "    </tr>\n",
       "  </tbody>\n",
       "</table>\n",
       "</div>"
      ],
      "text/plain": [
       "           brand           des   price discount\n",
       "0        Fzzirok       Fzzirok    ₹420  57% off\n",
       "1        Fzzirok       Fzzirok    ₹499  50% off\n",
       "2         Chevit        Chevit    ₹499  72% off\n",
       "3   Robbie jones  Robbie jones    ₹399  60% off\n",
       "4         Chevit        Chevit    ₹474  76% off\n",
       "5         ORICUM        ORICUM    ₹398  60% off\n",
       "6           aadi          aadi    ₹298  70% off\n",
       "7   Robbie jones  Robbie jones    ₹499  50% off\n",
       "8         Chevit        Chevit    ₹420  57% off\n",
       "9       Red Rose      Red Rose    ₹379  62% off\n",
       "10    Shoes Bank    Shoes Bank    ₹349  65% off\n",
       "11        Chevit        Chevit    ₹420  78% off\n",
       "12        Chevit        Chevit    ₹254  74% off\n",
       "13     richerson     richerson    ₹479  52% off\n",
       "14     ROCKFIELD     ROCKFIELD    ₹379  62% off\n",
       "15     RED CHIEF     RED CHIEF  ₹1,754  55% off\n",
       "16       \"trend\"       \"trend\"    ₹479  88% off\n",
       "17     ROCKFIELD     ROCKFIELD    ₹396  60% off\n",
       "18        Chevit        Chevit    ₹322  67% off\n",
       "19        ELISEO        ELISEO    ₹569  43% off\n",
       "20  Stefano Rads  Stefano Rads    ₹242  65% off\n",
       "21         Birde         Birde    ₹299  40% off\n",
       "22      HOTSTYLE      HOTSTYLE    ₹199  60% off\n",
       "23        Chevit        Chevit    ₹299  62% off\n",
       "24         Echor         Echor    ₹570  42% off\n",
       "25        Chevit        Chevit    ₹211  57% off\n",
       "26      Magnolia      Magnolia    ₹323  67% off\n",
       "27       believe       believe    ₹446  55% off\n",
       "28     SCATCHITE     SCATCHITE    ₹398  60% off\n",
       "29       Encanto       Encanto    ₹402  73% off\n",
       "30            TR            TR    ₹599  70% off\n",
       "31          PUMA          PUMA  ₹2,799  53% off\n",
       "32  Robbie jones  Robbie jones    ₹499  50% off\n",
       "33  BLACK BOTTOM  BLACK BOTTOM    ₹449  55% off\n",
       "34          Ktiz          Ktiz    ₹418  67% off\n",
       "35         Zsyto         Zsyto    ₹398  69% off\n",
       "36        Raftar        Raftar    ₹311  68% off\n",
       "37         Echor         Echor    ₹570  42% off\n",
       "38        Chevit        Chevit    ₹594  74% off\n",
       "39  Robbie jones  Robbie jones    ₹499  50% off"
      ]
     },
     "execution_count": 307,
     "metadata": {},
     "output_type": "execute_result"
    }
   ],
   "source": [
    "sneakers"
   ]
  },
  {
   "cell_type": "code",
   "execution_count": null,
   "metadata": {},
   "outputs": [],
   "source": [
    "#Closing the driver\n",
    "driver.close()"
   ]
  },
  {
   "cell_type": "markdown",
   "metadata": {},
   "source": [
    "## Q9: Go to the link - https://www.myntra.com/shoes Set Price filter to “Rs. 6649 to Rs. 13099” , Color filter to “Black”And then scrape First 100 shoes data you get. "
   ]
  },
  {
   "cell_type": "code",
   "execution_count": null,
   "metadata": {},
   "outputs": [],
   "source": [
    "#Importing required libraries\n",
    "import pandas as pd\n",
    "import selenium\n",
    "from selenium import webdriver\n",
    "from selenium.common.exceptions import NoSuchElementException"
   ]
  },
  {
   "cell_type": "code",
   "execution_count": null,
   "metadata": {},
   "outputs": [],
   "source": [
    "#Connect to web driver\n",
    "driver = webdriver.Chrome(\"C://chromedriver.exe\")"
   ]
  },
  {
   "cell_type": "code",
   "execution_count": null,
   "metadata": {},
   "outputs": [],
   "source": [
    "#specifying the url of the webpage to be scraped\n",
    "url=\"https://www.myntra.com/shoes\""
   ]
  },
  {
   "cell_type": "code",
   "execution_count": 172,
   "metadata": {},
   "outputs": [],
   "source": [
    "#opening the webpage through our driver\n",
    "driver.get(url)"
   ]
  },
  {
   "cell_type": "code",
   "execution_count": 173,
   "metadata": {},
   "outputs": [],
   "source": [
    "#clicking on price filter\n",
    "driver.find_element_by_xpath('//*[@id=\"mountRoot\"]/div/div[1]/main/div[3]/div[1]/section/div/div[5]/ul/li[2]/label/div').click()"
   ]
  },
  {
   "cell_type": "code",
   "execution_count": 174,
   "metadata": {},
   "outputs": [],
   "source": [
    "#clicking on color filter\n",
    "driver.find_element_by_xpath('//*[@id=\"mountRoot\"]/div/div[1]/main/div[3]/div[1]/section/div/div[6]/ul/li[1]/label/div').click()"
   ]
  },
  {
   "cell_type": "code",
   "execution_count": 175,
   "metadata": {},
   "outputs": [],
   "source": [
    "#creating the empty lists\n",
    "Brand=[]\n",
    "Product_Description=[]\n",
    "Price=[]"
   ]
  },
  {
   "cell_type": "code",
   "execution_count": 177,
   "metadata": {},
   "outputs": [],
   "source": [
    "#getting the list of url of first 100 shoes\n",
    "URL=[]\n",
    "for i in range(0,2):\n",
    "    shoes=driver.find_elements_by_xpath(\"//li[@class='product-base']\")\n",
    "    for i in shoes:\n",
    "        #shoes1=i.find_element_by_tag_name(\"div\")\n",
    "        #shoes2=shoes1.find_element_by_tag_name(\"div\")\n",
    "        shoes3=i.find_element_by_tag_name(\"a\")\n",
    "        URL.append(shoes3.get_attribute('href'))\n",
    "    driver.find_element_by_xpath('//*[@id=\"desktopSearchResults\"]/div[2]/section/div[2]/ul/li[3]/a').click()\n",
    "    time.sleep(3)"
   ]
  },
  {
   "cell_type": "code",
   "execution_count": 178,
   "metadata": {},
   "outputs": [
    {
     "data": {
      "text/plain": [
       "['https://www.myntra.com/casual-shoes/puma/puma-men-black-sneakers/11335336/buy',\n",
       " 'https://www.myntra.com/casual-shoes/highlander/highlander-men-black-sneakers/11097168/buy',\n",
       " 'https://www.myntra.com/casual-shoes/locomotive/locomotive-men-black-sneakers/9525547/buy',\n",
       " 'https://www.myntra.com/casual-shoes/mactree/mactree-men-black-sneakers/11100830/buy',\n",
       " 'https://www.myntra.com/casual-shoes/mactree/mactree-men-black-sneakers/9620463/buy',\n",
       " 'https://www.myntra.com/casual-shoes/highlander/highlander-men-black-sneakers/11097164/buy',\n",
       " 'https://www.myntra.com/casual-shoes/puma/puma-unisex-black-smash-v2-leather-sneakers/8128801/buy',\n",
       " 'https://www.myntra.com/casual-shoes/mrwonker/mrwonker-men-black-colourblocked-mesh-mid-top-sneakers/12977992/buy',\n",
       " 'https://www.myntra.com/casual-shoes/hm/hm-men-black-fully-fashioned-trainers/11655040/buy',\n",
       " 'https://www.myntra.com/casual-shoes/red-tape/red-tape-men-black-solid-leather-high-top-flat-boots/11790178/buy',\n",
       " 'https://www.myntra.com/casual-shoes/highlander/highlander-men-black-sneakers/12067996/buy',\n",
       " 'https://www.myntra.com/casual-shoes/mrwonker/mrwonker-men-black--grey-colourblocked-mesh-mid-top-sneakers/12978000/buy',\n",
       " 'https://www.myntra.com/casual-shoes/nike/nike-men-black-court-royale-ac-leather-sneakers/8194339/buy',\n",
       " 'https://www.myntra.com/casual-shoes/fentacia/fentacia-men-black-solid-synthetic-leather-lightweight-high-top-flat-boots/12447262/buy',\n",
       " 'https://www.myntra.com/casual-shoes/woakers/woakers-men-black-colourblocked-sneakers/12833184/buy',\n",
       " 'https://www.myntra.com/casual-shoes/bacca-bucci/bacca-bucci-men-black-sneakers/10705780/buy',\n",
       " 'https://www.myntra.com/casual-shoes/puma/puma-men-black-sneakers/2353337/buy',\n",
       " 'https://www.myntra.com/casual-shoes/puma/puma-men-black-solid-rebound-bbx-perf-idp-mid-top-sneakers/10252859/buy',\n",
       " 'https://www.myntra.com/casual-shoes/afrojack/afrojack-men-black--white-colourblocked-sneakers/12681056/buy',\n",
       " 'https://www.myntra.com/casual-shoes/big-fox/big-fox-men-black-suede-loafers/11403540/buy',\n",
       " 'https://www.myntra.com/casual-shoes/adidas-originals/adidas-originals-men-black-perforated-superstar-sneakers/12709158/buy',\n",
       " 'https://www.myntra.com/casual-shoes/mactree/mactree-men-black-sneakers/12384022/buy',\n",
       " 'https://www.myntra.com/casual-shoes/peak/peak-men-black-sneakers/10702952/buy',\n",
       " 'https://www.myntra.com/casual-shoes/flying-machine/flying-machine-men-black-mid-top-sneakers/11367688/buy',\n",
       " 'https://www.myntra.com/casual-shoes/sir-corbett/sir-corbett-men-black-casual-shoes/1176389/buy',\n",
       " 'https://www.myntra.com/casual-shoes/shoexpress/shoexpress-men-black-solid-driving-loafers/13257896/buy',\n",
       " 'https://www.myntra.com/casual-shoes/nike/nike-men-black-kaishi-sneakers/9082749/buy',\n",
       " 'https://www.myntra.com/casual-shoes/mactree/mactree-men-black-sneakers/10361207/buy',\n",
       " 'https://www.myntra.com/casual-shoes/eego-italy/eego-italy-men-black-flat-boots/12497812/buy',\n",
       " 'https://www.myntra.com/casual-shoes/puma/puma-men-black-electron-sneakers/7073047/buy',\n",
       " 'https://www.myntra.com/casual-shoes/kook-n-keech/kook-n-keech-men-black-sneakers/8908659/buy',\n",
       " 'https://www.myntra.com/casual-shoes/nike/nike-men-black-tanjun-sneakers/1694881/buy',\n",
       " 'https://www.myntra.com/casual-shoes/cole-haan/cole-haan-men-black-leather-sneakers/11430542/buy',\n",
       " 'https://www.myntra.com/casual-shoes/flying-machine/flying-machine-men-black-sneakers/11381320/buy',\n",
       " 'https://www.myntra.com/casual-shoes/flying-machine/flying-machine-men-black-sneakers/10330273/buy',\n",
       " 'https://www.myntra.com/casual-shoes/aditi-wasan/aditi-wasan-men-black-sneakers/11212600/buy',\n",
       " 'https://www.myntra.com/casual-shoes/flying-machine/flying-machine-men-black-woven-design-mid-top-sneakers/11367680/buy',\n",
       " 'https://www.myntra.com/casual-shoes/mactree/mactree-men-black-solid-leather-mid-top-flat-boots/10548010/buy',\n",
       " 'https://www.myntra.com/casual-shoes/flying-machine/flying-machine-men-black-woven-design-mid-top-sneakers/10599482/buy',\n",
       " 'https://www.myntra.com/casual-shoes/arrow/arrow-men-black-durk-20-driving-shoes/11762438/buy',\n",
       " 'https://www.myntra.com/casual-shoes/avaens/avaens-men-black-textured-driving-shoes/13017046/buy',\n",
       " 'https://www.myntra.com/casual-shoes/fentacia/fentacia-men-black-solid-synthetic-suede-high-top-flat-boots/12778246/buy',\n",
       " 'https://www.myntra.com/casual-shoes/nike/nike-men-black-air-max-advantage-3-sneakers/9798239/buy',\n",
       " 'https://www.myntra.com/casual-shoes/wrogn/wrogn-men-black--grey-slip-on-sneakers/13186540/buy',\n",
       " 'https://www.myntra.com/casual-shoes/nike/nike-men-black-dbreak-type-sneakers/11652634/buy',\n",
       " 'https://www.myntra.com/casual-shoes/mactree/mactree-men-black-woven-design-sneakers/12225148/buy',\n",
       " 'https://www.myntra.com/casual-shoes/adidas-originals/adidas-originals-men-black-woven-design-nite-jogger-sneakers/11353040/buy',\n",
       " 'https://www.myntra.com/casual-shoes/puma/puma-men-black-mesh-sneakers/10412488/buy',\n",
       " 'https://www.myntra.com/casual-shoes/hrx-by-hrithik-roshan/hrx-by-hrithik-roshan-men-black-solid-chunky-sneakers/10492758/buy',\n",
       " 'https://www.myntra.com/casual-shoes/mactree/mactree-men-black-slip-on-sneakers/11183168/buy',\n",
       " 'https://www.myntra.com/sports-shoes/nike/nike-unisex-black-lebron-xviii-basketball-shoes/12738368/buy',\n",
       " 'https://www.myntra.com/casual-shoes/puma/puma-men-black-mesh-sneakers/10412478/buy',\n",
       " 'https://www.myntra.com/sports-shoes/adidas/adidas-men-black--grey-woven-design-sturds-running-shoes/13444656/buy',\n",
       " 'https://www.myntra.com/formal-shoes/red-tape/red-tape-men-black-solid-leather-formal-derbys/11644742/buy',\n",
       " 'https://www.myntra.com/casual-shoes/levis/levis-men-black-bonn-sneakers/11368872/buy',\n",
       " 'https://www.myntra.com/casual-shoes/big-fox/big-fox-men-black-suede-loafers/11403540/buy',\n",
       " 'https://www.myntra.com/sports-shoes/red-tape/red-tape-men-black-mesh-walking-shoes/13785832/buy',\n",
       " 'https://www.myntra.com/flats/liberty/liberty-women-black-printed-one-toe-flats/12451774/buy',\n",
       " 'https://www.myntra.com/casual-shoes/puma/puma-men-black-whisk-idp-sneakers/11335070/buy',\n",
       " 'https://www.myntra.com/sports-shoes/nike/nike-unisex-black-lebron-xviii-basketball-shoes/12738520/buy',\n",
       " 'https://www.myntra.com/casual-shoes/mactree/mactree-men-black-sneakers/11100830/buy',\n",
       " 'https://www.myntra.com/sports-shoes/red-tape/red-tape-men-black-walking-shoes/12972702/buy',\n",
       " 'https://www.myntra.com/sports-shoes/sparx/sparx-men-black-mesh-running-shoes/11428026/buy',\n",
       " 'https://www.myntra.com/formal-shoes/sir-corbett/sir-corbett-men-black-semiformal-shoes/1176382/buy',\n",
       " 'https://www.myntra.com/sports-shoes/nike/nike-men-black-kd13-ep-mid-top-basketball-shoes/11980028/buy',\n",
       " 'https://www.myntra.com/sports-shoes/red-tape/red-tape-men-black-mesh-walking-shoes/13785814/buy',\n",
       " 'https://www.myntra.com/casual-shoes/hm/-hm-men-white--black-canvas-hi-top-trainers/13965274/buy',\n",
       " 'https://www.myntra.com/heels/catwalk/catwalk-women-black--beige-solid-sandals/8607853/buy',\n",
       " 'https://www.myntra.com/flats/dressberry/dressberry-women-black--gunmetal-toned-braided-open-toe-flats/13162812/buy',\n",
       " 'https://www.myntra.com/sports-shoes/hrx-by-hrithik-roshan/hrx-by-hrithik-roshan-men-black-mesh-running-shoes/11952904/buy',\n",
       " 'https://www.myntra.com/sports-shoes/nike/nike-women-black-air-zoom-vomero-14-running-shoes/11652644/buy',\n",
       " 'https://www.myntra.com/sports-shoes/sparx/sparx-men-black-mesh-running-shoes/12195460/buy',\n",
       " 'https://www.myntra.com/sports-shoes/nike/nike-men-black-air-zoom-vomero-15-running-shoes/13327908/buy',\n",
       " 'https://www.myntra.com/sports-shoes/allen-cooper/allen-cooper-men-black-solid-mesh-running-shoes/11472020/buy',\n",
       " 'https://www.myntra.com/casual-shoes/puma/puma-men-black--lime-green-solid-walking-shoes/13072096/buy',\n",
       " 'https://www.myntra.com/casual-shoes/nike/nike-men-black-kaishi-sneakers/9082749/buy',\n",
       " 'https://www.myntra.com/casual-shoes/san-frissco/san-frissco-men-leather-sneakers/13864972/buy',\n",
       " 'https://www.myntra.com/casual-shoes/hrx-by-hrithik-roshan/hrx-by-hrithik-roshan-men-black-skate-street-sneaker/12126776/buy',\n",
       " 'https://www.myntra.com/formal-shoes/hush-puppies/hush-puppies-men-black-solid-leather-formal-slip-ons/12452162/buy',\n",
       " 'https://www.myntra.com/sports-shoes/nike/nike-women-black-free-rn-50-running-shoes/11980094/buy',\n",
       " 'https://www.myntra.com/flats/shezone/shezone-women-black--beige-animal-printed-ballerinas/12721072/buy',\n",
       " 'https://www.myntra.com/heels/zapatoz/zapatoz-women-black-solid-heeled-boots/12309748/buy',\n",
       " 'https://www.myntra.com/casual-shoes/red-tape/red-tape-men-black-sneakers/7189880/buy',\n",
       " 'https://www.myntra.com/sports-shoes/afrojack/afrojack-men-black-running-shoes/12294432/buy',\n",
       " 'https://www.myntra.com/sports-shoes/nabaiji-by-decathlon/nabaiji-by-decathlon-unisex-black-synthetic-aerobics-shoes/13926008/buy',\n",
       " 'https://www.myntra.com/casual-shoes/puma/puma-men-black--white-softfoam-mover-slip-on-sneakers/13486178/buy',\n",
       " 'https://www.myntra.com/heels/catwalk/catwalk-women-black-solid-heels/8607635/buy',\n",
       " 'https://www.myntra.com/sports-shoes/campus/campus-syrus-men-black--white-mesh-running-shoes/12109926/buy',\n",
       " 'https://www.myntra.com/casual-shoes/puma/puma-men-black-sneakers/13150240/buy',\n",
       " 'https://www.myntra.com/heels/marc-loire/marc-loire-women-black-shimmer-block-heels/4368681/buy',\n",
       " 'https://www.myntra.com/casual-shoes/fentacia/fentacia-men-black-loafers/13926798/buy',\n",
       " 'https://www.myntra.com/sports-shoes/campus/campus-men-black-flying-fury-mesh-running-shoes/13883514/buy',\n",
       " 'https://www.myntra.com/casual-shoes/hm/hm-men-black-canvas-sneakers/11953624/buy',\n",
       " 'https://www.myntra.com/sports-shoes/us-polo-assn/us-polo-assn-men-black-walking-shoes/13069568/buy',\n",
       " 'https://www.myntra.com/sports-shoes/campus/campus-men-black-mesh-running-shoes/12745566/buy',\n",
       " 'https://www.myntra.com/casual-shoes/hm/hm-men-black-canvas-trainers/13965288/buy',\n",
       " 'https://www.myntra.com/formal-shoes/fentacia/fentacia-men-black-textured-formal-slip-on-shoes/11309358/buy',\n",
       " 'https://www.myntra.com/sports-shoes/nike/nike-women-black--grey-city-trainer-2-training-shoes/11045566/buy',\n",
       " 'https://www.myntra.com/sports-shoes/campus/campus-men-black-flying-fury-mesh-mid-top-running-shoes/13883522/buy',\n",
       " 'https://www.myntra.com/heels/buckleup/buckleup-women-black-solid-pumps/13786394/buy']"
      ]
     },
     "execution_count": 178,
     "metadata": {},
     "output_type": "execute_result"
    }
   ],
   "source": [
    "URL"
   ]
  },
  {
   "cell_type": "code",
   "execution_count": 179,
   "metadata": {},
   "outputs": [
    {
     "data": {
      "text/plain": [
       "100"
      ]
     },
     "execution_count": 179,
     "metadata": {},
     "output_type": "execute_result"
    }
   ],
   "source": [
    "#checking the length of url's\n",
    "len(URL)"
   ]
  },
  {
   "cell_type": "code",
   "execution_count": 180,
   "metadata": {},
   "outputs": [],
   "source": [
    "#going to the url of first shoes through our driver\n",
    "driver.get(URL[0])"
   ]
  },
  {
   "cell_type": "code",
   "execution_count": null,
   "metadata": {},
   "outputs": [],
   "source": [
    "#running a loop to extract all the required information from the list_of_url\n",
    "from tqdm import tqdm\n",
    "for i in tqdm(URL):\n",
    "    driver.get(i)\n",
    "    try:\n",
    "        brand=driver.find_element_by_xpath('//*[@id=\"mountRoot\"]/div/div/div/main/div[2]/div[2]/div[1]/h1[1]').text\n",
    "        Brand.append(brand)\n",
    "    except NoSuchElementException:\n",
    "        Brand.append(\"Null\")\n",
    "    try:\n",
    "        description=driver.find_element_by_xpath('//*[@id=\"mountRoot\"]/div/div/div/main/div[2]/div[2]/div[1]/h1[2]').text\n",
    "        Product_Description.append(description)\n",
    "    except NoSuchElementException:\n",
    "        Product_Description.append(\"Null\")\n",
    "    try:\n",
    "        price=driver.find_element_by_xpath('//*[@id=\"mountRoot\"]/div/div/div/main/div[2]/div[2]/div[1]/p[1]/span[1]/strong').text\n",
    "        Price.append(price)\n",
    "    except NoSuchElementException:\n",
    "        Price.append(\"Null\")\n",
    "    time.sleep(3)"
   ]
  },
  {
   "cell_type": "code",
   "execution_count": 182,
   "metadata": {},
   "outputs": [
    {
     "data": {
      "text/plain": [
       "['Puma',\n",
       " 'HIGHLANDER',\n",
       " 'LOCOMOTIVE',\n",
       " 'Mactree',\n",
       " 'Mactree',\n",
       " 'HIGHLANDER',\n",
       " 'Puma',\n",
       " 'mr.wonker',\n",
       " 'H&M',\n",
       " 'Red Tape',\n",
       " 'HIGHLANDER',\n",
       " 'mr.wonker',\n",
       " 'Nike',\n",
       " 'Fentacia',\n",
       " 'Woakers',\n",
       " 'bacca bucci',\n",
       " 'Puma',\n",
       " 'Puma',\n",
       " 'AfroJack',\n",
       " 'Big Fox',\n",
       " 'ADIDAS Originals',\n",
       " 'Mactree',\n",
       " 'PEAK',\n",
       " 'Flying Machine',\n",
       " 'Sir Corbett',\n",
       " 'shoexpress',\n",
       " 'Nike',\n",
       " 'Mactree',\n",
       " 'Eego Italy',\n",
       " 'Puma',\n",
       " 'Kook N Keech',\n",
       " 'Nike',\n",
       " 'Cole Haan',\n",
       " 'Flying Machine',\n",
       " 'Flying Machine',\n",
       " 'Aditi Wasan',\n",
       " 'Flying Machine',\n",
       " 'Mactree',\n",
       " 'Flying Machine',\n",
       " 'Arrow',\n",
       " 'AVAENS']"
      ]
     },
     "execution_count": 182,
     "metadata": {},
     "output_type": "execute_result"
    }
   ],
   "source": [
    "Brand"
   ]
  },
  {
   "cell_type": "code",
   "execution_count": 183,
   "metadata": {},
   "outputs": [
    {
     "data": {
      "text/plain": [
       "['Men Black Sneakers',\n",
       " 'Men Black Sneakers',\n",
       " 'Men Black Sneakers',\n",
       " 'Men Black Sneakers',\n",
       " 'Men Black Sneakers',\n",
       " 'Men Black Sneakers',\n",
       " 'Unisex Black Smash v2 Leather Sneakers',\n",
       " 'Men Black Colourblocked Mesh Mid-Top Sneakers',\n",
       " 'Men Black Fully-fashioned trainers',\n",
       " 'Men Black Solid Leather High-Top Flat Boots',\n",
       " 'Men Black Sneakers',\n",
       " 'Men Black & Grey Colourblocked Mesh Mid-Top Sneakers',\n",
       " 'Men Black COURT ROYALE AC Leather Sneakers',\n",
       " 'Men Black Solid Synthetic Leather Lightweight High-Top Flat Boots',\n",
       " 'Men Black Colourblocked Sneakers',\n",
       " 'Men Black Sneakers',\n",
       " 'Men Black Sneakers',\n",
       " 'Men Black Solid Rebound BBX Perf IDP Mid-Top Sneakers',\n",
       " 'Men Black & White Colourblocked Sneakers',\n",
       " 'Men Black Suede Loafers',\n",
       " 'Men Black Perforated Superstar Sneakers',\n",
       " 'Men Black Sneakers',\n",
       " 'Men Black Sneakers',\n",
       " 'Men Black Mid-Top Sneakers',\n",
       " 'Men Black Casual Shoes',\n",
       " 'Men Black Solid Driving Loafers',\n",
       " 'Men Black KAISHI Sneakers',\n",
       " 'Men Black Sneakers',\n",
       " 'Men Black Flat Boots',\n",
       " 'Men Black Electron Sneakers',\n",
       " 'Men Black Sneakers',\n",
       " 'Men Black Tanjun Sneakers',\n",
       " 'Men Black Leather Sneakers',\n",
       " 'Men Black Sneakers',\n",
       " 'Men Black Sneakers',\n",
       " 'Men Black Sneakers',\n",
       " 'Men Black Woven Design Mid-Top Sneakers',\n",
       " 'Men Black Solid Leather Mid-Top Flat Boots',\n",
       " 'Men Black Woven Design Mid-Top Sneakers',\n",
       " 'Men Black DURK 2.0 Driving Shoes',\n",
       " 'Men Black Textured Driving Shoes']"
      ]
     },
     "execution_count": 183,
     "metadata": {},
     "output_type": "execute_result"
    }
   ],
   "source": [
    "Product_Description"
   ]
  },
  {
   "cell_type": "code",
   "execution_count": 184,
   "metadata": {},
   "outputs": [
    {
     "data": {
      "text/plain": [
       "['Rs. 2099',\n",
       " 'Rs. 995',\n",
       " 'Rs. 796',\n",
       " 'Rs. 649',\n",
       " 'Rs. 649',\n",
       " 'Rs. 995',\n",
       " 'Rs. 3499',\n",
       " 'Rs. 699',\n",
       " 'Rs. 2999',\n",
       " 'Rs. 2299',\n",
       " 'Rs. 895',\n",
       " 'Rs. 699',\n",
       " 'Rs. 3596',\n",
       " 'Rs. 1399',\n",
       " 'Rs. 647',\n",
       " 'Rs. 1124',\n",
       " 'Rs. 2279',\n",
       " 'Rs. 3499',\n",
       " 'Rs. 599',\n",
       " 'Rs. 679',\n",
       " 'Rs. 8799',\n",
       " 'Rs. 649',\n",
       " 'Rs. 2159',\n",
       " 'Rs. 1899',\n",
       " 'Rs. 890',\n",
       " 'Rs. 1786',\n",
       " 'Rs. 2747',\n",
       " 'Rs. 649',\n",
       " 'Rs. 1499',\n",
       " 'Rs. 3999',\n",
       " 'Rs. 1124',\n",
       " 'Rs. 3596',\n",
       " 'Rs. 25999',\n",
       " 'Rs. 1699',\n",
       " 'Rs. 1599',\n",
       " 'Rs. 1279',\n",
       " 'Rs. 1699',\n",
       " 'Rs. 997',\n",
       " 'Rs. 1799',\n",
       " 'Rs. 2399',\n",
       " 'Rs. 629']"
      ]
     },
     "execution_count": 184,
     "metadata": {},
     "output_type": "execute_result"
    }
   ],
   "source": [
    "Price"
   ]
  },
  {
   "cell_type": "code",
   "execution_count": 185,
   "metadata": {},
   "outputs": [
    {
     "name": "stdout",
     "output_type": "stream",
     "text": [
      "41 41 41\n"
     ]
    }
   ],
   "source": [
    "#printing length\n",
    "print(len(Brand),len(Product_Description),len(Price))"
   ]
  },
  {
   "cell_type": "code",
   "execution_count": 186,
   "metadata": {},
   "outputs": [],
   "source": [
    "#creating a dataframe\n",
    "\n",
    "Shoes=pd.DataFrame({})\n",
    "Shoes['Brand']=Brand\n",
    "Shoes['Product_Description']=Product_Description\n",
    "Shoes['Price']=Price"
   ]
  },
  {
   "cell_type": "code",
   "execution_count": 187,
   "metadata": {},
   "outputs": [
    {
     "data": {
      "text/html": [
       "<div>\n",
       "<style scoped>\n",
       "    .dataframe tbody tr th:only-of-type {\n",
       "        vertical-align: middle;\n",
       "    }\n",
       "\n",
       "    .dataframe tbody tr th {\n",
       "        vertical-align: top;\n",
       "    }\n",
       "\n",
       "    .dataframe thead th {\n",
       "        text-align: right;\n",
       "    }\n",
       "</style>\n",
       "<table border=\"1\" class=\"dataframe\">\n",
       "  <thead>\n",
       "    <tr style=\"text-align: right;\">\n",
       "      <th></th>\n",
       "      <th>Brand</th>\n",
       "      <th>Product_Description</th>\n",
       "      <th>Price</th>\n",
       "    </tr>\n",
       "  </thead>\n",
       "  <tbody>\n",
       "    <tr>\n",
       "      <th>0</th>\n",
       "      <td>Puma</td>\n",
       "      <td>Men Black Sneakers</td>\n",
       "      <td>Rs. 2099</td>\n",
       "    </tr>\n",
       "    <tr>\n",
       "      <th>1</th>\n",
       "      <td>HIGHLANDER</td>\n",
       "      <td>Men Black Sneakers</td>\n",
       "      <td>Rs. 995</td>\n",
       "    </tr>\n",
       "    <tr>\n",
       "      <th>2</th>\n",
       "      <td>LOCOMOTIVE</td>\n",
       "      <td>Men Black Sneakers</td>\n",
       "      <td>Rs. 796</td>\n",
       "    </tr>\n",
       "    <tr>\n",
       "      <th>3</th>\n",
       "      <td>Mactree</td>\n",
       "      <td>Men Black Sneakers</td>\n",
       "      <td>Rs. 649</td>\n",
       "    </tr>\n",
       "    <tr>\n",
       "      <th>4</th>\n",
       "      <td>Mactree</td>\n",
       "      <td>Men Black Sneakers</td>\n",
       "      <td>Rs. 649</td>\n",
       "    </tr>\n",
       "    <tr>\n",
       "      <th>5</th>\n",
       "      <td>HIGHLANDER</td>\n",
       "      <td>Men Black Sneakers</td>\n",
       "      <td>Rs. 995</td>\n",
       "    </tr>\n",
       "    <tr>\n",
       "      <th>6</th>\n",
       "      <td>Puma</td>\n",
       "      <td>Unisex Black Smash v2 Leather Sneakers</td>\n",
       "      <td>Rs. 3499</td>\n",
       "    </tr>\n",
       "    <tr>\n",
       "      <th>7</th>\n",
       "      <td>mr.wonker</td>\n",
       "      <td>Men Black Colourblocked Mesh Mid-Top Sneakers</td>\n",
       "      <td>Rs. 699</td>\n",
       "    </tr>\n",
       "    <tr>\n",
       "      <th>8</th>\n",
       "      <td>H&amp;M</td>\n",
       "      <td>Men Black Fully-fashioned trainers</td>\n",
       "      <td>Rs. 2999</td>\n",
       "    </tr>\n",
       "    <tr>\n",
       "      <th>9</th>\n",
       "      <td>Red Tape</td>\n",
       "      <td>Men Black Solid Leather High-Top Flat Boots</td>\n",
       "      <td>Rs. 2299</td>\n",
       "    </tr>\n",
       "    <tr>\n",
       "      <th>10</th>\n",
       "      <td>HIGHLANDER</td>\n",
       "      <td>Men Black Sneakers</td>\n",
       "      <td>Rs. 895</td>\n",
       "    </tr>\n",
       "    <tr>\n",
       "      <th>11</th>\n",
       "      <td>mr.wonker</td>\n",
       "      <td>Men Black &amp; Grey Colourblocked Mesh Mid-Top Sn...</td>\n",
       "      <td>Rs. 699</td>\n",
       "    </tr>\n",
       "    <tr>\n",
       "      <th>12</th>\n",
       "      <td>Nike</td>\n",
       "      <td>Men Black COURT ROYALE AC Leather Sneakers</td>\n",
       "      <td>Rs. 3596</td>\n",
       "    </tr>\n",
       "    <tr>\n",
       "      <th>13</th>\n",
       "      <td>Fentacia</td>\n",
       "      <td>Men Black Solid Synthetic Leather Lightweight ...</td>\n",
       "      <td>Rs. 1399</td>\n",
       "    </tr>\n",
       "    <tr>\n",
       "      <th>14</th>\n",
       "      <td>Woakers</td>\n",
       "      <td>Men Black Colourblocked Sneakers</td>\n",
       "      <td>Rs. 647</td>\n",
       "    </tr>\n",
       "    <tr>\n",
       "      <th>15</th>\n",
       "      <td>bacca bucci</td>\n",
       "      <td>Men Black Sneakers</td>\n",
       "      <td>Rs. 1124</td>\n",
       "    </tr>\n",
       "    <tr>\n",
       "      <th>16</th>\n",
       "      <td>Puma</td>\n",
       "      <td>Men Black Sneakers</td>\n",
       "      <td>Rs. 2279</td>\n",
       "    </tr>\n",
       "    <tr>\n",
       "      <th>17</th>\n",
       "      <td>Puma</td>\n",
       "      <td>Men Black Solid Rebound BBX Perf IDP Mid-Top S...</td>\n",
       "      <td>Rs. 3499</td>\n",
       "    </tr>\n",
       "    <tr>\n",
       "      <th>18</th>\n",
       "      <td>AfroJack</td>\n",
       "      <td>Men Black &amp; White Colourblocked Sneakers</td>\n",
       "      <td>Rs. 599</td>\n",
       "    </tr>\n",
       "    <tr>\n",
       "      <th>19</th>\n",
       "      <td>Big Fox</td>\n",
       "      <td>Men Black Suede Loafers</td>\n",
       "      <td>Rs. 679</td>\n",
       "    </tr>\n",
       "    <tr>\n",
       "      <th>20</th>\n",
       "      <td>ADIDAS Originals</td>\n",
       "      <td>Men Black Perforated Superstar Sneakers</td>\n",
       "      <td>Rs. 8799</td>\n",
       "    </tr>\n",
       "    <tr>\n",
       "      <th>21</th>\n",
       "      <td>Mactree</td>\n",
       "      <td>Men Black Sneakers</td>\n",
       "      <td>Rs. 649</td>\n",
       "    </tr>\n",
       "    <tr>\n",
       "      <th>22</th>\n",
       "      <td>PEAK</td>\n",
       "      <td>Men Black Sneakers</td>\n",
       "      <td>Rs. 2159</td>\n",
       "    </tr>\n",
       "    <tr>\n",
       "      <th>23</th>\n",
       "      <td>Flying Machine</td>\n",
       "      <td>Men Black Mid-Top Sneakers</td>\n",
       "      <td>Rs. 1899</td>\n",
       "    </tr>\n",
       "    <tr>\n",
       "      <th>24</th>\n",
       "      <td>Sir Corbett</td>\n",
       "      <td>Men Black Casual Shoes</td>\n",
       "      <td>Rs. 890</td>\n",
       "    </tr>\n",
       "    <tr>\n",
       "      <th>25</th>\n",
       "      <td>shoexpress</td>\n",
       "      <td>Men Black Solid Driving Loafers</td>\n",
       "      <td>Rs. 1786</td>\n",
       "    </tr>\n",
       "    <tr>\n",
       "      <th>26</th>\n",
       "      <td>Nike</td>\n",
       "      <td>Men Black KAISHI Sneakers</td>\n",
       "      <td>Rs. 2747</td>\n",
       "    </tr>\n",
       "    <tr>\n",
       "      <th>27</th>\n",
       "      <td>Mactree</td>\n",
       "      <td>Men Black Sneakers</td>\n",
       "      <td>Rs. 649</td>\n",
       "    </tr>\n",
       "    <tr>\n",
       "      <th>28</th>\n",
       "      <td>Eego Italy</td>\n",
       "      <td>Men Black Flat Boots</td>\n",
       "      <td>Rs. 1499</td>\n",
       "    </tr>\n",
       "    <tr>\n",
       "      <th>29</th>\n",
       "      <td>Puma</td>\n",
       "      <td>Men Black Electron Sneakers</td>\n",
       "      <td>Rs. 3999</td>\n",
       "    </tr>\n",
       "    <tr>\n",
       "      <th>30</th>\n",
       "      <td>Kook N Keech</td>\n",
       "      <td>Men Black Sneakers</td>\n",
       "      <td>Rs. 1124</td>\n",
       "    </tr>\n",
       "    <tr>\n",
       "      <th>31</th>\n",
       "      <td>Nike</td>\n",
       "      <td>Men Black Tanjun Sneakers</td>\n",
       "      <td>Rs. 3596</td>\n",
       "    </tr>\n",
       "    <tr>\n",
       "      <th>32</th>\n",
       "      <td>Cole Haan</td>\n",
       "      <td>Men Black Leather Sneakers</td>\n",
       "      <td>Rs. 25999</td>\n",
       "    </tr>\n",
       "    <tr>\n",
       "      <th>33</th>\n",
       "      <td>Flying Machine</td>\n",
       "      <td>Men Black Sneakers</td>\n",
       "      <td>Rs. 1699</td>\n",
       "    </tr>\n",
       "    <tr>\n",
       "      <th>34</th>\n",
       "      <td>Flying Machine</td>\n",
       "      <td>Men Black Sneakers</td>\n",
       "      <td>Rs. 1599</td>\n",
       "    </tr>\n",
       "    <tr>\n",
       "      <th>35</th>\n",
       "      <td>Aditi Wasan</td>\n",
       "      <td>Men Black Sneakers</td>\n",
       "      <td>Rs. 1279</td>\n",
       "    </tr>\n",
       "    <tr>\n",
       "      <th>36</th>\n",
       "      <td>Flying Machine</td>\n",
       "      <td>Men Black Woven Design Mid-Top Sneakers</td>\n",
       "      <td>Rs. 1699</td>\n",
       "    </tr>\n",
       "    <tr>\n",
       "      <th>37</th>\n",
       "      <td>Mactree</td>\n",
       "      <td>Men Black Solid Leather Mid-Top Flat Boots</td>\n",
       "      <td>Rs. 997</td>\n",
       "    </tr>\n",
       "    <tr>\n",
       "      <th>38</th>\n",
       "      <td>Flying Machine</td>\n",
       "      <td>Men Black Woven Design Mid-Top Sneakers</td>\n",
       "      <td>Rs. 1799</td>\n",
       "    </tr>\n",
       "    <tr>\n",
       "      <th>39</th>\n",
       "      <td>Arrow</td>\n",
       "      <td>Men Black DURK 2.0 Driving Shoes</td>\n",
       "      <td>Rs. 2399</td>\n",
       "    </tr>\n",
       "    <tr>\n",
       "      <th>40</th>\n",
       "      <td>AVAENS</td>\n",
       "      <td>Men Black Textured Driving Shoes</td>\n",
       "      <td>Rs. 629</td>\n",
       "    </tr>\n",
       "  </tbody>\n",
       "</table>\n",
       "</div>"
      ],
      "text/plain": [
       "               Brand                                Product_Description  \\\n",
       "0               Puma                                 Men Black Sneakers   \n",
       "1         HIGHLANDER                                 Men Black Sneakers   \n",
       "2         LOCOMOTIVE                                 Men Black Sneakers   \n",
       "3            Mactree                                 Men Black Sneakers   \n",
       "4            Mactree                                 Men Black Sneakers   \n",
       "5         HIGHLANDER                                 Men Black Sneakers   \n",
       "6               Puma             Unisex Black Smash v2 Leather Sneakers   \n",
       "7          mr.wonker      Men Black Colourblocked Mesh Mid-Top Sneakers   \n",
       "8                H&M                 Men Black Fully-fashioned trainers   \n",
       "9           Red Tape        Men Black Solid Leather High-Top Flat Boots   \n",
       "10        HIGHLANDER                                 Men Black Sneakers   \n",
       "11         mr.wonker  Men Black & Grey Colourblocked Mesh Mid-Top Sn...   \n",
       "12              Nike         Men Black COURT ROYALE AC Leather Sneakers   \n",
       "13          Fentacia  Men Black Solid Synthetic Leather Lightweight ...   \n",
       "14           Woakers                   Men Black Colourblocked Sneakers   \n",
       "15       bacca bucci                                 Men Black Sneakers   \n",
       "16              Puma                                 Men Black Sneakers   \n",
       "17              Puma  Men Black Solid Rebound BBX Perf IDP Mid-Top S...   \n",
       "18          AfroJack           Men Black & White Colourblocked Sneakers   \n",
       "19           Big Fox                            Men Black Suede Loafers   \n",
       "20  ADIDAS Originals            Men Black Perforated Superstar Sneakers   \n",
       "21           Mactree                                 Men Black Sneakers   \n",
       "22              PEAK                                 Men Black Sneakers   \n",
       "23    Flying Machine                         Men Black Mid-Top Sneakers   \n",
       "24       Sir Corbett                             Men Black Casual Shoes   \n",
       "25        shoexpress                    Men Black Solid Driving Loafers   \n",
       "26              Nike                          Men Black KAISHI Sneakers   \n",
       "27           Mactree                                 Men Black Sneakers   \n",
       "28        Eego Italy                               Men Black Flat Boots   \n",
       "29              Puma                        Men Black Electron Sneakers   \n",
       "30      Kook N Keech                                 Men Black Sneakers   \n",
       "31              Nike                          Men Black Tanjun Sneakers   \n",
       "32         Cole Haan                         Men Black Leather Sneakers   \n",
       "33    Flying Machine                                 Men Black Sneakers   \n",
       "34    Flying Machine                                 Men Black Sneakers   \n",
       "35       Aditi Wasan                                 Men Black Sneakers   \n",
       "36    Flying Machine            Men Black Woven Design Mid-Top Sneakers   \n",
       "37           Mactree         Men Black Solid Leather Mid-Top Flat Boots   \n",
       "38    Flying Machine            Men Black Woven Design Mid-Top Sneakers   \n",
       "39             Arrow                   Men Black DURK 2.0 Driving Shoes   \n",
       "40            AVAENS                   Men Black Textured Driving Shoes   \n",
       "\n",
       "        Price  \n",
       "0    Rs. 2099  \n",
       "1     Rs. 995  \n",
       "2     Rs. 796  \n",
       "3     Rs. 649  \n",
       "4     Rs. 649  \n",
       "5     Rs. 995  \n",
       "6    Rs. 3499  \n",
       "7     Rs. 699  \n",
       "8    Rs. 2999  \n",
       "9    Rs. 2299  \n",
       "10    Rs. 895  \n",
       "11    Rs. 699  \n",
       "12   Rs. 3596  \n",
       "13   Rs. 1399  \n",
       "14    Rs. 647  \n",
       "15   Rs. 1124  \n",
       "16   Rs. 2279  \n",
       "17   Rs. 3499  \n",
       "18    Rs. 599  \n",
       "19    Rs. 679  \n",
       "20   Rs. 8799  \n",
       "21    Rs. 649  \n",
       "22   Rs. 2159  \n",
       "23   Rs. 1899  \n",
       "24    Rs. 890  \n",
       "25   Rs. 1786  \n",
       "26   Rs. 2747  \n",
       "27    Rs. 649  \n",
       "28   Rs. 1499  \n",
       "29   Rs. 3999  \n",
       "30   Rs. 1124  \n",
       "31   Rs. 3596  \n",
       "32  Rs. 25999  \n",
       "33   Rs. 1699  \n",
       "34   Rs. 1599  \n",
       "35   Rs. 1279  \n",
       "36   Rs. 1699  \n",
       "37    Rs. 997  \n",
       "38   Rs. 1799  \n",
       "39   Rs. 2399  \n",
       "40    Rs. 629  "
      ]
     },
     "execution_count": 187,
     "metadata": {},
     "output_type": "execute_result"
    }
   ],
   "source": [
    "Shoes"
   ]
  },
  {
   "cell_type": "code",
   "execution_count": 188,
   "metadata": {},
   "outputs": [],
   "source": [
    "#Closing the driver\n",
    "driver.close()"
   ]
  },
  {
   "cell_type": "markdown",
   "metadata": {},
   "source": [
    "## Q10: Go to webpage https://www.amazon.in/ Enter “Laptop” in the search field and then click the search icon.Then set CPU Type filter to “Intel Core i7” and “Intel Core i9”.After setting the filters scrape first 10 laptops data. "
   ]
  },
  {
   "cell_type": "code",
   "execution_count": 132,
   "metadata": {},
   "outputs": [],
   "source": [
    "#Importing required libraries\n",
    "import pandas as pd\n",
    "import selenium\n",
    "from selenium import webdriver\n",
    "from selenium.common.exceptions import NoSuchElementException"
   ]
  },
  {
   "cell_type": "code",
   "execution_count": 133,
   "metadata": {},
   "outputs": [],
   "source": [
    "#Connect to web driver\n",
    "driver = webdriver.Chrome(\"C://chromedriver.exe\")"
   ]
  },
  {
   "cell_type": "code",
   "execution_count": 134,
   "metadata": {},
   "outputs": [],
   "source": [
    "#creating the empty list\n",
    "Title=[]\n",
    "Ratings=[]\n",
    "Price=[]"
   ]
  },
  {
   "cell_type": "code",
   "execution_count": 135,
   "metadata": {},
   "outputs": [],
   "source": [
    "#Getting the website to driver\n",
    "driver.get('https://www.amazon.in')"
   ]
  },
  {
   "cell_type": "code",
   "execution_count": 136,
   "metadata": {},
   "outputs": [],
   "source": [
    "#locating the search bar\\\n",
    "search_bar = driver.find_element_by_id(\"twotabsearchtextbox\")\n",
    "search_bar.clear()\n",
    "search_bar.send_keys(\"laptops\")\n",
    "search_button = driver.find_element_by_xpath('//span[@id=\"nav-search-submit-text\"]')\n",
    "search_button.click()"
   ]
  },
  {
   "cell_type": "code",
   "execution_count": 137,
   "metadata": {},
   "outputs": [],
   "source": [
    "#locating the i7 filter\n",
    "filter_button = driver.find_elements_by_xpath(\"//a[@class='a-link-normal s-navigation-item']/span\")\n",
    "for i in filter_button:\n",
    "    if i.text=='Intel Core i7':\n",
    "        i.click()\n",
    "        break"
   ]
  },
  {
   "cell_type": "code",
   "execution_count": 138,
   "metadata": {},
   "outputs": [],
   "source": [
    "#locating the i9 filter\n",
    "filter_button = driver.find_elements_by_xpath(\"//a[@class='a-link-normal s-navigation-item']/span\")\n",
    "for i in filter_button:\n",
    "    if i.text=='Intel Core i9':\n",
    "        i.click()\n",
    "        break"
   ]
  },
  {
   "cell_type": "code",
   "execution_count": 139,
   "metadata": {},
   "outputs": [],
   "source": [
    "#scrapping Titles\n",
    "titles = driver.find_elements_by_xpath(\"//span[@class='a-size-medium a-color-base a-text-normal']\")\n",
    "for i in titles[:10]:\n",
    "    Title.append(i.text)"
   ]
  },
  {
   "cell_type": "code",
   "execution_count": 140,
   "metadata": {},
   "outputs": [],
   "source": [
    "#scrapping Price\n",
    "prices=driver.find_elements_by_xpath(\"//span[@class='a-price-whole']\")\n",
    "for i in prices[:10]:\n",
    "    Price.append(i.text)"
   ]
  },
  {
   "cell_type": "code",
   "execution_count": 141,
   "metadata": {},
   "outputs": [],
   "source": [
    "#locating Ratings\n",
    "urls = driver.find_elements_by_xpath(\"//a[@class='a-link-normal a-text-normal']\")\n",
    "UR=[]\n",
    "for i in urls[:10]:\n",
    "    UR.append(i.get_attribute('href'))\n",
    "for url in UR:\n",
    "    driver.get(url)\n",
    "    try:\n",
    "        rate=driver.find_element_by_xpath(\"//span[@id='acrCustomerReviewText']\")\n",
    "        rate.click()\n",
    "        rating=driver.find_element_by_xpath(\"//span[@class-'a-size-medium a-color-base']\")\n",
    "        Ratings.append(rating.text)\n",
    "        \n",
    "    except NoSuchElementException  as e:\n",
    "        Ratings.append(\"No rating\")"
   ]
  },
  {
   "cell_type": "code",
   "execution_count": 142,
   "metadata": {},
   "outputs": [
    {
     "name": "stdout",
     "output_type": "stream",
     "text": [
      "10\n",
      "10\n",
      "10\n"
     ]
    }
   ],
   "source": [
    "#checking the length of each list\n",
    "print(len(Title))\n",
    "print(len(Price))\n",
    "print(len(Ratings))"
   ]
  },
  {
   "cell_type": "code",
   "execution_count": 143,
   "metadata": {},
   "outputs": [
    {
     "data": {
      "text/plain": [
       "['Lenovo IdeaPad Flex 5 11th Gen Intel Core i7 14-inch FHD IPS 2-in-1 Touchscreen Laptop (16GB/512GB SSD/Win 10/Office 2019/Lenovo Digital Pen Stylus/Fingerprint Reader/Graphite Grey/1.5Kg), 82HS0092IN',\n",
       " 'LifeDigital ZED AIR CX7 15.6 IPS FHD Screen Black Laptop (Intel Core i7, 4GB RAM, 256GB SSD, Windows 10)',\n",
       " 'Dell Latitude 3410 14 Inch HD Intel Core i7 10th Gen ( 8GB / 1TB / Windows 10 Pro / 3 Years Warranty ) Business Laptop with STOLT Backpack',\n",
       " \"(Renewed) Lenovo ThinkPad X1 Carbon Laptop (CORE I7 6TH GEN/8GB/256GB SSD/WEBCAM/14''/WIN 10 PRO)\",\n",
       " '(Renewed) HP Pavilion 15-Cs1002txin 2018 15.6-Inch Laptop (8th Gen Core I7-8565u/8GB/1TB/Windows 10 Home/4GB Nvidia Geforce Mx150 Graphics)',\n",
       " 'ASUS ROG G703GI-E5148T 17.3-inch FHD 144Hz/3ms Gaming Laptop (8th Gen Intel Core i9-8950HK/64GB/2TB SSHD + 1.5TB NVMe SSD/Windows 10/GTX 1080 8GB Graphics/4.70 Kg), Aluminum',\n",
       " 'HP Pavilion Gaming 10th Gen Intel Core i7 Processor 15.6-inch FHD Gaming Laptop (16GB/512GB SSD + 32GB Intel Optane/Windows 10/NVIDIA 1650 4GB/Shadow Black), 15-dk1151TX',\n",
       " 'HP Envy 11th Gen Core i7 Processor 13.3-inch FHD Touchscreen Laptop (16GB/1TB SSD/Win 10/NVIDIA MX450 2GB/Natural Silver/1.3 kg), 13-ba1018TX',\n",
       " 'ASUS VivoBook S S14 Intel Core i7-1165G7 11th Gen, 14-inch FHD Thin and Light Laptop (8GB RAM/512GB SSD + 32GB Optane Memory/Windows 10/Office 2019/Iris X Graphics- Indie Black/1.4 Kg), S433EA-AM701TS',\n",
       " 'Mi Notebook Horizon Edition 14 Intel Core i7-10510U 10th Gen Thin and Light Laptop(8GB/512GB SSD/Windows 10/Nvidia MX350 2GB Graphics/Grey/1.35Kg), XMA1904-AF+Webcam']"
      ]
     },
     "execution_count": 143,
     "metadata": {},
     "output_type": "execute_result"
    }
   ],
   "source": [
    "Title"
   ]
  },
  {
   "cell_type": "code",
   "execution_count": 144,
   "metadata": {},
   "outputs": [
    {
     "data": {
      "text/plain": [
       "['83,990',\n",
       " '33,990',\n",
       " '90,990',\n",
       " '55,290',\n",
       " '68,490',\n",
       " '5,22,077',\n",
       " '83,077',\n",
       " '1,08,081',\n",
       " '77,990',\n",
       " '59,999']"
      ]
     },
     "execution_count": 144,
     "metadata": {},
     "output_type": "execute_result"
    }
   ],
   "source": [
    "Price"
   ]
  },
  {
   "cell_type": "code",
   "execution_count": 145,
   "metadata": {},
   "outputs": [
    {
     "data": {
      "text/plain": [
       "['No rating',\n",
       " 'No rating',\n",
       " 'No rating',\n",
       " 'No rating',\n",
       " 'No rating',\n",
       " 'No rating',\n",
       " 'No rating',\n",
       " 'No rating',\n",
       " 'No rating',\n",
       " 'No rating']"
      ]
     },
     "execution_count": 145,
     "metadata": {},
     "output_type": "execute_result"
    }
   ],
   "source": [
    "Ratings"
   ]
  },
  {
   "cell_type": "code",
   "execution_count": 146,
   "metadata": {},
   "outputs": [
    {
     "name": "stdout",
     "output_type": "stream",
     "text": [
      "                                               Title     Price    Ratings\n",
      "0  Lenovo IdeaPad Flex 5 11th Gen Intel Core i7 1...    83,990  No rating\n",
      "1  LifeDigital ZED AIR CX7 15.6 IPS FHD Screen Bl...    33,990  No rating\n",
      "2  Dell Latitude 3410 14 Inch HD Intel Core i7 10...    90,990  No rating\n",
      "3  (Renewed) Lenovo ThinkPad X1 Carbon Laptop (CO...    55,290  No rating\n",
      "4  (Renewed) HP Pavilion 15-Cs1002txin 2018 15.6-...    68,490  No rating\n",
      "5  ASUS ROG G703GI-E5148T 17.3-inch FHD 144Hz/3ms...  5,22,077  No rating\n",
      "6  HP Pavilion Gaming 10th Gen Intel Core i7 Proc...    83,077  No rating\n",
      "7  HP Envy 11th Gen Core i7 Processor 13.3-inch F...  1,08,081  No rating\n",
      "8  ASUS VivoBook S S14 Intel Core i7-1165G7 11th ...    77,990  No rating\n",
      "9  Mi Notebook Horizon Edition 14 Intel Core i7-1...    59,999  No rating\n"
     ]
    }
   ],
   "source": [
    "#creating a dataframe\n",
    "laptop=pd.DataFrame({'Title':Title,\n",
    "                 'Price':Price,\n",
    "                'Ratings':Ratings})\n",
    "#printing the dataframe\n",
    "print(laptop)"
   ]
  },
  {
   "cell_type": "code",
   "execution_count": 147,
   "metadata": {},
   "outputs": [],
   "source": [
    "#Closing the driver\n",
    "driver.close()"
   ]
  }
 ],
 "metadata": {
  "kernelspec": {
   "display_name": "Python 3",
   "language": "python",
   "name": "python3"
  },
  "language_info": {
   "codemirror_mode": {
    "name": "ipython",
    "version": 3
   },
   "file_extension": ".py",
   "mimetype": "text/x-python",
   "name": "python",
   "nbconvert_exporter": "python",
   "pygments_lexer": "ipython3",
   "version": "3.6.2"
  }
 },
 "nbformat": 4,
 "nbformat_minor": 4
}
