{
 "cells": [
  {
   "cell_type": "code",
   "execution_count": 229,
   "id": "c5bce29b",
   "metadata": {},
   "outputs": [],
   "source": [
    "import pandas as pd\n",
    "import numpy as np\n",
    "from selenium import webdriver\n",
    "import time\n",
    "import \n",
    "from selenium.common.exceptions import NoSuchElementException"
   ]
  },
  {
   "cell_type": "code",
   "execution_count": 313,
   "id": "9b27bd33",
   "metadata": {},
   "outputs": [],
   "source": [
    "driver=webdriver.Chrome(r\"chromedriver.exe\")"
   ]
  },
  {
   "cell_type": "code",
   "execution_count": 314,
   "id": "d5fa8e88",
   "metadata": {},
   "outputs": [],
   "source": [
    "#scrapping Car Data from cars24.com"
   ]
  },
  {
   "cell_type": "code",
   "execution_count": 376,
   "id": "405b13f1",
   "metadata": {},
   "outputs": [],
   "source": [
    "url1=\"https://www.cars24.com/buy-used-car?sort=P&search=HYUNDAI&storeCityId=8597&pinId=201301\"\n",
    "driver.get(url1)"
   ]
  },
  {
   "cell_type": "code",
   "execution_count": 377,
   "id": "c21f99cf",
   "metadata": {},
   "outputs": [],
   "source": [
    "ModelList=[]\n",
    "brandList=[]\n",
    "manufacturingYearList=[]\n",
    "variantList=[]\n",
    "KmDrivenList=[]\n",
    "ownerList=[]\n",
    "versionList=[]\n",
    "priceList=[]\n",
    "locationList=[]"
   ]
  },
  {
   "cell_type": "code",
   "execution_count": 378,
   "id": "39112794",
   "metadata": {},
   "outputs": [],
   "source": [
    "def scrapData(location):\n",
    "   \n",
    "    #time.sleep(5)\n",
    "    model=driver.find_elements_by_xpath(\"//div[@class='_1l4fi']/div/div/h2\")\n",
    "    for i in model:\n",
    "        #print(i.text)\n",
    "        str=i.text\n",
    "        m1=str.split(\" \" ,2)\n",
    "        model=str.split()[1]\n",
    "        #print(m1[0])\n",
    "        #print(m1[1])\n",
    "        #print(m1[2])\n",
    "        ModelList.append(m1[2])\n",
    "        manufacturingYearList.append(m1[0])\n",
    "        brandList.append(m1[1])\n",
    "\n",
    "    variant=driver.find_elements_by_xpath(\"//div[@class='_1l4fi']/div/div/p\")\n",
    "    for i in variant:\n",
    "        #print(i.text)\n",
    "        variantList.append(i.text)\n",
    "\n",
    "    Km=driver.find_elements_by_xpath(\"//div[@class='_1l4fi']/ul/li[1]\")\n",
    "    for i in Km:\n",
    "        #print(i.text)\n",
    "        str1=i.text\n",
    "        str1=str1.split()[0] \n",
    "        str1=str1.replace(\",\",\"\")\n",
    "        #print(str1)\n",
    "        str1=int(str1)\n",
    "        #print(type(str1))\n",
    "        KmDrivenList.append(str1)\n",
    "\n",
    "    owner=driver.find_elements_by_xpath(\"//div[@class='_1l4fi']/ul/li[2]\")\n",
    "    for i in owner:\n",
    "        #print(i.text)\n",
    "        ownerList.append(i.text)\n",
    "\n",
    "    version=driver.find_elements_by_xpath(\"//div[@class='_1l4fi']/ul/li[3]\")\n",
    "    for i in version:\n",
    "        #print(i.text)\n",
    "        versionList.append(i.text)  \n",
    "\n",
    "    price=driver.find_elements_by_xpath(\"//div[@class='_1l4fi']/div[2]/div[2]/span\")\n",
    "    for i in price:\n",
    "        #print(i.text)\n",
    "        str2=i.text\n",
    "        str2=str2[1:]\n",
    "        \n",
    "        str2=str2.replace(\",\",\"\")\n",
    "        #print(str2)\n",
    "        str1=int(str2)\n",
    "        #print(type(str2))\n",
    "    \n",
    "        priceList.append(str2) \n",
    "        locationList.append(location)"
   ]
  },
  {
   "cell_type": "code",
   "execution_count": 379,
   "id": "07a54b6a",
   "metadata": {},
   "outputs": [],
   "source": [
    "scrapData(\"Noida\")"
   ]
  },
  {
   "cell_type": "code",
   "execution_count": 380,
   "id": "fdcac842",
   "metadata": {},
   "outputs": [
    {
     "name": "stdout",
     "output_type": "stream",
     "text": [
      "356\n",
      "356\n",
      "356\n",
      "356\n",
      "356\n",
      "356\n",
      "356\n",
      "356\n",
      "356\n"
     ]
    }
   ],
   "source": [
    "print(len(ModelList))\n",
    "print(len(brandList))\n",
    "print(len(manufacturingYearList))\n",
    "print(len(variantList))\n",
    "print(len(KmDrivenList))\n",
    "print(len(ownerList))\n",
    "print(len(versionList))\n",
    "print(len(priceList))\n",
    "print(len(locationList))"
   ]
  },
  {
   "cell_type": "code",
   "execution_count": 381,
   "id": "e73bd527",
   "metadata": {},
   "outputs": [],
   "source": [
    "url=\"https://www.cars24.com/buy-used-car?carName=RENAULT&sort=P&storeCityId=4709&pinId=560001\"\n",
    "driver.get(url)"
   ]
  },
  {
   "cell_type": "code",
   "execution_count": 382,
   "id": "eb1a506f",
   "metadata": {},
   "outputs": [],
   "source": [
    "scrapData(\"Bengaluru\")"
   ]
  },
  {
   "cell_type": "code",
   "execution_count": 383,
   "id": "246f3863",
   "metadata": {},
   "outputs": [
    {
     "name": "stdout",
     "output_type": "stream",
     "text": [
      "381\n",
      "381\n",
      "381\n",
      "381\n",
      "381\n",
      "381\n",
      "381\n",
      "381\n",
      "381\n"
     ]
    }
   ],
   "source": [
    "print(len(ModelList))\n",
    "print(len(brandList))\n",
    "print(len(manufacturingYearList))\n",
    "print(len(variantList))\n",
    "print(len(KmDrivenList))\n",
    "print(len(ownerList))\n",
    "print(len(versionList))\n",
    "print(len(priceList))\n",
    "print(len(locationList))"
   ]
  },
  {
   "cell_type": "code",
   "execution_count": 384,
   "id": "d023ae36",
   "metadata": {},
   "outputs": [],
   "source": [
    "url=\"https://www.cars24.com/buy-used-car?carName=HYUNDAI&sort=P&storeCityId=3686&pinId=500001\"\n",
    "driver.get(url)"
   ]
  },
  {
   "cell_type": "code",
   "execution_count": 385,
   "id": "93940dfa",
   "metadata": {},
   "outputs": [],
   "source": [
    "scrapData(\"Hyderabad\")"
   ]
  },
  {
   "cell_type": "code",
   "execution_count": 386,
   "id": "3823ed66",
   "metadata": {},
   "outputs": [
    {
     "name": "stdout",
     "output_type": "stream",
     "text": [
      "497\n",
      "497\n",
      "497\n",
      "497\n",
      "497\n",
      "497\n",
      "497\n",
      "497\n",
      "497\n"
     ]
    }
   ],
   "source": [
    "print(len(ModelList))\n",
    "print(len(brandList))\n",
    "print(len(manufacturingYearList))\n",
    "print(len(variantList))\n",
    "print(len(KmDrivenList))\n",
    "print(len(ownerList))\n",
    "print(len(versionList))\n",
    "print(len(priceList))\n",
    "print(len(locationList))"
   ]
  },
  {
   "cell_type": "code",
   "execution_count": 387,
   "id": "504c98a0",
   "metadata": {},
   "outputs": [],
   "source": [
    "url=\"https://www.cars24.com/buy-used-car?carName=TOYOTA&sort=P&storeCityId=2378&pinId=400001\"\n",
    "driver.get(url)"
   ]
  },
  {
   "cell_type": "code",
   "execution_count": 388,
   "id": "29003846",
   "metadata": {},
   "outputs": [],
   "source": [
    "scrapData(\"Mumbai\")"
   ]
  },
  {
   "cell_type": "code",
   "execution_count": 389,
   "id": "dba20ec0",
   "metadata": {},
   "outputs": [
    {
     "name": "stdout",
     "output_type": "stream",
     "text": [
      "596\n",
      "596\n",
      "596\n",
      "596\n",
      "596\n",
      "596\n",
      "596\n",
      "596\n",
      "596\n"
     ]
    }
   ],
   "source": [
    "print(len(ModelList))\n",
    "print(len(brandList))\n",
    "print(len(manufacturingYearList))\n",
    "print(len(variantList))\n",
    "print(len(KmDrivenList))\n",
    "print(len(ownerList))\n",
    "print(len(versionList))\n",
    "print(len(priceList))\n",
    "print(len(locationList))"
   ]
  },
  {
   "cell_type": "code",
   "execution_count": 390,
   "id": "9d755971",
   "metadata": {},
   "outputs": [],
   "source": [
    "url=\"https://www.cars24.com/buy-used-maruti-cars-kolkata/\"\n",
    "driver.get(url)\n"
   ]
  },
  {
   "cell_type": "code",
   "execution_count": 391,
   "id": "342a03c6",
   "metadata": {},
   "outputs": [],
   "source": [
    "scrapData(\"Kolkata\")"
   ]
  },
  {
   "cell_type": "code",
   "execution_count": 392,
   "id": "4de4471a",
   "metadata": {},
   "outputs": [
    {
     "name": "stdout",
     "output_type": "stream",
     "text": [
      "1303\n",
      "1303\n",
      "1303\n",
      "1303\n",
      "1303\n",
      "1303\n",
      "1303\n",
      "1303\n",
      "1303\n"
     ]
    }
   ],
   "source": [
    "print(len(ModelList))\n",
    "print(len(brandList))\n",
    "print(len(manufacturingYearList))\n",
    "print(len(variantList))\n",
    "print(len(KmDrivenList))\n",
    "print(len(ownerList))\n",
    "print(len(versionList))\n",
    "print(len(priceList))\n",
    "print(len(locationList))"
   ]
  },
  {
   "cell_type": "code",
   "execution_count": 393,
   "id": "77a2e233",
   "metadata": {},
   "outputs": [],
   "source": [
    "url=\"https://www.cars24.com/buy-used-hyundai-cars-kolkata/\"\n",
    "driver.get(url)\n"
   ]
  },
  {
   "cell_type": "code",
   "execution_count": 394,
   "id": "74ea4dc3",
   "metadata": {},
   "outputs": [],
   "source": [
    "scrapData(\"Kolkata\")"
   ]
  },
  {
   "cell_type": "code",
   "execution_count": 395,
   "id": "cf85e599",
   "metadata": {},
   "outputs": [
    {
     "name": "stdout",
     "output_type": "stream",
     "text": [
      "1601\n",
      "1601\n",
      "1601\n",
      "1601\n",
      "1601\n",
      "1601\n",
      "1601\n",
      "1601\n",
      "1601\n"
     ]
    }
   ],
   "source": [
    "print(len(ModelList))\n",
    "print(len(brandList))\n",
    "print(len(manufacturingYearList))\n",
    "print(len(variantList))\n",
    "print(len(KmDrivenList))\n",
    "print(len(ownerList))\n",
    "print(len(versionList))\n",
    "print(len(priceList))\n",
    "print(len(locationList))"
   ]
  },
  {
   "cell_type": "code",
   "execution_count": 396,
   "id": "2b937cb8",
   "metadata": {},
   "outputs": [],
   "source": [
    "url=\"https://www.cars24.com/buy-used-car?carName=MAHINDRA&sort=P&storeCityId=4709&pinId=560001\"\n",
    "driver.get(url)\n"
   ]
  },
  {
   "cell_type": "code",
   "execution_count": 397,
   "id": "fd8c8f6b",
   "metadata": {},
   "outputs": [],
   "source": [
    "scrapData(\"Bengaluru\")"
   ]
  },
  {
   "cell_type": "code",
   "execution_count": 398,
   "id": "4506a494",
   "metadata": {},
   "outputs": [
    {
     "name": "stdout",
     "output_type": "stream",
     "text": [
      "1620\n",
      "1620\n",
      "1620\n",
      "1620\n",
      "1620\n",
      "1620\n",
      "1620\n",
      "1620\n",
      "1620\n"
     ]
    }
   ],
   "source": [
    "print(len(ModelList))\n",
    "print(len(brandList))\n",
    "print(len(manufacturingYearList))\n",
    "print(len(variantList))\n",
    "print(len(KmDrivenList))\n",
    "print(len(ownerList))\n",
    "print(len(versionList))\n",
    "print(len(priceList))\n",
    "print(len(locationList))"
   ]
  },
  {
   "cell_type": "code",
   "execution_count": 399,
   "id": "4236f41c",
   "metadata": {},
   "outputs": [],
   "source": [
    "url=\"https://www.cars24.com/buy-used-maruti-cars-bengaluru/\"\n",
    "driver.get(url)"
   ]
  },
  {
   "cell_type": "code",
   "execution_count": 400,
   "id": "b824a4da",
   "metadata": {},
   "outputs": [],
   "source": [
    "scrapData(\"Bengaluru\")"
   ]
  },
  {
   "cell_type": "code",
   "execution_count": 401,
   "id": "ce10dbc1",
   "metadata": {},
   "outputs": [
    {
     "name": "stdout",
     "output_type": "stream",
     "text": [
      "1998\n",
      "1998\n",
      "1998\n",
      "1998\n",
      "1998\n",
      "1998\n",
      "1998\n",
      "1998\n",
      "1998\n"
     ]
    }
   ],
   "source": [
    "print(len(ModelList))\n",
    "print(len(brandList))\n",
    "print(len(manufacturingYearList))\n",
    "print(len(variantList))\n",
    "print(len(KmDrivenList))\n",
    "print(len(ownerList))\n",
    "print(len(versionList))\n",
    "print(len(priceList))\n",
    "print(len(locationList))"
   ]
  },
  {
   "cell_type": "code",
   "execution_count": 402,
   "id": "c7116131",
   "metadata": {},
   "outputs": [],
   "source": [
    "url=\"https://www.cars24.com/buy-used-car?carName=MARUTI&sort=P&storeCityId=2378&pinId=400001\"\n",
    "driver.get(url)"
   ]
  },
  {
   "cell_type": "code",
   "execution_count": 403,
   "id": "2bc4d0c7",
   "metadata": {},
   "outputs": [],
   "source": [
    "scrapData(\"Mumbai\")"
   ]
  },
  {
   "cell_type": "code",
   "execution_count": 404,
   "id": "2f216a40",
   "metadata": {},
   "outputs": [
    {
     "name": "stdout",
     "output_type": "stream",
     "text": [
      "2707\n",
      "2707\n",
      "2707\n",
      "2707\n",
      "2707\n",
      "2707\n",
      "2707\n",
      "2707\n",
      "2707\n"
     ]
    }
   ],
   "source": [
    "print(len(ModelList))\n",
    "print(len(brandList))\n",
    "print(len(manufacturingYearList))\n",
    "print(len(variantList))\n",
    "print(len(KmDrivenList))\n",
    "print(len(ownerList))\n",
    "print(len(versionList))\n",
    "print(len(priceList))\n",
    "print(len(locationList))"
   ]
  },
  {
   "cell_type": "code",
   "execution_count": 405,
   "id": "2d564ba9",
   "metadata": {},
   "outputs": [],
   "source": [
    "url='https://www.cars24.com/buy-used-maruti-cars-hyderabad/'\n",
    "driver.get(url)"
   ]
  },
  {
   "cell_type": "code",
   "execution_count": 406,
   "id": "802aee8d",
   "metadata": {},
   "outputs": [],
   "source": [
    "scrapData(\"Hyderabad\")"
   ]
  },
  {
   "cell_type": "code",
   "execution_count": 407,
   "id": "8d4a2c21",
   "metadata": {},
   "outputs": [
    {
     "name": "stdout",
     "output_type": "stream",
     "text": [
      "2946\n",
      "2946\n",
      "2946\n",
      "2946\n",
      "2946\n",
      "2946\n",
      "2946\n",
      "2946\n",
      "2946\n"
     ]
    }
   ],
   "source": [
    "print(len(ModelList))\n",
    "print(len(brandList))\n",
    "print(len(manufacturingYearList))\n",
    "print(len(variantList))\n",
    "print(len(KmDrivenList))\n",
    "print(len(ownerList))\n",
    "print(len(versionList))\n",
    "print(len(priceList))\n",
    "print(len(locationList))"
   ]
  },
  {
   "cell_type": "code",
   "execution_count": 408,
   "id": "70707bea",
   "metadata": {},
   "outputs": [],
   "source": [
    "url=\"https://www.cars24.com/buy-used-car?carName=MARUTI&sort=P&search=MARUTI&storeCityId=8597&pinId=201301\"\n",
    "driver.get(url)"
   ]
  },
  {
   "cell_type": "code",
   "execution_count": 409,
   "id": "41cedec6",
   "metadata": {},
   "outputs": [],
   "source": [
    "scrapData(\"Noida\")"
   ]
  },
  {
   "cell_type": "code",
   "execution_count": 410,
   "id": "25b0d56a",
   "metadata": {},
   "outputs": [
    {
     "name": "stdout",
     "output_type": "stream",
     "text": [
      "3859\n",
      "3859\n",
      "3859\n",
      "3859\n",
      "3859\n",
      "3859\n",
      "3859\n",
      "3859\n",
      "3859\n"
     ]
    }
   ],
   "source": [
    "print(len(ModelList))\n",
    "print(len(brandList))\n",
    "print(len(manufacturingYearList))\n",
    "print(len(variantList))\n",
    "print(len(KmDrivenList))\n",
    "print(len(ownerList))\n",
    "print(len(versionList))\n",
    "print(len(priceList))\n",
    "print(len(locationList))"
   ]
  },
  {
   "cell_type": "code",
   "execution_count": 411,
   "id": "32853ccc",
   "metadata": {},
   "outputs": [],
   "source": [
    "url='https://www.cars24.com/buy-used-car?carName=HONDA&sort=P&search=HONDA&storeCityId=8597&pinId=560001'\n",
    "driver.get(url)"
   ]
  },
  {
   "cell_type": "code",
   "execution_count": 412,
   "id": "ea5154c7",
   "metadata": {},
   "outputs": [],
   "source": [
    "scrapData(\"Bengaluru\")"
   ]
  },
  {
   "cell_type": "code",
   "execution_count": 413,
   "id": "dc7157a4",
   "metadata": {},
   "outputs": [
    {
     "name": "stdout",
     "output_type": "stream",
     "text": [
      "3889\n",
      "3889\n",
      "3889\n",
      "3889\n",
      "3889\n",
      "3889\n",
      "3889\n",
      "3889\n",
      "3889\n"
     ]
    }
   ],
   "source": [
    "print(len(ModelList))\n",
    "print(len(brandList))\n",
    "print(len(manufacturingYearList))\n",
    "print(len(variantList))\n",
    "print(len(KmDrivenList))\n",
    "print(len(ownerList))\n",
    "print(len(versionList))\n",
    "print(len(priceList))\n",
    "print(len(locationList))"
   ]
  },
  {
   "cell_type": "code",
   "execution_count": 414,
   "id": "25d41772",
   "metadata": {},
   "outputs": [],
   "source": [
    "url=\"https://www.cars24.com/buy-used-car?sort=P&search=MAHINDRA&storeCityId=2&pinId=110001\"\n",
    "driver.get(url)"
   ]
  },
  {
   "cell_type": "code",
   "execution_count": 415,
   "id": "f0017b0f",
   "metadata": {},
   "outputs": [],
   "source": [
    "scrapData(\"NewDelhi\")"
   ]
  },
  {
   "cell_type": "code",
   "execution_count": 416,
   "id": "00021dbb",
   "metadata": {},
   "outputs": [
    {
     "name": "stdout",
     "output_type": "stream",
     "text": [
      "3963\n",
      "3963\n",
      "3963\n",
      "3963\n",
      "3963\n",
      "3963\n",
      "3963\n",
      "3963\n",
      "3963\n"
     ]
    }
   ],
   "source": [
    "print(len(ModelList))\n",
    "print(len(brandList))\n",
    "print(len(manufacturingYearList))\n",
    "print(len(variantList))\n",
    "print(len(KmDrivenList))\n",
    "print(len(ownerList))\n",
    "print(len(versionList))\n",
    "print(len(priceList))\n",
    "print(len(locationList))"
   ]
  },
  {
   "cell_type": "code",
   "execution_count": 417,
   "id": "266b18ed",
   "metadata": {},
   "outputs": [],
   "source": [
    "url='https://www.cars24.com/buy-used-car?carName=TATA&sort=P&storeCityId=4709&pinId=560001'\n",
    "driver.get(url)"
   ]
  },
  {
   "cell_type": "code",
   "execution_count": 418,
   "id": "1a5d2d30",
   "metadata": {},
   "outputs": [],
   "source": [
    "scrapData(\"Bengaluru\")"
   ]
  },
  {
   "cell_type": "code",
   "execution_count": 419,
   "id": "66bd52b1",
   "metadata": {},
   "outputs": [
    {
     "name": "stdout",
     "output_type": "stream",
     "text": [
      "3985\n",
      "3985\n",
      "3985\n",
      "3985\n",
      "3985\n",
      "3985\n",
      "3985\n",
      "3985\n",
      "3985\n"
     ]
    }
   ],
   "source": [
    "print(len(ModelList))\n",
    "print(len(brandList))\n",
    "print(len(manufacturingYearList))\n",
    "print(len(variantList))\n",
    "print(len(KmDrivenList))\n",
    "print(len(ownerList))\n",
    "print(len(versionList))\n",
    "print(len(priceList))\n",
    "print(len(locationList))"
   ]
  },
  {
   "cell_type": "code",
   "execution_count": 420,
   "id": "6304682c",
   "metadata": {},
   "outputs": [],
   "source": [
    "url='https://www.cars24.com/buy-used-ford-cars-bengaluru/'\n",
    "driver.get(url)"
   ]
  },
  {
   "cell_type": "code",
   "execution_count": 421,
   "id": "4625b325",
   "metadata": {},
   "outputs": [],
   "source": [
    "scrapData(\"Bengaluru\")"
   ]
  },
  {
   "cell_type": "code",
   "execution_count": 422,
   "id": "382953a2",
   "metadata": {},
   "outputs": [
    {
     "name": "stdout",
     "output_type": "stream",
     "text": [
      "4000\n",
      "4000\n",
      "4000\n",
      "4000\n",
      "4000\n",
      "4000\n",
      "4000\n",
      "4000\n",
      "4000\n"
     ]
    }
   ],
   "source": [
    "print(len(ModelList))\n",
    "print(len(brandList))\n",
    "print(len(manufacturingYearList))\n",
    "print(len(variantList))\n",
    "print(len(KmDrivenList))\n",
    "print(len(ownerList))\n",
    "print(len(versionList))\n",
    "print(len(priceList))\n",
    "print(len(locationList))"
   ]
  },
  {
   "cell_type": "code",
   "execution_count": 423,
   "id": "edce78a3",
   "metadata": {},
   "outputs": [],
   "source": [
    "url='https://www.cars24.com/buy-used-car?sort=P&storeCityId=1692&pinId=380001'\n",
    "driver.get(url)"
   ]
  },
  {
   "cell_type": "code",
   "execution_count": 424,
   "id": "f55cbd0d",
   "metadata": {},
   "outputs": [],
   "source": [
    "scrapData(\"Ahemadabaad\")"
   ]
  },
  {
   "cell_type": "code",
   "execution_count": 425,
   "id": "17122286",
   "metadata": {},
   "outputs": [
    {
     "name": "stdout",
     "output_type": "stream",
     "text": [
      "4298\n",
      "4298\n",
      "4298\n",
      "4298\n",
      "4298\n",
      "4298\n",
      "4298\n",
      "4298\n",
      "4298\n"
     ]
    }
   ],
   "source": [
    "print(len(ModelList))\n",
    "print(len(brandList))\n",
    "print(len(manufacturingYearList))\n",
    "print(len(variantList))\n",
    "print(len(KmDrivenList))\n",
    "print(len(ownerList))\n",
    "print(len(versionList))\n",
    "print(len(priceList))\n",
    "print(len(locationList))"
   ]
  },
  {
   "cell_type": "code",
   "execution_count": 426,
   "id": "dc829ad4",
   "metadata": {},
   "outputs": [],
   "source": [
    "url='https://www.cars24.com/buy-used-car?sort=P&storeCityId=2423&pinId=411001'\n",
    "driver.get(url)"
   ]
  },
  {
   "cell_type": "code",
   "execution_count": 427,
   "id": "145731a9",
   "metadata": {},
   "outputs": [],
   "source": [
    "scrapData(\"Pune\")"
   ]
  },
  {
   "cell_type": "code",
   "execution_count": 428,
   "id": "cc7a3c46",
   "metadata": {},
   "outputs": [
    {
     "name": "stdout",
     "output_type": "stream",
     "text": [
      "5609\n",
      "5609\n",
      "5609\n",
      "5609\n",
      "5609\n",
      "5609\n",
      "5609\n",
      "5609\n",
      "5609\n"
     ]
    }
   ],
   "source": [
    "print(len(ModelList))\n",
    "print(len(brandList))\n",
    "print(len(manufacturingYearList))\n",
    "print(len(variantList))\n",
    "print(len(KmDrivenList))\n",
    "print(len(ownerList))\n",
    "print(len(versionList))\n",
    "print(len(priceList))\n",
    "print(len(locationList))"
   ]
  },
  {
   "cell_type": "code",
   "execution_count": 431,
   "id": "63e10b07",
   "metadata": {},
   "outputs": [],
   "source": [
    "df=pd.DataFrame({})\n",
    "df['Brand']=brandList\n",
    "df['Model']=ModelList\n",
    "\n",
    "df['Year']=manufacturingYearList\n",
    "df['Variant']=variantList\n",
    "df['Location']=locationList\n",
    "df['version']=versionList\n",
    "df['Number of Owners']=ownerList\n",
    "df['KmDriven']=KmDrivenList\n",
    "df['Price']=priceList"
   ]
  },
  {
   "cell_type": "code",
   "execution_count": null,
   "id": "670303f6",
   "metadata": {},
   "outputs": [],
   "source": []
  },
  {
   "cell_type": "code",
   "execution_count": 432,
   "id": "8b941f62",
   "metadata": {},
   "outputs": [
    {
     "data": {
      "text/html": [
       "<div>\n",
       "<style scoped>\n",
       "    .dataframe tbody tr th:only-of-type {\n",
       "        vertical-align: middle;\n",
       "    }\n",
       "\n",
       "    .dataframe tbody tr th {\n",
       "        vertical-align: top;\n",
       "    }\n",
       "\n",
       "    .dataframe thead th {\n",
       "        text-align: right;\n",
       "    }\n",
       "</style>\n",
       "<table border=\"1\" class=\"dataframe\">\n",
       "  <thead>\n",
       "    <tr style=\"text-align: right;\">\n",
       "      <th></th>\n",
       "      <th>Brand</th>\n",
       "      <th>Model</th>\n",
       "      <th>Year</th>\n",
       "      <th>Variant</th>\n",
       "      <th>Location</th>\n",
       "      <th>version</th>\n",
       "      <th>Number of Owners</th>\n",
       "      <th>KmDriven</th>\n",
       "      <th>Price</th>\n",
       "    </tr>\n",
       "  </thead>\n",
       "  <tbody>\n",
       "    <tr>\n",
       "      <th>0</th>\n",
       "      <td>Hyundai</td>\n",
       "      <td>VENUE</td>\n",
       "      <td>2021</td>\n",
       "      <td>S MT 1.2 KAPPA</td>\n",
       "      <td>Noida</td>\n",
       "      <td>Petrol</td>\n",
       "      <td>1st Owner</td>\n",
       "      <td>2589</td>\n",
       "      <td>807999</td>\n",
       "    </tr>\n",
       "    <tr>\n",
       "      <th>1</th>\n",
       "      <td>Hyundai</td>\n",
       "      <td>Grand i10</td>\n",
       "      <td>2014</td>\n",
       "      <td>ASTA 1.2 AT VTVT Automatic</td>\n",
       "      <td>Noida</td>\n",
       "      <td>Petrol</td>\n",
       "      <td>1st Owner</td>\n",
       "      <td>26779</td>\n",
       "      <td>420000</td>\n",
       "    </tr>\n",
       "    <tr>\n",
       "      <th>2</th>\n",
       "      <td>Hyundai</td>\n",
       "      <td>Grand i10</td>\n",
       "      <td>2017</td>\n",
       "      <td>MAGNA 1.2 KAPPA VTVT Manual</td>\n",
       "      <td>Noida</td>\n",
       "      <td>Petrol</td>\n",
       "      <td>1st Owner</td>\n",
       "      <td>9249</td>\n",
       "      <td>442199</td>\n",
       "    </tr>\n",
       "    <tr>\n",
       "      <th>3</th>\n",
       "      <td>Hyundai</td>\n",
       "      <td>Elite i20</td>\n",
       "      <td>2018</td>\n",
       "      <td>Magna Executive 1.2 Manual</td>\n",
       "      <td>Noida</td>\n",
       "      <td>Petrol</td>\n",
       "      <td>1st Owner</td>\n",
       "      <td>5937</td>\n",
       "      <td>577399</td>\n",
       "    </tr>\n",
       "    <tr>\n",
       "      <th>4</th>\n",
       "      <td>Hyundai</td>\n",
       "      <td>i20</td>\n",
       "      <td>2013</td>\n",
       "      <td>ERA 1.4 CRDI Manual</td>\n",
       "      <td>Noida</td>\n",
       "      <td>Diesel</td>\n",
       "      <td>1st Owner</td>\n",
       "      <td>32281</td>\n",
       "      <td>318699</td>\n",
       "    </tr>\n",
       "    <tr>\n",
       "      <th>...</th>\n",
       "      <td>...</td>\n",
       "      <td>...</td>\n",
       "      <td>...</td>\n",
       "      <td>...</td>\n",
       "      <td>...</td>\n",
       "      <td>...</td>\n",
       "      <td>...</td>\n",
       "      <td>...</td>\n",
       "      <td>...</td>\n",
       "    </tr>\n",
       "    <tr>\n",
       "      <th>5604</th>\n",
       "      <td>Maruti</td>\n",
       "      <td>Ertiga</td>\n",
       "      <td>2015</td>\n",
       "      <td>VDI ABS Manual</td>\n",
       "      <td>Pune</td>\n",
       "      <td>Diesel</td>\n",
       "      <td>1st Owner</td>\n",
       "      <td>88216</td>\n",
       "      <td>596699</td>\n",
       "    </tr>\n",
       "    <tr>\n",
       "      <th>5605</th>\n",
       "      <td>Hyundai</td>\n",
       "      <td>i20</td>\n",
       "      <td>2013</td>\n",
       "      <td>SPORTZ 1.2 VTVT Manual</td>\n",
       "      <td>Pune</td>\n",
       "      <td>Petrol</td>\n",
       "      <td>1st Owner</td>\n",
       "      <td>113370</td>\n",
       "      <td>329699</td>\n",
       "    </tr>\n",
       "    <tr>\n",
       "      <th>5606</th>\n",
       "      <td>Hyundai</td>\n",
       "      <td>Creta</td>\n",
       "      <td>2015</td>\n",
       "      <td>1.6 SX (O) CRDI</td>\n",
       "      <td>Pune</td>\n",
       "      <td>Diesel</td>\n",
       "      <td>1st Owner</td>\n",
       "      <td>99645</td>\n",
       "      <td>782299</td>\n",
       "    </tr>\n",
       "    <tr>\n",
       "      <th>5607</th>\n",
       "      <td>Honda</td>\n",
       "      <td>Mobilio</td>\n",
       "      <td>2015</td>\n",
       "      <td>1.5 V I VTEC Manual</td>\n",
       "      <td>Pune</td>\n",
       "      <td>Petrol + CNG</td>\n",
       "      <td>1st Owner</td>\n",
       "      <td>108687</td>\n",
       "      <td>505199</td>\n",
       "    </tr>\n",
       "    <tr>\n",
       "      <th>5608</th>\n",
       "      <td>Skoda</td>\n",
       "      <td>Superb</td>\n",
       "      <td>2009</td>\n",
       "      <td>ELEGANCE 1.8 TSI AT Automatic</td>\n",
       "      <td>Pune</td>\n",
       "      <td>Petrol</td>\n",
       "      <td>1st Owner</td>\n",
       "      <td>103426</td>\n",
       "      <td>253399</td>\n",
       "    </tr>\n",
       "  </tbody>\n",
       "</table>\n",
       "<p>5609 rows × 9 columns</p>\n",
       "</div>"
      ],
      "text/plain": [
       "        Brand      Model  Year                        Variant Location  \\\n",
       "0     Hyundai      VENUE  2021                 S MT 1.2 KAPPA    Noida   \n",
       "1     Hyundai  Grand i10  2014     ASTA 1.2 AT VTVT Automatic    Noida   \n",
       "2     Hyundai  Grand i10  2017    MAGNA 1.2 KAPPA VTVT Manual    Noida   \n",
       "3     Hyundai  Elite i20  2018     Magna Executive 1.2 Manual    Noida   \n",
       "4     Hyundai        i20  2013            ERA 1.4 CRDI Manual    Noida   \n",
       "...       ...        ...   ...                            ...      ...   \n",
       "5604   Maruti     Ertiga  2015                 VDI ABS Manual     Pune   \n",
       "5605  Hyundai        i20  2013         SPORTZ 1.2 VTVT Manual     Pune   \n",
       "5606  Hyundai      Creta  2015                1.6 SX (O) CRDI     Pune   \n",
       "5607    Honda    Mobilio  2015            1.5 V I VTEC Manual     Pune   \n",
       "5608    Skoda     Superb  2009  ELEGANCE 1.8 TSI AT Automatic     Pune   \n",
       "\n",
       "           version Number of Owners  KmDriven   Price  \n",
       "0           Petrol        1st Owner      2589  807999  \n",
       "1           Petrol        1st Owner     26779  420000  \n",
       "2           Petrol        1st Owner      9249  442199  \n",
       "3           Petrol        1st Owner      5937  577399  \n",
       "4           Diesel        1st Owner     32281  318699  \n",
       "...            ...              ...       ...     ...  \n",
       "5604        Diesel        1st Owner     88216  596699  \n",
       "5605        Petrol        1st Owner    113370  329699  \n",
       "5606        Diesel        1st Owner     99645  782299  \n",
       "5607  Petrol + CNG        1st Owner    108687  505199  \n",
       "5608        Petrol        1st Owner    103426  253399  \n",
       "\n",
       "[5609 rows x 9 columns]"
      ]
     },
     "execution_count": 432,
     "metadata": {},
     "output_type": "execute_result"
    }
   ],
   "source": [
    "df"
   ]
  },
  {
   "cell_type": "code",
   "execution_count": 433,
   "id": "763c0107",
   "metadata": {},
   "outputs": [],
   "source": [
    "df.to_csv(\"CarPredictionData\")"
   ]
  }
 ],
 "metadata": {
  "kernelspec": {
   "display_name": "Python 3",
   "language": "python",
   "name": "python3"
  },
  "language_info": {
   "codemirror_mode": {
    "name": "ipython",
    "version": 3
   },
   "file_extension": ".py",
   "mimetype": "text/x-python",
   "name": "python",
   "nbconvert_exporter": "python",
   "pygments_lexer": "ipython3",
   "version": "3.6.2"
  }
 },
 "nbformat": 4,
 "nbformat_minor": 5
}
