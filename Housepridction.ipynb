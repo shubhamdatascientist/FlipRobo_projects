{
 "cells": [
  {
   "cell_type": "code",
   "execution_count": 62,
   "id": "fa60918c",
   "metadata": {},
   "outputs": [],
   "source": [
    "import pandas as pd\n",
    "import numpy as np\n",
    "import matplotlib.pyplot as plt\n",
    "import seaborn as sns\n",
    "import warnings\n",
    "warnings.filterwarnings(\"ignore\")\n",
    "pd.set_option(\"display.max_columns\",100)\n",
    "pd.set_option(\"display.max_rows\",None)"
   ]
  },
  {
   "cell_type": "markdown",
   "id": "2ab9d0e0",
   "metadata": {},
   "source": [
    "# Loading Train Dataset"
   ]
  },
  {
   "cell_type": "code",
   "execution_count": 63,
   "id": "2879a9ac",
   "metadata": {},
   "outputs": [
    {
     "data": {
      "text/html": [
       "<div>\n",
       "<style scoped>\n",
       "    .dataframe tbody tr th:only-of-type {\n",
       "        vertical-align: middle;\n",
       "    }\n",
       "\n",
       "    .dataframe tbody tr th {\n",
       "        vertical-align: top;\n",
       "    }\n",
       "\n",
       "    .dataframe thead th {\n",
       "        text-align: right;\n",
       "    }\n",
       "</style>\n",
       "<table border=\"1\" class=\"dataframe\">\n",
       "  <thead>\n",
       "    <tr style=\"text-align: right;\">\n",
       "      <th></th>\n",
       "      <th>Id</th>\n",
       "      <th>MSSubClass</th>\n",
       "      <th>MSZoning</th>\n",
       "      <th>LotFrontage</th>\n",
       "      <th>LotArea</th>\n",
       "      <th>Street</th>\n",
       "      <th>Alley</th>\n",
       "      <th>LotShape</th>\n",
       "      <th>LandContour</th>\n",
       "      <th>Utilities</th>\n",
       "      <th>LotConfig</th>\n",
       "      <th>LandSlope</th>\n",
       "      <th>Neighborhood</th>\n",
       "      <th>Condition1</th>\n",
       "      <th>Condition2</th>\n",
       "      <th>BldgType</th>\n",
       "      <th>HouseStyle</th>\n",
       "      <th>OverallQual</th>\n",
       "      <th>OverallCond</th>\n",
       "      <th>YearBuilt</th>\n",
       "      <th>YearRemodAdd</th>\n",
       "      <th>RoofStyle</th>\n",
       "      <th>RoofMatl</th>\n",
       "      <th>Exterior1st</th>\n",
       "      <th>Exterior2nd</th>\n",
       "      <th>MasVnrType</th>\n",
       "      <th>MasVnrArea</th>\n",
       "      <th>ExterQual</th>\n",
       "      <th>ExterCond</th>\n",
       "      <th>Foundation</th>\n",
       "      <th>BsmtQual</th>\n",
       "      <th>BsmtCond</th>\n",
       "      <th>BsmtExposure</th>\n",
       "      <th>BsmtFinType1</th>\n",
       "      <th>BsmtFinSF1</th>\n",
       "      <th>BsmtFinType2</th>\n",
       "      <th>BsmtFinSF2</th>\n",
       "      <th>BsmtUnfSF</th>\n",
       "      <th>TotalBsmtSF</th>\n",
       "      <th>Heating</th>\n",
       "      <th>HeatingQC</th>\n",
       "      <th>CentralAir</th>\n",
       "      <th>Electrical</th>\n",
       "      <th>1stFlrSF</th>\n",
       "      <th>2ndFlrSF</th>\n",
       "      <th>LowQualFinSF</th>\n",
       "      <th>GrLivArea</th>\n",
       "      <th>BsmtFullBath</th>\n",
       "      <th>BsmtHalfBath</th>\n",
       "      <th>FullBath</th>\n",
       "      <th>HalfBath</th>\n",
       "      <th>BedroomAbvGr</th>\n",
       "      <th>KitchenAbvGr</th>\n",
       "      <th>KitchenQual</th>\n",
       "      <th>TotRmsAbvGrd</th>\n",
       "      <th>Functional</th>\n",
       "      <th>Fireplaces</th>\n",
       "      <th>FireplaceQu</th>\n",
       "      <th>GarageType</th>\n",
       "      <th>GarageYrBlt</th>\n",
       "      <th>GarageFinish</th>\n",
       "      <th>GarageCars</th>\n",
       "      <th>GarageArea</th>\n",
       "      <th>GarageQual</th>\n",
       "      <th>GarageCond</th>\n",
       "      <th>PavedDrive</th>\n",
       "      <th>WoodDeckSF</th>\n",
       "      <th>OpenPorchSF</th>\n",
       "      <th>EnclosedPorch</th>\n",
       "      <th>3SsnPorch</th>\n",
       "      <th>ScreenPorch</th>\n",
       "      <th>PoolArea</th>\n",
       "      <th>PoolQC</th>\n",
       "      <th>Fence</th>\n",
       "      <th>MiscFeature</th>\n",
       "      <th>MiscVal</th>\n",
       "      <th>MoSold</th>\n",
       "      <th>YrSold</th>\n",
       "      <th>SaleType</th>\n",
       "      <th>SaleCondition</th>\n",
       "      <th>SalePrice</th>\n",
       "    </tr>\n",
       "  </thead>\n",
       "  <tbody>\n",
       "    <tr>\n",
       "      <th>0</th>\n",
       "      <td>127</td>\n",
       "      <td>120</td>\n",
       "      <td>RL</td>\n",
       "      <td>NaN</td>\n",
       "      <td>4928</td>\n",
       "      <td>Pave</td>\n",
       "      <td>NaN</td>\n",
       "      <td>IR1</td>\n",
       "      <td>Lvl</td>\n",
       "      <td>AllPub</td>\n",
       "      <td>Inside</td>\n",
       "      <td>Gtl</td>\n",
       "      <td>NPkVill</td>\n",
       "      <td>Norm</td>\n",
       "      <td>Norm</td>\n",
       "      <td>TwnhsE</td>\n",
       "      <td>1Story</td>\n",
       "      <td>6</td>\n",
       "      <td>5</td>\n",
       "      <td>1976</td>\n",
       "      <td>1976</td>\n",
       "      <td>Gable</td>\n",
       "      <td>CompShg</td>\n",
       "      <td>Plywood</td>\n",
       "      <td>Plywood</td>\n",
       "      <td>None</td>\n",
       "      <td>0.0</td>\n",
       "      <td>TA</td>\n",
       "      <td>TA</td>\n",
       "      <td>CBlock</td>\n",
       "      <td>Gd</td>\n",
       "      <td>TA</td>\n",
       "      <td>No</td>\n",
       "      <td>ALQ</td>\n",
       "      <td>120</td>\n",
       "      <td>Unf</td>\n",
       "      <td>0</td>\n",
       "      <td>958</td>\n",
       "      <td>1078</td>\n",
       "      <td>GasA</td>\n",
       "      <td>TA</td>\n",
       "      <td>Y</td>\n",
       "      <td>SBrkr</td>\n",
       "      <td>958</td>\n",
       "      <td>0</td>\n",
       "      <td>0</td>\n",
       "      <td>958</td>\n",
       "      <td>0</td>\n",
       "      <td>0</td>\n",
       "      <td>2</td>\n",
       "      <td>0</td>\n",
       "      <td>2</td>\n",
       "      <td>1</td>\n",
       "      <td>TA</td>\n",
       "      <td>5</td>\n",
       "      <td>Typ</td>\n",
       "      <td>1</td>\n",
       "      <td>TA</td>\n",
       "      <td>Attchd</td>\n",
       "      <td>1977.0</td>\n",
       "      <td>RFn</td>\n",
       "      <td>2</td>\n",
       "      <td>440</td>\n",
       "      <td>TA</td>\n",
       "      <td>TA</td>\n",
       "      <td>Y</td>\n",
       "      <td>0</td>\n",
       "      <td>205</td>\n",
       "      <td>0</td>\n",
       "      <td>0</td>\n",
       "      <td>0</td>\n",
       "      <td>0</td>\n",
       "      <td>NaN</td>\n",
       "      <td>NaN</td>\n",
       "      <td>NaN</td>\n",
       "      <td>0</td>\n",
       "      <td>2</td>\n",
       "      <td>2007</td>\n",
       "      <td>WD</td>\n",
       "      <td>Normal</td>\n",
       "      <td>128000</td>\n",
       "    </tr>\n",
       "    <tr>\n",
       "      <th>1</th>\n",
       "      <td>889</td>\n",
       "      <td>20</td>\n",
       "      <td>RL</td>\n",
       "      <td>95.0</td>\n",
       "      <td>15865</td>\n",
       "      <td>Pave</td>\n",
       "      <td>NaN</td>\n",
       "      <td>IR1</td>\n",
       "      <td>Lvl</td>\n",
       "      <td>AllPub</td>\n",
       "      <td>Inside</td>\n",
       "      <td>Mod</td>\n",
       "      <td>NAmes</td>\n",
       "      <td>Norm</td>\n",
       "      <td>Norm</td>\n",
       "      <td>1Fam</td>\n",
       "      <td>1Story</td>\n",
       "      <td>8</td>\n",
       "      <td>6</td>\n",
       "      <td>1970</td>\n",
       "      <td>1970</td>\n",
       "      <td>Flat</td>\n",
       "      <td>Tar&amp;Grv</td>\n",
       "      <td>Wd Sdng</td>\n",
       "      <td>Wd Sdng</td>\n",
       "      <td>None</td>\n",
       "      <td>0.0</td>\n",
       "      <td>Gd</td>\n",
       "      <td>Gd</td>\n",
       "      <td>PConc</td>\n",
       "      <td>TA</td>\n",
       "      <td>Gd</td>\n",
       "      <td>Gd</td>\n",
       "      <td>ALQ</td>\n",
       "      <td>351</td>\n",
       "      <td>Rec</td>\n",
       "      <td>823</td>\n",
       "      <td>1043</td>\n",
       "      <td>2217</td>\n",
       "      <td>GasA</td>\n",
       "      <td>Ex</td>\n",
       "      <td>Y</td>\n",
       "      <td>SBrkr</td>\n",
       "      <td>2217</td>\n",
       "      <td>0</td>\n",
       "      <td>0</td>\n",
       "      <td>2217</td>\n",
       "      <td>1</td>\n",
       "      <td>0</td>\n",
       "      <td>2</td>\n",
       "      <td>0</td>\n",
       "      <td>4</td>\n",
       "      <td>1</td>\n",
       "      <td>Gd</td>\n",
       "      <td>8</td>\n",
       "      <td>Typ</td>\n",
       "      <td>1</td>\n",
       "      <td>TA</td>\n",
       "      <td>Attchd</td>\n",
       "      <td>1970.0</td>\n",
       "      <td>Unf</td>\n",
       "      <td>2</td>\n",
       "      <td>621</td>\n",
       "      <td>TA</td>\n",
       "      <td>TA</td>\n",
       "      <td>Y</td>\n",
       "      <td>81</td>\n",
       "      <td>207</td>\n",
       "      <td>0</td>\n",
       "      <td>0</td>\n",
       "      <td>224</td>\n",
       "      <td>0</td>\n",
       "      <td>NaN</td>\n",
       "      <td>NaN</td>\n",
       "      <td>NaN</td>\n",
       "      <td>0</td>\n",
       "      <td>10</td>\n",
       "      <td>2007</td>\n",
       "      <td>WD</td>\n",
       "      <td>Normal</td>\n",
       "      <td>268000</td>\n",
       "    </tr>\n",
       "    <tr>\n",
       "      <th>2</th>\n",
       "      <td>793</td>\n",
       "      <td>60</td>\n",
       "      <td>RL</td>\n",
       "      <td>92.0</td>\n",
       "      <td>9920</td>\n",
       "      <td>Pave</td>\n",
       "      <td>NaN</td>\n",
       "      <td>IR1</td>\n",
       "      <td>Lvl</td>\n",
       "      <td>AllPub</td>\n",
       "      <td>CulDSac</td>\n",
       "      <td>Gtl</td>\n",
       "      <td>NoRidge</td>\n",
       "      <td>Norm</td>\n",
       "      <td>Norm</td>\n",
       "      <td>1Fam</td>\n",
       "      <td>2Story</td>\n",
       "      <td>7</td>\n",
       "      <td>5</td>\n",
       "      <td>1996</td>\n",
       "      <td>1997</td>\n",
       "      <td>Gable</td>\n",
       "      <td>CompShg</td>\n",
       "      <td>MetalSd</td>\n",
       "      <td>MetalSd</td>\n",
       "      <td>None</td>\n",
       "      <td>0.0</td>\n",
       "      <td>Gd</td>\n",
       "      <td>TA</td>\n",
       "      <td>PConc</td>\n",
       "      <td>Gd</td>\n",
       "      <td>TA</td>\n",
       "      <td>Av</td>\n",
       "      <td>GLQ</td>\n",
       "      <td>862</td>\n",
       "      <td>Unf</td>\n",
       "      <td>0</td>\n",
       "      <td>255</td>\n",
       "      <td>1117</td>\n",
       "      <td>GasA</td>\n",
       "      <td>Ex</td>\n",
       "      <td>Y</td>\n",
       "      <td>SBrkr</td>\n",
       "      <td>1127</td>\n",
       "      <td>886</td>\n",
       "      <td>0</td>\n",
       "      <td>2013</td>\n",
       "      <td>1</td>\n",
       "      <td>0</td>\n",
       "      <td>2</td>\n",
       "      <td>1</td>\n",
       "      <td>3</td>\n",
       "      <td>1</td>\n",
       "      <td>TA</td>\n",
       "      <td>8</td>\n",
       "      <td>Typ</td>\n",
       "      <td>1</td>\n",
       "      <td>TA</td>\n",
       "      <td>Attchd</td>\n",
       "      <td>1997.0</td>\n",
       "      <td>Unf</td>\n",
       "      <td>2</td>\n",
       "      <td>455</td>\n",
       "      <td>TA</td>\n",
       "      <td>TA</td>\n",
       "      <td>Y</td>\n",
       "      <td>180</td>\n",
       "      <td>130</td>\n",
       "      <td>0</td>\n",
       "      <td>0</td>\n",
       "      <td>0</td>\n",
       "      <td>0</td>\n",
       "      <td>NaN</td>\n",
       "      <td>NaN</td>\n",
       "      <td>NaN</td>\n",
       "      <td>0</td>\n",
       "      <td>6</td>\n",
       "      <td>2007</td>\n",
       "      <td>WD</td>\n",
       "      <td>Normal</td>\n",
       "      <td>269790</td>\n",
       "    </tr>\n",
       "    <tr>\n",
       "      <th>3</th>\n",
       "      <td>110</td>\n",
       "      <td>20</td>\n",
       "      <td>RL</td>\n",
       "      <td>105.0</td>\n",
       "      <td>11751</td>\n",
       "      <td>Pave</td>\n",
       "      <td>NaN</td>\n",
       "      <td>IR1</td>\n",
       "      <td>Lvl</td>\n",
       "      <td>AllPub</td>\n",
       "      <td>Inside</td>\n",
       "      <td>Gtl</td>\n",
       "      <td>NWAmes</td>\n",
       "      <td>Norm</td>\n",
       "      <td>Norm</td>\n",
       "      <td>1Fam</td>\n",
       "      <td>1Story</td>\n",
       "      <td>6</td>\n",
       "      <td>6</td>\n",
       "      <td>1977</td>\n",
       "      <td>1977</td>\n",
       "      <td>Hip</td>\n",
       "      <td>CompShg</td>\n",
       "      <td>Plywood</td>\n",
       "      <td>Plywood</td>\n",
       "      <td>BrkFace</td>\n",
       "      <td>480.0</td>\n",
       "      <td>TA</td>\n",
       "      <td>TA</td>\n",
       "      <td>CBlock</td>\n",
       "      <td>Gd</td>\n",
       "      <td>TA</td>\n",
       "      <td>No</td>\n",
       "      <td>BLQ</td>\n",
       "      <td>705</td>\n",
       "      <td>Unf</td>\n",
       "      <td>0</td>\n",
       "      <td>1139</td>\n",
       "      <td>1844</td>\n",
       "      <td>GasA</td>\n",
       "      <td>Ex</td>\n",
       "      <td>Y</td>\n",
       "      <td>SBrkr</td>\n",
       "      <td>1844</td>\n",
       "      <td>0</td>\n",
       "      <td>0</td>\n",
       "      <td>1844</td>\n",
       "      <td>0</td>\n",
       "      <td>0</td>\n",
       "      <td>2</td>\n",
       "      <td>0</td>\n",
       "      <td>3</td>\n",
       "      <td>1</td>\n",
       "      <td>TA</td>\n",
       "      <td>7</td>\n",
       "      <td>Typ</td>\n",
       "      <td>1</td>\n",
       "      <td>TA</td>\n",
       "      <td>Attchd</td>\n",
       "      <td>1977.0</td>\n",
       "      <td>RFn</td>\n",
       "      <td>2</td>\n",
       "      <td>546</td>\n",
       "      <td>TA</td>\n",
       "      <td>TA</td>\n",
       "      <td>Y</td>\n",
       "      <td>0</td>\n",
       "      <td>122</td>\n",
       "      <td>0</td>\n",
       "      <td>0</td>\n",
       "      <td>0</td>\n",
       "      <td>0</td>\n",
       "      <td>NaN</td>\n",
       "      <td>MnPrv</td>\n",
       "      <td>NaN</td>\n",
       "      <td>0</td>\n",
       "      <td>1</td>\n",
       "      <td>2010</td>\n",
       "      <td>COD</td>\n",
       "      <td>Normal</td>\n",
       "      <td>190000</td>\n",
       "    </tr>\n",
       "    <tr>\n",
       "      <th>4</th>\n",
       "      <td>422</td>\n",
       "      <td>20</td>\n",
       "      <td>RL</td>\n",
       "      <td>NaN</td>\n",
       "      <td>16635</td>\n",
       "      <td>Pave</td>\n",
       "      <td>NaN</td>\n",
       "      <td>IR1</td>\n",
       "      <td>Lvl</td>\n",
       "      <td>AllPub</td>\n",
       "      <td>FR2</td>\n",
       "      <td>Gtl</td>\n",
       "      <td>NWAmes</td>\n",
       "      <td>Norm</td>\n",
       "      <td>Norm</td>\n",
       "      <td>1Fam</td>\n",
       "      <td>1Story</td>\n",
       "      <td>6</td>\n",
       "      <td>7</td>\n",
       "      <td>1977</td>\n",
       "      <td>2000</td>\n",
       "      <td>Gable</td>\n",
       "      <td>CompShg</td>\n",
       "      <td>CemntBd</td>\n",
       "      <td>CmentBd</td>\n",
       "      <td>Stone</td>\n",
       "      <td>126.0</td>\n",
       "      <td>Gd</td>\n",
       "      <td>TA</td>\n",
       "      <td>CBlock</td>\n",
       "      <td>Gd</td>\n",
       "      <td>TA</td>\n",
       "      <td>No</td>\n",
       "      <td>ALQ</td>\n",
       "      <td>1246</td>\n",
       "      <td>Unf</td>\n",
       "      <td>0</td>\n",
       "      <td>356</td>\n",
       "      <td>1602</td>\n",
       "      <td>GasA</td>\n",
       "      <td>Gd</td>\n",
       "      <td>Y</td>\n",
       "      <td>SBrkr</td>\n",
       "      <td>1602</td>\n",
       "      <td>0</td>\n",
       "      <td>0</td>\n",
       "      <td>1602</td>\n",
       "      <td>0</td>\n",
       "      <td>1</td>\n",
       "      <td>2</td>\n",
       "      <td>0</td>\n",
       "      <td>3</td>\n",
       "      <td>1</td>\n",
       "      <td>Gd</td>\n",
       "      <td>8</td>\n",
       "      <td>Typ</td>\n",
       "      <td>1</td>\n",
       "      <td>TA</td>\n",
       "      <td>Attchd</td>\n",
       "      <td>1977.0</td>\n",
       "      <td>Fin</td>\n",
       "      <td>2</td>\n",
       "      <td>529</td>\n",
       "      <td>TA</td>\n",
       "      <td>TA</td>\n",
       "      <td>Y</td>\n",
       "      <td>240</td>\n",
       "      <td>0</td>\n",
       "      <td>0</td>\n",
       "      <td>0</td>\n",
       "      <td>0</td>\n",
       "      <td>0</td>\n",
       "      <td>NaN</td>\n",
       "      <td>NaN</td>\n",
       "      <td>NaN</td>\n",
       "      <td>0</td>\n",
       "      <td>6</td>\n",
       "      <td>2009</td>\n",
       "      <td>WD</td>\n",
       "      <td>Normal</td>\n",
       "      <td>215000</td>\n",
       "    </tr>\n",
       "  </tbody>\n",
       "</table>\n",
       "</div>"
      ],
      "text/plain": [
       "    Id  MSSubClass MSZoning  LotFrontage  LotArea Street Alley LotShape  \\\n",
       "0  127         120       RL          NaN     4928   Pave   NaN      IR1   \n",
       "1  889          20       RL         95.0    15865   Pave   NaN      IR1   \n",
       "2  793          60       RL         92.0     9920   Pave   NaN      IR1   \n",
       "3  110          20       RL        105.0    11751   Pave   NaN      IR1   \n",
       "4  422          20       RL          NaN    16635   Pave   NaN      IR1   \n",
       "\n",
       "  LandContour Utilities LotConfig LandSlope Neighborhood Condition1  \\\n",
       "0         Lvl    AllPub    Inside       Gtl      NPkVill       Norm   \n",
       "1         Lvl    AllPub    Inside       Mod        NAmes       Norm   \n",
       "2         Lvl    AllPub   CulDSac       Gtl      NoRidge       Norm   \n",
       "3         Lvl    AllPub    Inside       Gtl       NWAmes       Norm   \n",
       "4         Lvl    AllPub       FR2       Gtl       NWAmes       Norm   \n",
       "\n",
       "  Condition2 BldgType HouseStyle  OverallQual  OverallCond  YearBuilt  \\\n",
       "0       Norm   TwnhsE     1Story            6            5       1976   \n",
       "1       Norm     1Fam     1Story            8            6       1970   \n",
       "2       Norm     1Fam     2Story            7            5       1996   \n",
       "3       Norm     1Fam     1Story            6            6       1977   \n",
       "4       Norm     1Fam     1Story            6            7       1977   \n",
       "\n",
       "   YearRemodAdd RoofStyle RoofMatl Exterior1st Exterior2nd MasVnrType  \\\n",
       "0          1976     Gable  CompShg     Plywood     Plywood       None   \n",
       "1          1970      Flat  Tar&Grv     Wd Sdng     Wd Sdng       None   \n",
       "2          1997     Gable  CompShg     MetalSd     MetalSd       None   \n",
       "3          1977       Hip  CompShg     Plywood     Plywood    BrkFace   \n",
       "4          2000     Gable  CompShg     CemntBd     CmentBd      Stone   \n",
       "\n",
       "   MasVnrArea ExterQual ExterCond Foundation BsmtQual BsmtCond BsmtExposure  \\\n",
       "0         0.0        TA        TA     CBlock       Gd       TA           No   \n",
       "1         0.0        Gd        Gd      PConc       TA       Gd           Gd   \n",
       "2         0.0        Gd        TA      PConc       Gd       TA           Av   \n",
       "3       480.0        TA        TA     CBlock       Gd       TA           No   \n",
       "4       126.0        Gd        TA     CBlock       Gd       TA           No   \n",
       "\n",
       "  BsmtFinType1  BsmtFinSF1 BsmtFinType2  BsmtFinSF2  BsmtUnfSF  TotalBsmtSF  \\\n",
       "0          ALQ         120          Unf           0        958         1078   \n",
       "1          ALQ         351          Rec         823       1043         2217   \n",
       "2          GLQ         862          Unf           0        255         1117   \n",
       "3          BLQ         705          Unf           0       1139         1844   \n",
       "4          ALQ        1246          Unf           0        356         1602   \n",
       "\n",
       "  Heating HeatingQC CentralAir Electrical  1stFlrSF  2ndFlrSF  LowQualFinSF  \\\n",
       "0    GasA        TA          Y      SBrkr       958         0             0   \n",
       "1    GasA        Ex          Y      SBrkr      2217         0             0   \n",
       "2    GasA        Ex          Y      SBrkr      1127       886             0   \n",
       "3    GasA        Ex          Y      SBrkr      1844         0             0   \n",
       "4    GasA        Gd          Y      SBrkr      1602         0             0   \n",
       "\n",
       "   GrLivArea  BsmtFullBath  BsmtHalfBath  FullBath  HalfBath  BedroomAbvGr  \\\n",
       "0        958             0             0         2         0             2   \n",
       "1       2217             1             0         2         0             4   \n",
       "2       2013             1             0         2         1             3   \n",
       "3       1844             0             0         2         0             3   \n",
       "4       1602             0             1         2         0             3   \n",
       "\n",
       "   KitchenAbvGr KitchenQual  TotRmsAbvGrd Functional  Fireplaces FireplaceQu  \\\n",
       "0             1          TA             5        Typ           1          TA   \n",
       "1             1          Gd             8        Typ           1          TA   \n",
       "2             1          TA             8        Typ           1          TA   \n",
       "3             1          TA             7        Typ           1          TA   \n",
       "4             1          Gd             8        Typ           1          TA   \n",
       "\n",
       "  GarageType  GarageYrBlt GarageFinish  GarageCars  GarageArea GarageQual  \\\n",
       "0     Attchd       1977.0          RFn           2         440         TA   \n",
       "1     Attchd       1970.0          Unf           2         621         TA   \n",
       "2     Attchd       1997.0          Unf           2         455         TA   \n",
       "3     Attchd       1977.0          RFn           2         546         TA   \n",
       "4     Attchd       1977.0          Fin           2         529         TA   \n",
       "\n",
       "  GarageCond PavedDrive  WoodDeckSF  OpenPorchSF  EnclosedPorch  3SsnPorch  \\\n",
       "0         TA          Y           0          205              0          0   \n",
       "1         TA          Y          81          207              0          0   \n",
       "2         TA          Y         180          130              0          0   \n",
       "3         TA          Y           0          122              0          0   \n",
       "4         TA          Y         240            0              0          0   \n",
       "\n",
       "   ScreenPorch  PoolArea PoolQC  Fence MiscFeature  MiscVal  MoSold  YrSold  \\\n",
       "0            0         0    NaN    NaN         NaN        0       2    2007   \n",
       "1          224         0    NaN    NaN         NaN        0      10    2007   \n",
       "2            0         0    NaN    NaN         NaN        0       6    2007   \n",
       "3            0         0    NaN  MnPrv         NaN        0       1    2010   \n",
       "4            0         0    NaN    NaN         NaN        0       6    2009   \n",
       "\n",
       "  SaleType SaleCondition  SalePrice  \n",
       "0       WD        Normal     128000  \n",
       "1       WD        Normal     268000  \n",
       "2       WD        Normal     269790  \n",
       "3      COD        Normal     190000  \n",
       "4       WD        Normal     215000  "
      ]
     },
     "execution_count": 63,
     "metadata": {},
     "output_type": "execute_result"
    }
   ],
   "source": [
    "df_train=pd.read_csv(\"train-housing.csv\")\n",
    "df_train.head()"
   ]
  },
  {
   "cell_type": "code",
   "execution_count": 64,
   "id": "cd223e9e",
   "metadata": {},
   "outputs": [
    {
     "data": {
      "text/plain": [
       "(1168, 81)"
      ]
     },
     "execution_count": 64,
     "metadata": {},
     "output_type": "execute_result"
    }
   ],
   "source": [
    "#Shape of the data\n",
    "df_train.shape"
   ]
  },
  {
   "cell_type": "code",
   "execution_count": 65,
   "id": "6bf48f51",
   "metadata": {},
   "outputs": [
    {
     "name": "stdout",
     "output_type": "stream",
     "text": [
      "<class 'pandas.core.frame.DataFrame'>\n",
      "RangeIndex: 1168 entries, 0 to 1167\n",
      "Data columns (total 81 columns):\n",
      " #   Column         Non-Null Count  Dtype  \n",
      "---  ------         --------------  -----  \n",
      " 0   Id             1168 non-null   int64  \n",
      " 1   MSSubClass     1168 non-null   int64  \n",
      " 2   MSZoning       1168 non-null   object \n",
      " 3   LotFrontage    954 non-null    float64\n",
      " 4   LotArea        1168 non-null   int64  \n",
      " 5   Street         1168 non-null   object \n",
      " 6   Alley          77 non-null     object \n",
      " 7   LotShape       1168 non-null   object \n",
      " 8   LandContour    1168 non-null   object \n",
      " 9   Utilities      1168 non-null   object \n",
      " 10  LotConfig      1168 non-null   object \n",
      " 11  LandSlope      1168 non-null   object \n",
      " 12  Neighborhood   1168 non-null   object \n",
      " 13  Condition1     1168 non-null   object \n",
      " 14  Condition2     1168 non-null   object \n",
      " 15  BldgType       1168 non-null   object \n",
      " 16  HouseStyle     1168 non-null   object \n",
      " 17  OverallQual    1168 non-null   int64  \n",
      " 18  OverallCond    1168 non-null   int64  \n",
      " 19  YearBuilt      1168 non-null   int64  \n",
      " 20  YearRemodAdd   1168 non-null   int64  \n",
      " 21  RoofStyle      1168 non-null   object \n",
      " 22  RoofMatl       1168 non-null   object \n",
      " 23  Exterior1st    1168 non-null   object \n",
      " 24  Exterior2nd    1168 non-null   object \n",
      " 25  MasVnrType     1161 non-null   object \n",
      " 26  MasVnrArea     1161 non-null   float64\n",
      " 27  ExterQual      1168 non-null   object \n",
      " 28  ExterCond      1168 non-null   object \n",
      " 29  Foundation     1168 non-null   object \n",
      " 30  BsmtQual       1138 non-null   object \n",
      " 31  BsmtCond       1138 non-null   object \n",
      " 32  BsmtExposure   1137 non-null   object \n",
      " 33  BsmtFinType1   1138 non-null   object \n",
      " 34  BsmtFinSF1     1168 non-null   int64  \n",
      " 35  BsmtFinType2   1137 non-null   object \n",
      " 36  BsmtFinSF2     1168 non-null   int64  \n",
      " 37  BsmtUnfSF      1168 non-null   int64  \n",
      " 38  TotalBsmtSF    1168 non-null   int64  \n",
      " 39  Heating        1168 non-null   object \n",
      " 40  HeatingQC      1168 non-null   object \n",
      " 41  CentralAir     1168 non-null   object \n",
      " 42  Electrical     1168 non-null   object \n",
      " 43  1stFlrSF       1168 non-null   int64  \n",
      " 44  2ndFlrSF       1168 non-null   int64  \n",
      " 45  LowQualFinSF   1168 non-null   int64  \n",
      " 46  GrLivArea      1168 non-null   int64  \n",
      " 47  BsmtFullBath   1168 non-null   int64  \n",
      " 48  BsmtHalfBath   1168 non-null   int64  \n",
      " 49  FullBath       1168 non-null   int64  \n",
      " 50  HalfBath       1168 non-null   int64  \n",
      " 51  BedroomAbvGr   1168 non-null   int64  \n",
      " 52  KitchenAbvGr   1168 non-null   int64  \n",
      " 53  KitchenQual    1168 non-null   object \n",
      " 54  TotRmsAbvGrd   1168 non-null   int64  \n",
      " 55  Functional     1168 non-null   object \n",
      " 56  Fireplaces     1168 non-null   int64  \n",
      " 57  FireplaceQu    617 non-null    object \n",
      " 58  GarageType     1104 non-null   object \n",
      " 59  GarageYrBlt    1104 non-null   float64\n",
      " 60  GarageFinish   1104 non-null   object \n",
      " 61  GarageCars     1168 non-null   int64  \n",
      " 62  GarageArea     1168 non-null   int64  \n",
      " 63  GarageQual     1104 non-null   object \n",
      " 64  GarageCond     1104 non-null   object \n",
      " 65  PavedDrive     1168 non-null   object \n",
      " 66  WoodDeckSF     1168 non-null   int64  \n",
      " 67  OpenPorchSF    1168 non-null   int64  \n",
      " 68  EnclosedPorch  1168 non-null   int64  \n",
      " 69  3SsnPorch      1168 non-null   int64  \n",
      " 70  ScreenPorch    1168 non-null   int64  \n",
      " 71  PoolArea       1168 non-null   int64  \n",
      " 72  PoolQC         7 non-null      object \n",
      " 73  Fence          237 non-null    object \n",
      " 74  MiscFeature    44 non-null     object \n",
      " 75  MiscVal        1168 non-null   int64  \n",
      " 76  MoSold         1168 non-null   int64  \n",
      " 77  YrSold         1168 non-null   int64  \n",
      " 78  SaleType       1168 non-null   object \n",
      " 79  SaleCondition  1168 non-null   object \n",
      " 80  SalePrice      1168 non-null   int64  \n",
      "dtypes: float64(3), int64(35), object(43)\n",
      "memory usage: 739.2+ KB\n"
     ]
    }
   ],
   "source": [
    "#Information required of the datasets:\n",
    "df_train.info()"
   ]
  },
  {
   "cell_type": "code",
   "execution_count": 66,
   "id": "1a059e7c",
   "metadata": {},
   "outputs": [
    {
     "data": {
      "text/plain": [
       "<AxesSubplot:>"
      ]
     },
     "execution_count": 66,
     "metadata": {},
     "output_type": "execute_result"
    },
    {
     "data": {
      "image/png": "[encoded data removed]",
      "text/plain": [
       "<Figure size 432x288 with 2 Axes>"
      ]
     },
     "metadata": {
      "needs_background": "light"
     },
     "output_type": "display_data"
    }
   ],
   "source": [
    "sns.heatmap(df_train.isnull())"
   ]
  },
  {
   "cell_type": "markdown",
   "id": "34e7c650",
   "metadata": {},
   "source": [
    "The above graph is here to show that if there are any null values in the above dataset.\n",
    "We can observe that there are many null values in present in the train dataset."
   ]
  },
  {
   "cell_type": "code",
   "execution_count": 67,
   "id": "207b6107",
   "metadata": {},
   "outputs": [
    {
     "data": {
      "text/plain": [
       "LotFrontage      214\n",
       "Alley           1091\n",
       "MasVnrType         7\n",
       "MasVnrArea         7\n",
       "BsmtQual          30\n",
       "BsmtCond          30\n",
       "BsmtExposure      31\n",
       "BsmtFinType1      30\n",
       "BsmtFinType2      31\n",
       "FireplaceQu      551\n",
       "GarageType        64\n",
       "GarageYrBlt       64\n",
       "GarageFinish      64\n",
       "GarageQual        64\n",
       "GarageCond        64\n",
       "PoolQC          1161\n",
       "Fence            931\n",
       "MiscFeature     1124\n",
       "dtype: int64"
      ]
     },
     "execution_count": 67,
     "metadata": {},
     "output_type": "execute_result"
    }
   ],
   "source": [
    "#checking the columns having null values\n",
    "nan_cols=[i for i in df_train.columns if df_train[i].isnull().any()]\n",
    "df_train[nan_cols].isnull().sum()"
   ]
  },
  {
   "cell_type": "code",
   "execution_count": 68,
   "id": "4707974c",
   "metadata": {},
   "outputs": [
    {
     "name": "stdout",
     "output_type": "stream",
     "text": [
      "LotFrontage     18.321918\n",
      "Alley           93.407534\n",
      "MasVnrType       0.599315\n",
      "MasVnrArea       0.599315\n",
      "BsmtQual         2.568493\n",
      "BsmtCond         2.568493\n",
      "BsmtExposure     2.654110\n",
      "BsmtFinType1     2.568493\n",
      "BsmtFinType2     2.654110\n",
      "FireplaceQu     47.174658\n",
      "GarageType       5.479452\n",
      "GarageYrBlt      5.479452\n",
      "GarageFinish     5.479452\n",
      "GarageQual       5.479452\n",
      "GarageCond       5.479452\n",
      "PoolQC          99.400685\n",
      "Fence           79.708904\n",
      "MiscFeature     96.232877\n",
      "dtype: float64\n"
     ]
    }
   ],
   "source": [
    "# Percentage of null values in each columns having NAN\n",
    "print((df_train[nan_cols].isnull().mean())*100)"
   ]
  },
  {
   "cell_type": "markdown",
   "id": "edb8e61e",
   "metadata": {},
   "source": [
    "We can observe that column like \"Alley\", \"PoolQC\", and \"MiscFeature\" have more that 90% of the NAN values.\n",
    "So, we will drop those column has it is not creating a much impact on our target column."
   ]
  },
  {
   "cell_type": "code",
   "execution_count": 69,
   "id": "bfad298b",
   "metadata": {},
   "outputs": [
    {
     "data": {
      "text/plain": [
       "Text(0, 0.5, 'Built Year')"
      ]
     },
     "execution_count": 69,
     "metadata": {},
     "output_type": "execute_result"
    },
    {
     "data": {
      "image/png": "[encoded data removed]",
      "text/plain": [
       "<Figure size 936x576 with 1 Axes>"
      ]
     },
     "metadata": {
      "needs_background": "light"
     },
     "output_type": "display_data"
    }
   ],
   "source": [
    "\n",
    "\n",
    "#average SalePrice in Every Built Year.\n",
    "plt.figure(figsize=(13,8))\n",
    "sns.scatterplot(df_train[\"YearBuilt\"],df_train[\"SalePrice\"],color='black')\n",
    "plt.title(\"Salesprice v/s YearBuilt\",fontsize=15)\n",
    "plt.xlabel(\"Salesprice\",fontsize=12)\n",
    "plt.ylabel(\"Built Year\", fontsize=12)"
   ]
  },
  {
   "cell_type": "markdown",
   "id": "9f5ec8dd",
   "metadata": {},
   "source": [
    "Above graph shows that houses which are newly built have higher salesprice."
   ]
  },
  {
   "cell_type": "code",
   "execution_count": 70,
   "id": "ba27710b",
   "metadata": {},
   "outputs": [
    {
     "data": {
      "text/plain": [
       "<AxesSubplot:xlabel='YrSold', ylabel='SalePrice'>"
      ]
     },
     "execution_count": 70,
     "metadata": {},
     "output_type": "execute_result"
    },
    {
     "data": {
      "image/png": "[encoded data removed]",
      "text/plain": [
       "<Figure size 720x360 with 1 Axes>"
      ]
     },
     "metadata": {
      "needs_background": "light"
     },
     "output_type": "display_data"
    }
   ],
   "source": [
    "# Sale Price vs year.\n",
    "plt.figure(figsize=(10,5))\n",
    "sns.lineplot(df_train[\"YrSold\"],df_train[\"SalePrice\"])"
   ]
  },
  {
   "cell_type": "markdown",
   "id": "bee6539c",
   "metadata": {},
   "source": [
    "Salesprice was high in 2007 but overall if weobserve, we find that the salesprice is decrease after 2007."
   ]
  },
  {
   "cell_type": "code",
   "execution_count": 71,
   "id": "cf151cdc",
   "metadata": {},
   "outputs": [
    {
     "data": {
      "text/plain": [
       "<AxesSubplot:xlabel='LotArea', ylabel='SalePrice'>"
      ]
     },
     "execution_count": 71,
     "metadata": {},
     "output_type": "execute_result"
    },
    {
     "data": {
      "image/png": "[encoded data removed]",
      "text/plain": [
       "<Figure size 864x360 with 1 Axes>"
      ]
     },
     "metadata": {
      "needs_background": "light"
     },
     "output_type": "display_data"
    }
   ],
   "source": [
    "#LotArea v/s Salesprice\n",
    "plt.figure(figsize=(12,5))\n",
    "sns.scatterplot(df_train[\"LotArea\"],df_train[\"SalePrice\"],color='black')"
   ]
  },
  {
   "cell_type": "markdown",
   "id": "3059d195",
   "metadata": {},
   "source": [
    "Most of the data is lining between 0 to 40000, LotArea doesnt really affet the salesprice.\n",
    "So, salesprice could be higher or lower, even the LotArea is less or high"
   ]
  },
  {
   "cell_type": "code",
   "execution_count": 72,
   "id": "608b3ff1",
   "metadata": {},
   "outputs": [
    {
     "data": {
      "text/plain": [
       "<AxesSubplot:xlabel='GrLivArea', ylabel='SalePrice'>"
      ]
     },
     "execution_count": 72,
     "metadata": {},
     "output_type": "execute_result"
    },
    {
     "data": {
      "image/png": "[encoded data removed]",
      "text/plain": [
       "<Figure size 864x360 with 1 Axes>"
      ]
     },
     "metadata": {
      "needs_background": "light"
     },
     "output_type": "display_data"
    }
   ],
   "source": [
    "plt.figure(figsize=(12,5))\n",
    "sns.scatterplot(df_train[\"GrLivArea\"],df_train[\"SalePrice\"],color='black')"
   ]
  },
  {
   "cell_type": "markdown",
   "id": "0449307a",
   "metadata": {},
   "source": [
    "We can observe that as soon as the GrLivArea is increase, we are observing that there is increment in Salesprice"
   ]
  },
  {
   "cell_type": "code",
   "execution_count": 73,
   "id": "f68b9637",
   "metadata": {},
   "outputs": [
    {
     "data": {
      "text/plain": [
       "<AxesSubplot:xlabel='GarageArea', ylabel='SalePrice'>"
      ]
     },
     "execution_count": 73,
     "metadata": {},
     "output_type": "execute_result"
    },
    {
     "data": {
      "image/png": "[encoded data removed]",
      "text/plain": [
       "<Figure size 864x360 with 1 Axes>"
      ]
     },
     "metadata": {
      "needs_background": "light"
     },
     "output_type": "display_data"
    }
   ],
   "source": [
    "plt.figure(figsize=(12,5))\n",
    "sns.scatterplot(df_train[\"GarageArea\"],df_train[\"SalePrice\"],color='black')"
   ]
  },
  {
   "cell_type": "markdown",
   "id": "4faf0450",
   "metadata": {},
   "source": [
    "The above graph is showing that houses having the garage are is effecting the salesprice but the difference is not that huge.\n",
    "The houses which doesnt have the garagearea has the salesprice almost close to the house having the GarageArea."
   ]
  },
  {
   "cell_type": "code",
   "execution_count": 74,
   "id": "968e4250",
   "metadata": {},
   "outputs": [
    {
     "data": {
      "text/plain": [
       "<AxesSubplot:xlabel='GarageArea', ylabel='SalePrice'>"
      ]
     },
     "execution_count": 74,
     "metadata": {},
     "output_type": "execute_result"
    },
    {
     "data": {
      "image/png": "[encoded data removed]",
      "text/plain": [
       "<Figure size 864x360 with 1 Axes>"
      ]
     },
     "metadata": {
      "needs_background": "light"
     },
     "output_type": "display_data"
    }
   ],
   "source": [
    "plt.figure(figsize=(12,5))\n",
    "sns.scatterplot(df_train[\"GarageArea\"],df_train[\"SalePrice\"],color='black')"
   ]
  },
  {
   "cell_type": "code",
   "execution_count": 75,
   "id": "ca3a4106",
   "metadata": {},
   "outputs": [
    {
     "data": {
      "text/plain": [
       "<AxesSubplot:xlabel='Street', ylabel='SalePrice'>"
      ]
     },
     "execution_count": 75,
     "metadata": {},
     "output_type": "execute_result"
    },
    {
     "data": {
      "image/png": "[encoded data removed]",
      "text/plain": [
       "<Figure size 432x288 with 1 Axes>"
      ]
     },
     "metadata": {
      "needs_background": "light"
     },
     "output_type": "display_data"
    }
   ],
   "source": [
    "sns.barplot(df_train[\"Street\"],df_train[\"SalePrice\"])"
   ]
  },
  {
   "cell_type": "markdown",
   "id": "d3d54c86",
   "metadata": {},
   "source": [
    "Most of the records are of Paved one as compared to Garvel category."
   ]
  },
  {
   "cell_type": "code",
   "execution_count": 76,
   "id": "dc32db3b",
   "metadata": {},
   "outputs": [
    {
     "data": {
      "text/plain": [
       "<AxesSubplot:xlabel='LotShape', ylabel='SalePrice'>"
      ]
     },
     "execution_count": 76,
     "metadata": {},
     "output_type": "execute_result"
    },
    {
     "data": {
      "image/png": "[encoded data removed]",
      "text/plain": [
       "<Figure size 432x288 with 1 Axes>"
      ]
     },
     "metadata": {
      "needs_background": "light"
     },
     "output_type": "display_data"
    }
   ],
   "source": [
    "sns.barplot(df_train[\"LotShape\"],df_train[\"SalePrice\"])"
   ]
  },
  {
   "cell_type": "markdown",
   "id": "52eb0900",
   "metadata": {},
   "source": [
    "Slighlty Regulary caregory has the highest salesprice as comapred to others."
   ]
  },
  {
   "cell_type": "code",
   "execution_count": 77,
   "id": "35838de4",
   "metadata": {},
   "outputs": [
    {
     "data": {
      "text/plain": [
       "<AxesSubplot:xlabel='LandContour', ylabel='SalePrice'>"
      ]
     },
     "execution_count": 77,
     "metadata": {},
     "output_type": "execute_result"
    },
    {
     "data": {
      "image/png": "[encoded data removed]",
      "text/plain": [
       "<Figure size 432x288 with 1 Axes>"
      ]
     },
     "metadata": {
      "needs_background": "light"
     },
     "output_type": "display_data"
    }
   ],
   "source": [
    "sns.barplot(df_train[\"LandContour\"],df_train[\"SalePrice\"])"
   ]
  },
  {
   "cell_type": "markdown",
   "id": "9530fef7",
   "metadata": {},
   "source": [
    "Level category has the highest salesprice as comapred to other category"
   ]
  },
  {
   "cell_type": "code",
   "execution_count": 78,
   "id": "7c41e776",
   "metadata": {},
   "outputs": [
    {
     "data": {
      "text/plain": [
       "<AxesSubplot:xlabel='LandSlope', ylabel='SalePrice'>"
      ]
     },
     "execution_count": 78,
     "metadata": {},
     "output_type": "execute_result"
    },
    {
     "data": {
      "image/png": "[encoded data removed]",
      "text/plain": [
       "<Figure size 432x288 with 1 Axes>"
      ]
     },
     "metadata": {
      "needs_background": "light"
     },
     "output_type": "display_data"
    }
   ],
   "source": [
    "sns.barplot(df_train[\"LandSlope\"],df_train[\"SalePrice\"])"
   ]
  },
  {
   "cell_type": "markdown",
   "id": "15c5e219",
   "metadata": {},
   "source": [
    "with gentle slope, the salesprice is low."
   ]
  },
  {
   "cell_type": "code",
   "execution_count": 79,
   "id": "dfc5f4fe",
   "metadata": {},
   "outputs": [
    {
     "data": {
      "text/plain": [
       "<AxesSubplot:xlabel='OverallCond', ylabel='SalePrice'>"
      ]
     },
     "execution_count": 79,
     "metadata": {},
     "output_type": "execute_result"
    },
    {
     "data": {
      "image/png": "[encoded data removed]",
      "text/plain": [
       "<Figure size 864x360 with 1 Axes>"
      ]
     },
     "metadata": {
      "needs_background": "light"
     },
     "output_type": "display_data"
    }
   ],
   "source": [
    "plt.figure(figsize=(12,5))\n",
    "sns.barplot(df_train[\"OverallCond\"],df_train[\"SalePrice\"])"
   ]
  },
  {
   "cell_type": "code",
   "execution_count": 80,
   "id": "a62bf616",
   "metadata": {},
   "outputs": [],
   "source": [
    "#dropiing the column having more than 90% the NAN values\n",
    "df_train=df_train.drop([\"Alley\",\"PoolQC\",\"MiscFeature\",\"GarageYrBlt\"],axis=1)"
   ]
  },
  {
   "cell_type": "code",
   "execution_count": 81,
   "id": "11c6f06e",
   "metadata": {},
   "outputs": [],
   "source": [
    "df_train=df_train.drop([\"Id\"],axis=1)"
   ]
  },
  {
   "cell_type": "code",
   "execution_count": 82,
   "id": "6918a3b1",
   "metadata": {},
   "outputs": [
    {
     "name": "stdout",
     "output_type": "stream",
     "text": [
      "Index(['MSSubClass', 'LotFrontage', 'LotArea', 'OverallQual', 'OverallCond',\n",
      "       'YearBuilt', 'YearRemodAdd', 'MasVnrArea', 'BsmtFinSF1', 'BsmtFinSF2',\n",
      "       'BsmtUnfSF', 'TotalBsmtSF', '1stFlrSF', '2ndFlrSF', 'LowQualFinSF',\n",
      "       'GrLivArea', 'BsmtFullBath', 'BsmtHalfBath', 'FullBath', 'HalfBath',\n",
      "       'BedroomAbvGr', 'KitchenAbvGr', 'TotRmsAbvGrd', 'Fireplaces',\n",
      "       'GarageCars', 'GarageArea', 'WoodDeckSF', 'OpenPorchSF',\n",
      "       'EnclosedPorch', '3SsnPorch', 'ScreenPorch', 'PoolArea', 'MiscVal',\n",
      "       'MoSold', 'YrSold', 'SalePrice'],\n",
      "      dtype='object')\n"
     ]
    }
   ],
   "source": [
    "con_col=df_train.select_dtypes(include=[\"float64\",\"int64\"])\n",
    "print(con_col.columns)"
   ]
  },
  {
   "cell_type": "code",
   "execution_count": 83,
   "id": "3cc4df54",
   "metadata": {},
   "outputs": [
    {
     "name": "stdout",
     "output_type": "stream",
     "text": [
      "Index(['MSZoning', 'Street', 'LotShape', 'LandContour', 'Utilities',\n",
      "       'LotConfig', 'LandSlope', 'Neighborhood', 'Condition1', 'Condition2',\n",
      "       'BldgType', 'HouseStyle', 'RoofStyle', 'RoofMatl', 'Exterior1st',\n",
      "       'Exterior2nd', 'MasVnrType', 'ExterQual', 'ExterCond', 'Foundation',\n",
      "       'BsmtQual', 'BsmtCond', 'BsmtExposure', 'BsmtFinType1', 'BsmtFinType2',\n",
      "       'Heating', 'HeatingQC', 'CentralAir', 'Electrical', 'KitchenQual',\n",
      "       'Functional', 'FireplaceQu', 'GarageType', 'GarageFinish', 'GarageQual',\n",
      "       'GarageCond', 'PavedDrive', 'Fence', 'SaleType', 'SaleCondition'],\n",
      "      dtype='object')\n"
     ]
    }
   ],
   "source": [
    "cat_col=df_train.select_dtypes(include=[\"object\"])\n",
    "print(cat_col.columns)"
   ]
  },
  {
   "cell_type": "code",
   "execution_count": 84,
   "id": "471ff110",
   "metadata": {},
   "outputs": [],
   "source": [
    "#filling the NAN value \n",
    "\n",
    "df_train['LotFrontage']=df_train['LotFrontage'].fillna(df_train['LotFrontage'].mean())\n",
    "df_train['BsmtCond']=df_train['BsmtCond'].fillna(df_train['BsmtCond'].mode()[0])\n",
    "df_train['BsmtQual']=df_train['BsmtQual'].fillna(df_train['BsmtQual'].mode()[0])\n",
    "df_train['FireplaceQu']=df_train['FireplaceQu'].fillna(df_train['FireplaceQu'].mode()[0])\n",
    "df_train['GarageType']=df_train['GarageType'].fillna(df_train['GarageType'].mode()[0])\n",
    "df_train['GarageFinish']=df_train['GarageFinish'].fillna(df_train['GarageFinish'].mode()[0])\n",
    "df_train['GarageQual']=df_train['GarageQual'].fillna(df_train['GarageQual'].mode()[0])\n",
    "df_train['GarageCond']=df_train['GarageCond'].fillna(df_train['GarageCond'].mode()[0])\n",
    "df_train['MasVnrType']=df_train['MasVnrType'].fillna(df_train['MasVnrType'].mode()[0])\n",
    "df_train['MasVnrArea']=df_train['MasVnrArea'].fillna(df_train['MasVnrArea'].mode()[0])\n",
    "df_train['BsmtExposure']=df_train['BsmtExposure'].fillna(df_train['BsmtExposure'].mode()[0])\n",
    "df_train['BsmtFinType1']=df_train['BsmtFinType1'].fillna(df_train['BsmtFinType1'].mode()[0])\n",
    "df_train['BsmtFinType2']=df_train['BsmtFinType2'].fillna(df_train['BsmtFinType2'].mode()[0])"
   ]
  },
  {
   "cell_type": "code",
   "execution_count": 85,
   "id": "f02f62e9",
   "metadata": {},
   "outputs": [
    {
     "data": {
      "text/plain": [
       "Fence    931\n",
       "dtype: int64"
      ]
     },
     "execution_count": 85,
     "metadata": {},
     "output_type": "execute_result"
    }
   ],
   "source": [
    "#checking the columns having null values again after treating the columns having nan values\n",
    "nan_cols=[i for i in df_train.columns if df_train[i].isnull().any()]\n",
    "df_train[nan_cols].isnull().sum()"
   ]
  },
  {
   "cell_type": "code",
   "execution_count": 86,
   "id": "982de314",
   "metadata": {},
   "outputs": [],
   "source": [
    "#filling the nan values in Fence column with \"Not available\" as most of the house generally dont have fences\n",
    "df_train[\"Fence\"]=df_train[\"Fence\"].fillna(\"Not available\")"
   ]
  },
  {
   "cell_type": "code",
   "execution_count": 87,
   "id": "e19df7be",
   "metadata": {},
   "outputs": [
    {
     "data": {
      "text/plain": [
       "Not available    931\n",
       "MnPrv            129\n",
       "GdPrv             51\n",
       "GdWo              47\n",
       "MnWw              10\n",
       "Name: Fence, dtype: int64"
      ]
     },
     "execution_count": 87,
     "metadata": {},
     "output_type": "execute_result"
    }
   ],
   "source": [
    "df_train[\"Fence\"].value_counts()"
   ]
  },
  {
   "cell_type": "code",
   "execution_count": 88,
   "id": "938ca7c8",
   "metadata": {},
   "outputs": [
    {
     "data": {
      "text/html": [
       "<div>\n",
       "<style scoped>\n",
       "    .dataframe tbody tr th:only-of-type {\n",
       "        vertical-align: middle;\n",
       "    }\n",
       "\n",
       "    .dataframe tbody tr th {\n",
       "        vertical-align: top;\n",
       "    }\n",
       "\n",
       "    .dataframe thead th {\n",
       "        text-align: right;\n",
       "    }\n",
       "</style>\n",
       "<table border=\"1\" class=\"dataframe\">\n",
       "  <thead>\n",
       "    <tr style=\"text-align: right;\">\n",
       "      <th></th>\n",
       "      <th>MSSubClass</th>\n",
       "      <th>MSZoning</th>\n",
       "      <th>LotFrontage</th>\n",
       "      <th>LotArea</th>\n",
       "      <th>Street</th>\n",
       "      <th>LotShape</th>\n",
       "      <th>LandContour</th>\n",
       "      <th>Utilities</th>\n",
       "      <th>LotConfig</th>\n",
       "      <th>LandSlope</th>\n",
       "      <th>Neighborhood</th>\n",
       "      <th>Condition1</th>\n",
       "      <th>Condition2</th>\n",
       "      <th>BldgType</th>\n",
       "      <th>HouseStyle</th>\n",
       "      <th>OverallQual</th>\n",
       "      <th>OverallCond</th>\n",
       "      <th>YearBuilt</th>\n",
       "      <th>YearRemodAdd</th>\n",
       "      <th>RoofStyle</th>\n",
       "      <th>RoofMatl</th>\n",
       "      <th>Exterior1st</th>\n",
       "      <th>Exterior2nd</th>\n",
       "      <th>MasVnrType</th>\n",
       "      <th>MasVnrArea</th>\n",
       "      <th>ExterQual</th>\n",
       "      <th>ExterCond</th>\n",
       "      <th>Foundation</th>\n",
       "      <th>BsmtQual</th>\n",
       "      <th>BsmtCond</th>\n",
       "      <th>BsmtExposure</th>\n",
       "      <th>BsmtFinType1</th>\n",
       "      <th>BsmtFinSF1</th>\n",
       "      <th>BsmtFinType2</th>\n",
       "      <th>BsmtFinSF2</th>\n",
       "      <th>BsmtUnfSF</th>\n",
       "      <th>TotalBsmtSF</th>\n",
       "      <th>Heating</th>\n",
       "      <th>HeatingQC</th>\n",
       "      <th>CentralAir</th>\n",
       "      <th>Electrical</th>\n",
       "      <th>1stFlrSF</th>\n",
       "      <th>2ndFlrSF</th>\n",
       "      <th>LowQualFinSF</th>\n",
       "      <th>GrLivArea</th>\n",
       "      <th>BsmtFullBath</th>\n",
       "      <th>BsmtHalfBath</th>\n",
       "      <th>FullBath</th>\n",
       "      <th>HalfBath</th>\n",
       "      <th>BedroomAbvGr</th>\n",
       "      <th>KitchenAbvGr</th>\n",
       "      <th>KitchenQual</th>\n",
       "      <th>TotRmsAbvGrd</th>\n",
       "      <th>Functional</th>\n",
       "      <th>Fireplaces</th>\n",
       "      <th>FireplaceQu</th>\n",
       "      <th>GarageType</th>\n",
       "      <th>GarageFinish</th>\n",
       "      <th>GarageCars</th>\n",
       "      <th>GarageArea</th>\n",
       "      <th>GarageQual</th>\n",
       "      <th>GarageCond</th>\n",
       "      <th>PavedDrive</th>\n",
       "      <th>WoodDeckSF</th>\n",
       "      <th>OpenPorchSF</th>\n",
       "      <th>EnclosedPorch</th>\n",
       "      <th>3SsnPorch</th>\n",
       "      <th>ScreenPorch</th>\n",
       "      <th>PoolArea</th>\n",
       "      <th>Fence</th>\n",
       "      <th>MiscVal</th>\n",
       "      <th>MoSold</th>\n",
       "      <th>YrSold</th>\n",
       "      <th>SaleType</th>\n",
       "      <th>SaleCondition</th>\n",
       "      <th>SalePrice</th>\n",
       "    </tr>\n",
       "  </thead>\n",
       "  <tbody>\n",
       "    <tr>\n",
       "      <th>0</th>\n",
       "      <td>120</td>\n",
       "      <td>3</td>\n",
       "      <td>70.98847</td>\n",
       "      <td>4928</td>\n",
       "      <td>1</td>\n",
       "      <td>0</td>\n",
       "      <td>3</td>\n",
       "      <td>0</td>\n",
       "      <td>4</td>\n",
       "      <td>0</td>\n",
       "      <td>13</td>\n",
       "      <td>2</td>\n",
       "      <td>2</td>\n",
       "      <td>4</td>\n",
       "      <td>2</td>\n",
       "      <td>6</td>\n",
       "      <td>5</td>\n",
       "      <td>1976</td>\n",
       "      <td>1976</td>\n",
       "      <td>1</td>\n",
       "      <td>1</td>\n",
       "      <td>8</td>\n",
       "      <td>9</td>\n",
       "      <td>2</td>\n",
       "      <td>0.0</td>\n",
       "      <td>3</td>\n",
       "      <td>4</td>\n",
       "      <td>1</td>\n",
       "      <td>2</td>\n",
       "      <td>3</td>\n",
       "      <td>3</td>\n",
       "      <td>0</td>\n",
       "      <td>120</td>\n",
       "      <td>5</td>\n",
       "      <td>0</td>\n",
       "      <td>958</td>\n",
       "      <td>1078</td>\n",
       "      <td>1</td>\n",
       "      <td>4</td>\n",
       "      <td>1</td>\n",
       "      <td>4</td>\n",
       "      <td>958</td>\n",
       "      <td>0</td>\n",
       "      <td>0</td>\n",
       "      <td>958</td>\n",
       "      <td>0</td>\n",
       "      <td>0</td>\n",
       "      <td>2</td>\n",
       "      <td>0</td>\n",
       "      <td>2</td>\n",
       "      <td>1</td>\n",
       "      <td>3</td>\n",
       "      <td>5</td>\n",
       "      <td>6</td>\n",
       "      <td>1</td>\n",
       "      <td>4</td>\n",
       "      <td>1</td>\n",
       "      <td>1</td>\n",
       "      <td>2</td>\n",
       "      <td>440</td>\n",
       "      <td>4</td>\n",
       "      <td>4</td>\n",
       "      <td>2</td>\n",
       "      <td>0</td>\n",
       "      <td>205</td>\n",
       "      <td>0</td>\n",
       "      <td>0</td>\n",
       "      <td>0</td>\n",
       "      <td>0</td>\n",
       "      <td>4</td>\n",
       "      <td>0</td>\n",
       "      <td>2</td>\n",
       "      <td>2007</td>\n",
       "      <td>8</td>\n",
       "      <td>4</td>\n",
       "      <td>128000</td>\n",
       "    </tr>\n",
       "    <tr>\n",
       "      <th>1</th>\n",
       "      <td>20</td>\n",
       "      <td>3</td>\n",
       "      <td>95.00000</td>\n",
       "      <td>15865</td>\n",
       "      <td>1</td>\n",
       "      <td>0</td>\n",
       "      <td>3</td>\n",
       "      <td>0</td>\n",
       "      <td>4</td>\n",
       "      <td>1</td>\n",
       "      <td>12</td>\n",
       "      <td>2</td>\n",
       "      <td>2</td>\n",
       "      <td>0</td>\n",
       "      <td>2</td>\n",
       "      <td>8</td>\n",
       "      <td>6</td>\n",
       "      <td>1970</td>\n",
       "      <td>1970</td>\n",
       "      <td>0</td>\n",
       "      <td>5</td>\n",
       "      <td>12</td>\n",
       "      <td>13</td>\n",
       "      <td>2</td>\n",
       "      <td>0.0</td>\n",
       "      <td>2</td>\n",
       "      <td>2</td>\n",
       "      <td>2</td>\n",
       "      <td>3</td>\n",
       "      <td>1</td>\n",
       "      <td>1</td>\n",
       "      <td>0</td>\n",
       "      <td>351</td>\n",
       "      <td>4</td>\n",
       "      <td>823</td>\n",
       "      <td>1043</td>\n",
       "      <td>2217</td>\n",
       "      <td>1</td>\n",
       "      <td>0</td>\n",
       "      <td>1</td>\n",
       "      <td>4</td>\n",
       "      <td>2217</td>\n",
       "      <td>0</td>\n",
       "      <td>0</td>\n",
       "      <td>2217</td>\n",
       "      <td>1</td>\n",
       "      <td>0</td>\n",
       "      <td>2</td>\n",
       "      <td>0</td>\n",
       "      <td>4</td>\n",
       "      <td>1</td>\n",
       "      <td>2</td>\n",
       "      <td>8</td>\n",
       "      <td>6</td>\n",
       "      <td>1</td>\n",
       "      <td>4</td>\n",
       "      <td>1</td>\n",
       "      <td>2</td>\n",
       "      <td>2</td>\n",
       "      <td>621</td>\n",
       "      <td>4</td>\n",
       "      <td>4</td>\n",
       "      <td>2</td>\n",
       "      <td>81</td>\n",
       "      <td>207</td>\n",
       "      <td>0</td>\n",
       "      <td>0</td>\n",
       "      <td>224</td>\n",
       "      <td>0</td>\n",
       "      <td>4</td>\n",
       "      <td>0</td>\n",
       "      <td>10</td>\n",
       "      <td>2007</td>\n",
       "      <td>8</td>\n",
       "      <td>4</td>\n",
       "      <td>268000</td>\n",
       "    </tr>\n",
       "    <tr>\n",
       "      <th>2</th>\n",
       "      <td>60</td>\n",
       "      <td>3</td>\n",
       "      <td>92.00000</td>\n",
       "      <td>9920</td>\n",
       "      <td>1</td>\n",
       "      <td>0</td>\n",
       "      <td>3</td>\n",
       "      <td>0</td>\n",
       "      <td>1</td>\n",
       "      <td>0</td>\n",
       "      <td>15</td>\n",
       "      <td>2</td>\n",
       "      <td>2</td>\n",
       "      <td>0</td>\n",
       "      <td>5</td>\n",
       "      <td>7</td>\n",
       "      <td>5</td>\n",
       "      <td>1996</td>\n",
       "      <td>1997</td>\n",
       "      <td>1</td>\n",
       "      <td>1</td>\n",
       "      <td>7</td>\n",
       "      <td>7</td>\n",
       "      <td>2</td>\n",
       "      <td>0.0</td>\n",
       "      <td>2</td>\n",
       "      <td>4</td>\n",
       "      <td>2</td>\n",
       "      <td>2</td>\n",
       "      <td>3</td>\n",
       "      <td>0</td>\n",
       "      <td>2</td>\n",
       "      <td>862</td>\n",
       "      <td>5</td>\n",
       "      <td>0</td>\n",
       "      <td>255</td>\n",
       "      <td>1117</td>\n",
       "      <td>1</td>\n",
       "      <td>0</td>\n",
       "      <td>1</td>\n",
       "      <td>4</td>\n",
       "      <td>1127</td>\n",
       "      <td>886</td>\n",
       "      <td>0</td>\n",
       "      <td>2013</td>\n",
       "      <td>1</td>\n",
       "      <td>0</td>\n",
       "      <td>2</td>\n",
       "      <td>1</td>\n",
       "      <td>3</td>\n",
       "      <td>1</td>\n",
       "      <td>3</td>\n",
       "      <td>8</td>\n",
       "      <td>6</td>\n",
       "      <td>1</td>\n",
       "      <td>4</td>\n",
       "      <td>1</td>\n",
       "      <td>2</td>\n",
       "      <td>2</td>\n",
       "      <td>455</td>\n",
       "      <td>4</td>\n",
       "      <td>4</td>\n",
       "      <td>2</td>\n",
       "      <td>180</td>\n",
       "      <td>130</td>\n",
       "      <td>0</td>\n",
       "      <td>0</td>\n",
       "      <td>0</td>\n",
       "      <td>0</td>\n",
       "      <td>4</td>\n",
       "      <td>0</td>\n",
       "      <td>6</td>\n",
       "      <td>2007</td>\n",
       "      <td>8</td>\n",
       "      <td>4</td>\n",
       "      <td>269790</td>\n",
       "    </tr>\n",
       "    <tr>\n",
       "      <th>3</th>\n",
       "      <td>20</td>\n",
       "      <td>3</td>\n",
       "      <td>105.00000</td>\n",
       "      <td>11751</td>\n",
       "      <td>1</td>\n",
       "      <td>0</td>\n",
       "      <td>3</td>\n",
       "      <td>0</td>\n",
       "      <td>4</td>\n",
       "      <td>0</td>\n",
       "      <td>14</td>\n",
       "      <td>2</td>\n",
       "      <td>2</td>\n",
       "      <td>0</td>\n",
       "      <td>2</td>\n",
       "      <td>6</td>\n",
       "      <td>6</td>\n",
       "      <td>1977</td>\n",
       "      <td>1977</td>\n",
       "      <td>3</td>\n",
       "      <td>1</td>\n",
       "      <td>8</td>\n",
       "      <td>9</td>\n",
       "      <td>1</td>\n",
       "      <td>480.0</td>\n",
       "      <td>3</td>\n",
       "      <td>4</td>\n",
       "      <td>1</td>\n",
       "      <td>2</td>\n",
       "      <td>3</td>\n",
       "      <td>3</td>\n",
       "      <td>1</td>\n",
       "      <td>705</td>\n",
       "      <td>5</td>\n",
       "      <td>0</td>\n",
       "      <td>1139</td>\n",
       "      <td>1844</td>\n",
       "      <td>1</td>\n",
       "      <td>0</td>\n",
       "      <td>1</td>\n",
       "      <td>4</td>\n",
       "      <td>1844</td>\n",
       "      <td>0</td>\n",
       "      <td>0</td>\n",
       "      <td>1844</td>\n",
       "      <td>0</td>\n",
       "      <td>0</td>\n",
       "      <td>2</td>\n",
       "      <td>0</td>\n",
       "      <td>3</td>\n",
       "      <td>1</td>\n",
       "      <td>3</td>\n",
       "      <td>7</td>\n",
       "      <td>6</td>\n",
       "      <td>1</td>\n",
       "      <td>4</td>\n",
       "      <td>1</td>\n",
       "      <td>1</td>\n",
       "      <td>2</td>\n",
       "      <td>546</td>\n",
       "      <td>4</td>\n",
       "      <td>4</td>\n",
       "      <td>2</td>\n",
       "      <td>0</td>\n",
       "      <td>122</td>\n",
       "      <td>0</td>\n",
       "      <td>0</td>\n",
       "      <td>0</td>\n",
       "      <td>0</td>\n",
       "      <td>2</td>\n",
       "      <td>0</td>\n",
       "      <td>1</td>\n",
       "      <td>2010</td>\n",
       "      <td>0</td>\n",
       "      <td>4</td>\n",
       "      <td>190000</td>\n",
       "    </tr>\n",
       "    <tr>\n",
       "      <th>4</th>\n",
       "      <td>20</td>\n",
       "      <td>3</td>\n",
       "      <td>70.98847</td>\n",
       "      <td>16635</td>\n",
       "      <td>1</td>\n",
       "      <td>0</td>\n",
       "      <td>3</td>\n",
       "      <td>0</td>\n",
       "      <td>2</td>\n",
       "      <td>0</td>\n",
       "      <td>14</td>\n",
       "      <td>2</td>\n",
       "      <td>2</td>\n",
       "      <td>0</td>\n",
       "      <td>2</td>\n",
       "      <td>6</td>\n",
       "      <td>7</td>\n",
       "      <td>1977</td>\n",
       "      <td>2000</td>\n",
       "      <td>1</td>\n",
       "      <td>1</td>\n",
       "      <td>4</td>\n",
       "      <td>4</td>\n",
       "      <td>3</td>\n",
       "      <td>126.0</td>\n",
       "      <td>2</td>\n",
       "      <td>4</td>\n",
       "      <td>1</td>\n",
       "      <td>2</td>\n",
       "      <td>3</td>\n",
       "      <td>3</td>\n",
       "      <td>0</td>\n",
       "      <td>1246</td>\n",
       "      <td>5</td>\n",
       "      <td>0</td>\n",
       "      <td>356</td>\n",
       "      <td>1602</td>\n",
       "      <td>1</td>\n",
       "      <td>2</td>\n",
       "      <td>1</td>\n",
       "      <td>4</td>\n",
       "      <td>1602</td>\n",
       "      <td>0</td>\n",
       "      <td>0</td>\n",
       "      <td>1602</td>\n",
       "      <td>0</td>\n",
       "      <td>1</td>\n",
       "      <td>2</td>\n",
       "      <td>0</td>\n",
       "      <td>3</td>\n",
       "      <td>1</td>\n",
       "      <td>2</td>\n",
       "      <td>8</td>\n",
       "      <td>6</td>\n",
       "      <td>1</td>\n",
       "      <td>4</td>\n",
       "      <td>1</td>\n",
       "      <td>0</td>\n",
       "      <td>2</td>\n",
       "      <td>529</td>\n",
       "      <td>4</td>\n",
       "      <td>4</td>\n",
       "      <td>2</td>\n",
       "      <td>240</td>\n",
       "      <td>0</td>\n",
       "      <td>0</td>\n",
       "      <td>0</td>\n",
       "      <td>0</td>\n",
       "      <td>0</td>\n",
       "      <td>4</td>\n",
       "      <td>0</td>\n",
       "      <td>6</td>\n",
       "      <td>2009</td>\n",
       "      <td>8</td>\n",
       "      <td>4</td>\n",
       "      <td>215000</td>\n",
       "    </tr>\n",
       "  </tbody>\n",
       "</table>\n",
       "</div>"
      ],
      "text/plain": [
       "   MSSubClass  MSZoning  LotFrontage  LotArea  Street  LotShape  LandContour  \\\n",
       "0         120         3     70.98847     4928       1         0            3   \n",
       "1          20         3     95.00000    15865       1         0            3   \n",
       "2          60         3     92.00000     9920       1         0            3   \n",
       "3          20         3    105.00000    11751       1         0            3   \n",
       "4          20         3     70.98847    16635       1         0            3   \n",
       "\n",
       "   Utilities  LotConfig  LandSlope  Neighborhood  Condition1  Condition2  \\\n",
       "0          0          4          0            13           2           2   \n",
       "1          0          4          1            12           2           2   \n",
       "2          0          1          0            15           2           2   \n",
       "3          0          4          0            14           2           2   \n",
       "4          0          2          0            14           2           2   \n",
       "\n",
       "   BldgType  HouseStyle  OverallQual  OverallCond  YearBuilt  YearRemodAdd  \\\n",
       "0         4           2            6            5       1976          1976   \n",
       "1         0           2            8            6       1970          1970   \n",
       "2         0           5            7            5       1996          1997   \n",
       "3         0           2            6            6       1977          1977   \n",
       "4         0           2            6            7       1977          2000   \n",
       "\n",
       "   RoofStyle  RoofMatl  Exterior1st  Exterior2nd  MasVnrType  MasVnrArea  \\\n",
       "0          1         1            8            9           2         0.0   \n",
       "1          0         5           12           13           2         0.0   \n",
       "2          1         1            7            7           2         0.0   \n",
       "3          3         1            8            9           1       480.0   \n",
       "4          1         1            4            4           3       126.0   \n",
       "\n",
       "   ExterQual  ExterCond  Foundation  BsmtQual  BsmtCond  BsmtExposure  \\\n",
       "0          3          4           1         2         3             3   \n",
       "1          2          2           2         3         1             1   \n",
       "2          2          4           2         2         3             0   \n",
       "3          3          4           1         2         3             3   \n",
       "4          2          4           1         2         3             3   \n",
       "\n",
       "   BsmtFinType1  BsmtFinSF1  BsmtFinType2  BsmtFinSF2  BsmtUnfSF  TotalBsmtSF  \\\n",
       "0             0         120             5           0        958         1078   \n",
       "1             0         351             4         823       1043         2217   \n",
       "2             2         862             5           0        255         1117   \n",
       "3             1         705             5           0       1139         1844   \n",
       "4             0        1246             5           0        356         1602   \n",
       "\n",
       "   Heating  HeatingQC  CentralAir  Electrical  1stFlrSF  2ndFlrSF  \\\n",
       "0        1          4           1           4       958         0   \n",
       "1        1          0           1           4      2217         0   \n",
       "2        1          0           1           4      1127       886   \n",
       "3        1          0           1           4      1844         0   \n",
       "4        1          2           1           4      1602         0   \n",
       "\n",
       "   LowQualFinSF  GrLivArea  BsmtFullBath  BsmtHalfBath  FullBath  HalfBath  \\\n",
       "0             0        958             0             0         2         0   \n",
       "1             0       2217             1             0         2         0   \n",
       "2             0       2013             1             0         2         1   \n",
       "3             0       1844             0             0         2         0   \n",
       "4             0       1602             0             1         2         0   \n",
       "\n",
       "   BedroomAbvGr  KitchenAbvGr  KitchenQual  TotRmsAbvGrd  Functional  \\\n",
       "0             2             1            3             5           6   \n",
       "1             4             1            2             8           6   \n",
       "2             3             1            3             8           6   \n",
       "3             3             1            3             7           6   \n",
       "4             3             1            2             8           6   \n",
       "\n",
       "   Fireplaces  FireplaceQu  GarageType  GarageFinish  GarageCars  GarageArea  \\\n",
       "0           1            4           1             1           2         440   \n",
       "1           1            4           1             2           2         621   \n",
       "2           1            4           1             2           2         455   \n",
       "3           1            4           1             1           2         546   \n",
       "4           1            4           1             0           2         529   \n",
       "\n",
       "   GarageQual  GarageCond  PavedDrive  WoodDeckSF  OpenPorchSF  EnclosedPorch  \\\n",
       "0           4           4           2           0          205              0   \n",
       "1           4           4           2          81          207              0   \n",
       "2           4           4           2         180          130              0   \n",
       "3           4           4           2           0          122              0   \n",
       "4           4           4           2         240            0              0   \n",
       "\n",
       "   3SsnPorch  ScreenPorch  PoolArea  Fence  MiscVal  MoSold  YrSold  SaleType  \\\n",
       "0          0            0         0      4        0       2    2007         8   \n",
       "1          0          224         0      4        0      10    2007         8   \n",
       "2          0            0         0      4        0       6    2007         8   \n",
       "3          0            0         0      2        0       1    2010         0   \n",
       "4          0            0         0      4        0       6    2009         8   \n",
       "\n",
       "   SaleCondition  SalePrice  \n",
       "0              4     128000  \n",
       "1              4     268000  \n",
       "2              4     269790  \n",
       "3              4     190000  \n",
       "4              4     215000  "
      ]
     },
     "execution_count": 88,
     "metadata": {},
     "output_type": "execute_result"
    }
   ],
   "source": [
    "from sklearn.preprocessing import LabelEncoder\n",
    "le = LabelEncoder()\n",
    "for i in cat_col:\n",
    "    df_train[i]=le.fit_transform(df_train[i])\n",
    "\n",
    "df_train.head()"
   ]
  },
  {
   "cell_type": "markdown",
   "id": "b9cf1932",
   "metadata": {},
   "source": [
    "# Outliers detection and removal"
   ]
  },
  {
   "cell_type": "code",
   "execution_count": 89,
   "id": "75aa5d48",
   "metadata": {},
   "outputs": [],
   "source": [
    "#function for detecting Outliers when columns has skewness by IQR*1.5\n",
    "\n",
    "def IQR1(dataframe,col):\n",
    "    IQR=dataframe[col].quantile(0.75)-dataframe[col].quantile(0.25)\n",
    "    low_brid=dataframe[col].quantile(0.25)-(IQR*1.5)\n",
    "    upp_brid=dataframe[col].quantile(0.75)+(IQR*1.5)\n",
    "    return (low_brid,upp_brid)"
   ]
  },
  {
   "cell_type": "code",
   "execution_count": 90,
   "id": "a94b264e",
   "metadata": {},
   "outputs": [],
   "source": [
    "#function for detecting Outliers when columns has skewness by IQR*3\n",
    "\n",
    "def IQR3(dataframe,col):\n",
    "    IQR=dataframe[col].quantile(0.75)-dataframe[col].quantile(0.25)\n",
    "    low_brid=dataframe[col].quantile(0.25)-(IQR*3)\n",
    "    upp_brid=dataframe[col].quantile(0.75)+(IQR*3)\n",
    "    return (low_brid,upp_brid)"
   ]
  },
  {
   "cell_type": "markdown",
   "id": "7288ca4e",
   "metadata": {},
   "source": [
    "#### LotFrontage column"
   ]
  },
  {
   "cell_type": "code",
   "execution_count": 91,
   "id": "cc7605a3",
   "metadata": {},
   "outputs": [
    {
     "data": {
      "image/png": "[encoded data removed]",
      "text/plain": [
       "<Figure size 720x504 with 1 Axes>"
      ]
     },
     "metadata": {
      "needs_background": "light"
     },
     "output_type": "display_data"
    }
   ],
   "source": [
    "#Checking the outliers for LotFrontage and removing it \n",
    "plt.figure(figsize =(10, 7))\n",
    "plt.boxplot(df_train[\"LotFrontage\"],patch_artist = True,notch='True',vert=0)\n",
    "plt.subplots_adjust(bottom=0.25)\n",
    "plt.show()"
   ]
  },
  {
   "cell_type": "code",
   "execution_count": 92,
   "id": "93c38381",
   "metadata": {},
   "outputs": [
    {
     "data": {
      "text/plain": [
       "(2.25, 137.0)"
      ]
     },
     "execution_count": 92,
     "metadata": {},
     "output_type": "execute_result"
    }
   ],
   "source": [
    "#Removing the extreme outliers only in order to prevent the high amount of data loss\n",
    "\n",
    "IQR3(df_train,\"LotFrontage\")\n"
   ]
  },
  {
   "cell_type": "code",
   "execution_count": 93,
   "id": "6b9985b1",
   "metadata": {},
   "outputs": [],
   "source": [
    "## Values more than 137.0 are outliers\n",
    "df_train.loc[df_train[\"LotFrontage\"]>=137.0,\"LotFrontage\"] = 137.0"
   ]
  },
  {
   "cell_type": "markdown",
   "id": "6f250459",
   "metadata": {},
   "source": [
    "##### LotArea Column"
   ]
  },
  {
   "cell_type": "code",
   "execution_count": 94,
   "id": "d47352fd",
   "metadata": {},
   "outputs": [
    {
     "data": {
      "image/png": "[encoded data removed]",
      "text/plain": [
       "<Figure size 720x504 with 1 Axes>"
      ]
     },
     "metadata": {
      "needs_background": "light"
     },
     "output_type": "display_data"
    }
   ],
   "source": [
    "#Checking the outliers for LotFrontage and removing it \n",
    "plt.figure(figsize =(10, 7))\n",
    "plt.boxplot(df_train[\"LotArea\"],patch_artist = True,notch='True',vert=0)\n",
    "plt.show()"
   ]
  },
  {
   "cell_type": "code",
   "execution_count": 95,
   "id": "d3f58463",
   "metadata": {},
   "outputs": [
    {
     "data": {
      "text/plain": [
       "(-4060.5, 23197.5)"
      ]
     },
     "execution_count": 95,
     "metadata": {},
     "output_type": "execute_result"
    }
   ],
   "source": [
    "#Removing the extreme outliers only in order to prevent the high amount of data loss\n",
    "\n",
    "IQR3(df_train,\"LotArea\")"
   ]
  },
  {
   "cell_type": "code",
   "execution_count": 96,
   "id": "162585b5",
   "metadata": {},
   "outputs": [],
   "source": [
    "## Values more than 23197.5 are outliers\n",
    "df_train.loc[df_train[\"LotArea\"]>=23197.5,\"LotArea\"] = 23197.5"
   ]
  },
  {
   "cell_type": "markdown",
   "id": "0c6a95a7",
   "metadata": {},
   "source": [
    "#### MasVnrArea column"
   ]
  },
  {
   "cell_type": "code",
   "execution_count": 97,
   "id": "22afbdfc",
   "metadata": {},
   "outputs": [
    {
     "data": {
      "image/png": "[encoded data removed]",
      "text/plain": [
       "<Figure size 720x504 with 1 Axes>"
      ]
     },
     "metadata": {
      "needs_background": "light"
     },
     "output_type": "display_data"
    }
   ],
   "source": [
    "#Checking the outliers for LotFrontage and removing it \n",
    "plt.figure(figsize =(10, 7))\n",
    "plt.boxplot(df_train[\"MasVnrArea\"],patch_artist = True,notch='True',vert=0)\n",
    "plt.show()"
   ]
  },
  {
   "cell_type": "code",
   "execution_count": 98,
   "id": "af11f623",
   "metadata": {},
   "outputs": [
    {
     "data": {
      "text/plain": [
       "(-480.0, 640.0)"
      ]
     },
     "execution_count": 98,
     "metadata": {},
     "output_type": "execute_result"
    }
   ],
   "source": [
    "#Removing the extreme outliers only in order to prevent the high amount of data loss\n",
    "\n",
    "IQR3(df_train,\"MasVnrArea\")"
   ]
  },
  {
   "cell_type": "code",
   "execution_count": 99,
   "id": "134090c0",
   "metadata": {},
   "outputs": [],
   "source": [
    "## Values more than 640.0 are outliers\n",
    "df_train.loc[df_train[\"MasVnrArea\"]>=640.0,\"MasVnrArea\"] = 640.0"
   ]
  },
  {
   "cell_type": "markdown",
   "id": "e3779934",
   "metadata": {},
   "source": [
    "#### 1stFlrSF column"
   ]
  },
  {
   "cell_type": "code",
   "execution_count": 100,
   "id": "4290c893",
   "metadata": {},
   "outputs": [
    {
     "data": {
      "image/png": "[encoded data removed]",
      "text/plain": [
       "<Figure size 720x504 with 1 Axes>"
      ]
     },
     "metadata": {
      "needs_background": "light"
     },
     "output_type": "display_data"
    }
   ],
   "source": [
    "#Checking the outliers for LotFrontage and removing it \n",
    "plt.figure(figsize =(10, 7))\n",
    "plt.boxplot(df_train[\"1stFlrSF\"],patch_artist = True,notch='True',vert=0)\n",
    "plt.show()"
   ]
  },
  {
   "cell_type": "code",
   "execution_count": 101,
   "id": "b11a2aff",
   "metadata": {},
   "outputs": [
    {
     "data": {
      "text/plain": [
       "(142.0, 2142.0)"
      ]
     },
     "execution_count": 101,
     "metadata": {},
     "output_type": "execute_result"
    }
   ],
   "source": [
    "#Removing the outliers which are outside of the whiskers\n",
    "\n",
    "IQR1(df_train,\"1stFlrSF\")"
   ]
  },
  {
   "cell_type": "code",
   "execution_count": 102,
   "id": "2ac7c4f7",
   "metadata": {},
   "outputs": [],
   "source": [
    "## Values more than 2142.0 are outliers\n",
    "df_train.loc[df_train[\"1stFlrSF\"]>=62142.0,\"1stFlrSF\"] = 2142.0"
   ]
  },
  {
   "cell_type": "markdown",
   "id": "bdaba509",
   "metadata": {},
   "source": [
    "\n",
    "#### 2ndFlrSF column"
   ]
  },
  {
   "cell_type": "code",
   "execution_count": 103,
   "id": "f0336825",
   "metadata": {},
   "outputs": [
    {
     "data": {
      "image/png": "[encoded data removed]",
      "text/plain": [
       "<Figure size 720x504 with 1 Axes>"
      ]
     },
     "metadata": {
      "needs_background": "light"
     },
     "output_type": "display_data"
    }
   ],
   "source": [
    "#Checking the outliers for 2ndFlrSF and removing it \n",
    "plt.figure(figsize =(10, 7))\n",
    "plt.boxplot(df_train[\"2ndFlrSF\"],patch_artist = True,notch='True',vert=0)\n",
    "plt.show()"
   ]
  },
  {
   "cell_type": "markdown",
   "id": "3cfa207a",
   "metadata": {},
   "source": [
    "There are 2 outliers present but can be ignored as they are very near to whiskers."
   ]
  },
  {
   "cell_type": "markdown",
   "id": "3ec3752f",
   "metadata": {},
   "source": [
    "#### GrLivArea column"
   ]
  },
  {
   "cell_type": "code",
   "execution_count": 104,
   "id": "a8030697",
   "metadata": {},
   "outputs": [
    {
     "data": {
      "image/png": "[encoded data removed]",
      "text/plain": [
       "<Figure size 720x504 with 1 Axes>"
      ]
     },
     "metadata": {
      "needs_background": "light"
     },
     "output_type": "display_data"
    }
   ],
   "source": [
    "#Checking the outliers for GrLivArea and removing it \n",
    "plt.figure(figsize =(10, 7))\n",
    "plt.boxplot(df_train[\"GrLivArea\"],patch_artist = True,notch='True',vert=0)\n",
    "plt.show()"
   ]
  },
  {
   "cell_type": "code",
   "execution_count": 105,
   "id": "531f96d4",
   "metadata": {},
   "outputs": [
    {
     "data": {
      "text/plain": [
       "(-812.0, 3750.25)"
      ]
     },
     "execution_count": 105,
     "metadata": {},
     "output_type": "execute_result"
    }
   ],
   "source": [
    "#Removing the extreme outliers only in order to prevent the high amount of data loss\n",
    "\n",
    "IQR3(df_train,\"GrLivArea\")"
   ]
  },
  {
   "cell_type": "code",
   "execution_count": 106,
   "id": "be702e53",
   "metadata": {},
   "outputs": [],
   "source": [
    "## Values more than 3750.25 are outliers\n",
    "df_train.loc[df_train[\"GrLivArea\"]>=62142.0,\"GrLivArea\"] = 62142.0"
   ]
  },
  {
   "cell_type": "markdown",
   "id": "cd7452f5",
   "metadata": {},
   "source": [
    "\n",
    "#### GarageArea column"
   ]
  },
  {
   "cell_type": "code",
   "execution_count": 107,
   "id": "3dfc66a5",
   "metadata": {},
   "outputs": [
    {
     "data": {
      "image/png": "[encoded data removed]",
      "text/plain": [
       "<Figure size 720x504 with 1 Axes>"
      ]
     },
     "metadata": {
      "needs_background": "light"
     },
     "output_type": "display_data"
    }
   ],
   "source": [
    "#Checking the outliers for GarageArea and removing it \n",
    "plt.figure(figsize =(10, 7))\n",
    "plt.boxplot(df_train[\"GarageArea\"],patch_artist = True,notch='True',vert=0)\n",
    "plt.show()"
   ]
  },
  {
   "cell_type": "code",
   "execution_count": 108,
   "id": "da1158bf",
   "metadata": {},
   "outputs": [
    {
     "data": {
      "text/plain": [
       "(-376.0, 1290.0)"
      ]
     },
     "execution_count": 108,
     "metadata": {},
     "output_type": "execute_result"
    }
   ],
   "source": [
    "#Removing the extreme outliers only in order to prevent the high amount of data loss\n",
    "\n",
    "IQR3(df_train,\"GarageArea\")"
   ]
  },
  {
   "cell_type": "code",
   "execution_count": 109,
   "id": "6b567d4a",
   "metadata": {},
   "outputs": [],
   "source": [
    "## Values more than 1290.0 are outliers\n",
    "df_train.loc[df_train[\"GarageArea\"]>=1290.0,\"GarageArea\"] =1290.0"
   ]
  },
  {
   "cell_type": "markdown",
   "id": "96f08c82",
   "metadata": {},
   "source": [
    "#### WoodDeckSF column"
   ]
  },
  {
   "cell_type": "code",
   "execution_count": 110,
   "id": "2a671176",
   "metadata": {},
   "outputs": [
    {
     "data": {
      "image/png": "[encoded data removed]",
      "text/plain": [
       "<Figure size 720x504 with 1 Axes>"
      ]
     },
     "metadata": {
      "needs_background": "light"
     },
     "output_type": "display_data"
    }
   ],
   "source": [
    "#Checking the outliers for WoodDeckSF and removing it \n",
    "plt.figure(figsize =(10, 7))\n",
    "plt.boxplot(df_train[\"WoodDeckSF\"],patch_artist = True,notch='True',vert=0)\n",
    "plt.show()"
   ]
  },
  {
   "cell_type": "code",
   "execution_count": 111,
   "id": "ecca6892",
   "metadata": {},
   "outputs": [
    {
     "data": {
      "text/plain": [
       "(-513.0, 684.0)"
      ]
     },
     "execution_count": 111,
     "metadata": {},
     "output_type": "execute_result"
    }
   ],
   "source": [
    "#Removing the extreme outliers only in order to prevent the high amount of data loss\n",
    "\n",
    "IQR3(df_train,\"WoodDeckSF\")"
   ]
  },
  {
   "cell_type": "code",
   "execution_count": 112,
   "id": "f0a88319",
   "metadata": {},
   "outputs": [],
   "source": [
    "## Values more than 684.0 are outliers\n",
    "df_train.loc[df_train[\"WoodDeckSF\"]>=684.0,\"WoodDeckSF\"] =684.0"
   ]
  },
  {
   "cell_type": "markdown",
   "id": "b3a86d2a",
   "metadata": {},
   "source": [
    "#### OpenPorchSF column"
   ]
  },
  {
   "cell_type": "code",
   "execution_count": 113,
   "id": "84538ff4",
   "metadata": {},
   "outputs": [
    {
     "data": {
      "image/png": "[encoded data removed]",
      "text/plain": [
       "<Figure size 720x504 with 1 Axes>"
      ]
     },
     "metadata": {
      "needs_background": "light"
     },
     "output_type": "display_data"
    }
   ],
   "source": [
    "#Checking the outliers for OpenPorchSF and removing it \n",
    "plt.figure(figsize =(10, 7))\n",
    "plt.boxplot(df_train[\"OpenPorchSF\"],patch_artist = True,notch='True',vert=0)\n",
    "plt.show()"
   ]
  },
  {
   "cell_type": "code",
   "execution_count": 114,
   "id": "39bd8dc1",
   "metadata": {},
   "outputs": [
    {
     "data": {
      "text/plain": [
       "(-210.0, 280.0)"
      ]
     },
     "execution_count": 114,
     "metadata": {},
     "output_type": "execute_result"
    }
   ],
   "source": [
    "#Removing the extreme outliers only in order to prevent the high amount of data loss\n",
    "\n",
    "IQR3(df_train,\"OpenPorchSF\")"
   ]
  },
  {
   "cell_type": "code",
   "execution_count": 115,
   "id": "2c7a6fc4",
   "metadata": {},
   "outputs": [],
   "source": [
    "## Values more than 280.0 are outliers\n",
    "df_train.loc[df_train[\"OpenPorchSF\"]>=280.0,\"OpenPorchSF\"] =280.0"
   ]
  },
  {
   "cell_type": "code",
   "execution_count": 116,
   "id": "9b5f0931",
   "metadata": {},
   "outputs": [
    {
     "data": {
      "text/plain": [
       "MSSubClass        1.422019\n",
       "MSZoning         -1.796785\n",
       "LotFrontage       0.457901\n",
       "LotArea           0.966841\n",
       "Street          -17.021969\n",
       "LotShape         -0.603775\n",
       "LandContour      -3.125982\n",
       "Utilities         0.000000\n",
       "LotConfig        -1.118821\n",
       "LandSlope         4.812568\n",
       "Neighborhood      0.043735\n",
       "Condition1        3.008289\n",
       "Condition2       11.514458\n",
       "BldgType          2.318657\n",
       "HouseStyle        0.285680\n",
       "OverallQual       0.175082\n",
       "OverallCond       0.580714\n",
       "YearBuilt        -0.579204\n",
       "YearRemodAdd     -0.495864\n",
       "RoofStyle         1.498560\n",
       "RoofMatl          7.577352\n",
       "Exterior1st      -0.612816\n",
       "Exterior2nd      -0.592349\n",
       "MasVnrType       -0.104609\n",
       "MasVnrArea        1.835781\n",
       "ExterQual        -1.810843\n",
       "ExterCond        -2.516219\n",
       "Foundation       -0.002761\n",
       "BsmtQual         -1.343781\n",
       "BsmtCond         -3.293554\n",
       "BsmtExposure     -1.166987\n",
       "BsmtFinType1     -0.068901\n",
       "BsmtFinSF1        1.871606\n",
       "BsmtFinType2     -3.615783\n",
       "BsmtFinSF2        4.365829\n",
       "BsmtUnfSF         0.909057\n",
       "TotalBsmtSF       1.744591\n",
       "Heating          10.103609\n",
       "HeatingQC         0.449933\n",
       "CentralAir       -3.475188\n",
       "Electrical       -3.104209\n",
       "1stFlrSF          1.513707\n",
       "2ndFlrSF          0.823479\n",
       "LowQualFinSF      8.666142\n",
       "GrLivArea         1.449952\n",
       "BsmtFullBath      0.627106\n",
       "BsmtHalfBath      4.264403\n",
       "FullBath          0.057809\n",
       "HalfBath          0.656492\n",
       "BedroomAbvGr      0.243855\n",
       "KitchenAbvGr      4.365259\n",
       "KitchenQual      -1.408106\n",
       "TotRmsAbvGrd      0.644657\n",
       "Functional       -3.999663\n",
       "Fireplaces        0.671966\n",
       "FireplaceQu       0.753507\n",
       "GarageType        0.831142\n",
       "GarageFinish     -0.450190\n",
       "GarageCars       -0.358556\n",
       "GarageArea        0.137546\n",
       "GarageQual       -4.582386\n",
       "GarageCond       -5.422472\n",
       "PavedDrive       -3.274035\n",
       "WoodDeckSF        1.416742\n",
       "OpenPorchSF       1.682734\n",
       "EnclosedPorch     3.043610\n",
       "3SsnPorch         9.770611\n",
       "ScreenPorch       4.105741\n",
       "PoolArea         13.243711\n",
       "Fence            -1.955758\n",
       "MiscVal          23.065943\n",
       "MoSold            0.220979\n",
       "YrSold            0.115765\n",
       "SaleType         -3.660513\n",
       "SaleCondition    -2.671829\n",
       "SalePrice         1.953878\n",
       "dtype: float64"
      ]
     },
     "execution_count": 116,
     "metadata": {},
     "output_type": "execute_result"
    }
   ],
   "source": [
    "#checking the skewness\n",
    "\n",
    "df_train.skew()"
   ]
  },
  {
   "cell_type": "code",
   "execution_count": 117,
   "id": "1a4b62f6",
   "metadata": {},
   "outputs": [],
   "source": [
    "#Applying the tranformation function to remove skewness\n",
    "from sklearn.preprocessing import power_transform\n",
    "df_train_new=power_transform(df_train)\n",
    "df_train_new=pd.DataFrame(df_train_new,columns=df_train.columns)"
   ]
  },
  {
   "cell_type": "code",
   "execution_count": 118,
   "id": "85b96219",
   "metadata": {},
   "outputs": [],
   "source": [
    "df_train=df_train_new"
   ]
  },
  {
   "cell_type": "code",
   "execution_count": 119,
   "id": "4608e873",
   "metadata": {},
   "outputs": [],
   "source": [
    "## scaling the train dataset\n",
    "\n",
    "from sklearn.preprocessing import StandardScaler\n",
    "scaling=StandardScaler()\n",
    "scaledata=scaling.fit_transform(df_train)"
   ]
  },
  {
   "cell_type": "code",
   "execution_count": 120,
   "id": "f50b4693",
   "metadata": {},
   "outputs": [
    {
     "data": {
      "text/html": [
       "<div>\n",
       "<style scoped>\n",
       "    .dataframe tbody tr th:only-of-type {\n",
       "        vertical-align: middle;\n",
       "    }\n",
       "\n",
       "    .dataframe tbody tr th {\n",
       "        vertical-align: top;\n",
       "    }\n",
       "\n",
       "    .dataframe thead th {\n",
       "        text-align: right;\n",
       "    }\n",
       "</style>\n",
       "<table border=\"1\" class=\"dataframe\">\n",
       "  <thead>\n",
       "    <tr style=\"text-align: right;\">\n",
       "      <th></th>\n",
       "      <th>MSSubClass</th>\n",
       "      <th>MSZoning</th>\n",
       "      <th>LotFrontage</th>\n",
       "      <th>LotArea</th>\n",
       "      <th>Street</th>\n",
       "      <th>LotShape</th>\n",
       "      <th>LandContour</th>\n",
       "      <th>Utilities</th>\n",
       "      <th>LotConfig</th>\n",
       "      <th>LandSlope</th>\n",
       "      <th>Neighborhood</th>\n",
       "      <th>Condition1</th>\n",
       "      <th>Condition2</th>\n",
       "      <th>BldgType</th>\n",
       "      <th>HouseStyle</th>\n",
       "      <th>OverallQual</th>\n",
       "      <th>OverallCond</th>\n",
       "      <th>YearBuilt</th>\n",
       "      <th>YearRemodAdd</th>\n",
       "      <th>RoofStyle</th>\n",
       "      <th>RoofMatl</th>\n",
       "      <th>Exterior1st</th>\n",
       "      <th>Exterior2nd</th>\n",
       "      <th>MasVnrType</th>\n",
       "      <th>MasVnrArea</th>\n",
       "      <th>ExterQual</th>\n",
       "      <th>ExterCond</th>\n",
       "      <th>Foundation</th>\n",
       "      <th>BsmtQual</th>\n",
       "      <th>BsmtCond</th>\n",
       "      <th>BsmtExposure</th>\n",
       "      <th>BsmtFinType1</th>\n",
       "      <th>BsmtFinSF1</th>\n",
       "      <th>BsmtFinType2</th>\n",
       "      <th>BsmtFinSF2</th>\n",
       "      <th>BsmtUnfSF</th>\n",
       "      <th>TotalBsmtSF</th>\n",
       "      <th>Heating</th>\n",
       "      <th>HeatingQC</th>\n",
       "      <th>CentralAir</th>\n",
       "      <th>Electrical</th>\n",
       "      <th>1stFlrSF</th>\n",
       "      <th>2ndFlrSF</th>\n",
       "      <th>LowQualFinSF</th>\n",
       "      <th>GrLivArea</th>\n",
       "      <th>BsmtFullBath</th>\n",
       "      <th>BsmtHalfBath</th>\n",
       "      <th>FullBath</th>\n",
       "      <th>HalfBath</th>\n",
       "      <th>BedroomAbvGr</th>\n",
       "      <th>KitchenAbvGr</th>\n",
       "      <th>KitchenQual</th>\n",
       "      <th>TotRmsAbvGrd</th>\n",
       "      <th>Functional</th>\n",
       "      <th>Fireplaces</th>\n",
       "      <th>FireplaceQu</th>\n",
       "      <th>GarageType</th>\n",
       "      <th>GarageFinish</th>\n",
       "      <th>GarageCars</th>\n",
       "      <th>GarageArea</th>\n",
       "      <th>GarageQual</th>\n",
       "      <th>GarageCond</th>\n",
       "      <th>PavedDrive</th>\n",
       "      <th>WoodDeckSF</th>\n",
       "      <th>OpenPorchSF</th>\n",
       "      <th>EnclosedPorch</th>\n",
       "      <th>3SsnPorch</th>\n",
       "      <th>ScreenPorch</th>\n",
       "      <th>PoolArea</th>\n",
       "      <th>Fence</th>\n",
       "      <th>MiscVal</th>\n",
       "      <th>MoSold</th>\n",
       "      <th>YrSold</th>\n",
       "      <th>SaleType</th>\n",
       "      <th>SaleCondition</th>\n",
       "      <th>SalePrice</th>\n",
       "    </tr>\n",
       "  </thead>\n",
       "  <tbody>\n",
       "    <tr>\n",
       "      <th>0</th>\n",
       "      <td>1.370435</td>\n",
       "      <td>-0.162456</td>\n",
       "      <td>0.057550</td>\n",
       "      <td>-1.306699</td>\n",
       "      <td>0.058621</td>\n",
       "      <td>-1.366794</td>\n",
       "      <td>0.341434</td>\n",
       "      <td>0.0</td>\n",
       "      <td>0.617281</td>\n",
       "      <td>-0.238775</td>\n",
       "      <td>0.198357</td>\n",
       "      <td>0.053284</td>\n",
       "      <td>0.0038</td>\n",
       "      <td>2.310950</td>\n",
       "      <td>-0.463401</td>\n",
       "      <td>-0.052799</td>\n",
       "      <td>-0.496528</td>\n",
       "      <td>0.026859</td>\n",
       "      <td>-0.613054</td>\n",
       "      <td>-0.388056</td>\n",
       "      <td>-0.088315</td>\n",
       "      <td>-0.326182</td>\n",
       "      <td>-0.209982</td>\n",
       "      <td>0.383932</td>\n",
       "      <td>-0.813065</td>\n",
       "      <td>0.778521</td>\n",
       "      <td>0.377961</td>\n",
       "      <td>-0.558722</td>\n",
       "      <td>-0.606202</td>\n",
       "      <td>0.300945</td>\n",
       "      <td>0.673258</td>\n",
       "      <td>-1.619575</td>\n",
       "      <td>-0.112649</td>\n",
       "      <td>0.360988</td>\n",
       "      <td>-0.363019</td>\n",
       "      <td>0.903777</td>\n",
       "      <td>0.099335</td>\n",
       "      <td>-0.092972</td>\n",
       "      <td>1.231264</td>\n",
       "      <td>0.267506</td>\n",
       "      <td>0.302595</td>\n",
       "      <td>-0.458345</td>\n",
       "      <td>-0.871745</td>\n",
       "      <td>-0.14173</td>\n",
       "      <td>-1.236502</td>\n",
       "      <td>-0.837006</td>\n",
       "      <td>-0.238775</td>\n",
       "      <td>0.80229</td>\n",
       "      <td>-0.782707</td>\n",
       "      <td>-1.083459</td>\n",
       "      <td>-0.169259</td>\n",
       "      <td>0.944965</td>\n",
       "      <td>-0.984125</td>\n",
       "      <td>0.276573</td>\n",
       "      <td>0.777879</td>\n",
       "      <td>1.673239</td>\n",
       "      <td>-0.673804</td>\n",
       "      <td>-0.376496</td>\n",
       "      <td>0.259753</td>\n",
       "      <td>-0.114406</td>\n",
       "      <td>0.220168</td>\n",
       "      <td>0.195505</td>\n",
       "      <td>0.300947</td>\n",
       "      <td>-0.959799</td>\n",
       "      <td>1.418017</td>\n",
       "      <td>-0.411301</td>\n",
       "      <td>-0.138554</td>\n",
       "      <td>-0.297551</td>\n",
       "      <td>-0.077648</td>\n",
       "      <td>0.503226</td>\n",
       "      <td>-0.193133</td>\n",
       "      <td>-1.719437</td>\n",
       "      <td>-0.604825</td>\n",
       "      <td>0.409069</td>\n",
       "      <td>0.029735</td>\n",
       "      <td>-0.671353</td>\n",
       "    </tr>\n",
       "    <tr>\n",
       "      <th>1</th>\n",
       "      <td>-1.167999</td>\n",
       "      <td>-0.162456</td>\n",
       "      <td>1.243968</td>\n",
       "      <td>1.400449</td>\n",
       "      <td>0.058621</td>\n",
       "      <td>-1.366794</td>\n",
       "      <td>0.341434</td>\n",
       "      <td>0.0</td>\n",
       "      <td>0.617281</td>\n",
       "      <td>4.188040</td>\n",
       "      <td>0.037086</td>\n",
       "      <td>0.053284</td>\n",
       "      <td>0.0038</td>\n",
       "      <td>-0.436548</td>\n",
       "      <td>-0.463401</td>\n",
       "      <td>1.345826</td>\n",
       "      <td>0.407009</td>\n",
       "      <td>-0.185817</td>\n",
       "      <td>-0.854247</td>\n",
       "      <td>-5.058580</td>\n",
       "      <td>5.396201</td>\n",
       "      <td>1.159356</td>\n",
       "      <td>1.119374</td>\n",
       "      <td>0.383932</td>\n",
       "      <td>-0.813065</td>\n",
       "      <td>-1.124906</td>\n",
       "      <td>-2.646123</td>\n",
       "      <td>0.852373</td>\n",
       "      <td>0.982931</td>\n",
       "      <td>-3.324610</td>\n",
       "      <td>-1.419429</td>\n",
       "      <td>-1.619575</td>\n",
       "      <td>0.394677</td>\n",
       "      <td>-2.532187</td>\n",
       "      <td>2.756067</td>\n",
       "      <td>1.027313</td>\n",
       "      <td>2.374300</td>\n",
       "      <td>-0.092972</td>\n",
       "      <td>-0.968376</td>\n",
       "      <td>0.267506</td>\n",
       "      <td>0.302595</td>\n",
       "      <td>2.122554</td>\n",
       "      <td>-0.871745</td>\n",
       "      <td>-0.14173</td>\n",
       "      <td>1.295050</td>\n",
       "      <td>1.176812</td>\n",
       "      <td>-0.238775</td>\n",
       "      <td>0.80229</td>\n",
       "      <td>-0.782707</td>\n",
       "      <td>1.356214</td>\n",
       "      <td>-0.169259</td>\n",
       "      <td>-0.687929</td>\n",
       "      <td>0.943901</td>\n",
       "      <td>0.276573</td>\n",
       "      <td>0.777879</td>\n",
       "      <td>1.673239</td>\n",
       "      <td>-0.673804</td>\n",
       "      <td>0.972281</td>\n",
       "      <td>0.259753</td>\n",
       "      <td>0.682046</td>\n",
       "      <td>0.220168</td>\n",
       "      <td>0.195505</td>\n",
       "      <td>0.300947</td>\n",
       "      <td>0.782072</td>\n",
       "      <td>1.422582</td>\n",
       "      <td>-0.411301</td>\n",
       "      <td>-0.138554</td>\n",
       "      <td>3.360787</td>\n",
       "      <td>-0.077648</td>\n",
       "      <td>0.503226</td>\n",
       "      <td>-0.193133</td>\n",
       "      <td>1.320612</td>\n",
       "      <td>-0.604825</td>\n",
       "      <td>0.409069</td>\n",
       "      <td>0.029735</td>\n",
       "      <td>1.181174</td>\n",
       "    </tr>\n",
       "    <tr>\n",
       "      <th>2</th>\n",
       "      <td>0.490047</td>\n",
       "      <td>-0.162456</td>\n",
       "      <td>1.099831</td>\n",
       "      <td>0.106592</td>\n",
       "      <td>0.058621</td>\n",
       "      <td>-1.366794</td>\n",
       "      <td>0.341434</td>\n",
       "      <td>0.0</td>\n",
       "      <td>-1.482445</td>\n",
       "      <td>-0.238775</td>\n",
       "      <td>0.512775</td>\n",
       "      <td>0.053284</td>\n",
       "      <td>0.0038</td>\n",
       "      <td>-0.436548</td>\n",
       "      <td>1.021519</td>\n",
       "      <td>0.656375</td>\n",
       "      <td>-0.496528</td>\n",
       "      <td>0.836680</td>\n",
       "      <td>0.495717</td>\n",
       "      <td>-0.388056</td>\n",
       "      <td>-0.088315</td>\n",
       "      <td>-0.646692</td>\n",
       "      <td>-0.781046</td>\n",
       "      <td>0.383932</td>\n",
       "      <td>-0.813065</td>\n",
       "      <td>-1.124906</td>\n",
       "      <td>0.377961</td>\n",
       "      <td>0.852373</td>\n",
       "      <td>-0.606202</td>\n",
       "      <td>0.300945</td>\n",
       "      <td>-1.754271</td>\n",
       "      <td>-0.368766</td>\n",
       "      <td>0.925416</td>\n",
       "      <td>0.360988</td>\n",
       "      <td>-0.363019</td>\n",
       "      <td>-0.504500</td>\n",
       "      <td>0.185571</td>\n",
       "      <td>-0.092972</td>\n",
       "      <td>-0.968376</td>\n",
       "      <td>0.267506</td>\n",
       "      <td>0.302595</td>\n",
       "      <td>0.058641</td>\n",
       "      <td>1.176207</td>\n",
       "      <td>-0.14173</td>\n",
       "      <td>1.003880</td>\n",
       "      <td>1.176812</td>\n",
       "      <td>-0.238775</td>\n",
       "      <td>0.80229</td>\n",
       "      <td>1.268421</td>\n",
       "      <td>0.151784</td>\n",
       "      <td>-0.169259</td>\n",
       "      <td>0.944965</td>\n",
       "      <td>0.943901</td>\n",
       "      <td>0.276573</td>\n",
       "      <td>0.777879</td>\n",
       "      <td>1.673239</td>\n",
       "      <td>-0.673804</td>\n",
       "      <td>0.972281</td>\n",
       "      <td>0.259753</td>\n",
       "      <td>-0.046417</td>\n",
       "      <td>0.220168</td>\n",
       "      <td>0.195505</td>\n",
       "      <td>0.300947</td>\n",
       "      <td>1.044184</td>\n",
       "      <td>1.204417</td>\n",
       "      <td>-0.411301</td>\n",
       "      <td>-0.138554</td>\n",
       "      <td>-0.297551</td>\n",
       "      <td>-0.077648</td>\n",
       "      <td>0.503226</td>\n",
       "      <td>-0.193133</td>\n",
       "      <td>-0.076750</td>\n",
       "      <td>-0.604825</td>\n",
       "      <td>0.409069</td>\n",
       "      <td>0.029735</td>\n",
       "      <td>1.197587</td>\n",
       "    </tr>\n",
       "    <tr>\n",
       "      <th>3</th>\n",
       "      <td>-1.167999</td>\n",
       "      <td>-0.162456</td>\n",
       "      <td>1.717189</td>\n",
       "      <td>0.536225</td>\n",
       "      <td>0.058621</td>\n",
       "      <td>-1.366794</td>\n",
       "      <td>0.341434</td>\n",
       "      <td>0.0</td>\n",
       "      <td>0.617281</td>\n",
       "      <td>-0.238775</td>\n",
       "      <td>0.356843</td>\n",
       "      <td>0.053284</td>\n",
       "      <td>0.0038</td>\n",
       "      <td>-0.436548</td>\n",
       "      <td>-0.463401</td>\n",
       "      <td>-0.052799</td>\n",
       "      <td>0.407009</td>\n",
       "      <td>0.063582</td>\n",
       "      <td>-0.569998</td>\n",
       "      <td>1.737139</td>\n",
       "      <td>-0.088315</td>\n",
       "      <td>-0.326182</td>\n",
       "      <td>-0.209982</td>\n",
       "      <td>-1.237353</td>\n",
       "      <td>1.392791</td>\n",
       "      <td>0.778521</td>\n",
       "      <td>0.377961</td>\n",
       "      <td>-0.558722</td>\n",
       "      <td>-0.606202</td>\n",
       "      <td>0.300945</td>\n",
       "      <td>0.673258</td>\n",
       "      <td>-0.954307</td>\n",
       "      <td>0.797133</td>\n",
       "      <td>0.360988</td>\n",
       "      <td>-0.363019</td>\n",
       "      <td>1.160517</td>\n",
       "      <td>1.674462</td>\n",
       "      <td>-0.092972</td>\n",
       "      <td>-0.968376</td>\n",
       "      <td>0.267506</td>\n",
       "      <td>0.302595</td>\n",
       "      <td>1.574554</td>\n",
       "      <td>-0.871745</td>\n",
       "      <td>-0.14173</td>\n",
       "      <td>0.739356</td>\n",
       "      <td>-0.837006</td>\n",
       "      <td>-0.238775</td>\n",
       "      <td>0.80229</td>\n",
       "      <td>-0.782707</td>\n",
       "      <td>0.151784</td>\n",
       "      <td>-0.169259</td>\n",
       "      <td>0.944965</td>\n",
       "      <td>0.375729</td>\n",
       "      <td>0.276573</td>\n",
       "      <td>0.777879</td>\n",
       "      <td>1.673239</td>\n",
       "      <td>-0.673804</td>\n",
       "      <td>-0.376496</td>\n",
       "      <td>0.259753</td>\n",
       "      <td>0.357929</td>\n",
       "      <td>0.220168</td>\n",
       "      <td>0.195505</td>\n",
       "      <td>0.300947</td>\n",
       "      <td>-0.959799</td>\n",
       "      <td>1.174727</td>\n",
       "      <td>-0.411301</td>\n",
       "      <td>-0.138554</td>\n",
       "      <td>-0.297551</td>\n",
       "      <td>-0.077648</td>\n",
       "      <td>-1.935972</td>\n",
       "      <td>-0.193133</td>\n",
       "      <td>-2.209015</td>\n",
       "      <td>1.649742</td>\n",
       "      <td>-2.769993</td>\n",
       "      <td>0.029735</td>\n",
       "      <td>0.326442</td>\n",
       "    </tr>\n",
       "    <tr>\n",
       "      <th>4</th>\n",
       "      <td>-1.167999</td>\n",
       "      <td>-0.162456</td>\n",
       "      <td>0.057550</td>\n",
       "      <td>1.550074</td>\n",
       "      <td>0.058621</td>\n",
       "      <td>-1.366794</td>\n",
       "      <td>0.341434</td>\n",
       "      <td>0.0</td>\n",
       "      <td>-1.025661</td>\n",
       "      <td>-0.238775</td>\n",
       "      <td>0.356843</td>\n",
       "      <td>0.053284</td>\n",
       "      <td>0.0038</td>\n",
       "      <td>-0.436548</td>\n",
       "      <td>-0.463401</td>\n",
       "      <td>-0.052799</td>\n",
       "      <td>1.234321</td>\n",
       "      <td>0.063582</td>\n",
       "      <td>0.694762</td>\n",
       "      <td>-0.388056</td>\n",
       "      <td>-0.088315</td>\n",
       "      <td>-1.468844</td>\n",
       "      <td>-1.500720</td>\n",
       "      <td>2.080260</td>\n",
       "      <td>1.157906</td>\n",
       "      <td>-1.124906</td>\n",
       "      <td>0.377961</td>\n",
       "      <td>-0.558722</td>\n",
       "      <td>-0.606202</td>\n",
       "      <td>0.300945</td>\n",
       "      <td>0.673258</td>\n",
       "      <td>-1.619575</td>\n",
       "      <td>1.176115</td>\n",
       "      <td>0.360988</td>\n",
       "      <td>-0.363019</td>\n",
       "      <td>-0.226633</td>\n",
       "      <td>1.200095</td>\n",
       "      <td>-0.092972</td>\n",
       "      <td>0.661944</td>\n",
       "      <td>0.267506</td>\n",
       "      <td>0.302595</td>\n",
       "      <td>1.149105</td>\n",
       "      <td>-0.871745</td>\n",
       "      <td>-0.14173</td>\n",
       "      <td>0.314931</td>\n",
       "      <td>-0.837006</td>\n",
       "      <td>4.188040</td>\n",
       "      <td>0.80229</td>\n",
       "      <td>-0.782707</td>\n",
       "      <td>0.151784</td>\n",
       "      <td>-0.169259</td>\n",
       "      <td>-0.687929</td>\n",
       "      <td>0.943901</td>\n",
       "      <td>0.276573</td>\n",
       "      <td>0.777879</td>\n",
       "      <td>1.673239</td>\n",
       "      <td>-0.673804</td>\n",
       "      <td>-1.467967</td>\n",
       "      <td>0.259753</td>\n",
       "      <td>0.283377</td>\n",
       "      <td>0.220168</td>\n",
       "      <td>0.195505</td>\n",
       "      <td>0.300947</td>\n",
       "      <td>1.135597</td>\n",
       "      <td>-1.061921</td>\n",
       "      <td>-0.411301</td>\n",
       "      <td>-0.138554</td>\n",
       "      <td>-0.297551</td>\n",
       "      <td>-0.077648</td>\n",
       "      <td>0.503226</td>\n",
       "      <td>-0.193133</td>\n",
       "      <td>-0.076750</td>\n",
       "      <td>0.899557</td>\n",
       "      <td>0.409069</td>\n",
       "      <td>0.029735</td>\n",
       "      <td>0.635122</td>\n",
       "    </tr>\n",
       "  </tbody>\n",
       "</table>\n",
       "</div>"
      ],
      "text/plain": [
       "   MSSubClass  MSZoning  LotFrontage   LotArea    Street  LotShape  \\\n",
       "0    1.370435 -0.162456     0.057550 -1.306699  0.058621 -1.366794   \n",
       "1   -1.167999 -0.162456     1.243968  1.400449  0.058621 -1.366794   \n",
       "2    0.490047 -0.162456     1.099831  0.106592  0.058621 -1.366794   \n",
       "3   -1.167999 -0.162456     1.717189  0.536225  0.058621 -1.366794   \n",
       "4   -1.167999 -0.162456     0.057550  1.550074  0.058621 -1.366794   \n",
       "\n",
       "   LandContour  Utilities  LotConfig  LandSlope  Neighborhood  Condition1  \\\n",
       "0     0.341434        0.0   0.617281  -0.238775      0.198357    0.053284   \n",
       "1     0.341434        0.0   0.617281   4.188040      0.037086    0.053284   \n",
       "2     0.341434        0.0  -1.482445  -0.238775      0.512775    0.053284   \n",
       "3     0.341434        0.0   0.617281  -0.238775      0.356843    0.053284   \n",
       "4     0.341434        0.0  -1.025661  -0.238775      0.356843    0.053284   \n",
       "\n",
       "   Condition2  BldgType  HouseStyle  OverallQual  OverallCond  YearBuilt  \\\n",
       "0      0.0038  2.310950   -0.463401    -0.052799    -0.496528   0.026859   \n",
       "1      0.0038 -0.436548   -0.463401     1.345826     0.407009  -0.185817   \n",
       "2      0.0038 -0.436548    1.021519     0.656375    -0.496528   0.836680   \n",
       "3      0.0038 -0.436548   -0.463401    -0.052799     0.407009   0.063582   \n",
       "4      0.0038 -0.436548   -0.463401    -0.052799     1.234321   0.063582   \n",
       "\n",
       "   YearRemodAdd  RoofStyle  RoofMatl  Exterior1st  Exterior2nd  MasVnrType  \\\n",
       "0     -0.613054  -0.388056 -0.088315    -0.326182    -0.209982    0.383932   \n",
       "1     -0.854247  -5.058580  5.396201     1.159356     1.119374    0.383932   \n",
       "2      0.495717  -0.388056 -0.088315    -0.646692    -0.781046    0.383932   \n",
       "3     -0.569998   1.737139 -0.088315    -0.326182    -0.209982   -1.237353   \n",
       "4      0.694762  -0.388056 -0.088315    -1.468844    -1.500720    2.080260   \n",
       "\n",
       "   MasVnrArea  ExterQual  ExterCond  Foundation  BsmtQual  BsmtCond  \\\n",
       "0   -0.813065   0.778521   0.377961   -0.558722 -0.606202  0.300945   \n",
       "1   -0.813065  -1.124906  -2.646123    0.852373  0.982931 -3.324610   \n",
       "2   -0.813065  -1.124906   0.377961    0.852373 -0.606202  0.300945   \n",
       "3    1.392791   0.778521   0.377961   -0.558722 -0.606202  0.300945   \n",
       "4    1.157906  -1.124906   0.377961   -0.558722 -0.606202  0.300945   \n",
       "\n",
       "   BsmtExposure  BsmtFinType1  BsmtFinSF1  BsmtFinType2  BsmtFinSF2  \\\n",
       "0      0.673258     -1.619575   -0.112649      0.360988   -0.363019   \n",
       "1     -1.419429     -1.619575    0.394677     -2.532187    2.756067   \n",
       "2     -1.754271     -0.368766    0.925416      0.360988   -0.363019   \n",
       "3      0.673258     -0.954307    0.797133      0.360988   -0.363019   \n",
       "4      0.673258     -1.619575    1.176115      0.360988   -0.363019   \n",
       "\n",
       "   BsmtUnfSF  TotalBsmtSF   Heating  HeatingQC  CentralAir  Electrical  \\\n",
       "0   0.903777     0.099335 -0.092972   1.231264    0.267506    0.302595   \n",
       "1   1.027313     2.374300 -0.092972  -0.968376    0.267506    0.302595   \n",
       "2  -0.504500     0.185571 -0.092972  -0.968376    0.267506    0.302595   \n",
       "3   1.160517     1.674462 -0.092972  -0.968376    0.267506    0.302595   \n",
       "4  -0.226633     1.200095 -0.092972   0.661944    0.267506    0.302595   \n",
       "\n",
       "   1stFlrSF  2ndFlrSF  LowQualFinSF  GrLivArea  BsmtFullBath  BsmtHalfBath  \\\n",
       "0 -0.458345 -0.871745      -0.14173  -1.236502     -0.837006     -0.238775   \n",
       "1  2.122554 -0.871745      -0.14173   1.295050      1.176812     -0.238775   \n",
       "2  0.058641  1.176207      -0.14173   1.003880      1.176812     -0.238775   \n",
       "3  1.574554 -0.871745      -0.14173   0.739356     -0.837006     -0.238775   \n",
       "4  1.149105 -0.871745      -0.14173   0.314931     -0.837006      4.188040   \n",
       "\n",
       "   FullBath  HalfBath  BedroomAbvGr  KitchenAbvGr  KitchenQual  TotRmsAbvGrd  \\\n",
       "0   0.80229 -0.782707     -1.083459     -0.169259     0.944965     -0.984125   \n",
       "1   0.80229 -0.782707      1.356214     -0.169259    -0.687929      0.943901   \n",
       "2   0.80229  1.268421      0.151784     -0.169259     0.944965      0.943901   \n",
       "3   0.80229 -0.782707      0.151784     -0.169259     0.944965      0.375729   \n",
       "4   0.80229 -0.782707      0.151784     -0.169259    -0.687929      0.943901   \n",
       "\n",
       "   Functional  Fireplaces  FireplaceQu  GarageType  GarageFinish  GarageCars  \\\n",
       "0    0.276573    0.777879     1.673239   -0.673804     -0.376496    0.259753   \n",
       "1    0.276573    0.777879     1.673239   -0.673804      0.972281    0.259753   \n",
       "2    0.276573    0.777879     1.673239   -0.673804      0.972281    0.259753   \n",
       "3    0.276573    0.777879     1.673239   -0.673804     -0.376496    0.259753   \n",
       "4    0.276573    0.777879     1.673239   -0.673804     -1.467967    0.259753   \n",
       "\n",
       "   GarageArea  GarageQual  GarageCond  PavedDrive  WoodDeckSF  OpenPorchSF  \\\n",
       "0   -0.114406    0.220168    0.195505    0.300947   -0.959799     1.418017   \n",
       "1    0.682046    0.220168    0.195505    0.300947    0.782072     1.422582   \n",
       "2   -0.046417    0.220168    0.195505    0.300947    1.044184     1.204417   \n",
       "3    0.357929    0.220168    0.195505    0.300947   -0.959799     1.174727   \n",
       "4    0.283377    0.220168    0.195505    0.300947    1.135597    -1.061921   \n",
       "\n",
       "   EnclosedPorch  3SsnPorch  ScreenPorch  PoolArea     Fence   MiscVal  \\\n",
       "0      -0.411301  -0.138554    -0.297551 -0.077648  0.503226 -0.193133   \n",
       "1      -0.411301  -0.138554     3.360787 -0.077648  0.503226 -0.193133   \n",
       "2      -0.411301  -0.138554    -0.297551 -0.077648  0.503226 -0.193133   \n",
       "3      -0.411301  -0.138554    -0.297551 -0.077648 -1.935972 -0.193133   \n",
       "4      -0.411301  -0.138554    -0.297551 -0.077648  0.503226 -0.193133   \n",
       "\n",
       "     MoSold    YrSold  SaleType  SaleCondition  SalePrice  \n",
       "0 -1.719437 -0.604825  0.409069       0.029735  -0.671353  \n",
       "1  1.320612 -0.604825  0.409069       0.029735   1.181174  \n",
       "2 -0.076750 -0.604825  0.409069       0.029735   1.197587  \n",
       "3 -2.209015  1.649742 -2.769993       0.029735   0.326442  \n",
       "4 -0.076750  0.899557  0.409069       0.029735   0.635122  "
      ]
     },
     "execution_count": 120,
     "metadata": {},
     "output_type": "execute_result"
    }
   ],
   "source": [
    "df_train_scaled=pd.DataFrame(scaledata,columns=df_train.columns)\n",
    "df_train_scaled.head()"
   ]
  },
  {
   "cell_type": "code",
   "execution_count": 121,
   "id": "d20536fa",
   "metadata": {},
   "outputs": [],
   "source": [
    "df_train=df_train_scaled"
   ]
  },
  {
   "cell_type": "markdown",
   "id": "c1c85624",
   "metadata": {},
   "source": [
    "# Split Train and Test Datasets"
   ]
  },
  {
   "cell_type": "code",
   "execution_count": 123,
   "id": "151cea74",
   "metadata": {},
   "outputs": [],
   "source": [
    "x=df_train.drop(\"SalePrice\",axis=1)\n",
    "y=df_train[\"SalePrice\"]"
   ]
  },
  {
   "cell_type": "markdown",
   "id": "560bc6c2",
   "metadata": {},
   "source": [
    "# ML Model Building"
   ]
  },
  {
   "cell_type": "code",
   "execution_count": 124,
   "id": "15f319f5",
   "metadata": {},
   "outputs": [],
   "source": [
    "from sklearn.model_selection import train_test_split\n",
    "from sklearn.model_selection import RandomizedSearchCV\n",
    "from sklearn.linear_model import LinearRegression, Ridge\n",
    "from sklearn.tree import DecisionTreeRegressor\n",
    "from sklearn.ensemble import GradientBoostingRegressor\n",
    "from sklearn.ensemble import RandomForestRegressor\n",
    "from xgboost import XGBRegressor\n",
    "from sklearn.metrics import r2_score ,mean_absolute_error,mean_squared_error\n",
    "from math import sqrt"
   ]
  },
  {
   "cell_type": "code",
   "execution_count": 125,
   "id": "956679e3",
   "metadata": {},
   "outputs": [],
   "source": [
    "x_train,x_test,y_train,y_test=train_test_split(x,y,test_size=0.25,random_state=5)"
   ]
  },
  {
   "cell_type": "code",
   "execution_count": 126,
   "id": "3500a6dd",
   "metadata": {},
   "outputs": [
    {
     "name": "stdout",
     "output_type": "stream",
     "text": [
      "Score :  0.9187774131638755\n",
      "R2 score :  0.7563469570713391\n"
     ]
    }
   ],
   "source": [
    "lr=LinearRegression()\n",
    "lr.fit(x_train,y_train)\n",
    "print(\"Score : \",lr.score(x_train,y_train))\n",
    "predlr=lr.predict(x_test)\n",
    "print(\"R2 score : \",r2_score(y_test,predlr))"
   ]
  },
  {
   "cell_type": "code",
   "execution_count": 127,
   "id": "d55d4fa1",
   "metadata": {},
   "outputs": [
    {
     "name": "stdout",
     "output_type": "stream",
     "text": [
      "MAE: 0.24217867017421776\n",
      "MSE: 0.21740108636594974\n",
      "RMSE: 0.4662628940479284\n"
     ]
    }
   ],
   "source": [
    "print(\"MAE:\",mean_absolute_error(y_test,predlr))\n",
    "print(\"MSE:\",mean_squared_error(y_test,predlr))\n",
    "print(\"RMSE:\",sqrt(mean_squared_error(y_test,predlr)))"
   ]
  },
  {
   "cell_type": "markdown",
   "id": "afd7f56d",
   "metadata": {},
   "source": [
    "### Ridge"
   ]
  },
  {
   "cell_type": "code",
   "execution_count": 128,
   "id": "cfef8aa1",
   "metadata": {},
   "outputs": [
    {
     "name": "stdout",
     "output_type": "stream",
     "text": [
      "Score :  0.9188048351572321\n",
      "R2 score :  0.756533238490787\n"
     ]
    }
   ],
   "source": [
    "rg=Ridge()\n",
    "rg.fit(x_train,y_train)\n",
    "print(\"Score : \",rg.score(x_train,y_train))\n",
    "predrg=rg.predict(x_test)\n",
    "print(\"R2 score : \",r2_score(y_test,predrg))"
   ]
  },
  {
   "cell_type": "code",
   "execution_count": 129,
   "id": "e815d9a9",
   "metadata": {},
   "outputs": [
    {
     "name": "stdout",
     "output_type": "stream",
     "text": [
      "MAE: 0.24193189111345514\n",
      "MSE: 0.21723487550122592\n",
      "RMSE: 0.46608462268264755\n"
     ]
    }
   ],
   "source": [
    "print(\"MAE:\",mean_absolute_error(y_test,predrg))\n",
    "print(\"MSE:\",mean_squared_error(y_test,predrg))\n",
    "print(\"RMSE:\",sqrt(mean_squared_error(y_test,predrg)))"
   ]
  },
  {
   "cell_type": "code",
   "execution_count": 130,
   "id": "c0161b62",
   "metadata": {},
   "outputs": [
    {
     "name": "stdout",
     "output_type": "stream",
     "text": [
      "Fitting 5 folds for each of 15 candidates, totalling 75 fits\n"
     ]
    },
    {
     "name": "stderr",
     "output_type": "stream",
     "text": [
      "[Parallel(n_jobs=-1)]: Using backend LokyBackend with 8 concurrent workers.\n",
      "[Parallel(n_jobs=-1)]: Done  25 tasks      | elapsed:    2.7s\n",
      "[Parallel(n_jobs=-1)]: Done  60 out of  75 | elapsed:    2.9s remaining:    0.6s\n",
      "[Parallel(n_jobs=-1)]: Done  75 out of  75 | elapsed:    2.9s finished\n"
     ]
    },
    {
     "data": {
      "text/plain": [
       "RandomizedSearchCV(cv=5, estimator=Ridge(), n_iter=15, n_jobs=-1,\n",
       "                   param_distributions={'alpha': [1, 2, 5, 10, 15, 20, 30, 50,\n",
       "                                                  100, 150, 200, 300, 400, 500,\n",
       "                                                  600, 700, 800, 900, 1000,\n",
       "                                                  10000, 50000, 100000, 500000,\n",
       "                                                  1000000]},\n",
       "                   verbose=2)"
      ]
     },
     "execution_count": 130,
     "metadata": {},
     "output_type": "execute_result"
    }
   ],
   "source": [
    "#Apply Randomized Searchcv on Ridge model.\n",
    "\n",
    "parameters={\"alpha\":[1,2,5,10,15,20,30,50,100,150,200,300,400,500,600,700,800,900,1000,10000,50000,100000,500000,1000000]}\n",
    "rdm_rg=RandomizedSearchCV(rg,param_distributions=parameters,n_iter=15,n_jobs=-1,cv=5,verbose=2)\n",
    "\n",
    "rdm_rg.fit(x_train,y_train)"
   ]
  },
  {
   "cell_type": "code",
   "execution_count": 131,
   "id": "cc4f6a3a",
   "metadata": {},
   "outputs": [
    {
     "name": "stdout",
     "output_type": "stream",
     "text": [
      "Ridge(alpha=150)\n",
      "{'alpha': 150}\n"
     ]
    }
   ],
   "source": [
    "print(rdm_rg.best_estimator_)\n",
    "print(rdm_rg.best_params_)"
   ]
  },
  {
   "cell_type": "code",
   "execution_count": 132,
   "id": "4b41ee76",
   "metadata": {},
   "outputs": [
    {
     "data": {
      "text/plain": [
       "0.8964394940630898"
      ]
     },
     "execution_count": 132,
     "metadata": {},
     "output_type": "execute_result"
    }
   ],
   "source": [
    "rdm_rg.best_score_"
   ]
  },
  {
   "cell_type": "code",
   "execution_count": 133,
   "id": "e35f4d36",
   "metadata": {},
   "outputs": [
    {
     "data": {
      "text/plain": [
       "0.78799325378594"
      ]
     },
     "execution_count": 133,
     "metadata": {},
     "output_type": "execute_result"
    }
   ],
   "source": [
    "# prediction on the test data\n",
    "rdm_predrg=rdm_rg.predict(x_test)\n",
    "r2_score(y_test,rdm_predrg)"
   ]
  },
  {
   "cell_type": "code",
   "execution_count": 134,
   "id": "ba71d3a3",
   "metadata": {
    "scrolled": true
   },
   "outputs": [
    {
     "name": "stdout",
     "output_type": "stream",
     "text": [
      "MAE: 0.24048460232154062\n",
      "MSE: 0.18916446267138012\n",
      "RMSE: 0.43493041129746274\n"
     ]
    }
   ],
   "source": [
    "print(\"MAE:\",mean_absolute_error(y_test,rdm_predrg))\n",
    "print(\"MSE:\",mean_squared_error(y_test,rdm_predrg))\n",
    "print(\"RMSE:\",sqrt(mean_squared_error(y_test,rdm_predrg)))"
   ]
  },
  {
   "cell_type": "markdown",
   "id": "51c7ce6d",
   "metadata": {},
   "source": [
    "### Gradient Boosting Regressor"
   ]
  },
  {
   "cell_type": "code",
   "execution_count": 135,
   "id": "271f4c8c",
   "metadata": {},
   "outputs": [
    {
     "name": "stdout",
     "output_type": "stream",
     "text": [
      "Score :  0.9687805407822732\n",
      "R2 score :  0.8093530603051882\n"
     ]
    }
   ],
   "source": [
    "gb=GradientBoostingRegressor()\n",
    "gb.fit(x_train,y_train)\n",
    "print(\"Score : \",gb.score(x_train,y_train))\n",
    "predgb=gb.predict(x_test)\n",
    "print(\"R2 score : \",r2_score(y_test,predgb))"
   ]
  },
  {
   "cell_type": "code",
   "execution_count": 136,
   "id": "acc5219b",
   "metadata": {},
   "outputs": [
    {
     "name": "stdout",
     "output_type": "stream",
     "text": [
      "MAE: 0.239782322769902\n",
      "MSE: 0.1701060298850075\n",
      "RMSE: 0.4124391226411572\n"
     ]
    }
   ],
   "source": [
    "print(\"MAE:\",mean_absolute_error(y_test,predgb))\n",
    "print(\"MSE:\",mean_squared_error(y_test,predgb))\n",
    "print(\"RMSE:\",sqrt(mean_squared_error(y_test,predgb)))"
   ]
  },
  {
   "cell_type": "code",
   "execution_count": 137,
   "id": "931d6eb2",
   "metadata": {
    "scrolled": true
   },
   "outputs": [
    {
     "name": "stdout",
     "output_type": "stream",
     "text": [
      "Fitting 10 folds for each of 80 candidates, totalling 800 fits\n"
     ]
    },
    {
     "name": "stderr",
     "output_type": "stream",
     "text": [
      "[Parallel(n_jobs=-1)]: Using backend LokyBackend with 8 concurrent workers.\n",
      "[Parallel(n_jobs=-1)]: Done  25 tasks      | elapsed:   10.7s\n",
      "[Parallel(n_jobs=-1)]: Done 146 tasks      | elapsed:  1.3min\n",
      "[Parallel(n_jobs=-1)]: Done 349 tasks      | elapsed:  3.7min\n",
      "[Parallel(n_jobs=-1)]: Done 632 tasks      | elapsed:  6.7min\n",
      "[Parallel(n_jobs=-1)]: Done 800 out of 800 | elapsed:  7.9min finished\n"
     ]
    },
    {
     "data": {
      "text/plain": [
       "RandomizedSearchCV(cv=10, estimator=GradientBoostingRegressor(), n_iter=80,\n",
       "                   n_jobs=-1,\n",
       "                   param_distributions={'learning_rate': [0.01, 0.05, 0.1, 0.3,\n",
       "                                                          0.5, 0.6, 0.7],\n",
       "                                        'max_depth': [3, 4, 5, 6, 7, 8, 9, 10,\n",
       "                                                      12, 15],\n",
       "                                        'max_features': ['auto', 'sqrt'],\n",
       "                                        'min_samples_leaf': [1, 3, 5, 6, 7, 8],\n",
       "                                        'min_samples_split': [2, 5, 8, 10, 12,\n",
       "                                                              15, 18, 20, 22],\n",
       "                                        'n_estimators': [50, 100, 200, 300, 400,\n",
       "                                                         500, 600, 700, 800,\n",
       "                                                         900]},\n",
       "                   verbose=2)"
      ]
     },
     "execution_count": 137,
     "metadata": {},
     "output_type": "execute_result"
    }
   ],
   "source": [
    "#Apply Randomized Searchcv on GB model.\n",
    "\n",
    "parameters={\"n_estimators\":[50,100,200,300,400,500,600,700,800,900],\"learning_rate\":[0.01,0.05,0.1,0.3,0.5,0.6,0.7]\n",
    "              ,\"max_depth\":[3,4,5,6,7,8,9,10,12,15],\"min_samples_split\":[2,5,8,10,12,15,18,20,22],\n",
    "             \"max_features\":['auto','sqrt'],\"min_samples_leaf\":[1,3,5,6,7,8]}\n",
    "\n",
    "rdm_gb=RandomizedSearchCV(gb,param_distributions=parameters,n_iter=80,n_jobs=-1,cv=10,verbose=2)\n",
    "rdm_gb.fit(x_train,y_train)"
   ]
  },
  {
   "cell_type": "code",
   "execution_count": 138,
   "id": "4d52d3bf",
   "metadata": {},
   "outputs": [
    {
     "data": {
      "text/plain": [
       "GradientBoostingRegressor(learning_rate=0.01, max_depth=7, max_features='sqrt',\n",
       "                          min_samples_leaf=7, n_estimators=800)"
      ]
     },
     "execution_count": 138,
     "metadata": {},
     "output_type": "execute_result"
    }
   ],
   "source": [
    "rdm_gb.best_estimator_"
   ]
  },
  {
   "cell_type": "code",
   "execution_count": 139,
   "id": "45c861b8",
   "metadata": {},
   "outputs": [
    {
     "data": {
      "text/plain": [
       "{'n_estimators': 800,\n",
       " 'min_samples_split': 2,\n",
       " 'min_samples_leaf': 7,\n",
       " 'max_features': 'sqrt',\n",
       " 'max_depth': 7,\n",
       " 'learning_rate': 0.01}"
      ]
     },
     "execution_count": 139,
     "metadata": {},
     "output_type": "execute_result"
    }
   ],
   "source": [
    "rdm_gb.best_params_"
   ]
  },
  {
   "cell_type": "code",
   "execution_count": 140,
   "id": "98ff9d3a",
   "metadata": {},
   "outputs": [
    {
     "data": {
      "text/plain": [
       "0.8986843609460685"
      ]
     },
     "execution_count": 140,
     "metadata": {},
     "output_type": "execute_result"
    }
   ],
   "source": [
    "rdm_gb.best_score_"
   ]
  },
  {
   "cell_type": "code",
   "execution_count": 141,
   "id": "8f577417",
   "metadata": {},
   "outputs": [
    {
     "data": {
      "text/plain": [
       "0.8407186793152654"
      ]
     },
     "execution_count": 141,
     "metadata": {},
     "output_type": "execute_result"
    }
   ],
   "source": [
    "# prediction on the test data\n",
    "rdm_predgb=rdm_gb.predict(x_test)\n",
    "r2_score(y_test,rdm_predgb)"
   ]
  },
  {
   "cell_type": "code",
   "execution_count": 142,
   "id": "1b9553dd",
   "metadata": {},
   "outputs": [
    {
     "name": "stdout",
     "output_type": "stream",
     "text": [
      "MAE: 0.21687708985892215\n",
      "MSE: 0.14211984278317927\n",
      "RMSE: 0.37698785495447895\n"
     ]
    }
   ],
   "source": [
    "print(\"MAE:\",mean_absolute_error(y_test,rdm_predgb))\n",
    "print(\"MSE:\",mean_squared_error(y_test,rdm_predgb))\n",
    "print(\"RMSE:\",sqrt(mean_squared_error(y_test,rdm_predgb)))"
   ]
  },
  {
   "cell_type": "markdown",
   "id": "32b29156",
   "metadata": {},
   "source": [
    "# Decision Tree Regressor"
   ]
  },
  {
   "cell_type": "code",
   "execution_count": 143,
   "id": "695e48af",
   "metadata": {},
   "outputs": [
    {
     "name": "stdout",
     "output_type": "stream",
     "text": [
      "Score :  1.0\n",
      "R2 score :  0.6531145204793447\n"
     ]
    }
   ],
   "source": [
    "dtr=DecisionTreeRegressor()\n",
    "dtr.fit(x_train,y_train)\n",
    "print(\"Score : \",dtr.score(x_train,y_train))\n",
    "preddtr=dtr.predict(x_test)\n",
    "print(\"R2 score : \",r2_score(y_test,preddtr))"
   ]
  },
  {
   "cell_type": "code",
   "execution_count": 144,
   "id": "0d5f3af9",
   "metadata": {},
   "outputs": [
    {
     "name": "stdout",
     "output_type": "stream",
     "text": [
      "MAE: 0.38315478867101976\n",
      "MSE: 0.30951093073130276\n",
      "RMSE: 0.5563370657535796\n"
     ]
    }
   ],
   "source": [
    "print(\"MAE:\",mean_absolute_error(y_test,preddtr))\n",
    "print(\"MSE:\",mean_squared_error(y_test,preddtr))\n",
    "print(\"RMSE:\",sqrt(mean_squared_error(y_test,preddtr)))"
   ]
  },
  {
   "cell_type": "code",
   "execution_count": 145,
   "id": "d03ddcd5",
   "metadata": {},
   "outputs": [
    {
     "name": "stdout",
     "output_type": "stream",
     "text": [
      "Fitting 10 folds for each of 40 candidates, totalling 400 fits\n"
     ]
    },
    {
     "name": "stderr",
     "output_type": "stream",
     "text": [
      "[Parallel(n_jobs=-1)]: Using backend LokyBackend with 8 concurrent workers.\n",
      "[Parallel(n_jobs=-1)]: Done  34 tasks      | elapsed:    0.2s\n",
      "[Parallel(n_jobs=-1)]: Done 400 out of 400 | elapsed:    2.5s finished\n"
     ]
    },
    {
     "data": {
      "text/plain": [
       "RandomizedSearchCV(cv=10, estimator=DecisionTreeRegressor(), n_iter=40,\n",
       "                   n_jobs=-1,\n",
       "                   param_distributions={'criterion': ['mse', 'mae'],\n",
       "                                        'max_depth': [3, 4, 5, 6, 7, 8, 10, 25],\n",
       "                                        'max_features': ['auto', 'sqrt',\n",
       "                                                         'log2'],\n",
       "                                        'min_samples_leaf': [1, 3, 5, 6, 7],\n",
       "                                        'min_samples_split': [2, 5, 8, 10, 12,\n",
       "                                                              18, 25]},\n",
       "                   verbose=2)"
      ]
     },
     "execution_count": 145,
     "metadata": {},
     "output_type": "execute_result"
    }
   ],
   "source": [
    "#Apply Randomized Searchcv on DecisionTree model.\n",
    "\n",
    "parameters={\"criterion\":[\"mse\",\"mae\"],\"max_depth\":[3,4,5,6,7,8,10,25],\"min_samples_split\":[2,5,8,10,12,18,25],\n",
    "             \"max_features\":['auto','sqrt',\"log2\"],\"min_samples_leaf\":[1,3,5,6,7]}\n",
    "\n",
    "rdm_dtr=RandomizedSearchCV(dtr,param_distributions=parameters,n_iter=40,n_jobs=-1,cv=10,verbose=2)\n",
    "rdm_dtr.fit(x_train,y_train)"
   ]
  },
  {
   "cell_type": "code",
   "execution_count": 146,
   "id": "59bc5abd",
   "metadata": {},
   "outputs": [
    {
     "data": {
      "text/plain": [
       "DecisionTreeRegressor(criterion='mae', max_depth=25, max_features='auto',\n",
       "                      min_samples_leaf=6, min_samples_split=18)"
      ]
     },
     "execution_count": 146,
     "metadata": {},
     "output_type": "execute_result"
    }
   ],
   "source": [
    "rdm_dtr.best_estimator_"
   ]
  },
  {
   "cell_type": "code",
   "execution_count": 147,
   "id": "ab325735",
   "metadata": {},
   "outputs": [
    {
     "data": {
      "text/plain": [
       "{'min_samples_split': 18,\n",
       " 'min_samples_leaf': 6,\n",
       " 'max_features': 'auto',\n",
       " 'max_depth': 25,\n",
       " 'criterion': 'mae'}"
      ]
     },
     "execution_count": 147,
     "metadata": {},
     "output_type": "execute_result"
    }
   ],
   "source": [
    "rdm_dtr.best_params_"
   ]
  },
  {
   "cell_type": "code",
   "execution_count": 148,
   "id": "15596e01",
   "metadata": {},
   "outputs": [
    {
     "data": {
      "text/plain": [
       "0.773053279710731"
      ]
     },
     "execution_count": 148,
     "metadata": {},
     "output_type": "execute_result"
    }
   ],
   "source": [
    "rdm_dtr.best_score_"
   ]
  },
  {
   "cell_type": "code",
   "execution_count": 149,
   "id": "34057ffc",
   "metadata": {},
   "outputs": [
    {
     "data": {
      "text/plain": [
       "0.717364368645786"
      ]
     },
     "execution_count": 149,
     "metadata": {},
     "output_type": "execute_result"
    }
   ],
   "source": [
    "# prediction on the test data\n",
    "rdm_preddtr=rdm_dtr.predict(x_test)\n",
    "r2_score(y_test,rdm_preddtr)"
   ]
  },
  {
   "cell_type": "code",
   "execution_count": 150,
   "id": "2ed31aa1",
   "metadata": {},
   "outputs": [
    {
     "name": "stdout",
     "output_type": "stream",
     "text": [
      "MAE: 0.358835411818829\n",
      "MSE: 0.2521835662857811\n",
      "RMSE: 0.5021788190334008\n"
     ]
    }
   ],
   "source": [
    "print(\"MAE:\",mean_absolute_error(y_test,rdm_preddtr))\n",
    "print(\"MSE:\",mean_squared_error(y_test,rdm_preddtr))\n",
    "print(\"RMSE:\",sqrt(mean_squared_error(y_test,rdm_preddtr)))"
   ]
  },
  {
   "cell_type": "markdown",
   "id": "50c0712c",
   "metadata": {},
   "source": [
    "### RandomForest Regressor"
   ]
  },
  {
   "cell_type": "code",
   "execution_count": 151,
   "id": "ca08a505",
   "metadata": {},
   "outputs": [
    {
     "name": "stdout",
     "output_type": "stream",
     "text": [
      "Score :  0.981516588468745\n",
      "R2 score :  0.8068961053727197\n"
     ]
    }
   ],
   "source": [
    "rf=RandomForestRegressor()\n",
    "rf.fit(x_train,y_train)\n",
    "print(\"Score : \",rf.score(x_train,y_train))\n",
    "predrf=rf.predict(x_test)\n",
    "print(\"R2 score : \",r2_score(y_test,predrf))"
   ]
  },
  {
   "cell_type": "code",
   "execution_count": 152,
   "id": "248951e2",
   "metadata": {},
   "outputs": [
    {
     "name": "stdout",
     "output_type": "stream",
     "text": [
      "MAE: 0.2600221429113661\n",
      "MSE: 0.1722982646506829\n",
      "RMSE: 0.41508826127786713\n"
     ]
    }
   ],
   "source": [
    "print(\"MAE:\",mean_absolute_error(y_test,predrf))\n",
    "print(\"MSE:\",mean_squared_error(y_test,predrf))\n",
    "print(\"RMSE:\",sqrt(mean_squared_error(y_test,predrf)))"
   ]
  },
  {
   "cell_type": "code",
   "execution_count": 153,
   "id": "bb8a87ba",
   "metadata": {},
   "outputs": [
    {
     "name": "stdout",
     "output_type": "stream",
     "text": [
      "Fitting 8 folds for each of 30 candidates, totalling 240 fits\n"
     ]
    },
    {
     "name": "stderr",
     "output_type": "stream",
     "text": [
      "[Parallel(n_jobs=-1)]: Using backend LokyBackend with 8 concurrent workers.\n",
      "[Parallel(n_jobs=-1)]: Done  25 tasks      | elapsed:  1.2min\n",
      "[Parallel(n_jobs=-1)]: Done 146 tasks      | elapsed:  3.8min\n",
      "[Parallel(n_jobs=-1)]: Done 240 out of 240 | elapsed:  5.5min finished\n"
     ]
    },
    {
     "data": {
      "text/plain": [
       "RandomizedSearchCV(cv=8, estimator=RandomForestRegressor(), n_iter=30,\n",
       "                   n_jobs=-1,\n",
       "                   param_distributions={'criterion': ['mse', 'mae'],\n",
       "                                        'max_depth': [3, 4, 5, 6, 7, 8, 10, 25],\n",
       "                                        'max_features': ['auto', 'sqrt'],\n",
       "                                        'min_samples_leaf': [1, 3, 5, 6, 7],\n",
       "                                        'min_samples_split': [2, 5, 8, 10, 12,\n",
       "                                                              18],\n",
       "                                        'n_estimators': [100, 200, 300, 400,\n",
       "                                                         500, 600, 700, 800]},\n",
       "                   verbose=2)"
      ]
     },
     "execution_count": 153,
     "metadata": {},
     "output_type": "execute_result"
    }
   ],
   "source": [
    "#Apply Randomized Searchcv on Random Forest model.\n",
    "\n",
    "parameters = {\"n_estimators\":[100,200,300,400,500,600,700,800],\"criterion\":[\"mse\",\"mae\"]\n",
    "              ,\"max_depth\":[3,4,5,6,7,8,10,25],\"min_samples_split\":[2,5,8,10,12,18],\n",
    "             \"max_features\":['auto','sqrt'],\"min_samples_leaf\":[1,3,5,6,7]}\n",
    "\n",
    "rdm_rf=RandomizedSearchCV(rf,param_distributions=parameters,n_iter=30,n_jobs=-1,cv=8,verbose=2)\n",
    "rdm_rf.fit(x_train,y_train)"
   ]
  },
  {
   "cell_type": "code",
   "execution_count": 154,
   "id": "c18b0c0a",
   "metadata": {},
   "outputs": [
    {
     "data": {
      "text/plain": [
       "RandomForestRegressor(max_depth=10, min_samples_leaf=5, min_samples_split=8,\n",
       "                      n_estimators=500)"
      ]
     },
     "execution_count": 154,
     "metadata": {},
     "output_type": "execute_result"
    }
   ],
   "source": [
    "rdm_rf.best_estimator_"
   ]
  },
  {
   "cell_type": "code",
   "execution_count": 155,
   "id": "5b37f5e4",
   "metadata": {},
   "outputs": [
    {
     "data": {
      "text/plain": [
       "{'n_estimators': 500,\n",
       " 'min_samples_split': 8,\n",
       " 'min_samples_leaf': 5,\n",
       " 'max_features': 'auto',\n",
       " 'max_depth': 10,\n",
       " 'criterion': 'mse'}"
      ]
     },
     "execution_count": 155,
     "metadata": {},
     "output_type": "execute_result"
    }
   ],
   "source": [
    "rdm_rf.best_params_"
   ]
  },
  {
   "cell_type": "code",
   "execution_count": 156,
   "id": "99a6530f",
   "metadata": {},
   "outputs": [
    {
     "data": {
      "text/plain": [
       "0.8596920754042956"
      ]
     },
     "execution_count": 156,
     "metadata": {},
     "output_type": "execute_result"
    }
   ],
   "source": [
    "rdm_rf.best_score_"
   ]
  },
  {
   "cell_type": "code",
   "execution_count": 157,
   "id": "d7d036ff",
   "metadata": {},
   "outputs": [
    {
     "data": {
      "text/plain": [
       "0.8188719264570152"
      ]
     },
     "execution_count": 157,
     "metadata": {},
     "output_type": "execute_result"
    }
   ],
   "source": [
    "# prediction on the test data\n",
    "rdm_predrf=rdm_rf.predict(x_test)\n",
    "r2_score(y_test,rdm_predrf)"
   ]
  },
  {
   "cell_type": "code",
   "execution_count": 158,
   "id": "215a7191",
   "metadata": {},
   "outputs": [
    {
     "name": "stdout",
     "output_type": "stream",
     "text": [
      "MAE: 0.25678911853765984\n",
      "MSE: 0.161612756755703\n",
      "RMSE: 0.4020108913396539\n"
     ]
    }
   ],
   "source": [
    "print(\"MAE:\",mean_absolute_error(y_test,rdm_predrf))\n",
    "print(\"MSE:\",mean_squared_error(y_test,rdm_predrf))\n",
    "print(\"RMSE:\",sqrt(mean_squared_error(y_test,rdm_predrf)))"
   ]
  },
  {
   "cell_type": "markdown",
   "id": "b37e95fc",
   "metadata": {},
   "source": [
    "### XGBoost Regressor"
   ]
  },
  {
   "cell_type": "code",
   "execution_count": 159,
   "id": "91c5466b",
   "metadata": {},
   "outputs": [
    {
     "name": "stdout",
     "output_type": "stream",
     "text": [
      "Score :  0.9999616444867505\n",
      "R2 score :  0.7824905533385644\n"
     ]
    }
   ],
   "source": [
    "xg=XGBRegressor()\n",
    "xg.fit(x_train,y_train)\n",
    "print(\"Score : \",xg.score(x_train,y_train))\n",
    "predxg=xg.predict(x_test)\n",
    "print(\"R2 score : \",r2_score(y_test,predxg))"
   ]
  },
  {
   "cell_type": "code",
   "execution_count": 160,
   "id": "968a6607",
   "metadata": {},
   "outputs": [
    {
     "name": "stdout",
     "output_type": "stream",
     "text": [
      "MAE: 0.2694226816093911\n",
      "MSE: 0.1940742846084536\n",
      "RMSE: 0.44053863009780836\n"
     ]
    }
   ],
   "source": [
    "print(\"MAE:\",mean_absolute_error(y_test,predxg))\n",
    "print(\"MSE:\",mean_squared_error(y_test,predxg))\n",
    "print(\"RMSE:\",sqrt(mean_squared_error(y_test,predxg)))"
   ]
  },
  {
   "cell_type": "code",
   "execution_count": 161,
   "id": "687ff3f5",
   "metadata": {},
   "outputs": [
    {
     "name": "stdout",
     "output_type": "stream",
     "text": [
      "Fitting 10 folds for each of 50 candidates, totalling 500 fits\n"
     ]
    },
    {
     "name": "stderr",
     "output_type": "stream",
     "text": [
      "[Parallel(n_jobs=-1)]: Using backend LokyBackend with 8 concurrent workers.\n",
      "[Parallel(n_jobs=-1)]: Done   2 tasks      | elapsed:    6.5s\n",
      "[Parallel(n_jobs=-1)]: Done  56 tasks      | elapsed:   57.0s\n",
      "[Parallel(n_jobs=-1)]: Done 146 tasks      | elapsed:  2.6min\n",
      "[Parallel(n_jobs=-1)]: Done 272 tasks      | elapsed:  5.2min\n",
      "[Parallel(n_jobs=-1)]: Done 434 tasks      | elapsed:  7.7min\n",
      "[Parallel(n_jobs=-1)]: Done 500 out of 500 | elapsed:  9.0min finished\n"
     ]
    },
    {
     "data": {
      "text/plain": [
       "RandomizedSearchCV(cv=10,\n",
       "                   estimator=XGBRegressor(base_score=0.5, booster='gbtree',\n",
       "                                          colsample_bylevel=1,\n",
       "                                          colsample_bynode=1,\n",
       "                                          colsample_bytree=1, gamma=0,\n",
       "                                          gpu_id=-1, importance_type='gain',\n",
       "                                          interaction_constraints='',\n",
       "                                          learning_rate=0.300000012,\n",
       "                                          max_delta_step=0, max_depth=6,\n",
       "                                          min_child_weight=1, missing=nan,\n",
       "                                          monotone_constraints='()',\n",
       "                                          n_estimators=100, n_jobs=8,\n",
       "                                          num_pa...\n",
       "                                          scale_pos_weight=1, subsample=1,\n",
       "                                          tree_method='exact',\n",
       "                                          validate_parameters=1,\n",
       "                                          verbosity=None),\n",
       "                   n_iter=50, n_jobs=-1,\n",
       "                   param_distributions={'gamma': [0.001, 0.01, 0.1, 1, 10],\n",
       "                                        'learning_rate': [0.001, 0.01, 0.1, 0.3,\n",
       "                                                          0.5, 0.7],\n",
       "                                        'max_depth': [3, 5, 7, 10, 12, 15],\n",
       "                                        'n_estimators': [100, 200, 300, 400,\n",
       "                                                         500, 600, 700, 800],\n",
       "                                        'reg_alpha': [0, 0.1, 0.5, 0.7, 1],\n",
       "                                        'reg_lambda': [1, 10, 50, 80, 100, 120,\n",
       "                                                       150]},\n",
       "                   verbose=5)"
      ]
     },
     "execution_count": 161,
     "metadata": {},
     "output_type": "execute_result"
    }
   ],
   "source": [
    "# Apply RandomizedSearchCV with XGBoost\n",
    "parameters={\"n_estimators\":[100,200,300,400,500,600,700,800],\"learning_rate\":[0.001,0.01,0.1,0.3,0.5,0.7],\n",
    "              \"max_depth\":[3,5,7,10,12,15],\"gamma\":[0.001,0.01,0.1,1,10],\"reg_alpha\":[0,0.1,0.5,0.7,1],\n",
    "              \"reg_lambda\":[1,10,50,80,100,120,150]}\n",
    "\n",
    "rdm_xg=RandomizedSearchCV(xg,param_distributions=parameters,n_jobs=-1,n_iter=50,cv=10,verbose=5)\n",
    "rdm_xg.fit(x_train,y_train)"
   ]
  },
  {
   "cell_type": "code",
   "execution_count": 162,
   "id": "1746bbec",
   "metadata": {},
   "outputs": [
    {
     "data": {
      "text/plain": [
       "XGBRegressor(base_score=0.5, booster='gbtree', colsample_bylevel=1,\n",
       "             colsample_bynode=1, colsample_bytree=1, gamma=0.001, gpu_id=-1,\n",
       "             importance_type='gain', interaction_constraints='',\n",
       "             learning_rate=0.1, max_delta_step=0, max_depth=3,\n",
       "             min_child_weight=1, missing=nan, monotone_constraints='()',\n",
       "             n_estimators=700, n_jobs=8, num_parallel_tree=1, random_state=0,\n",
       "             reg_alpha=0, reg_lambda=80, scale_pos_weight=1, subsample=1,\n",
       "             tree_method='exact', validate_parameters=1, verbosity=None)"
      ]
     },
     "execution_count": 162,
     "metadata": {},
     "output_type": "execute_result"
    }
   ],
   "source": [
    "rdm_xg.best_estimator_"
   ]
  },
  {
   "cell_type": "code",
   "execution_count": 163,
   "id": "34055f5f",
   "metadata": {},
   "outputs": [
    {
     "data": {
      "text/plain": [
       "{'reg_lambda': 80,\n",
       " 'reg_alpha': 0,\n",
       " 'n_estimators': 700,\n",
       " 'max_depth': 3,\n",
       " 'learning_rate': 0.1,\n",
       " 'gamma': 0.001}"
      ]
     },
     "execution_count": 163,
     "metadata": {},
     "output_type": "execute_result"
    }
   ],
   "source": [
    "rdm_xg.best_params_"
   ]
  },
  {
   "cell_type": "code",
   "execution_count": 164,
   "id": "74209199",
   "metadata": {},
   "outputs": [
    {
     "data": {
      "text/plain": [
       "0.8887955390220318"
      ]
     },
     "execution_count": 164,
     "metadata": {},
     "output_type": "execute_result"
    }
   ],
   "source": [
    "rdm_xg.best_score_"
   ]
  },
  {
   "cell_type": "code",
   "execution_count": 165,
   "id": "e23e36e0",
   "metadata": {},
   "outputs": [
    {
     "data": {
      "text/plain": [
       "0.823362537353223"
      ]
     },
     "execution_count": 165,
     "metadata": {},
     "output_type": "execute_result"
    }
   ],
   "source": [
    "# prediction on the test data\n",
    "rdm_predxg=rdm_xg.predict(x_test)\n",
    "r2_score(y_test,rdm_predxg)"
   ]
  },
  {
   "cell_type": "code",
   "execution_count": 166,
   "id": "e2db63a5",
   "metadata": {},
   "outputs": [
    {
     "name": "stdout",
     "output_type": "stream",
     "text": [
      "MAE: 0.2483930185701984\n",
      "MSE: 0.15760597861105993\n",
      "RMSE: 0.3969961947060197\n"
     ]
    }
   ],
   "source": [
    "print(\"MAE:\",mean_absolute_error(y_test,rdm_predxg))\n",
    "print(\"MSE:\",mean_squared_error(y_test,rdm_predxg))\n",
    "print(\"RMSE:\",sqrt(mean_squared_error(y_test,rdm_predxg)))"
   ]
  },
  {
   "cell_type": "markdown",
   "id": "a1be98b3",
   "metadata": {},
   "source": [
    "# Conclusion\n",
    "\n",
    "XGBoost Regressor is giving the best accuracy score\n"
   ]
  },
  {
   "cell_type": "code",
   "execution_count": 191,
   "id": "fb27f05f",
   "metadata": {},
   "outputs": [
    {
     "data": {
      "text/plain": [
       "['House_price_prediction_final1.obj']"
      ]
     },
     "execution_count": 191,
     "metadata": {},
     "output_type": "execute_result"
    }
   ],
   "source": [
    "#Saving our model\n",
    "import joblib\n",
    "joblib.dump(rdm_predxg,'House_price_prediction_final1.obj')"
   ]
  },
  {
   "cell_type": "markdown",
   "id": "eb4279ec",
   "metadata": {},
   "source": [
    "# Loading the Test data"
   ]
  },
  {
   "cell_type": "code",
   "execution_count": 167,
   "id": "2725fa29",
   "metadata": {},
   "outputs": [
    {
     "data": {
      "text/html": [
       "<div>\n",
       "<style scoped>\n",
       "    .dataframe tbody tr th:only-of-type {\n",
       "        vertical-align: middle;\n",
       "    }\n",
       "\n",
       "    .dataframe tbody tr th {\n",
       "        vertical-align: top;\n",
       "    }\n",
       "\n",
       "    .dataframe thead th {\n",
       "        text-align: right;\n",
       "    }\n",
       "</style>\n",
       "<table border=\"1\" class=\"dataframe\">\n",
       "  <thead>\n",
       "    <tr style=\"text-align: right;\">\n",
       "      <th></th>\n",
       "      <th>Id</th>\n",
       "      <th>MSSubClass</th>\n",
       "      <th>MSZoning</th>\n",
       "      <th>LotFrontage</th>\n",
       "      <th>LotArea</th>\n",
       "      <th>Street</th>\n",
       "      <th>Alley</th>\n",
       "      <th>LotShape</th>\n",
       "      <th>LandContour</th>\n",
       "      <th>Utilities</th>\n",
       "      <th>LotConfig</th>\n",
       "      <th>LandSlope</th>\n",
       "      <th>Neighborhood</th>\n",
       "      <th>Condition1</th>\n",
       "      <th>Condition2</th>\n",
       "      <th>BldgType</th>\n",
       "      <th>HouseStyle</th>\n",
       "      <th>OverallQual</th>\n",
       "      <th>OverallCond</th>\n",
       "      <th>YearBuilt</th>\n",
       "      <th>YearRemodAdd</th>\n",
       "      <th>RoofStyle</th>\n",
       "      <th>RoofMatl</th>\n",
       "      <th>Exterior1st</th>\n",
       "      <th>Exterior2nd</th>\n",
       "      <th>MasVnrType</th>\n",
       "      <th>MasVnrArea</th>\n",
       "      <th>ExterQual</th>\n",
       "      <th>ExterCond</th>\n",
       "      <th>Foundation</th>\n",
       "      <th>BsmtQual</th>\n",
       "      <th>BsmtCond</th>\n",
       "      <th>BsmtExposure</th>\n",
       "      <th>BsmtFinType1</th>\n",
       "      <th>BsmtFinSF1</th>\n",
       "      <th>BsmtFinType2</th>\n",
       "      <th>BsmtFinSF2</th>\n",
       "      <th>BsmtUnfSF</th>\n",
       "      <th>TotalBsmtSF</th>\n",
       "      <th>Heating</th>\n",
       "      <th>HeatingQC</th>\n",
       "      <th>CentralAir</th>\n",
       "      <th>Electrical</th>\n",
       "      <th>1stFlrSF</th>\n",
       "      <th>2ndFlrSF</th>\n",
       "      <th>LowQualFinSF</th>\n",
       "      <th>GrLivArea</th>\n",
       "      <th>BsmtFullBath</th>\n",
       "      <th>BsmtHalfBath</th>\n",
       "      <th>FullBath</th>\n",
       "      <th>HalfBath</th>\n",
       "      <th>BedroomAbvGr</th>\n",
       "      <th>KitchenAbvGr</th>\n",
       "      <th>KitchenQual</th>\n",
       "      <th>TotRmsAbvGrd</th>\n",
       "      <th>Functional</th>\n",
       "      <th>Fireplaces</th>\n",
       "      <th>FireplaceQu</th>\n",
       "      <th>GarageType</th>\n",
       "      <th>GarageYrBlt</th>\n",
       "      <th>GarageFinish</th>\n",
       "      <th>GarageCars</th>\n",
       "      <th>GarageArea</th>\n",
       "      <th>GarageQual</th>\n",
       "      <th>GarageCond</th>\n",
       "      <th>PavedDrive</th>\n",
       "      <th>WoodDeckSF</th>\n",
       "      <th>OpenPorchSF</th>\n",
       "      <th>EnclosedPorch</th>\n",
       "      <th>3SsnPorch</th>\n",
       "      <th>ScreenPorch</th>\n",
       "      <th>PoolArea</th>\n",
       "      <th>PoolQC</th>\n",
       "      <th>Fence</th>\n",
       "      <th>MiscFeature</th>\n",
       "      <th>MiscVal</th>\n",
       "      <th>MoSold</th>\n",
       "      <th>YrSold</th>\n",
       "      <th>SaleType</th>\n",
       "      <th>SaleCondition</th>\n",
       "    </tr>\n",
       "  </thead>\n",
       "  <tbody>\n",
       "    <tr>\n",
       "      <th>0</th>\n",
       "      <td>337</td>\n",
       "      <td>20</td>\n",
       "      <td>RL</td>\n",
       "      <td>86.0</td>\n",
       "      <td>14157</td>\n",
       "      <td>Pave</td>\n",
       "      <td>NaN</td>\n",
       "      <td>IR1</td>\n",
       "      <td>HLS</td>\n",
       "      <td>AllPub</td>\n",
       "      <td>Corner</td>\n",
       "      <td>Gtl</td>\n",
       "      <td>StoneBr</td>\n",
       "      <td>Norm</td>\n",
       "      <td>Norm</td>\n",
       "      <td>1Fam</td>\n",
       "      <td>1Story</td>\n",
       "      <td>9</td>\n",
       "      <td>5</td>\n",
       "      <td>2005</td>\n",
       "      <td>2006</td>\n",
       "      <td>Hip</td>\n",
       "      <td>CompShg</td>\n",
       "      <td>VinylSd</td>\n",
       "      <td>VinylSd</td>\n",
       "      <td>Stone</td>\n",
       "      <td>200.0</td>\n",
       "      <td>Gd</td>\n",
       "      <td>TA</td>\n",
       "      <td>PConc</td>\n",
       "      <td>Ex</td>\n",
       "      <td>TA</td>\n",
       "      <td>Gd</td>\n",
       "      <td>GLQ</td>\n",
       "      <td>1249</td>\n",
       "      <td>Unf</td>\n",
       "      <td>0</td>\n",
       "      <td>673</td>\n",
       "      <td>1922</td>\n",
       "      <td>GasA</td>\n",
       "      <td>Ex</td>\n",
       "      <td>Y</td>\n",
       "      <td>SBrkr</td>\n",
       "      <td>1922</td>\n",
       "      <td>0</td>\n",
       "      <td>0</td>\n",
       "      <td>1922</td>\n",
       "      <td>1</td>\n",
       "      <td>0</td>\n",
       "      <td>2</td>\n",
       "      <td>0</td>\n",
       "      <td>3</td>\n",
       "      <td>1</td>\n",
       "      <td>Gd</td>\n",
       "      <td>8</td>\n",
       "      <td>Typ</td>\n",
       "      <td>1</td>\n",
       "      <td>Gd</td>\n",
       "      <td>Attchd</td>\n",
       "      <td>2005.0</td>\n",
       "      <td>Fin</td>\n",
       "      <td>3</td>\n",
       "      <td>676</td>\n",
       "      <td>TA</td>\n",
       "      <td>TA</td>\n",
       "      <td>Y</td>\n",
       "      <td>178</td>\n",
       "      <td>51</td>\n",
       "      <td>0</td>\n",
       "      <td>0</td>\n",
       "      <td>0</td>\n",
       "      <td>0</td>\n",
       "      <td>NaN</td>\n",
       "      <td>NaN</td>\n",
       "      <td>NaN</td>\n",
       "      <td>0</td>\n",
       "      <td>7</td>\n",
       "      <td>2007</td>\n",
       "      <td>WD</td>\n",
       "      <td>Normal</td>\n",
       "    </tr>\n",
       "    <tr>\n",
       "      <th>1</th>\n",
       "      <td>1018</td>\n",
       "      <td>120</td>\n",
       "      <td>RL</td>\n",
       "      <td>NaN</td>\n",
       "      <td>5814</td>\n",
       "      <td>Pave</td>\n",
       "      <td>NaN</td>\n",
       "      <td>IR1</td>\n",
       "      <td>Lvl</td>\n",
       "      <td>AllPub</td>\n",
       "      <td>CulDSac</td>\n",
       "      <td>Gtl</td>\n",
       "      <td>StoneBr</td>\n",
       "      <td>Norm</td>\n",
       "      <td>Norm</td>\n",
       "      <td>TwnhsE</td>\n",
       "      <td>1Story</td>\n",
       "      <td>8</td>\n",
       "      <td>5</td>\n",
       "      <td>1984</td>\n",
       "      <td>1984</td>\n",
       "      <td>Gable</td>\n",
       "      <td>CompShg</td>\n",
       "      <td>HdBoard</td>\n",
       "      <td>HdBoard</td>\n",
       "      <td>None</td>\n",
       "      <td>0.0</td>\n",
       "      <td>Gd</td>\n",
       "      <td>TA</td>\n",
       "      <td>CBlock</td>\n",
       "      <td>Gd</td>\n",
       "      <td>TA</td>\n",
       "      <td>Av</td>\n",
       "      <td>GLQ</td>\n",
       "      <td>1036</td>\n",
       "      <td>Unf</td>\n",
       "      <td>0</td>\n",
       "      <td>184</td>\n",
       "      <td>1220</td>\n",
       "      <td>GasA</td>\n",
       "      <td>Gd</td>\n",
       "      <td>Y</td>\n",
       "      <td>SBrkr</td>\n",
       "      <td>1360</td>\n",
       "      <td>0</td>\n",
       "      <td>0</td>\n",
       "      <td>1360</td>\n",
       "      <td>1</td>\n",
       "      <td>0</td>\n",
       "      <td>1</td>\n",
       "      <td>0</td>\n",
       "      <td>1</td>\n",
       "      <td>1</td>\n",
       "      <td>Gd</td>\n",
       "      <td>4</td>\n",
       "      <td>Typ</td>\n",
       "      <td>1</td>\n",
       "      <td>Ex</td>\n",
       "      <td>Attchd</td>\n",
       "      <td>1984.0</td>\n",
       "      <td>RFn</td>\n",
       "      <td>2</td>\n",
       "      <td>565</td>\n",
       "      <td>TA</td>\n",
       "      <td>TA</td>\n",
       "      <td>Y</td>\n",
       "      <td>63</td>\n",
       "      <td>0</td>\n",
       "      <td>0</td>\n",
       "      <td>0</td>\n",
       "      <td>0</td>\n",
       "      <td>0</td>\n",
       "      <td>NaN</td>\n",
       "      <td>NaN</td>\n",
       "      <td>NaN</td>\n",
       "      <td>0</td>\n",
       "      <td>8</td>\n",
       "      <td>2009</td>\n",
       "      <td>COD</td>\n",
       "      <td>Abnorml</td>\n",
       "    </tr>\n",
       "    <tr>\n",
       "      <th>2</th>\n",
       "      <td>929</td>\n",
       "      <td>20</td>\n",
       "      <td>RL</td>\n",
       "      <td>NaN</td>\n",
       "      <td>11838</td>\n",
       "      <td>Pave</td>\n",
       "      <td>NaN</td>\n",
       "      <td>Reg</td>\n",
       "      <td>Lvl</td>\n",
       "      <td>AllPub</td>\n",
       "      <td>Inside</td>\n",
       "      <td>Gtl</td>\n",
       "      <td>CollgCr</td>\n",
       "      <td>Norm</td>\n",
       "      <td>Norm</td>\n",
       "      <td>1Fam</td>\n",
       "      <td>1Story</td>\n",
       "      <td>8</td>\n",
       "      <td>5</td>\n",
       "      <td>2001</td>\n",
       "      <td>2001</td>\n",
       "      <td>Hip</td>\n",
       "      <td>CompShg</td>\n",
       "      <td>VinylSd</td>\n",
       "      <td>VinylSd</td>\n",
       "      <td>None</td>\n",
       "      <td>0.0</td>\n",
       "      <td>Gd</td>\n",
       "      <td>TA</td>\n",
       "      <td>PConc</td>\n",
       "      <td>Gd</td>\n",
       "      <td>TA</td>\n",
       "      <td>Av</td>\n",
       "      <td>Unf</td>\n",
       "      <td>0</td>\n",
       "      <td>Unf</td>\n",
       "      <td>0</td>\n",
       "      <td>1753</td>\n",
       "      <td>1753</td>\n",
       "      <td>GasA</td>\n",
       "      <td>Ex</td>\n",
       "      <td>Y</td>\n",
       "      <td>SBrkr</td>\n",
       "      <td>1788</td>\n",
       "      <td>0</td>\n",
       "      <td>0</td>\n",
       "      <td>1788</td>\n",
       "      <td>0</td>\n",
       "      <td>0</td>\n",
       "      <td>2</td>\n",
       "      <td>0</td>\n",
       "      <td>3</td>\n",
       "      <td>1</td>\n",
       "      <td>Ex</td>\n",
       "      <td>7</td>\n",
       "      <td>Typ</td>\n",
       "      <td>1</td>\n",
       "      <td>TA</td>\n",
       "      <td>Attchd</td>\n",
       "      <td>2001.0</td>\n",
       "      <td>RFn</td>\n",
       "      <td>2</td>\n",
       "      <td>522</td>\n",
       "      <td>TA</td>\n",
       "      <td>TA</td>\n",
       "      <td>Y</td>\n",
       "      <td>202</td>\n",
       "      <td>151</td>\n",
       "      <td>0</td>\n",
       "      <td>0</td>\n",
       "      <td>0</td>\n",
       "      <td>0</td>\n",
       "      <td>NaN</td>\n",
       "      <td>NaN</td>\n",
       "      <td>NaN</td>\n",
       "      <td>0</td>\n",
       "      <td>6</td>\n",
       "      <td>2009</td>\n",
       "      <td>WD</td>\n",
       "      <td>Normal</td>\n",
       "    </tr>\n",
       "    <tr>\n",
       "      <th>3</th>\n",
       "      <td>1148</td>\n",
       "      <td>70</td>\n",
       "      <td>RL</td>\n",
       "      <td>75.0</td>\n",
       "      <td>12000</td>\n",
       "      <td>Pave</td>\n",
       "      <td>NaN</td>\n",
       "      <td>Reg</td>\n",
       "      <td>Bnk</td>\n",
       "      <td>AllPub</td>\n",
       "      <td>Inside</td>\n",
       "      <td>Gtl</td>\n",
       "      <td>Crawfor</td>\n",
       "      <td>Norm</td>\n",
       "      <td>Norm</td>\n",
       "      <td>1Fam</td>\n",
       "      <td>2Story</td>\n",
       "      <td>7</td>\n",
       "      <td>7</td>\n",
       "      <td>1941</td>\n",
       "      <td>1950</td>\n",
       "      <td>Gable</td>\n",
       "      <td>CompShg</td>\n",
       "      <td>MetalSd</td>\n",
       "      <td>MetalSd</td>\n",
       "      <td>None</td>\n",
       "      <td>0.0</td>\n",
       "      <td>TA</td>\n",
       "      <td>TA</td>\n",
       "      <td>CBlock</td>\n",
       "      <td>TA</td>\n",
       "      <td>TA</td>\n",
       "      <td>No</td>\n",
       "      <td>Rec</td>\n",
       "      <td>275</td>\n",
       "      <td>Unf</td>\n",
       "      <td>0</td>\n",
       "      <td>429</td>\n",
       "      <td>704</td>\n",
       "      <td>GasA</td>\n",
       "      <td>Ex</td>\n",
       "      <td>Y</td>\n",
       "      <td>SBrkr</td>\n",
       "      <td>860</td>\n",
       "      <td>704</td>\n",
       "      <td>0</td>\n",
       "      <td>1564</td>\n",
       "      <td>0</td>\n",
       "      <td>0</td>\n",
       "      <td>1</td>\n",
       "      <td>1</td>\n",
       "      <td>3</td>\n",
       "      <td>1</td>\n",
       "      <td>Fa</td>\n",
       "      <td>7</td>\n",
       "      <td>Typ</td>\n",
       "      <td>1</td>\n",
       "      <td>Gd</td>\n",
       "      <td>Attchd</td>\n",
       "      <td>1941.0</td>\n",
       "      <td>Unf</td>\n",
       "      <td>1</td>\n",
       "      <td>234</td>\n",
       "      <td>TA</td>\n",
       "      <td>TA</td>\n",
       "      <td>Y</td>\n",
       "      <td>0</td>\n",
       "      <td>0</td>\n",
       "      <td>0</td>\n",
       "      <td>0</td>\n",
       "      <td>0</td>\n",
       "      <td>0</td>\n",
       "      <td>NaN</td>\n",
       "      <td>NaN</td>\n",
       "      <td>NaN</td>\n",
       "      <td>0</td>\n",
       "      <td>7</td>\n",
       "      <td>2009</td>\n",
       "      <td>WD</td>\n",
       "      <td>Normal</td>\n",
       "    </tr>\n",
       "    <tr>\n",
       "      <th>4</th>\n",
       "      <td>1227</td>\n",
       "      <td>60</td>\n",
       "      <td>RL</td>\n",
       "      <td>86.0</td>\n",
       "      <td>14598</td>\n",
       "      <td>Pave</td>\n",
       "      <td>NaN</td>\n",
       "      <td>IR1</td>\n",
       "      <td>Lvl</td>\n",
       "      <td>AllPub</td>\n",
       "      <td>CulDSac</td>\n",
       "      <td>Gtl</td>\n",
       "      <td>Somerst</td>\n",
       "      <td>Feedr</td>\n",
       "      <td>Norm</td>\n",
       "      <td>1Fam</td>\n",
       "      <td>2Story</td>\n",
       "      <td>6</td>\n",
       "      <td>5</td>\n",
       "      <td>2007</td>\n",
       "      <td>2007</td>\n",
       "      <td>Gable</td>\n",
       "      <td>CompShg</td>\n",
       "      <td>VinylSd</td>\n",
       "      <td>VinylSd</td>\n",
       "      <td>Stone</td>\n",
       "      <td>74.0</td>\n",
       "      <td>Gd</td>\n",
       "      <td>TA</td>\n",
       "      <td>PConc</td>\n",
       "      <td>Gd</td>\n",
       "      <td>TA</td>\n",
       "      <td>Mn</td>\n",
       "      <td>Unf</td>\n",
       "      <td>0</td>\n",
       "      <td>Unf</td>\n",
       "      <td>0</td>\n",
       "      <td>894</td>\n",
       "      <td>894</td>\n",
       "      <td>GasA</td>\n",
       "      <td>Ex</td>\n",
       "      <td>Y</td>\n",
       "      <td>SBrkr</td>\n",
       "      <td>894</td>\n",
       "      <td>1039</td>\n",
       "      <td>0</td>\n",
       "      <td>1933</td>\n",
       "      <td>0</td>\n",
       "      <td>0</td>\n",
       "      <td>2</td>\n",
       "      <td>1</td>\n",
       "      <td>4</td>\n",
       "      <td>1</td>\n",
       "      <td>Gd</td>\n",
       "      <td>9</td>\n",
       "      <td>Typ</td>\n",
       "      <td>1</td>\n",
       "      <td>Gd</td>\n",
       "      <td>BuiltIn</td>\n",
       "      <td>2007.0</td>\n",
       "      <td>Fin</td>\n",
       "      <td>3</td>\n",
       "      <td>668</td>\n",
       "      <td>TA</td>\n",
       "      <td>TA</td>\n",
       "      <td>Y</td>\n",
       "      <td>100</td>\n",
       "      <td>18</td>\n",
       "      <td>0</td>\n",
       "      <td>0</td>\n",
       "      <td>0</td>\n",
       "      <td>0</td>\n",
       "      <td>NaN</td>\n",
       "      <td>NaN</td>\n",
       "      <td>NaN</td>\n",
       "      <td>0</td>\n",
       "      <td>1</td>\n",
       "      <td>2008</td>\n",
       "      <td>WD</td>\n",
       "      <td>Normal</td>\n",
       "    </tr>\n",
       "  </tbody>\n",
       "</table>\n",
       "</div>"
      ],
      "text/plain": [
       "     Id  MSSubClass MSZoning  LotFrontage  LotArea Street Alley LotShape  \\\n",
       "0   337          20       RL         86.0    14157   Pave   NaN      IR1   \n",
       "1  1018         120       RL          NaN     5814   Pave   NaN      IR1   \n",
       "2   929          20       RL          NaN    11838   Pave   NaN      Reg   \n",
       "3  1148          70       RL         75.0    12000   Pave   NaN      Reg   \n",
       "4  1227          60       RL         86.0    14598   Pave   NaN      IR1   \n",
       "\n",
       "  LandContour Utilities LotConfig LandSlope Neighborhood Condition1  \\\n",
       "0         HLS    AllPub    Corner       Gtl      StoneBr       Norm   \n",
       "1         Lvl    AllPub   CulDSac       Gtl      StoneBr       Norm   \n",
       "2         Lvl    AllPub    Inside       Gtl      CollgCr       Norm   \n",
       "3         Bnk    AllPub    Inside       Gtl      Crawfor       Norm   \n",
       "4         Lvl    AllPub   CulDSac       Gtl      Somerst      Feedr   \n",
       "\n",
       "  Condition2 BldgType HouseStyle  OverallQual  OverallCond  YearBuilt  \\\n",
       "0       Norm     1Fam     1Story            9            5       2005   \n",
       "1       Norm   TwnhsE     1Story            8            5       1984   \n",
       "2       Norm     1Fam     1Story            8            5       2001   \n",
       "3       Norm     1Fam     2Story            7            7       1941   \n",
       "4       Norm     1Fam     2Story            6            5       2007   \n",
       "\n",
       "   YearRemodAdd RoofStyle RoofMatl Exterior1st Exterior2nd MasVnrType  \\\n",
       "0          2006       Hip  CompShg     VinylSd     VinylSd      Stone   \n",
       "1          1984     Gable  CompShg     HdBoard     HdBoard       None   \n",
       "2          2001       Hip  CompShg     VinylSd     VinylSd       None   \n",
       "3          1950     Gable  CompShg     MetalSd     MetalSd       None   \n",
       "4          2007     Gable  CompShg     VinylSd     VinylSd      Stone   \n",
       "\n",
       "   MasVnrArea ExterQual ExterCond Foundation BsmtQual BsmtCond BsmtExposure  \\\n",
       "0       200.0        Gd        TA      PConc       Ex       TA           Gd   \n",
       "1         0.0        Gd        TA     CBlock       Gd       TA           Av   \n",
       "2         0.0        Gd        TA      PConc       Gd       TA           Av   \n",
       "3         0.0        TA        TA     CBlock       TA       TA           No   \n",
       "4        74.0        Gd        TA      PConc       Gd       TA           Mn   \n",
       "\n",
       "  BsmtFinType1  BsmtFinSF1 BsmtFinType2  BsmtFinSF2  BsmtUnfSF  TotalBsmtSF  \\\n",
       "0          GLQ        1249          Unf           0        673         1922   \n",
       "1          GLQ        1036          Unf           0        184         1220   \n",
       "2          Unf           0          Unf           0       1753         1753   \n",
       "3          Rec         275          Unf           0        429          704   \n",
       "4          Unf           0          Unf           0        894          894   \n",
       "\n",
       "  Heating HeatingQC CentralAir Electrical  1stFlrSF  2ndFlrSF  LowQualFinSF  \\\n",
       "0    GasA        Ex          Y      SBrkr      1922         0             0   \n",
       "1    GasA        Gd          Y      SBrkr      1360         0             0   \n",
       "2    GasA        Ex          Y      SBrkr      1788         0             0   \n",
       "3    GasA        Ex          Y      SBrkr       860       704             0   \n",
       "4    GasA        Ex          Y      SBrkr       894      1039             0   \n",
       "\n",
       "   GrLivArea  BsmtFullBath  BsmtHalfBath  FullBath  HalfBath  BedroomAbvGr  \\\n",
       "0       1922             1             0         2         0             3   \n",
       "1       1360             1             0         1         0             1   \n",
       "2       1788             0             0         2         0             3   \n",
       "3       1564             0             0         1         1             3   \n",
       "4       1933             0             0         2         1             4   \n",
       "\n",
       "   KitchenAbvGr KitchenQual  TotRmsAbvGrd Functional  Fireplaces FireplaceQu  \\\n",
       "0             1          Gd             8        Typ           1          Gd   \n",
       "1             1          Gd             4        Typ           1          Ex   \n",
       "2             1          Ex             7        Typ           1          TA   \n",
       "3             1          Fa             7        Typ           1          Gd   \n",
       "4             1          Gd             9        Typ           1          Gd   \n",
       "\n",
       "  GarageType  GarageYrBlt GarageFinish  GarageCars  GarageArea GarageQual  \\\n",
       "0     Attchd       2005.0          Fin           3         676         TA   \n",
       "1     Attchd       1984.0          RFn           2         565         TA   \n",
       "2     Attchd       2001.0          RFn           2         522         TA   \n",
       "3     Attchd       1941.0          Unf           1         234         TA   \n",
       "4    BuiltIn       2007.0          Fin           3         668         TA   \n",
       "\n",
       "  GarageCond PavedDrive  WoodDeckSF  OpenPorchSF  EnclosedPorch  3SsnPorch  \\\n",
       "0         TA          Y         178           51              0          0   \n",
       "1         TA          Y          63            0              0          0   \n",
       "2         TA          Y         202          151              0          0   \n",
       "3         TA          Y           0            0              0          0   \n",
       "4         TA          Y         100           18              0          0   \n",
       "\n",
       "   ScreenPorch  PoolArea  PoolQC Fence MiscFeature  MiscVal  MoSold  YrSold  \\\n",
       "0            0         0     NaN   NaN         NaN        0       7    2007   \n",
       "1            0         0     NaN   NaN         NaN        0       8    2009   \n",
       "2            0         0     NaN   NaN         NaN        0       6    2009   \n",
       "3            0         0     NaN   NaN         NaN        0       7    2009   \n",
       "4            0         0     NaN   NaN         NaN        0       1    2008   \n",
       "\n",
       "  SaleType SaleCondition  \n",
       "0       WD        Normal  \n",
       "1      COD       Abnorml  \n",
       "2       WD        Normal  \n",
       "3       WD        Normal  \n",
       "4       WD        Normal  "
      ]
     },
     "execution_count": 167,
     "metadata": {},
     "output_type": "execute_result"
    }
   ],
   "source": [
    "df_test=pd.read_csv(\"test-housing.csv\")\n",
    "df_test.head()"
   ]
  },
  {
   "cell_type": "code",
   "execution_count": 168,
   "id": "60fbca0a",
   "metadata": {},
   "outputs": [
    {
     "data": {
      "text/plain": [
       "(292, 80)"
      ]
     },
     "execution_count": 168,
     "metadata": {},
     "output_type": "execute_result"
    }
   ],
   "source": [
    "#Shape of the data\n",
    "df_test.shape"
   ]
  },
  {
   "cell_type": "code",
   "execution_count": 169,
   "id": "59dee91e",
   "metadata": {},
   "outputs": [
    {
     "data": {
      "text/plain": [
       "<AxesSubplot:>"
      ]
     },
     "execution_count": 169,
     "metadata": {},
     "output_type": "execute_result"
    },
    {
     "data": {
      "image/png": "[encoded data removed]",
      "text/plain": [
       "<Figure size 432x288 with 2 Axes>"
      ]
     },
     "metadata": {
      "needs_background": "light"
     },
     "output_type": "display_data"
    }
   ],
   "source": [
    "#chking the nulll values in the test data\n",
    "sns.heatmap(df_test.isnull())"
   ]
  },
  {
   "cell_type": "code",
   "execution_count": 170,
   "id": "8c48e644",
   "metadata": {},
   "outputs": [
    {
     "data": {
      "text/plain": [
       "LotFrontage      45\n",
       "Alley           278\n",
       "MasVnrType        1\n",
       "MasVnrArea        1\n",
       "BsmtQual          7\n",
       "BsmtCond          7\n",
       "BsmtExposure      7\n",
       "BsmtFinType1      7\n",
       "BsmtFinType2      7\n",
       "Electrical        1\n",
       "FireplaceQu     139\n",
       "GarageType       17\n",
       "GarageYrBlt      17\n",
       "GarageFinish     17\n",
       "GarageQual       17\n",
       "GarageCond       17\n",
       "PoolQC          292\n",
       "Fence           248\n",
       "MiscFeature     282\n",
       "dtype: int64"
      ]
     },
     "execution_count": 170,
     "metadata": {},
     "output_type": "execute_result"
    }
   ],
   "source": [
    "#checking the columns having null values in test data\n",
    "nan_cols_test=[i for i in df_test.columns if df_test[i].isnull().any()]\n",
    "df_test[nan_cols_test].isnull().sum()"
   ]
  },
  {
   "cell_type": "code",
   "execution_count": 171,
   "id": "223cb4a0",
   "metadata": {},
   "outputs": [
    {
     "name": "stdout",
     "output_type": "stream",
     "text": [
      "LotFrontage      15.410959\n",
      "Alley            95.205479\n",
      "MasVnrType        0.342466\n",
      "MasVnrArea        0.342466\n",
      "BsmtQual          2.397260\n",
      "BsmtCond          2.397260\n",
      "BsmtExposure      2.397260\n",
      "BsmtFinType1      2.397260\n",
      "BsmtFinType2      2.397260\n",
      "Electrical        0.342466\n",
      "FireplaceQu      47.602740\n",
      "GarageType        5.821918\n",
      "GarageYrBlt       5.821918\n",
      "GarageFinish      5.821918\n",
      "GarageQual        5.821918\n",
      "GarageCond        5.821918\n",
      "PoolQC          100.000000\n",
      "Fence            84.931507\n",
      "MiscFeature      96.575342\n",
      "dtype: float64\n"
     ]
    }
   ],
   "source": [
    "# Percentage of null values in each columns having NAN\n",
    "print((df_test[nan_cols_test].isnull().mean())*100)"
   ]
  },
  {
   "cell_type": "code",
   "execution_count": 172,
   "id": "7406e7f1",
   "metadata": {},
   "outputs": [],
   "source": [
    "#dropiing the columns dropped in train dataset\n",
    "df_test=df_test.drop([\"Alley\",\"PoolQC\",\"MiscFeature\",\"Id\",\"GarageYrBlt\"],axis=1)"
   ]
  },
  {
   "cell_type": "code",
   "execution_count": 173,
   "id": "21917f15",
   "metadata": {},
   "outputs": [],
   "source": [
    "#filling the NAN value \n",
    "\n",
    "df_test['LotFrontage']=df_test['LotFrontage'].fillna(df_test['LotFrontage'].mean())\n",
    "df_test['BsmtCond']=df_test['BsmtCond'].fillna(df_test['BsmtCond'].mode()[0])\n",
    "df_test['BsmtQual']=df_test['BsmtQual'].fillna(df_test['BsmtQual'].mode()[0])\n",
    "df_test['FireplaceQu']=df_test['FireplaceQu'].fillna(df_test['FireplaceQu'].mode()[0])\n",
    "df_test['GarageType']=df_test['GarageType'].fillna(df_test['GarageType'].mode()[0])\n",
    "df_test['GarageFinish']=df_test['GarageFinish'].fillna(df_test['GarageFinish'].mode()[0])\n",
    "df_test['GarageQual']=df_test['GarageQual'].fillna(df_test['GarageQual'].mode()[0])\n",
    "df_test['GarageCond']=df_test['GarageCond'].fillna(df_test['GarageCond'].mode()[0])\n",
    "df_test['MasVnrType']=df_test['MasVnrType'].fillna(df_test['MasVnrType'].mode()[0])\n",
    "df_test['MasVnrArea']=df_test['MasVnrArea'].fillna(df_test['MasVnrArea'].mode()[0])\n",
    "df_test['BsmtExposure']=df_test['BsmtExposure'].fillna(df_test['BsmtExposure'].mode()[0])\n",
    "df_test['BsmtFinType1']=df_test['BsmtFinType1'].fillna(df_test['BsmtFinType1'].mode()[0])\n",
    "df_test['BsmtFinType2']=df_test['BsmtFinType2'].fillna(df_test['BsmtFinType2'].mode()[0])\n",
    "df_test['Electrical']=df_test['Electrical'].fillna(df_test['Electrical'].mode()[0])"
   ]
  },
  {
   "cell_type": "code",
   "execution_count": 174,
   "id": "fdc2a4c4",
   "metadata": {},
   "outputs": [],
   "source": [
    "df_test[\"Fence\"]=df_test[\"Fence\"].fillna(\"Not available\")"
   ]
  },
  {
   "cell_type": "code",
   "execution_count": 175,
   "id": "3b92a57d",
   "metadata": {},
   "outputs": [
    {
     "data": {
      "text/plain": [
       "Series([], dtype: float64)"
      ]
     },
     "execution_count": 175,
     "metadata": {},
     "output_type": "execute_result"
    }
   ],
   "source": [
    "#checking the columns having null values in test data\n",
    "nan_cols_test=[i for i in df_test.columns if df_test[i].isnull().any()]\n",
    "df_test[nan_cols_test].isnull().sum()"
   ]
  },
  {
   "cell_type": "code",
   "execution_count": 176,
   "id": "517351b3",
   "metadata": {},
   "outputs": [
    {
     "name": "stdout",
     "output_type": "stream",
     "text": [
      "Index(['MSSubClass', 'LotFrontage', 'LotArea', 'OverallQual', 'OverallCond',\n",
      "       'YearBuilt', 'YearRemodAdd', 'MasVnrArea', 'BsmtFinSF1', 'BsmtFinSF2',\n",
      "       'BsmtUnfSF', 'TotalBsmtSF', '1stFlrSF', '2ndFlrSF', 'LowQualFinSF',\n",
      "       'GrLivArea', 'BsmtFullBath', 'BsmtHalfBath', 'FullBath', 'HalfBath',\n",
      "       'BedroomAbvGr', 'KitchenAbvGr', 'TotRmsAbvGrd', 'Fireplaces',\n",
      "       'GarageCars', 'GarageArea', 'WoodDeckSF', 'OpenPorchSF',\n",
      "       'EnclosedPorch', '3SsnPorch', 'ScreenPorch', 'PoolArea', 'MiscVal',\n",
      "       'MoSold', 'YrSold'],\n",
      "      dtype='object')\n"
     ]
    }
   ],
   "source": [
    "con_col_test=df_test.select_dtypes(include=[\"float64\",\"int64\"])\n",
    "print(con_col_test.columns)"
   ]
  },
  {
   "cell_type": "code",
   "execution_count": 177,
   "id": "61350750",
   "metadata": {},
   "outputs": [
    {
     "name": "stdout",
     "output_type": "stream",
     "text": [
      "Index(['MSZoning', 'Street', 'LotShape', 'LandContour', 'Utilities',\n",
      "       'LotConfig', 'LandSlope', 'Neighborhood', 'Condition1', 'Condition2',\n",
      "       'BldgType', 'HouseStyle', 'RoofStyle', 'RoofMatl', 'Exterior1st',\n",
      "       'Exterior2nd', 'MasVnrType', 'ExterQual', 'ExterCond', 'Foundation',\n",
      "       'BsmtQual', 'BsmtCond', 'BsmtExposure', 'BsmtFinType1', 'BsmtFinType2',\n",
      "       'Heating', 'HeatingQC', 'CentralAir', 'Electrical', 'KitchenQual',\n",
      "       'Functional', 'FireplaceQu', 'GarageType', 'GarageFinish', 'GarageQual',\n",
      "       'GarageCond', 'PavedDrive', 'Fence', 'SaleType', 'SaleCondition'],\n",
      "      dtype='object')\n"
     ]
    }
   ],
   "source": [
    "cat_col_test=df_test.select_dtypes(include=[\"object\"])\n",
    "print(cat_col_test.columns)"
   ]
  },
  {
   "cell_type": "code",
   "execution_count": 178,
   "id": "eacc6e64",
   "metadata": {},
   "outputs": [
    {
     "data": {
      "text/html": [
       "<div>\n",
       "<style scoped>\n",
       "    .dataframe tbody tr th:only-of-type {\n",
       "        vertical-align: middle;\n",
       "    }\n",
       "\n",
       "    .dataframe tbody tr th {\n",
       "        vertical-align: top;\n",
       "    }\n",
       "\n",
       "    .dataframe thead th {\n",
       "        text-align: right;\n",
       "    }\n",
       "</style>\n",
       "<table border=\"1\" class=\"dataframe\">\n",
       "  <thead>\n",
       "    <tr style=\"text-align: right;\">\n",
       "      <th></th>\n",
       "      <th>MSSubClass</th>\n",
       "      <th>MSZoning</th>\n",
       "      <th>LotFrontage</th>\n",
       "      <th>LotArea</th>\n",
       "      <th>Street</th>\n",
       "      <th>LotShape</th>\n",
       "      <th>LandContour</th>\n",
       "      <th>Utilities</th>\n",
       "      <th>LotConfig</th>\n",
       "      <th>LandSlope</th>\n",
       "      <th>Neighborhood</th>\n",
       "      <th>Condition1</th>\n",
       "      <th>Condition2</th>\n",
       "      <th>BldgType</th>\n",
       "      <th>HouseStyle</th>\n",
       "      <th>OverallQual</th>\n",
       "      <th>OverallCond</th>\n",
       "      <th>YearBuilt</th>\n",
       "      <th>YearRemodAdd</th>\n",
       "      <th>RoofStyle</th>\n",
       "      <th>RoofMatl</th>\n",
       "      <th>Exterior1st</th>\n",
       "      <th>Exterior2nd</th>\n",
       "      <th>MasVnrType</th>\n",
       "      <th>MasVnrArea</th>\n",
       "      <th>ExterQual</th>\n",
       "      <th>ExterCond</th>\n",
       "      <th>Foundation</th>\n",
       "      <th>BsmtQual</th>\n",
       "      <th>BsmtCond</th>\n",
       "      <th>BsmtExposure</th>\n",
       "      <th>BsmtFinType1</th>\n",
       "      <th>BsmtFinSF1</th>\n",
       "      <th>BsmtFinType2</th>\n",
       "      <th>BsmtFinSF2</th>\n",
       "      <th>BsmtUnfSF</th>\n",
       "      <th>TotalBsmtSF</th>\n",
       "      <th>Heating</th>\n",
       "      <th>HeatingQC</th>\n",
       "      <th>CentralAir</th>\n",
       "      <th>Electrical</th>\n",
       "      <th>1stFlrSF</th>\n",
       "      <th>2ndFlrSF</th>\n",
       "      <th>LowQualFinSF</th>\n",
       "      <th>GrLivArea</th>\n",
       "      <th>BsmtFullBath</th>\n",
       "      <th>BsmtHalfBath</th>\n",
       "      <th>FullBath</th>\n",
       "      <th>HalfBath</th>\n",
       "      <th>BedroomAbvGr</th>\n",
       "      <th>KitchenAbvGr</th>\n",
       "      <th>KitchenQual</th>\n",
       "      <th>TotRmsAbvGrd</th>\n",
       "      <th>Functional</th>\n",
       "      <th>Fireplaces</th>\n",
       "      <th>FireplaceQu</th>\n",
       "      <th>GarageType</th>\n",
       "      <th>GarageFinish</th>\n",
       "      <th>GarageCars</th>\n",
       "      <th>GarageArea</th>\n",
       "      <th>GarageQual</th>\n",
       "      <th>GarageCond</th>\n",
       "      <th>PavedDrive</th>\n",
       "      <th>WoodDeckSF</th>\n",
       "      <th>OpenPorchSF</th>\n",
       "      <th>EnclosedPorch</th>\n",
       "      <th>3SsnPorch</th>\n",
       "      <th>ScreenPorch</th>\n",
       "      <th>PoolArea</th>\n",
       "      <th>Fence</th>\n",
       "      <th>MiscVal</th>\n",
       "      <th>MoSold</th>\n",
       "      <th>YrSold</th>\n",
       "      <th>SaleType</th>\n",
       "      <th>SaleCondition</th>\n",
       "    </tr>\n",
       "  </thead>\n",
       "  <tbody>\n",
       "    <tr>\n",
       "      <th>0</th>\n",
       "      <td>20</td>\n",
       "      <td>2</td>\n",
       "      <td>86.000000</td>\n",
       "      <td>14157</td>\n",
       "      <td>1</td>\n",
       "      <td>0</td>\n",
       "      <td>1</td>\n",
       "      <td>0</td>\n",
       "      <td>0</td>\n",
       "      <td>0</td>\n",
       "      <td>21</td>\n",
       "      <td>2</td>\n",
       "      <td>0</td>\n",
       "      <td>0</td>\n",
       "      <td>2</td>\n",
       "      <td>9</td>\n",
       "      <td>5</td>\n",
       "      <td>2005</td>\n",
       "      <td>2006</td>\n",
       "      <td>3</td>\n",
       "      <td>0</td>\n",
       "      <td>9</td>\n",
       "      <td>11</td>\n",
       "      <td>3</td>\n",
       "      <td>200.0</td>\n",
       "      <td>2</td>\n",
       "      <td>3</td>\n",
       "      <td>2</td>\n",
       "      <td>0</td>\n",
       "      <td>2</td>\n",
       "      <td>1</td>\n",
       "      <td>2</td>\n",
       "      <td>1249</td>\n",
       "      <td>5</td>\n",
       "      <td>0</td>\n",
       "      <td>673</td>\n",
       "      <td>1922</td>\n",
       "      <td>0</td>\n",
       "      <td>0</td>\n",
       "      <td>1</td>\n",
       "      <td>3</td>\n",
       "      <td>1922</td>\n",
       "      <td>0</td>\n",
       "      <td>0</td>\n",
       "      <td>1922</td>\n",
       "      <td>1</td>\n",
       "      <td>0</td>\n",
       "      <td>2</td>\n",
       "      <td>0</td>\n",
       "      <td>3</td>\n",
       "      <td>1</td>\n",
       "      <td>2</td>\n",
       "      <td>8</td>\n",
       "      <td>5</td>\n",
       "      <td>1</td>\n",
       "      <td>2</td>\n",
       "      <td>1</td>\n",
       "      <td>0</td>\n",
       "      <td>3</td>\n",
       "      <td>676</td>\n",
       "      <td>4</td>\n",
       "      <td>4</td>\n",
       "      <td>2</td>\n",
       "      <td>178</td>\n",
       "      <td>51</td>\n",
       "      <td>0</td>\n",
       "      <td>0</td>\n",
       "      <td>0</td>\n",
       "      <td>0</td>\n",
       "      <td>4</td>\n",
       "      <td>0</td>\n",
       "      <td>7</td>\n",
       "      <td>2007</td>\n",
       "      <td>5</td>\n",
       "      <td>2</td>\n",
       "    </tr>\n",
       "    <tr>\n",
       "      <th>1</th>\n",
       "      <td>120</td>\n",
       "      <td>2</td>\n",
       "      <td>66.425101</td>\n",
       "      <td>5814</td>\n",
       "      <td>1</td>\n",
       "      <td>0</td>\n",
       "      <td>3</td>\n",
       "      <td>0</td>\n",
       "      <td>1</td>\n",
       "      <td>0</td>\n",
       "      <td>21</td>\n",
       "      <td>2</td>\n",
       "      <td>0</td>\n",
       "      <td>4</td>\n",
       "      <td>2</td>\n",
       "      <td>8</td>\n",
       "      <td>5</td>\n",
       "      <td>1984</td>\n",
       "      <td>1984</td>\n",
       "      <td>1</td>\n",
       "      <td>0</td>\n",
       "      <td>5</td>\n",
       "      <td>5</td>\n",
       "      <td>2</td>\n",
       "      <td>0.0</td>\n",
       "      <td>2</td>\n",
       "      <td>3</td>\n",
       "      <td>1</td>\n",
       "      <td>2</td>\n",
       "      <td>2</td>\n",
       "      <td>0</td>\n",
       "      <td>2</td>\n",
       "      <td>1036</td>\n",
       "      <td>5</td>\n",
       "      <td>0</td>\n",
       "      <td>184</td>\n",
       "      <td>1220</td>\n",
       "      <td>0</td>\n",
       "      <td>2</td>\n",
       "      <td>1</td>\n",
       "      <td>3</td>\n",
       "      <td>1360</td>\n",
       "      <td>0</td>\n",
       "      <td>0</td>\n",
       "      <td>1360</td>\n",
       "      <td>1</td>\n",
       "      <td>0</td>\n",
       "      <td>1</td>\n",
       "      <td>0</td>\n",
       "      <td>1</td>\n",
       "      <td>1</td>\n",
       "      <td>2</td>\n",
       "      <td>4</td>\n",
       "      <td>5</td>\n",
       "      <td>1</td>\n",
       "      <td>0</td>\n",
       "      <td>1</td>\n",
       "      <td>1</td>\n",
       "      <td>2</td>\n",
       "      <td>565</td>\n",
       "      <td>4</td>\n",
       "      <td>4</td>\n",
       "      <td>2</td>\n",
       "      <td>63</td>\n",
       "      <td>0</td>\n",
       "      <td>0</td>\n",
       "      <td>0</td>\n",
       "      <td>0</td>\n",
       "      <td>0</td>\n",
       "      <td>4</td>\n",
       "      <td>0</td>\n",
       "      <td>8</td>\n",
       "      <td>2009</td>\n",
       "      <td>0</td>\n",
       "      <td>0</td>\n",
       "    </tr>\n",
       "    <tr>\n",
       "      <th>2</th>\n",
       "      <td>20</td>\n",
       "      <td>2</td>\n",
       "      <td>66.425101</td>\n",
       "      <td>11838</td>\n",
       "      <td>1</td>\n",
       "      <td>3</td>\n",
       "      <td>3</td>\n",
       "      <td>0</td>\n",
       "      <td>4</td>\n",
       "      <td>0</td>\n",
       "      <td>4</td>\n",
       "      <td>2</td>\n",
       "      <td>0</td>\n",
       "      <td>0</td>\n",
       "      <td>2</td>\n",
       "      <td>8</td>\n",
       "      <td>5</td>\n",
       "      <td>2001</td>\n",
       "      <td>2001</td>\n",
       "      <td>3</td>\n",
       "      <td>0</td>\n",
       "      <td>9</td>\n",
       "      <td>11</td>\n",
       "      <td>2</td>\n",
       "      <td>0.0</td>\n",
       "      <td>2</td>\n",
       "      <td>3</td>\n",
       "      <td>2</td>\n",
       "      <td>2</td>\n",
       "      <td>2</td>\n",
       "      <td>0</td>\n",
       "      <td>5</td>\n",
       "      <td>0</td>\n",
       "      <td>5</td>\n",
       "      <td>0</td>\n",
       "      <td>1753</td>\n",
       "      <td>1753</td>\n",
       "      <td>0</td>\n",
       "      <td>0</td>\n",
       "      <td>1</td>\n",
       "      <td>3</td>\n",
       "      <td>1788</td>\n",
       "      <td>0</td>\n",
       "      <td>0</td>\n",
       "      <td>1788</td>\n",
       "      <td>0</td>\n",
       "      <td>0</td>\n",
       "      <td>2</td>\n",
       "      <td>0</td>\n",
       "      <td>3</td>\n",
       "      <td>1</td>\n",
       "      <td>0</td>\n",
       "      <td>7</td>\n",
       "      <td>5</td>\n",
       "      <td>1</td>\n",
       "      <td>4</td>\n",
       "      <td>1</td>\n",
       "      <td>1</td>\n",
       "      <td>2</td>\n",
       "      <td>522</td>\n",
       "      <td>4</td>\n",
       "      <td>4</td>\n",
       "      <td>2</td>\n",
       "      <td>202</td>\n",
       "      <td>151</td>\n",
       "      <td>0</td>\n",
       "      <td>0</td>\n",
       "      <td>0</td>\n",
       "      <td>0</td>\n",
       "      <td>4</td>\n",
       "      <td>0</td>\n",
       "      <td>6</td>\n",
       "      <td>2009</td>\n",
       "      <td>5</td>\n",
       "      <td>2</td>\n",
       "    </tr>\n",
       "    <tr>\n",
       "      <th>3</th>\n",
       "      <td>70</td>\n",
       "      <td>2</td>\n",
       "      <td>75.000000</td>\n",
       "      <td>12000</td>\n",
       "      <td>1</td>\n",
       "      <td>3</td>\n",
       "      <td>0</td>\n",
       "      <td>0</td>\n",
       "      <td>4</td>\n",
       "      <td>0</td>\n",
       "      <td>5</td>\n",
       "      <td>2</td>\n",
       "      <td>0</td>\n",
       "      <td>0</td>\n",
       "      <td>5</td>\n",
       "      <td>7</td>\n",
       "      <td>7</td>\n",
       "      <td>1941</td>\n",
       "      <td>1950</td>\n",
       "      <td>1</td>\n",
       "      <td>0</td>\n",
       "      <td>6</td>\n",
       "      <td>7</td>\n",
       "      <td>2</td>\n",
       "      <td>0.0</td>\n",
       "      <td>3</td>\n",
       "      <td>3</td>\n",
       "      <td>1</td>\n",
       "      <td>3</td>\n",
       "      <td>2</td>\n",
       "      <td>3</td>\n",
       "      <td>4</td>\n",
       "      <td>275</td>\n",
       "      <td>5</td>\n",
       "      <td>0</td>\n",
       "      <td>429</td>\n",
       "      <td>704</td>\n",
       "      <td>0</td>\n",
       "      <td>0</td>\n",
       "      <td>1</td>\n",
       "      <td>3</td>\n",
       "      <td>860</td>\n",
       "      <td>704</td>\n",
       "      <td>0</td>\n",
       "      <td>1564</td>\n",
       "      <td>0</td>\n",
       "      <td>0</td>\n",
       "      <td>1</td>\n",
       "      <td>1</td>\n",
       "      <td>3</td>\n",
       "      <td>1</td>\n",
       "      <td>1</td>\n",
       "      <td>7</td>\n",
       "      <td>5</td>\n",
       "      <td>1</td>\n",
       "      <td>2</td>\n",
       "      <td>1</td>\n",
       "      <td>2</td>\n",
       "      <td>1</td>\n",
       "      <td>234</td>\n",
       "      <td>4</td>\n",
       "      <td>4</td>\n",
       "      <td>2</td>\n",
       "      <td>0</td>\n",
       "      <td>0</td>\n",
       "      <td>0</td>\n",
       "      <td>0</td>\n",
       "      <td>0</td>\n",
       "      <td>0</td>\n",
       "      <td>4</td>\n",
       "      <td>0</td>\n",
       "      <td>7</td>\n",
       "      <td>2009</td>\n",
       "      <td>5</td>\n",
       "      <td>2</td>\n",
       "    </tr>\n",
       "    <tr>\n",
       "      <th>4</th>\n",
       "      <td>60</td>\n",
       "      <td>2</td>\n",
       "      <td>86.000000</td>\n",
       "      <td>14598</td>\n",
       "      <td>1</td>\n",
       "      <td>0</td>\n",
       "      <td>3</td>\n",
       "      <td>0</td>\n",
       "      <td>1</td>\n",
       "      <td>0</td>\n",
       "      <td>20</td>\n",
       "      <td>1</td>\n",
       "      <td>0</td>\n",
       "      <td>0</td>\n",
       "      <td>5</td>\n",
       "      <td>6</td>\n",
       "      <td>5</td>\n",
       "      <td>2007</td>\n",
       "      <td>2007</td>\n",
       "      <td>1</td>\n",
       "      <td>0</td>\n",
       "      <td>9</td>\n",
       "      <td>11</td>\n",
       "      <td>3</td>\n",
       "      <td>74.0</td>\n",
       "      <td>2</td>\n",
       "      <td>3</td>\n",
       "      <td>2</td>\n",
       "      <td>2</td>\n",
       "      <td>2</td>\n",
       "      <td>2</td>\n",
       "      <td>5</td>\n",
       "      <td>0</td>\n",
       "      <td>5</td>\n",
       "      <td>0</td>\n",
       "      <td>894</td>\n",
       "      <td>894</td>\n",
       "      <td>0</td>\n",
       "      <td>0</td>\n",
       "      <td>1</td>\n",
       "      <td>3</td>\n",
       "      <td>894</td>\n",
       "      <td>1039</td>\n",
       "      <td>0</td>\n",
       "      <td>1933</td>\n",
       "      <td>0</td>\n",
       "      <td>0</td>\n",
       "      <td>2</td>\n",
       "      <td>1</td>\n",
       "      <td>4</td>\n",
       "      <td>1</td>\n",
       "      <td>2</td>\n",
       "      <td>9</td>\n",
       "      <td>5</td>\n",
       "      <td>1</td>\n",
       "      <td>2</td>\n",
       "      <td>3</td>\n",
       "      <td>0</td>\n",
       "      <td>3</td>\n",
       "      <td>668</td>\n",
       "      <td>4</td>\n",
       "      <td>4</td>\n",
       "      <td>2</td>\n",
       "      <td>100</td>\n",
       "      <td>18</td>\n",
       "      <td>0</td>\n",
       "      <td>0</td>\n",
       "      <td>0</td>\n",
       "      <td>0</td>\n",
       "      <td>4</td>\n",
       "      <td>0</td>\n",
       "      <td>1</td>\n",
       "      <td>2008</td>\n",
       "      <td>5</td>\n",
       "      <td>2</td>\n",
       "    </tr>\n",
       "  </tbody>\n",
       "</table>\n",
       "</div>"
      ],
      "text/plain": [
       "   MSSubClass  MSZoning  LotFrontage  LotArea  Street  LotShape  LandContour  \\\n",
       "0          20         2    86.000000    14157       1         0            1   \n",
       "1         120         2    66.425101     5814       1         0            3   \n",
       "2          20         2    66.425101    11838       1         3            3   \n",
       "3          70         2    75.000000    12000       1         3            0   \n",
       "4          60         2    86.000000    14598       1         0            3   \n",
       "\n",
       "   Utilities  LotConfig  LandSlope  Neighborhood  Condition1  Condition2  \\\n",
       "0          0          0          0            21           2           0   \n",
       "1          0          1          0            21           2           0   \n",
       "2          0          4          0             4           2           0   \n",
       "3          0          4          0             5           2           0   \n",
       "4          0          1          0            20           1           0   \n",
       "\n",
       "   BldgType  HouseStyle  OverallQual  OverallCond  YearBuilt  YearRemodAdd  \\\n",
       "0         0           2            9            5       2005          2006   \n",
       "1         4           2            8            5       1984          1984   \n",
       "2         0           2            8            5       2001          2001   \n",
       "3         0           5            7            7       1941          1950   \n",
       "4         0           5            6            5       2007          2007   \n",
       "\n",
       "   RoofStyle  RoofMatl  Exterior1st  Exterior2nd  MasVnrType  MasVnrArea  \\\n",
       "0          3         0            9           11           3       200.0   \n",
       "1          1         0            5            5           2         0.0   \n",
       "2          3         0            9           11           2         0.0   \n",
       "3          1         0            6            7           2         0.0   \n",
       "4          1         0            9           11           3        74.0   \n",
       "\n",
       "   ExterQual  ExterCond  Foundation  BsmtQual  BsmtCond  BsmtExposure  \\\n",
       "0          2          3           2         0         2             1   \n",
       "1          2          3           1         2         2             0   \n",
       "2          2          3           2         2         2             0   \n",
       "3          3          3           1         3         2             3   \n",
       "4          2          3           2         2         2             2   \n",
       "\n",
       "   BsmtFinType1  BsmtFinSF1  BsmtFinType2  BsmtFinSF2  BsmtUnfSF  TotalBsmtSF  \\\n",
       "0             2        1249             5           0        673         1922   \n",
       "1             2        1036             5           0        184         1220   \n",
       "2             5           0             5           0       1753         1753   \n",
       "3             4         275             5           0        429          704   \n",
       "4             5           0             5           0        894          894   \n",
       "\n",
       "   Heating  HeatingQC  CentralAir  Electrical  1stFlrSF  2ndFlrSF  \\\n",
       "0        0          0           1           3      1922         0   \n",
       "1        0          2           1           3      1360         0   \n",
       "2        0          0           1           3      1788         0   \n",
       "3        0          0           1           3       860       704   \n",
       "4        0          0           1           3       894      1039   \n",
       "\n",
       "   LowQualFinSF  GrLivArea  BsmtFullBath  BsmtHalfBath  FullBath  HalfBath  \\\n",
       "0             0       1922             1             0         2         0   \n",
       "1             0       1360             1             0         1         0   \n",
       "2             0       1788             0             0         2         0   \n",
       "3             0       1564             0             0         1         1   \n",
       "4             0       1933             0             0         2         1   \n",
       "\n",
       "   BedroomAbvGr  KitchenAbvGr  KitchenQual  TotRmsAbvGrd  Functional  \\\n",
       "0             3             1            2             8           5   \n",
       "1             1             1            2             4           5   \n",
       "2             3             1            0             7           5   \n",
       "3             3             1            1             7           5   \n",
       "4             4             1            2             9           5   \n",
       "\n",
       "   Fireplaces  FireplaceQu  GarageType  GarageFinish  GarageCars  GarageArea  \\\n",
       "0           1            2           1             0           3         676   \n",
       "1           1            0           1             1           2         565   \n",
       "2           1            4           1             1           2         522   \n",
       "3           1            2           1             2           1         234   \n",
       "4           1            2           3             0           3         668   \n",
       "\n",
       "   GarageQual  GarageCond  PavedDrive  WoodDeckSF  OpenPorchSF  EnclosedPorch  \\\n",
       "0           4           4           2         178           51              0   \n",
       "1           4           4           2          63            0              0   \n",
       "2           4           4           2         202          151              0   \n",
       "3           4           4           2           0            0              0   \n",
       "4           4           4           2         100           18              0   \n",
       "\n",
       "   3SsnPorch  ScreenPorch  PoolArea  Fence  MiscVal  MoSold  YrSold  SaleType  \\\n",
       "0          0            0         0      4        0       7    2007         5   \n",
       "1          0            0         0      4        0       8    2009         0   \n",
       "2          0            0         0      4        0       6    2009         5   \n",
       "3          0            0         0      4        0       7    2009         5   \n",
       "4          0            0         0      4        0       1    2008         5   \n",
       "\n",
       "   SaleCondition  \n",
       "0              2  \n",
       "1              0  \n",
       "2              2  \n",
       "3              2  \n",
       "4              2  "
      ]
     },
     "execution_count": 178,
     "metadata": {},
     "output_type": "execute_result"
    }
   ],
   "source": [
    "le = LabelEncoder()\n",
    "for i in cat_col_test:\n",
    "    df_test[i]=le.fit_transform(df_test[i])\n",
    "\n",
    "df_test.head()"
   ]
  },
  {
   "cell_type": "code",
   "execution_count": 188,
   "id": "c150839c",
   "metadata": {},
   "outputs": [],
   "source": [
    "from sklearn.preprocessing import StandardScaler\n",
    "scaling=StandardScaler()\n",
    "scaledata=scaling.fit_transform(df_test)"
   ]
  },
  {
   "cell_type": "code",
   "execution_count": 189,
   "id": "9da61686",
   "metadata": {},
   "outputs": [
    {
     "data": {
      "text/html": [
       "<div>\n",
       "<style scoped>\n",
       "    .dataframe tbody tr th:only-of-type {\n",
       "        vertical-align: middle;\n",
       "    }\n",
       "\n",
       "    .dataframe tbody tr th {\n",
       "        vertical-align: top;\n",
       "    }\n",
       "\n",
       "    .dataframe thead th {\n",
       "        text-align: right;\n",
       "    }\n",
       "</style>\n",
       "<table border=\"1\" class=\"dataframe\">\n",
       "  <thead>\n",
       "    <tr style=\"text-align: right;\">\n",
       "      <th></th>\n",
       "      <th>MSSubClass</th>\n",
       "      <th>MSZoning</th>\n",
       "      <th>LotFrontage</th>\n",
       "      <th>LotArea</th>\n",
       "      <th>Street</th>\n",
       "      <th>LotShape</th>\n",
       "      <th>LandContour</th>\n",
       "      <th>Utilities</th>\n",
       "      <th>LotConfig</th>\n",
       "      <th>LandSlope</th>\n",
       "      <th>Neighborhood</th>\n",
       "      <th>Condition1</th>\n",
       "      <th>Condition2</th>\n",
       "      <th>BldgType</th>\n",
       "      <th>HouseStyle</th>\n",
       "      <th>OverallQual</th>\n",
       "      <th>OverallCond</th>\n",
       "      <th>YearBuilt</th>\n",
       "      <th>YearRemodAdd</th>\n",
       "      <th>RoofStyle</th>\n",
       "      <th>RoofMatl</th>\n",
       "      <th>Exterior1st</th>\n",
       "      <th>Exterior2nd</th>\n",
       "      <th>MasVnrType</th>\n",
       "      <th>MasVnrArea</th>\n",
       "      <th>ExterQual</th>\n",
       "      <th>ExterCond</th>\n",
       "      <th>Foundation</th>\n",
       "      <th>BsmtQual</th>\n",
       "      <th>BsmtCond</th>\n",
       "      <th>BsmtExposure</th>\n",
       "      <th>BsmtFinType1</th>\n",
       "      <th>BsmtFinSF1</th>\n",
       "      <th>BsmtFinType2</th>\n",
       "      <th>BsmtFinSF2</th>\n",
       "      <th>BsmtUnfSF</th>\n",
       "      <th>TotalBsmtSF</th>\n",
       "      <th>Heating</th>\n",
       "      <th>HeatingQC</th>\n",
       "      <th>CentralAir</th>\n",
       "      <th>Electrical</th>\n",
       "      <th>1stFlrSF</th>\n",
       "      <th>2ndFlrSF</th>\n",
       "      <th>LowQualFinSF</th>\n",
       "      <th>GrLivArea</th>\n",
       "      <th>BsmtFullBath</th>\n",
       "      <th>BsmtHalfBath</th>\n",
       "      <th>FullBath</th>\n",
       "      <th>HalfBath</th>\n",
       "      <th>BedroomAbvGr</th>\n",
       "      <th>KitchenAbvGr</th>\n",
       "      <th>KitchenQual</th>\n",
       "      <th>TotRmsAbvGrd</th>\n",
       "      <th>Functional</th>\n",
       "      <th>Fireplaces</th>\n",
       "      <th>FireplaceQu</th>\n",
       "      <th>GarageType</th>\n",
       "      <th>GarageFinish</th>\n",
       "      <th>GarageCars</th>\n",
       "      <th>GarageArea</th>\n",
       "      <th>GarageQual</th>\n",
       "      <th>GarageCond</th>\n",
       "      <th>PavedDrive</th>\n",
       "      <th>WoodDeckSF</th>\n",
       "      <th>OpenPorchSF</th>\n",
       "      <th>EnclosedPorch</th>\n",
       "      <th>3SsnPorch</th>\n",
       "      <th>ScreenPorch</th>\n",
       "      <th>PoolArea</th>\n",
       "      <th>Fence</th>\n",
       "      <th>MiscVal</th>\n",
       "      <th>MoSold</th>\n",
       "      <th>YrSold</th>\n",
       "      <th>SaleType</th>\n",
       "      <th>SaleCondition</th>\n",
       "    </tr>\n",
       "  </thead>\n",
       "  <tbody>\n",
       "    <tr>\n",
       "      <th>0</th>\n",
       "      <td>-0.856054</td>\n",
       "      <td>-0.287006</td>\n",
       "      <td>0.981605</td>\n",
       "      <td>0.263894</td>\n",
       "      <td>0.083045</td>\n",
       "      <td>-1.402669</td>\n",
       "      <td>-2.566101</td>\n",
       "      <td>-0.058621</td>\n",
       "      <td>-2.001106</td>\n",
       "      <td>-0.226274</td>\n",
       "      <td>1.554460</td>\n",
       "      <td>-0.028763</td>\n",
       "      <td>-0.058621</td>\n",
       "      <td>-0.444642</td>\n",
       "      <td>-0.518671</td>\n",
       "      <td>2.157766</td>\n",
       "      <td>-0.464603</td>\n",
       "      <td>1.065430</td>\n",
       "      <td>1.031595</td>\n",
       "      <td>1.846195</td>\n",
       "      <td>-0.078757</td>\n",
       "      <td>0.694397</td>\n",
       "      <td>0.733065</td>\n",
       "      <td>1.952161</td>\n",
       "      <td>0.522510</td>\n",
       "      <td>-0.857858</td>\n",
       "      <td>0.326787</td>\n",
       "      <td>0.776109</td>\n",
       "      <td>-2.549340</td>\n",
       "      <td>0.219</td>\n",
       "      <td>-1.192678</td>\n",
       "      <td>-0.377559</td>\n",
       "      <td>1.888202</td>\n",
       "      <td>0.296045</td>\n",
       "      <td>-0.303257</td>\n",
       "      <td>0.281925</td>\n",
       "      <td>2.074477</td>\n",
       "      <td>-0.141879</td>\n",
       "      <td>-0.880154</td>\n",
       "      <td>0.248633</td>\n",
       "      <td>0.312609</td>\n",
       "      <td>2.152007</td>\n",
       "      <td>-0.801927</td>\n",
       "      <td>-0.097029</td>\n",
       "      <td>0.866809</td>\n",
       "      <td>1.132656</td>\n",
       "      <td>-0.263813</td>\n",
       "      <td>0.776457</td>\n",
       "      <td>-0.727992</td>\n",
       "      <td>0.254952</td>\n",
       "      <td>-0.217895</td>\n",
       "      <td>-0.469314</td>\n",
       "      <td>0.917136</td>\n",
       "      <td>0.22482</td>\n",
       "      <td>0.651586</td>\n",
       "      <td>-0.429570</td>\n",
       "      <td>-0.659455</td>\n",
       "      <td>-1.474589</td>\n",
       "      <td>1.687009</td>\n",
       "      <td>1.038573</td>\n",
       "      <td>0.216962</td>\n",
       "      <td>0.181711</td>\n",
       "      <td>0.281378</td>\n",
       "      <td>0.752755</td>\n",
       "      <td>0.059897</td>\n",
       "      <td>-0.341845</td>\n",
       "      <td>-0.082453</td>\n",
       "      <td>-0.258624</td>\n",
       "      <td>0.0</td>\n",
       "      <td>0.39727</td>\n",
       "      <td>-0.126021</td>\n",
       "      <td>0.276960</td>\n",
       "      <td>-0.650908</td>\n",
       "      <td>0.23029</td>\n",
       "      <td>0.148654</td>\n",
       "    </tr>\n",
       "    <tr>\n",
       "      <th>1</th>\n",
       "      <td>1.431981</td>\n",
       "      <td>-0.287006</td>\n",
       "      <td>0.000000</td>\n",
       "      <td>-0.363030</td>\n",
       "      <td>0.083045</td>\n",
       "      <td>-1.402669</td>\n",
       "      <td>0.299297</td>\n",
       "      <td>-0.058621</td>\n",
       "      <td>-1.351136</td>\n",
       "      <td>-0.226274</td>\n",
       "      <td>1.554460</td>\n",
       "      <td>-0.028763</td>\n",
       "      <td>-0.058621</td>\n",
       "      <td>2.722077</td>\n",
       "      <td>-0.518671</td>\n",
       "      <td>1.419117</td>\n",
       "      <td>-0.464603</td>\n",
       "      <td>0.374523</td>\n",
       "      <td>-0.064496</td>\n",
       "      <td>-0.523427</td>\n",
       "      <td>-0.078757</td>\n",
       "      <td>-1.046066</td>\n",
       "      <td>-1.248926</td>\n",
       "      <td>0.355435</td>\n",
       "      <td>-0.623319</td>\n",
       "      <td>-0.857858</td>\n",
       "      <td>0.326787</td>\n",
       "      <td>-0.518884</td>\n",
       "      <td>-0.303768</td>\n",
       "      <td>0.219</td>\n",
       "      <td>-2.090260</td>\n",
       "      <td>-0.377559</td>\n",
       "      <td>1.391494</td>\n",
       "      <td>0.296045</td>\n",
       "      <td>-0.303257</td>\n",
       "      <td>-0.909772</td>\n",
       "      <td>0.418166</td>\n",
       "      <td>-0.141879</td>\n",
       "      <td>0.645098</td>\n",
       "      <td>0.248633</td>\n",
       "      <td>0.312609</td>\n",
       "      <td>0.617800</td>\n",
       "      <td>-0.801927</td>\n",
       "      <td>-0.097029</td>\n",
       "      <td>-0.228029</td>\n",
       "      <td>1.132656</td>\n",
       "      <td>-0.263813</td>\n",
       "      <td>-1.051974</td>\n",
       "      <td>-0.727992</td>\n",
       "      <td>-2.226584</td>\n",
       "      <td>-0.217895</td>\n",
       "      <td>-0.469314</td>\n",
       "      <td>-1.401511</td>\n",
       "      <td>0.22482</td>\n",
       "      <td>0.651586</td>\n",
       "      <td>-2.710193</td>\n",
       "      <td>-0.659455</td>\n",
       "      <td>-0.254816</td>\n",
       "      <td>0.359228</td>\n",
       "      <td>0.511068</td>\n",
       "      <td>0.216962</td>\n",
       "      <td>0.181711</td>\n",
       "      <td>0.281378</td>\n",
       "      <td>-0.192269</td>\n",
       "      <td>-0.715738</td>\n",
       "      <td>-0.341845</td>\n",
       "      <td>-0.082453</td>\n",
       "      <td>-0.258624</td>\n",
       "      <td>0.0</td>\n",
       "      <td>0.39727</td>\n",
       "      <td>-0.126021</td>\n",
       "      <td>0.637997</td>\n",
       "      <td>0.863555</td>\n",
       "      <td>-6.49418</td>\n",
       "      <td>-3.323909</td>\n",
       "    </tr>\n",
       "    <tr>\n",
       "      <th>2</th>\n",
       "      <td>-0.856054</td>\n",
       "      <td>-0.287006</td>\n",
       "      <td>0.000000</td>\n",
       "      <td>0.089636</td>\n",
       "      <td>0.083045</td>\n",
       "      <td>0.745474</td>\n",
       "      <td>0.299297</td>\n",
       "      <td>-0.058621</td>\n",
       "      <td>0.598774</td>\n",
       "      <td>-0.226274</td>\n",
       "      <td>-1.281387</td>\n",
       "      <td>-0.028763</td>\n",
       "      <td>-0.058621</td>\n",
       "      <td>-0.444642</td>\n",
       "      <td>-0.518671</td>\n",
       "      <td>1.419117</td>\n",
       "      <td>-0.464603</td>\n",
       "      <td>0.933828</td>\n",
       "      <td>0.782483</td>\n",
       "      <td>1.846195</td>\n",
       "      <td>-0.078757</td>\n",
       "      <td>0.694397</td>\n",
       "      <td>0.733065</td>\n",
       "      <td>0.355435</td>\n",
       "      <td>-0.623319</td>\n",
       "      <td>-0.857858</td>\n",
       "      <td>0.326787</td>\n",
       "      <td>0.776109</td>\n",
       "      <td>-0.303768</td>\n",
       "      <td>0.219</td>\n",
       "      <td>-2.090260</td>\n",
       "      <td>1.284459</td>\n",
       "      <td>-1.024418</td>\n",
       "      <td>0.296045</td>\n",
       "      <td>-0.303257</td>\n",
       "      <td>2.913893</td>\n",
       "      <td>1.675735</td>\n",
       "      <td>-0.141879</td>\n",
       "      <td>-0.880154</td>\n",
       "      <td>0.248633</td>\n",
       "      <td>0.312609</td>\n",
       "      <td>1.786200</td>\n",
       "      <td>-0.801927</td>\n",
       "      <td>-0.097029</td>\n",
       "      <td>0.605762</td>\n",
       "      <td>-0.836008</td>\n",
       "      <td>-0.263813</td>\n",
       "      <td>0.776457</td>\n",
       "      <td>-0.727992</td>\n",
       "      <td>0.254952</td>\n",
       "      <td>-0.217895</td>\n",
       "      <td>-2.916451</td>\n",
       "      <td>0.337474</td>\n",
       "      <td>0.22482</td>\n",
       "      <td>0.651586</td>\n",
       "      <td>1.851054</td>\n",
       "      <td>-0.659455</td>\n",
       "      <td>-0.254816</td>\n",
       "      <td>0.359228</td>\n",
       "      <td>0.306719</td>\n",
       "      <td>0.216962</td>\n",
       "      <td>0.181711</td>\n",
       "      <td>0.281378</td>\n",
       "      <td>0.949978</td>\n",
       "      <td>1.580750</td>\n",
       "      <td>-0.341845</td>\n",
       "      <td>-0.082453</td>\n",
       "      <td>-0.258624</td>\n",
       "      <td>0.0</td>\n",
       "      <td>0.39727</td>\n",
       "      <td>-0.126021</td>\n",
       "      <td>-0.084077</td>\n",
       "      <td>0.863555</td>\n",
       "      <td>0.23029</td>\n",
       "      <td>0.148654</td>\n",
       "    </tr>\n",
       "    <tr>\n",
       "      <th>3</th>\n",
       "      <td>0.287963</td>\n",
       "      <td>-0.287006</td>\n",
       "      <td>0.429998</td>\n",
       "      <td>0.101809</td>\n",
       "      <td>0.083045</td>\n",
       "      <td>0.745474</td>\n",
       "      <td>-3.998799</td>\n",
       "      <td>-0.058621</td>\n",
       "      <td>0.598774</td>\n",
       "      <td>-0.226274</td>\n",
       "      <td>-1.114572</td>\n",
       "      <td>-0.028763</td>\n",
       "      <td>-0.058621</td>\n",
       "      <td>-0.444642</td>\n",
       "      <td>1.011146</td>\n",
       "      <td>0.680468</td>\n",
       "      <td>1.419621</td>\n",
       "      <td>-1.040191</td>\n",
       "      <td>-1.758454</td>\n",
       "      <td>-0.523427</td>\n",
       "      <td>-0.078757</td>\n",
       "      <td>-0.610950</td>\n",
       "      <td>-0.588262</td>\n",
       "      <td>0.355435</td>\n",
       "      <td>-0.623319</td>\n",
       "      <td>0.633181</td>\n",
       "      <td>0.326787</td>\n",
       "      <td>-0.518884</td>\n",
       "      <td>0.819019</td>\n",
       "      <td>0.219</td>\n",
       "      <td>0.602487</td>\n",
       "      <td>0.730453</td>\n",
       "      <td>-0.383129</td>\n",
       "      <td>0.296045</td>\n",
       "      <td>-0.303257</td>\n",
       "      <td>-0.312705</td>\n",
       "      <td>-0.799293</td>\n",
       "      <td>-0.141879</td>\n",
       "      <td>-0.880154</td>\n",
       "      <td>0.248633</td>\n",
       "      <td>0.312609</td>\n",
       "      <td>-0.747153</td>\n",
       "      <td>0.860208</td>\n",
       "      <td>-0.097029</td>\n",
       "      <td>0.169385</td>\n",
       "      <td>-0.836008</td>\n",
       "      <td>-0.263813</td>\n",
       "      <td>-1.051974</td>\n",
       "      <td>1.296518</td>\n",
       "      <td>0.254952</td>\n",
       "      <td>-0.217895</td>\n",
       "      <td>-1.692883</td>\n",
       "      <td>0.337474</td>\n",
       "      <td>0.22482</td>\n",
       "      <td>0.651586</td>\n",
       "      <td>-0.429570</td>\n",
       "      <td>-0.659455</td>\n",
       "      <td>0.964957</td>\n",
       "      <td>-0.968552</td>\n",
       "      <td>-1.061944</td>\n",
       "      <td>0.216962</td>\n",
       "      <td>0.181711</td>\n",
       "      <td>0.281378</td>\n",
       "      <td>-0.709979</td>\n",
       "      <td>-0.715738</td>\n",
       "      <td>-0.341845</td>\n",
       "      <td>-0.082453</td>\n",
       "      <td>-0.258624</td>\n",
       "      <td>0.0</td>\n",
       "      <td>0.39727</td>\n",
       "      <td>-0.126021</td>\n",
       "      <td>0.276960</td>\n",
       "      <td>0.863555</td>\n",
       "      <td>0.23029</td>\n",
       "      <td>0.148654</td>\n",
       "    </tr>\n",
       "    <tr>\n",
       "      <th>4</th>\n",
       "      <td>0.059160</td>\n",
       "      <td>-0.287006</td>\n",
       "      <td>0.981605</td>\n",
       "      <td>0.297033</td>\n",
       "      <td>0.083045</td>\n",
       "      <td>-1.402669</td>\n",
       "      <td>0.299297</td>\n",
       "      <td>-0.058621</td>\n",
       "      <td>-1.351136</td>\n",
       "      <td>-0.226274</td>\n",
       "      <td>1.387645</td>\n",
       "      <td>-1.228602</td>\n",
       "      <td>-0.058621</td>\n",
       "      <td>-0.444642</td>\n",
       "      <td>1.011146</td>\n",
       "      <td>-0.058181</td>\n",
       "      <td>-0.464603</td>\n",
       "      <td>1.131230</td>\n",
       "      <td>1.081417</td>\n",
       "      <td>-0.523427</td>\n",
       "      <td>-0.078757</td>\n",
       "      <td>0.694397</td>\n",
       "      <td>0.733065</td>\n",
       "      <td>1.952161</td>\n",
       "      <td>-0.199362</td>\n",
       "      <td>-0.857858</td>\n",
       "      <td>0.326787</td>\n",
       "      <td>0.776109</td>\n",
       "      <td>-0.303768</td>\n",
       "      <td>0.219</td>\n",
       "      <td>-0.295096</td>\n",
       "      <td>1.284459</td>\n",
       "      <td>-1.024418</td>\n",
       "      <td>0.296045</td>\n",
       "      <td>-0.303257</td>\n",
       "      <td>0.820504</td>\n",
       "      <td>-0.351004</td>\n",
       "      <td>-0.141879</td>\n",
       "      <td>-0.880154</td>\n",
       "      <td>0.248633</td>\n",
       "      <td>0.312609</td>\n",
       "      <td>-0.654336</td>\n",
       "      <td>1.651138</td>\n",
       "      <td>-0.097029</td>\n",
       "      <td>0.888238</td>\n",
       "      <td>-0.836008</td>\n",
       "      <td>-0.263813</td>\n",
       "      <td>0.776457</td>\n",
       "      <td>1.296518</td>\n",
       "      <td>1.495721</td>\n",
       "      <td>-0.217895</td>\n",
       "      <td>-0.469314</td>\n",
       "      <td>1.496798</td>\n",
       "      <td>0.22482</td>\n",
       "      <td>0.651586</td>\n",
       "      <td>-0.429570</td>\n",
       "      <td>0.497067</td>\n",
       "      <td>-1.474589</td>\n",
       "      <td>1.687009</td>\n",
       "      <td>1.000555</td>\n",
       "      <td>0.216962</td>\n",
       "      <td>0.181711</td>\n",
       "      <td>0.281378</td>\n",
       "      <td>0.111782</td>\n",
       "      <td>-0.441985</td>\n",
       "      <td>-0.341845</td>\n",
       "      <td>-0.082453</td>\n",
       "      <td>-0.258624</td>\n",
       "      <td>0.0</td>\n",
       "      <td>0.39727</td>\n",
       "      <td>-0.126021</td>\n",
       "      <td>-1.889261</td>\n",
       "      <td>0.106324</td>\n",
       "      <td>0.23029</td>\n",
       "      <td>0.148654</td>\n",
       "    </tr>\n",
       "  </tbody>\n",
       "</table>\n",
       "</div>"
      ],
      "text/plain": [
       "   MSSubClass  MSZoning  LotFrontage   LotArea    Street  LotShape  \\\n",
       "0   -0.856054 -0.287006     0.981605  0.263894  0.083045 -1.402669   \n",
       "1    1.431981 -0.287006     0.000000 -0.363030  0.083045 -1.402669   \n",
       "2   -0.856054 -0.287006     0.000000  0.089636  0.083045  0.745474   \n",
       "3    0.287963 -0.287006     0.429998  0.101809  0.083045  0.745474   \n",
       "4    0.059160 -0.287006     0.981605  0.297033  0.083045 -1.402669   \n",
       "\n",
       "   LandContour  Utilities  LotConfig  LandSlope  Neighborhood  Condition1  \\\n",
       "0    -2.566101  -0.058621  -2.001106  -0.226274      1.554460   -0.028763   \n",
       "1     0.299297  -0.058621  -1.351136  -0.226274      1.554460   -0.028763   \n",
       "2     0.299297  -0.058621   0.598774  -0.226274     -1.281387   -0.028763   \n",
       "3    -3.998799  -0.058621   0.598774  -0.226274     -1.114572   -0.028763   \n",
       "4     0.299297  -0.058621  -1.351136  -0.226274      1.387645   -1.228602   \n",
       "\n",
       "   Condition2  BldgType  HouseStyle  OverallQual  OverallCond  YearBuilt  \\\n",
       "0   -0.058621 -0.444642   -0.518671     2.157766    -0.464603   1.065430   \n",
       "1   -0.058621  2.722077   -0.518671     1.419117    -0.464603   0.374523   \n",
       "2   -0.058621 -0.444642   -0.518671     1.419117    -0.464603   0.933828   \n",
       "3   -0.058621 -0.444642    1.011146     0.680468     1.419621  -1.040191   \n",
       "4   -0.058621 -0.444642    1.011146    -0.058181    -0.464603   1.131230   \n",
       "\n",
       "   YearRemodAdd  RoofStyle  RoofMatl  Exterior1st  Exterior2nd  MasVnrType  \\\n",
       "0      1.031595   1.846195 -0.078757     0.694397     0.733065    1.952161   \n",
       "1     -0.064496  -0.523427 -0.078757    -1.046066    -1.248926    0.355435   \n",
       "2      0.782483   1.846195 -0.078757     0.694397     0.733065    0.355435   \n",
       "3     -1.758454  -0.523427 -0.078757    -0.610950    -0.588262    0.355435   \n",
       "4      1.081417  -0.523427 -0.078757     0.694397     0.733065    1.952161   \n",
       "\n",
       "   MasVnrArea  ExterQual  ExterCond  Foundation  BsmtQual  BsmtCond  \\\n",
       "0    0.522510  -0.857858   0.326787    0.776109 -2.549340     0.219   \n",
       "1   -0.623319  -0.857858   0.326787   -0.518884 -0.303768     0.219   \n",
       "2   -0.623319  -0.857858   0.326787    0.776109 -0.303768     0.219   \n",
       "3   -0.623319   0.633181   0.326787   -0.518884  0.819019     0.219   \n",
       "4   -0.199362  -0.857858   0.326787    0.776109 -0.303768     0.219   \n",
       "\n",
       "   BsmtExposure  BsmtFinType1  BsmtFinSF1  BsmtFinType2  BsmtFinSF2  \\\n",
       "0     -1.192678     -0.377559    1.888202      0.296045   -0.303257   \n",
       "1     -2.090260     -0.377559    1.391494      0.296045   -0.303257   \n",
       "2     -2.090260      1.284459   -1.024418      0.296045   -0.303257   \n",
       "3      0.602487      0.730453   -0.383129      0.296045   -0.303257   \n",
       "4     -0.295096      1.284459   -1.024418      0.296045   -0.303257   \n",
       "\n",
       "   BsmtUnfSF  TotalBsmtSF   Heating  HeatingQC  CentralAir  Electrical  \\\n",
       "0   0.281925     2.074477 -0.141879  -0.880154    0.248633    0.312609   \n",
       "1  -0.909772     0.418166 -0.141879   0.645098    0.248633    0.312609   \n",
       "2   2.913893     1.675735 -0.141879  -0.880154    0.248633    0.312609   \n",
       "3  -0.312705    -0.799293 -0.141879  -0.880154    0.248633    0.312609   \n",
       "4   0.820504    -0.351004 -0.141879  -0.880154    0.248633    0.312609   \n",
       "\n",
       "   1stFlrSF  2ndFlrSF  LowQualFinSF  GrLivArea  BsmtFullBath  BsmtHalfBath  \\\n",
       "0  2.152007 -0.801927     -0.097029   0.866809      1.132656     -0.263813   \n",
       "1  0.617800 -0.801927     -0.097029  -0.228029      1.132656     -0.263813   \n",
       "2  1.786200 -0.801927     -0.097029   0.605762     -0.836008     -0.263813   \n",
       "3 -0.747153  0.860208     -0.097029   0.169385     -0.836008     -0.263813   \n",
       "4 -0.654336  1.651138     -0.097029   0.888238     -0.836008     -0.263813   \n",
       "\n",
       "   FullBath  HalfBath  BedroomAbvGr  KitchenAbvGr  KitchenQual  TotRmsAbvGrd  \\\n",
       "0  0.776457 -0.727992      0.254952     -0.217895    -0.469314      0.917136   \n",
       "1 -1.051974 -0.727992     -2.226584     -0.217895    -0.469314     -1.401511   \n",
       "2  0.776457 -0.727992      0.254952     -0.217895    -2.916451      0.337474   \n",
       "3 -1.051974  1.296518      0.254952     -0.217895    -1.692883      0.337474   \n",
       "4  0.776457  1.296518      1.495721     -0.217895    -0.469314      1.496798   \n",
       "\n",
       "   Functional  Fireplaces  FireplaceQu  GarageType  GarageFinish  GarageCars  \\\n",
       "0     0.22482    0.651586    -0.429570   -0.659455     -1.474589    1.687009   \n",
       "1     0.22482    0.651586    -2.710193   -0.659455     -0.254816    0.359228   \n",
       "2     0.22482    0.651586     1.851054   -0.659455     -0.254816    0.359228   \n",
       "3     0.22482    0.651586    -0.429570   -0.659455      0.964957   -0.968552   \n",
       "4     0.22482    0.651586    -0.429570    0.497067     -1.474589    1.687009   \n",
       "\n",
       "   GarageArea  GarageQual  GarageCond  PavedDrive  WoodDeckSF  OpenPorchSF  \\\n",
       "0    1.038573    0.216962    0.181711    0.281378    0.752755     0.059897   \n",
       "1    0.511068    0.216962    0.181711    0.281378   -0.192269    -0.715738   \n",
       "2    0.306719    0.216962    0.181711    0.281378    0.949978     1.580750   \n",
       "3   -1.061944    0.216962    0.181711    0.281378   -0.709979    -0.715738   \n",
       "4    1.000555    0.216962    0.181711    0.281378    0.111782    -0.441985   \n",
       "\n",
       "   EnclosedPorch  3SsnPorch  ScreenPorch  PoolArea    Fence   MiscVal  \\\n",
       "0      -0.341845  -0.082453    -0.258624       0.0  0.39727 -0.126021   \n",
       "1      -0.341845  -0.082453    -0.258624       0.0  0.39727 -0.126021   \n",
       "2      -0.341845  -0.082453    -0.258624       0.0  0.39727 -0.126021   \n",
       "3      -0.341845  -0.082453    -0.258624       0.0  0.39727 -0.126021   \n",
       "4      -0.341845  -0.082453    -0.258624       0.0  0.39727 -0.126021   \n",
       "\n",
       "     MoSold    YrSold  SaleType  SaleCondition  \n",
       "0  0.276960 -0.650908   0.23029       0.148654  \n",
       "1  0.637997  0.863555  -6.49418      -3.323909  \n",
       "2 -0.084077  0.863555   0.23029       0.148654  \n",
       "3  0.276960  0.863555   0.23029       0.148654  \n",
       "4 -1.889261  0.106324   0.23029       0.148654  "
      ]
     },
     "execution_count": 189,
     "metadata": {},
     "output_type": "execute_result"
    }
   ],
   "source": [
    "df_test_scaled=pd.DataFrame(scaledata,columns=df_test.columns)\n",
    "df_test_scaled.head()"
   ]
  },
  {
   "cell_type": "code",
   "execution_count": 190,
   "id": "fbbca480",
   "metadata": {},
   "outputs": [],
   "source": [
    "df_test=df_test_scaled"
   ]
  },
  {
   "cell_type": "code",
   "execution_count": 192,
   "id": "c1a5162c",
   "metadata": {},
   "outputs": [],
   "source": [
    "prediction=rdm_xg.predict(df_test)"
   ]
  },
  {
   "cell_type": "code",
   "execution_count": null,
   "id": "6f40f43a",
   "metadata": {},
   "outputs": [],
   "source": []
  }
 ],
 "metadata": {
  "kernelspec": {
   "display_name": "Python 3",
   "language": "python",
   "name": "python3"
  },
  "language_info": {
   "codemirror_mode": {
    "name": "ipython",
    "version": 3
   },
   "file_extension": ".py",
   "mimetype": "text/x-python",
   "name": "python",
   "nbconvert_exporter": "python",
   "pygments_lexer": "ipython3",
   "version": "3.6.2"
  }
 },
 "nbformat": 4,
 "nbformat_minor": 5
}
