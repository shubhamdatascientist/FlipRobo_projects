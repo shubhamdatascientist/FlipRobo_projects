{
 "cells": [
  {
   "cell_type": "code",
   "execution_count": 1,
   "metadata": {},
   "outputs": [],
   "source": [
    "#importing all the required libraries\n",
    "import selenium\n",
    "import time\n",
    "import requests\n",
    "from bs4 import BeautifulSoup\n",
    "from selenium import webdriver\n",
    "from selenium.webdriver.common.by import By\n",
    "from selenium.webdriver.support.ui import WebDriverWait\n",
    "from selenium.webdriver.support import expected_conditions as EC\n",
    "import os\n",
    "import pandas as pd\n",
    "from selenium.common.exceptions import StaleElementReferenceException, NoSuchElementException,ElementNotInteractableException,InvalidArgumentException,InvalidCookieDomainException"
   ]
  },
  {
   "cell_type": "markdown",
   "metadata": {},
   "source": [
    "# 1. Scrape the details of most viewed videos on YouTube from Wikipedia: Url = https://en.wikipedia.org/wiki/List_of_most-viewed_YouTube_videos/"
   ]
  },
  {
   "cell_type": "code",
   "execution_count": 2,
   "metadata": {},
   "outputs": [],
   "source": [
    "#connecting to the webdriver\n",
    "driver = webdriver.Chrome(r\"C:\\Users\\sandeep\\Downloads\\chromedriver_win32\\chromedriver.exe\")"
   ]
  },
  {
   "cell_type": "code",
   "execution_count": 3,
   "metadata": {},
   "outputs": [],
   "source": [
    "#specifying the url of the webpage to be scraped\n",
    "url=\"https://en.wikipedia.org/wiki/List_of_most-viewed_YouTube_videos\""
   ]
  },
  {
   "cell_type": "code",
   "execution_count": 4,
   "metadata": {},
   "outputs": [],
   "source": [
    "#opening the webpage through our driver\n",
    "driver.get(url)"
   ]
  },
  {
   "cell_type": "code",
   "execution_count": 8,
   "metadata": {},
   "outputs": [],
   "source": [
    "#creating empty lists\n",
    "Rank=[]\n",
    "Name=[]\n",
    "Artist=[]\n",
    "Upload_date=[]\n",
    "Views=[]"
   ]
  },
  {
   "cell_type": "code",
   "execution_count": 9,
   "metadata": {},
   "outputs": [
    {
     "data": {
      "text/plain": [
       "[<selenium.webdriver.remote.webelement.WebElement (session=\"9b8ecb37588791fb73bd578b1d27cc1f\", element=\"d4cb0516-27e0-4f04-95bd-5c32ce4fad2a\")>,\n",
       " <selenium.webdriver.remote.webelement.WebElement (session=\"9b8ecb37588791fb73bd578b1d27cc1f\", element=\"66a73fb0-a0fb-4d72-869b-286e207aad19\")>,\n",
       " <selenium.webdriver.remote.webelement.WebElement (session=\"9b8ecb37588791fb73bd578b1d27cc1f\", element=\"1401d7ec-9f66-4fc7-ae7f-ee4448b02552\")>]"
      ]
     },
     "execution_count": 9,
     "metadata": {},
     "output_type": "execute_result"
    }
   ],
   "source": [
    "#finding all the rank tags\n",
    "rank=driver.find_elements_by_xpath('//*[@id=\"mw-content-text\"]/div[1]/table[1]/tbody/tr/td[1]')[0:30]\n",
    "rank[0:3]"
   ]
  },
  {
   "cell_type": "code",
   "execution_count": 10,
   "metadata": {},
   "outputs": [
    {
     "data": {
      "text/plain": [
       "['1.',\n",
       " '2.',\n",
       " '3.',\n",
       " '4.',\n",
       " '5.',\n",
       " '6.',\n",
       " '7.',\n",
       " '8.',\n",
       " '9.',\n",
       " '10.',\n",
       " '11.',\n",
       " '12.',\n",
       " '13.',\n",
       " '14.',\n",
       " '15.',\n",
       " '16.',\n",
       " '17.',\n",
       " '18.',\n",
       " '19.',\n",
       " '20.',\n",
       " '21.',\n",
       " '22.',\n",
       " '23.',\n",
       " '24.',\n",
       " '25.',\n",
       " '26.',\n",
       " '27.',\n",
       " '28.',\n",
       " '29.',\n",
       " '30.']"
      ]
     },
     "execution_count": 10,
     "metadata": {},
     "output_type": "execute_result"
    }
   ],
   "source": [
    "#scraping rank from rank tags\n",
    "for i in rank:\n",
    "    ranks=i.text.replace(\"\\n\",\" \")\n",
    "    Rank.append(ranks)\n",
    "Rank"
   ]
  },
  {
   "cell_type": "code",
   "execution_count": 11,
   "metadata": {},
   "outputs": [
    {
     "data": {
      "text/plain": [
       "[<selenium.webdriver.remote.webelement.WebElement (session=\"9b8ecb37588791fb73bd578b1d27cc1f\", element=\"59d66022-a306-4725-9dd8-26a037d0d784\")>,\n",
       " <selenium.webdriver.remote.webelement.WebElement (session=\"9b8ecb37588791fb73bd578b1d27cc1f\", element=\"229b0003-aee7-4890-8253-8b895c8dd6d1\")>,\n",
       " <selenium.webdriver.remote.webelement.WebElement (session=\"9b8ecb37588791fb73bd578b1d27cc1f\", element=\"8c7fbd5b-93a1-4783-80e6-ab5d2c7e59d4\")>]"
      ]
     },
     "execution_count": 11,
     "metadata": {},
     "output_type": "execute_result"
    }
   ],
   "source": [
    "#finding all the date tags\n",
    "date=driver.find_elements_by_xpath(\"//td[@align='right']\")[0:30]\n",
    "date[0:3]"
   ]
  },
  {
   "cell_type": "code",
   "execution_count": 12,
   "metadata": {},
   "outputs": [
    {
     "data": {
      "text/plain": [
       "['June 17, 2016',\n",
       " 'January 12, 2017',\n",
       " 'January 30, 2017',\n",
       " 'April 6, 2015',\n",
       " 'October 8, 2016',\n",
       " 'January 31, 2012',\n",
       " 'November 19, 2014',\n",
       " 'July 15, 2012',\n",
       " 'February 27, 2018',\n",
       " 'May 2, 2018',\n",
       " 'March 6, 2014',\n",
       " 'October 22, 2015',\n",
       " 'January 14, 2015',\n",
       " 'September 5, 2013',\n",
       " 'May 31, 2013',\n",
       " 'October 7, 2014',\n",
       " 'April 5, 2018',\n",
       " 'August 18, 2014',\n",
       " 'December 3, 2015',\n",
       " 'March 22, 2015',\n",
       " 'April 11, 2014',\n",
       " 'February 20, 2014',\n",
       " 'May 31, 2018',\n",
       " 'July 25, 2012',\n",
       " 'June 29, 2017',\n",
       " 'October 22, 2015',\n",
       " 'November 9, 2017',\n",
       " 'June 4, 2010',\n",
       " 'November 10, 2014',\n",
       " 'November 18, 2016']"
      ]
     },
     "execution_count": 12,
     "metadata": {},
     "output_type": "execute_result"
    }
   ],
   "source": [
    "#scraping date from date tags\n",
    "for i in date:\n",
    "    dates=i.text.replace(\"\\n\",\" \")\n",
    "    Upload_date.append(dates)\n",
    "Upload_date"
   ]
  },
  {
   "cell_type": "code",
   "execution_count": 13,
   "metadata": {},
   "outputs": [
    {
     "data": {
      "text/plain": [
       "[<selenium.webdriver.remote.webelement.WebElement (session=\"9b8ecb37588791fb73bd578b1d27cc1f\", element=\"21e995fc-079a-483d-a96c-4a6448cefbfb\")>,\n",
       " <selenium.webdriver.remote.webelement.WebElement (session=\"9b8ecb37588791fb73bd578b1d27cc1f\", element=\"28436340-a3ae-49be-b42f-70f97cf54c92\")>,\n",
       " <selenium.webdriver.remote.webelement.WebElement (session=\"9b8ecb37588791fb73bd578b1d27cc1f\", element=\"e01eff04-9f24-42e9-8376-42ad5d846fb2\")>]"
      ]
     },
     "execution_count": 13,
     "metadata": {},
     "output_type": "execute_result"
    }
   ],
   "source": [
    "#finding all the artist tag\n",
    "artist=driver.find_elements_by_xpath(\"//div[@id='mw-content-text']/div[1]/table[1]/tbody/tr/td[3]\")[0:30]\n",
    "artist[0:3]"
   ]
  },
  {
   "cell_type": "code",
   "execution_count": 14,
   "metadata": {},
   "outputs": [
    {
     "data": {
      "text/plain": [
       "[\"Pinkfong Kids' Songs & Stories\",\n",
       " 'Luis Fonsi featuring Daddy Yankee',\n",
       " 'Ed Sheeran',\n",
       " 'Wiz Khalifa featuring Charlie Puth',\n",
       " 'LooLoo Kids',\n",
       " 'Get Movies',\n",
       " 'Mark Ronson featuring Bruno Mars',\n",
       " 'Psy',\n",
       " 'Miroshka TV',\n",
       " 'Cocomelon – Nursery Rhymes',\n",
       " 'ChuChu TV',\n",
       " 'Justin Bieber',\n",
       " 'Maroon 5',\n",
       " 'Katy Perry',\n",
       " 'OneRepublic',\n",
       " 'Ed Sheeran',\n",
       " 'El Chombo featuring Cutty Ranks',\n",
       " 'Taylor Swift',\n",
       " 'Alan Walker',\n",
       " 'Major Lazer and DJ Snake featuring MØ',\n",
       " 'Enrique Iglesias featuring Descemer Bueno and Gente De Zona',\n",
       " 'Katy Perry featuring Juicy J',\n",
       " 'Maroon 5 featuring Cardi B',\n",
       " 'Passenger',\n",
       " 'J Balvin and Willy William',\n",
       " 'Adele',\n",
       " 'Ed Sheeran',\n",
       " 'Shakira featuring Freshlyground',\n",
       " 'Taylor Swift',\n",
       " 'Shakira featuring Maluma']"
      ]
     },
     "execution_count": 14,
     "metadata": {},
     "output_type": "execute_result"
    }
   ],
   "source": [
    "#scraping artist from artist tags\n",
    "Artist=[]\n",
    "for i in artist:\n",
    "    artists=i.text.replace(\"\\n\",\" \")\n",
    "    Artist.append(artists)\n",
    "Artist"
   ]
  },
  {
   "cell_type": "code",
   "execution_count": 15,
   "metadata": {},
   "outputs": [
    {
     "data": {
      "text/plain": [
       "[<selenium.webdriver.remote.webelement.WebElement (session=\"9b8ecb37588791fb73bd578b1d27cc1f\", element=\"71d16de4-b1d9-4db6-974c-3811dcd8a380\")>,\n",
       " <selenium.webdriver.remote.webelement.WebElement (session=\"9b8ecb37588791fb73bd578b1d27cc1f\", element=\"9de648e9-b7a1-4830-bb9e-c9f1378a2c15\")>,\n",
       " <selenium.webdriver.remote.webelement.WebElement (session=\"9b8ecb37588791fb73bd578b1d27cc1f\", element=\"f0f25633-4b9c-4edd-9729-7b1788b662ae\")>]"
      ]
     },
     "execution_count": 15,
     "metadata": {},
     "output_type": "execute_result"
    }
   ],
   "source": [
    "#finding all the name tag\n",
    "name=driver.find_elements_by_xpath(\"//div[@id='mw-content-text']/div[1]/table[1]/tbody/tr/td[2]\")[0:30]\n",
    "name[0:3]"
   ]
  },
  {
   "cell_type": "code",
   "execution_count": 16,
   "metadata": {},
   "outputs": [
    {
     "data": {
      "text/plain": [
       "['\"Baby Shark Dance\"[28]',\n",
       " '\"Despacito\"[30]',\n",
       " '\"Shape of You\"[31]',\n",
       " '\"See You Again\"[32]',\n",
       " '\"Johny Johny Yes Papa\"[35]',\n",
       " '\"Masha and the Bear – Recipe for Disaster\"[36]',\n",
       " '\"Uptown Funk\"[37]',\n",
       " '\"Gangnam Style\"[38]',\n",
       " '\"Learning Colors – Colorful Eggs on a Farm\"[40]',\n",
       " '\"Bath Song\"[41]',\n",
       " '\"Phonics Song with Two Words\"[42]',\n",
       " '\"Sorry\"[43]',\n",
       " '\"Sugar\"[44]',\n",
       " '\"Roar\"[45]',\n",
       " '\"Counting Stars\"[46]',\n",
       " '\"Thinking Out Loud\"[47]',\n",
       " '\"Dame Tu Cosita\"[48]',\n",
       " '\"Shake It Off\"[49]',\n",
       " '\"Faded\"[50]',\n",
       " '\"Lean On\"[51]',\n",
       " '\"Bailando\"[52]',\n",
       " '\"Dark Horse\"[53]',\n",
       " '\"Girls Like You\"[54]',\n",
       " '\"Let Her Go\"[55]',\n",
       " '\"Mi Gente\"[56]',\n",
       " '\"Hello\"[57]',\n",
       " '\"Perfect\"[58]',\n",
       " '\"Waka Waka (This Time for Africa)\"[59]',\n",
       " '\"Blank Space\"[60]',\n",
       " '\"Chantaje\"[61]']"
      ]
     },
     "execution_count": 16,
     "metadata": {},
     "output_type": "execute_result"
    }
   ],
   "source": [
    "#scraping name from name tags\n",
    "video_name=[]\n",
    "for i in name:\n",
    "    names=i.text.replace(\"\\n\",\" \")\n",
    "    video_name.append(names)\n",
    "video_name"
   ]
  },
  {
   "cell_type": "code",
   "execution_count": 17,
   "metadata": {},
   "outputs": [
    {
     "data": {
      "text/plain": [
       "[<selenium.webdriver.remote.webelement.WebElement (session=\"9b8ecb37588791fb73bd578b1d27cc1f\", element=\"ba062c49-e57c-44e1-88d5-94a2146461e6\")>,\n",
       " <selenium.webdriver.remote.webelement.WebElement (session=\"9b8ecb37588791fb73bd578b1d27cc1f\", element=\"5c98c5a3-d9f2-4ef4-8106-9cd968d6e360\")>,\n",
       " <selenium.webdriver.remote.webelement.WebElement (session=\"9b8ecb37588791fb73bd578b1d27cc1f\", element=\"12116281-d9eb-4092-ab01-c69f6032e0c3\")>]"
      ]
     },
     "execution_count": 17,
     "metadata": {},
     "output_type": "execute_result"
    }
   ],
   "source": [
    "#finding all the views tag\n",
    "view=driver.find_elements_by_xpath('//*[@id=\"mw-content-text\"]/div[1]/table[1]/tbody/tr/td[4]')[0:30]\n",
    "view[0:3]"
   ]
  },
  {
   "cell_type": "code",
   "execution_count": 18,
   "metadata": {},
   "outputs": [
    {
     "data": {
      "text/plain": [
       "['7.91',\n",
       " '7.20',\n",
       " '5.18',\n",
       " '4.96',\n",
       " '4.77',\n",
       " '4.41',\n",
       " '4.09',\n",
       " '3.97',\n",
       " '3.69',\n",
       " '3.64',\n",
       " '3.53',\n",
       " '3.40',\n",
       " '3.39',\n",
       " '3.27',\n",
       " '3.19',\n",
       " '3.18',\n",
       " '3.11',\n",
       " '3.02',\n",
       " '2.98',\n",
       " '2.97',\n",
       " '2.97',\n",
       " '2.97',\n",
       " '2.96',\n",
       " '2.91',\n",
       " '2.86',\n",
       " '2.79',\n",
       " '2.74',\n",
       " '2.74',\n",
       " '2.72',\n",
       " '2.62']"
      ]
     },
     "execution_count": 18,
     "metadata": {},
     "output_type": "execute_result"
    }
   ],
   "source": [
    "#scraping views tags\n",
    "for i in view:\n",
    "    views=i.text.replace(\"\\n\",\" \")\n",
    "    Views.append(views)\n",
    "Views"
   ]
  },
  {
   "cell_type": "code",
   "execution_count": 19,
   "metadata": {},
   "outputs": [
    {
     "name": "stdout",
     "output_type": "stream",
     "text": [
      "30 30 30 30 30\n"
     ]
    }
   ],
   "source": [
    "#printing lengths\n",
    "print(len(Rank),len(video_name),len(Artist),len(Upload_date),len(Views))"
   ]
  },
  {
   "cell_type": "code",
   "execution_count": 20,
   "metadata": {},
   "outputs": [],
   "source": [
    "#creating a dataframe\n",
    "Youtube=pd.DataFrame({})\n",
    "Youtube['Rank']=Rank\n",
    "Youtube['video_name']=video_name\n",
    "Youtube['Artist']=Artist\n",
    "Youtube['Upload_date']=Upload_date\n",
    "Youtube['Views']=Views"
   ]
  },
  {
   "cell_type": "code",
   "execution_count": 21,
   "metadata": {},
   "outputs": [
    {
     "data": {
      "text/html": [
       "<div>\n",
       "<style scoped>\n",
       "    .dataframe tbody tr th:only-of-type {\n",
       "        vertical-align: middle;\n",
       "    }\n",
       "\n",
       "    .dataframe tbody tr th {\n",
       "        vertical-align: top;\n",
       "    }\n",
       "\n",
       "    .dataframe thead th {\n",
       "        text-align: right;\n",
       "    }\n",
       "</style>\n",
       "<table border=\"1\" class=\"dataframe\">\n",
       "  <thead>\n",
       "    <tr style=\"text-align: right;\">\n",
       "      <th></th>\n",
       "      <th>Rank</th>\n",
       "      <th>video_name</th>\n",
       "      <th>Artist</th>\n",
       "      <th>Upload_date</th>\n",
       "      <th>Views</th>\n",
       "    </tr>\n",
       "  </thead>\n",
       "  <tbody>\n",
       "    <tr>\n",
       "      <th>0</th>\n",
       "      <td>1.</td>\n",
       "      <td>\"Baby Shark Dance\"[28]</td>\n",
       "      <td>Pinkfong Kids' Songs &amp; Stories</td>\n",
       "      <td>June 17, 2016</td>\n",
       "      <td>7.91</td>\n",
       "    </tr>\n",
       "    <tr>\n",
       "      <th>1</th>\n",
       "      <td>2.</td>\n",
       "      <td>\"Despacito\"[30]</td>\n",
       "      <td>Luis Fonsi featuring Daddy Yankee</td>\n",
       "      <td>January 12, 2017</td>\n",
       "      <td>7.20</td>\n",
       "    </tr>\n",
       "    <tr>\n",
       "      <th>2</th>\n",
       "      <td>3.</td>\n",
       "      <td>\"Shape of You\"[31]</td>\n",
       "      <td>Ed Sheeran</td>\n",
       "      <td>January 30, 2017</td>\n",
       "      <td>5.18</td>\n",
       "    </tr>\n",
       "    <tr>\n",
       "      <th>3</th>\n",
       "      <td>4.</td>\n",
       "      <td>\"See You Again\"[32]</td>\n",
       "      <td>Wiz Khalifa featuring Charlie Puth</td>\n",
       "      <td>April 6, 2015</td>\n",
       "      <td>4.96</td>\n",
       "    </tr>\n",
       "    <tr>\n",
       "      <th>4</th>\n",
       "      <td>5.</td>\n",
       "      <td>\"Johny Johny Yes Papa\"[35]</td>\n",
       "      <td>LooLoo Kids</td>\n",
       "      <td>October 8, 2016</td>\n",
       "      <td>4.77</td>\n",
       "    </tr>\n",
       "    <tr>\n",
       "      <th>5</th>\n",
       "      <td>6.</td>\n",
       "      <td>\"Masha and the Bear – Recipe for Disaster\"[36]</td>\n",
       "      <td>Get Movies</td>\n",
       "      <td>January 31, 2012</td>\n",
       "      <td>4.41</td>\n",
       "    </tr>\n",
       "    <tr>\n",
       "      <th>6</th>\n",
       "      <td>7.</td>\n",
       "      <td>\"Uptown Funk\"[37]</td>\n",
       "      <td>Mark Ronson featuring Bruno Mars</td>\n",
       "      <td>November 19, 2014</td>\n",
       "      <td>4.09</td>\n",
       "    </tr>\n",
       "    <tr>\n",
       "      <th>7</th>\n",
       "      <td>8.</td>\n",
       "      <td>\"Gangnam Style\"[38]</td>\n",
       "      <td>Psy</td>\n",
       "      <td>July 15, 2012</td>\n",
       "      <td>3.97</td>\n",
       "    </tr>\n",
       "    <tr>\n",
       "      <th>8</th>\n",
       "      <td>9.</td>\n",
       "      <td>\"Learning Colors – Colorful Eggs on a Farm\"[40]</td>\n",
       "      <td>Miroshka TV</td>\n",
       "      <td>February 27, 2018</td>\n",
       "      <td>3.69</td>\n",
       "    </tr>\n",
       "    <tr>\n",
       "      <th>9</th>\n",
       "      <td>10.</td>\n",
       "      <td>\"Bath Song\"[41]</td>\n",
       "      <td>Cocomelon – Nursery Rhymes</td>\n",
       "      <td>May 2, 2018</td>\n",
       "      <td>3.64</td>\n",
       "    </tr>\n",
       "    <tr>\n",
       "      <th>10</th>\n",
       "      <td>11.</td>\n",
       "      <td>\"Phonics Song with Two Words\"[42]</td>\n",
       "      <td>ChuChu TV</td>\n",
       "      <td>March 6, 2014</td>\n",
       "      <td>3.53</td>\n",
       "    </tr>\n",
       "    <tr>\n",
       "      <th>11</th>\n",
       "      <td>12.</td>\n",
       "      <td>\"Sorry\"[43]</td>\n",
       "      <td>Justin Bieber</td>\n",
       "      <td>October 22, 2015</td>\n",
       "      <td>3.40</td>\n",
       "    </tr>\n",
       "    <tr>\n",
       "      <th>12</th>\n",
       "      <td>13.</td>\n",
       "      <td>\"Sugar\"[44]</td>\n",
       "      <td>Maroon 5</td>\n",
       "      <td>January 14, 2015</td>\n",
       "      <td>3.39</td>\n",
       "    </tr>\n",
       "    <tr>\n",
       "      <th>13</th>\n",
       "      <td>14.</td>\n",
       "      <td>\"Roar\"[45]</td>\n",
       "      <td>Katy Perry</td>\n",
       "      <td>September 5, 2013</td>\n",
       "      <td>3.27</td>\n",
       "    </tr>\n",
       "    <tr>\n",
       "      <th>14</th>\n",
       "      <td>15.</td>\n",
       "      <td>\"Counting Stars\"[46]</td>\n",
       "      <td>OneRepublic</td>\n",
       "      <td>May 31, 2013</td>\n",
       "      <td>3.19</td>\n",
       "    </tr>\n",
       "    <tr>\n",
       "      <th>15</th>\n",
       "      <td>16.</td>\n",
       "      <td>\"Thinking Out Loud\"[47]</td>\n",
       "      <td>Ed Sheeran</td>\n",
       "      <td>October 7, 2014</td>\n",
       "      <td>3.18</td>\n",
       "    </tr>\n",
       "    <tr>\n",
       "      <th>16</th>\n",
       "      <td>17.</td>\n",
       "      <td>\"Dame Tu Cosita\"[48]</td>\n",
       "      <td>El Chombo featuring Cutty Ranks</td>\n",
       "      <td>April 5, 2018</td>\n",
       "      <td>3.11</td>\n",
       "    </tr>\n",
       "    <tr>\n",
       "      <th>17</th>\n",
       "      <td>18.</td>\n",
       "      <td>\"Shake It Off\"[49]</td>\n",
       "      <td>Taylor Swift</td>\n",
       "      <td>August 18, 2014</td>\n",
       "      <td>3.02</td>\n",
       "    </tr>\n",
       "    <tr>\n",
       "      <th>18</th>\n",
       "      <td>19.</td>\n",
       "      <td>\"Faded\"[50]</td>\n",
       "      <td>Alan Walker</td>\n",
       "      <td>December 3, 2015</td>\n",
       "      <td>2.98</td>\n",
       "    </tr>\n",
       "    <tr>\n",
       "      <th>19</th>\n",
       "      <td>20.</td>\n",
       "      <td>\"Lean On\"[51]</td>\n",
       "      <td>Major Lazer and DJ Snake featuring MØ</td>\n",
       "      <td>March 22, 2015</td>\n",
       "      <td>2.97</td>\n",
       "    </tr>\n",
       "    <tr>\n",
       "      <th>20</th>\n",
       "      <td>21.</td>\n",
       "      <td>\"Bailando\"[52]</td>\n",
       "      <td>Enrique Iglesias featuring Descemer Bueno and ...</td>\n",
       "      <td>April 11, 2014</td>\n",
       "      <td>2.97</td>\n",
       "    </tr>\n",
       "    <tr>\n",
       "      <th>21</th>\n",
       "      <td>22.</td>\n",
       "      <td>\"Dark Horse\"[53]</td>\n",
       "      <td>Katy Perry featuring Juicy J</td>\n",
       "      <td>February 20, 2014</td>\n",
       "      <td>2.97</td>\n",
       "    </tr>\n",
       "    <tr>\n",
       "      <th>22</th>\n",
       "      <td>23.</td>\n",
       "      <td>\"Girls Like You\"[54]</td>\n",
       "      <td>Maroon 5 featuring Cardi B</td>\n",
       "      <td>May 31, 2018</td>\n",
       "      <td>2.96</td>\n",
       "    </tr>\n",
       "    <tr>\n",
       "      <th>23</th>\n",
       "      <td>24.</td>\n",
       "      <td>\"Let Her Go\"[55]</td>\n",
       "      <td>Passenger</td>\n",
       "      <td>July 25, 2012</td>\n",
       "      <td>2.91</td>\n",
       "    </tr>\n",
       "    <tr>\n",
       "      <th>24</th>\n",
       "      <td>25.</td>\n",
       "      <td>\"Mi Gente\"[56]</td>\n",
       "      <td>J Balvin and Willy William</td>\n",
       "      <td>June 29, 2017</td>\n",
       "      <td>2.86</td>\n",
       "    </tr>\n",
       "    <tr>\n",
       "      <th>25</th>\n",
       "      <td>26.</td>\n",
       "      <td>\"Hello\"[57]</td>\n",
       "      <td>Adele</td>\n",
       "      <td>October 22, 2015</td>\n",
       "      <td>2.79</td>\n",
       "    </tr>\n",
       "    <tr>\n",
       "      <th>26</th>\n",
       "      <td>27.</td>\n",
       "      <td>\"Perfect\"[58]</td>\n",
       "      <td>Ed Sheeran</td>\n",
       "      <td>November 9, 2017</td>\n",
       "      <td>2.74</td>\n",
       "    </tr>\n",
       "    <tr>\n",
       "      <th>27</th>\n",
       "      <td>28.</td>\n",
       "      <td>\"Waka Waka (This Time for Africa)\"[59]</td>\n",
       "      <td>Shakira featuring Freshlyground</td>\n",
       "      <td>June 4, 2010</td>\n",
       "      <td>2.74</td>\n",
       "    </tr>\n",
       "    <tr>\n",
       "      <th>28</th>\n",
       "      <td>29.</td>\n",
       "      <td>\"Blank Space\"[60]</td>\n",
       "      <td>Taylor Swift</td>\n",
       "      <td>November 10, 2014</td>\n",
       "      <td>2.72</td>\n",
       "    </tr>\n",
       "    <tr>\n",
       "      <th>29</th>\n",
       "      <td>30.</td>\n",
       "      <td>\"Chantaje\"[61]</td>\n",
       "      <td>Shakira featuring Maluma</td>\n",
       "      <td>November 18, 2016</td>\n",
       "      <td>2.62</td>\n",
       "    </tr>\n",
       "  </tbody>\n",
       "</table>\n",
       "</div>"
      ],
      "text/plain": [
       "   Rank                                       video_name  \\\n",
       "0    1.                           \"Baby Shark Dance\"[28]   \n",
       "1    2.                                  \"Despacito\"[30]   \n",
       "2    3.                               \"Shape of You\"[31]   \n",
       "3    4.                              \"See You Again\"[32]   \n",
       "4    5.                       \"Johny Johny Yes Papa\"[35]   \n",
       "5    6.   \"Masha and the Bear – Recipe for Disaster\"[36]   \n",
       "6    7.                                \"Uptown Funk\"[37]   \n",
       "7    8.                              \"Gangnam Style\"[38]   \n",
       "8    9.  \"Learning Colors – Colorful Eggs on a Farm\"[40]   \n",
       "9   10.                                  \"Bath Song\"[41]   \n",
       "10  11.                \"Phonics Song with Two Words\"[42]   \n",
       "11  12.                                      \"Sorry\"[43]   \n",
       "12  13.                                      \"Sugar\"[44]   \n",
       "13  14.                                       \"Roar\"[45]   \n",
       "14  15.                             \"Counting Stars\"[46]   \n",
       "15  16.                          \"Thinking Out Loud\"[47]   \n",
       "16  17.                             \"Dame Tu Cosita\"[48]   \n",
       "17  18.                               \"Shake It Off\"[49]   \n",
       "18  19.                                      \"Faded\"[50]   \n",
       "19  20.                                    \"Lean On\"[51]   \n",
       "20  21.                                   \"Bailando\"[52]   \n",
       "21  22.                                 \"Dark Horse\"[53]   \n",
       "22  23.                             \"Girls Like You\"[54]   \n",
       "23  24.                                 \"Let Her Go\"[55]   \n",
       "24  25.                                   \"Mi Gente\"[56]   \n",
       "25  26.                                      \"Hello\"[57]   \n",
       "26  27.                                    \"Perfect\"[58]   \n",
       "27  28.           \"Waka Waka (This Time for Africa)\"[59]   \n",
       "28  29.                                \"Blank Space\"[60]   \n",
       "29  30.                                   \"Chantaje\"[61]   \n",
       "\n",
       "                                               Artist        Upload_date Views  \n",
       "0                      Pinkfong Kids' Songs & Stories      June 17, 2016  7.91  \n",
       "1                   Luis Fonsi featuring Daddy Yankee   January 12, 2017  7.20  \n",
       "2                                          Ed Sheeran   January 30, 2017  5.18  \n",
       "3                  Wiz Khalifa featuring Charlie Puth      April 6, 2015  4.96  \n",
       "4                                         LooLoo Kids    October 8, 2016  4.77  \n",
       "5                                          Get Movies   January 31, 2012  4.41  \n",
       "6                    Mark Ronson featuring Bruno Mars  November 19, 2014  4.09  \n",
       "7                                                 Psy      July 15, 2012  3.97  \n",
       "8                                         Miroshka TV  February 27, 2018  3.69  \n",
       "9                          Cocomelon – Nursery Rhymes        May 2, 2018  3.64  \n",
       "10                                          ChuChu TV      March 6, 2014  3.53  \n",
       "11                                      Justin Bieber   October 22, 2015  3.40  \n",
       "12                                           Maroon 5   January 14, 2015  3.39  \n",
       "13                                         Katy Perry  September 5, 2013  3.27  \n",
       "14                                        OneRepublic       May 31, 2013  3.19  \n",
       "15                                         Ed Sheeran    October 7, 2014  3.18  \n",
       "16                    El Chombo featuring Cutty Ranks      April 5, 2018  3.11  \n",
       "17                                       Taylor Swift    August 18, 2014  3.02  \n",
       "18                                        Alan Walker   December 3, 2015  2.98  \n",
       "19              Major Lazer and DJ Snake featuring MØ     March 22, 2015  2.97  \n",
       "20  Enrique Iglesias featuring Descemer Bueno and ...     April 11, 2014  2.97  \n",
       "21                       Katy Perry featuring Juicy J  February 20, 2014  2.97  \n",
       "22                         Maroon 5 featuring Cardi B       May 31, 2018  2.96  \n",
       "23                                          Passenger      July 25, 2012  2.91  \n",
       "24                         J Balvin and Willy William      June 29, 2017  2.86  \n",
       "25                                              Adele   October 22, 2015  2.79  \n",
       "26                                         Ed Sheeran   November 9, 2017  2.74  \n",
       "27                    Shakira featuring Freshlyground       June 4, 2010  2.74  \n",
       "28                                       Taylor Swift  November 10, 2014  2.72  \n",
       "29                           Shakira featuring Maluma  November 18, 2016  2.62  "
      ]
     },
     "execution_count": 21,
     "metadata": {},
     "output_type": "execute_result"
    }
   ],
   "source": [
    "Youtube"
   ]
  },
  {
   "cell_type": "code",
   "execution_count": 22,
   "metadata": {},
   "outputs": [],
   "source": [
    "#converting into csv format\n",
    "Youtube.to_csv(\"Youtube.csv\")"
   ]
  },
  {
   "cell_type": "code",
   "execution_count": 23,
   "metadata": {},
   "outputs": [],
   "source": [
    "#closing the driver\n",
    "driver.close()"
   ]
  },
  {
   "cell_type": "markdown",
   "metadata": {},
   "source": [
    "# 2. Scrape the details team India’s international fixtures from bcci.tv.Url = https://www.bcci.tv/."
   ]
  },
  {
   "cell_type": "code",
   "execution_count": 24,
   "metadata": {},
   "outputs": [],
   "source": [
    "#connecting to the webdriver\n",
    "driver webdriver.Chrome(r\"C:\\Users\\sandeep\\Downloads\\chromedriver_win32\\chromedriver.exe\")"
   ]
  },
  {
   "cell_type": "code",
   "execution_count": 25,
   "metadata": {},
   "outputs": [],
   "source": [
    "#specifying the url of the webpage to be scraped\n",
    "url=\"https://www.bcci.tv/\""
   ]
  },
  {
   "cell_type": "code",
   "execution_count": 26,
   "metadata": {},
   "outputs": [],
   "source": [
    "#opening the webpage through our driver\n",
    "driver.get(url)"
   ]
  },
  {
   "cell_type": "code",
   "execution_count": 27,
   "metadata": {},
   "outputs": [],
   "source": [
    "#clicking on international and fixtures\n",
    "WebDriverWait(driver, 10).until(EC.element_to_be_clickable((By.XPATH, '/html/body/div[3]/div/div[2]/div[2]/nav/ul/li[1]/div[2]'))).click()\n",
    "WebDriverWait(driver, 10).until(EC.element_to_be_clickable((By.XPATH, '/html/body/div[3]/div/div[2]/div[2]/nav/ul/li[1]/div[2]/div/ul/li[1]/a'))).click()"
   ]
  },
  {
   "cell_type": "code",
   "execution_count": 28,
   "metadata": {},
   "outputs": [],
   "source": [
    "#creating empty lists\n",
    "Match_title=[]\n",
    "Series=[]\n",
    "Place=[]\n",
    "Date=[]\n",
    "Time=[]"
   ]
  },
  {
   "cell_type": "code",
   "execution_count": 29,
   "metadata": {},
   "outputs": [
    {
     "data": {
      "text/plain": [
       "[<selenium.webdriver.remote.webelement.WebElement (session=\"c6e67a4fec29058e09c729213a8460cf\", element=\"b8401bea-91b9-4d77-a17f-6c7264176b43\")>,\n",
       " <selenium.webdriver.remote.webelement.WebElement (session=\"c6e67a4fec29058e09c729213a8460cf\", element=\"a9a5341a-270d-4ed0-aa23-dbc8abaf21ad\")>,\n",
       " <selenium.webdriver.remote.webelement.WebElement (session=\"c6e67a4fec29058e09c729213a8460cf\", element=\"495889ee-924a-4601-bf17-f8a2fafa851a\")>]"
      ]
     },
     "execution_count": 29,
     "metadata": {},
     "output_type": "execute_result"
    }
   ],
   "source": [
    "#finding all the match title tags\n",
    "match=driver.find_elements_by_xpath(\"//strong[@class='fixture__name fixture__name--with-margin']\")\n",
    "match[0:3]"
   ]
  },
  {
   "cell_type": "code",
   "execution_count": 30,
   "metadata": {},
   "outputs": [
    {
     "data": {
      "text/plain": [
       "['2nd Test',\n",
       " '3rd Test',\n",
       " '4th Test',\n",
       " '1st T20I',\n",
       " '2nd T20I',\n",
       " '3rd T20I',\n",
       " '4th T20I',\n",
       " '5th T20I',\n",
       " '1st ODI',\n",
       " '2nd ODI',\n",
       " '3rd ODI',\n",
       " '1st Test',\n",
       " '2nd Test',\n",
       " '3rd Test',\n",
       " '4th Test',\n",
       " '5th Test']"
      ]
     },
     "execution_count": 30,
     "metadata": {},
     "output_type": "execute_result"
    }
   ],
   "source": [
    "#scraping match title from match tags\n",
    "for i in match:\n",
    "    matches=i.text.replace(\"\\n\",\" \")\n",
    "    Match_title.append(matches)\n",
    "Match_title"
   ]
  },
  {
   "cell_type": "code",
   "execution_count": 31,
   "metadata": {},
   "outputs": [
    {
     "data": {
      "text/plain": [
       "[<selenium.webdriver.remote.webelement.WebElement (session=\"c6e67a4fec29058e09c729213a8460cf\", element=\"c8f301d1-0f75-4255-9045-032580517223\")>,\n",
       " <selenium.webdriver.remote.webelement.WebElement (session=\"c6e67a4fec29058e09c729213a8460cf\", element=\"9af76f0d-1235-402c-b41e-3fe2003d57f6\")>,\n",
       " <selenium.webdriver.remote.webelement.WebElement (session=\"c6e67a4fec29058e09c729213a8460cf\", element=\"a0e5740d-bf9e-4527-9556-2cdf81cc2cea\")>]"
      ]
     },
     "execution_count": 31,
     "metadata": {},
     "output_type": "execute_result"
    }
   ],
   "source": [
    "#finding all the series tags\n",
    "series=driver.find_elements_by_xpath(\"//span[@class='u-unskewed-text fixture__tournament-label u-truncated']\")\n",
    "series[0:3]"
   ]
  },
  {
   "cell_type": "code",
   "execution_count": 32,
   "metadata": {},
   "outputs": [
    {
     "data": {
      "text/plain": [
       "['INDIA V ENGLAND 2021',\n",
       " 'INDIA V ENGLAND 2021',\n",
       " 'INDIA V ENGLAND 2021',\n",
       " 'INDIA V ENGLAND 2021',\n",
       " 'INDIA V ENGLAND 2021',\n",
       " 'INDIA V ENGLAND 2021',\n",
       " 'INDIA V ENGLAND 2021',\n",
       " 'INDIA V ENGLAND 2021',\n",
       " 'INDIA V ENGLAND 2021',\n",
       " 'INDIA V ENGLAND 2021',\n",
       " 'INDIA V ENGLAND 2021',\n",
       " 'ENGLAND V INDIA 2021',\n",
       " 'ENGLAND V INDIA 2021',\n",
       " 'ENGLAND V INDIA 2021',\n",
       " 'ENGLAND V INDIA 2021',\n",
       " 'ENGLAND V INDIA 2021']"
      ]
     },
     "execution_count": 32,
     "metadata": {},
     "output_type": "execute_result"
    }
   ],
   "source": [
    "#scraping series from series tags\n",
    "for i in series:\n",
    "    series_=i.text.replace(\"\\n\",\" \")\n",
    "    Series.append(series_)\n",
    "Series"
   ]
  },
  {
   "cell_type": "code",
   "execution_count": 33,
   "metadata": {},
   "outputs": [
    {
     "data": {
      "text/plain": [
       "[<selenium.webdriver.remote.webelement.WebElement (session=\"c6e67a4fec29058e09c729213a8460cf\", element=\"be7c0000-77e4-43e7-951e-38f07d0e5ed7\")>,\n",
       " <selenium.webdriver.remote.webelement.WebElement (session=\"c6e67a4fec29058e09c729213a8460cf\", element=\"3a198fd0-f4bc-43c9-98fa-55c7f4e74028\")>,\n",
       " <selenium.webdriver.remote.webelement.WebElement (session=\"c6e67a4fec29058e09c729213a8460cf\", element=\"2ebc3826-ebf3-497b-b6d9-0b7f6797d37b\")>]"
      ]
     },
     "execution_count": 33,
     "metadata": {},
     "output_type": "execute_result"
    }
   ],
   "source": [
    "#finding all the place tags\n",
    "place=driver.find_elements_by_xpath(\"//body[@class='js-body-content']/div[4]/div/div/div[2]/section/div/div/a/div/div/p/span\")\n",
    "place[0:3]"
   ]
  },
  {
   "cell_type": "code",
   "execution_count": 34,
   "metadata": {},
   "outputs": [
    {
     "data": {
      "text/plain": [
       "['M. A. Chidambaram Stadium, Chennai',\n",
       " 'Sardar Patel Stadium, Ahmedabad',\n",
       " 'Sardar Patel Stadium, Ahmedabad',\n",
       " 'Sardar Patel Stadium, Ahmedabad',\n",
       " 'Sardar Patel Stadium, Ahmedabad',\n",
       " 'Sardar Patel Stadium, Ahmedabad',\n",
       " 'Sardar Patel Stadium, Ahmedabad',\n",
       " 'Sardar Patel Stadium, Ahmedabad',\n",
       " 'Maharashtra Cricket Association Stadium, Pune',\n",
       " 'Maharashtra Cricket Association Stadium, Pune',\n",
       " 'Maharashtra Cricket Association Stadium, Pune',\n",
       " 'Trent Bridge, Nottingham',\n",
       " \"Lord's, London\",\n",
       " 'Headingley, Leeds',\n",
       " 'The Oval, London',\n",
       " 'Old Trafford, Manchester']"
      ]
     },
     "execution_count": 34,
     "metadata": {},
     "output_type": "execute_result"
    }
   ],
   "source": [
    "#scraping series from series tags\n",
    "for i in place:\n",
    "    places=i.text.replace(\"\\n\",\" \")\n",
    "    Place.append(places)\n",
    "Place"
   ]
  },
  {
   "cell_type": "code",
   "execution_count": 35,
   "metadata": {},
   "outputs": [
    {
     "data": {
      "text/plain": [
       "[<selenium.webdriver.remote.webelement.WebElement (session=\"c6e67a4fec29058e09c729213a8460cf\", element=\"6ab7dbe7-30c6-491b-9929-e73404859817\")>,\n",
       " <selenium.webdriver.remote.webelement.WebElement (session=\"c6e67a4fec29058e09c729213a8460cf\", element=\"5d6f1db0-5b2f-4e4f-be49-0be3f0baf06c\")>,\n",
       " <selenium.webdriver.remote.webelement.WebElement (session=\"c6e67a4fec29058e09c729213a8460cf\", element=\"160c382f-4e47-4c59-90b7-61f5528c6447\")>]"
      ]
     },
     "execution_count": 35,
     "metadata": {},
     "output_type": "execute_result"
    }
   ],
   "source": [
    "#finding all the date tags\n",
    "date=driver.find_elements_by_xpath(\"//span[@class='fixture__date']\")\n",
    "date[0:3]"
   ]
  },
  {
   "cell_type": "code",
   "execution_count": 36,
   "metadata": {},
   "outputs": [
    {
     "data": {
      "text/plain": [
       "['13',\n",
       " '24',\n",
       " '04',\n",
       " '12',\n",
       " '14',\n",
       " '16',\n",
       " '18',\n",
       " '20',\n",
       " '23',\n",
       " '26',\n",
       " '28',\n",
       " '04',\n",
       " '12',\n",
       " '25',\n",
       " '02',\n",
       " '10']"
      ]
     },
     "execution_count": 36,
     "metadata": {},
     "output_type": "execute_result"
    }
   ],
   "source": [
    "#scraping date from date tags\n",
    "for i in date:\n",
    "    dates=i.text.replace(\"\\n\",\" \")\n",
    "    Date.append(dates)\n",
    "Date"
   ]
  },
  {
   "cell_type": "code",
   "execution_count": 37,
   "metadata": {},
   "outputs": [
    {
     "data": {
      "text/plain": [
       "[<selenium.webdriver.remote.webelement.WebElement (session=\"c6e67a4fec29058e09c729213a8460cf\", element=\"8f0a5dc2-03ed-4e48-82be-645e16ac3dcc\")>,\n",
       " <selenium.webdriver.remote.webelement.WebElement (session=\"c6e67a4fec29058e09c729213a8460cf\", element=\"c0bf97fa-9e98-48b8-a654-55733ee4f024\")>,\n",
       " <selenium.webdriver.remote.webelement.WebElement (session=\"c6e67a4fec29058e09c729213a8460cf\", element=\"408e1b57-02f0-49f5-bbba-d59d79c7e6b2\")>]"
      ]
     },
     "execution_count": 37,
     "metadata": {},
     "output_type": "execute_result"
    }
   ],
   "source": [
    "#finding all the month tags\n",
    "month=driver.find_elements_by_xpath(\"//span[@class='fixture__month']\")\n",
    "month[0:3]"
   ]
  },
  {
   "cell_type": "code",
   "execution_count": 38,
   "metadata": {},
   "outputs": [
    {
     "data": {
      "text/plain": [
       "['FEBRUARY',\n",
       " 'FEBRUARY',\n",
       " 'MARCH',\n",
       " 'MARCH',\n",
       " 'MARCH',\n",
       " 'MARCH',\n",
       " 'MARCH',\n",
       " 'MARCH',\n",
       " 'MARCH',\n",
       " 'MARCH',\n",
       " 'MARCH',\n",
       " 'AUGUST',\n",
       " 'AUGUST',\n",
       " 'AUGUST',\n",
       " 'SEPTEMBER',\n",
       " 'SEPTEMBER']"
      ]
     },
     "execution_count": 38,
     "metadata": {},
     "output_type": "execute_result"
    }
   ],
   "source": [
    "#scraping month from month tags\n",
    "Month=[]\n",
    "for i in month:\n",
    "    months=i.text.replace(\"\\n\",\" \")\n",
    "    Month.append(months)\n",
    "Month"
   ]
  },
  {
   "cell_type": "code",
   "execution_count": 39,
   "metadata": {},
   "outputs": [
    {
     "data": {
      "text/plain": [
       "['13FEBRUARY',\n",
       " '24FEBRUARY',\n",
       " '04MARCH',\n",
       " '12MARCH',\n",
       " '14MARCH',\n",
       " '16MARCH',\n",
       " '18MARCH',\n",
       " '20MARCH',\n",
       " '23MARCH',\n",
       " '26MARCH',\n",
       " '28MARCH',\n",
       " '04AUGUST',\n",
       " '12AUGUST',\n",
       " '25AUGUST',\n",
       " '02SEPTEMBER',\n",
       " '10SEPTEMBER']"
      ]
     },
     "execution_count": 39,
     "metadata": {},
     "output_type": "execute_result"
    }
   ],
   "source": [
    "#concatenating date and month list\n",
    "Full_date = [i + j for i, j in zip(Date, Month)]\n",
    "Full_date"
   ]
  },
  {
   "cell_type": "code",
   "execution_count": 40,
   "metadata": {},
   "outputs": [
    {
     "data": {
      "text/plain": [
       "[<selenium.webdriver.remote.webelement.WebElement (session=\"c6e67a4fec29058e09c729213a8460cf\", element=\"c17a2be3-fbed-48d1-9966-4331037d9a74\")>,\n",
       " <selenium.webdriver.remote.webelement.WebElement (session=\"c6e67a4fec29058e09c729213a8460cf\", element=\"bba275c5-ed9a-4874-9e43-2ad8a6640259\")>,\n",
       " <selenium.webdriver.remote.webelement.WebElement (session=\"c6e67a4fec29058e09c729213a8460cf\", element=\"1cd62885-c82b-4b68-8e7d-d1c12fe2d024\")>]"
      ]
     },
     "execution_count": 40,
     "metadata": {},
     "output_type": "execute_result"
    }
   ],
   "source": [
    "#finding all the time tags\n",
    "time=driver.find_elements_by_xpath(\"//span[@class='fixture__time']\")\n",
    "time[0:3]"
   ]
  },
  {
   "cell_type": "code",
   "execution_count": 41,
   "metadata": {},
   "outputs": [
    {
     "data": {
      "text/plain": [
       "['09:30 IST',\n",
       " '14:30 IST',\n",
       " '09:30 IST',\n",
       " '19:00 IST',\n",
       " '19:00 IST',\n",
       " '19:00 IST',\n",
       " '19:00 IST',\n",
       " '19:00 IST',\n",
       " '13:30 IST',\n",
       " '13:30 IST',\n",
       " '13:30 IST',\n",
       " '15:30 IST',\n",
       " '15:30 IST',\n",
       " '15:30 IST',\n",
       " '15:30 IST',\n",
       " '15:30 IST']"
      ]
     },
     "execution_count": 41,
     "metadata": {},
     "output_type": "execute_result"
    }
   ],
   "source": [
    "#scraping time from time tags\n",
    "for i in time:\n",
    "    time_=i.text.replace(\"\\n\",\" \")\n",
    "    Time.append(time_)\n",
    "Time"
   ]
  },
  {
   "cell_type": "code",
   "execution_count": 42,
   "metadata": {},
   "outputs": [
    {
     "name": "stdout",
     "output_type": "stream",
     "text": [
      "16 16 16 16 16\n"
     ]
    }
   ],
   "source": [
    "#printing lengths\n",
    "print(len(Match_title),len(Series),len(Place),len(Full_date),len(Time))"
   ]
  },
  {
   "cell_type": "code",
   "execution_count": 43,
   "metadata": {},
   "outputs": [],
   "source": [
    "#creating a dataframe\n",
    "bcci_fixtures=pd.DataFrame({})\n",
    "bcci_fixtures['Match_title']=Match_title\n",
    "bcci_fixtures['Series']=Series\n",
    "bcci_fixtures['Place']=Place\n",
    "bcci_fixtures['Full_date']=Full_date\n",
    "bcci_fixtures['Time']=Time"
   ]
  },
  {
   "cell_type": "code",
   "execution_count": 44,
   "metadata": {},
   "outputs": [
    {
     "data": {
      "text/html": [
       "<div>\n",
       "<style scoped>\n",
       "    .dataframe tbody tr th:only-of-type {\n",
       "        vertical-align: middle;\n",
       "    }\n",
       "\n",
       "    .dataframe tbody tr th {\n",
       "        vertical-align: top;\n",
       "    }\n",
       "\n",
       "    .dataframe thead th {\n",
       "        text-align: right;\n",
       "    }\n",
       "</style>\n",
       "<table border=\"1\" class=\"dataframe\">\n",
       "  <thead>\n",
       "    <tr style=\"text-align: right;\">\n",
       "      <th></th>\n",
       "      <th>Match_title</th>\n",
       "      <th>Series</th>\n",
       "      <th>Place</th>\n",
       "      <th>Full_date</th>\n",
       "      <th>Time</th>\n",
       "    </tr>\n",
       "  </thead>\n",
       "  <tbody>\n",
       "    <tr>\n",
       "      <th>0</th>\n",
       "      <td>2nd Test</td>\n",
       "      <td>INDIA V ENGLAND 2021</td>\n",
       "      <td>M. A. Chidambaram Stadium, Chennai</td>\n",
       "      <td>13FEBRUARY</td>\n",
       "      <td>09:30 IST</td>\n",
       "    </tr>\n",
       "    <tr>\n",
       "      <th>1</th>\n",
       "      <td>3rd Test</td>\n",
       "      <td>INDIA V ENGLAND 2021</td>\n",
       "      <td>Sardar Patel Stadium, Ahmedabad</td>\n",
       "      <td>24FEBRUARY</td>\n",
       "      <td>14:30 IST</td>\n",
       "    </tr>\n",
       "    <tr>\n",
       "      <th>2</th>\n",
       "      <td>4th Test</td>\n",
       "      <td>INDIA V ENGLAND 2021</td>\n",
       "      <td>Sardar Patel Stadium, Ahmedabad</td>\n",
       "      <td>04MARCH</td>\n",
       "      <td>09:30 IST</td>\n",
       "    </tr>\n",
       "    <tr>\n",
       "      <th>3</th>\n",
       "      <td>1st T20I</td>\n",
       "      <td>INDIA V ENGLAND 2021</td>\n",
       "      <td>Sardar Patel Stadium, Ahmedabad</td>\n",
       "      <td>12MARCH</td>\n",
       "      <td>19:00 IST</td>\n",
       "    </tr>\n",
       "    <tr>\n",
       "      <th>4</th>\n",
       "      <td>2nd T20I</td>\n",
       "      <td>INDIA V ENGLAND 2021</td>\n",
       "      <td>Sardar Patel Stadium, Ahmedabad</td>\n",
       "      <td>14MARCH</td>\n",
       "      <td>19:00 IST</td>\n",
       "    </tr>\n",
       "    <tr>\n",
       "      <th>5</th>\n",
       "      <td>3rd T20I</td>\n",
       "      <td>INDIA V ENGLAND 2021</td>\n",
       "      <td>Sardar Patel Stadium, Ahmedabad</td>\n",
       "      <td>16MARCH</td>\n",
       "      <td>19:00 IST</td>\n",
       "    </tr>\n",
       "    <tr>\n",
       "      <th>6</th>\n",
       "      <td>4th T20I</td>\n",
       "      <td>INDIA V ENGLAND 2021</td>\n",
       "      <td>Sardar Patel Stadium, Ahmedabad</td>\n",
       "      <td>18MARCH</td>\n",
       "      <td>19:00 IST</td>\n",
       "    </tr>\n",
       "    <tr>\n",
       "      <th>7</th>\n",
       "      <td>5th T20I</td>\n",
       "      <td>INDIA V ENGLAND 2021</td>\n",
       "      <td>Sardar Patel Stadium, Ahmedabad</td>\n",
       "      <td>20MARCH</td>\n",
       "      <td>19:00 IST</td>\n",
       "    </tr>\n",
       "    <tr>\n",
       "      <th>8</th>\n",
       "      <td>1st ODI</td>\n",
       "      <td>INDIA V ENGLAND 2021</td>\n",
       "      <td>Maharashtra Cricket Association Stadium, Pune</td>\n",
       "      <td>23MARCH</td>\n",
       "      <td>13:30 IST</td>\n",
       "    </tr>\n",
       "    <tr>\n",
       "      <th>9</th>\n",
       "      <td>2nd ODI</td>\n",
       "      <td>INDIA V ENGLAND 2021</td>\n",
       "      <td>Maharashtra Cricket Association Stadium, Pune</td>\n",
       "      <td>26MARCH</td>\n",
       "      <td>13:30 IST</td>\n",
       "    </tr>\n",
       "    <tr>\n",
       "      <th>10</th>\n",
       "      <td>3rd ODI</td>\n",
       "      <td>INDIA V ENGLAND 2021</td>\n",
       "      <td>Maharashtra Cricket Association Stadium, Pune</td>\n",
       "      <td>28MARCH</td>\n",
       "      <td>13:30 IST</td>\n",
       "    </tr>\n",
       "    <tr>\n",
       "      <th>11</th>\n",
       "      <td>1st Test</td>\n",
       "      <td>ENGLAND V INDIA 2021</td>\n",
       "      <td>Trent Bridge, Nottingham</td>\n",
       "      <td>04AUGUST</td>\n",
       "      <td>15:30 IST</td>\n",
       "    </tr>\n",
       "    <tr>\n",
       "      <th>12</th>\n",
       "      <td>2nd Test</td>\n",
       "      <td>ENGLAND V INDIA 2021</td>\n",
       "      <td>Lord's, London</td>\n",
       "      <td>12AUGUST</td>\n",
       "      <td>15:30 IST</td>\n",
       "    </tr>\n",
       "    <tr>\n",
       "      <th>13</th>\n",
       "      <td>3rd Test</td>\n",
       "      <td>ENGLAND V INDIA 2021</td>\n",
       "      <td>Headingley, Leeds</td>\n",
       "      <td>25AUGUST</td>\n",
       "      <td>15:30 IST</td>\n",
       "    </tr>\n",
       "    <tr>\n",
       "      <th>14</th>\n",
       "      <td>4th Test</td>\n",
       "      <td>ENGLAND V INDIA 2021</td>\n",
       "      <td>The Oval, London</td>\n",
       "      <td>02SEPTEMBER</td>\n",
       "      <td>15:30 IST</td>\n",
       "    </tr>\n",
       "    <tr>\n",
       "      <th>15</th>\n",
       "      <td>5th Test</td>\n",
       "      <td>ENGLAND V INDIA 2021</td>\n",
       "      <td>Old Trafford, Manchester</td>\n",
       "      <td>10SEPTEMBER</td>\n",
       "      <td>15:30 IST</td>\n",
       "    </tr>\n",
       "  </tbody>\n",
       "</table>\n",
       "</div>"
      ],
      "text/plain": [
       "   Match_title                Series  \\\n",
       "0     2nd Test  INDIA V ENGLAND 2021   \n",
       "1     3rd Test  INDIA V ENGLAND 2021   \n",
       "2     4th Test  INDIA V ENGLAND 2021   \n",
       "3     1st T20I  INDIA V ENGLAND 2021   \n",
       "4     2nd T20I  INDIA V ENGLAND 2021   \n",
       "5     3rd T20I  INDIA V ENGLAND 2021   \n",
       "6     4th T20I  INDIA V ENGLAND 2021   \n",
       "7     5th T20I  INDIA V ENGLAND 2021   \n",
       "8      1st ODI  INDIA V ENGLAND 2021   \n",
       "9      2nd ODI  INDIA V ENGLAND 2021   \n",
       "10     3rd ODI  INDIA V ENGLAND 2021   \n",
       "11    1st Test  ENGLAND V INDIA 2021   \n",
       "12    2nd Test  ENGLAND V INDIA 2021   \n",
       "13    3rd Test  ENGLAND V INDIA 2021   \n",
       "14    4th Test  ENGLAND V INDIA 2021   \n",
       "15    5th Test  ENGLAND V INDIA 2021   \n",
       "\n",
       "                                            Place    Full_date       Time  \n",
       "0              M. A. Chidambaram Stadium, Chennai   13FEBRUARY  09:30 IST  \n",
       "1                 Sardar Patel Stadium, Ahmedabad   24FEBRUARY  14:30 IST  \n",
       "2                 Sardar Patel Stadium, Ahmedabad      04MARCH  09:30 IST  \n",
       "3                 Sardar Patel Stadium, Ahmedabad      12MARCH  19:00 IST  \n",
       "4                 Sardar Patel Stadium, Ahmedabad      14MARCH  19:00 IST  \n",
       "5                 Sardar Patel Stadium, Ahmedabad      16MARCH  19:00 IST  \n",
       "6                 Sardar Patel Stadium, Ahmedabad      18MARCH  19:00 IST  \n",
       "7                 Sardar Patel Stadium, Ahmedabad      20MARCH  19:00 IST  \n",
       "8   Maharashtra Cricket Association Stadium, Pune      23MARCH  13:30 IST  \n",
       "9   Maharashtra Cricket Association Stadium, Pune      26MARCH  13:30 IST  \n",
       "10  Maharashtra Cricket Association Stadium, Pune      28MARCH  13:30 IST  \n",
       "11                       Trent Bridge, Nottingham     04AUGUST  15:30 IST  \n",
       "12                                 Lord's, London     12AUGUST  15:30 IST  \n",
       "13                              Headingley, Leeds     25AUGUST  15:30 IST  \n",
       "14                               The Oval, London  02SEPTEMBER  15:30 IST  \n",
       "15                       Old Trafford, Manchester  10SEPTEMBER  15:30 IST  "
      ]
     },
     "execution_count": 44,
     "metadata": {},
     "output_type": "execute_result"
    }
   ],
   "source": [
    "bcci_fixtures"
   ]
  },
  {
   "cell_type": "code",
   "execution_count": 45,
   "metadata": {},
   "outputs": [],
   "source": [
    "#converting into csv format\n",
    "bcci_fixtures.to_csv(\"bcci_fixtures.csv\")"
   ]
  },
  {
   "cell_type": "code",
   "execution_count": 46,
   "metadata": {},
   "outputs": [],
   "source": [
    "#closing the driver\n",
    "driver.close()"
   ]
  },
  {
   "cell_type": "markdown",
   "metadata": {},
   "source": [
    "# 3. Scrape the details of selenium exception from guru99.com. Url = https://www.guru99.com/"
   ]
  },
  {
   "cell_type": "code",
   "execution_count": 47,
   "metadata": {},
   "outputs": [],
   "source": [
    "#connecting to the webdriver\n",
    "driver=webdriver.Chrome(r\"C:\\Users\\sandeep\\Downloads\\chromedriver_win32\\chromedriver.exe\")"
   ]
  },
  {
   "cell_type": "code",
   "execution_count": 48,
   "metadata": {},
   "outputs": [],
   "source": [
    "#specifying the url of the webpage to be scraped\n",
    "url=\"https://www.guru99.com/\""
   ]
  },
  {
   "cell_type": "code",
   "execution_count": 49,
   "metadata": {},
   "outputs": [],
   "source": [
    "#opening the webpage through our driver\n",
    "driver.get(url)"
   ]
  },
  {
   "cell_type": "code",
   "execution_count": 50,
   "metadata": {},
   "outputs": [],
   "source": [
    "#going to selenium page\n",
    "WebDriverWait(driver, 10).until(EC.element_to_be_clickable((By.XPATH, '//*[@id=\"g-footer\"]/div/div[1]/div/div/div/div/div/div[2]/div[2]/div/div/div/h4/a'))).click()"
   ]
  },
  {
   "cell_type": "code",
   "execution_count": 51,
   "metadata": {},
   "outputs": [],
   "source": [
    "#going to exception handling page\n",
    "WebDriverWait(driver, 10).until(EC.element_to_be_clickable((By.XPATH, '//*[@id=\"g-mainbar\"]/div/div/div/div/div/div/div[2]/table[5]/tbody/tr[34]/td[1]/a'))).click()"
   ]
  },
  {
   "cell_type": "code",
   "execution_count": 56,
   "metadata": {},
   "outputs": [],
   "source": [
    "#creating empty lists\n",
    "Exception_name=[]\n",
    "Description=[]"
   ]
  },
  {
   "cell_type": "code",
   "execution_count": 57,
   "metadata": {},
   "outputs": [
    {
     "data": {
      "text/plain": [
       "[<selenium.webdriver.remote.webelement.WebElement (session=\"8150873f3b0aa3cf794a9948b90a6657\", element=\"7ee6bcfb-d0e9-4f1e-bdf5-bad2afeae173\")>,\n",
       " <selenium.webdriver.remote.webelement.WebElement (session=\"8150873f3b0aa3cf794a9948b90a6657\", element=\"6ce7abf0-15d4-4552-a32f-96ed07a5c1d6\")>,\n",
       " <selenium.webdriver.remote.webelement.WebElement (session=\"8150873f3b0aa3cf794a9948b90a6657\", element=\"becfbb38-c0fe-4166-8869-e20d9b79221c\")>]"
      ]
     },
     "execution_count": 57,
     "metadata": {},
     "output_type": "execute_result"
    }
   ],
   "source": [
    "#finding all the exception tags\n",
    "exception=driver.find_elements_by_xpath(\"//main[@id='g-mainbar']/div[1]/div/div/div/div/div/div[2]/table/tbody/tr/td[1]\")\n",
    "exception[0:3]"
   ]
  },
  {
   "cell_type": "code",
   "execution_count": 58,
   "metadata": {},
   "outputs": [],
   "source": [
    "#scraping exception from exception tags\n",
    "for i in exception:\n",
    "    exceptions=i.text.replace(\"\\n\",\" \")\n",
    "    Exception_name.append(exceptions)"
   ]
  },
  {
   "cell_type": "code",
   "execution_count": 59,
   "metadata": {},
   "outputs": [
    {
     "data": {
      "text/plain": [
       "['ElementNotVisibleException',\n",
       " 'ElementNotSelectableException',\n",
       " 'NoSuchElementException',\n",
       " 'NoSuchFrameException',\n",
       " 'NoAlertPresentException',\n",
       " 'NoSuchWindowException',\n",
       " 'StaleElementReferenceException',\n",
       " 'SessionNotFoundException',\n",
       " 'TimeoutException',\n",
       " 'WebDriverException',\n",
       " 'ConnectionClosedException',\n",
       " 'ElementClickInterceptedException',\n",
       " 'ElementNotInteractableException',\n",
       " 'ErrorInResponseException',\n",
       " 'ErrorHandler.UnknownServerException',\n",
       " 'ImeActivationFailedException',\n",
       " 'ImeNotAvailableException',\n",
       " 'InsecureCertificateException',\n",
       " 'InvalidArgumentException',\n",
       " 'InvalidCookieDomainException',\n",
       " 'InvalidCoordinatesException',\n",
       " 'InvalidElementStateExceptio',\n",
       " 'InvalidSessionIdException',\n",
       " 'InvalidSwitchToTargetException',\n",
       " 'JavascriptException',\n",
       " 'JsonException',\n",
       " 'NoSuchAttributeException',\n",
       " 'MoveTargetOutOfBoundsException',\n",
       " 'NoSuchContextException',\n",
       " 'NoSuchCookieException',\n",
       " 'NotFoundException',\n",
       " 'RemoteDriverServerException',\n",
       " 'ScreenshotException',\n",
       " 'SessionNotCreatedException',\n",
       " 'UnableToSetCookieException',\n",
       " 'UnexpectedTagNameException',\n",
       " 'UnhandledAlertException',\n",
       " 'UnexpectedAlertPresentException',\n",
       " 'UnknownMethodException',\n",
       " 'UnreachableBrowserException',\n",
       " 'UnsupportedCommandException']"
      ]
     },
     "execution_count": 59,
     "metadata": {},
     "output_type": "execute_result"
    }
   ],
   "source": [
    "#popping the header element from list\n",
    "Exception_name=Exception_name[1:]\n",
    "Exception_name"
   ]
  },
  {
   "cell_type": "code",
   "execution_count": 60,
   "metadata": {},
   "outputs": [
    {
     "data": {
      "text/plain": [
       "[<selenium.webdriver.remote.webelement.WebElement (session=\"8150873f3b0aa3cf794a9948b90a6657\", element=\"ff41e507-26b4-408d-b0f7-4a2fd07aae55\")>,\n",
       " <selenium.webdriver.remote.webelement.WebElement (session=\"8150873f3b0aa3cf794a9948b90a6657\", element=\"5666bf35-e6a3-40a7-8d72-adafa44fedf9\")>,\n",
       " <selenium.webdriver.remote.webelement.WebElement (session=\"8150873f3b0aa3cf794a9948b90a6657\", element=\"4809329c-aeab-482d-b678-2686c79790a1\")>]"
      ]
     },
     "execution_count": 60,
     "metadata": {},
     "output_type": "execute_result"
    }
   ],
   "source": [
    "#finding all the description tags\n",
    "description=driver.find_elements_by_xpath(\"//main[@id='g-mainbar']/div[1]/div/div/div/div/div/div[2]/table/tbody/tr/td[2]\")\n",
    "description[0:3]"
   ]
  },
  {
   "cell_type": "code",
   "execution_count": 61,
   "metadata": {},
   "outputs": [],
   "source": [
    "#scraping description from description tags\n",
    "for i in description:\n",
    "    descriptions=i.text.replace(\"\\n\",\" \")\n",
    "    Description.append(descriptions)"
   ]
  },
  {
   "cell_type": "code",
   "execution_count": 62,
   "metadata": {},
   "outputs": [
    {
     "data": {
      "text/plain": [
       "['This type of Selenium exception occurs when an existing element in DOM has a feature set as hidden.',\n",
       " 'This Selenium exception occurs when an element is presented in the DOM, but you can be able to select. Therefore, it is not possible to interact.',\n",
       " 'This Exception occurs if an element could not be found.',\n",
       " 'This Exception occurs if the frame target to be switched to does not exist.',\n",
       " 'This Exception occurs when you switch to no presented alert.',\n",
       " 'This Exception occurs if the window target to be switch does not exist.',\n",
       " 'This Selenium exception occurs happens when the web element is detached from the current DOM.',\n",
       " 'The WebDriver is acting after you quit the browser.',\n",
       " \"Thrown when there is not enough time for a command to be completed. For Example, the element searched wasn't found in the specified time.\",\n",
       " 'This Exception takes place when the WebDriver is acting right after you close the browser.',\n",
       " 'This type of Exception takes place when there is a disconnection in the driver.',\n",
       " 'The command may not be completed as the element receiving the events is concealing the element which was requested clicked.',\n",
       " 'This Selenium exception is thrown when any element is presented in the DOM. However, it is impossible to interact with such an element.',\n",
       " 'This happens while interacting with the Firefox extension or the remote driver server.',\n",
       " 'Exception is used as a placeholder in case if the server returns an error without a stack trace.',\n",
       " 'This expectation will occur when IME engine activation has failed.',\n",
       " 'It takes place when IME support is unavailable.',\n",
       " 'Navigation made the user agent to hit a certificate warning. This can cause by an invalid or expired TLS certificate.',\n",
       " 'It occurs when an argument does not belong to the expected type.',\n",
       " 'This happens when you try to add a cookie under a different domain instead of current URL.',\n",
       " 'This type of Exception matches an interacting operation that is not valid.',\n",
       " \"It occurs when command can't be finished when the element is invalid.\",\n",
       " 'This Exception took place when the given session ID is not included in the list of active sessions. It means the session does not exist or is inactive either.',\n",
       " 'This occurs when the frame or window target to be switched does not exist.',\n",
       " 'This issue occurs while executing JavaScript given by the user.',\n",
       " 'It occurs when you afford to get the session when the session is not created.',\n",
       " 'This kind of Exception occurs when the attribute of an element could not be found.',\n",
       " 'It takes place if the target provided to the ActionChains move() methodology is not valid. For Example, out of the document.',\n",
       " 'ContextAware does mobile device testing.',\n",
       " 'This Exception occurs when no cookie matching with the given pathname found for all the associated cookies of the currently browsing document.',\n",
       " 'This Exception is a subclass of WebDriverException. This will occur when an element on the DOM does not exist.',\n",
       " 'This Selenium exception is thrown when the server is not responding because of the problem that the capabilities described are not proper.',\n",
       " 'It is not possible to capture a screen.',\n",
       " 'It happens when a new session could not be successfully created.',\n",
       " 'This occurs if a driver is unable to set a cookie.',\n",
       " 'Happens if a support class did not get a web element as expected.',\n",
       " 'This expectation occurs when there is an alert, but WebDriver is not able to perform Alert operation.',\n",
       " 'It occurs when there is the appearance of an unexpected alert.',\n",
       " 'This Exception happens when the requested command matches with a known URL but and not matching with a methodology for a specific URL.',\n",
       " 'This Exception occurs only when the browser is not able to be opened or crashed because of some reason.',\n",
       " \"This occurs when remote WebDriver does n't send valid commands as expected.\"]"
      ]
     },
     "execution_count": 62,
     "metadata": {},
     "output_type": "execute_result"
    }
   ],
   "source": [
    "#slicing out the header element of the list\n",
    "Description=Description[1:]\n",
    "Description"
   ]
  },
  {
   "cell_type": "code",
   "execution_count": 63,
   "metadata": {},
   "outputs": [
    {
     "name": "stdout",
     "output_type": "stream",
     "text": [
      "41 41\n"
     ]
    }
   ],
   "source": [
    "#printing lengths\n",
    "print(len(Exception_name),len(Description))"
   ]
  },
  {
   "cell_type": "code",
   "execution_count": 64,
   "metadata": {},
   "outputs": [],
   "source": [
    "#creating a dataframe\n",
    "\n",
    "Selenium_exceptions=pd.DataFrame({})\n",
    "Selenium_exceptions['Exception_name']=Exception_name\n",
    "Selenium_exceptions['Description']=Description"
   ]
  },
  {
   "cell_type": "code",
   "execution_count": 65,
   "metadata": {},
   "outputs": [
    {
     "data": {
      "text/html": [
       "<div>\n",
       "<style scoped>\n",
       "    .dataframe tbody tr th:only-of-type {\n",
       "        vertical-align: middle;\n",
       "    }\n",
       "\n",
       "    .dataframe tbody tr th {\n",
       "        vertical-align: top;\n",
       "    }\n",
       "\n",
       "    .dataframe thead th {\n",
       "        text-align: right;\n",
       "    }\n",
       "</style>\n",
       "<table border=\"1\" class=\"dataframe\">\n",
       "  <thead>\n",
       "    <tr style=\"text-align: right;\">\n",
       "      <th></th>\n",
       "      <th>Exception_name</th>\n",
       "      <th>Description</th>\n",
       "    </tr>\n",
       "  </thead>\n",
       "  <tbody>\n",
       "    <tr>\n",
       "      <th>0</th>\n",
       "      <td>ElementNotVisibleException</td>\n",
       "      <td>This type of Selenium exception occurs when an...</td>\n",
       "    </tr>\n",
       "    <tr>\n",
       "      <th>1</th>\n",
       "      <td>ElementNotSelectableException</td>\n",
       "      <td>This Selenium exception occurs when an element...</td>\n",
       "    </tr>\n",
       "    <tr>\n",
       "      <th>2</th>\n",
       "      <td>NoSuchElementException</td>\n",
       "      <td>This Exception occurs if an element could not ...</td>\n",
       "    </tr>\n",
       "    <tr>\n",
       "      <th>3</th>\n",
       "      <td>NoSuchFrameException</td>\n",
       "      <td>This Exception occurs if the frame target to b...</td>\n",
       "    </tr>\n",
       "    <tr>\n",
       "      <th>4</th>\n",
       "      <td>NoAlertPresentException</td>\n",
       "      <td>This Exception occurs when you switch to no pr...</td>\n",
       "    </tr>\n",
       "    <tr>\n",
       "      <th>5</th>\n",
       "      <td>NoSuchWindowException</td>\n",
       "      <td>This Exception occurs if the window target to ...</td>\n",
       "    </tr>\n",
       "    <tr>\n",
       "      <th>6</th>\n",
       "      <td>StaleElementReferenceException</td>\n",
       "      <td>This Selenium exception occurs happens when th...</td>\n",
       "    </tr>\n",
       "    <tr>\n",
       "      <th>7</th>\n",
       "      <td>SessionNotFoundException</td>\n",
       "      <td>The WebDriver is acting after you quit the bro...</td>\n",
       "    </tr>\n",
       "    <tr>\n",
       "      <th>8</th>\n",
       "      <td>TimeoutException</td>\n",
       "      <td>Thrown when there is not enough time for a com...</td>\n",
       "    </tr>\n",
       "    <tr>\n",
       "      <th>9</th>\n",
       "      <td>WebDriverException</td>\n",
       "      <td>This Exception takes place when the WebDriver ...</td>\n",
       "    </tr>\n",
       "    <tr>\n",
       "      <th>10</th>\n",
       "      <td>ConnectionClosedException</td>\n",
       "      <td>This type of Exception takes place when there ...</td>\n",
       "    </tr>\n",
       "    <tr>\n",
       "      <th>11</th>\n",
       "      <td>ElementClickInterceptedException</td>\n",
       "      <td>The command may not be completed as the elemen...</td>\n",
       "    </tr>\n",
       "    <tr>\n",
       "      <th>12</th>\n",
       "      <td>ElementNotInteractableException</td>\n",
       "      <td>This Selenium exception is thrown when any ele...</td>\n",
       "    </tr>\n",
       "    <tr>\n",
       "      <th>13</th>\n",
       "      <td>ErrorInResponseException</td>\n",
       "      <td>This happens while interacting with the Firefo...</td>\n",
       "    </tr>\n",
       "    <tr>\n",
       "      <th>14</th>\n",
       "      <td>ErrorHandler.UnknownServerException</td>\n",
       "      <td>Exception is used as a placeholder in case if ...</td>\n",
       "    </tr>\n",
       "    <tr>\n",
       "      <th>15</th>\n",
       "      <td>ImeActivationFailedException</td>\n",
       "      <td>This expectation will occur when IME engine ac...</td>\n",
       "    </tr>\n",
       "    <tr>\n",
       "      <th>16</th>\n",
       "      <td>ImeNotAvailableException</td>\n",
       "      <td>It takes place when IME support is unavailable.</td>\n",
       "    </tr>\n",
       "    <tr>\n",
       "      <th>17</th>\n",
       "      <td>InsecureCertificateException</td>\n",
       "      <td>Navigation made the user agent to hit a certif...</td>\n",
       "    </tr>\n",
       "    <tr>\n",
       "      <th>18</th>\n",
       "      <td>InvalidArgumentException</td>\n",
       "      <td>It occurs when an argument does not belong to ...</td>\n",
       "    </tr>\n",
       "    <tr>\n",
       "      <th>19</th>\n",
       "      <td>InvalidCookieDomainException</td>\n",
       "      <td>This happens when you try to add a cookie unde...</td>\n",
       "    </tr>\n",
       "    <tr>\n",
       "      <th>20</th>\n",
       "      <td>InvalidCoordinatesException</td>\n",
       "      <td>This type of Exception matches an interacting ...</td>\n",
       "    </tr>\n",
       "    <tr>\n",
       "      <th>21</th>\n",
       "      <td>InvalidElementStateExceptio</td>\n",
       "      <td>It occurs when command can't be finished when ...</td>\n",
       "    </tr>\n",
       "    <tr>\n",
       "      <th>22</th>\n",
       "      <td>InvalidSessionIdException</td>\n",
       "      <td>This Exception took place when the given sessi...</td>\n",
       "    </tr>\n",
       "    <tr>\n",
       "      <th>23</th>\n",
       "      <td>InvalidSwitchToTargetException</td>\n",
       "      <td>This occurs when the frame or window target to...</td>\n",
       "    </tr>\n",
       "    <tr>\n",
       "      <th>24</th>\n",
       "      <td>JavascriptException</td>\n",
       "      <td>This issue occurs while executing JavaScript g...</td>\n",
       "    </tr>\n",
       "    <tr>\n",
       "      <th>25</th>\n",
       "      <td>JsonException</td>\n",
       "      <td>It occurs when you afford to get the session w...</td>\n",
       "    </tr>\n",
       "    <tr>\n",
       "      <th>26</th>\n",
       "      <td>NoSuchAttributeException</td>\n",
       "      <td>This kind of Exception occurs when the attribu...</td>\n",
       "    </tr>\n",
       "    <tr>\n",
       "      <th>27</th>\n",
       "      <td>MoveTargetOutOfBoundsException</td>\n",
       "      <td>It takes place if the target provided to the A...</td>\n",
       "    </tr>\n",
       "    <tr>\n",
       "      <th>28</th>\n",
       "      <td>NoSuchContextException</td>\n",
       "      <td>ContextAware does mobile device testing.</td>\n",
       "    </tr>\n",
       "    <tr>\n",
       "      <th>29</th>\n",
       "      <td>NoSuchCookieException</td>\n",
       "      <td>This Exception occurs when no cookie matching ...</td>\n",
       "    </tr>\n",
       "    <tr>\n",
       "      <th>30</th>\n",
       "      <td>NotFoundException</td>\n",
       "      <td>This Exception is a subclass of WebDriverExcep...</td>\n",
       "    </tr>\n",
       "    <tr>\n",
       "      <th>31</th>\n",
       "      <td>RemoteDriverServerException</td>\n",
       "      <td>This Selenium exception is thrown when the ser...</td>\n",
       "    </tr>\n",
       "    <tr>\n",
       "      <th>32</th>\n",
       "      <td>ScreenshotException</td>\n",
       "      <td>It is not possible to capture a screen.</td>\n",
       "    </tr>\n",
       "    <tr>\n",
       "      <th>33</th>\n",
       "      <td>SessionNotCreatedException</td>\n",
       "      <td>It happens when a new session could not be suc...</td>\n",
       "    </tr>\n",
       "    <tr>\n",
       "      <th>34</th>\n",
       "      <td>UnableToSetCookieException</td>\n",
       "      <td>This occurs if a driver is unable to set a coo...</td>\n",
       "    </tr>\n",
       "    <tr>\n",
       "      <th>35</th>\n",
       "      <td>UnexpectedTagNameException</td>\n",
       "      <td>Happens if a support class did not get a web e...</td>\n",
       "    </tr>\n",
       "    <tr>\n",
       "      <th>36</th>\n",
       "      <td>UnhandledAlertException</td>\n",
       "      <td>This expectation occurs when there is an alert...</td>\n",
       "    </tr>\n",
       "    <tr>\n",
       "      <th>37</th>\n",
       "      <td>UnexpectedAlertPresentException</td>\n",
       "      <td>It occurs when there is the appearance of an u...</td>\n",
       "    </tr>\n",
       "    <tr>\n",
       "      <th>38</th>\n",
       "      <td>UnknownMethodException</td>\n",
       "      <td>This Exception happens when the requested comm...</td>\n",
       "    </tr>\n",
       "    <tr>\n",
       "      <th>39</th>\n",
       "      <td>UnreachableBrowserException</td>\n",
       "      <td>This Exception occurs only when the browser is...</td>\n",
       "    </tr>\n",
       "    <tr>\n",
       "      <th>40</th>\n",
       "      <td>UnsupportedCommandException</td>\n",
       "      <td>This occurs when remote WebDriver does n't sen...</td>\n",
       "    </tr>\n",
       "  </tbody>\n",
       "</table>\n",
       "</div>"
      ],
      "text/plain": [
       "                         Exception_name  \\\n",
       "0            ElementNotVisibleException   \n",
       "1         ElementNotSelectableException   \n",
       "2                NoSuchElementException   \n",
       "3                  NoSuchFrameException   \n",
       "4               NoAlertPresentException   \n",
       "5                 NoSuchWindowException   \n",
       "6        StaleElementReferenceException   \n",
       "7              SessionNotFoundException   \n",
       "8                      TimeoutException   \n",
       "9                    WebDriverException   \n",
       "10            ConnectionClosedException   \n",
       "11     ElementClickInterceptedException   \n",
       "12      ElementNotInteractableException   \n",
       "13             ErrorInResponseException   \n",
       "14  ErrorHandler.UnknownServerException   \n",
       "15         ImeActivationFailedException   \n",
       "16             ImeNotAvailableException   \n",
       "17         InsecureCertificateException   \n",
       "18             InvalidArgumentException   \n",
       "19         InvalidCookieDomainException   \n",
       "20          InvalidCoordinatesException   \n",
       "21          InvalidElementStateExceptio   \n",
       "22            InvalidSessionIdException   \n",
       "23       InvalidSwitchToTargetException   \n",
       "24                  JavascriptException   \n",
       "25                        JsonException   \n",
       "26             NoSuchAttributeException   \n",
       "27       MoveTargetOutOfBoundsException   \n",
       "28               NoSuchContextException   \n",
       "29                NoSuchCookieException   \n",
       "30                    NotFoundException   \n",
       "31          RemoteDriverServerException   \n",
       "32                  ScreenshotException   \n",
       "33           SessionNotCreatedException   \n",
       "34           UnableToSetCookieException   \n",
       "35           UnexpectedTagNameException   \n",
       "36              UnhandledAlertException   \n",
       "37      UnexpectedAlertPresentException   \n",
       "38               UnknownMethodException   \n",
       "39          UnreachableBrowserException   \n",
       "40          UnsupportedCommandException   \n",
       "\n",
       "                                          Description  \n",
       "0   This type of Selenium exception occurs when an...  \n",
       "1   This Selenium exception occurs when an element...  \n",
       "2   This Exception occurs if an element could not ...  \n",
       "3   This Exception occurs if the frame target to b...  \n",
       "4   This Exception occurs when you switch to no pr...  \n",
       "5   This Exception occurs if the window target to ...  \n",
       "6   This Selenium exception occurs happens when th...  \n",
       "7   The WebDriver is acting after you quit the bro...  \n",
       "8   Thrown when there is not enough time for a com...  \n",
       "9   This Exception takes place when the WebDriver ...  \n",
       "10  This type of Exception takes place when there ...  \n",
       "11  The command may not be completed as the elemen...  \n",
       "12  This Selenium exception is thrown when any ele...  \n",
       "13  This happens while interacting with the Firefo...  \n",
       "14  Exception is used as a placeholder in case if ...  \n",
       "15  This expectation will occur when IME engine ac...  \n",
       "16    It takes place when IME support is unavailable.  \n",
       "17  Navigation made the user agent to hit a certif...  \n",
       "18  It occurs when an argument does not belong to ...  \n",
       "19  This happens when you try to add a cookie unde...  \n",
       "20  This type of Exception matches an interacting ...  \n",
       "21  It occurs when command can't be finished when ...  \n",
       "22  This Exception took place when the given sessi...  \n",
       "23  This occurs when the frame or window target to...  \n",
       "24  This issue occurs while executing JavaScript g...  \n",
       "25  It occurs when you afford to get the session w...  \n",
       "26  This kind of Exception occurs when the attribu...  \n",
       "27  It takes place if the target provided to the A...  \n",
       "28           ContextAware does mobile device testing.  \n",
       "29  This Exception occurs when no cookie matching ...  \n",
       "30  This Exception is a subclass of WebDriverExcep...  \n",
       "31  This Selenium exception is thrown when the ser...  \n",
       "32            It is not possible to capture a screen.  \n",
       "33  It happens when a new session could not be suc...  \n",
       "34  This occurs if a driver is unable to set a coo...  \n",
       "35  Happens if a support class did not get a web e...  \n",
       "36  This expectation occurs when there is an alert...  \n",
       "37  It occurs when there is the appearance of an u...  \n",
       "38  This Exception happens when the requested comm...  \n",
       "39  This Exception occurs only when the browser is...  \n",
       "40  This occurs when remote WebDriver does n't sen...  "
      ]
     },
     "execution_count": 65,
     "metadata": {},
     "output_type": "execute_result"
    }
   ],
   "source": [
    "Selenium_exceptions"
   ]
  },
  {
   "cell_type": "code",
   "execution_count": 66,
   "metadata": {},
   "outputs": [],
   "source": [
    "#converting into csv format\n",
    "Selenium_exceptions.to_csv(\"Selenium_exceptions.csv\")"
   ]
  },
  {
   "cell_type": "code",
   "execution_count": 67,
   "metadata": {},
   "outputs": [],
   "source": [
    "#closing the driver\n",
    "driver.close()"
   ]
  },
  {
   "cell_type": "markdown",
   "metadata": {},
   "source": [
    "# 4. Scrape the details of State-wise GDP of India from statisticstime.com. Url = http://statisticstimes.com/"
   ]
  },
  {
   "cell_type": "code",
   "execution_count": 68,
   "metadata": {},
   "outputs": [],
   "source": [
    "#connecting to the webdriver\n",
    "driver=webdriver.Chrome(r\"C:\\Users\\sandeep\\Downloads\\chromedriver_win32\\chromedriver.exe\")"
   ]
  },
  {
   "cell_type": "code",
   "execution_count": 69,
   "metadata": {},
   "outputs": [],
   "source": [
    "#specifying the url of the webpage to be scraped\n",
    "url=\"http://statisticstimes.com/\""
   ]
  },
  {
   "cell_type": "code",
   "execution_count": 70,
   "metadata": {},
   "outputs": [],
   "source": [
    "#opening the webpage through our driver\n",
    "driver.get(url)"
   ]
  },
  {
   "cell_type": "code",
   "execution_count": 71,
   "metadata": {},
   "outputs": [],
   "source": [
    "#going to the state-wise GDP page\n",
    "WebDriverWait(driver, 20).until(EC.element_to_be_clickable((By.XPATH, '//*[@id=\"top\"]/div[2]/div[2]/button'))).click()\n",
    "WebDriverWait(driver, 20).until(EC.element_to_be_clickable((By.XPATH, '//*[@id=\"top\"]/div[2]/div[2]/div/a[3]'))).click()\n",
    "WebDriverWait(driver, 20).until(EC.element_to_be_clickable((By.XPATH, '/html/body/div[2]/div[2]/div[2]/ul/li[1]/a'))).click()"
   ]
  },
  {
   "cell_type": "code",
   "execution_count": 72,
   "metadata": {},
   "outputs": [],
   "source": [
    "#creating empty lists\n",
    "Rank=[]\n",
    "State=[]\n",
    "GSDP_19_20=[]\n",
    "GSDP_18_19=[]\n",
    "Share=[]\n",
    "GDP=[]"
   ]
  },
  {
   "cell_type": "code",
   "execution_count": 73,
   "metadata": {},
   "outputs": [
    {
     "data": {
      "text/plain": [
       "[<selenium.webdriver.remote.webelement.WebElement (session=\"dee1bde104c29b46e930d90761d65413\", element=\"8353b2fa-6178-43ff-aef8-e5f47b6e65cc\")>,\n",
       " <selenium.webdriver.remote.webelement.WebElement (session=\"dee1bde104c29b46e930d90761d65413\", element=\"94aab11c-87e8-4c68-bb32-58f0d27883e1\")>,\n",
       " <selenium.webdriver.remote.webelement.WebElement (session=\"dee1bde104c29b46e930d90761d65413\", element=\"5562ad17-0b56-4213-9aa5-c3fe48eea683\")>]"
      ]
     },
     "execution_count": 73,
     "metadata": {},
     "output_type": "execute_result"
    }
   ],
   "source": [
    "#finding all the rank tags\n",
    "rank=driver.find_elements_by_xpath(\"//td[@class='data1']\")[0:33]\n",
    "rank[0:3]"
   ]
  },
  {
   "cell_type": "code",
   "execution_count": 74,
   "metadata": {},
   "outputs": [
    {
     "data": {
      "text/plain": [
       "['1',\n",
       " '2',\n",
       " '3',\n",
       " '4',\n",
       " '5',\n",
       " '6',\n",
       " '7',\n",
       " '8',\n",
       " '9',\n",
       " '10',\n",
       " '11',\n",
       " '12',\n",
       " '13',\n",
       " '14',\n",
       " '15',\n",
       " '16',\n",
       " '17',\n",
       " '18',\n",
       " '19',\n",
       " '20',\n",
       " '21',\n",
       " '22',\n",
       " '23',\n",
       " '24',\n",
       " '25',\n",
       " '26',\n",
       " '27',\n",
       " '28',\n",
       " '29',\n",
       " '30',\n",
       " '31',\n",
       " '32',\n",
       " '33']"
      ]
     },
     "execution_count": 74,
     "metadata": {},
     "output_type": "execute_result"
    }
   ],
   "source": [
    "#scraping rank from rank tags\n",
    "for i in rank:\n",
    "    ranks=i.text.replace(\"\\n\",\" \")\n",
    "    Rank.append(ranks)\n",
    "Rank"
   ]
  },
  {
   "cell_type": "code",
   "execution_count": 75,
   "metadata": {},
   "outputs": [
    {
     "data": {
      "text/plain": [
       "[<selenium.webdriver.remote.webelement.WebElement (session=\"dee1bde104c29b46e930d90761d65413\", element=\"bc94ece4-f19d-41ab-8fa7-b43a7d1bf8ff\")>,\n",
       " <selenium.webdriver.remote.webelement.WebElement (session=\"dee1bde104c29b46e930d90761d65413\", element=\"0e9f861e-9c9d-42dc-b909-c0e952ed2ae2\")>,\n",
       " <selenium.webdriver.remote.webelement.WebElement (session=\"dee1bde104c29b46e930d90761d65413\", element=\"84274ae6-fabc-464a-8f38-b8e3b29dd6e3\")>]"
      ]
     },
     "execution_count": 75,
     "metadata": {},
     "output_type": "execute_result"
    }
   ],
   "source": [
    "#finding all the state tags\n",
    "state=driver.find_elements_by_xpath(\"//td[@class='name']\")[0:33]\n",
    "state[0:3]"
   ]
  },
  {
   "cell_type": "code",
   "execution_count": 76,
   "metadata": {},
   "outputs": [
    {
     "data": {
      "text/plain": [
       "['Maharashtra',\n",
       " 'Uttar Pradesh',\n",
       " 'Tamil Nadu',\n",
       " 'Karnataka',\n",
       " 'Gujarat',\n",
       " 'West Bengal',\n",
       " 'Rajasthan',\n",
       " 'Andhra Pradesh',\n",
       " 'Telangana',\n",
       " 'Madhya Pradesh',\n",
       " 'Kerala',\n",
       " 'Delhi',\n",
       " 'Haryana',\n",
       " 'Bihar',\n",
       " 'Punjab',\n",
       " 'Odisha',\n",
       " 'Assam',\n",
       " 'Chhattisgarh',\n",
       " 'Jharkhand',\n",
       " 'Uttarakhand',\n",
       " 'Jammu & Kashmir',\n",
       " 'Himachal Pradesh',\n",
       " 'Goa',\n",
       " 'Tripura',\n",
       " 'Chandigarh',\n",
       " 'Puducherry',\n",
       " 'Meghalaya',\n",
       " 'Sikkim',\n",
       " 'Manipur',\n",
       " 'Nagaland',\n",
       " 'Arunachal Pradesh',\n",
       " 'Mizoram',\n",
       " 'Andaman & Nicobar Islands']"
      ]
     },
     "execution_count": 76,
     "metadata": {},
     "output_type": "execute_result"
    }
   ],
   "source": [
    "#scraping state from state tags\n",
    "for i in state:\n",
    "    states=i.text.replace(\"\\n\",\" \")\n",
    "    State.append(states)\n",
    "State"
   ]
  },
  {
   "cell_type": "code",
   "execution_count": 77,
   "metadata": {},
   "outputs": [
    {
     "data": {
      "text/plain": [
       "[<selenium.webdriver.remote.webelement.WebElement (session=\"dee1bde104c29b46e930d90761d65413\", element=\"9d97d424-ccf0-4d15-b585-54bc5a287fc6\")>,\n",
       " <selenium.webdriver.remote.webelement.WebElement (session=\"dee1bde104c29b46e930d90761d65413\", element=\"796b1fae-7db9-4480-9418-835192819401\")>,\n",
       " <selenium.webdriver.remote.webelement.WebElement (session=\"dee1bde104c29b46e930d90761d65413\", element=\"94e965ce-679c-4369-8b8e-42c9c6be44de\")>]"
      ]
     },
     "execution_count": 77,
     "metadata": {},
     "output_type": "execute_result"
    }
   ],
   "source": [
    "#finding all the gsdp 19-20 tags\n",
    "gsdp=driver.find_elements_by_xpath(\"//tr[@role='row']/td[3]\")[0:33]\n",
    "gsdp[0:3]"
   ]
  },
  {
   "cell_type": "code",
   "execution_count": 78,
   "metadata": {},
   "outputs": [
    {
     "data": {
      "text/plain": [
       "['-',\n",
       " '1,794,508',\n",
       " '1,845,853',\n",
       " '1,699,115',\n",
       " '-',\n",
       " '1,253,832',\n",
       " '1,020,989',\n",
       " '972,782',\n",
       " '969,604',\n",
       " '906,672',\n",
       " '-',\n",
       " '856,112',\n",
       " '831,610',\n",
       " '611,804',\n",
       " '574,760',\n",
       " '531,374',\n",
       " '-',\n",
       " '329,180',\n",
       " '328,598',\n",
       " '-',\n",
       " '-',\n",
       " '165,472',\n",
       " '-',\n",
       " '55,358',\n",
       " '-',\n",
       " '40,802',\n",
       " '36,572',\n",
       " '32,496',\n",
       " '-',\n",
       " '-',\n",
       " '-',\n",
       " '-',\n",
       " '-']"
      ]
     },
     "execution_count": 78,
     "metadata": {},
     "output_type": "execute_result"
    }
   ],
   "source": [
    "#scraping gsdp from gsdp tags\n",
    "GSDP_19_20=[]\n",
    "for i in gsdp:\n",
    "    gsdps=i.text.replace(\"\\n\",\" \")\n",
    "    GSDP_19_20.append(gsdps)\n",
    "GSDP_19_20"
   ]
  },
  {
   "cell_type": "code",
   "execution_count": 79,
   "metadata": {},
   "outputs": [
    {
     "data": {
      "text/plain": [
       "[<selenium.webdriver.remote.webelement.WebElement (session=\"dee1bde104c29b46e930d90761d65413\", element=\"e4447537-fe2b-450e-912a-6a4c3d82d368\")>,\n",
       " <selenium.webdriver.remote.webelement.WebElement (session=\"dee1bde104c29b46e930d90761d65413\", element=\"f6eb68b4-48ce-4c29-a55f-20e0d866f84f\")>,\n",
       " <selenium.webdriver.remote.webelement.WebElement (session=\"dee1bde104c29b46e930d90761d65413\", element=\"2fb2d7de-88a5-4a7d-aa4c-806eeca7aae0\")>]"
      ]
     },
     "execution_count": 79,
     "metadata": {},
     "output_type": "execute_result"
    }
   ],
   "source": [
    "#finding all the gsdp 18-19 tags\n",
    "gsdp_=driver.find_elements_by_xpath(\"//td[@class='data sorting_1']\")[0:33]\n",
    "gsdp_[0:3]"
   ]
  },
  {
   "cell_type": "code",
   "execution_count": 80,
   "metadata": {},
   "outputs": [
    {
     "data": {
      "text/plain": [
       "['2,632,792',\n",
       " '1,668,229',\n",
       " '1,630,208',\n",
       " '1,544,399',\n",
       " '1,502,899',\n",
       " '1,089,898',\n",
       " '942,586',\n",
       " '862,957',\n",
       " '861,031',\n",
       " '809,592',\n",
       " '781,653',\n",
       " '774,870',\n",
       " '734,163',\n",
       " '530,363',\n",
       " '526,376',\n",
       " '492,229',\n",
       " '315,881',\n",
       " '304,063',\n",
       " '297,204',\n",
       " '245,895',\n",
       " '155,956',\n",
       " '153,845',\n",
       " '73,170',\n",
       " '49,845',\n",
       " '42,114',\n",
       " '36,656',\n",
       " '33,481',\n",
       " '28,723',\n",
       " '27,869',\n",
       " '27,283',\n",
       " '24,603',\n",
       " '19,520',\n",
       " '-']"
      ]
     },
     "execution_count": 80,
     "metadata": {},
     "output_type": "execute_result"
    }
   ],
   "source": [
    "#scraping gsdp from gsdp tags\n",
    "for i in gsdp_:\n",
    "    gsdps_=i.text.replace(\"\\n\",\" \")\n",
    "    GSDP_18_19.append(gsdps_)\n",
    "GSDP_18_19"
   ]
  },
  {
   "cell_type": "code",
   "execution_count": 81,
   "metadata": {},
   "outputs": [
    {
     "data": {
      "text/plain": [
       "[<selenium.webdriver.remote.webelement.WebElement (session=\"dee1bde104c29b46e930d90761d65413\", element=\"581992fd-fc94-4973-89eb-9c56541b6f52\")>,\n",
       " <selenium.webdriver.remote.webelement.WebElement (session=\"dee1bde104c29b46e930d90761d65413\", element=\"bdca07ea-3bc6-40cb-9ce5-179ba348c9a1\")>,\n",
       " <selenium.webdriver.remote.webelement.WebElement (session=\"dee1bde104c29b46e930d90761d65413\", element=\"8d53cf5a-9d49-4c1e-9940-a9c64944f213\")>]"
      ]
     },
     "execution_count": 81,
     "metadata": {},
     "output_type": "execute_result"
    }
   ],
   "source": [
    "#finding all the share tags\n",
    "share=driver.find_elements_by_xpath(\"//tr[@role='row']/td[5]\")[0:33]\n",
    "share[0:3]"
   ]
  },
  {
   "cell_type": "code",
   "execution_count": 82,
   "metadata": {},
   "outputs": [
    {
     "data": {
      "text/plain": [
       "['13.88%',\n",
       " '8.79%',\n",
       " '8.59%',\n",
       " '8.14%',\n",
       " '7.92%',\n",
       " '5.75%',\n",
       " '4.97%',\n",
       " '4.55%',\n",
       " '4.54%',\n",
       " '4.27%',\n",
       " '4.12%',\n",
       " '4.08%',\n",
       " '3.87%',\n",
       " '2.80%',\n",
       " '2.77%',\n",
       " '2.59%',\n",
       " '1.67%',\n",
       " '1.60%',\n",
       " '1.57%',\n",
       " '1.30%',\n",
       " '0.82%',\n",
       " '0.81%',\n",
       " '0.39%',\n",
       " '0.26%',\n",
       " '0.22%',\n",
       " '0.19%',\n",
       " '0.18%',\n",
       " '0.15%',\n",
       " '0.15%',\n",
       " '0.14%',\n",
       " '0.13%',\n",
       " '0.10%',\n",
       " '-']"
      ]
     },
     "execution_count": 82,
     "metadata": {},
     "output_type": "execute_result"
    }
   ],
   "source": [
    "#scraping share from tags\n",
    "for i in share:\n",
    "    shares=i.text.replace(\"\\n\",\" \")\n",
    "    Share.append(shares)\n",
    "Share"
   ]
  },
  {
   "cell_type": "code",
   "execution_count": 83,
   "metadata": {},
   "outputs": [
    {
     "data": {
      "text/plain": [
       "[<selenium.webdriver.remote.webelement.WebElement (session=\"dee1bde104c29b46e930d90761d65413\", element=\"3764b599-db98-4c41-9c0b-3bbd12d7583c\")>,\n",
       " <selenium.webdriver.remote.webelement.WebElement (session=\"dee1bde104c29b46e930d90761d65413\", element=\"20af709f-6cf5-4638-934a-9ebb0d07c8a2\")>,\n",
       " <selenium.webdriver.remote.webelement.WebElement (session=\"dee1bde104c29b46e930d90761d65413\", element=\"37b88837-7d0a-4341-983b-000e86062adf\")>]"
      ]
     },
     "execution_count": 83,
     "metadata": {},
     "output_type": "execute_result"
    }
   ],
   "source": [
    "#finding all the gdp tags\n",
    "gdp=driver.find_elements_by_xpath(\"//tr[@role='row']/td[6]\")[0:33]\n",
    "gdp[0:3]"
   ]
  },
  {
   "cell_type": "code",
   "execution_count": 84,
   "metadata": {},
   "outputs": [
    {
     "data": {
      "text/plain": [
       "['398.145',\n",
       " '252.278',\n",
       " '246.529',\n",
       " '233.552',\n",
       " '227.276',\n",
       " '164.820',\n",
       " '142.543',\n",
       " '130.501',\n",
       " '130.210',\n",
       " '122.431',\n",
       " '118.206',\n",
       " '117.180',\n",
       " '111.024',\n",
       " '80.204',\n",
       " '79.601',\n",
       " '74.437',\n",
       " '47.769',\n",
       " '45.982',\n",
       " '44.945',\n",
       " '37.186',\n",
       " '23.584',\n",
       " '23.265',\n",
       " '11.065',\n",
       " '7.538',\n",
       " '6.369',\n",
       " '5.543',\n",
       " '5.063',\n",
       " '4.344',\n",
       " '4.214',\n",
       " '4.126',\n",
       " '3.721',\n",
       " '2.952',\n",
       " '-']"
      ]
     },
     "execution_count": 84,
     "metadata": {},
     "output_type": "execute_result"
    }
   ],
   "source": [
    "#scraping gdp from tags\n",
    "for i in gdp:\n",
    "    gdp_=i.text.replace(\"\\n\",\" \")\n",
    "    GDP.append(gdp_)\n",
    "GDP"
   ]
  },
  {
   "cell_type": "code",
   "execution_count": 85,
   "metadata": {},
   "outputs": [
    {
     "name": "stdout",
     "output_type": "stream",
     "text": [
      "33 33 33 33 33 33\n"
     ]
    }
   ],
   "source": [
    "#printing lengths\n",
    "print(len(Rank),len(State),len(GSDP_19_20),len(GSDP_18_19),len(Share),len(GDP))"
   ]
  },
  {
   "cell_type": "code",
   "execution_count": 86,
   "metadata": {},
   "outputs": [],
   "source": [
    "#creating a dataframe\n",
    "India_gdp=pd.DataFrame({})\n",
    "India_gdp['Rank']=Rank\n",
    "India_gdp['State']=State\n",
    "India_gdp['GSDP_19_20']=GSDP_19_20\n",
    "India_gdp['GSDP_18_19']=GSDP_18_19\n",
    "India_gdp['Share']=Share\n",
    "India_gdp['GDP']=GDP"
   ]
  },
  {
   "cell_type": "code",
   "execution_count": 87,
   "metadata": {},
   "outputs": [
    {
     "data": {
      "text/html": [
       "<div>\n",
       "<style scoped>\n",
       "    .dataframe tbody tr th:only-of-type {\n",
       "        vertical-align: middle;\n",
       "    }\n",
       "\n",
       "    .dataframe tbody tr th {\n",
       "        vertical-align: top;\n",
       "    }\n",
       "\n",
       "    .dataframe thead th {\n",
       "        text-align: right;\n",
       "    }\n",
       "</style>\n",
       "<table border=\"1\" class=\"dataframe\">\n",
       "  <thead>\n",
       "    <tr style=\"text-align: right;\">\n",
       "      <th></th>\n",
       "      <th>Rank</th>\n",
       "      <th>State</th>\n",
       "      <th>GSDP_19_20</th>\n",
       "      <th>GSDP_18_19</th>\n",
       "      <th>Share</th>\n",
       "      <th>GDP</th>\n",
       "    </tr>\n",
       "  </thead>\n",
       "  <tbody>\n",
       "    <tr>\n",
       "      <th>0</th>\n",
       "      <td>1</td>\n",
       "      <td>Maharashtra</td>\n",
       "      <td>-</td>\n",
       "      <td>2,632,792</td>\n",
       "      <td>13.88%</td>\n",
       "      <td>398.145</td>\n",
       "    </tr>\n",
       "    <tr>\n",
       "      <th>1</th>\n",
       "      <td>2</td>\n",
       "      <td>Uttar Pradesh</td>\n",
       "      <td>1,794,508</td>\n",
       "      <td>1,668,229</td>\n",
       "      <td>8.79%</td>\n",
       "      <td>252.278</td>\n",
       "    </tr>\n",
       "    <tr>\n",
       "      <th>2</th>\n",
       "      <td>3</td>\n",
       "      <td>Tamil Nadu</td>\n",
       "      <td>1,845,853</td>\n",
       "      <td>1,630,208</td>\n",
       "      <td>8.59%</td>\n",
       "      <td>246.529</td>\n",
       "    </tr>\n",
       "    <tr>\n",
       "      <th>3</th>\n",
       "      <td>4</td>\n",
       "      <td>Karnataka</td>\n",
       "      <td>1,699,115</td>\n",
       "      <td>1,544,399</td>\n",
       "      <td>8.14%</td>\n",
       "      <td>233.552</td>\n",
       "    </tr>\n",
       "    <tr>\n",
       "      <th>4</th>\n",
       "      <td>5</td>\n",
       "      <td>Gujarat</td>\n",
       "      <td>-</td>\n",
       "      <td>1,502,899</td>\n",
       "      <td>7.92%</td>\n",
       "      <td>227.276</td>\n",
       "    </tr>\n",
       "    <tr>\n",
       "      <th>5</th>\n",
       "      <td>6</td>\n",
       "      <td>West Bengal</td>\n",
       "      <td>1,253,832</td>\n",
       "      <td>1,089,898</td>\n",
       "      <td>5.75%</td>\n",
       "      <td>164.820</td>\n",
       "    </tr>\n",
       "    <tr>\n",
       "      <th>6</th>\n",
       "      <td>7</td>\n",
       "      <td>Rajasthan</td>\n",
       "      <td>1,020,989</td>\n",
       "      <td>942,586</td>\n",
       "      <td>4.97%</td>\n",
       "      <td>142.543</td>\n",
       "    </tr>\n",
       "    <tr>\n",
       "      <th>7</th>\n",
       "      <td>8</td>\n",
       "      <td>Andhra Pradesh</td>\n",
       "      <td>972,782</td>\n",
       "      <td>862,957</td>\n",
       "      <td>4.55%</td>\n",
       "      <td>130.501</td>\n",
       "    </tr>\n",
       "    <tr>\n",
       "      <th>8</th>\n",
       "      <td>9</td>\n",
       "      <td>Telangana</td>\n",
       "      <td>969,604</td>\n",
       "      <td>861,031</td>\n",
       "      <td>4.54%</td>\n",
       "      <td>130.210</td>\n",
       "    </tr>\n",
       "    <tr>\n",
       "      <th>9</th>\n",
       "      <td>10</td>\n",
       "      <td>Madhya Pradesh</td>\n",
       "      <td>906,672</td>\n",
       "      <td>809,592</td>\n",
       "      <td>4.27%</td>\n",
       "      <td>122.431</td>\n",
       "    </tr>\n",
       "    <tr>\n",
       "      <th>10</th>\n",
       "      <td>11</td>\n",
       "      <td>Kerala</td>\n",
       "      <td>-</td>\n",
       "      <td>781,653</td>\n",
       "      <td>4.12%</td>\n",
       "      <td>118.206</td>\n",
       "    </tr>\n",
       "    <tr>\n",
       "      <th>11</th>\n",
       "      <td>12</td>\n",
       "      <td>Delhi</td>\n",
       "      <td>856,112</td>\n",
       "      <td>774,870</td>\n",
       "      <td>4.08%</td>\n",
       "      <td>117.180</td>\n",
       "    </tr>\n",
       "    <tr>\n",
       "      <th>12</th>\n",
       "      <td>13</td>\n",
       "      <td>Haryana</td>\n",
       "      <td>831,610</td>\n",
       "      <td>734,163</td>\n",
       "      <td>3.87%</td>\n",
       "      <td>111.024</td>\n",
       "    </tr>\n",
       "    <tr>\n",
       "      <th>13</th>\n",
       "      <td>14</td>\n",
       "      <td>Bihar</td>\n",
       "      <td>611,804</td>\n",
       "      <td>530,363</td>\n",
       "      <td>2.80%</td>\n",
       "      <td>80.204</td>\n",
       "    </tr>\n",
       "    <tr>\n",
       "      <th>14</th>\n",
       "      <td>15</td>\n",
       "      <td>Punjab</td>\n",
       "      <td>574,760</td>\n",
       "      <td>526,376</td>\n",
       "      <td>2.77%</td>\n",
       "      <td>79.601</td>\n",
       "    </tr>\n",
       "    <tr>\n",
       "      <th>15</th>\n",
       "      <td>16</td>\n",
       "      <td>Odisha</td>\n",
       "      <td>531,374</td>\n",
       "      <td>492,229</td>\n",
       "      <td>2.59%</td>\n",
       "      <td>74.437</td>\n",
       "    </tr>\n",
       "    <tr>\n",
       "      <th>16</th>\n",
       "      <td>17</td>\n",
       "      <td>Assam</td>\n",
       "      <td>-</td>\n",
       "      <td>315,881</td>\n",
       "      <td>1.67%</td>\n",
       "      <td>47.769</td>\n",
       "    </tr>\n",
       "    <tr>\n",
       "      <th>17</th>\n",
       "      <td>18</td>\n",
       "      <td>Chhattisgarh</td>\n",
       "      <td>329,180</td>\n",
       "      <td>304,063</td>\n",
       "      <td>1.60%</td>\n",
       "      <td>45.982</td>\n",
       "    </tr>\n",
       "    <tr>\n",
       "      <th>18</th>\n",
       "      <td>19</td>\n",
       "      <td>Jharkhand</td>\n",
       "      <td>328,598</td>\n",
       "      <td>297,204</td>\n",
       "      <td>1.57%</td>\n",
       "      <td>44.945</td>\n",
       "    </tr>\n",
       "    <tr>\n",
       "      <th>19</th>\n",
       "      <td>20</td>\n",
       "      <td>Uttarakhand</td>\n",
       "      <td>-</td>\n",
       "      <td>245,895</td>\n",
       "      <td>1.30%</td>\n",
       "      <td>37.186</td>\n",
       "    </tr>\n",
       "    <tr>\n",
       "      <th>20</th>\n",
       "      <td>21</td>\n",
       "      <td>Jammu &amp; Kashmir</td>\n",
       "      <td>-</td>\n",
       "      <td>155,956</td>\n",
       "      <td>0.82%</td>\n",
       "      <td>23.584</td>\n",
       "    </tr>\n",
       "    <tr>\n",
       "      <th>21</th>\n",
       "      <td>22</td>\n",
       "      <td>Himachal Pradesh</td>\n",
       "      <td>165,472</td>\n",
       "      <td>153,845</td>\n",
       "      <td>0.81%</td>\n",
       "      <td>23.265</td>\n",
       "    </tr>\n",
       "    <tr>\n",
       "      <th>22</th>\n",
       "      <td>23</td>\n",
       "      <td>Goa</td>\n",
       "      <td>-</td>\n",
       "      <td>73,170</td>\n",
       "      <td>0.39%</td>\n",
       "      <td>11.065</td>\n",
       "    </tr>\n",
       "    <tr>\n",
       "      <th>23</th>\n",
       "      <td>24</td>\n",
       "      <td>Tripura</td>\n",
       "      <td>55,358</td>\n",
       "      <td>49,845</td>\n",
       "      <td>0.26%</td>\n",
       "      <td>7.538</td>\n",
       "    </tr>\n",
       "    <tr>\n",
       "      <th>24</th>\n",
       "      <td>25</td>\n",
       "      <td>Chandigarh</td>\n",
       "      <td>-</td>\n",
       "      <td>42,114</td>\n",
       "      <td>0.22%</td>\n",
       "      <td>6.369</td>\n",
       "    </tr>\n",
       "    <tr>\n",
       "      <th>25</th>\n",
       "      <td>26</td>\n",
       "      <td>Puducherry</td>\n",
       "      <td>40,802</td>\n",
       "      <td>36,656</td>\n",
       "      <td>0.19%</td>\n",
       "      <td>5.543</td>\n",
       "    </tr>\n",
       "    <tr>\n",
       "      <th>26</th>\n",
       "      <td>27</td>\n",
       "      <td>Meghalaya</td>\n",
       "      <td>36,572</td>\n",
       "      <td>33,481</td>\n",
       "      <td>0.18%</td>\n",
       "      <td>5.063</td>\n",
       "    </tr>\n",
       "    <tr>\n",
       "      <th>27</th>\n",
       "      <td>28</td>\n",
       "      <td>Sikkim</td>\n",
       "      <td>32,496</td>\n",
       "      <td>28,723</td>\n",
       "      <td>0.15%</td>\n",
       "      <td>4.344</td>\n",
       "    </tr>\n",
       "    <tr>\n",
       "      <th>28</th>\n",
       "      <td>29</td>\n",
       "      <td>Manipur</td>\n",
       "      <td>-</td>\n",
       "      <td>27,869</td>\n",
       "      <td>0.15%</td>\n",
       "      <td>4.214</td>\n",
       "    </tr>\n",
       "    <tr>\n",
       "      <th>29</th>\n",
       "      <td>30</td>\n",
       "      <td>Nagaland</td>\n",
       "      <td>-</td>\n",
       "      <td>27,283</td>\n",
       "      <td>0.14%</td>\n",
       "      <td>4.126</td>\n",
       "    </tr>\n",
       "    <tr>\n",
       "      <th>30</th>\n",
       "      <td>31</td>\n",
       "      <td>Arunachal Pradesh</td>\n",
       "      <td>-</td>\n",
       "      <td>24,603</td>\n",
       "      <td>0.13%</td>\n",
       "      <td>3.721</td>\n",
       "    </tr>\n",
       "    <tr>\n",
       "      <th>31</th>\n",
       "      <td>32</td>\n",
       "      <td>Mizoram</td>\n",
       "      <td>-</td>\n",
       "      <td>19,520</td>\n",
       "      <td>0.10%</td>\n",
       "      <td>2.952</td>\n",
       "    </tr>\n",
       "    <tr>\n",
       "      <th>32</th>\n",
       "      <td>33</td>\n",
       "      <td>Andaman &amp; Nicobar Islands</td>\n",
       "      <td>-</td>\n",
       "      <td>-</td>\n",
       "      <td>-</td>\n",
       "      <td>-</td>\n",
       "    </tr>\n",
       "  </tbody>\n",
       "</table>\n",
       "</div>"
      ],
      "text/plain": [
       "   Rank                      State GSDP_19_20 GSDP_18_19   Share      GDP\n",
       "0     1                Maharashtra          -  2,632,792  13.88%  398.145\n",
       "1     2              Uttar Pradesh  1,794,508  1,668,229   8.79%  252.278\n",
       "2     3                 Tamil Nadu  1,845,853  1,630,208   8.59%  246.529\n",
       "3     4                  Karnataka  1,699,115  1,544,399   8.14%  233.552\n",
       "4     5                    Gujarat          -  1,502,899   7.92%  227.276\n",
       "5     6                West Bengal  1,253,832  1,089,898   5.75%  164.820\n",
       "6     7                  Rajasthan  1,020,989    942,586   4.97%  142.543\n",
       "7     8             Andhra Pradesh    972,782    862,957   4.55%  130.501\n",
       "8     9                  Telangana    969,604    861,031   4.54%  130.210\n",
       "9    10             Madhya Pradesh    906,672    809,592   4.27%  122.431\n",
       "10   11                     Kerala          -    781,653   4.12%  118.206\n",
       "11   12                      Delhi    856,112    774,870   4.08%  117.180\n",
       "12   13                    Haryana    831,610    734,163   3.87%  111.024\n",
       "13   14                      Bihar    611,804    530,363   2.80%   80.204\n",
       "14   15                     Punjab    574,760    526,376   2.77%   79.601\n",
       "15   16                     Odisha    531,374    492,229   2.59%   74.437\n",
       "16   17                      Assam          -    315,881   1.67%   47.769\n",
       "17   18               Chhattisgarh    329,180    304,063   1.60%   45.982\n",
       "18   19                  Jharkhand    328,598    297,204   1.57%   44.945\n",
       "19   20                Uttarakhand          -    245,895   1.30%   37.186\n",
       "20   21            Jammu & Kashmir          -    155,956   0.82%   23.584\n",
       "21   22           Himachal Pradesh    165,472    153,845   0.81%   23.265\n",
       "22   23                        Goa          -     73,170   0.39%   11.065\n",
       "23   24                    Tripura     55,358     49,845   0.26%    7.538\n",
       "24   25                 Chandigarh          -     42,114   0.22%    6.369\n",
       "25   26                 Puducherry     40,802     36,656   0.19%    5.543\n",
       "26   27                  Meghalaya     36,572     33,481   0.18%    5.063\n",
       "27   28                     Sikkim     32,496     28,723   0.15%    4.344\n",
       "28   29                    Manipur          -     27,869   0.15%    4.214\n",
       "29   30                   Nagaland          -     27,283   0.14%    4.126\n",
       "30   31          Arunachal Pradesh          -     24,603   0.13%    3.721\n",
       "31   32                    Mizoram          -     19,520   0.10%    2.952\n",
       "32   33  Andaman & Nicobar Islands          -          -       -        -"
      ]
     },
     "execution_count": 87,
     "metadata": {},
     "output_type": "execute_result"
    }
   ],
   "source": [
    "India_gdp"
   ]
  },
  {
   "cell_type": "code",
   "execution_count": 88,
   "metadata": {},
   "outputs": [],
   "source": [
    "#converting into csv format\n",
    "India_gdp.to_csv(\"India_gdp.csv\")"
   ]
  },
  {
   "cell_type": "code",
   "execution_count": 89,
   "metadata": {},
   "outputs": [],
   "source": [
    "#closing the driver\n",
    "driver.close()"
   ]
  },
  {
   "cell_type": "markdown",
   "metadata": {},
   "source": [
    "# 5. Scrape the details of trending repositories on Github.com. Url = https://github.com/"
   ]
  },
  {
   "cell_type": "code",
   "execution_count": 90,
   "metadata": {},
   "outputs": [],
   "source": [
    "#connecting to the webdriver\n",
    "driver=webdriver.Chrome(r\"C:\\Users\\sandeep\\Downloads\\chromedriver_win32\\chromedriver.exe\")"
   ]
  },
  {
   "cell_type": "code",
   "execution_count": 91,
   "metadata": {},
   "outputs": [],
   "source": [
    "#specifying the url of the webpage to be scraped\n",
    "url=\"https://github.com/\""
   ]
  },
  {
   "cell_type": "code",
   "execution_count": 92,
   "metadata": {},
   "outputs": [],
   "source": [
    "#opening the webpage through our driver\n",
    "driver.get(url)"
   ]
  },
  {
   "cell_type": "code",
   "execution_count": 93,
   "metadata": {},
   "outputs": [],
   "source": [
    "#going to the trending repositories page\n",
    "WebDriverWait(driver,20).until(EC.element_to_be_clickable((By.XPATH, '/html/body/div[1]/header/div/div[1]/div[2]/button/svg'))).click()\n",
    "WebDriverWait(driver,20).until(EC.element_to_be_clickable((By.XPATH, '/html/body/div[1]/header/div/div[2]/nav/ul/li[4]/details/summary'))).click()\n",
    "WebDriverWait(driver,20).until(EC.element_to_be_clickable((By.XPATH, '/html/body/div[1]/header/div/div[2]/nav/ul/li[4]/details/div/ul[2]/li[3]/a'))).click()"
   ]
  },
  {
   "cell_type": "code",
   "execution_count": 94,
   "metadata": {},
   "outputs": [],
   "source": [
    "#creating empty lists\n",
    "Repository_title=[]\n",
    "Repository_description=[]\n",
    "Contributors_count=[]\n",
    "Language_used=[]"
   ]
  },
  {
   "cell_type": "code",
   "execution_count": 95,
   "metadata": {},
   "outputs": [
    {
     "data": {
      "text/plain": [
       "[<selenium.webdriver.remote.webelement.WebElement (session=\"2f9d94f8e96caa2a0f8e4edc84f313ef\", element=\"117791f5-0c5c-458f-8b55-c789da439934\")>,\n",
       " <selenium.webdriver.remote.webelement.WebElement (session=\"2f9d94f8e96caa2a0f8e4edc84f313ef\", element=\"54e0e47b-bda7-47a1-a59b-d8d7c86ccf68\")>,\n",
       " <selenium.webdriver.remote.webelement.WebElement (session=\"2f9d94f8e96caa2a0f8e4edc84f313ef\", element=\"34492b1b-9726-40e5-87d0-6b333d2b4879\")>]"
      ]
     },
     "execution_count": 95,
     "metadata": {},
     "output_type": "execute_result"
    }
   ],
   "source": [
    "#finding all the title tags\n",
    "title=driver.find_elements_by_xpath(\"//h1[@class='h3 lh-condensed']/a\")\n",
    "title[0:3]"
   ]
  },
  {
   "cell_type": "code",
   "execution_count": 96,
   "metadata": {},
   "outputs": [
    {
     "data": {
      "text/plain": [
       "['libsdl-org / SDL',\n",
       " 'Azure / azure-quickstart-templates',\n",
       " 'system76 / launch',\n",
       " 'benbjohnson / litestream',\n",
       " 'mbround18 / valheim-docker',\n",
       " 'deepmind / deepmind-research',\n",
       " 'satwikkansal / wtfpython',\n",
       " 'vlang / v',\n",
       " 'serhii-londar / open-source-mac-os-apps',\n",
       " 'PowerShell / PowerShell',\n",
       " 'ossu / computer-science',\n",
       " 'iptv-org / iptv',\n",
       " 'streamich / react-use',\n",
       " 'Azure / azure-rest-api-specs',\n",
       " 'adityatelange / hugo-PaperMod',\n",
       " 'reactend / reactend-express',\n",
       " 'flybywiresim / a32nx',\n",
       " 'Dimbreath / GenshinData',\n",
       " 'hashicorp / vault',\n",
       " 'abhishekkrthakur / colabcode',\n",
       " 'florisboard / florisboard',\n",
       " 'goreleaser / goreleaser',\n",
       " 'donnemartin / system-design-primer',\n",
       " 'dotnet / aspnetcore',\n",
       " 'reed-hong / awesome-libra']"
      ]
     },
     "execution_count": 96,
     "metadata": {},
     "output_type": "execute_result"
    }
   ],
   "source": [
    "#scraping titles from tags\n",
    "for i in title:\n",
    "    titles=i.text.replace(\"\\n\",\" \")\n",
    "    Repository_title.append(titles)\n",
    "Repository_title"
   ]
  },
  {
   "cell_type": "code",
   "execution_count": 97,
   "metadata": {},
   "outputs": [
    {
     "data": {
      "text/plain": [
       "[<selenium.webdriver.remote.webelement.WebElement (session=\"2f9d94f8e96caa2a0f8e4edc84f313ef\", element=\"babfcdfd-67c1-4e70-88a3-4f3532f8883f\")>,\n",
       " <selenium.webdriver.remote.webelement.WebElement (session=\"2f9d94f8e96caa2a0f8e4edc84f313ef\", element=\"2779ea66-8b7f-4071-81c6-20a0eeb666b1\")>,\n",
       " <selenium.webdriver.remote.webelement.WebElement (session=\"2f9d94f8e96caa2a0f8e4edc84f313ef\", element=\"3e07ac85-89fb-414c-adec-fa61ff7832e3\")>]"
      ]
     },
     "execution_count": 97,
     "metadata": {},
     "output_type": "execute_result"
    }
   ],
   "source": [
    "#finding all the description tags\n",
    "description=driver.find_elements_by_xpath(\"//p[@class='col-9 text-gray my-1 pr-4']\")\n",
    "description[0:3]"
   ]
  },
  {
   "cell_type": "code",
   "execution_count": 98,
   "metadata": {},
   "outputs": [
    {
     "data": {
      "text/plain": [
       "['Simple Directmedia Layer',\n",
       " 'Azure Quickstart Templates',\n",
       " 'System76 Launch Configurable Keyboard',\n",
       " 'Streaming S3 replication for SQLite.',\n",
       " 'Valheim Docker server with Odin the CLI tool.',\n",
       " 'This repository contains implementations and illustrative code to accompany DeepMind publications',\n",
       " 'What the f*ck Python?',\n",
       " 'Simple, fast, safe, compiled language for developing maintainable software. Compiles itself in <1s with zero library dependencies. https://vlang.io',\n",
       " '🚀 Awesome list of open source applications for macOS. https://t.me/opensourcemacosapps',\n",
       " 'PowerShell for every system!',\n",
       " '🎓 Path to a free self-taught education in Computer Science!',\n",
       " 'Collection of 5000+ publicly available IPTV channels from all over the world',\n",
       " 'React Hooks — 👍',\n",
       " 'The source for REST API specifications for Microsoft Azure.',\n",
       " 'A fast, clean, responsive Hugo theme',\n",
       " 'React renderer to build Node.js server',\n",
       " 'The A32NX Project is a community driven open source project to create a free Airbus A320neo in Microsoft Flight Simulator that is as close to reality as possible. It aims to enhance the default A320neo by improving the systems depth and functionality to bring it up to payware-level, all for free.',\n",
       " 'Repository containing the game data for the game Genshin Impact.',\n",
       " 'A tool for secrets management, encryption as a service, and privileged access management',\n",
       " 'Run VSCode (codeserver) on Google Colab or Kaggle Notebooks',\n",
       " 'An open-source keyboard for Android. Currently in alpha/early-beta stage.',\n",
       " 'Deliver Go binaries as fast and easily as possible',\n",
       " 'Learn how to design large-scale systems. Prep for the system design interview. Includes Anki flashcards.',\n",
       " 'ASP.NET Core is a cross-platform .NET framework for building modern cloud-based web applications on Windows, Mac, or Linux.',\n",
       " 'A Curated List of Awesome Facebook Libra Resources']"
      ]
     },
     "execution_count": 98,
     "metadata": {},
     "output_type": "execute_result"
    }
   ],
   "source": [
    "#scraping description from tags\n",
    "for i in description:\n",
    "    descriptions=i.text.replace(\"\\n\",\" \")\n",
    "    Repository_description.append(descriptions)\n",
    "Repository_description"
   ]
  },
  {
   "cell_type": "code",
   "execution_count": 99,
   "metadata": {},
   "outputs": [
    {
     "data": {
      "text/plain": [
       "[<selenium.webdriver.remote.webelement.WebElement (session=\"2f9d94f8e96caa2a0f8e4edc84f313ef\", element=\"6d96abd8-2049-4c96-80c0-2469c5661ace\")>,\n",
       " <selenium.webdriver.remote.webelement.WebElement (session=\"2f9d94f8e96caa2a0f8e4edc84f313ef\", element=\"943bca85-e38d-427e-9262-10b12519cf1d\")>,\n",
       " <selenium.webdriver.remote.webelement.WebElement (session=\"2f9d94f8e96caa2a0f8e4edc84f313ef\", element=\"0d23873d-21ea-40af-bd69-21b5013dd120\")>]"
      ]
     },
     "execution_count": 99,
     "metadata": {},
     "output_type": "execute_result"
    }
   ],
   "source": [
    "#finding all the contributors_count tags\n",
    "contributor=driver.find_elements_by_xpath('/html/body/div[4]/main/div[3]/div/div[2]/article/div[2]/a[2]')\n",
    "contributor[0:3]"
   ]
  },
  {
   "cell_type": "code",
   "execution_count": 100,
   "metadata": {},
   "outputs": [
    {
     "data": {
      "text/plain": [
       "['23',\n",
       " '12,234',\n",
       " '14',\n",
       " '32',\n",
       " '12',\n",
       " '978',\n",
       " '2,095',\n",
       " '1,326',\n",
       " '1,648',\n",
       " '3,923',\n",
       " '10,822',\n",
       " '861',\n",
       " '1,373',\n",
       " '2,649',\n",
       " '230',\n",
       " '8',\n",
       " '466',\n",
       " '20',\n",
       " '2,793',\n",
       " '144',\n",
       " '48',\n",
       " '503',\n",
       " '22,007',\n",
       " '6,007',\n",
       " '168']"
      ]
     },
     "execution_count": 100,
     "metadata": {},
     "output_type": "execute_result"
    }
   ],
   "source": [
    "#scraping contributors_count from tags\n",
    "for i in contributor:\n",
    "    contributors=i.text.replace(\"\\n\",\" \")\n",
    "    Contributors_count.append(contributors)\n",
    "Contributors_count"
   ]
  },
  {
   "cell_type": "code",
   "execution_count": 101,
   "metadata": {},
   "outputs": [
    {
     "data": {
      "text/plain": [
       "[<selenium.webdriver.remote.webelement.WebElement (session=\"2f9d94f8e96caa2a0f8e4edc84f313ef\", element=\"381d79ae-8722-4d86-bc21-d646201ca12d\")>,\n",
       " <selenium.webdriver.remote.webelement.WebElement (session=\"2f9d94f8e96caa2a0f8e4edc84f313ef\", element=\"75c528af-36ad-4e8e-85e7-2c0ecd5abe89\")>,\n",
       " <selenium.webdriver.remote.webelement.WebElement (session=\"2f9d94f8e96caa2a0f8e4edc84f313ef\", element=\"b921f4d0-3a51-49f0-b1d2-35d225837f57\")>]"
      ]
     },
     "execution_count": 101,
     "metadata": {},
     "output_type": "execute_result"
    }
   ],
   "source": [
    "#finding all the language tags\n",
    "language=driver.find_elements_by_xpath(\"//span[@itemprop='programmingLanguage']\")\n",
    "language[0:3]"
   ]
  },
  {
   "cell_type": "code",
   "execution_count": 102,
   "metadata": {},
   "outputs": [
    {
     "data": {
      "text/plain": [
       "['C',\n",
       " 'PowerShell',\n",
       " 'Shell',\n",
       " 'Go',\n",
       " 'Rust',\n",
       " 'Jupyter Notebook',\n",
       " 'Python',\n",
       " 'V',\n",
       " 'Swift',\n",
       " 'C#',\n",
       " 'JavaScript',\n",
       " 'TypeScript',\n",
       " 'TypeScript',\n",
       " 'HTML',\n",
       " 'JavaScript',\n",
       " 'JavaScript',\n",
       " 'Go',\n",
       " 'Python',\n",
       " 'Kotlin',\n",
       " 'Go',\n",
       " 'Python',\n",
       " 'C#']"
      ]
     },
     "execution_count": 102,
     "metadata": {},
     "output_type": "execute_result"
    }
   ],
   "source": [
    "#scraping languages from tags\n",
    "for i in language:\n",
    "    languages=i.text.replace(\"\\n\",\" \")\n",
    "    Language_used.append(languages)\n",
    "Language_used"
   ]
  },
  {
   "cell_type": "code",
   "execution_count": 105,
   "metadata": {},
   "outputs": [],
   "source": [
    "#inserting hyphen in missing values\n",
    "Language_used.insert(10, '-')\n",
    "Language_used.insert(17, '-')\n",
    "Language_used.insert(24, '-')"
   ]
  },
  {
   "cell_type": "code",
   "execution_count": 106,
   "metadata": {},
   "outputs": [
    {
     "name": "stdout",
     "output_type": "stream",
     "text": [
      "25 25 25 25\n"
     ]
    }
   ],
   "source": [
    "#printing lengths\n",
    "print(len(Repository_title),len(Repository_description),len(Contributors_count),len(Language_used))"
   ]
  },
  {
   "cell_type": "code",
   "execution_count": 107,
   "metadata": {},
   "outputs": [],
   "source": [
    "#creating a dataframe\n",
    "Github=pd.DataFrame({})\n",
    "Github['Repository_title']=Repository_title\n",
    "Github['Repository_description']=Repository_description\n",
    "Github['Contributors_count']=Contributors_count\n",
    "Github['Language_used']=Language_used"
   ]
  },
  {
   "cell_type": "code",
   "execution_count": 108,
   "metadata": {},
   "outputs": [
    {
     "data": {
      "text/html": [
       "<div>\n",
       "<style scoped>\n",
       "    .dataframe tbody tr th:only-of-type {\n",
       "        vertical-align: middle;\n",
       "    }\n",
       "\n",
       "    .dataframe tbody tr th {\n",
       "        vertical-align: top;\n",
       "    }\n",
       "\n",
       "    .dataframe thead th {\n",
       "        text-align: right;\n",
       "    }\n",
       "</style>\n",
       "<table border=\"1\" class=\"dataframe\">\n",
       "  <thead>\n",
       "    <tr style=\"text-align: right;\">\n",
       "      <th></th>\n",
       "      <th>Repository_title</th>\n",
       "      <th>Repository_description</th>\n",
       "      <th>Contributors_count</th>\n",
       "      <th>Language_used</th>\n",
       "    </tr>\n",
       "  </thead>\n",
       "  <tbody>\n",
       "    <tr>\n",
       "      <th>0</th>\n",
       "      <td>libsdl-org / SDL</td>\n",
       "      <td>Simple Directmedia Layer</td>\n",
       "      <td>23</td>\n",
       "      <td>C</td>\n",
       "    </tr>\n",
       "    <tr>\n",
       "      <th>1</th>\n",
       "      <td>Azure / azure-quickstart-templates</td>\n",
       "      <td>Azure Quickstart Templates</td>\n",
       "      <td>12,234</td>\n",
       "      <td>PowerShell</td>\n",
       "    </tr>\n",
       "    <tr>\n",
       "      <th>2</th>\n",
       "      <td>system76 / launch</td>\n",
       "      <td>System76 Launch Configurable Keyboard</td>\n",
       "      <td>14</td>\n",
       "      <td>Shell</td>\n",
       "    </tr>\n",
       "    <tr>\n",
       "      <th>3</th>\n",
       "      <td>benbjohnson / litestream</td>\n",
       "      <td>Streaming S3 replication for SQLite.</td>\n",
       "      <td>32</td>\n",
       "      <td>Go</td>\n",
       "    </tr>\n",
       "    <tr>\n",
       "      <th>4</th>\n",
       "      <td>mbround18 / valheim-docker</td>\n",
       "      <td>Valheim Docker server with Odin the CLI tool.</td>\n",
       "      <td>12</td>\n",
       "      <td>Rust</td>\n",
       "    </tr>\n",
       "    <tr>\n",
       "      <th>5</th>\n",
       "      <td>deepmind / deepmind-research</td>\n",
       "      <td>This repository contains implementations and i...</td>\n",
       "      <td>978</td>\n",
       "      <td>Jupyter Notebook</td>\n",
       "    </tr>\n",
       "    <tr>\n",
       "      <th>6</th>\n",
       "      <td>satwikkansal / wtfpython</td>\n",
       "      <td>What the f*ck Python?</td>\n",
       "      <td>2,095</td>\n",
       "      <td>Python</td>\n",
       "    </tr>\n",
       "    <tr>\n",
       "      <th>7</th>\n",
       "      <td>vlang / v</td>\n",
       "      <td>Simple, fast, safe, compiled language for deve...</td>\n",
       "      <td>1,326</td>\n",
       "      <td>V</td>\n",
       "    </tr>\n",
       "    <tr>\n",
       "      <th>8</th>\n",
       "      <td>serhii-londar / open-source-mac-os-apps</td>\n",
       "      <td>🚀 Awesome list of open source applications for...</td>\n",
       "      <td>1,648</td>\n",
       "      <td>Swift</td>\n",
       "    </tr>\n",
       "    <tr>\n",
       "      <th>9</th>\n",
       "      <td>PowerShell / PowerShell</td>\n",
       "      <td>PowerShell for every system!</td>\n",
       "      <td>3,923</td>\n",
       "      <td>C#</td>\n",
       "    </tr>\n",
       "    <tr>\n",
       "      <th>10</th>\n",
       "      <td>ossu / computer-science</td>\n",
       "      <td>🎓 Path to a free self-taught education in Comp...</td>\n",
       "      <td>10,822</td>\n",
       "      <td>-</td>\n",
       "    </tr>\n",
       "    <tr>\n",
       "      <th>11</th>\n",
       "      <td>iptv-org / iptv</td>\n",
       "      <td>Collection of 5000+ publicly available IPTV ch...</td>\n",
       "      <td>861</td>\n",
       "      <td>JavaScript</td>\n",
       "    </tr>\n",
       "    <tr>\n",
       "      <th>12</th>\n",
       "      <td>streamich / react-use</td>\n",
       "      <td>React Hooks — 👍</td>\n",
       "      <td>1,373</td>\n",
       "      <td>TypeScript</td>\n",
       "    </tr>\n",
       "    <tr>\n",
       "      <th>13</th>\n",
       "      <td>Azure / azure-rest-api-specs</td>\n",
       "      <td>The source for REST API specifications for Mic...</td>\n",
       "      <td>2,649</td>\n",
       "      <td>TypeScript</td>\n",
       "    </tr>\n",
       "    <tr>\n",
       "      <th>14</th>\n",
       "      <td>adityatelange / hugo-PaperMod</td>\n",
       "      <td>A fast, clean, responsive Hugo theme</td>\n",
       "      <td>230</td>\n",
       "      <td>HTML</td>\n",
       "    </tr>\n",
       "    <tr>\n",
       "      <th>15</th>\n",
       "      <td>reactend / reactend-express</td>\n",
       "      <td>React renderer to build Node.js server</td>\n",
       "      <td>8</td>\n",
       "      <td>JavaScript</td>\n",
       "    </tr>\n",
       "    <tr>\n",
       "      <th>16</th>\n",
       "      <td>flybywiresim / a32nx</td>\n",
       "      <td>The A32NX Project is a community driven open s...</td>\n",
       "      <td>466</td>\n",
       "      <td>JavaScript</td>\n",
       "    </tr>\n",
       "    <tr>\n",
       "      <th>17</th>\n",
       "      <td>Dimbreath / GenshinData</td>\n",
       "      <td>Repository containing the game data for the ga...</td>\n",
       "      <td>20</td>\n",
       "      <td>-</td>\n",
       "    </tr>\n",
       "    <tr>\n",
       "      <th>18</th>\n",
       "      <td>hashicorp / vault</td>\n",
       "      <td>A tool for secrets management, encryption as a...</td>\n",
       "      <td>2,793</td>\n",
       "      <td>Go</td>\n",
       "    </tr>\n",
       "    <tr>\n",
       "      <th>19</th>\n",
       "      <td>abhishekkrthakur / colabcode</td>\n",
       "      <td>Run VSCode (codeserver) on Google Colab or Kag...</td>\n",
       "      <td>144</td>\n",
       "      <td>Python</td>\n",
       "    </tr>\n",
       "    <tr>\n",
       "      <th>20</th>\n",
       "      <td>florisboard / florisboard</td>\n",
       "      <td>An open-source keyboard for Android. Currently...</td>\n",
       "      <td>48</td>\n",
       "      <td>Kotlin</td>\n",
       "    </tr>\n",
       "    <tr>\n",
       "      <th>21</th>\n",
       "      <td>goreleaser / goreleaser</td>\n",
       "      <td>Deliver Go binaries as fast and easily as poss...</td>\n",
       "      <td>503</td>\n",
       "      <td>Go</td>\n",
       "    </tr>\n",
       "    <tr>\n",
       "      <th>22</th>\n",
       "      <td>donnemartin / system-design-primer</td>\n",
       "      <td>Learn how to design large-scale systems. Prep ...</td>\n",
       "      <td>22,007</td>\n",
       "      <td>Python</td>\n",
       "    </tr>\n",
       "    <tr>\n",
       "      <th>23</th>\n",
       "      <td>dotnet / aspnetcore</td>\n",
       "      <td>ASP.NET Core is a cross-platform .NET framewor...</td>\n",
       "      <td>6,007</td>\n",
       "      <td>C#</td>\n",
       "    </tr>\n",
       "    <tr>\n",
       "      <th>24</th>\n",
       "      <td>reed-hong / awesome-libra</td>\n",
       "      <td>A Curated List of Awesome Facebook Libra Resou...</td>\n",
       "      <td>168</td>\n",
       "      <td>-</td>\n",
       "    </tr>\n",
       "  </tbody>\n",
       "</table>\n",
       "</div>"
      ],
      "text/plain": [
       "                           Repository_title  \\\n",
       "0                          libsdl-org / SDL   \n",
       "1        Azure / azure-quickstart-templates   \n",
       "2                         system76 / launch   \n",
       "3                  benbjohnson / litestream   \n",
       "4                mbround18 / valheim-docker   \n",
       "5              deepmind / deepmind-research   \n",
       "6                  satwikkansal / wtfpython   \n",
       "7                                 vlang / v   \n",
       "8   serhii-londar / open-source-mac-os-apps   \n",
       "9                   PowerShell / PowerShell   \n",
       "10                  ossu / computer-science   \n",
       "11                          iptv-org / iptv   \n",
       "12                    streamich / react-use   \n",
       "13             Azure / azure-rest-api-specs   \n",
       "14            adityatelange / hugo-PaperMod   \n",
       "15              reactend / reactend-express   \n",
       "16                     flybywiresim / a32nx   \n",
       "17                  Dimbreath / GenshinData   \n",
       "18                        hashicorp / vault   \n",
       "19             abhishekkrthakur / colabcode   \n",
       "20                florisboard / florisboard   \n",
       "21                  goreleaser / goreleaser   \n",
       "22       donnemartin / system-design-primer   \n",
       "23                      dotnet / aspnetcore   \n",
       "24                reed-hong / awesome-libra   \n",
       "\n",
       "                               Repository_description Contributors_count  \\\n",
       "0                            Simple Directmedia Layer                 23   \n",
       "1                          Azure Quickstart Templates             12,234   \n",
       "2               System76 Launch Configurable Keyboard                 14   \n",
       "3                Streaming S3 replication for SQLite.                 32   \n",
       "4       Valheim Docker server with Odin the CLI tool.                 12   \n",
       "5   This repository contains implementations and i...                978   \n",
       "6                               What the f*ck Python?              2,095   \n",
       "7   Simple, fast, safe, compiled language for deve...              1,326   \n",
       "8   🚀 Awesome list of open source applications for...              1,648   \n",
       "9                        PowerShell for every system!              3,923   \n",
       "10  🎓 Path to a free self-taught education in Comp...             10,822   \n",
       "11  Collection of 5000+ publicly available IPTV ch...                861   \n",
       "12                                    React Hooks — 👍              1,373   \n",
       "13  The source for REST API specifications for Mic...              2,649   \n",
       "14               A fast, clean, responsive Hugo theme                230   \n",
       "15             React renderer to build Node.js server                  8   \n",
       "16  The A32NX Project is a community driven open s...                466   \n",
       "17  Repository containing the game data for the ga...                 20   \n",
       "18  A tool for secrets management, encryption as a...              2,793   \n",
       "19  Run VSCode (codeserver) on Google Colab or Kag...                144   \n",
       "20  An open-source keyboard for Android. Currently...                 48   \n",
       "21  Deliver Go binaries as fast and easily as poss...                503   \n",
       "22  Learn how to design large-scale systems. Prep ...             22,007   \n",
       "23  ASP.NET Core is a cross-platform .NET framewor...              6,007   \n",
       "24  A Curated List of Awesome Facebook Libra Resou...                168   \n",
       "\n",
       "       Language_used  \n",
       "0                  C  \n",
       "1         PowerShell  \n",
       "2              Shell  \n",
       "3                 Go  \n",
       "4               Rust  \n",
       "5   Jupyter Notebook  \n",
       "6             Python  \n",
       "7                  V  \n",
       "8              Swift  \n",
       "9                 C#  \n",
       "10                 -  \n",
       "11        JavaScript  \n",
       "12        TypeScript  \n",
       "13        TypeScript  \n",
       "14              HTML  \n",
       "15        JavaScript  \n",
       "16        JavaScript  \n",
       "17                 -  \n",
       "18                Go  \n",
       "19            Python  \n",
       "20            Kotlin  \n",
       "21                Go  \n",
       "22            Python  \n",
       "23                C#  \n",
       "24                 -  "
      ]
     },
     "execution_count": 108,
     "metadata": {},
     "output_type": "execute_result"
    }
   ],
   "source": [
    "Github"
   ]
  },
  {
   "cell_type": "code",
   "execution_count": 109,
   "metadata": {},
   "outputs": [],
   "source": [
    "#converting into csv format\n",
    "Github.to_csv(\"Github.csv\")"
   ]
  },
  {
   "cell_type": "code",
   "execution_count": 110,
   "metadata": {},
   "outputs": [],
   "source": [
    "#closing the driver\n",
    "driver.close()"
   ]
  },
  {
   "cell_type": "markdown",
   "metadata": {},
   "source": [
    "# 6. Scrape the details of top 100 songs on billiboard.com. Url = https://www.billiboard.com/"
   ]
  },
  {
   "cell_type": "code",
   "execution_count": 111,
   "metadata": {},
   "outputs": [],
   "source": [
    "#connecting to the webdriver\n",
    "driver=webdriver.Chrome(r\"C:\\Users\\sandeep\\Downloads\\chromedriver_win32\\chromedriver.exe\")"
   ]
  },
  {
   "cell_type": "code",
   "execution_count": 112,
   "metadata": {},
   "outputs": [],
   "source": [
    "#specifying the url of the webpage to be scraped\n",
    "url=\"https://www.billboard.com/\""
   ]
  },
  {
   "cell_type": "code",
   "execution_count": 113,
   "metadata": {},
   "outputs": [],
   "source": [
    "#opening the webpage through our driver\n",
    "driver.get(url)"
   ]
  },
  {
   "cell_type": "code",
   "execution_count": 114,
   "metadata": {},
   "outputs": [],
   "source": [
    "#clicking on charts\n",
    "WebDriverWait(driver, 20).until(EC.element_to_be_clickable((By.XPATH, '//*[@id=\"root\"]/div[2]/div[2]/header/div/ul/li[1]/a'))).click()"
   ]
  },
  {
   "cell_type": "code",
   "execution_count": 115,
   "metadata": {},
   "outputs": [],
   "source": [
    "#clicking on hot 100 songs page\n",
    "WebDriverWait(driver, 20).until(EC.element_to_be_clickable((By.XPATH, '//*[@id=\"main\"]/div[2]/div/div[1]/a/div[2]/div[2]/div[1]'))).click()"
   ]
  },
  {
   "cell_type": "code",
   "execution_count": 116,
   "metadata": {},
   "outputs": [],
   "source": [
    "#creating empty lists\n",
    "Song_name=[]\n",
    "Artist_name=[]\n",
    "Last_week_rank=[]\n",
    "Peak_rank=[]\n",
    "Weeks_on_board=[]"
   ]
  },
  {
   "cell_type": "code",
   "execution_count": 117,
   "metadata": {},
   "outputs": [
    {
     "data": {
      "text/plain": [
       "[<selenium.webdriver.remote.webelement.WebElement (session=\"162be2a7fe9a28db5fb275af984331e3\", element=\"9e72a31d-6027-473c-86f4-203b708b3797\")>,\n",
       " <selenium.webdriver.remote.webelement.WebElement (session=\"162be2a7fe9a28db5fb275af984331e3\", element=\"03c820b5-41e7-4019-adbb-261de1d20504\")>,\n",
       " <selenium.webdriver.remote.webelement.WebElement (session=\"162be2a7fe9a28db5fb275af984331e3\", element=\"45acdc58-0303-4c6a-9819-ebd0bb992155\")>]"
      ]
     },
     "execution_count": 117,
     "metadata": {},
     "output_type": "execute_result"
    }
   ],
   "source": [
    "#finding all the song tags\n",
    "song=driver.find_elements_by_xpath(\"//span[@class='chart-element__information__song text--truncate color--primary']\")\n",
    "song[0:3]"
   ]
  },
  {
   "cell_type": "code",
   "execution_count": 118,
   "metadata": {},
   "outputs": [
    {
     "data": {
      "text/plain": [
       "['Drivers License',\n",
       " 'Mood',\n",
       " 'Blinding Lights',\n",
       " '34+35',\n",
       " 'Levitating',\n",
       " 'Go Crazy',\n",
       " 'Positions',\n",
       " 'Save Your Tears',\n",
       " 'Holy',\n",
       " 'Whoopty',\n",
       " 'Good Days',\n",
       " 'Lonely',\n",
       " 'What You Know Bout Love',\n",
       " 'Therefore I Am',\n",
       " 'For The Night',\n",
       " 'Bang!',\n",
       " 'Better Together',\n",
       " 'Streets',\n",
       " 'I Hope',\n",
       " 'Body',\n",
       " 'Dakiti',\n",
       " 'Lemonade',\n",
       " 'You Broke Me First.',\n",
       " 'Laugh Now Cry Later',\n",
       " \"My Ex's Best Friend\",\n",
       " 'Wasted On You',\n",
       " \"You're Mines Still\",\n",
       " 'Anyone',\n",
       " 'Willow',\n",
       " 'On Me',\n",
       " 'Good Time',\n",
       " 'Sand In My Boots',\n",
       " 'Throat Baby (Go Baby)',\n",
       " 'Before You Go',\n",
       " '7 Summers',\n",
       " 'Starting Over',\n",
       " 'Back In Blood',\n",
       " 'More Than My Hometown',\n",
       " 'Finesse Out The Gang Way',\n",
       " 'Hole In The Bottle',\n",
       " 'Kings & Queens',\n",
       " 'Best Friend',\n",
       " 'Cry Baby',\n",
       " 'Rockstar',\n",
       " 'Afterglow',\n",
       " 'Dynamite',\n",
       " 'Happy Does',\n",
       " \"Somebody's Problem\",\n",
       " 'Whats Poppin',\n",
       " 'Put Your Records On',\n",
       " 'Damage',\n",
       " 'Without You',\n",
       " \"Should've Ducked\",\n",
       " 'Just The Way',\n",
       " 'Beers And Sunshine',\n",
       " 'Down To One',\n",
       " \"What's Your Country Song\",\n",
       " 'Beat Box',\n",
       " 'Diamonds',\n",
       " 'The Good Ones',\n",
       " 'Golden',\n",
       " 'Buss It',\n",
       " 'Goosebumps',\n",
       " 'Monsters',\n",
       " 'Long Live',\n",
       " 'Tyler Herro',\n",
       " 'Cover Me Up',\n",
       " 'Forever After All',\n",
       " 'Back To The Streets',\n",
       " \"Still Trappin'\",\n",
       " 'Gravity',\n",
       " 'Bichota',\n",
       " 'Bad Boy',\n",
       " 'Baila Conmigo',\n",
       " 'Lady',\n",
       " 'Still Goin Down',\n",
       " '865',\n",
       " 'So Done',\n",
       " 'Warning',\n",
       " 'Holiday',\n",
       " 'Hell Of A View',\n",
       " 'Girl Like Me',\n",
       " \"Momma's House\",\n",
       " 'Big, Big Plans',\n",
       " 'Monster',\n",
       " 'Heat Waves',\n",
       " 'Stay Down',\n",
       " 'Somebody Like That',\n",
       " 'Skin',\n",
       " 'Moonwalking In Calabasas',\n",
       " 'Kanye Krazy',\n",
       " 'Pick Up Your Feelings',\n",
       " 'You Got It',\n",
       " 'One Too Many',\n",
       " 'Backdoor',\n",
       " 'Fake Woke',\n",
       " 'Prisoner',\n",
       " 'Dangerous',\n",
       " 'Almost Maybes',\n",
       " 'Mr. Right Now']"
      ]
     },
     "execution_count": 118,
     "metadata": {},
     "output_type": "execute_result"
    }
   ],
   "source": [
    "#scraping song name from tags\n",
    "for i in song:\n",
    "    songs=i.text.replace(\"\\n\",\" \")\n",
    "    Song_name.append(songs)\n",
    "Song_name"
   ]
  },
  {
   "cell_type": "code",
   "execution_count": 119,
   "metadata": {},
   "outputs": [
    {
     "data": {
      "text/plain": [
       "[<selenium.webdriver.remote.webelement.WebElement (session=\"162be2a7fe9a28db5fb275af984331e3\", element=\"e27037c0-1111-44ef-8219-53de20a31682\")>,\n",
       " <selenium.webdriver.remote.webelement.WebElement (session=\"162be2a7fe9a28db5fb275af984331e3\", element=\"0bb332c3-17ac-4a9d-96fd-524a55fa2ecf\")>,\n",
       " <selenium.webdriver.remote.webelement.WebElement (session=\"162be2a7fe9a28db5fb275af984331e3\", element=\"078b5004-6247-4a19-8ded-2507ddebf823\")>]"
      ]
     },
     "execution_count": 119,
     "metadata": {},
     "output_type": "execute_result"
    }
   ],
   "source": [
    "#finding all the artist tags\n",
    "artist=driver.find_elements_by_xpath(\"//span[@class='chart-element__information__artist text--truncate color--secondary']\")\n",
    "artist[0:3]"
   ]
  },
  {
   "cell_type": "code",
   "execution_count": 120,
   "metadata": {},
   "outputs": [
    {
     "data": {
      "text/plain": [
       "['Olivia Rodrigo',\n",
       " '24kGoldn Featuring iann dior',\n",
       " 'The Weeknd',\n",
       " 'Ariana Grande',\n",
       " 'Dua Lipa Featuring DaBaby',\n",
       " 'Chris Brown & Young Thug',\n",
       " 'Ariana Grande',\n",
       " 'The Weeknd',\n",
       " 'Justin Bieber Featuring Chance The Rapper',\n",
       " 'CJ',\n",
       " 'SZA',\n",
       " 'Justin Bieber & benny blanco',\n",
       " 'Pop Smoke',\n",
       " 'Billie Eilish',\n",
       " 'Pop Smoke Featuring Lil Baby & DaBaby',\n",
       " 'AJR',\n",
       " 'Luke Combs',\n",
       " 'Doja Cat',\n",
       " 'Gabby Barrett Featuring Charlie Puth',\n",
       " 'Megan Thee Stallion',\n",
       " 'Bad Bunny & Jhay Cortez',\n",
       " 'Internet Money & Gunna Featuring Don Toliver & NAV',\n",
       " 'Tate McRae',\n",
       " 'Drake Featuring Lil Durk',\n",
       " 'Machine Gun Kelly X blackbear',\n",
       " 'Morgan Wallen',\n",
       " 'Yung Bleu Featuring Drake',\n",
       " 'Justin Bieber',\n",
       " 'Taylor Swift',\n",
       " 'Lil Baby',\n",
       " 'Niko Moon',\n",
       " 'Morgan Wallen',\n",
       " 'BRS Kash',\n",
       " 'Lewis Capaldi',\n",
       " 'Morgan Wallen',\n",
       " 'Chris Stapleton',\n",
       " 'Pooh Shiesty Featuring Lil Durk',\n",
       " 'Morgan Wallen',\n",
       " 'Lil Durk Featuring Lil Baby',\n",
       " 'Kelsea Ballerini',\n",
       " 'Ava Max',\n",
       " 'Saweetie Featuring Doja Cat',\n",
       " 'Megan Thee Stallion Featuring DaBaby',\n",
       " 'DaBaby Featuring Roddy Ricch',\n",
       " 'Ed Sheeran',\n",
       " 'BTS',\n",
       " 'Kenny Chesney',\n",
       " 'Morgan Wallen',\n",
       " 'Jack Harlow Featuring DaBaby, Tory Lanez & Lil Wayne',\n",
       " 'Ritt Momney',\n",
       " 'H.E.R.',\n",
       " 'The Kid LAROI',\n",
       " 'Lil Durk Featuring Pooh Shiesty',\n",
       " 'Parmalee x Blanco Brown',\n",
       " 'Darius Rucker',\n",
       " 'Luke Bryan',\n",
       " 'Thomas Rhett',\n",
       " 'SpotemGottem',\n",
       " 'Sam Smith',\n",
       " 'Gabby Barrett',\n",
       " 'Harry Styles',\n",
       " 'Erica Banks',\n",
       " 'Travis Scott & HVME',\n",
       " 'All Time Low Featuring Demi Lovato & blackbear',\n",
       " 'Florida Georgia Line',\n",
       " 'Jack Harlow',\n",
       " 'Morgan Wallen',\n",
       " 'Luke Combs',\n",
       " 'Saweetie Featuring Jhene Aiko',\n",
       " 'Lil Durk & King Von',\n",
       " 'Brent Faiyaz & DJ Dahi Featuring Tyler, The Creator',\n",
       " 'Karol G',\n",
       " 'Juice WRLD & Young Thug',\n",
       " 'Selena Gomez With Rauw Alejandro',\n",
       " 'Brett Young',\n",
       " 'Morgan Wallen',\n",
       " 'Morgan Wallen',\n",
       " 'The Kid LAROI',\n",
       " 'Morgan Wallen',\n",
       " 'Lil Nas X',\n",
       " 'Eric Church',\n",
       " 'Black Eyed Peas X Shakira',\n",
       " 'Dustin Lynch',\n",
       " 'Chris Lane',\n",
       " 'Shawn Mendes & Justin Bieber',\n",
       " 'Glass Animals',\n",
       " 'Lil Durk, 6LACK & Young Thug',\n",
       " 'Tenille Arts',\n",
       " 'Sabrina Carpenter',\n",
       " 'DDG',\n",
       " 'Lil Durk',\n",
       " 'Jazmine Sullivan',\n",
       " 'VEDO',\n",
       " 'Keith Urban Duet With P!nk',\n",
       " 'Lil Durk',\n",
       " 'Tom MacDonald',\n",
       " 'Miley Cyrus Featuring Dua Lipa',\n",
       " 'Morgan Wallen',\n",
       " 'Jordan Davis',\n",
       " '21 Savage & Metro Boomin Featuring Drake']"
      ]
     },
     "execution_count": 120,
     "metadata": {},
     "output_type": "execute_result"
    }
   ],
   "source": [
    "#scraping song name from tags\n",
    "for i in artist:\n",
    "    artists=i.text.replace(\"\\n\",\" \")\n",
    "    Artist_name.append(artists)\n",
    "Artist_name"
   ]
  },
  {
   "cell_type": "code",
   "execution_count": 121,
   "metadata": {},
   "outputs": [
    {
     "data": {
      "text/plain": [
       "[<selenium.webdriver.remote.webelement.WebElement (session=\"162be2a7fe9a28db5fb275af984331e3\", element=\"d9fb63b8-4da6-40c9-931b-e2ab94948e00\")>,\n",
       " <selenium.webdriver.remote.webelement.WebElement (session=\"162be2a7fe9a28db5fb275af984331e3\", element=\"7bd6ef01-0e64-4efd-8264-af7bba71c5bd\")>,\n",
       " <selenium.webdriver.remote.webelement.WebElement (session=\"162be2a7fe9a28db5fb275af984331e3\", element=\"d2aefc9b-0945-4269-957e-1a45e36b9cc5\")>]"
      ]
     },
     "execution_count": 121,
     "metadata": {},
     "output_type": "execute_result"
    }
   ],
   "source": [
    "#finding all the last week rank tags\n",
    "rank=driver.find_elements_by_xpath(\"//div[@class='chart-element__meta text--center color--secondary text--last']\")\n",
    "rank[0:3]"
   ]
  },
  {
   "cell_type": "code",
   "execution_count": 122,
   "metadata": {},
   "outputs": [
    {
     "data": {
      "text/plain": [
       "['1',\n",
       " '2',\n",
       " '3',\n",
       " '4',\n",
       " '5',\n",
       " '6',\n",
       " '7',\n",
       " '14',\n",
       " '8',\n",
       " '16',\n",
       " '9',\n",
       " '13',\n",
       " '19',\n",
       " '12',\n",
       " '11',\n",
       " '10',\n",
       " '15',\n",
       " '25',\n",
       " '17',\n",
       " '18',\n",
       " '20',\n",
       " '21',\n",
       " '27',\n",
       " '22',\n",
       " '34',\n",
       " '31',\n",
       " '32',\n",
       " '26',\n",
       " '28',\n",
       " '29',\n",
       " '37',\n",
       " '38',\n",
       " '24',\n",
       " '33',\n",
       " '23',\n",
       " '36',\n",
       " '40',\n",
       " '30',\n",
       " '-',\n",
       " '42',\n",
       " '35',\n",
       " '45',\n",
       " '54',\n",
       " '41',\n",
       " '39',\n",
       " '46',\n",
       " '50',\n",
       " '43',\n",
       " '44',\n",
       " '55',\n",
       " '52',\n",
       " '47',\n",
       " '-',\n",
       " '56',\n",
       " '53',\n",
       " '58',\n",
       " '59',\n",
       " '60',\n",
       " '49',\n",
       " '64',\n",
       " '65',\n",
       " '67',\n",
       " '73',\n",
       " '69',\n",
       " '68',\n",
       " '63',\n",
       " '74',\n",
       " '66',\n",
       " '61',\n",
       " '84',\n",
       " '-',\n",
       " '75',\n",
       " '57',\n",
       " '-',\n",
       " '86',\n",
       " '72',\n",
       " '77',\n",
       " '79',\n",
       " '76',\n",
       " '71',\n",
       " '90',\n",
       " '85',\n",
       " '87',\n",
       " '82',\n",
       " '70',\n",
       " '91',\n",
       " '-',\n",
       " '89',\n",
       " '48',\n",
       " '88',\n",
       " '-',\n",
       " '-',\n",
       " '95',\n",
       " '96',\n",
       " '-',\n",
       " '-',\n",
       " '81',\n",
       " '-',\n",
       " '-',\n",
       " '80']"
      ]
     },
     "execution_count": 122,
     "metadata": {},
     "output_type": "execute_result"
    }
   ],
   "source": [
    "#scraping last week rank from tags\n",
    "for i in rank:\n",
    "    ranks=i.text.replace(\"\\n\",\" \")\n",
    "    Last_week_rank.append(ranks)\n",
    "Last_week_rank"
   ]
  },
  {
   "cell_type": "code",
   "execution_count": 123,
   "metadata": {},
   "outputs": [
    {
     "data": {
      "text/plain": [
       "[<selenium.webdriver.remote.webelement.WebElement (session=\"162be2a7fe9a28db5fb275af984331e3\", element=\"2d9729a8-4ee0-4250-88ed-df1b942b43c5\")>,\n",
       " <selenium.webdriver.remote.webelement.WebElement (session=\"162be2a7fe9a28db5fb275af984331e3\", element=\"e1760a22-5bb7-455f-ad2b-a2a62f61a968\")>,\n",
       " <selenium.webdriver.remote.webelement.WebElement (session=\"162be2a7fe9a28db5fb275af984331e3\", element=\"f3cf505b-e954-457a-ae77-334af67688c4\")>]"
      ]
     },
     "execution_count": 123,
     "metadata": {},
     "output_type": "execute_result"
    }
   ],
   "source": [
    "#finding all the peak rank tags\n",
    "rank_=driver.find_elements_by_xpath(\"//div[@class='chart-element__meta text--center color--secondary text--peak']\")\n",
    "rank_[0:3]"
   ]
  },
  {
   "cell_type": "code",
   "execution_count": 124,
   "metadata": {},
   "outputs": [
    {
     "data": {
      "text/plain": [
       "['1',\n",
       " '1',\n",
       " '1',\n",
       " '2',\n",
       " '5',\n",
       " '5',\n",
       " '1',\n",
       " '8',\n",
       " '3',\n",
       " '10',\n",
       " '9',\n",
       " '12',\n",
       " '13',\n",
       " '2',\n",
       " '6',\n",
       " '8',\n",
       " '15',\n",
       " '18',\n",
       " '3',\n",
       " '12',\n",
       " '5',\n",
       " '6',\n",
       " '23',\n",
       " '2',\n",
       " '25',\n",
       " '9',\n",
       " '27',\n",
       " '6',\n",
       " '1',\n",
       " '29',\n",
       " '31',\n",
       " '32',\n",
       " '24',\n",
       " '9',\n",
       " '6',\n",
       " '25',\n",
       " '37',\n",
       " '15',\n",
       " '39',\n",
       " '40',\n",
       " '13',\n",
       " '39',\n",
       " '43',\n",
       " '1',\n",
       " '29',\n",
       " '1',\n",
       " '47',\n",
       " '25',\n",
       " '2',\n",
       " '50',\n",
       " '51',\n",
       " '47',\n",
       " '53',\n",
       " '54',\n",
       " '53',\n",
       " '56',\n",
       " '57',\n",
       " '58',\n",
       " '39',\n",
       " '60',\n",
       " '61',\n",
       " '62',\n",
       " '63',\n",
       " '64',\n",
       " '65',\n",
       " '34',\n",
       " '52',\n",
       " '2',\n",
       " '58',\n",
       " '53',\n",
       " '71',\n",
       " '72',\n",
       " '22',\n",
       " '74',\n",
       " '75',\n",
       " '45',\n",
       " '46',\n",
       " '59',\n",
       " '42',\n",
       " '37',\n",
       " '81',\n",
       " '82',\n",
       " '83',\n",
       " '42',\n",
       " '8',\n",
       " '86',\n",
       " '73',\n",
       " '88',\n",
       " '48',\n",
       " '82',\n",
       " '91',\n",
       " '92',\n",
       " '87',\n",
       " '62',\n",
       " '62',\n",
       " '96',\n",
       " '54',\n",
       " '62',\n",
       " '95',\n",
       " '10']"
      ]
     },
     "execution_count": 124,
     "metadata": {},
     "output_type": "execute_result"
    }
   ],
   "source": [
    "#scraping peak rank from tags\n",
    "for i in rank_:\n",
    "    ranks_=i.text.replace(\"\\n\",\" \")\n",
    "    Peak_rank.append(ranks_)\n",
    "Peak_rank"
   ]
  },
  {
   "cell_type": "code",
   "execution_count": 125,
   "metadata": {},
   "outputs": [
    {
     "data": {
      "text/plain": [
       "[<selenium.webdriver.remote.webelement.WebElement (session=\"162be2a7fe9a28db5fb275af984331e3\", element=\"a20a5cf1-cb64-4674-8c0a-8f4cef97d008\")>,\n",
       " <selenium.webdriver.remote.webelement.WebElement (session=\"162be2a7fe9a28db5fb275af984331e3\", element=\"5739824f-5b1d-46e1-8a6a-c9296856a4d9\")>,\n",
       " <selenium.webdriver.remote.webelement.WebElement (session=\"162be2a7fe9a28db5fb275af984331e3\", element=\"12c42a66-1ad9-4881-baff-892e7460d5ff\")>]"
      ]
     },
     "execution_count": 125,
     "metadata": {},
     "output_type": "execute_result"
    }
   ],
   "source": [
    "#finding all the weeks on board tags\n",
    "week=driver.find_elements_by_xpath(\"//div[@class='chart-element__meta text--center color--secondary text--week']\")\n",
    "week[0:3]"
   ]
  },
  {
   "cell_type": "code",
   "execution_count": 126,
   "metadata": {},
   "outputs": [
    {
     "data": {
      "text/plain": [
       "['4',\n",
       " '26',\n",
       " '61',\n",
       " '14',\n",
       " '18',\n",
       " '39',\n",
       " '15',\n",
       " '8',\n",
       " '20',\n",
       " '13',\n",
       " '6',\n",
       " '16',\n",
       " '22',\n",
       " '13',\n",
       " '31',\n",
       " '31',\n",
       " '18',\n",
       " '4',\n",
       " '58',\n",
       " '11',\n",
       " '14',\n",
       " '25',\n",
       " '24',\n",
       " '25',\n",
       " '25',\n",
       " '4',\n",
       " '9',\n",
       " '5',\n",
       " '8',\n",
       " '9',\n",
       " '18',\n",
       " '4',\n",
       " '16',\n",
       " '50',\n",
       " '24',\n",
       " '23',\n",
       " '5',\n",
       " '32',\n",
       " '1',\n",
       " '16',\n",
       " '26',\n",
       " '4',\n",
       " '9',\n",
       " '41',\n",
       " '7',\n",
       " '24',\n",
       " '12',\n",
       " '8',\n",
       " '51',\n",
       " '16',\n",
       " '8',\n",
       " '9',\n",
       " '1',\n",
       " '6',\n",
       " '8',\n",
       " '6',\n",
       " '7',\n",
       " '3',\n",
       " '20',\n",
       " '6',\n",
       " '15',\n",
       " '4',\n",
       " '3',\n",
       " '6',\n",
       " '5',\n",
       " '15',\n",
       " '5',\n",
       " '15',\n",
       " '11',\n",
       " '6',\n",
       " '1',\n",
       " '10',\n",
       " '3',\n",
       " '1',\n",
       " '4',\n",
       " '7',\n",
       " '4',\n",
       " '13',\n",
       " '4',\n",
       " '12',\n",
       " '4',\n",
       " '4',\n",
       " '4',\n",
       " '18',\n",
       " '11',\n",
       " '3',\n",
       " '4',\n",
       " '3',\n",
       " '2',\n",
       " '6',\n",
       " '1',\n",
       " '2',\n",
       " '6',\n",
       " '8',\n",
       " '4',\n",
       " '1',\n",
       " '11',\n",
       " '3',\n",
       " '2',\n",
       " '18']"
      ]
     },
     "execution_count": 126,
     "metadata": {},
     "output_type": "execute_result"
    }
   ],
   "source": [
    "#scraping weeks on board from tags\n",
    "for i in week:\n",
    "    weeks=i.text.replace(\"\\n\",\" \")\n",
    "    Weeks_on_board.append(weeks)\n",
    "Weeks_on_board"
   ]
  },
  {
   "cell_type": "code",
   "execution_count": 127,
   "metadata": {},
   "outputs": [
    {
     "name": "stdout",
     "output_type": "stream",
     "text": [
      "100 100 100 100 100\n"
     ]
    }
   ],
   "source": [
    "#printing lengths\n",
    "print(len(Song_name),len(Artist_name),len(Last_week_rank),len(Peak_rank),len(Weeks_on_board))"
   ]
  },
  {
   "cell_type": "code",
   "execution_count": 128,
   "metadata": {},
   "outputs": [],
   "source": [
    "#creating a dataframe\n",
    "Billboard=pd.DataFrame({})\n",
    "Billboard['Song_name']=Song_name\n",
    "Billboard['Artist_name']=Artist_name\n",
    "Billboard['Last_week_rank']=Last_week_rank\n",
    "Billboard['Peak_rank']=Peak_rank\n",
    "Billboard['Weeks_on_board']=Weeks_on_board"
   ]
  },
  {
   "cell_type": "code",
   "execution_count": 129,
   "metadata": {},
   "outputs": [
    {
     "data": {
      "text/html": [
       "<div>\n",
       "<style scoped>\n",
       "    .dataframe tbody tr th:only-of-type {\n",
       "        vertical-align: middle;\n",
       "    }\n",
       "\n",
       "    .dataframe tbody tr th {\n",
       "        vertical-align: top;\n",
       "    }\n",
       "\n",
       "    .dataframe thead th {\n",
       "        text-align: right;\n",
       "    }\n",
       "</style>\n",
       "<table border=\"1\" class=\"dataframe\">\n",
       "  <thead>\n",
       "    <tr style=\"text-align: right;\">\n",
       "      <th></th>\n",
       "      <th>Song_name</th>\n",
       "      <th>Artist_name</th>\n",
       "      <th>Last_week_rank</th>\n",
       "      <th>Peak_rank</th>\n",
       "      <th>Weeks_on_board</th>\n",
       "    </tr>\n",
       "  </thead>\n",
       "  <tbody>\n",
       "    <tr>\n",
       "      <th>0</th>\n",
       "      <td>Drivers License</td>\n",
       "      <td>Olivia Rodrigo</td>\n",
       "      <td>1</td>\n",
       "      <td>1</td>\n",
       "      <td>4</td>\n",
       "    </tr>\n",
       "    <tr>\n",
       "      <th>1</th>\n",
       "      <td>Mood</td>\n",
       "      <td>24kGoldn Featuring iann dior</td>\n",
       "      <td>2</td>\n",
       "      <td>1</td>\n",
       "      <td>26</td>\n",
       "    </tr>\n",
       "    <tr>\n",
       "      <th>2</th>\n",
       "      <td>Blinding Lights</td>\n",
       "      <td>The Weeknd</td>\n",
       "      <td>3</td>\n",
       "      <td>1</td>\n",
       "      <td>61</td>\n",
       "    </tr>\n",
       "    <tr>\n",
       "      <th>3</th>\n",
       "      <td>34+35</td>\n",
       "      <td>Ariana Grande</td>\n",
       "      <td>4</td>\n",
       "      <td>2</td>\n",
       "      <td>14</td>\n",
       "    </tr>\n",
       "    <tr>\n",
       "      <th>4</th>\n",
       "      <td>Levitating</td>\n",
       "      <td>Dua Lipa Featuring DaBaby</td>\n",
       "      <td>5</td>\n",
       "      <td>5</td>\n",
       "      <td>18</td>\n",
       "    </tr>\n",
       "    <tr>\n",
       "      <th>...</th>\n",
       "      <td>...</td>\n",
       "      <td>...</td>\n",
       "      <td>...</td>\n",
       "      <td>...</td>\n",
       "      <td>...</td>\n",
       "    </tr>\n",
       "    <tr>\n",
       "      <th>95</th>\n",
       "      <td>Fake Woke</td>\n",
       "      <td>Tom MacDonald</td>\n",
       "      <td>-</td>\n",
       "      <td>96</td>\n",
       "      <td>1</td>\n",
       "    </tr>\n",
       "    <tr>\n",
       "      <th>96</th>\n",
       "      <td>Prisoner</td>\n",
       "      <td>Miley Cyrus Featuring Dua Lipa</td>\n",
       "      <td>81</td>\n",
       "      <td>54</td>\n",
       "      <td>11</td>\n",
       "    </tr>\n",
       "    <tr>\n",
       "      <th>97</th>\n",
       "      <td>Dangerous</td>\n",
       "      <td>Morgan Wallen</td>\n",
       "      <td>-</td>\n",
       "      <td>62</td>\n",
       "      <td>3</td>\n",
       "    </tr>\n",
       "    <tr>\n",
       "      <th>98</th>\n",
       "      <td>Almost Maybes</td>\n",
       "      <td>Jordan Davis</td>\n",
       "      <td>-</td>\n",
       "      <td>95</td>\n",
       "      <td>2</td>\n",
       "    </tr>\n",
       "    <tr>\n",
       "      <th>99</th>\n",
       "      <td>Mr. Right Now</td>\n",
       "      <td>21 Savage &amp; Metro Boomin Featuring Drake</td>\n",
       "      <td>80</td>\n",
       "      <td>10</td>\n",
       "      <td>18</td>\n",
       "    </tr>\n",
       "  </tbody>\n",
       "</table>\n",
       "<p>100 rows × 5 columns</p>\n",
       "</div>"
      ],
      "text/plain": [
       "          Song_name                               Artist_name Last_week_rank  \\\n",
       "0   Drivers License                            Olivia Rodrigo              1   \n",
       "1              Mood              24kGoldn Featuring iann dior              2   \n",
       "2   Blinding Lights                                The Weeknd              3   \n",
       "3             34+35                             Ariana Grande              4   \n",
       "4        Levitating                 Dua Lipa Featuring DaBaby              5   \n",
       "..              ...                                       ...            ...   \n",
       "95        Fake Woke                             Tom MacDonald              -   \n",
       "96         Prisoner            Miley Cyrus Featuring Dua Lipa             81   \n",
       "97        Dangerous                             Morgan Wallen              -   \n",
       "98    Almost Maybes                              Jordan Davis              -   \n",
       "99    Mr. Right Now  21 Savage & Metro Boomin Featuring Drake             80   \n",
       "\n",
       "   Peak_rank Weeks_on_board  \n",
       "0          1              4  \n",
       "1          1             26  \n",
       "2          1             61  \n",
       "3          2             14  \n",
       "4          5             18  \n",
       "..       ...            ...  \n",
       "95        96              1  \n",
       "96        54             11  \n",
       "97        62              3  \n",
       "98        95              2  \n",
       "99        10             18  \n",
       "\n",
       "[100 rows x 5 columns]"
      ]
     },
     "execution_count": 129,
     "metadata": {},
     "output_type": "execute_result"
    }
   ],
   "source": [
    "Billboard"
   ]
  },
  {
   "cell_type": "code",
   "execution_count": 130,
   "metadata": {},
   "outputs": [],
   "source": [
    "#converting into csv format\n",
    "Billboard.to_csv(\"Billboard.csv\")"
   ]
  },
  {
   "cell_type": "code",
   "execution_count": 131,
   "metadata": {},
   "outputs": [],
   "source": [
    "#closing the driver\n",
    "driver.close()"
   ]
  },
  {
   "cell_type": "markdown",
   "metadata": {},
   "source": [
    "# 8. Scrape the details of Highest selling novels. Url = https://www.theguardian.com/news/datablog/2012/aug/09/best-selling-books-all-time-fifty-shades-grey-compare/"
   ]
  },
  {
   "cell_type": "code",
   "execution_count": 148,
   "metadata": {},
   "outputs": [],
   "source": [
    "#connecting to the webdriver\n",
    "driver=webdriver.Chrome(r\"C:\\Users\\sandeep\\Downloads\\chromedriver_win32\\chromedriver.exe\")"
   ]
  },
  {
   "cell_type": "code",
   "execution_count": 149,
   "metadata": {},
   "outputs": [],
   "source": [
    "#specifying the url of the webpage to be scraped\n",
    "url=\"https://www.theguardian.com/news/datablog/2012/aug/09/best-selling-books-all-time-fifty-shades-grey-compare/\""
   ]
  },
  {
   "cell_type": "code",
   "execution_count": 150,
   "metadata": {},
   "outputs": [],
   "source": [
    "#opening the webpage through our driver\n",
    "driver.get(url)"
   ]
  },
  {
   "cell_type": "code",
   "execution_count": 151,
   "metadata": {},
   "outputs": [],
   "source": [
    "#creating empty lists\n",
    "\n",
    "Book_name=[]\n",
    "Author_name=[]\n",
    "Volumes_sold=[]\n",
    "Publisher=[]\n",
    "Genre=[]"
   ]
  },
  {
   "cell_type": "code",
   "execution_count": 152,
   "metadata": {},
   "outputs": [
    {
     "data": {
      "text/plain": [
       "[<selenium.webdriver.remote.webelement.WebElement (session=\"dd54b785311c0b06c247413af6e8e3c0\", element=\"bbca9441-7731-432a-8d4f-aa0192cdf3dc\")>,\n",
       " <selenium.webdriver.remote.webelement.WebElement (session=\"dd54b785311c0b06c247413af6e8e3c0\", element=\"fd8daf0d-5ceb-44a8-b9a5-c00a1b6b9aa0\")>,\n",
       " <selenium.webdriver.remote.webelement.WebElement (session=\"dd54b785311c0b06c247413af6e8e3c0\", element=\"cf917203-0bc0-4df2-846e-a06b3bbf50b2\")>]"
      ]
     },
     "execution_count": 152,
     "metadata": {},
     "output_type": "execute_result"
    }
   ],
   "source": [
    "#finding all the genre tags\n",
    "genre=driver.find_elements_by_xpath(\"//td[@class='last left']\")\n",
    "genre[0:3]"
   ]
  },
  {
   "cell_type": "code",
   "execution_count": 153,
   "metadata": {},
   "outputs": [
    {
     "data": {
      "text/plain": [
       "['Crime, Thriller & Adventure',\n",
       " \"Children's Fiction\",\n",
       " \"Children's Fiction\",\n",
       " \"Children's Fiction\",\n",
       " 'Romance & Sagas',\n",
       " \"Children's Fiction\",\n",
       " \"Children's Fiction\",\n",
       " \"Children's Fiction\",\n",
       " 'Crime, Thriller & Adventure',\n",
       " \"Children's Fiction\",\n",
       " 'Romance & Sagas',\n",
       " 'Young Adult Fiction',\n",
       " 'Crime, Thriller & Adventure',\n",
       " 'Romance & Sagas',\n",
       " 'Crime, Thriller & Adventure',\n",
       " 'Young Adult Fiction',\n",
       " 'Crime, Thriller & Adventure',\n",
       " 'Young Adult Fiction',\n",
       " 'General & Literary Fiction',\n",
       " 'General & Literary Fiction',\n",
       " 'Crime, Thriller & Adventure',\n",
       " 'Popular Science',\n",
       " 'Crime, Thriller & Adventure',\n",
       " 'Young Adult Fiction',\n",
       " 'Picture Books',\n",
       " 'Picture Books',\n",
       " 'Food & Drink: General',\n",
       " 'General & Literary Fiction',\n",
       " 'General & Literary Fiction',\n",
       " 'General & Literary Fiction',\n",
       " 'Crime, Thriller & Adventure',\n",
       " 'General & Literary Fiction',\n",
       " 'General & Literary Fiction',\n",
       " 'General & Literary Fiction',\n",
       " 'Humour: Collections & General',\n",
       " 'General & Literary Fiction',\n",
       " 'Autobiography: General',\n",
       " 'General & Literary Fiction',\n",
       " 'Biography: The Arts',\n",
       " 'Autobiography: General',\n",
       " 'Picture Books',\n",
       " 'Autobiography: General',\n",
       " 'General & Literary Fiction',\n",
       " 'Young Adult Fiction',\n",
       " 'General & Literary Fiction',\n",
       " 'Science Fiction & Fantasy',\n",
       " 'General & Literary Fiction',\n",
       " 'General & Literary Fiction',\n",
       " 'General & Literary Fiction',\n",
       " 'Crime, Thriller & Adventure',\n",
       " 'General & Literary Fiction',\n",
       " 'General & Literary Fiction',\n",
       " 'Fitness & Diet',\n",
       " 'General & Literary Fiction',\n",
       " \"Children's Fiction\",\n",
       " 'Crime, Thriller & Adventure',\n",
       " 'Fitness & Diet',\n",
       " 'Young Adult Fiction',\n",
       " 'Usage & Writing Guides',\n",
       " 'Food & Drink: General',\n",
       " 'General & Literary Fiction',\n",
       " 'Young Adult Fiction',\n",
       " 'General & Literary Fiction',\n",
       " 'Young Adult Fiction',\n",
       " 'General & Literary Fiction',\n",
       " 'Popular Culture & Media: General Interest',\n",
       " 'Autobiography: The Arts',\n",
       " 'General & Literary Fiction',\n",
       " 'Crime, Thriller & Adventure',\n",
       " 'Science Fiction & Fantasy',\n",
       " 'Current Affairs & Issues',\n",
       " 'Crime, Thriller & Adventure',\n",
       " 'Autobiography: The Arts',\n",
       " 'General & Literary Fiction',\n",
       " 'Autobiography: The Arts',\n",
       " 'Travel Writing',\n",
       " 'Food & Drink: General',\n",
       " 'General & Literary Fiction',\n",
       " 'National & Regional Cuisine',\n",
       " 'Fitness & Diet',\n",
       " 'Travel Writing',\n",
       " 'Crime, Thriller & Adventure',\n",
       " 'General & Literary Fiction',\n",
       " 'Food & Drink: General',\n",
       " 'General & Literary Fiction',\n",
       " 'General & Literary Fiction',\n",
       " 'Picture Books',\n",
       " 'General & Literary Fiction',\n",
       " 'Autobiography: The Arts',\n",
       " 'Popular Science',\n",
       " \"Children's Annuals\",\n",
       " 'General & Literary Fiction',\n",
       " 'General & Literary Fiction',\n",
       " 'General & Literary Fiction',\n",
       " 'General & Literary Fiction',\n",
       " 'General & Literary Fiction',\n",
       " 'Food & Drink: General',\n",
       " 'Young Adult Fiction',\n",
       " 'Biography: General',\n",
       " 'Food & Drink: General']"
      ]
     },
     "execution_count": 153,
     "metadata": {},
     "output_type": "execute_result"
    }
   ],
   "source": [
    "#scraping genre from tags\n",
    "for i in genre:\n",
    "    genres=i.text.replace(\"\\n\",\" \")\n",
    "    Genre.append(genres)\n",
    "Genre"
   ]
  },
  {
   "cell_type": "code",
   "execution_count": 154,
   "metadata": {},
   "outputs": [
    {
     "data": {
      "text/plain": [
       "[<selenium.webdriver.remote.webelement.WebElement (session=\"dd54b785311c0b06c247413af6e8e3c0\", element=\"80a5a29d-7d94-43cf-bce0-cb8723ee2491\")>,\n",
       " <selenium.webdriver.remote.webelement.WebElement (session=\"dd54b785311c0b06c247413af6e8e3c0\", element=\"f1459f2c-0700-4f1e-a80b-65ee8a1c3e3d\")>,\n",
       " <selenium.webdriver.remote.webelement.WebElement (session=\"dd54b785311c0b06c247413af6e8e3c0\", element=\"ec059f22-e772-4397-9c15-d5b1070fba9b\")>]"
      ]
     },
     "execution_count": 154,
     "metadata": {},
     "output_type": "execute_result"
    }
   ],
   "source": [
    "#finding all the book_name tags\n",
    "book=driver.find_elements_by_xpath('//*[@id=\"article-body-blocks\"]/div/table/tbody/tr/td[2]')\n",
    "book[0:3]"
   ]
  },
  {
   "cell_type": "code",
   "execution_count": 155,
   "metadata": {},
   "outputs": [
    {
     "data": {
      "text/plain": [
       "['Da Vinci Code,The',\n",
       " 'Harry Potter and the Deathly Hallows',\n",
       " \"Harry Potter and the Philosopher's Stone\",\n",
       " 'Harry Potter and the Order of the Phoenix',\n",
       " 'Fifty Shades of Grey',\n",
       " 'Harry Potter and the Goblet of Fire',\n",
       " 'Harry Potter and the Chamber of Secrets',\n",
       " 'Harry Potter and the Prisoner of Azkaban',\n",
       " 'Angels and Demons',\n",
       " \"Harry Potter and the Half-blood Prince:Children's Edition\",\n",
       " 'Fifty Shades Darker',\n",
       " 'Twilight',\n",
       " 'Girl with the Dragon Tattoo,The:Millennium Trilogy',\n",
       " 'Fifty Shades Freed',\n",
       " 'Lost Symbol,The',\n",
       " 'New Moon',\n",
       " 'Deception Point',\n",
       " 'Eclipse',\n",
       " 'Lovely Bones,The',\n",
       " 'Curious Incident of the Dog in the Night-time,The',\n",
       " 'Digital Fortress',\n",
       " 'Short History of Nearly Everything,A',\n",
       " 'Girl Who Played with Fire,The:Millennium Trilogy',\n",
       " 'Breaking Dawn',\n",
       " 'Very Hungry Caterpillar,The:The Very Hungry Caterpillar',\n",
       " 'Gruffalo,The',\n",
       " \"Jamie's 30-Minute Meals\",\n",
       " 'Kite Runner,The',\n",
       " 'One Day',\n",
       " 'Thousand Splendid Suns,A',\n",
       " \"Girl Who Kicked the Hornets' Nest,The:Millennium Trilogy\",\n",
       " \"Time Traveler's Wife,The\",\n",
       " 'Atonement',\n",
       " \"Bridget Jones's Diary:A Novel\",\n",
       " 'World According to Clarkson,The',\n",
       " \"Captain Corelli's Mandolin\",\n",
       " 'Sound of Laughter,The',\n",
       " 'Life of Pi',\n",
       " 'Billy Connolly',\n",
       " 'Child Called It,A',\n",
       " \"Gruffalo's Child,The\",\n",
       " \"Angela's Ashes:A Memoir of a Childhood\",\n",
       " 'Birdsong',\n",
       " 'Northern Lights:His Dark Materials S.',\n",
       " 'Labyrinth',\n",
       " 'Harry Potter and the Half-blood Prince',\n",
       " 'Help,The',\n",
       " 'Man and Boy',\n",
       " 'Memoirs of a Geisha',\n",
       " \"No.1 Ladies' Detective Agency,The:No.1 Ladies' Detective Agency S.\",\n",
       " 'Island,The',\n",
       " 'PS, I Love You',\n",
       " 'You are What You Eat:The Plan That Will Change Your Life',\n",
       " 'Shadow of the Wind,The',\n",
       " 'Tales of Beedle the Bard,The',\n",
       " 'Broker,The',\n",
       " \"Dr. Atkins' New Diet Revolution:The No-hunger, Luxurious Weight Loss P\",\n",
       " 'Subtle Knife,The:His Dark Materials S.',\n",
       " 'Eats, Shoots and Leaves:The Zero Tolerance Approach to Punctuation',\n",
       " \"Delia's How to Cook:(Bk.1)\",\n",
       " 'Chocolat',\n",
       " 'Boy in the Striped Pyjamas,The',\n",
       " \"My Sister's Keeper\",\n",
       " 'Amber Spyglass,The:His Dark Materials S.',\n",
       " 'To Kill a Mockingbird',\n",
       " 'Men are from Mars, Women are from Venus:A Practical Guide for Improvin',\n",
       " 'Dear Fatty',\n",
       " 'Short History of Tractors in Ukrainian,A',\n",
       " 'Hannibal',\n",
       " 'Lord of the Rings,The',\n",
       " 'Stupid White Men:...and Other Sorry Excuses for the State of the Natio',\n",
       " 'Interpretation of Murder,The',\n",
       " 'Sharon Osbourne Extreme:My Autobiography',\n",
       " 'Alchemist,The:A Fable About Following Your Dream',\n",
       " \"At My Mother's Knee ...:and Other Low Joints\",\n",
       " 'Notes from a Small Island',\n",
       " 'Return of the Naked Chef,The',\n",
       " 'Bridget Jones: The Edge of Reason',\n",
       " \"Jamie's Italy\",\n",
       " 'I Can Make You Thin',\n",
       " 'Down Under',\n",
       " 'Summons,The',\n",
       " 'Small Island',\n",
       " 'Nigella Express',\n",
       " 'Brick Lane',\n",
       " \"Memory Keeper's Daughter,The\",\n",
       " 'Room on the Broom',\n",
       " 'About a Boy',\n",
       " 'My Booky Wook',\n",
       " 'God Delusion,The',\n",
       " '\"Beano\" Annual,The',\n",
       " 'White Teeth',\n",
       " 'House at Riverton,The',\n",
       " 'Book Thief,The',\n",
       " 'Nights of Rain and Stars',\n",
       " 'Ghost,The',\n",
       " 'Happy Days with the Naked Chef',\n",
       " 'Hunger Games,The:Hunger Games Trilogy',\n",
       " \"Lost Boy,The:A Foster Child's Search for the Love of a Family\",\n",
       " \"Jamie's Ministry of Food:Anyone Can Learn to Cook in 24 Hours\"]"
      ]
     },
     "execution_count": 155,
     "metadata": {},
     "output_type": "execute_result"
    }
   ],
   "source": [
    "#scraping book_name from tags\n",
    "Book_name_=[]\n",
    "for i in book:\n",
    "    books=i.text.replace(\"\\n\",\" \")\n",
    "    Book_name_.append(books)\n",
    "Book_name_"
   ]
  },
  {
   "cell_type": "code",
   "execution_count": 156,
   "metadata": {},
   "outputs": [
    {
     "data": {
      "text/plain": [
       "[<selenium.webdriver.remote.webelement.WebElement (session=\"dd54b785311c0b06c247413af6e8e3c0\", element=\"42f7f0cf-221f-4aea-8a7c-3815d160fdd4\")>,\n",
       " <selenium.webdriver.remote.webelement.WebElement (session=\"dd54b785311c0b06c247413af6e8e3c0\", element=\"e133865e-8fa8-4028-92b7-c5fa0af7c1be\")>,\n",
       " <selenium.webdriver.remote.webelement.WebElement (session=\"dd54b785311c0b06c247413af6e8e3c0\", element=\"1d471eba-7458-4b15-af33-1eac58398c46\")>]"
      ]
     },
     "execution_count": 156,
     "metadata": {},
     "output_type": "execute_result"
    }
   ],
   "source": [
    "#finding all the author_name tags\n",
    "author=driver.find_elements_by_xpath('//*[@id=\"article-body-blocks\"]/div/table/tbody/tr/td[3]')\n",
    "author[0:3]"
   ]
  },
  {
   "cell_type": "code",
   "execution_count": 157,
   "metadata": {},
   "outputs": [
    {
     "data": {
      "text/plain": [
       "['Brown, Dan',\n",
       " 'Rowling, J.K.',\n",
       " 'Rowling, J.K.',\n",
       " 'Rowling, J.K.',\n",
       " 'James, E. L.',\n",
       " 'Rowling, J.K.',\n",
       " 'Rowling, J.K.',\n",
       " 'Rowling, J.K.',\n",
       " 'Brown, Dan',\n",
       " 'Rowling, J.K.',\n",
       " 'James, E. L.',\n",
       " 'Meyer, Stephenie',\n",
       " 'Larsson, Stieg',\n",
       " 'James, E. L.',\n",
       " 'Brown, Dan',\n",
       " 'Meyer, Stephenie',\n",
       " 'Brown, Dan',\n",
       " 'Meyer, Stephenie',\n",
       " 'Sebold, Alice',\n",
       " 'Haddon, Mark',\n",
       " 'Brown, Dan',\n",
       " 'Bryson, Bill',\n",
       " 'Larsson, Stieg',\n",
       " 'Meyer, Stephenie',\n",
       " 'Carle, Eric',\n",
       " 'Donaldson, Julia',\n",
       " 'Oliver, Jamie',\n",
       " 'Hosseini, Khaled',\n",
       " 'Nicholls, David',\n",
       " 'Hosseini, Khaled',\n",
       " 'Larsson, Stieg',\n",
       " 'Niffenegger, Audrey',\n",
       " 'McEwan, Ian',\n",
       " 'Fielding, Helen',\n",
       " 'Clarkson, Jeremy',\n",
       " 'Bernieres, Louis de',\n",
       " 'Kay, Peter',\n",
       " 'Martel, Yann',\n",
       " 'Stephenson, Pamela',\n",
       " 'Pelzer, Dave',\n",
       " 'Donaldson, Julia',\n",
       " 'McCourt, Frank',\n",
       " 'Faulks, Sebastian',\n",
       " 'Pullman, Philip',\n",
       " 'Mosse, Kate',\n",
       " 'Rowling, J.K.',\n",
       " 'Stockett, Kathryn',\n",
       " 'Parsons, Tony',\n",
       " 'Golden, Arthur',\n",
       " 'McCall Smith, Alexander',\n",
       " 'Hislop, Victoria',\n",
       " 'Ahern, Cecelia',\n",
       " 'McKeith, Gillian',\n",
       " 'Zafon, Carlos Ruiz',\n",
       " 'Rowling, J.K.',\n",
       " 'Grisham, John',\n",
       " 'Atkins, Robert C.',\n",
       " 'Pullman, Philip',\n",
       " 'Truss, Lynne',\n",
       " 'Smith, Delia',\n",
       " 'Harris, Joanne',\n",
       " 'Boyne, John',\n",
       " 'Picoult, Jodi',\n",
       " 'Pullman, Philip',\n",
       " 'Lee, Harper',\n",
       " 'Gray, John',\n",
       " 'French, Dawn',\n",
       " 'Lewycka, Marina',\n",
       " 'Harris, Thomas',\n",
       " 'Tolkien, J. R. R.',\n",
       " 'Moore, Michael',\n",
       " 'Rubenfeld, Jed',\n",
       " 'Osbourne, Sharon',\n",
       " 'Coelho, Paulo',\n",
       " \"O'Grady, Paul\",\n",
       " 'Bryson, Bill',\n",
       " 'Oliver, Jamie',\n",
       " 'Fielding, Helen',\n",
       " 'Oliver, Jamie',\n",
       " 'McKenna, Paul',\n",
       " 'Bryson, Bill',\n",
       " 'Grisham, John',\n",
       " 'Levy, Andrea',\n",
       " 'Lawson, Nigella',\n",
       " 'Ali, Monica',\n",
       " 'Edwards, Kim',\n",
       " 'Donaldson, Julia',\n",
       " 'Hornby, Nick',\n",
       " 'Brand, Russell',\n",
       " 'Dawkins, Richard',\n",
       " '0',\n",
       " 'Smith, Zadie',\n",
       " 'Morton, Kate',\n",
       " 'Zusak, Markus',\n",
       " 'Binchy, Maeve',\n",
       " 'Harris, Robert',\n",
       " 'Oliver, Jamie',\n",
       " 'Collins, Suzanne',\n",
       " 'Pelzer, Dave',\n",
       " 'Oliver, Jamie']"
      ]
     },
     "execution_count": 157,
     "metadata": {},
     "output_type": "execute_result"
    }
   ],
   "source": [
    "#scraping author_name from tags\n",
    "for i in author:\n",
    "    authors=i.text.replace(\"\\n\",\" \")\n",
    "    Author_name.append(authors)\n",
    "Author_name"
   ]
  },
  {
   "cell_type": "code",
   "execution_count": 158,
   "metadata": {},
   "outputs": [
    {
     "data": {
      "text/plain": [
       "[<selenium.webdriver.remote.webelement.WebElement (session=\"dd54b785311c0b06c247413af6e8e3c0\", element=\"7b6e3655-c714-4e1a-b47e-65e5a619430d\")>,\n",
       " <selenium.webdriver.remote.webelement.WebElement (session=\"dd54b785311c0b06c247413af6e8e3c0\", element=\"7261e1b0-3821-4af2-802d-22c379ae50b7\")>,\n",
       " <selenium.webdriver.remote.webelement.WebElement (session=\"dd54b785311c0b06c247413af6e8e3c0\", element=\"ab4c881a-da94-49df-91d6-33c941432a75\")>]"
      ]
     },
     "execution_count": 158,
     "metadata": {},
     "output_type": "execute_result"
    }
   ],
   "source": [
    "#finding all the volumes sold tags\n",
    "volume=driver.find_elements_by_xpath('//*[@id=\"article-body-blocks\"]/div/table/tbody/tr/td[4]')\n",
    "volume[0:3]"
   ]
  },
  {
   "cell_type": "code",
   "execution_count": 159,
   "metadata": {},
   "outputs": [
    {
     "data": {
      "text/plain": [
       "['5,094,805',\n",
       " '4,475,152',\n",
       " '4,200,654',\n",
       " '4,179,479',\n",
       " '3,758,936',\n",
       " '3,583,215',\n",
       " '3,484,047',\n",
       " '3,377,906',\n",
       " '3,193,946',\n",
       " '2,950,264',\n",
       " '2,479,784',\n",
       " '2,315,405',\n",
       " '2,233,570',\n",
       " '2,193,928',\n",
       " '2,183,031',\n",
       " '2,152,737',\n",
       " '2,062,145',\n",
       " '2,052,876',\n",
       " '2,005,598',\n",
       " '1,979,552',\n",
       " '1,928,900',\n",
       " '1,852,919',\n",
       " '1,814,784',\n",
       " '1,787,118',\n",
       " '1,783,535',\n",
       " '1,781,269',\n",
       " '1,743,266',\n",
       " '1,629,119',\n",
       " '1,616,068',\n",
       " '1,583,992',\n",
       " '1,555,135',\n",
       " '1,546,886',\n",
       " '1,539,428',\n",
       " '1,508,205',\n",
       " '1,489,403',\n",
       " '1,352,318',\n",
       " '1,310,207',\n",
       " '1,310,176',\n",
       " '1,231,957',\n",
       " '1,217,712',\n",
       " '1,208,711',\n",
       " '1,204,058',\n",
       " '1,184,967',\n",
       " '1,181,503',\n",
       " '1,181,093',\n",
       " '1,153,181',\n",
       " '1,132,336',\n",
       " '1,130,802',\n",
       " '1,126,337',\n",
       " '1,115,549',\n",
       " '1,108,328',\n",
       " '1,107,379',\n",
       " '1,104,403',\n",
       " '1,092,349',\n",
       " '1,090,847',\n",
       " '1,087,262',\n",
       " '1,054,196',\n",
       " '1,037,160',\n",
       " '1,023,688',\n",
       " '1,015,956',\n",
       " '1,009,873',\n",
       " '1,004,414',\n",
       " '1,003,780',\n",
       " '1,002,314',\n",
       " '998,213',\n",
       " '992,846',\n",
       " '986,753',\n",
       " '986,115',\n",
       " '970,509',\n",
       " '967,466',\n",
       " '963,353',\n",
       " '962,515',\n",
       " '959,496',\n",
       " '956,114',\n",
       " '945,640',\n",
       " '931,312',\n",
       " '925,425',\n",
       " '924,695',\n",
       " '906,968',\n",
       " '905,086',\n",
       " '890,847',\n",
       " '869,671',\n",
       " '869,659',\n",
       " '862,602',\n",
       " '856,540',\n",
       " '845,858',\n",
       " '842,535',\n",
       " '828,215',\n",
       " '820,563',\n",
       " '816,907',\n",
       " '816,585',\n",
       " '815,586',\n",
       " '814,370',\n",
       " '809,641',\n",
       " '808,900',\n",
       " '807,311',\n",
       " '794,201',\n",
       " '792,187',\n",
       " '791,507',\n",
       " '791,095']"
      ]
     },
     "execution_count": 159,
     "metadata": {},
     "output_type": "execute_result"
    }
   ],
   "source": [
    "#scraping volumes_sold from tags\n",
    "for i in volume:\n",
    "    volumes=i.text.replace(\"\\n\",\" \")\n",
    "    Volumes_sold.append(volumes)\n",
    "Volumes_sold"
   ]
  },
  {
   "cell_type": "code",
   "execution_count": 160,
   "metadata": {},
   "outputs": [
    {
     "data": {
      "text/plain": [
       "[<selenium.webdriver.remote.webelement.WebElement (session=\"dd54b785311c0b06c247413af6e8e3c0\", element=\"4c05bccd-f927-4e16-b073-2ef6ac93fca8\")>,\n",
       " <selenium.webdriver.remote.webelement.WebElement (session=\"dd54b785311c0b06c247413af6e8e3c0\", element=\"65f4fd4e-e313-4f75-84ff-a12393cf64b5\")>,\n",
       " <selenium.webdriver.remote.webelement.WebElement (session=\"dd54b785311c0b06c247413af6e8e3c0\", element=\"ecd0fa65-b8ee-4310-9b1b-992c13fe7d79\")>]"
      ]
     },
     "execution_count": 160,
     "metadata": {},
     "output_type": "execute_result"
    }
   ],
   "source": [
    "#finding all the publisher tags\n",
    "publisher=driver.find_elements_by_xpath('//*[@id=\"article-body-blocks\"]/div/table/tbody/tr/td[5]')\n",
    "publisher[0:3]"
   ]
  },
  {
   "cell_type": "code",
   "execution_count": 161,
   "metadata": {},
   "outputs": [
    {
     "data": {
      "text/plain": [
       "['Transworld',\n",
       " 'Bloomsbury',\n",
       " 'Bloomsbury',\n",
       " 'Bloomsbury',\n",
       " 'Random House',\n",
       " 'Bloomsbury',\n",
       " 'Bloomsbury',\n",
       " 'Bloomsbury',\n",
       " 'Transworld',\n",
       " 'Bloomsbury',\n",
       " 'Random House',\n",
       " 'Little, Brown Book',\n",
       " 'Quercus',\n",
       " 'Random House',\n",
       " 'Transworld',\n",
       " 'Little, Brown Book',\n",
       " 'Transworld',\n",
       " 'Little, Brown Book',\n",
       " 'Pan Macmillan',\n",
       " 'Random House',\n",
       " 'Transworld',\n",
       " 'Transworld',\n",
       " 'Quercus',\n",
       " 'Little, Brown Book',\n",
       " 'Penguin',\n",
       " 'Pan Macmillan',\n",
       " 'Penguin',\n",
       " 'Bloomsbury',\n",
       " 'Hodder & Stoughton',\n",
       " 'Bloomsbury',\n",
       " 'Quercus',\n",
       " 'Random House',\n",
       " 'Random House',\n",
       " 'Pan Macmillan',\n",
       " 'Penguin',\n",
       " 'Random House',\n",
       " 'Random House',\n",
       " 'Canongate',\n",
       " 'HarperCollins',\n",
       " 'Orion',\n",
       " 'Pan Macmillan',\n",
       " 'HarperCollins',\n",
       " 'Random House',\n",
       " 'Scholastic Ltd.',\n",
       " 'Orion',\n",
       " 'Bloomsbury',\n",
       " 'Penguin',\n",
       " 'HarperCollins',\n",
       " 'Random House',\n",
       " 'Little, Brown Book',\n",
       " 'Headline',\n",
       " 'HarperCollins',\n",
       " 'Penguin',\n",
       " 'Orion',\n",
       " 'Bloomsbury',\n",
       " 'Random House',\n",
       " 'Random House',\n",
       " 'Scholastic Ltd.',\n",
       " 'Profile Books Group',\n",
       " 'Random House',\n",
       " 'Transworld',\n",
       " 'Random House Childrens Books G',\n",
       " 'Hodder & Stoughton',\n",
       " 'Scholastic Ltd.',\n",
       " 'Random House',\n",
       " 'HarperCollins',\n",
       " 'Random House',\n",
       " 'Penguin',\n",
       " 'Random House',\n",
       " 'HarperCollins',\n",
       " 'Penguin',\n",
       " 'Headline',\n",
       " 'Little, Brown Book',\n",
       " 'HarperCollins',\n",
       " 'Transworld',\n",
       " 'Transworld',\n",
       " 'Penguin',\n",
       " 'Pan Macmillan',\n",
       " 'Penguin',\n",
       " 'Transworld',\n",
       " 'Transworld',\n",
       " 'Random House',\n",
       " 'Headline',\n",
       " 'Random House',\n",
       " 'Transworld',\n",
       " 'Penguin',\n",
       " 'Pan Macmillan',\n",
       " 'Penguin',\n",
       " 'Hodder & Stoughton',\n",
       " 'Transworld',\n",
       " 'D.C. Thomson',\n",
       " 'Penguin',\n",
       " 'Pan Macmillan',\n",
       " 'Transworld',\n",
       " 'Orion',\n",
       " 'Random House',\n",
       " 'Penguin',\n",
       " 'Scholastic Ltd.',\n",
       " 'Orion',\n",
       " 'Penguin']"
      ]
     },
     "execution_count": 161,
     "metadata": {},
     "output_type": "execute_result"
    }
   ],
   "source": [
    "#scraping publisher from tags\n",
    "for i in publisher:\n",
    "    publishers=i.text.replace(\"\\n\",\" \")\n",
    "    Publisher.append(publishers)\n",
    "Publisher"
   ]
  },
  {
   "cell_type": "code",
   "execution_count": 162,
   "metadata": {},
   "outputs": [
    {
     "name": "stdout",
     "output_type": "stream",
     "text": [
      "100 100 100 100 100\n"
     ]
    }
   ],
   "source": [
    "#printing lenghts\n",
    "print(len(Book_name_),len(Author_name),len(Volumes_sold),len(Publisher),len(Genre))"
   ]
  },
  {
   "cell_type": "code",
   "execution_count": 163,
   "metadata": {},
   "outputs": [],
   "source": [
    "#creating a dataframe\n",
    "\n",
    "Novel=pd.DataFrame({})\n",
    "Novel['Book_name']=Book_name_\n",
    "Novel['Author_name']=Author_name\n",
    "Novel['Volumes_sold']=Volumes_sold\n",
    "Novel['Publisher']=Publisher\n",
    "Novel['Genre']=Genre"
   ]
  },
  {
   "cell_type": "code",
   "execution_count": 164,
   "metadata": {},
   "outputs": [
    {
     "data": {
      "text/html": [
       "<div>\n",
       "<style scoped>\n",
       "    .dataframe tbody tr th:only-of-type {\n",
       "        vertical-align: middle;\n",
       "    }\n",
       "\n",
       "    .dataframe tbody tr th {\n",
       "        vertical-align: top;\n",
       "    }\n",
       "\n",
       "    .dataframe thead th {\n",
       "        text-align: right;\n",
       "    }\n",
       "</style>\n",
       "<table border=\"1\" class=\"dataframe\">\n",
       "  <thead>\n",
       "    <tr style=\"text-align: right;\">\n",
       "      <th></th>\n",
       "      <th>Book_name</th>\n",
       "      <th>Author_name</th>\n",
       "      <th>Volumes_sold</th>\n",
       "      <th>Publisher</th>\n",
       "      <th>Genre</th>\n",
       "    </tr>\n",
       "  </thead>\n",
       "  <tbody>\n",
       "    <tr>\n",
       "      <th>0</th>\n",
       "      <td>Da Vinci Code,The</td>\n",
       "      <td>Brown, Dan</td>\n",
       "      <td>5,094,805</td>\n",
       "      <td>Transworld</td>\n",
       "      <td>Crime, Thriller &amp; Adventure</td>\n",
       "    </tr>\n",
       "    <tr>\n",
       "      <th>1</th>\n",
       "      <td>Harry Potter and the Deathly Hallows</td>\n",
       "      <td>Rowling, J.K.</td>\n",
       "      <td>4,475,152</td>\n",
       "      <td>Bloomsbury</td>\n",
       "      <td>Children's Fiction</td>\n",
       "    </tr>\n",
       "    <tr>\n",
       "      <th>2</th>\n",
       "      <td>Harry Potter and the Philosopher's Stone</td>\n",
       "      <td>Rowling, J.K.</td>\n",
       "      <td>4,200,654</td>\n",
       "      <td>Bloomsbury</td>\n",
       "      <td>Children's Fiction</td>\n",
       "    </tr>\n",
       "    <tr>\n",
       "      <th>3</th>\n",
       "      <td>Harry Potter and the Order of the Phoenix</td>\n",
       "      <td>Rowling, J.K.</td>\n",
       "      <td>4,179,479</td>\n",
       "      <td>Bloomsbury</td>\n",
       "      <td>Children's Fiction</td>\n",
       "    </tr>\n",
       "    <tr>\n",
       "      <th>4</th>\n",
       "      <td>Fifty Shades of Grey</td>\n",
       "      <td>James, E. L.</td>\n",
       "      <td>3,758,936</td>\n",
       "      <td>Random House</td>\n",
       "      <td>Romance &amp; Sagas</td>\n",
       "    </tr>\n",
       "    <tr>\n",
       "      <th>...</th>\n",
       "      <td>...</td>\n",
       "      <td>...</td>\n",
       "      <td>...</td>\n",
       "      <td>...</td>\n",
       "      <td>...</td>\n",
       "    </tr>\n",
       "    <tr>\n",
       "      <th>95</th>\n",
       "      <td>Ghost,The</td>\n",
       "      <td>Harris, Robert</td>\n",
       "      <td>807,311</td>\n",
       "      <td>Random House</td>\n",
       "      <td>General &amp; Literary Fiction</td>\n",
       "    </tr>\n",
       "    <tr>\n",
       "      <th>96</th>\n",
       "      <td>Happy Days with the Naked Chef</td>\n",
       "      <td>Oliver, Jamie</td>\n",
       "      <td>794,201</td>\n",
       "      <td>Penguin</td>\n",
       "      <td>Food &amp; Drink: General</td>\n",
       "    </tr>\n",
       "    <tr>\n",
       "      <th>97</th>\n",
       "      <td>Hunger Games,The:Hunger Games Trilogy</td>\n",
       "      <td>Collins, Suzanne</td>\n",
       "      <td>792,187</td>\n",
       "      <td>Scholastic Ltd.</td>\n",
       "      <td>Young Adult Fiction</td>\n",
       "    </tr>\n",
       "    <tr>\n",
       "      <th>98</th>\n",
       "      <td>Lost Boy,The:A Foster Child's Search for the L...</td>\n",
       "      <td>Pelzer, Dave</td>\n",
       "      <td>791,507</td>\n",
       "      <td>Orion</td>\n",
       "      <td>Biography: General</td>\n",
       "    </tr>\n",
       "    <tr>\n",
       "      <th>99</th>\n",
       "      <td>Jamie's Ministry of Food:Anyone Can Learn to C...</td>\n",
       "      <td>Oliver, Jamie</td>\n",
       "      <td>791,095</td>\n",
       "      <td>Penguin</td>\n",
       "      <td>Food &amp; Drink: General</td>\n",
       "    </tr>\n",
       "  </tbody>\n",
       "</table>\n",
       "<p>100 rows × 5 columns</p>\n",
       "</div>"
      ],
      "text/plain": [
       "                                            Book_name       Author_name  \\\n",
       "0                                   Da Vinci Code,The        Brown, Dan   \n",
       "1                Harry Potter and the Deathly Hallows     Rowling, J.K.   \n",
       "2            Harry Potter and the Philosopher's Stone     Rowling, J.K.   \n",
       "3           Harry Potter and the Order of the Phoenix     Rowling, J.K.   \n",
       "4                                Fifty Shades of Grey      James, E. L.   \n",
       "..                                                ...               ...   \n",
       "95                                          Ghost,The    Harris, Robert   \n",
       "96                     Happy Days with the Naked Chef     Oliver, Jamie   \n",
       "97              Hunger Games,The:Hunger Games Trilogy  Collins, Suzanne   \n",
       "98  Lost Boy,The:A Foster Child's Search for the L...      Pelzer, Dave   \n",
       "99  Jamie's Ministry of Food:Anyone Can Learn to C...     Oliver, Jamie   \n",
       "\n",
       "   Volumes_sold        Publisher                        Genre  \n",
       "0     5,094,805       Transworld  Crime, Thriller & Adventure  \n",
       "1     4,475,152       Bloomsbury           Children's Fiction  \n",
       "2     4,200,654       Bloomsbury           Children's Fiction  \n",
       "3     4,179,479       Bloomsbury           Children's Fiction  \n",
       "4     3,758,936     Random House              Romance & Sagas  \n",
       "..          ...              ...                          ...  \n",
       "95      807,311     Random House   General & Literary Fiction  \n",
       "96      794,201          Penguin        Food & Drink: General  \n",
       "97      792,187  Scholastic Ltd.          Young Adult Fiction  \n",
       "98      791,507            Orion           Biography: General  \n",
       "99      791,095          Penguin        Food & Drink: General  \n",
       "\n",
       "[100 rows x 5 columns]"
      ]
     },
     "execution_count": 164,
     "metadata": {},
     "output_type": "execute_result"
    }
   ],
   "source": [
    "Novel"
   ]
  },
  {
   "cell_type": "code",
   "execution_count": 165,
   "metadata": {},
   "outputs": [],
   "source": [
    "#converting into csv format\n",
    "Novel.to_csv(\"Novel.csv\")"
   ]
  },
  {
   "cell_type": "code",
   "execution_count": 166,
   "metadata": {},
   "outputs": [],
   "source": [
    "#closing the driver\n",
    "driver.close()"
   ]
  },
  {
   "cell_type": "markdown",
   "metadata": {},
   "source": [
    "# 9. Scrape the details most watched tv series of all time from imdb.com. Url = https://www.imdb.com/list/ls095964455/"
   ]
  },
  {
   "cell_type": "code",
   "execution_count": 167,
   "metadata": {},
   "outputs": [],
   "source": [
    "#connecting to the webdriver\n",
    "driver=webdriver.Chrome(r\"C:\\Users\\sandeep\\Downloads\\chromedriver_win32\\chromedriver.exe\")"
   ]
  },
  {
   "cell_type": "code",
   "execution_count": 168,
   "metadata": {},
   "outputs": [],
   "source": [
    "#specifying the url of the webpage to be scraped\n",
    "url=\"https://www.imdb.com/list/ls095964455/\""
   ]
  },
  {
   "cell_type": "code",
   "execution_count": 169,
   "metadata": {},
   "outputs": [],
   "source": [
    "#opening the webpage through our driver\n",
    "driver.get(url)"
   ]
  },
  {
   "cell_type": "code",
   "execution_count": 170,
   "metadata": {},
   "outputs": [],
   "source": [
    "#creating empty lists\n",
    "Name=[]\n",
    "Year_span=[]\n",
    "Genre=[]\n",
    "Runtime=[]\n",
    "Ratings=[]\n",
    "Votes=[]"
   ]
  },
  {
   "cell_type": "code",
   "execution_count": 171,
   "metadata": {},
   "outputs": [
    {
     "data": {
      "text/plain": [
       "[<selenium.webdriver.remote.webelement.WebElement (session=\"79623afc743b2c35679b2eb08dad362b\", element=\"4c02f089-6353-421e-8037-caad36e4a29d\")>,\n",
       " <selenium.webdriver.remote.webelement.WebElement (session=\"79623afc743b2c35679b2eb08dad362b\", element=\"88d040f7-ce51-4846-a77c-3eca68e30867\")>,\n",
       " <selenium.webdriver.remote.webelement.WebElement (session=\"79623afc743b2c35679b2eb08dad362b\", element=\"e4839802-b5b2-4e15-925c-895ee3abe922\")>]"
      ]
     },
     "execution_count": 171,
     "metadata": {},
     "output_type": "execute_result"
    }
   ],
   "source": [
    "#finding all the name tags\n",
    "name=driver.find_elements_by_xpath('//*[@id=\"main\"]/div/div[3]/div[3]/div/div[2]/h3/a')\n",
    "name[0:3]"
   ]
  },
  {
   "cell_type": "code",
   "execution_count": 172,
   "metadata": {},
   "outputs": [
    {
     "data": {
      "text/plain": [
       "['Game of Thrones',\n",
       " 'Stranger Things',\n",
       " 'The Walking Dead',\n",
       " '13 Reasons Why',\n",
       " 'The 100',\n",
       " 'Orange Is the New Black',\n",
       " 'Riverdale',\n",
       " \"Grey's Anatomy\",\n",
       " 'The Flash',\n",
       " 'Arrow',\n",
       " 'Money Heist',\n",
       " 'The Big Bang Theory',\n",
       " 'Black Mirror',\n",
       " 'Sherlock',\n",
       " 'Vikings',\n",
       " 'Pretty Little Liars',\n",
       " 'The Vampire Diaries',\n",
       " 'American Horror Story',\n",
       " 'Breaking Bad',\n",
       " 'Lucifer',\n",
       " 'Supernatural',\n",
       " 'Prison Break',\n",
       " 'How to Get Away with Murder',\n",
       " 'Teen Wolf',\n",
       " 'The Simpsons',\n",
       " 'Once Upon a Time',\n",
       " 'Narcos',\n",
       " 'Daredevil',\n",
       " 'Friends',\n",
       " 'How I Met Your Mother',\n",
       " 'Suits',\n",
       " 'Mr. Robot',\n",
       " 'The Originals',\n",
       " 'Supergirl',\n",
       " 'Gossip Girl',\n",
       " 'Sense8',\n",
       " 'Gotham',\n",
       " 'Westworld',\n",
       " 'Jessica Jones',\n",
       " 'Modern Family',\n",
       " 'Rick and Morty',\n",
       " 'Shadowhunters',\n",
       " 'The End of the F***ing World',\n",
       " 'House of Cards',\n",
       " 'Dark',\n",
       " 'Elite',\n",
       " 'Sex Education',\n",
       " 'Shameless',\n",
       " 'New Girl',\n",
       " 'Agents of S.H.I.E.L.D.',\n",
       " 'You',\n",
       " 'Dexter',\n",
       " 'Fear the Walking Dead',\n",
       " 'Family Guy',\n",
       " 'The Blacklist',\n",
       " 'Lost',\n",
       " 'Peaky Blinders',\n",
       " 'House',\n",
       " 'Quantico',\n",
       " 'Orphan Black',\n",
       " 'Homeland',\n",
       " 'Blindspot',\n",
       " \"DC's Legends of Tomorrow\",\n",
       " \"The Handmaid's Tale\",\n",
       " 'Chilling Adventures of Sabrina',\n",
       " 'The Good Doctor',\n",
       " 'Jane the Virgin',\n",
       " 'Glee',\n",
       " 'South Park',\n",
       " 'Brooklyn Nine-Nine',\n",
       " 'Under the Dome',\n",
       " 'The Umbrella Academy',\n",
       " 'True Detective',\n",
       " 'The OA',\n",
       " 'Desperate Housewives',\n",
       " 'Better Call Saul',\n",
       " 'Bates Motel',\n",
       " 'The Punisher',\n",
       " 'Atypical',\n",
       " 'Dynasty',\n",
       " 'This Is Us',\n",
       " 'The Good Place',\n",
       " 'Iron Fist',\n",
       " 'The Rain',\n",
       " 'Mindhunter',\n",
       " 'Revenge',\n",
       " 'Luke Cage',\n",
       " 'Scandal',\n",
       " 'The Defenders',\n",
       " 'Big Little Lies',\n",
       " 'Insatiable',\n",
       " 'The Mentalist',\n",
       " 'The Crown',\n",
       " 'Chernobyl',\n",
       " 'iZombie',\n",
       " 'Reign',\n",
       " 'A Series of Unfortunate Events',\n",
       " 'Criminal Minds',\n",
       " 'Scream: The TV Series',\n",
       " 'The Haunting of Hill House']"
      ]
     },
     "execution_count": 172,
     "metadata": {},
     "output_type": "execute_result"
    }
   ],
   "source": [
    "#scraping name from tags\n",
    "for i in name:\n",
    "    names=i.text.replace(\"\\n\",\" \")\n",
    "    Name.append(names)\n",
    "Name"
   ]
  },
  {
   "cell_type": "code",
   "execution_count": 173,
   "metadata": {},
   "outputs": [
    {
     "data": {
      "text/plain": [
       "[<selenium.webdriver.remote.webelement.WebElement (session=\"79623afc743b2c35679b2eb08dad362b\", element=\"42fdcb1e-b44c-4a80-8345-d71e75c6da4c\")>,\n",
       " <selenium.webdriver.remote.webelement.WebElement (session=\"79623afc743b2c35679b2eb08dad362b\", element=\"000ca3e1-2d79-4759-b4b0-797d59a1da13\")>,\n",
       " <selenium.webdriver.remote.webelement.WebElement (session=\"79623afc743b2c35679b2eb08dad362b\", element=\"be93bae2-abf9-4d28-99f2-99f4a7fc218b\")>]"
      ]
     },
     "execution_count": 173,
     "metadata": {},
     "output_type": "execute_result"
    }
   ],
   "source": [
    "#finding all the year span tags\n",
    "year=driver.find_elements_by_xpath(\"//span[@class='lister-item-year text-muted unbold']\")\n",
    "year[0:3]"
   ]
  },
  {
   "cell_type": "code",
   "execution_count": 174,
   "metadata": {},
   "outputs": [
    {
     "data": {
      "text/plain": [
       "['(2011–2019)',\n",
       " '(2016– )',\n",
       " '(2010– )',\n",
       " '(2017–2020)',\n",
       " '(2014–2020)',\n",
       " '(2013–2019)',\n",
       " '(2017– )',\n",
       " '(2005– )',\n",
       " '(2014– )',\n",
       " '(2012–2020)',\n",
       " '(2017– )',\n",
       " '(2007–2019)',\n",
       " '(2011– )',\n",
       " '(2010–2017)',\n",
       " '(2013–2020)',\n",
       " '(2010–2017)',\n",
       " '(2009–2017)',\n",
       " '(2011– )',\n",
       " '(2008–2013)',\n",
       " '(2016– )',\n",
       " '(2005–2020)',\n",
       " '(2005–2017)',\n",
       " '(2014–2020)',\n",
       " '(2011–2017)',\n",
       " '(1989– )',\n",
       " '(2011–2018)',\n",
       " '(2015–2017)',\n",
       " '(2015–2018)',\n",
       " '(1994–2004)',\n",
       " '(2005–2014)',\n",
       " '(2011–2019)',\n",
       " '(2015–2019)',\n",
       " '(2013–2018)',\n",
       " '(2015–2021)',\n",
       " '(2007–2012)',\n",
       " '(2015–2018)',\n",
       " '(2014–2019)',\n",
       " '(2016– )',\n",
       " '(2015–2019)',\n",
       " '(2009–2020)',\n",
       " '(2013– )',\n",
       " '(2016–2019)',\n",
       " '(2017–2019)',\n",
       " '(2013–2018)',\n",
       " '(2017–2020)',\n",
       " '(2018– )',\n",
       " '(2019– )',\n",
       " '(2011–2021)',\n",
       " '(2011–2018)',\n",
       " '(2013–2020)',\n",
       " '(2018– )',\n",
       " '(2006–2021)',\n",
       " '(2015– )',\n",
       " '(1999– )',\n",
       " '(2013– )',\n",
       " '(2004–2010)',\n",
       " '(2013– )',\n",
       " '(2004–2012)',\n",
       " '(2015–2018)',\n",
       " '(2013–2017)',\n",
       " '(2011–2020)',\n",
       " '(2015–2020)',\n",
       " '(2016– )',\n",
       " '(2017– )',\n",
       " '(2018–2020)',\n",
       " '(2017– )',\n",
       " '(2014–2019)',\n",
       " '(2009–2015)',\n",
       " '(1997– )',\n",
       " '(2013–2022)',\n",
       " '(2013–2015)',\n",
       " '(2019– )',\n",
       " '(2014– )',\n",
       " '(2016–2019)',\n",
       " '(2004–2012)',\n",
       " '(2015–2021)',\n",
       " '(2013–2017)',\n",
       " '(2017–2019)',\n",
       " '(2017–2021)',\n",
       " '(2017– )',\n",
       " '(2016– )',\n",
       " '(2016–2020)',\n",
       " '(2017–2018)',\n",
       " '(2018–2020)',\n",
       " '(2017–2019)',\n",
       " '(2011–2015)',\n",
       " '(2016–2018)',\n",
       " '(2012–2018)',\n",
       " '(2017)',\n",
       " '(2017–2019)',\n",
       " '(2018–2019)',\n",
       " '(2008–2015)',\n",
       " '(2016– )',\n",
       " '(2019)',\n",
       " '(2015–2019)',\n",
       " '(2013–2017)',\n",
       " '(2017–2019)',\n",
       " '(2005–2020)',\n",
       " '(2015–2019)',\n",
       " '(2018)']"
      ]
     },
     "execution_count": 174,
     "metadata": {},
     "output_type": "execute_result"
    }
   ],
   "source": [
    "#scraping year span from tags\n",
    "for i in year:\n",
    "    years=i.text.replace(\"\\n\",\" \")\n",
    "    Year_span.append(years)\n",
    "Year_span"
   ]
  },
  {
   "cell_type": "code",
   "execution_count": 175,
   "metadata": {},
   "outputs": [
    {
     "data": {
      "text/plain": [
       "[<selenium.webdriver.remote.webelement.WebElement (session=\"79623afc743b2c35679b2eb08dad362b\", element=\"e88ec47e-45ce-4552-986d-db891d48995f\")>,\n",
       " <selenium.webdriver.remote.webelement.WebElement (session=\"79623afc743b2c35679b2eb08dad362b\", element=\"8df623b2-c69d-46fa-9458-605c95596302\")>,\n",
       " <selenium.webdriver.remote.webelement.WebElement (session=\"79623afc743b2c35679b2eb08dad362b\", element=\"192630df-8ec3-4503-9ee8-9afc71192fc4\")>]"
      ]
     },
     "execution_count": 175,
     "metadata": {},
     "output_type": "execute_result"
    }
   ],
   "source": [
    "#finding all the genre tags\n",
    "genre=driver.find_elements_by_xpath(\"//span[@class='genre']\")\n",
    "genre[0:3]"
   ]
  },
  {
   "cell_type": "code",
   "execution_count": 176,
   "metadata": {},
   "outputs": [
    {
     "data": {
      "text/plain": [
       "['Action, Adventure, Drama',\n",
       " 'Drama, Fantasy, Horror',\n",
       " 'Drama, Horror, Thriller',\n",
       " 'Drama, Mystery, Thriller',\n",
       " 'Drama, Mystery, Sci-Fi',\n",
       " 'Comedy, Crime, Drama',\n",
       " 'Crime, Drama, Mystery',\n",
       " 'Drama, Romance',\n",
       " 'Action, Adventure, Drama',\n",
       " 'Action, Adventure, Crime',\n",
       " 'Action, Crime, Mystery',\n",
       " 'Comedy, Romance',\n",
       " 'Drama, Sci-Fi, Thriller',\n",
       " 'Crime, Drama, Mystery',\n",
       " 'Action, Adventure, Drama',\n",
       " 'Drama, Mystery, Romance',\n",
       " 'Drama, Fantasy, Horror',\n",
       " 'Drama, Horror, Thriller',\n",
       " 'Crime, Drama, Thriller',\n",
       " 'Crime, Drama, Fantasy',\n",
       " 'Drama, Fantasy, Horror',\n",
       " 'Action, Crime, Drama',\n",
       " 'Crime, Drama, Mystery',\n",
       " 'Action, Drama, Fantasy',\n",
       " 'Animation, Comedy',\n",
       " 'Adventure, Fantasy, Romance',\n",
       " 'Biography, Crime, Drama',\n",
       " 'Action, Crime, Drama',\n",
       " 'Comedy, Romance',\n",
       " 'Comedy, Romance',\n",
       " 'Comedy, Drama',\n",
       " 'Crime, Drama, Thriller',\n",
       " 'Drama, Fantasy, Horror',\n",
       " 'Action, Adventure, Drama',\n",
       " 'Drama, Romance',\n",
       " 'Drama, Mystery, Sci-Fi',\n",
       " 'Action, Crime, Drama',\n",
       " 'Drama, Mystery, Sci-Fi',\n",
       " 'Action, Crime, Drama',\n",
       " 'Comedy, Drama, Romance',\n",
       " 'Animation, Adventure, Comedy',\n",
       " 'Action, Drama, Fantasy',\n",
       " 'Adventure, Comedy, Crime',\n",
       " 'Drama',\n",
       " 'Crime, Drama, Mystery',\n",
       " 'Crime, Drama, Thriller',\n",
       " 'Comedy, Drama',\n",
       " 'Comedy, Drama',\n",
       " 'Comedy',\n",
       " 'Action, Adventure, Drama',\n",
       " 'Crime, Drama, Romance',\n",
       " 'Crime, Drama, Mystery',\n",
       " 'Drama, Horror, Sci-Fi',\n",
       " 'Animation, Comedy',\n",
       " 'Crime, Drama, Mystery',\n",
       " 'Adventure, Drama, Fantasy',\n",
       " 'Crime, Drama',\n",
       " 'Drama, Mystery',\n",
       " 'Crime, Drama, Mystery',\n",
       " 'Action, Drama, Sci-Fi',\n",
       " 'Crime, Drama, Mystery',\n",
       " 'Action, Crime, Drama',\n",
       " 'Action, Adventure, Drama',\n",
       " 'Drama, Sci-Fi, Thriller',\n",
       " 'Drama, Fantasy, Horror',\n",
       " 'Drama',\n",
       " 'Comedy',\n",
       " 'Comedy, Drama, Music',\n",
       " 'Animation, Comedy',\n",
       " 'Comedy, Crime',\n",
       " 'Drama, Mystery, Sci-Fi',\n",
       " 'Action, Adventure, Comedy',\n",
       " 'Crime, Drama, Mystery',\n",
       " 'Drama, Fantasy, Mystery',\n",
       " 'Comedy, Drama, Mystery',\n",
       " 'Crime, Drama',\n",
       " 'Drama, Horror, Mystery',\n",
       " 'Action, Crime, Drama',\n",
       " 'Comedy, Drama',\n",
       " 'Drama',\n",
       " 'Comedy, Drama, Romance',\n",
       " 'Comedy, Drama, Fantasy',\n",
       " 'Action, Adventure, Crime',\n",
       " 'Drama, Sci-Fi, Thriller',\n",
       " 'Crime, Drama, Thriller',\n",
       " 'Drama, Mystery, Thriller',\n",
       " 'Action, Crime, Drama',\n",
       " 'Drama, Thriller',\n",
       " 'Action, Adventure, Crime',\n",
       " 'Crime, Drama, Mystery',\n",
       " 'Comedy, Drama, Thriller',\n",
       " 'Crime, Drama, Mystery',\n",
       " 'Biography, Drama, History',\n",
       " 'Drama, History, Thriller',\n",
       " 'Comedy, Crime, Drama',\n",
       " 'Drama, Fantasy',\n",
       " 'Adventure, Comedy, Drama',\n",
       " 'Crime, Drama, Mystery',\n",
       " 'Crime, Drama, Horror',\n",
       " 'Drama, Horror, Mystery']"
      ]
     },
     "execution_count": 176,
     "metadata": {},
     "output_type": "execute_result"
    }
   ],
   "source": [
    "#scraping genre from tags\n",
    "for i in genre:\n",
    "    genres=i.text.replace(\"\\n\",\" \")\n",
    "    Genre.append(genres)\n",
    "Genre"
   ]
  },
  {
   "cell_type": "code",
   "execution_count": 177,
   "metadata": {},
   "outputs": [
    {
     "data": {
      "text/plain": [
       "[<selenium.webdriver.remote.webelement.WebElement (session=\"79623afc743b2c35679b2eb08dad362b\", element=\"07d32922-5628-4a06-9d79-de3efeb16c6f\")>,\n",
       " <selenium.webdriver.remote.webelement.WebElement (session=\"79623afc743b2c35679b2eb08dad362b\", element=\"07a2ae65-3572-4153-91e0-b64da4f67758\")>,\n",
       " <selenium.webdriver.remote.webelement.WebElement (session=\"79623afc743b2c35679b2eb08dad362b\", element=\"b9c900f5-497e-4625-9fd6-1bec3a3da9e8\")>]"
      ]
     },
     "execution_count": 177,
     "metadata": {},
     "output_type": "execute_result"
    }
   ],
   "source": [
    "#finding all the runtime tags\n",
    "runtime=driver.find_elements_by_xpath(\"//span[@class='runtime']\")\n",
    "runtime[0:3]"
   ]
  },
  {
   "cell_type": "code",
   "execution_count": 178,
   "metadata": {},
   "outputs": [
    {
     "data": {
      "text/plain": [
       "['57 min',\n",
       " '51 min',\n",
       " '44 min',\n",
       " '60 min',\n",
       " '43 min',\n",
       " '59 min',\n",
       " '45 min',\n",
       " '41 min',\n",
       " '43 min',\n",
       " '42 min',\n",
       " '70 min',\n",
       " '22 min',\n",
       " '60 min',\n",
       " '88 min',\n",
       " '44 min',\n",
       " '44 min',\n",
       " '43 min',\n",
       " '60 min',\n",
       " '49 min',\n",
       " '42 min',\n",
       " '44 min',\n",
       " '44 min',\n",
       " '43 min',\n",
       " '41 min',\n",
       " '22 min',\n",
       " '60 min',\n",
       " '49 min',\n",
       " '54 min',\n",
       " '22 min',\n",
       " '22 min',\n",
       " '44 min',\n",
       " '49 min',\n",
       " '45 min',\n",
       " '43 min',\n",
       " '42 min',\n",
       " '60 min',\n",
       " '42 min',\n",
       " '62 min',\n",
       " '56 min',\n",
       " '22 min',\n",
       " '23 min',\n",
       " '42 min',\n",
       " '25 min',\n",
       " '51 min',\n",
       " '60 min',\n",
       " '60 min',\n",
       " '45 min',\n",
       " '46 min',\n",
       " '22 min',\n",
       " '45 min',\n",
       " '45 min',\n",
       " '53 min',\n",
       " '44 min',\n",
       " '22 min',\n",
       " '43 min',\n",
       " '44 min',\n",
       " '60 min',\n",
       " '44 min',\n",
       " '42 min',\n",
       " '44 min',\n",
       " '55 min',\n",
       " '42 min',\n",
       " '42 min',\n",
       " '60 min',\n",
       " '60 min',\n",
       " '41 min',\n",
       " '60 min',\n",
       " '44 min',\n",
       " '22 min',\n",
       " '22 min',\n",
       " '43 min',\n",
       " '60 min',\n",
       " '55 min',\n",
       " '60 min',\n",
       " '45 min',\n",
       " '46 min',\n",
       " '45 min',\n",
       " '53 min',\n",
       " '30 min',\n",
       " '42 min',\n",
       " '45 min',\n",
       " '22 min',\n",
       " '55 min',\n",
       " '45 min',\n",
       " '60 min',\n",
       " '44 min',\n",
       " '55 min',\n",
       " '43 min',\n",
       " '50 min',\n",
       " '60 min',\n",
       " '45 min',\n",
       " '43 min',\n",
       " '58 min',\n",
       " '330 min',\n",
       " '42 min',\n",
       " '42 min',\n",
       " '50 min',\n",
       " '42 min',\n",
       " '45 min',\n",
       " '572 min']"
      ]
     },
     "execution_count": 178,
     "metadata": {},
     "output_type": "execute_result"
    }
   ],
   "source": [
    "#scraping runtime from tags\n",
    "for i in runtime:\n",
    "    runtimes=i.text.replace(\"\\n\",\" \")\n",
    "    Runtime.append(runtimes)\n",
    "Runtime"
   ]
  },
  {
   "cell_type": "code",
   "execution_count": 179,
   "metadata": {},
   "outputs": [
    {
     "data": {
      "text/plain": [
       "[<selenium.webdriver.remote.webelement.WebElement (session=\"79623afc743b2c35679b2eb08dad362b\", element=\"432d2325-a78c-4e4e-928f-09dff5c6c13e\")>,\n",
       " <selenium.webdriver.remote.webelement.WebElement (session=\"79623afc743b2c35679b2eb08dad362b\", element=\"bcd7520f-996a-4bbc-8a1c-4aada4a46d0e\")>,\n",
       " <selenium.webdriver.remote.webelement.WebElement (session=\"79623afc743b2c35679b2eb08dad362b\", element=\"951f79c6-a7ac-4014-91ae-41a8244a3112\")>]"
      ]
     },
     "execution_count": 179,
     "metadata": {},
     "output_type": "execute_result"
    }
   ],
   "source": [
    "#finding all the ratings tags\n",
    "rating=driver.find_elements_by_xpath('//*[@id=\"main\"]/div/div[3]/div[3]/div/div[2]/div[1]/div[1]/span[2]')\n",
    "rating[0:3]"
   ]
  },
  {
   "cell_type": "code",
   "execution_count": 180,
   "metadata": {},
   "outputs": [
    {
     "data": {
      "text/plain": [
       "['9.3',\n",
       " '8.7',\n",
       " '8.2',\n",
       " '7.6',\n",
       " '7.6',\n",
       " '8.1',\n",
       " '6.9',\n",
       " '7.6',\n",
       " '7.7',\n",
       " '7.5',\n",
       " '8.3',\n",
       " '8.1',\n",
       " '8.8',\n",
       " '9.1',\n",
       " '8.5',\n",
       " '7.4',\n",
       " '7.7',\n",
       " '8',\n",
       " '9.5',\n",
       " '8.1',\n",
       " '8.4',\n",
       " '8.3',\n",
       " '8.1',\n",
       " '7.6',\n",
       " '8.7',\n",
       " '7.7',\n",
       " '8.8',\n",
       " '8.6',\n",
       " '8.9',\n",
       " '8.3',\n",
       " '8.5',\n",
       " '8.6',\n",
       " '8.2',\n",
       " '6.3',\n",
       " '7.4',\n",
       " '8.3',\n",
       " '7.8',\n",
       " '8.6',\n",
       " '7.9',\n",
       " '8.4',\n",
       " '9.2',\n",
       " '6.6',\n",
       " '8.1',\n",
       " '8.7',\n",
       " '8.8',\n",
       " '7.6',\n",
       " '8.3',\n",
       " '8.6',\n",
       " '7.7',\n",
       " '7.5',\n",
       " '7.7',\n",
       " '8.6',\n",
       " '6.9',\n",
       " '8.1',\n",
       " '8',\n",
       " '8.3',\n",
       " '8.8',\n",
       " '8.7',\n",
       " '6.7',\n",
       " '8.3',\n",
       " '8.3',\n",
       " '7.4',\n",
       " '6.8',\n",
       " '8.4',\n",
       " '7.5',\n",
       " '8.2',\n",
       " '7.8',\n",
       " '6.7',\n",
       " '8.7',\n",
       " '8.4',\n",
       " '6.6',\n",
       " '8',\n",
       " '9',\n",
       " '7.8',\n",
       " '7.5',\n",
       " '8.7',\n",
       " '8.2',\n",
       " '8.5',\n",
       " '8.3',\n",
       " '7.3',\n",
       " '8.7',\n",
       " '8.2',\n",
       " '6.5',\n",
       " '6.3',\n",
       " '8.6',\n",
       " '7.8',\n",
       " '7.3',\n",
       " '7.7',\n",
       " '7.3',\n",
       " '8.5',\n",
       " '6.5',\n",
       " '8.1',\n",
       " '8.7',\n",
       " '9.4',\n",
       " '7.8',\n",
       " '7.5',\n",
       " '7.8',\n",
       " '8.1',\n",
       " '7.2',\n",
       " '8.6']"
      ]
     },
     "execution_count": 180,
     "metadata": {},
     "output_type": "execute_result"
    }
   ],
   "source": [
    "#scraping runtime from tags\n",
    "Ratings=[]\n",
    "for i in rating:\n",
    "    ratings=i.text.replace(\"\\n\",\" \")\n",
    "    Ratings.append(ratings)\n",
    "Ratings"
   ]
  },
  {
   "cell_type": "code",
   "execution_count": 181,
   "metadata": {},
   "outputs": [
    {
     "data": {
      "text/plain": [
       "[<selenium.webdriver.remote.webelement.WebElement (session=\"79623afc743b2c35679b2eb08dad362b\", element=\"a4dacc20-dfea-4175-ba63-7157128bf94f\")>,\n",
       " <selenium.webdriver.remote.webelement.WebElement (session=\"79623afc743b2c35679b2eb08dad362b\", element=\"78bbfe24-b940-4594-8d50-4a80df87d580\")>,\n",
       " <selenium.webdriver.remote.webelement.WebElement (session=\"79623afc743b2c35679b2eb08dad362b\", element=\"eecf10d5-45f4-4306-9e1a-72d93fe560b3\")>]"
      ]
     },
     "execution_count": 181,
     "metadata": {},
     "output_type": "execute_result"
    }
   ],
   "source": [
    "#finding all the vote tags\n",
    "vote=driver.find_elements_by_xpath(\"//span[@name='nv']\")\n",
    "vote[0:3]"
   ]
  },
  {
   "cell_type": "code",
   "execution_count": 182,
   "metadata": {},
   "outputs": [
    {
     "data": {
      "text/plain": [
       "['1,769,444',\n",
       " '821,811',\n",
       " '853,156',\n",
       " '256,134',\n",
       " '216,372',\n",
       " '278,866',\n",
       " '117,947',\n",
       " '250,813',\n",
       " '305,199',\n",
       " '407,581',\n",
       " '297,964',\n",
       " '723,056',\n",
       " '444,360',\n",
       " '807,014',\n",
       " '431,986',\n",
       " '152,234',\n",
       " '282,945',\n",
       " '277,404',\n",
       " '1,464,551',\n",
       " '232,326',\n",
       " '392,515',\n",
       " '476,241',\n",
       " '129,257',\n",
       " '126,731',\n",
       " '365,578',\n",
       " '208,541',\n",
       " '357,451',\n",
       " '362,473',\n",
       " '827,316',\n",
       " '602,666',\n",
       " '363,501',\n",
       " '333,267',\n",
       " '117,477',\n",
       " '111,152',\n",
       " '154,312',\n",
       " '139,388',\n",
       " '211,835',\n",
       " '428,051',\n",
       " '193,184',\n",
       " '355,081',\n",
       " '375,602',\n",
       " '53,297',\n",
       " '145,894',\n",
       " '466,830',\n",
       " '283,600',\n",
       " '48,150',\n",
       " '158,033',\n",
       " '203,112',\n",
       " '192,290',\n",
       " '199,717',\n",
       " '143,409',\n",
       " '646,271',\n",
       " '112,420',\n",
       " '304,561',\n",
       " '197,138',\n",
       " '495,479',\n",
       " '348,161',\n",
       " '414,597',\n",
       " '57,199',\n",
       " '101,362',\n",
       " '312,721',\n",
       " '66,634',\n",
       " '91,947',\n",
       " '172,027',\n",
       " '77,472',\n",
       " '62,823',\n",
       " '38,749',\n",
       " '136,693',\n",
       " '331,449',\n",
       " '225,217',\n",
       " '101,173',\n",
       " '158,845',\n",
       " '499,271',\n",
       " '90,532',\n",
       " '115,635',\n",
       " '323,728',\n",
       " '96,971',\n",
       " '184,289',\n",
       " '60,240',\n",
       " '14,821',\n",
       " '106,412',\n",
       " '114,943',\n",
       " '114,701',\n",
       " '30,802',\n",
       " '216,963',\n",
       " '112,518',\n",
       " '116,800',\n",
       " '67,246',\n",
       " '90,781',\n",
       " '156,428',\n",
       " '22,564',\n",
       " '165,450',\n",
       " '149,320',\n",
       " '541,216',\n",
       " '60,463',\n",
       " '43,577',\n",
       " '53,857',\n",
       " '161,135',\n",
       " '34,088',\n",
       " '182,253']"
      ]
     },
     "execution_count": 182,
     "metadata": {},
     "output_type": "execute_result"
    }
   ],
   "source": [
    "#scraping runtime from tags\n",
    "for i in vote:\n",
    "    votes=i.text.replace(\"\\n\",\" \")\n",
    "    Votes.append(votes)\n",
    "Votes"
   ]
  },
  {
   "cell_type": "code",
   "execution_count": 183,
   "metadata": {},
   "outputs": [
    {
     "name": "stdout",
     "output_type": "stream",
     "text": [
      "100 100 100 100 100 100\n"
     ]
    }
   ],
   "source": [
    "#printing lenghts\n",
    "print(len(Name),len(Year_span),len(Genre),len(Runtime),len(Ratings),len(Votes))"
   ]
  },
  {
   "cell_type": "code",
   "execution_count": 184,
   "metadata": {},
   "outputs": [],
   "source": [
    "#creating a dataframe\n",
    "Series=pd.DataFrame({})\n",
    "Series['Name']=Name\n",
    "Series['Year_span']=Year_span\n",
    "Series['Genre']=Genre\n",
    "Series['Runtime']=Runtime\n",
    "Series['Ratings']=Ratings\n",
    "Series['Votes']=Votes"
   ]
  },
  {
   "cell_type": "code",
   "execution_count": 185,
   "metadata": {},
   "outputs": [
    {
     "data": {
      "text/html": [
       "<div>\n",
       "<style scoped>\n",
       "    .dataframe tbody tr th:only-of-type {\n",
       "        vertical-align: middle;\n",
       "    }\n",
       "\n",
       "    .dataframe tbody tr th {\n",
       "        vertical-align: top;\n",
       "    }\n",
       "\n",
       "    .dataframe thead th {\n",
       "        text-align: right;\n",
       "    }\n",
       "</style>\n",
       "<table border=\"1\" class=\"dataframe\">\n",
       "  <thead>\n",
       "    <tr style=\"text-align: right;\">\n",
       "      <th></th>\n",
       "      <th>Name</th>\n",
       "      <th>Year_span</th>\n",
       "      <th>Genre</th>\n",
       "      <th>Runtime</th>\n",
       "      <th>Ratings</th>\n",
       "      <th>Votes</th>\n",
       "    </tr>\n",
       "  </thead>\n",
       "  <tbody>\n",
       "    <tr>\n",
       "      <th>0</th>\n",
       "      <td>Game of Thrones</td>\n",
       "      <td>(2011–2019)</td>\n",
       "      <td>Action, Adventure, Drama</td>\n",
       "      <td>57 min</td>\n",
       "      <td>9.3</td>\n",
       "      <td>1,769,444</td>\n",
       "    </tr>\n",
       "    <tr>\n",
       "      <th>1</th>\n",
       "      <td>Stranger Things</td>\n",
       "      <td>(2016– )</td>\n",
       "      <td>Drama, Fantasy, Horror</td>\n",
       "      <td>51 min</td>\n",
       "      <td>8.7</td>\n",
       "      <td>821,811</td>\n",
       "    </tr>\n",
       "    <tr>\n",
       "      <th>2</th>\n",
       "      <td>The Walking Dead</td>\n",
       "      <td>(2010– )</td>\n",
       "      <td>Drama, Horror, Thriller</td>\n",
       "      <td>44 min</td>\n",
       "      <td>8.2</td>\n",
       "      <td>853,156</td>\n",
       "    </tr>\n",
       "    <tr>\n",
       "      <th>3</th>\n",
       "      <td>13 Reasons Why</td>\n",
       "      <td>(2017–2020)</td>\n",
       "      <td>Drama, Mystery, Thriller</td>\n",
       "      <td>60 min</td>\n",
       "      <td>7.6</td>\n",
       "      <td>256,134</td>\n",
       "    </tr>\n",
       "    <tr>\n",
       "      <th>4</th>\n",
       "      <td>The 100</td>\n",
       "      <td>(2014–2020)</td>\n",
       "      <td>Drama, Mystery, Sci-Fi</td>\n",
       "      <td>43 min</td>\n",
       "      <td>7.6</td>\n",
       "      <td>216,372</td>\n",
       "    </tr>\n",
       "    <tr>\n",
       "      <th>...</th>\n",
       "      <td>...</td>\n",
       "      <td>...</td>\n",
       "      <td>...</td>\n",
       "      <td>...</td>\n",
       "      <td>...</td>\n",
       "      <td>...</td>\n",
       "    </tr>\n",
       "    <tr>\n",
       "      <th>95</th>\n",
       "      <td>Reign</td>\n",
       "      <td>(2013–2017)</td>\n",
       "      <td>Drama, Fantasy</td>\n",
       "      <td>42 min</td>\n",
       "      <td>7.5</td>\n",
       "      <td>43,577</td>\n",
       "    </tr>\n",
       "    <tr>\n",
       "      <th>96</th>\n",
       "      <td>A Series of Unfortunate Events</td>\n",
       "      <td>(2017–2019)</td>\n",
       "      <td>Adventure, Comedy, Drama</td>\n",
       "      <td>50 min</td>\n",
       "      <td>7.8</td>\n",
       "      <td>53,857</td>\n",
       "    </tr>\n",
       "    <tr>\n",
       "      <th>97</th>\n",
       "      <td>Criminal Minds</td>\n",
       "      <td>(2005–2020)</td>\n",
       "      <td>Crime, Drama, Mystery</td>\n",
       "      <td>42 min</td>\n",
       "      <td>8.1</td>\n",
       "      <td>161,135</td>\n",
       "    </tr>\n",
       "    <tr>\n",
       "      <th>98</th>\n",
       "      <td>Scream: The TV Series</td>\n",
       "      <td>(2015–2019)</td>\n",
       "      <td>Crime, Drama, Horror</td>\n",
       "      <td>45 min</td>\n",
       "      <td>7.2</td>\n",
       "      <td>34,088</td>\n",
       "    </tr>\n",
       "    <tr>\n",
       "      <th>99</th>\n",
       "      <td>The Haunting of Hill House</td>\n",
       "      <td>(2018)</td>\n",
       "      <td>Drama, Horror, Mystery</td>\n",
       "      <td>572 min</td>\n",
       "      <td>8.6</td>\n",
       "      <td>182,253</td>\n",
       "    </tr>\n",
       "  </tbody>\n",
       "</table>\n",
       "<p>100 rows × 6 columns</p>\n",
       "</div>"
      ],
      "text/plain": [
       "                              Name    Year_span                     Genre  \\\n",
       "0                  Game of Thrones  (2011–2019)  Action, Adventure, Drama   \n",
       "1                  Stranger Things     (2016– )    Drama, Fantasy, Horror   \n",
       "2                 The Walking Dead     (2010– )   Drama, Horror, Thriller   \n",
       "3                   13 Reasons Why  (2017–2020)  Drama, Mystery, Thriller   \n",
       "4                          The 100  (2014–2020)    Drama, Mystery, Sci-Fi   \n",
       "..                             ...          ...                       ...   \n",
       "95                           Reign  (2013–2017)            Drama, Fantasy   \n",
       "96  A Series of Unfortunate Events  (2017–2019)  Adventure, Comedy, Drama   \n",
       "97                  Criminal Minds  (2005–2020)     Crime, Drama, Mystery   \n",
       "98           Scream: The TV Series  (2015–2019)      Crime, Drama, Horror   \n",
       "99      The Haunting of Hill House       (2018)    Drama, Horror, Mystery   \n",
       "\n",
       "    Runtime Ratings      Votes  \n",
       "0    57 min     9.3  1,769,444  \n",
       "1    51 min     8.7    821,811  \n",
       "2    44 min     8.2    853,156  \n",
       "3    60 min     7.6    256,134  \n",
       "4    43 min     7.6    216,372  \n",
       "..      ...     ...        ...  \n",
       "95   42 min     7.5     43,577  \n",
       "96   50 min     7.8     53,857  \n",
       "97   42 min     8.1    161,135  \n",
       "98   45 min     7.2     34,088  \n",
       "99  572 min     8.6    182,253  \n",
       "\n",
       "[100 rows x 6 columns]"
      ]
     },
     "execution_count": 185,
     "metadata": {},
     "output_type": "execute_result"
    }
   ],
   "source": [
    "Series"
   ]
  },
  {
   "cell_type": "code",
   "execution_count": 186,
   "metadata": {},
   "outputs": [],
   "source": [
    "#converting into csv format\n",
    "Series.to_csv(\"Series.csv\")"
   ]
  },
  {
   "cell_type": "code",
   "execution_count": 187,
   "metadata": {},
   "outputs": [],
   "source": [
    "#closing the driver\n",
    "driver.close()"
   ]
  },
  {
   "cell_type": "code",
   "execution_count": 207,
   "metadata": {},
   "outputs": [],
   "source": [
    "#closing the driver\n",
    "driver.close()"
   ]
  }
 ],
 "metadata": {
  "kernelspec": {
   "display_name": "Python 3",
   "language": "python",
   "name": "python3"
  },
  "language_info": {
   "codemirror_mode": {
    "name": "ipython",
    "version": 3
   },
   "file_extension": ".py",
   "mimetype": "text/x-python",
   "name": "python",
   "nbconvert_exporter": "python",
   "pygments_lexer": "ipython3",
   "version": "3.6.2"
  }
 },
 "nbformat": 4,
 "nbformat_minor": 4
}
